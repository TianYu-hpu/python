{
 "cells": [
  {
   "cell_type": "code",
   "execution_count": null,
   "metadata": {},
   "outputs": [],
   "source": [
    "class Maleguests:\n",
    "    def __init__(self,name,age,city):\n",
    "        print(\"各位女嘉宾好\")\n",
    "        self.name = name\n",
    "        self.age = age\n",
    "        self.city = city\n",
    "        \n",
    "    def sayHi(self):\n",
    "        print(\"我叫%s\"%self.name)\n",
    "        print(\"我今年%d岁\"%self.age)\n",
    "        print(\"我来自%s\"%self.city)\n",
    "zhangsan = Maleguests('张三',28,'广州')\n",
    "zhangsan.sayHi()\n",
    "lisi = Maleguests('李四',26,'上海')\n",
    "lisi.sayHi()"
   ]
  }
 ],
 "metadata": {
  "kernelspec": {
   "display_name": "Python 3",
   "language": "python",
   "name": "python3"
  },
  "language_info": {
   "codemirror_mode": {
    "name": "ipython",
    "version": 3
   },
   "file_extension": ".py",
   "mimetype": "text/x-python",
   "name": "python",
   "nbconvert_exporter": "python",
   "pygments_lexer": "ipython3",
   "version": "3.7.7"
  }
 },
 "nbformat": 4,
 "nbformat_minor": 4
}
