{
 "cells": [
  {
   "cell_type": "code",
   "execution_count": null,
   "metadata": {},
   "outputs": [],
   "source": [
    "import math\n",
    "class Program:\n",
    "        def __init__(self):\n",
    "            self.key = 1\n",
    "        \n",
    "        # 工时计算\n",
    "        def BOSS_input(self):\n",
    "            # 设置默认参数\n",
    "            self.types = int(input('请选择需要计算的工作：1-配送次数计算，2-快递员数计算，请选择'))\n",
    "            self.sizes = float(input('请输入项目大小：1代表标准，还可以输入其他倍数或小数'))\n",
    "            if self.types ==1:\n",
    "                self.others = int(input('请输入投入的快递员数，请输入整数'))\n",
    "            else:\n",
    "                self.others = int(input('请输入快递次数，请输入整数'))\n",
    "        \n",
    "         #计算工作量\n",
    "        def calculate_job(self):\n",
    "            print('计算结果如下')\n",
    "            if self.types ==1:\n",
    "                #工时计算过程\n",
    "                self.num = math.ceil(round((self.sizes * 100 / 20/self.others),2))\n",
    "                print('%.1f个标准集装箱大的快递项目，使用%d位快递员配送，则需要配送次数%d次' %(self.sizes,self.others,self.num))\n",
    "            elif self.types==2:\n",
    "                #人力计算过程\n",
    "                self.person = math.ceil(round((self.sizes *100 /20/self.others),2))\n",
    "                print('%.1f个标准集装箱大的快递项目，%d次配送完毕，则需要快递员数：%d位' %(self.sizes,self.others,self.person))\n",
    "        def again(self):\n",
    "            num = input('是否继续计算？继续请输入y，输入其他键将结束程序。')\n",
    "            if num != 'y':\n",
    "                # 如果用户不输入'y'，则把key赋值为0\n",
    "                self.key = 0  \n",
    "        \n",
    "        \n",
    "        def res(self):\n",
    "            print('欢迎BOSS使用配送计算小程序')\n",
    "            while self.key == 1:\n",
    "                self.BOSS_input()\n",
    "                self.calculate_job()\n",
    "                self.again()\n",
    "            print('工作辛苦。')\n",
    "            \n",
    "pro= Program()\n",
    "pro.res()"
   ]
  }
 ],
 "metadata": {
  "kernelspec": {
   "display_name": "Python 3",
   "language": "python",
   "name": "python3"
  },
  "language_info": {
   "codemirror_mode": {
    "name": "ipython",
    "version": 3
   },
   "file_extension": ".py",
   "mimetype": "text/x-python",
   "name": "python",
   "nbconvert_exporter": "python",
   "pygments_lexer": "ipython3",
   "version": "3.7.7"
  }
 },
 "nbformat": 4,
 "nbformat_minor": 4
}
