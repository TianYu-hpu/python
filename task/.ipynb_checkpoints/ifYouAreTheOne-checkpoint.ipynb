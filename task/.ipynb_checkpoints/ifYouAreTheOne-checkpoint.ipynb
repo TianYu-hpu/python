{
 "cells": [
  {
   "cell_type": "code",
   "execution_count": null,
   "metadata": {},
   "outputs": [],
   "source": [
    "class Maleguests:\n",
    "    sex = \"M\"\n",
    "    marriage = \"False\"\n",
    "    def hello(self):\n",
    "        print(\"各位女嘉宾好\")\n",
    "zhangsan = Maleguests()\n",
    "print(zhangsan.sex)\n",
    "print(zhangsan.marriage)\n",
    "zhangsan.hello()"
   ]
  }
 ],
 "metadata": {
  "kernelspec": {
   "display_name": "Python 3",
   "language": "python",
   "name": "python3"
  },
  "language_info": {
   "codemirror_mode": {
    "name": "ipython",
    "version": 3
   },
   "file_extension": ".py",
   "mimetype": "text/x-python",
   "name": "python",
   "nbconvert_exporter": "python",
   "pygments_lexer": "ipython3",
   "version": "3.7.7"
  }
 },
 "nbformat": 4,
 "nbformat_minor": 4
}
