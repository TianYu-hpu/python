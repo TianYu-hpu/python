{
 "cells": [
  {
   "cell_type": "code",
   "execution_count": 2,
   "metadata": {},
   "outputs": [
    {
     "name": "stdout",
     "output_type": "stream",
     "text": [
      "hiPython\n",
      "hi  Python\n",
      "hi!Python\n"
     ]
    }
   ],
   "source": [
    "# print如何不换行\n",
    "print('hi',end='')\n",
    "print('Python')\n",
    "\n",
    "print('hi',end='  ')\n",
    "print('Python')\n",
    "\n",
    "print('hi',end='!')\n",
    "print('Python')"
   ]
  },
  {
   "cell_type": "code",
   "execution_count": 8,
   "metadata": {},
   "outputs": [
    {
     "name": "stdout",
     "output_type": "stream",
     "text": [
      "汉堡选择：香辣鸡腿堡\n",
      "饮料选择：可乐\n",
      "小食选择：薯条\n",
      "\n",
      "汉堡选择：老北京鸡肉卷\n",
      "饮料选择：雪碧\n",
      "小食选择：鸡翅\n",
      "\n",
      "汉堡选择：培根烤鸡腿堡\n",
      "饮料选择：橙汁\n",
      "小食选择：蛋挞\n",
      "\n"
     ]
    }
   ],
   "source": [
    "def menu(hamburger, drink, snacks):\n",
    "    print('汉堡选择：' + hamburger)\n",
    "    print('饮料选择：' + drink)\n",
    "    print('小食选择：' + snacks + '\\n')\n",
    "\n",
    "menu('香辣鸡腿堡','可乐','薯条')\n",
    "menu('老北京鸡肉卷','雪碧','鸡翅')\n",
    "menu('培根烤鸡腿堡','橙汁','蛋挞')"
   ]
  },
  {
   "cell_type": "code",
   "execution_count": 9,
   "metadata": {},
   "outputs": [
    {
     "name": "stdout",
     "output_type": "stream",
     "text": [
      "汉堡选择：香辣鸡腿堡\n",
      "饮料选择：可乐\n",
      "小食选择：蛋挞\n",
      "\n",
      "汉堡选择：老北京鸡肉卷\n",
      "饮料选择：雪碧\n",
      "小食选择：蛋挞\n",
      "\n",
      "汉堡选择：培根烤鸡腿堡\n",
      "饮料选择：橙汁\n",
      "小食选择：蛋挞\n",
      "\n"
     ]
    }
   ],
   "source": [
    "def menu(hamburger, drink, snacks='蛋挞'):\n",
    "    print('汉堡选择：' + hamburger)\n",
    "    print('饮料选择：' + drink)\n",
    "    print('小食选择：' + snacks + '\\n')\n",
    "\n",
    "menu('香辣鸡腿堡','可乐')\n",
    "menu('老北京鸡肉卷','雪碧')\n",
    "menu('培根烤鸡腿堡','橙汁')"
   ]
  },
  {
   "cell_type": "code",
   "execution_count": 7,
   "metadata": {},
   "outputs": [
    {
     "name": "stdout",
     "output_type": "stream",
     "text": [
      "汉堡选择：香辣鸡腿堡\n",
      "饮料选择：可乐\n",
      "小食选择：蛋挞\n",
      "\n",
      "汉堡选择：老北京鸡肉卷\n",
      "饮料选择：雪碧\n",
      "小食选择：蛋挞\n",
      "\n",
      "汉堡选择：培根烤鸡腿堡\n",
      "饮料选择：橙汁\n",
      "小食选择：薯条\n",
      "\n"
     ]
    }
   ],
   "source": [
    "def menu(hamburger, drink, snacks='蛋挞'):\n",
    "    print('汉堡选择：' + hamburger)\n",
    "    print('饮料选择：' + drink)\n",
    "    print('小食选择：' + snacks + '\\n')\n",
    "\n",
    "menu('香辣鸡腿堡','可乐')\n",
    "menu('老北京鸡肉卷','雪碧')\n",
    "menu('培根烤鸡腿堡','橙汁','薯条')"
   ]
  },
  {
   "cell_type": "code",
   "execution_count": 10,
   "metadata": {},
   "outputs": [
    {
     "name": "stdout",
     "output_type": "stream",
     "text": [
      "('香辣鸡腿堡', '可乐')\n",
      "('卤肉饭', '老北京鸡肉卷', '雪碧', '可乐')\n",
      "('烤串', '火锅', '培根烤鸡腿堡', '橙汁', '薯条', '甜筒')\n",
      "<class 'tuple'>\n",
      "<class 'tuple'>\n",
      "<class 'tuple'>\n"
     ]
    }
   ],
   "source": [
    "def menu(*food):\n",
    "    return food\n",
    "\n",
    "order1 =  menu('香辣鸡腿堡','可乐')\n",
    "order2 =  menu('卤肉饭','老北京鸡肉卷','雪碧','可乐')\n",
    "order3 =  menu('烤串','火锅','培根烤鸡腿堡','橙汁','薯条','甜筒')\n",
    "print(order1)\n",
    "print(order2)\n",
    "print(order3)\n",
    "print(type(order1))\n",
    "print(type(order2))\n",
    "print(type(order3))"
   ]
  },
  {
   "cell_type": "code",
   "execution_count": 12,
   "metadata": {},
   "outputs": [
    {
     "name": "stdout",
     "output_type": "stream",
     "text": [
      "点餐内容：香辣鸡腿堡\n",
      "点餐内容：可乐\n",
      "点餐内容：卤肉饭\n",
      "点餐内容：老北京鸡肉卷\n",
      "点餐内容：雪碧\n",
      "点餐内容：可乐\n",
      "点餐内容：烤串\n",
      "点餐内容：火锅\n",
      "点餐内容：培根烤鸡腿堡\n",
      "点餐内容：橙汁\n",
      "点餐内容：薯条\n",
      "点餐内容：甜筒\n"
     ]
    }
   ],
   "source": [
    "def menu(*food):\n",
    "    for i in food:\n",
    "        print('点餐内容：'+i)\n",
    "\n",
    "menu('香辣鸡腿堡','可乐')\n",
    "menu('卤肉饭','老北京鸡肉卷','雪碧','可乐')\n",
    "menu('烤串','火锅','培根烤鸡腿堡','橙汁','薯条','甜筒')"
   ]
  },
  {
   "cell_type": "code",
   "execution_count": 13,
   "metadata": {},
   "outputs": [
    {
     "ename": "NameError",
     "evalue": "name 'objects' is not defined",
     "output_type": "error",
     "traceback": [
      "\u001b[1;31m---------------------------------------------------------------------------\u001b[0m",
      "\u001b[1;31mNameError\u001b[0m                                 Traceback (most recent call last)",
      "\u001b[1;32m<ipython-input-13-bead574a2431>\u001b[0m in \u001b[0;36m<module>\u001b[1;34m\u001b[0m\n\u001b[1;32m----> 1\u001b[1;33m \u001b[0mprint\u001b[0m\u001b[1;33m(\u001b[0m\u001b[1;33m*\u001b[0m\u001b[0mobjects\u001b[0m\u001b[1;33m,\u001b[0m \u001b[0msep\u001b[0m \u001b[1;33m=\u001b[0m \u001b[1;34m' '\u001b[0m\u001b[1;33m,\u001b[0m \u001b[0mend\u001b[0m \u001b[1;33m=\u001b[0m \u001b[1;34m'\\n'\u001b[0m\u001b[1;33m,\u001b[0m \u001b[0mfile\u001b[0m \u001b[1;33m=\u001b[0m \u001b[0msys\u001b[0m\u001b[1;33m.\u001b[0m\u001b[0mstdout\u001b[0m\u001b[1;33m,\u001b[0m \u001b[0mflush\u001b[0m \u001b[1;33m=\u001b[0m \u001b[1;32mFalse\u001b[0m\u001b[1;33m)\u001b[0m\u001b[1;33m\u001b[0m\u001b[1;33m\u001b[0m\u001b[0m\n\u001b[0m",
      "\u001b[1;31mNameError\u001b[0m: name 'objects' is not defined"
     ]
    }
   ],
   "source": [
    "# print()函数中第一个参数objects带了*号，是不定长参数——这也就是print()函数可以传递任意数量的参数。\n",
    "# print(*objects, sep = ' ', end = '\\n', file = sys.stdout, flush = False)"
   ]
  },
  {
   "cell_type": "code",
   "execution_count": null,
   "metadata": {},
   "outputs": [],
   "source": [
    "import random \n",
    "foodten = ['蛋挞','鸡翅','薯条']\n",
    "def order(money):\n",
    "    if money > 99:\n",
    "        a = random.choice(foodten)\n",
    "        return a,'冰激淋'\n",
    "    elif 69 < money < 99:\n",
    "        b = random.choice (foodten)\n",
    "        return b\n",
    "    else:\n",
    "        return '不好意思，您的消费达不到优惠活动'\n",
    "print(order(50))\n",
    "print(order(70))\n",
    "print(order(130))"
   ]
  }
 ],
 "metadata": {
  "kernelspec": {
   "display_name": "Python 3",
   "language": "python",
   "name": "python3"
  },
  "language_info": {
   "codemirror_mode": {
    "name": "ipython",
    "version": 3
   },
   "file_extension": ".py",
   "mimetype": "text/x-python",
   "name": "python",
   "nbconvert_exporter": "python",
   "pygments_lexer": "ipython3",
   "version": "3.7.7"
  }
 },
 "nbformat": 4,
 "nbformat_minor": 4
}
