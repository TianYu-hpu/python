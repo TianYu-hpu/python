{
 "cells": [
  {
   "cell_type": "markdown",
   "metadata": {},
   "source": [
    "# 跳出循环\n",
    "上一节课，我们学习了for循环与while循环。\n",
    "![for](./picture/4-1.jpg)\n",
    "![while](./picture/4-2.jpg)\n",
    "也对比了for循环与while循环的区别    \n",
    "![循环区别](./picture/4-4.jpg)\n",
    "这节课的任务是更加深入的学习循环语句的用法。    \n",
    "![区别](./picture/4-4.jpg)\n",
    "接上节课讲到：    \n",
    "![while](./picture/4-5.jpg)\n",
    "之前讲到while循环后面a<4是while循环的设定条件，只有满足条件时，循环才能执行。    \n",
    "在上面这个例子中，执行顺序是：    \n",
    "1、先定义变量a, 将0赋值给a。     \n",
    "2、进入while循环设定条件a<4,计算机满足条件就会执行，江湖术语，满足条件就为真，也叫条件为True，之后进入循环体。    \n",
    "3、进入循环体后，执行a = a+1, print(a)， 一次又一次的执行，直到a=4时    \n",
    "4、已经不满足a<4的条件了，此时条件为假，也就是条件为False, 这段循环就结束了。    \n",
    "那这节课，我们来探究一下这个设定条件的True与False。    \n",
    "用数据做判断：布尔值    \n",
    "在while循环之前，我们学过if…elif…else语句，这其中也涉及到用数据做判断。   \n",
    "![条件](./picture/4-6.jpg)\n",
    "但是，if语句中的条件与while语句中的条件有区别：if语句中的条件只判断一次，while语句中的判断会一直循环执行。    \n",
    "这个“判断”的过程，在计算机中是如何运行的呢？    \n",
    "计算机的判断，只有两种结果，要么是True(条件为真), 要么为False（条件为假）。True与False叫做布尔值，这个判断真假的过程，叫做【布尔计算】。\n",
    "先来个例子，体会一下。    \n",
    "运行一下下面代码, 观察终端里的效果。    "
   ]
  },
  {
   "cell_type": "code",
   "execution_count": 3,
   "metadata": {},
   "outputs": [
    {
     "name": "stdout",
     "output_type": "stream",
     "text": [
      "True\n",
      "False\n",
      "True\n",
      "False\n"
     ]
    }
   ],
   "source": [
    "print(3<6)\n",
    "print(3>6)\n",
    "print('北京'=='北京')  \n",
    "print('北京'=='首都')"
   ]
  },
  {
   "cell_type": "markdown",
   "metadata": {},
   "source": [
    "print() 语句中的计算就是【布尔计算】，终端上要么显示True，要么显示False。    \n",
    "print(3<6)与print(3>6)这两句很简单啦，判断大小。    \n",
    "print('北京'=='北京') 与 print('北京'=='首都')这是比较字符串。\n",
    "两个字符串’北京‘相等，结果显示True, 拿‘北京’与‘首都’做对比，两个字符串不相等，但是用的是“==“号，所以，显示False\n",
    "只有当条件为False时，if与while才会结束循环执行后面的语句。    \n",
    "运行一下下面代码, 观察终端里的效果。    "
   ]
  },
  {
   "cell_type": "code",
   "execution_count": 5,
   "metadata": {},
   "outputs": [],
   "source": [
    "while False:\n",
    "    print('我是Fasle,打印不出来')\n",
    "    "
   ]
  },
  {
   "cell_type": "markdown",
   "metadata": {},
   "source": [
    "你会发现终端里什么也不会打印。    \n",
    "这是因为while循环执行，必须要while后的条件为“真“，而【布尔值】False本身就为假，所以这个循环一次都不会执行。    \n",
    "再运行下下面代码，观察终端里的效果。    "
   ]
  },
  {
   "cell_type": "code",
   "execution_count": 7,
   "metadata": {},
   "outputs": [],
   "source": [
    "while 3>6:\n",
    "    print('我是Fasle,打印不出来')"
   ]
  },
  {
   "cell_type": "markdown",
   "metadata": {},
   "source": [
    "它也不会运行，因为3>6这个判断不对呀，它为假，就不会执行啊。   \n",
    "那我们换一换，把3>6换成3<6，来运行一下。（注意：点击运行后，鼠标点击终端区域，按【Ctrl+C】来强制结束运行,报错后跳过本题）"
   ]
  },
  {
   "cell_type": "code",
   "execution_count": null,
   "metadata": {},
   "outputs": [],
   "source": [
    "import time\n",
    "while 3>6:\n",
    "    time.sleep(1)\n",
    "    print('打印出来')"
   ]
  },
  {
   "cell_type": "markdown",
   "metadata": {},
   "source": [
    "你会发现，终端里会一直打印    \n",
    "小K来解释一下这是为什么？    \n",
    "这是因为3<6这个判断是正确的， 也就是这个条件为True，代表着条件永远正确。所以代码就陷入了死循环。    \n",
    "我们做一个总结。    \n",
    "![计算机用数据做判断的过程](./picture/4-7.jpg)\n",
    "现在我们已经知道了什么是布尔值与布尔运算。接着我们来看一下布尔运算的三种形式。    \n",
    "### 两个数值做比较 \n",
    "![布尔运算的三种方式](./picture/4-8.jpg)\n",
    "刚才3>6与3<6都属于两个数值做比较。    \n",
    "用两个数值做比较的【布尔运算】，主要包含以下情况：    \n",
    "![比较运算符](./picture/4-9.jpg)\n",
    "这是几种在判断中常用的符号。\n",
    "再区分一次\"=\"表示赋值，\"==\"才表示相等。\n",
    "接下来看布尔运算的第二种方式：直接用数值做运算。\n",
    "### 直接用数值做运算    \n",
    "![布尔运算的三种方式](./picture/4-10.jpg)\n",
    "运行一下下面代码, 观察终端里的效果。(注意：点击运行后，鼠标点击终端区域，按【Ctrl+C】来强制结束运行，报错后跳过本题)"
   ]
  },
  {
   "cell_type": "code",
   "execution_count": null,
   "metadata": {},
   "outputs": [],
   "source": [
    "import time\n",
    "while 1:\n",
    "    time.sleep(1)\n",
    "    print('首都')"
   ]
  },
  {
   "cell_type": "markdown",
   "metadata": {},
   "source": [
    "你会发现，又陷入死循环了。    \n",
    "这段代码很怪，while后面的条件只写了一个数字1。    \n",
    "其实，在这里整数1是作为一个判断条件，被判断为真（True），这就是数值作为条件， 被判断真假的情况。    \n",
    "在Python江湖中已经设定好什么数据为真，什么数据为假。假的是有限的，那么除了假的，就都是真的。请看下图：    \n",
    "![真假判断](./picture/4-11.jpg)\n",
    "这个表中左侧的都是假的，比如False、0、‘’空字符串等等。 其余的都是真的了。    \n",
    "观察下面代码，然后回答问题。    "
   ]
  },
  {
   "cell_type": "code",
   "execution_count": 9,
   "metadata": {},
   "outputs": [
    {
     "name": "stdout",
     "output_type": "stream",
     "text": [
      "北京\n"
     ]
    }
   ],
   "source": [
    "if '开心':\n",
    "    print('北京')\n",
    "if 0:\n",
    "    print('首都')"
   ]
  },
  {
   "cell_type": "markdown",
   "metadata": {},
   "source": [
    "选择题    \n",
    "请问这段程序执行后，终端会显示什么？    \n",
    "A：什么都不显示。    \n",
    "B：显示“北京“”首都“。    \n",
    "C：只显示“北京“。    \n",
    "恭喜你答对了，选C。 if ‘开心‘,条件为真，会执行print('北京'); if 0条件为假，不执行print('首都')    \n",
    "下面小K送大家一个宝盒，bool()函数，bool()函数用来判断一个数据为真还是为假。有点和type()相似吧。    \n",
    "先来个试验，运行一下下面代码, 观察终端里的效果。    "
   ]
  },
  {
   "cell_type": "code",
   "execution_count": 11,
   "metadata": {},
   "outputs": [
    {
     "name": "stdout",
     "output_type": "stream",
     "text": [
      "以下数据判断结果都是【真】：\n",
      "True\n",
      "True\n",
      "True\n",
      "以下数据判断结果都是【假】：\n",
      "False\n",
      "False\n",
      "False\n",
      "False\n"
     ]
    }
   ],
   "source": [
    "# 请阅读代码后再直接运行\n",
    "\n",
    "\n",
    "print('以下数据判断结果都是【真】：')\n",
    "print(bool(True))\n",
    "print(bool(10))\n",
    "print(bool('xyz'))\n",
    "\n",
    "print('以下数据判断结果都是【假】：')\n",
    "print(bool(False))\n",
    "print(bool(0))\n",
    "print(bool(''))\n",
    "print(bool(None))"
   ]
  },
  {
   "cell_type": "markdown",
   "metadata": {},
   "source": [
    "现在，你懂的直接用数值做布尔运算是怎么一回事了吧。    \n",
    "下面，来看一下第三种情况。    \n",
    "布尔值之间的运算    \n",
    "![布尔运算的三种方式](./picture/4-12.jpg)\n",
    "你会接触到and、or、not、in、not in五种运算。    \n",
    "先运行一下下面代码, 观察终端里的效果。    "
   ]
  },
  {
   "cell_type": "code",
   "execution_count": 13,
   "metadata": {
    "scrolled": true
   },
   "outputs": [
    {
     "name": "stdout",
     "output_type": "stream",
     "text": [
      "以下是and运算\n",
      "False\n",
      "以下是or运算\n",
      "True\n"
     ]
    }
   ],
   "source": [
    "# 请先阅读代码，然后直接运行\n",
    "a = 5\n",
    "b = -5\n",
    "\n",
    "print('以下是and运算')\n",
    "if a==5 and b==5:    # 【b实际上是-5】\n",
    "    print('True')\n",
    "else:\n",
    "    print('False')\n",
    "\n",
    "print('以下是or运算')\n",
    "if a==5 or b==5:  # 【b实际上是-5】\n",
    "    print('True')\n",
    "else:\n",
    "    print('False')"
   ]
  },
  {
   "cell_type": "markdown",
   "metadata": {},
   "source": [
    "看到终端里面的结果了吗？    \n",
    "![结果](./picture/4-13.jpg)\n",
    "a==5 and b==5的意思是【a==5并且b==5】, 只有两个条件都为真的时候，才能判断为True。 而a==5 or b==5的意思是【a==5 或者 b==5】这两个条件只要满足其中一个，就判断为True。    \n",
    "来，总结以下and与or。    \n",
    "![and运算](./picture/4-14.jpg)\n",
    "![or运算](./picture/4-15.jpg)"
   ]
  },
  {
   "cell_type": "code",
   "execution_count": 15,
   "metadata": {},
   "outputs": [
    {
     "name": "stdout",
     "output_type": "stream",
     "text": [
      "False\n"
     ]
    }
   ],
   "source": [
    "x=6\n",
    "y=-5\n",
    "z=0\n",
    "q=10\n",
    "if x<y and z<q:\n",
    "    print('True')\n",
    "else:\n",
    "    print('False')"
   ]
  },
  {
   "cell_type": "markdown",
   "metadata": {},
   "source": [
    "选择题    \n",
    "观察上面代码，如果运行代码，终端中的结果是？    \n",
    "A：Ture    \n",
    "B：False    \n",
    "恭喜你答对了，选B。x    \n",
    "接下来我们看一下not， not就是相反的意思。not False就是True, not True就是False。    \n",
    "![not](./picture/4-16.jpg)\n",
    "最后，我们看一下【in】与【not in】    \n",
    "【in】的意思“判断一个元素是否在一堆数据之中”，【not in】相反。    \n",
    "![not in](./picture/4-17.jpg)\n",
    "你应该能直接看出，1在list中，10与0不在list中。    \n",
    "运行一下下面代码, 观察终端里的效果。    "
   ]
  },
  {
   "cell_type": "code",
   "execution_count": 18,
   "metadata": {},
   "outputs": [
    {
     "name": "stdout",
     "output_type": "stream",
     "text": [
      "in 计算\n",
      "True\n",
      "False\n",
      "False\n"
     ]
    }
   ],
   "source": [
    "# 请先阅读代码，然后直接运行\n",
    "list = [1,2,3,4]\n",
    "\n",
    "a = 1\n",
    "b = 10\n",
    "c = 0\n",
    "print(\"in 计算\")\n",
    "print(bool(a in list))\n",
    "print(bool(b in list))\n",
    "print(bool(c in list))"
   ]
  },
  {
   "cell_type": "markdown",
   "metadata": {},
   "source": [
    "是不是和我们猜的一样？    \n",
    "到这里，我们学习了5种布尔值的运算方式。做个总结    \n",
    "![两个数值做比较](./picture/4-18.jpg)\n",
    "![直接用数值做运算](./picture/4-19.jpg)\n",
    "![布尔值之间的运算](./picture/4-20.jpg)\n",
    "好了，布尔值的运算学完了， 我们下面学习一下四种新的语句。    \n",
    "# 四种新语句\n",
    "这四种新语句可以与循环搭配使用，能够让循环有不同的效果。    \n",
    "### break语句\n",
    "![四种语句](./picture/4-21.jpg)\n",
    "break语句的意思就是“打破”，在Python江湖中用来结束循环的。    \n",
    "运行一下下面代码, 观察终端里的效果。    "
   ]
  },
  {
   "cell_type": "code",
   "execution_count": 19,
   "metadata": {},
   "outputs": [
    {
     "name": "stdout",
     "output_type": "stream",
     "text": [
      "1\n",
      "2\n",
      "3\n",
      "4\n",
      "5\n",
      "1\n",
      "2\n",
      "3\n",
      "4\n",
      "5\n"
     ]
    }
   ],
   "source": [
    "# 请先阅读代码，然后直接运行\n",
    "for i in range(1,10):\n",
    "    if(i>5):\n",
    "        break\n",
    "    print(i)\n",
    "\n",
    "x = 0\n",
    "while x<10:\n",
    "    if(x>4):\n",
    "        break\n",
    "    x=x+1\n",
    "    print(x)"
   ]
  },
  {
   "cell_type": "markdown",
   "metadata": {},
   "source": [
    "运行后，你会发现，本来for循环与while循环是可以从1打印到9的，结果由于break, 只能从1打印到5，这就是break的作用。在循环内使用，用来结束循环。    \n",
    "![break](./picture/4-22.jpg)\n",
    "注意好缩进哦。    \n",
    "### continue语句\n",
    "break看完之后，再看一下continue语句    \n",
    "![continue](./picture/4-23.jpg)\n",
    "continue的意思是“继续”。这个语句也是在循环内部使用的。当某个条件被满足的时候，触发continue语句，结束本次循环, 从下一次循环继续执行。    \n",
    "运行一下下面代码, 观察终端里的效果。    "
   ]
  },
  {
   "cell_type": "code",
   "execution_count": 20,
   "metadata": {},
   "outputs": [
    {
     "name": "stdout",
     "output_type": "stream",
     "text": [
      "1\n",
      "2\n",
      "3\n",
      "4\n",
      "6\n",
      "7\n",
      "8\n",
      "9\n",
      "10\n",
      "1\n",
      "2\n",
      "3\n",
      "4\n",
      "6\n",
      "7\n",
      "8\n",
      "9\n",
      "10\n"
     ]
    }
   ],
   "source": [
    "# 请先阅读代码，然后直接运行\n",
    "for i in range(1,11):\n",
    "    if i==5:\n",
    "        continue\n",
    "    print(i)\n",
    "\n",
    "x = 0\n",
    "while x<10:\n",
    "    x=x+1\n",
    "    if x==5:\n",
    "        continue\n",
    "    else:   \n",
    "        print(x)"
   ]
  },
  {
   "cell_type": "markdown",
   "metadata": {},
   "source": [
    "运行结束后，你会发现，两个循环中，都没有打印数字【5】，但是和break不同的是，数字【5】之后的内容都打印出来了。    \n",
    "这就是continue,它只能跳过本次的循环，但是这次之后的循环仍然会执行。    \n",
    "pass语句    \n",
    "![pass](./picture/4-25.jpg)\n",
    "pass很常见，就是我们理解的“跳过”。\n",
    "运行一下下面代码, 观察终端里的效果"
   ]
  },
  {
   "cell_type": "code",
   "execution_count": 52,
   "metadata": {},
   "outputs": [
    {
     "name": "stdout",
     "output_type": "stream",
     "text": [
      "请输入你的年龄:1\n",
      "你未成年，不得进入网吧\n"
     ]
    }
   ],
   "source": [
    "# 请先阅读代码，然后直接运行\n",
    "age = int(input('请输入你的年龄:'))\n",
    "if age >= 18:\n",
    "    pass\n",
    "else:\n",
    "    print('你未成年，不得进入网吧')"
   ]
  },
  {
   "cell_type": "markdown",
   "metadata": {},
   "source": [
    "这个代码的意思是：当age>=18的时候，跳过，什么都不做。其他情况age<18的时候，执行 print('你未成年，不得进入网吧')语句。    \n",
    "pass语句就是占据一个位置“什么都不做”，满足我的条件，就跳过。    \n",
    "So Easy    \n",
    "else语句    \n",
    "![else](./picture/4-26.jpg)\n",
    "else语句不仅能够在if语句中使用，还能够和循环搭配使用。    \n",
    "举一个例子：    "
   ]
  },
  {
   "cell_type": "code",
   "execution_count": 21,
   "metadata": {},
   "outputs": [
    {
     "name": "stdout",
     "output_type": "stream",
     "text": [
      "请输入0结束循环，你有3次机会:1\n",
      "请输入0结束循环，你有3次机会:1\n",
      "请输入0结束循环，你有3次机会:1\n",
      "3次循环你都错过了，else语句生效了。\n"
     ]
    }
   ],
   "source": [
    "#else语句不仅能够在if语句中使用，还能够和循环搭配使用\n",
    "for i in range(3):\n",
    "    num = int(input('请输入0结束循环，你有3次机会:'))\n",
    "    if num == 0:\n",
    "        print('你触发了break语句，导致else语句不会生效。')    \n",
    "        break\n",
    "else:\n",
    "    print('3次循环你都错过了，else语句生效了。')"
   ]
  },
  {
   "cell_type": "markdown",
   "metadata": {},
   "source": [
    "以上代码，你可以做两种尝试：    \n",
    "1、连续3次不输入0；     \n",
    "2、输入一次0跳出循环，完成一种尝试后，你可以点击【重做】按钮，再来一次尝试。    \n",
    "运行一下下面代码, 观察终端里的效果。    "
   ]
  },
  {
   "cell_type": "code",
   "execution_count": 59,
   "metadata": {},
   "outputs": [
    {
     "name": "stdout",
     "output_type": "stream",
     "text": [
      "请输入0结束循环，你有3次机会:0\n",
      "你触发了break语句，导致else语句不会生效。\n",
      "请输入0结束循环，你有3次机会:0\n",
      "你触发了break语句，导致else语句不会生效。\n"
     ]
    }
   ],
   "source": [
    "\n",
    "    \n",
    "    \n",
    "# 请先阅读代码，然后直接运行\n",
    "num=0\n",
    "while num<3:\n",
    "    n = int(input('请输入0结束循环，你有3次机会:'))\n",
    "    if n == 0:\n",
    "        print('你触发了break语句，导致else语句不会生效。')    \n",
    "        break\n",
    "    num+=1\n",
    "else:\n",
    "    print('3次循环你都错过了，else语句生效了。')"
   ]
  },
  {
   "cell_type": "markdown",
   "metadata": {},
   "source": [
    "一句话总结，当循环中没有碰到break语句，就会执行循环后面的else语句，否则就不会执行。    \n",
    "和上面一样，看一下else与while循环的搭配使用。运行一下下面代码, 观察终端里的效果    "
   ]
  },
  {
   "cell_type": "markdown",
   "metadata": {},
   "source": [
    "### 题目要求\n",
    "老爷爷设定了一个密码7，如果葫芦娃兄弟猜对了奖励苹果，请补全代码    \n",
    "### 题目讲解\n",
    "老爷爷在与葫芦娃兄弟玩一个小游戏，就是老爷爷在心里想好一个数，比如7，然后让葫芦娃兄弟猜。如果他猜的数比7小，告诉他“太小了”，如果他猜的数比7大，告诉他“太大了”。如果猜对了，给猜出来的葫芦娃一个苹果。\n",
    "### 书写代码"
   ]
  },
  {
   "cell_type": "code",
   "execution_count": 22,
   "metadata": {},
   "outputs": [
    {
     "name": "stdout",
     "output_type": "stream",
     "text": [
      "你们猜猜数字是多少:1\n",
      "你猜的太小了，重新猜猜~\n",
      "你们猜猜数字是多少:1\n",
      "你猜的太小了，重新猜猜~\n",
      "你们猜猜数字是多少:2\n",
      "你猜的太小了，重新猜猜~\n",
      "你们猜猜数字是多少:3\n",
      "你猜的太小了，重新猜猜~\n",
      "你们猜猜数字是多少:4\n",
      "你猜的太小了，重新猜猜~\n",
      "你们猜猜数字是多少:5\n",
      "你猜的太小了，重新猜猜~\n",
      "你们猜猜数字是多少:6\n",
      "你猜的太小了，重新猜猜~\n",
      "你们猜猜数字是多少:8\n",
      "你猜的太大了，重新猜猜~\n",
      "你们猜猜数字是多少:1\n",
      "你猜的太小了，重新猜猜~\n",
      "你们猜猜数字是多少:10\n",
      "你猜的太大了，重新猜猜~\n",
      "你们猜猜数字是多少:7\n",
      "正确！给你一个苹果\n"
     ]
    }
   ],
   "source": [
    "num = 7  #设定秘密数字\n",
    "while True:       \n",
    "    guess = int(input('你们猜猜数字是多少:'))   #输入猜测数字\n",
    "    if guess==num:  #数字对比\n",
    "        print('正确！给你一个苹果') \n",
    "        break\n",
    "    elif guess>num:\n",
    "        print('你猜的太大了，重新猜猜~')\n",
    "    else:\n",
    "        print('你猜的太小了，重新猜猜~')"
   ]
  },
  {
   "cell_type": "markdown",
   "metadata": {},
   "source": [
    "break、continue、pass、else都是和循环搭配使用的，也能够跳出循环。    \n",
    "到这里，我们四种语句都学完了，做个总结。    \n",
    "![](./picture/4-27.jpg)"
   ]
  },
  {
   "cell_type": "markdown",
   "metadata": {},
   "source": [
    "### 题目要求\n",
    "写一个循环，从1，2，3循环到20开始打印；当遇到3的倍数时，直接跳过，继续打印下面内容。打印结果是【1，2，4，5，7，8，10，11，13，14，16，17，19，20】\n",
    "### 题目讲解\n",
    "大家在酒桌上玩游戏，从1开始数数，凡是3的倍数，都要跳过去，不说话。\n",
    "### 书写代码"
   ]
  },
  {
   "cell_type": "code",
   "execution_count": 62,
   "metadata": {},
   "outputs": [
    {
     "name": "stdout",
     "output_type": "stream",
     "text": [
      "1\n",
      "2\n",
      "4\n",
      "5\n",
      "7\n",
      "8\n",
      "10\n",
      "11\n",
      "13\n",
      "14\n",
      "16\n",
      "17\n",
      "19\n",
      "20\n"
     ]
    }
   ],
   "source": [
    "for i in range(1,21):\n",
    "    if i%3  == 0:\n",
    "        continue\n",
    "    else:\n",
    "        print(i)"
   ]
  }
 ],
 "metadata": {
  "kernelspec": {
   "display_name": "Python 3",
   "language": "python",
   "name": "python3"
  },
  "language_info": {
   "codemirror_mode": {
    "name": "ipython",
    "version": 3
   },
   "file_extension": ".py",
   "mimetype": "text/x-python",
   "name": "python",
   "nbconvert_exporter": "python",
   "pygments_lexer": "ipython3",
   "version": "3.7.7"
  }
 },
 "nbformat": 4,
 "nbformat_minor": 4
}
