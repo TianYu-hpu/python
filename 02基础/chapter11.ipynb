{
 "cells": [
  {
   "cell_type": "markdown",
   "metadata": {},
   "source": [
    "# 继承\n",
    "我们了解到了面向对象编程的意义所在，学习了类的基本使用。   \n",
    "这节课在开始前，先回顾下上节课内容：   \n",
    "![](./picture/11-1.jpg)"
   ]
  },
  {
   "cell_type": "code",
   "execution_count": 2,
   "metadata": {},
   "outputs": [
    {
     "name": "stdout",
     "output_type": "stream",
     "text": [
      "组织语言中……\n",
      "墨镜\n",
      "我来自中国台湾\n"
     ]
    }
   ],
   "source": [
    "class Musician:    #创建类\n",
    "    glasses = \"墨镜\"   #创建类属性\n",
    "\n",
    "    def __init__(self,city):  #创建初始化方法\n",
    "        self.city = city      #赋值属性\n",
    "        print('组织语言中……')\n",
    "\n",
    "    def intr(self):      #创建类方法\n",
    "        print('我来自%s' % self.city)\n",
    "\n",
    "hebe = Musician('中国台湾')  #类实例化对象\n",
    "print(hebe.glasses)\n",
    "hebe.intr()   #调用类方法"
   ]
  },
  {
   "cell_type": "markdown",
   "metadata": {},
   "source": [
    "回顾一下，加深下对类的认识。    \n",
    "这节课，我们将会拓展类的使用，扩大类的用法：类的继承与类的定制。    \n",
    "当我们的项目越来越庞大，功能越来越复杂时，类的继承与类的定制会发挥更大的作用。  \n",
    "可以说，恰恰是因为有了类的继承与类的定制，才使得Python中的类能够广泛应用。可见，类的继承与类的定制的重要性。  \n",
    "大家放轻松就好，小K会带着大家一点一滴的来认知学习。  \n",
    "## 类的继承\n",
    "继承，我们可以从生活中出发。  \n",
    "### 继承是什么\n",
    "就如同乾隆与雍正，乾隆继承了雍正的皇位，乾隆继承了雍正的财产。  \n",
    "说的现代一点:  \n",
    "假设，今天你要给一个不懂音乐的哥们，介绍一下Rapper，你该如何介绍？  \n",
    "不懂Rapper？那怎么更好的介绍呢？  \n",
    "可能你会说“Rapper是说唱家的意思，他也是音乐人中的一种”这个哥们听到，会说“搜得斯内，原来Rapper就是音乐人啊”  \n",
    "如果说的严谨一点：“Rapper属于音乐人”因此，音乐人拥有的属性(艺名\\戴眼镜\\喜欢音乐)和方法(打招呼，唱歌) ，Rapper也有。  \n",
    "也就是把音乐人有的信息都复制了一份给Rapper，这样能够更好的帮助理解。  \n",
    "同样，Python江湖中也是如此。我们用一句话让计算机知道 X类属于Y类，在Python江湖中的行话就是“X类继承了Y类”。  \n",
    "![类的继承](./picture/11-2.jpg)\n",
    "既然“X类继承了Y类”，我们就可以称：X类是Y类的子类，Y类是X类的父类(或者超类)。    \n",
    "类的继承，让子类拥有了父类的所有属性和方法，就像继承财产那样。这样我们就可以一夜暴富了(代码复用)。    \n",
    "### 类的继承语法\n",
    "类的继承语法，用代码表示:   \n",
    "![继承的语法](./picture/11-3.jpg) \n",
    "X类是Y类的子类，X类就会继承Y类的属性与方法。    \n",
    "运行一下下面代码，观察终端里的效果。    "
   ]
  },
  {
   "cell_type": "code",
   "execution_count": 4,
   "metadata": {},
   "outputs": [
    {
     "name": "stdout",
     "output_type": "stream",
     "text": [
      "墨镜\n",
      "我在唱歌\n"
     ]
    }
   ],
   "source": [
    "#直接运行代码\n",
    "class Musician:    \n",
    "    glasses = \"墨镜\"   \n",
    "    loveMusic = True\n",
    "\n",
    "    def sing(self):\n",
    "        print('我在唱歌')\n",
    "class Rapper(Musician):\n",
    "    pass # pass表示'跳过'，不执行其他操作    \n",
    "mcHotdog = Rapper()\n",
    "print(mcHotdog.glasses)\n",
    "mcHotdog.sing()"
   ]
  },
  {
   "cell_type": "markdown",
   "metadata": {},
   "source": [
    "看到没? 实例mcHotdog(热狗)是通过Rapper这个类创建的实例，却调用了Musician这个类中的glasses属性与sing()方法。    \n",
    "这是为什么呢？就是因为class Rapper(Musician)这一句，使得Rapper继承了Musician，这样Rapper类就具有了Musician类的属性与方法。   \n",
    "通过一个小括号，就能让子类一夜暴富，拥有了父类所拥有的一切。  \n",
    "你来试一下，为下面的父类Car，创建一个子类BMW，并使用子类BMW调用父类Car的属性与方法。  \n",
    "补全代码：  "
   ]
  },
  {
   "cell_type": "code",
   "execution_count": 20,
   "metadata": {},
   "outputs": [
    {
     "name": "stdout",
     "output_type": "stream",
     "text": [
      "4\n",
      "有4个轮子,可以飞速的行驶\n"
     ]
    }
   ],
   "source": [
    "#补全代码\n",
    "class Car:\n",
    "    wheel = 4\n",
    "    def run(self):\n",
    "        print('有%d个轮子,可以飞速的行驶'%self.wheel)\n",
    "class BMW(Car):\n",
    "    pass\n",
    "BMW320 = BMW()\n",
    "print(BMW320.wheel)\n",
    "BMW320.run()"
   ]
  },
  {
   "cell_type": "markdown",
   "metadata": {},
   "source": [
    "恭喜你，已经掌握了类的继承语法。    \n",
    "但是，好多类，在创建的时候没有括号啊，就像class Car: ，难道Car这个类没有父类吗？    \n",
    "其实Car也是有父类的。当创建的类没有小括号时，这个类的父类就是Object。   \n",
    "Object是所有类的父类，称其为根类。(说白了，就是所有类的祖宗)   \n",
    "我们使用Python的一个法宝，isinstance()函数来判断一下某个实例是否属于某个类。  \n",
    "运行一下下面代码，观察终端里的效果。  "
   ]
  },
  {
   "cell_type": "code",
   "execution_count": 6,
   "metadata": {},
   "outputs": [
    {
     "name": "stdout",
     "output_type": "stream",
     "text": [
      "验证:子类创建的实例也属于父类\n",
      "True\n",
      "True\n",
      "验证:父类创建的实例不属于不属于不属于子类\n",
      "False\n",
      "验证:所有类创建的实例都属于根类\n",
      "True\n",
      "True\n"
     ]
    }
   ],
   "source": [
    "#直接运行\n",
    "class Car:\n",
    "    wheel = 4\n",
    "    def run(self):\n",
    "        print('有%d个轮子,可以飞速的行驶'%self.wheel)\n",
    "class BMW(Car):\n",
    "    pass\n",
    "\n",
    "BENZ600 = Car()  #使用Car类创建奔驰600\n",
    "BMW320 = BMW()   #使用BMW类创建BMW320\n",
    "print(\"验证:子类创建的实例也属于父类\")\n",
    "print(isinstance(BENZ600,Car))\n",
    "print(isinstance(BMW320,Car))\n",
    "print(\"验证:父类创建的实例不属于不属于不属于子类\")\n",
    "print(isinstance(BENZ600,BMW))\n",
    "print(\"验证:所有类创建的实例都属于根类\")\n",
    "print(isinstance(BENZ600,object))\n",
    "print(isinstance(BMW320,object))"
   ]
  },
  {
   "cell_type": "markdown",
   "metadata": {},
   "source": [
    "观察终端结果，会发现，BENZ600这个实例既属于Car类，也属于Object类。也就是说，BENZ600继承Car类，也继承Object类，但是不继承BMW类；   \n",
    "总结一下:   \n",
    "![各级实例和各级类间的关系](./picture/11-4.jpg)\n",
    "江湖秘籍: 类的继承中，子类属于父类；子类创建的实例也属于父类。    \n",
    "父类可以被无数个子类继承，举个例子？    \n",
    "明星分为音乐人、相声家、戏曲家、影视家、导演等， 如果为每类明星都创建一个类， 并添加属性和方法。 那么有多少个类， 就需要添加多少次属性和方法。    \n",
    "有没有简单的方法？有啊， 我们创建一个父类Star，在父类Star中将共有的属性与方法都放进去， 然后其他所有的子类都可以通过类的继承来调用Star类的属性与方法，代码少的多。    \n",
    "除此， 继承还有多层继承和多重继承。    \n",
    "## 多层继承\n",
    "### 什么是多层继承？ \n",
    "就说乾隆皇帝吧， 乾隆皇帝继承了雍正皇帝的皇位， 继承了雍正的财产；可是， 雍正留下的财产中，还有一些是康熙帝留下的， 这样乾隆皇帝不仅仅继承了雍正皇帝的财产， 也继承了康熙皇帝的财产。    \n",
    "也就是说，子类不仅仅可以继承父类， 还可以继承父类的父类、父类的父类的父类……    \n",
    "说白了，就是子类不仅仅可以继承父类， 还可以继承祖父类……    \n",
    "![各级实例和各级类间的关系](./picture/11-5.jpg)"
   ]
  },
  {
   "cell_type": "code",
   "execution_count": 8,
   "metadata": {},
   "outputs": [
    {
     "name": "stdout",
     "output_type": "stream",
     "text": [
      "墨镜\n",
      "True\n"
     ]
    }
   ],
   "source": [
    "#直接运行代码\n",
    "#明星类\n",
    "class Star:\n",
    "    glasses = \"墨镜\"\n",
    "\n",
    "#音乐人继承了明星\n",
    "class Musician(Star):\n",
    "    loveMusic = True\n",
    "\n",
    "# Rapper继承了音乐人\n",
    "class Rapper(Musician):\n",
    "    pass\n",
    "\n",
    "csunYuk = Rapper()\n",
    "print(csunYuk.glasses)\n",
    "print(csunYuk.loveMusic)"
   ]
  },
  {
   "cell_type": "markdown",
   "metadata": {},
   "source": [
    "在这个例子中，实例csunYuk是类Rapper创建， 它可以调用父类Musician的属性，也可以调用父类的父类Star的属性。    \n",
    "子类可以调用父类的属性与方法，也可以调用父类的父类的属性与方法。这就是多层继承。    \n",
    "### 多重继承\n",
    "什么是多重继承呢？    \n",
    "一个类可以继承多个类， 语法是class Z(X,Y) 。    \n",
    "比如我们将“说唱家”定义成一个类Rapper，它继承于音乐人与演说家两个类。 那么它的语法就是 class Rapper(Musician，Orator)。    \n",
    "Rapper是Musician的子类，也是Orator的子类。    \n",
    "class Rapper(Musician，Orator)括号内的父类是有顺序区别的， 与子类Rapper关系更近的父类放在左边。 也就是Rapper类与父类Musician更为相似。   \n",
    "猜一猜, 下面代码会打印什么?    "
   ]
  },
  {
   "cell_type": "code",
   "execution_count": 9,
   "metadata": {},
   "outputs": [
    {
     "name": "stdout",
     "output_type": "stream",
     "text": [
      "True\n",
      "流利的说\n",
      "我喜欢音乐\n",
      "我来自音乐界\n"
     ]
    }
   ],
   "source": [
    "#音乐人\n",
    "class Musician():\n",
    "    loveMusic = True\n",
    "    def intr(self):\n",
    "        print(\"我喜欢音乐\")\n",
    "        print(\"我来自音乐界\")\n",
    "#演说家       \n",
    "class Orator():\n",
    "    speak = \"流利的说\"\n",
    "    def intr(self):\n",
    "        print(\"我喜欢演说\")\n",
    "        print(\"我来自演讲界\")              \n",
    "# Rapper继承了音乐人与演说家\n",
    "class Rapper(Musician,Orator):\n",
    "    pass\n",
    "\n",
    "csunYuk = Rapper()\n",
    "print(csunYuk.loveMusic)\n",
    "print(csunYuk.speak)\n",
    "csunYuk.intr()"
   ]
  },
  {
   "cell_type": "code",
   "execution_count": 10,
   "metadata": {},
   "outputs": [
    {
     "name": "stdout",
     "output_type": "stream",
     "text": [
      "True\n",
      "流利的说\n",
      "我喜欢音乐\n",
      "我来自音乐界\n"
     ]
    }
   ],
   "source": [
    "#音乐人\n",
    "class Musician():\n",
    "    loveMusic = True\n",
    "    def intr(self):\n",
    "        print(\"我喜欢音乐\")\n",
    "        print(\"我来自音乐界\")\n",
    "#演说家       \n",
    "class Orator():\n",
    "    speak = \"流利的说\"\n",
    "    def intr(self):\n",
    "        print(\"我喜欢演说\")\n",
    "        print(\"我来自演讲界\")              \n",
    "# Rapper继承了音乐人与演说家\n",
    "class Rapper(Musician,Orator):\n",
    "    pass\n",
    "\n",
    "csunYuk = Rapper()\n",
    "print(csunYuk.loveMusic)\n",
    "print(csunYuk.speak)\n",
    "csunYuk.intr()"
   ]
  },
  {
   "cell_type": "markdown",
   "metadata": {},
   "source": [
    "csunYuk继承了父类Musician的属性loveMusic，也继承了父类Orator的属性speak；当两个父类都具有intr()类方法时，它会优先继承左边的父类，也就是父类Musician的方法。   \n",
    "江湖秘籍: 多重继承中， 子类继承于多个父类的属性与方法， 但是优先继承于左边父类的属性与方法。   \n",
    "下面对继承做一个总结:   \n",
    "![多重继承和多层继承](./picture/11-6.jpg)\n",
    "## 类的定制\n",
    "说完了类的继承，我们来看一看类的定制。   \n",
    "定制是什么？  \n",
    "继续说说唱家。  \n",
    "说唱家除了继承音乐人的属性与方法外，它还创建了自己独有的属性与方法，比如说唱家喜欢饶舌(属性)，还能够作词(方法)。  \n",
    "甚至，说唱家还可以改变继承到的属性或方法，比如说唱家唱歌的时候会加进一些演说词。  \n",
    "这些操作，都可以说是说唱家在继承的基础上进行定制。  \n",
    "也就是说，子类可以在继承父类的基础上进行定制: 可以创建新属性、新方法；也可以改变继承到的属性或方法。    \n",
    "好了， 下面看一下，如何进行类的定制。  \n",
    "定制，新增代码  \n",
    "观察下面代码与注释  "
   ]
  },
  {
   "cell_type": "code",
   "execution_count": 12,
   "metadata": {},
   "outputs": [
    {
     "name": "stdout",
     "output_type": "stream",
     "text": [
      "True\n",
      "True\n",
      "我可以创作简单的歌词\n"
     ]
    }
   ],
   "source": [
    "#音乐人\n",
    "class Musician():\n",
    "    loveMusic = True\n",
    "    def intr(self):\n",
    "        print(\"我喜欢音乐\")\n",
    "        print(\"我来自音乐界\")\n",
    "    def sing(self):\n",
    "        print(\"我在唱歌\")\n",
    "# Rapper继承音乐人\n",
    "class Rapper(Musician): #类的继承\n",
    "    garrulous = True    #类的定制 ， 增加属性\n",
    "    def composition(self):  #类的定制， 增加方法\n",
    "        print(\"我可以创作简单的歌词\")\n",
    "\n",
    "csunYuk = Rapper()\n",
    "print(csunYuk.loveMusic)\n",
    "print(csunYuk.garrulous)\n",
    "csunYuk.composition()"
   ]
  },
  {
   "cell_type": "markdown",
   "metadata": {},
   "source": [
    "Rapper类继承Musician，但是它增加了属性garrulous，增加了方法composition，这就是类的定制。    \n",
    "运行一下下面代码，观察终端里的效果。    \n",
    "这就是类的定制，增加代码。    \n",
    "除此之外，还有一种方式：更改父类代码。   \n",
    "定制，更改代码  \n",
    "重写代码，就是在子类中，对父类的属性或者方法进行修改。  \n",
    "运行一下下面代码，观察终端里的效果。  "
   ]
  },
  {
   "cell_type": "code",
   "execution_count": 15,
   "metadata": {},
   "outputs": [
    {
     "name": "stdout",
     "output_type": "stream",
     "text": [
      "我以说的形式进行歌唱\n"
     ]
    }
   ],
   "source": [
    "#音乐人\n",
    "class Musician():\n",
    "    loveMusic = True\n",
    "    def intr(self):\n",
    "        print(\"我喜欢音乐\")\n",
    "        print(\"我来自音乐界\")\n",
    "    def sing(self):\n",
    "        print(\"我在唱歌\")\n",
    "# Rapper继承音乐人\n",
    "class Rapper(Musician): #类的继承\n",
    "    def sing(self):  #类的定制， 更改方法\n",
    "        print(\"我以说的形式进行歌唱\")\n",
    "\n",
    "csunYuk = Rapper()\n",
    "csunYuk.sing()"
   ]
  },
  {
   "cell_type": "markdown",
   "metadata": {},
   "source": [
    "csunYuk是通过 Rapper实例化的对象， Rapper类继承Musician类，自然会继承Musician类的方法sing；但是Rapper类将sing方法进行改写，造成csunYuk.sing()运行结束后， 打印的结果是“我以说的形式进行歌唱”   \n",
    "这就是类的定制，在继承父类的基础上，又可以进行改变。   \n",
    "好了，这节课，类的继承与定制就讲到这里了。   \n",
    "下节课，我们会使用类来完成一个现实生活中的项目。  \n",
    "下节课，不见不散。  "
   ]
  },
  {
   "cell_type": "markdown",
   "metadata": {},
   "source": [
    "### 题目要求\n",
    "每个人都有多重身份， 比如说一个学生， 他在学校里的身份就是学生，进行学习；回到家里，他的身份就是儿子，需要照顾父母；他不仅有着学生的属性与方法，还有着儿子的属性与方法。   \n",
    "### 题目讲解\n",
    "创建一个学生类，拥有属性（stu_no学号），方法（study,会使用Python语言）  \n",
    "创建一个孩子类，拥有属性（status身份），方法（care，照顾父母）  \n",
    "创建一个儿子类，继承于学生类与孩子类， 拥有两个类的属性与方法  \n",
    "### 书写代码"
   ]
  },
  {
   "cell_type": "code",
   "execution_count": 17,
   "metadata": {},
   "outputs": [
    {
     "name": "stdout",
     "output_type": "stream",
     "text": [
      "001\n",
      "孩子\n",
      "使用Python编程\n",
      "照顾父母\n"
     ]
    }
   ],
   "source": [
    "class Student():\n",
    "    stu_no = '001'\n",
    "    def study(self):\n",
    "        print(\"使用Python编程\")\n",
    "class Child():\n",
    "    status = \"孩子\"\n",
    "    def care(self):\n",
    "        print(\"照顾父母\")\n",
    "class Son(Student,Child):\n",
    "    pass\n",
    "xiaoming = Son()\n",
    "print(xiaoming.stu_no)\n",
    "print(xiaoming.status)\n",
    "xiaoming.study()\n",
    "xiaoming.care()"
   ]
  },
  {
   "cell_type": "markdown",
   "metadata": {},
   "source": [
    "### 题目要求\n",
    "有一个徒弟厨师，跟着师父学做煎饼果子，师父教给徒弟做传统的煎饼果子，与台湾手抓饼；徒弟在学习后又出国深造了几年，不仅仅能做手抓饼，还可以做中西方口味融合的煎饼果子。\n",
    "### 题目讲解\n",
    "创建一个师父类master，这个类中具有两个方法；一个方法叫cake，cake方法可以制作手抓饼，一个方法叫cook，cook方法可以制作传统的煎饼果子。而徒弟类继承了师父的cake方法，可以制作手抓饼，也继承了师父的cook方法，但是徒弟进行改进，可以制作中西方口味融合的煎饼果子。\n",
    "### 书写代码"
   ]
  },
  {
   "cell_type": "code",
   "execution_count": 18,
   "metadata": {},
   "outputs": [
    {
     "name": "stdout",
     "output_type": "stream",
     "text": [
      "师父\n",
      "厨师\n",
      "制作手抓饼\n",
      "制作传统煎饼果子\n",
      "徒弟\n",
      "厨师\n",
      "制作手抓饼\n",
      "制作中西方口味融合的煎饼果子\n"
     ]
    }
   ],
   "source": [
    "class master():\n",
    "    status = \"厨师\"\n",
    "    def cake(self):\n",
    "        print(\"制作手抓饼\")\n",
    "    def cook(self):\n",
    "        print(\"制作传统煎饼果子\")\n",
    "class apprentice(master):\n",
    "    def cook(self):\n",
    "        print(\"制作中西方口味融合的煎饼果子\")\n",
    "print(\"师父\")\n",
    "shifu = master()\n",
    "print(shifu.status)\n",
    "shifu.cake()\n",
    "shifu.cook()\n",
    "print(\"徒弟\")\n",
    "tudi = apprentice()\n",
    "print(tudi.status)\n",
    "tudi.cake()\n",
    "tudi.cook()"
   ]
  }
 ],
 "metadata": {
  "kernelspec": {
   "display_name": "Python 3",
   "language": "python",
   "name": "python3"
  },
  "language_info": {
   "codemirror_mode": {
    "name": "ipython",
    "version": 3
   },
   "file_extension": ".py",
   "mimetype": "text/x-python",
   "name": "python",
   "nbconvert_exporter": "python",
   "pygments_lexer": "ipython3",
   "version": "3.7.7"
  }
 },
 "nbformat": 4,
 "nbformat_minor": 4
}
