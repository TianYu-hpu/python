{
 "cells": [
  {
   "cell_type": "markdown",
   "metadata": {},
   "source": [
    "截止目前, 我们已经掌握了3种数据类型：字符串、整数、浮点数。这一关我们要学习两种新的数据类型：列表与字典。    \n",
    "不过在这之前， 我们先聊一聊“数据”对“计算机”的重要性。   \n",
    "计算机，顾名思义，就是计算的机器。那么，计算机计算什么呢？计算机就是计算的数据，如果没有了数据，就像鱼没有了水。所以，数据对于计算机至关重要。    \n",
    "总的来说，计算机有3种方式利用数据    \n",
    "![计算机利用数据的三种方式](./picture/2-1.jpg)\n",
    "我们前面学习的内容都是计算机在利用数据做一些逻辑处理，想必大家也对数据与计算机关系有了更深刻的体会。    \n",
    "这一课， 我们就会接触两种新的数据类型——列表和字典， 你会发现，它俩比我们学过的“字符串、整数、浮点数” 更加厉害， 胸怀更宽广。    \n",
    "为什么这么说呢？前面的几种类型数据，每次只能存储一个数据。如果需要保存大量数据的时候，就会很不方便。    \n",
    "而列表与字典的作用， 就是帮助我们解决这个问题，存储大量数据。    \n",
    "## 列表\n",
    "首先，我们来看看列表，想想变形金刚    \n",
    "变形金刚有好多啊：擎天柱、大黄蜂、爵士、铁皮、救护车、威震天等。你让变形金刚把名字写在花名册上，晚上睡觉的时候带去点名。    \n",
    "如果用已学的知识来解决这个问题， 有多少个变形金刚就有多少个变量，然后再分别打印。点击下面运行    \n"
   ]
  },
  {
   "cell_type": "code",
   "execution_count": 2,
   "metadata": {},
   "outputs": [
    {
     "name": "stdout",
     "output_type": "stream",
     "text": [
      "猛大帅睡了没？\n",
      "铁甲龙睡了没？\n",
      "六面兽睡了没？\n",
      "大力金刚睡了没？\n",
      "救护车睡了没？\n",
      "红色警戒睡了没？\n",
      "大无畏睡了没？\n",
      "飞天虎睡了没？\n",
      "闪电睡了没？\n",
      "冲云霄睡了没？\n",
      "计算王睡了没？\n",
      "求雨鬼睡了没？\n",
      "守护神睡了没？\n",
      "混天豹睡了没？\n",
      "擎天柱睡了没？\n",
      "威震天睡了没？\n",
      "惊破天睡了没？\n",
      "红蜘蛛睡了没？\n",
      "巨无霸福特睡了没？\n",
      "雷霆解救队睡了没？\n"
     ]
    }
   ],
   "source": [
    "transformers1 = '猛大帅' \n",
    "transformers2 = '铁甲龙'\n",
    "transformers3 = '六面兽'\n",
    "transformers4 = '大力金刚'\n",
    "transformers5 = '救护车'\n",
    "transformers6 = '红色警戒'\n",
    "transformers7 = '大无畏'\n",
    "transformers8 = '飞天虎'\n",
    "transformers9 = '闪电'\n",
    "transformers10 = '冲云霄'\n",
    "transformers11 = '计算王'\n",
    "transformers12 = '求雨鬼'\n",
    "transformers13 = '守护神'\n",
    "transformers14 = '混天豹'\n",
    "transformers15 = '擎天柱'\n",
    "transformers16 = '威震天'\n",
    "transformers17 = '惊破天'\n",
    "transformers18 = '红蜘蛛'\n",
    "transformers19 = '巨无霸福特'\n",
    "transformers20 = '雷霆解救队'\n",
    "\n",
    "print(transformers1+'睡了没？')\n",
    "print(transformers2+'睡了没？')\n",
    "print(transformers3+'睡了没？')\n",
    "print(transformers4+'睡了没？')\n",
    "print(transformers5+'睡了没？')\n",
    "print(transformers6+'睡了没？')\n",
    "print(transformers7+'睡了没？')\n",
    "print(transformers8+'睡了没？')\n",
    "print(transformers9+'睡了没？')\n",
    "print(transformers10+'睡了没？')\n",
    "print(transformers11+'睡了没？')\n",
    "print(transformers12+'睡了没？')\n",
    "print(transformers13+'睡了没？')\n",
    "print(transformers14+'睡了没？')\n",
    "print(transformers15+'睡了没？')\n",
    "print(transformers16+'睡了没？')\n",
    "print(transformers17+'睡了没？')\n",
    "print(transformers18+'睡了没？')\n",
    "print(transformers19+'睡了没？')\n",
    "print(transformers20+'睡了没？')"
   ]
  },
  {
   "cell_type": "markdown",
   "metadata": {},
   "source": [
    "发现问题了吗？我们点了20次变形金刚的名，同时也创建了20个变量，每个变量中放一个变形金刚的名字，太累了。    \n",
    "如果有一个变量，能放20个变形金刚的名就最好了。    \n",
    "这就是我们要重新认识的第一个数据类型——列表；我们从4方面来认知列表。   \n",
    "![列表](./picture/2-2.jpg)\n",
    "1.1什么是列表    \n",
    "首先， 我们来看一下列表（list）的代码格式。  \n",
    "![列表](./picture/2-3.jpg)\n",
    "图中的['擎天柱'，'大黄蜂'，'救护车']就是一个列表。    \n",
    "一个列表需要使用中括号[]将所有数据框起来，里面中的每一个数据叫做“元素”， 元素与元素之间使用逗号隔开。【江湖秘籍，英文逗号】    \n",
    "这就是列表的标准格式，现在请你创建一个名为list的列表，里面有四个元素：‘李雷’，‘韩梅梅’，180，3.5，并将它打印。    "
   ]
  },
  {
   "cell_type": "code",
   "execution_count": 4,
   "metadata": {},
   "outputs": [
    {
     "name": "stdout",
     "output_type": "stream",
     "text": [
      "['李雷', '韩梅梅', '180', '3.5']\n",
      "<class 'list'>\n"
     ]
    }
   ],
   "source": [
    "#列表\n",
    "transformers = ['李雷', '韩梅梅', '180', '3.5']\n",
    "print(transformers)\n",
    "print(type(transformers))\n"
   ]
  },
  {
   "cell_type": "markdown",
   "metadata": {},
   "source": [
    "看看是不是和小K的一样。恭喜你，已经成功的掌握了列表的写法及列表的打印。    \n",
    "你会发现，列表的胸怀很宽广， 各种类型的数据（字符串、整数、浮点数）都能放在里面。    \n",
    "但是很多时候，我们只需要用到列表中的某一个元素，就比如，今天晚上我要开大黄蜂去撩妹纸。    \n",
    "所以，问题来了：列表中的具体某个元素应当如何取出来？    \n",
    "## 1.2从列表中提取单个元素    \n",
    "![列表](./picture/2-4.jpg)\n",
    "这就涉及到了列表中的一个新知识点：下标。列表中的各个元素，好比军队的方阵一样，是有序排列的，每一个元素都有自己的位置标号，这个位置标号就叫做下标。   \n",
    "![列表下表](./picture/2-5.jpg)\n",
    "从上图中看出，列表中的元素从左往右进行排列， 它们对应的下标从0，1，2开始逐渐递增。    \n",
    "你想要提取元素，你除了告诉计算机元素的下标，你还要告诉计算机是哪个列表中的下标。    \n",
    "所以，我们就可以通过列表名搭配下标方式来提取列表中的元素，读取元素中的内容。    \n",
    "点击运行下面代码，观察终端的结果。    "
   ]
  },
  {
   "cell_type": "code",
   "execution_count": 6,
   "metadata": {},
   "outputs": [
    {
     "name": "stdout",
     "output_type": "stream",
     "text": [
      "大黄蜂\n"
     ]
    }
   ],
   "source": [
    "#下标\n",
    "transformers = ['擎天柱','大黄蜂','救护车']\n",
    "print(transformers[1])"
   ]
  },
  {
   "cell_type": "markdown",
   "metadata": {},
   "source": [
    "现在，我们已经能够从列表中提取出一个元素，那如果要同时提取好几个呢？    \n",
    "下面，我们就来学习一下，如何从列表中提取多个元素。    \n",
    "### 1.3从列表中提取多个元素\n",
    "![列表多个元素](./picture/2-6.jpg)"
   ]
  },
  {
   "cell_type": "code",
   "execution_count": 8,
   "metadata": {},
   "outputs": [
    {
     "name": "stdout",
     "output_type": "stream",
     "text": [
      "['擎天柱', '大黄蜂', '救护车', '巨无霸福特', '红蜘蛛']\n",
      "['救护车', '巨无霸福特', '红蜘蛛']\n",
      "['擎天柱', '大黄蜂']\n",
      "['大黄蜂', '救护车']\n",
      "['救护车', '巨无霸福特']\n"
     ]
    }
   ],
   "source": [
    "#列表中多个元素\n",
    "transformers = ['擎天柱','大黄蜂','救护车','巨无霸福特','红蜘蛛']\n",
    "\n",
    "#左闭右开区间\n",
    "print(transformers[:])\n",
    "\n",
    "print(transformers[2:])\n",
    "\n",
    "print(transformers[:2])\n",
    "\n",
    "print(transformers[1:3])\n",
    "\n",
    "print(transformers[2:4])\n"
   ]
  },
  {
   "cell_type": "markdown",
   "metadata": {},
   "source": [
    "每次打印出来的内容都是不相同的。    \n",
    "这种通过冒号来截取列表元素的操作叫切片，就是将列表的某个片段，通过切割下标的方式来提取多个元素。   \n",
    "![切片](./picture/2-7.jpg)\n",
    "【江湖秘籍：冒号左边空，就要从下标为0的元素开始取。右边空，就要取到列表的最后一个元素。后半句：冒号左边数字对应的元素要拿，右边的不动。】    \n",
    "现在请你来操作一下， 将列表names = ['李雷','lily','lucy','韩梅梅']中lily与lucy提取出来。    "
   ]
  },
  {
   "cell_type": "code",
   "execution_count": 9,
   "metadata": {},
   "outputs": [
    {
     "name": "stdout",
     "output_type": "stream",
     "text": [
      "['lily', 'lucy']\n"
     ]
    }
   ],
   "source": [
    "names = ['李雷','lily','lucy','韩梅梅']\n",
    "#左闭右开\n",
    "print(names[1:3])"
   ]
  },
  {
   "cell_type": "markdown",
   "metadata": {},
   "source": [
    "### 1.4给列表添加/删除元素    \n",
    "![添加和删除元素](./picture/2-8.jpg)\n",
    "睡着正香呢，突然变形金刚 “萨克巨人”回来了，要睡觉。这时，我们就需要用append()函数给列表增加元素。append是 附加，追加，增加，增补的意思。    \n",
    "运行一下下面代码，观察终端效果    "
   ]
  },
  {
   "cell_type": "code",
   "execution_count": 11,
   "metadata": {},
   "outputs": [
    {
     "name": "stdout",
     "output_type": "stream",
     "text": [
      "['擎天柱', '大黄蜂', '救护车', '巨无霸福特', '红蜘蛛', '萨克巨人']\n"
     ]
    }
   ],
   "source": [
    "transformers = ['擎天柱','大黄蜂','救护车','巨无霸福特','红蜘蛛']\n",
    "#添加元素\n",
    "transformers.append('萨克巨人')\n",
    "print(transformers)"
   ]
  },
  {
   "cell_type": "markdown",
   "metadata": {},
   "source": [
    "此时，transformers 这个列表中已经增加了萨克巨人。    \n",
    "加油，现在已经能够往列表中增加元素了。    \n",
    "又是一晚，变形金刚‘救护车’接到任务，这一个月要出去救人，就不睡觉了。所以，我们要将‘救护车’从列表中删除。    \n",
    "这就需要使用Python中的del函数了。del函数的语法是del 列表名[元素的下标]。    \n",
    "运行一下下面代码，观察终端效果    "
   ]
  },
  {
   "cell_type": "code",
   "execution_count": 13,
   "metadata": {},
   "outputs": [
    {
     "name": "stdout",
     "output_type": "stream",
     "text": [
      "['擎天柱', '大黄蜂', '巨无霸福特', '红蜘蛛']\n"
     ]
    }
   ],
   "source": [
    "transformers = ['擎天柱','大黄蜂','救护车','巨无霸福特','红蜘蛛']\n",
    "#删除元素\n",
    "del transformers[2]\n",
    "print(transformers)\n"
   ]
  },
  {
   "cell_type": "markdown",
   "metadata": {},
   "source": [
    "del函数是不是很简单，通过列表的下标，删除列表元素。    \n",
    "至此，小K已经带着你将列表的基本内容摸了个遍， 是时候总结一下了。    \n",
    "![列标总结](./picture/2-9.jpg)\n",
    "掌握了列表这种数据类型，你在Python江湖又前进了一步。接下来，我们学习另一种数据类型，在往前前进一步。    \n",
    "## 数据类型：字典\n",
    "如果我们要存储一下变形金刚的战斗值，那么就得需要创建一个新的列表来专门存放战斗值，并且你还要保证姓名与战斗值的顺序是一致的，稍有差池，就挂掉了。    \n",
    "所以，类似存放这种名字和数值（如分数、身高、体重）两种数据存在一一对应的情况，就需要使用第二种数据类型“字典”（dictionary）来存储。    \n",
    "### 2.1什么是字典\n",
    "![什么是字典](./picture/2-10.jpg)\n",
    "先看一下字典长什么样子？    \n",
    "![什么是字典](./picture/2-11.jpg)\n",
    "字典和列表很相似，都有名称、赋值号、逗号做间隔，逗号间隔的还叫元素。    \n",
    "而不一样的是，字典每个元素由键与值组成，而列表不是，字典外层使用大括号{}， 列表外层使用中括号[ ]。    \n"
   ]
  },
  {
   "cell_type": "code",
   "execution_count": 15,
   "metadata": {},
   "outputs": [
    {
     "name": "stdout",
     "output_type": "stream",
     "text": [
      "5\n",
      "5\n",
      "<class 'list'>\n",
      "<class 'dict'>\n"
     ]
    }
   ],
   "source": [
    "transformers = ['擎天柱','大黄蜂','救护车','巨无霸福特','红蜘蛛']\n",
    "\n",
    "fc = { '擎天柱': 95 ,'大黄蜂':90 ,'救护车':86, '巨无霸福特':80,'红蜘蛛':80  }\n",
    "\n",
    "print(len(transformers))\n",
    "\n",
    "print(len(fc))\n",
    "\n",
    "print(type(transformers))\n",
    "\n",
    "print(type(fc))"
   ]
  },
  {
   "cell_type": "markdown",
   "metadata": {},
   "source": [
    "字典的元素由键与值组成，组成形式 键:值，冒号还是英文的冒号。'擎天柱': 95， 我们把'擎天柱'称为键，把95称为值。    \n",
    "这样键:值的形式，我们统称为键值对。那么，fc这个字典里有5个键值对 ： '擎天柱': 95、'大黄蜂':90、'救护车':86、 '巨无霸福特':80、'红蜘蛛':80。    \n",
    "如果你不想查， 你还可以使用len()函数来得到字典或列表的长度。len()函数括号里放字典或列表的名字。    \n",
    "运行一下下面代码, 观察终端里的效果。    "
   ]
  },
  {
   "cell_type": "code",
   "execution_count": 17,
   "metadata": {},
   "outputs": [
    {
     "name": "stdout",
     "output_type": "stream",
     "text": [
      "5\n",
      "5\n"
     ]
    }
   ],
   "source": [
    "transformers = ['擎天柱','大黄蜂','救护车','巨无霸福特','红蜘蛛']\n",
    "\n",
    "fc = { '擎天柱': 95 ,'大黄蜂':90 ,'救护车':86, '巨无霸福特':80,'红蜘蛛':80  }\n",
    "\n",
    "print(len(transformers))\n",
    "\n",
    "print(len(fc))"
   ]
  },
  {
   "cell_type": "markdown",
   "metadata": {},
   "source": [
    "这里注意的是：字典中的键是唯一的，值是可以重复的。也就是说，字典里只能有一个‘擎天柱’的键，但是却可以有两个‘80’的值。    \n",
    "## 2.2 从字典中提取元素\n",
    "![字典](./picture/2-12.jpg)\n",
    "现在，我们将擎天柱的战斗值取出来。和列表相似，使用[ ]，但是字典没有下标，只能通过键名提取，也就是字典名[键]。    \n",
    "运行一下下面代码, 观察终端里的效果。    "
   ]
  },
  {
   "cell_type": "code",
   "execution_count": 19,
   "metadata": {},
   "outputs": [
    {
     "name": "stdout",
     "output_type": "stream",
     "text": [
      "95\n",
      "{'擎天柱': 95, '大黄蜂': 90, '救护车': 86, '红蜘蛛': 80}\n",
      "{'擎天柱': 95, '大黄蜂': 90, '救护车': 86, '红蜘蛛': 80, '巨无霸福特': 50}\n"
     ]
    }
   ],
   "source": [
    "fc = { '擎天柱': 95 ,'大黄蜂':90 ,'救护车':86, '巨无霸福特':80,'红蜘蛛':80  }\n",
    "\n",
    "print(fc['擎天柱'])\n",
    "\n",
    "fc = { '擎天柱': 95 ,'大黄蜂':90 ,'救护车':86, '巨无霸福特':80,'红蜘蛛':80  }\n",
    "\n",
    "del fc['巨无霸福特']\n",
    "\n",
    "print(fc)\n",
    "\n",
    "fc['巨无霸福特'] = 50\n",
    "\n",
    "print(fc)"
   ]
  },
  {
   "cell_type": "markdown",
   "metadata": {},
   "source": [
    "现在啊，你学会了如何在字典中取值了。    \n",
    "刚刚巨无霸福特执行任务回来，受伤了，它的战斗力变成了50，于是，你需要将原来的80划掉，改成50。    \n",
    "这个操作在Python中对应的是字典的删除和增加。      \n",
    "### 2.3给字典增加/删除元素\n",
    "![字典添加和删除元素](./picture/2-13.jpg)\n"
   ]
  },
  {
   "cell_type": "code",
   "execution_count": 21,
   "metadata": {},
   "outputs": [
    {
     "name": "stdout",
     "output_type": "stream",
     "text": [
      "{'擎天柱': 95, '大黄蜂': 90, '救护车': 86, '红蜘蛛': 80}\n",
      "{'擎天柱': 95, '大黄蜂': 90, '救护车': 86, '红蜘蛛': 80, '巨无霸福特': 50}\n"
     ]
    }
   ],
   "source": [
    "fc = { '擎天柱': 95 ,'大黄蜂':90 ,'救护车':86, '巨无霸福特':80,'红蜘蛛':80  }\n",
    "\n",
    "del fc['巨无霸福特']\n",
    "\n",
    "print(fc)\n",
    "\n",
    "fc['巨无霸福特'] = 50\n",
    "\n",
    "print(fc)"
   ]
  },
  {
   "cell_type": "markdown",
   "metadata": {},
   "source": [
    "我们可以看到，删除字典里键值对是使用del语句 del 字典名[键]，而新增键值对是使用字典名[键]=值 。    \n",
    "好了，现在战斗力为90的铁皮也来了，你需要对字典里新增铁皮的信息了，然后把字典打印出来。    \n",
    "尝试一下：    "
   ]
  },
  {
   "cell_type": "code",
   "execution_count": 23,
   "metadata": {},
   "outputs": [
    {
     "name": "stdout",
     "output_type": "stream",
     "text": [
      "{'擎天柱': 95, '大黄蜂': 90, '救护车': 86, '巨无霸福特': 80, '红蜘蛛': 80, '铁皮': 90}\n"
     ]
    }
   ],
   "source": [
    "fc = { '擎天柱': 95 ,'大黄蜂':90 ,'救护车':86, '巨无霸福特':80,'红蜘蛛':80  }\n",
    "fc['铁皮'] = 90\n",
    "print(fc)"
   ]
  },
  {
   "cell_type": "markdown",
   "metadata": {},
   "source": [
    "好了，字典的内容就讲到这里了。下面，我们总结一下字典的基础知识。   \n",
    "![字典](./picture/2-14.jpg)\n",
    "### 列表与字典的异同    \n",
    "学完了列表与字典了，下面我们总结一下两者之间的异同。    \n",
    "![字典与列表的异同](./picture/2-15.jpg)\n",
    "### 不同点：\n",
    "1、列表外面是[ ]中括号，字典外面是{}大括号。    \n",
    "2、列表中每个元素只有一部分，只有值，每个值有一个对应的小标。    \n",
    "字典中每个元素都是【键：值】存在的， 每个值都有一个对应的键。    \n",
    "![字典与列表的异同](./picture/2-16.jpg)\n",
    "相同点：1、列表与字典中的元素都是用逗号隔开。 2、删除的方法del相同。    "
   ]
  },
  {
   "cell_type": "code",
   "execution_count": 25,
   "metadata": {},
   "outputs": [
    {
     "name": "stdout",
     "output_type": "stream",
     "text": [
      "['擎天柱', '救护车', '巨无霸福特', '红蜘蛛']\n",
      "{'擎天柱': 95, '救护车': 86, '巨无霸福特': 80, '红蜘蛛': 80}\n"
     ]
    }
   ],
   "source": [
    "transformers = ['擎天柱','大黄蜂','救护车','巨无霸福特','红蜘蛛']\n",
    "del transformers[1]\n",
    "fc = { '擎天柱': 95 ,'大黄蜂':90 ,'救护车':86, '巨无霸福特':80,'红蜘蛛':80  }\n",
    "del fc['大黄蜂']\n",
    "print(transformers)\n",
    "print(fc)"
   ]
  },
  {
   "cell_type": "markdown",
   "metadata": {},
   "source": [
    "### 题目要求\n",
    "有一个列表list = ['hello','i','love','you'].请将列表中的love取出来并打印结果。\n",
    "### 题目讲解\n",
    "金刚狼暗恋凤凰女不知道如何开口，请你帮他找到love并打印出来\n",
    "### 书写代码\n"
   ]
  },
  {
   "cell_type": "code",
   "execution_count": 27,
   "metadata": {},
   "outputs": [
    {
     "name": "stdout",
     "output_type": "stream",
     "text": [
      "['hello', 'i', 'love', 'you']\n"
     ]
    }
   ],
   "source": [
    "list = ['hello','i','love','you']\n",
    "print(list)"
   ]
  },
  {
   "cell_type": "markdown",
   "metadata": {},
   "source": [
    "### 题目要求\n",
    "dic = {'女巫':29,'狼人':30,'平民':50,'猎人':40}, 你需要找到键为‘狼人‘的数据，然后删除，打印删除后的字典。\n",
    "### 题目讲解\n",
    "在童话镇里，狼人每天晚上都会起来，杀掉村里的一位平民。你需要将狼人查找出来，毒死他。\n",
    "### 书写代码\n"
   ]
  },
  {
   "cell_type": "code",
   "execution_count": 28,
   "metadata": {},
   "outputs": [
    {
     "name": "stdout",
     "output_type": "stream",
     "text": [
      "{'女巫': 29, '平民': 50, '猎人': 40}\n"
     ]
    }
   ],
   "source": [
    "dic = {'女巫':29,'狼人':30,'平民':50,'猎人':40}\n",
    "del dic['狼人']\n",
    "print(dic)"
   ]
  }
 ],
 "metadata": {
  "kernelspec": {
   "display_name": "Python 3",
   "language": "python",
   "name": "python3"
  },
  "language_info": {
   "codemirror_mode": {
    "name": "ipython",
    "version": 3
   },
   "file_extension": ".py",
   "mimetype": "text/x-python",
   "name": "python",
   "nbconvert_exporter": "python",
   "pygments_lexer": "ipython3",
   "version": "3.7.7"
  }
 },
 "nbformat": 4,
 "nbformat_minor": 4
}
