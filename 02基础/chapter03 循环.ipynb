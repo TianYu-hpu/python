{
 "cells": [
  {
   "cell_type": "markdown",
   "metadata": {},
   "source": [
    "上一课，我们学习了两种新的数据类型: 列表与字典。    \n",
    "这节课，小K带大家来学习一下【循环】，什么是循环？ 就是把一件事情一遍又一遍重复做多遍。    \n",
    "![循环](./picture/3-1.jpg)\n",
    "每个人的工作和生活中都充满了循环，比如你要在操场上跑步5圈锻炼身体，比如销售要一遍又一遍给别人介绍产品，比如高三考生高考前每天三点一线的生活。    \n",
    "循环，就意味着重复与无趣。尤其是工作中的重复，无聊重复的工作让我们感觉到疲惫。既然疲惫，我们就把这重复无聊的工作交给计算机，反正它又不怕累，交给它去做。    \n",
    "这就是人工智能能够解放人类劳动生产力的地方。 比如你需要下载100集电视剧，你不需要一集一集的下载，只需要告诉计算机全部下载，计算机就一遍又一遍的循环下载，并且最后还能把这些电视剧按照一定的规则排序。你会发现，计算机全部下载，比你一集一集的下载要快的多，这就是计算机的优势。    \n",
    "再比如商场里的销售员，每位客户到来，她都需要介绍一遍产品,如果今天来50位客户，她就需要介绍50遍产品。而计算机机器人，就可以通过【循环】，一遍又一遍不厌其烦的向客户介绍产品,计算机又不怕累。    \n",
    "现在，是不是感觉”循环”不一样了。    \n",
    "为什么计算机就特别擅长做重复性工作呢？ 并且是”擅长、速度快、不怕累”。    \n",
    "究其原理， 就是因为代码中的【循环语句】，让计算机能够重复、自动地执行命令。    \n",
    "![循环语句](./picture/3-2.jpg)\n",
    "Python江湖里，提供了两种循环语句， for…in循环语句与while循环语句。    \n",
    "下面， 我们先来看一下第一种循环语句for…in循环语句， 简称for循环。    \n",
    "## for循环\n",
    "还记得在上节课中， 我们对变形金刚点名吗？ 回顾一下点名代码。    \n",
    "![点名](./picture/3-3.jpg)\n",
    "我们为了点名， 一口气敲了20行print()函数， 我不知道大家， 反正小K是敲累了。    \n",
    "为了解决这个事情， 小K通过for循环解决了上面的问题。    \n",
    "运行下面代码，观察终端里的效果。    \n"
   ]
  },
  {
   "cell_type": "code",
   "execution_count": 2,
   "metadata": {},
   "outputs": [
    {
     "name": "stdout",
     "output_type": "stream",
     "text": [
      "猛大帅睡了没？\n",
      "铁甲龙睡了没？\n",
      "六面兽睡了没？\n",
      "大力金刚睡了没？\n",
      "救护车睡了没？\n",
      "红色警戒睡了没？\n",
      "大无畏睡了没？\n",
      "飞天虎睡了没？\n",
      "闪电睡了没？\n",
      "冲云霄睡了没？\n",
      "计算王睡了没？\n",
      "求雨鬼睡了没？\n",
      "守护神睡了没？\n",
      "混天豹睡了没？\n",
      "擎天柱睡了没？\n",
      "威震天睡了没？\n",
      "惊破天睡了没？\n",
      "红蜘蛛睡了没？\n",
      "巨无霸福特睡了没？\n",
      "雷霆解救队睡了没？\n"
     ]
    }
   ],
   "source": [
    "transformers = ['猛大帅' , '铁甲龙','六面兽', '大力金刚', '救护车','红色警戒', '大无畏', '飞天虎','闪电','冲云霄', '计算王','求雨鬼', '守护神','混天豹', '擎天柱', '威震天','惊破天', '红蜘蛛', '巨无霸福特', '雷霆解救队' ]\n",
    "for i in transformers:\n",
    "    print(i+'睡了没？')\n",
    "    "
   ]
  },
  {
   "cell_type": "markdown",
   "metadata": {},
   "source": [
    "是不是变简单了？ 把20行的代码改成了2行代码。 这就是for循环魅力，一个最简单的for循环。    \n",
    "先来看一下for循环的基本格式：    \n",
    "![for循环格式](./picture/3-4.jpg)"
   ]
  },
  {
   "cell_type": "code",
   "execution_count": 4,
   "metadata": {},
   "outputs": [
    {
     "name": "stdout",
     "output_type": "stream",
     "text": [
      "1取钱\n",
      "2取钱\n",
      "3取钱\n",
      "4取钱\n",
      "5取钱\n",
      "6取钱\n"
     ]
    }
   ],
   "source": [
    "for i in [1,2,3,4,5,6]:\n",
    "    print(str(i)+'取钱')"
   ]
  },
  {
   "cell_type": "markdown",
   "metadata": {},
   "source": [
    "终端上依次出现了列表中的数字+取钱，对吧？这就如同去取款机取钱。    \n",
    "![for循环](./picture/3-5.jpg)"
   ]
  },
  {
   "cell_type": "code",
   "execution_count": 6,
   "metadata": {},
   "outputs": [
    {
     "name": "stdout",
     "output_type": "stream",
     "text": [
      "1取钱\n",
      "2取钱\n",
      "3取钱\n",
      "4取钱\n",
      "5取钱\n",
      "6取钱\n"
     ]
    }
   ],
   "source": [
    "for i in [1,2,3,4,5,6]:\n",
    "    print(str(i)+'取钱')\n",
    "#有一群人在排队取钱 ， 也就是列表[1,2,3,4,5,6]\n",
    "#它们中的每一个被叫号的时候（for i in），就开始轮流进去取钱。\n",
    "#每一个人进去，都会把号码给计算机，然后说“取钱” ， 也就是print(i+“取钱”)\n",
    "#最后计算机为每一个人都提供了服务。"
   ]
  },
  {
   "cell_type": "markdown",
   "metadata": {},
   "source": [
    "for循环有三个要点：1、叫号 2、一群等着取钱的人 3、办事流程    \n",
    "### 叫号    \n",
    "![叫号](./picture/3-6.jpg)\n",
    "既然叫号，就得有个变量，需要存放这个号。    \n",
    "在这里我们存放号这个变量叫做i，为什么用i呢？ 在for循环里， 这个变量的专有名称叫【元素】，英文item，i是它的简称。其实，你可以给这个号码取任意名字。    \n",
    "运行下面代码，观察终端里的效果。    "
   ]
  },
  {
   "cell_type": "code",
   "execution_count": 8,
   "metadata": {},
   "outputs": [
    {
     "name": "stdout",
     "output_type": "stream",
     "text": [
      "1取钱\n",
      "2取钱\n",
      "3取钱\n",
      "4取钱\n",
      "5取钱\n",
      "6取钱\n",
      "1取钱\n",
      "2取钱\n",
      "3取钱\n",
      "4取钱\n",
      "5取钱\n",
      "6取钱\n",
      "1取钱\n",
      "2取钱\n",
      "3取钱\n",
      "4取钱\n",
      "5取钱\n",
      "6取钱\n"
     ]
    }
   ],
   "source": [
    "for i in [1,2,3,4,5,6]:\n",
    "    print(str(i)+'取钱')\n",
    "for num in [1,2,3,4,5,6]:\n",
    "    print(str(num)+'取钱')\n",
    "for abc in [1,2,3,4,5,6]:\n",
    "    print(str(abc)+'取钱')"
   ]
  },
  {
   "cell_type": "markdown",
   "metadata": {},
   "source": [
    "你看，是不是都能打印出来？这就对了，存号用什么变量名都可以。    \n",
    "好了，如果这人都办完了业务， 这个ATM机里存的号是谁的？运行下面代码, 观察终端里的效果    "
   ]
  },
  {
   "cell_type": "code",
   "execution_count": 10,
   "metadata": {},
   "outputs": [
    {
     "name": "stdout",
     "output_type": "stream",
     "text": [
      "1取钱\n",
      "2取钱\n",
      "3取钱\n",
      "4取钱\n",
      "5取钱\n",
      "6取钱\n",
      "6\n"
     ]
    }
   ],
   "source": [
    "for i in [1,2,3,4,5,6]:\n",
    "    print(str(i)+'取钱')\n",
    "print(i)"
   ]
  },
  {
   "cell_type": "markdown",
   "metadata": {},
   "source": [
    "原来，办完业务之后， ATM机里保存着是最后一个办业务人的号码。    \n",
    "搞清楚这个叫号了，下面我们看一下这群排队等着取钱的人。    \n",
    "### 一群排队等着取钱的人    \n",
    "我们刚刚看到“一群排队等着取钱的人”，都是以列表形式：[1，2，3，4，5，6]出现。 那么还有哪些数据类型可以成为“排队取钱的人”？    \n",
    "小K感觉你已经猜到了， 就是字典。    \n",
    "运行下面代码, 观察终端里的效果。    "
   ]
  },
  {
   "cell_type": "code",
   "execution_count": 12,
   "metadata": {},
   "outputs": [
    {
     "name": "stdout",
     "output_type": "stream",
     "text": [
      "北京\n",
      "上海\n",
      "广州\n"
     ]
    }
   ],
   "source": [
    "city  = {'北京':'天安门','上海':'东方明珠','广州':'珠江'}\n",
    "\n",
    "for i in city:\n",
    "    print(i)"
   ]
  },
  {
   "cell_type": "markdown",
   "metadata": {},
   "source": [
    "我们用print(i)把ATM中的内容打印出来，发现i会逐渐接收字典中的每一个【键】。    \n",
    "那么你猜一下，哪些不属于“一群排队取钱的人”呢。    \n",
    "选择题    \n",
    "请问以下哪项的数据不能放在for i in name这个循环中：    \n",
    "A: name = [10,35,40,80]    \n",
    "B: name = 100    \n",
    "C: name = {'京':'北京','沪':'上海','粤':'广东'}    \n",
    "D: name = '黄晓明'    \n",
    "恭喜你答对了，选B。 B项 name=100,100只是整数，能排队取钱的是列表与字典。    \n",
    "是不是有些疑问？为什么'黄晓明'也可以呢？    \n",
    "不要怀疑，字符串也属于一群排队取钱的人。打个比方，‘黄晓明‘三个字就指的是一家三口， 但去ATM取钱时， 这家人可以一个一个进去。    \n",
    "运行下面代码, 观察终端里的效果。    "
   ]
  },
  {
   "cell_type": "code",
   "execution_count": 14,
   "metadata": {},
   "outputs": [
    {
     "name": "stdout",
     "output_type": "stream",
     "text": [
      "黄\n",
      "晓\n",
      "明\n"
     ]
    }
   ],
   "source": [
    "name = '黄晓明'\n",
    "for i in name:\n",
    "    print(i)\n",
    "    "
   ]
  },
  {
   "cell_type": "markdown",
   "metadata": {},
   "source": [
    "你看， 是不是字符串也可以成为一群排队取钱的人。 而整数、浮点数绝对不是的，整数与浮点数排队取钱会报错的。    \n",
    "江湖秘籍： 字符串、列表、字典都可以是“一群排队取钱的人“。    \n",
    "for in name：这个循环的过程，在python江湖中称为【遍历】。    \n",
    "其实，遍历这个词在古代汉语中已经出现过了    \n",
    "![遍历](./picture/3-8.jpg)\n",
    "只是古人遍历的是山川；而Python遍历的是字符串、列表、字典。    \n",
    "除了字符串、列表、字典三种数据类型，我们还可以结合其他数据遍历。    \n",
    "### range()函数\n",
    "for循环经常和range()函数一起搭配使用。    \n",
    "首先，运行下面代码, 观察终端里的效果。    "
   ]
  },
  {
   "cell_type": "code",
   "execution_count": 15,
   "metadata": {},
   "outputs": [
    {
     "name": "stdout",
     "output_type": "stream",
     "text": [
      "0\n",
      "1\n",
      "2\n",
      "3\n",
      "4\n"
     ]
    }
   ],
   "source": [
    "# 请直接运行代码\n",
    "for i in range(5):\n",
    "    print(i)"
   ]
  },
  {
   "cell_type": "markdown",
   "metadata": {},
   "source": [
    "运行后， 你会看到整数0，1，2，3，4已经打印出来了。 使用range(n)函数，就可以生成一个从0到n-1的整数序列。    \n",
    "它还可以变形。运行下面代码，观察终端里的效果。    "
   ]
  },
  {
   "cell_type": "code",
   "execution_count": 17,
   "metadata": {},
   "outputs": [
    {
     "name": "stdout",
     "output_type": "stream",
     "text": [
      "11\n",
      "12\n",
      "13\n",
      "14\n"
     ]
    }
   ],
   "source": [
    "# 请直接运行代码\n",
    "for i in range(11,15):\n",
    "    print(i)\n",
    "    "
   ]
  },
  {
   "cell_type": "markdown",
   "metadata": {},
   "source": [
    "使用range(x,y) 函数，你可以生成从x到y-1的整数序列。    \n",
    "江湖秘籍：有了range()函数之后，当想把一段代码重复执行n遍时， 就可以直接使用for i in range(n)来解决问题。    \n",
    "来练习一下：如果重复打印“每天想你第n遍”，n从0到6，你会怎么写？    "
   ]
  },
  {
   "cell_type": "code",
   "execution_count": 19,
   "metadata": {},
   "outputs": [
    {
     "name": "stdout",
     "output_type": "stream",
     "text": [
      "每天想你第0遍\n",
      "每天想你第1遍\n",
      "每天想你第2遍\n",
      "每天想你第3遍\n",
      "每天想你第4遍\n",
      "每天想你第5遍\n",
      "每天想你第6遍\n"
     ]
    }
   ],
   "source": [
    "for i in range(7):\n",
    "    print('每天想你第'+str(i)+'遍')"
   ]
  },
  {
   "cell_type": "markdown",
   "metadata": {},
   "source": [
    "range()函数还有另外一种用法， 运行下面代码, 观察终端里的效果。"
   ]
  },
  {
   "cell_type": "code",
   "execution_count": 21,
   "metadata": {},
   "outputs": [
    {
     "name": "stdout",
     "output_type": "stream",
     "text": [
      "0\n",
      "11\n",
      "22\n",
      "33\n",
      "44\n",
      "55\n",
      "66\n",
      "77\n",
      "88\n",
      "99\n"
     ]
    }
   ],
   "source": [
    "for i in range(0,100,11):\n",
    "    print(i)"
   ]
  },
  {
   "cell_type": "markdown",
   "metadata": {},
   "source": [
    "你get到什么没有？ 这里range(0,100,11) 的意思：从0到99（n-1）依次取数， 数与数之间的间隔为11。    \n",
    "### for循环办事流程\n",
    "我们最后来看一下for循环的第三个要点：办事流程。    \n",
    "![办事流程](./picture/3-9.jpg)\n",
    "for循环的办事流程，就是for循环中执行的语句。    \n",
    "运行一下下面代码, 观察终端里的效果。    \n"
   ]
  },
  {
   "cell_type": "code",
   "execution_count": 23,
   "metadata": {},
   "outputs": [
    {
     "name": "stdout",
     "output_type": "stream",
     "text": [
      "3\n",
      "6\n",
      "9\n"
     ]
    }
   ],
   "source": [
    "for i in [1,2,3]:\n",
    "    print(i*3)"
   ]
  },
  {
   "cell_type": "markdown",
   "metadata": {},
   "source": [
    "在这里print(i*3)就是办事流程， 都是print(i*3)。在当从i=1的情况下开始执行print(i*3)，一直执行到i=3把所有人的业务都办完。  \n",
    "![依次取值](./picture/3-10.jpg)\n",
    "办事流程的专名叫【for的循环体】：格式是【冒号】后另起一行，【缩进】写命令。    \n",
    "格式对于编程来说，是件特别需要注意的事情。不要大意失荆州哦。再强调一下for循环的格式：    \n",
    "![for循环格式](./picture/3-11.jpg)\n",
    "好了，到这里就掌握了for循环的用法。    \n",
    "下面来做一个练习， 我们将前面例子city = {'北京':'天安门','上海':'东方明珠','广州':'珠江'}中的天安门、东方明珠、珠江打印出来。    \n",
    "如果在之前，没有使用过for循环的时候，我们会这么干。    \n",
    "![for之前](./picture/3-12.jpg)"
   ]
  },
  {
   "cell_type": "code",
   "execution_count": 25,
   "metadata": {},
   "outputs": [
    {
     "name": "stdout",
     "output_type": "stream",
     "text": [
      "北京\n",
      "上海\n",
      "广州\n"
     ]
    }
   ],
   "source": [
    "city = {'北京':'天安门','上海':'东方明珠','广州':'珠江'}\n",
    "for i in city:\n",
    "    print(i)"
   ]
  },
  {
   "cell_type": "markdown",
   "metadata": {},
   "source": [
    "到这里for循环就讲完了， 一起回顾一下。    \n",
    "![for回顾](./picture/3-14.jpg)\n",
    "好了，我们学习了for循环， 下面来学习一下另外一种循环:while循环。    \n",
    "### While循环\n",
    "先和while循环混个脸熟，看一下while循环的颜值    \n",
    "![while循环](./picture/3-15.jpg)"
   ]
  },
  {
   "cell_type": "code",
   "execution_count": 27,
   "metadata": {},
   "outputs": [
    {
     "name": "stdout",
     "output_type": "stream",
     "text": [
      "1\n",
      "2\n",
      "3\n",
      "4\n",
      "5\n",
      "6\n"
     ]
    }
   ],
   "source": [
    "x = 0 \n",
    "while x < 6:\n",
    "    x = x+1\n",
    "    print(x)"
   ]
  },
  {
   "cell_type": "markdown",
   "metadata": {},
   "source": [
    "是不是1，2，3，4，5，6依次打印出现？    \n",
    "它和for循环不同，它不叫号，也不是把一群排队等着取钱的人的业务做完。它是在“一定条件下“，”按流程办事”。    \n",
    "![while](./picture/3-16.jpg)\n",
    "![while](./picture/3-17.jpg)\n",
    "显然，while循环只需要两个步骤：1、设定条件 2、办事流程    \n",
    "### while循环:设定条件\n",
    "![while设定条件](./picture/3-18.jpg)\n",
    "while循环在英文中表示“当”， while后面跟条件，当满足条件时，才会执行while内部的循环体。    \n",
    "所以，while循环类似于高速上的收费站：只要你满足条件，那你就可以一遍又一遍循环“按流程办事”。    \n",
    "就在上面例子中，只要满足条件x<6， 就会不停的执行x=x+1，print(x+1)打印出来，直到不满足条件后，就停止办事流程。    \n",
    "同样，while循环也有代码规范。    \n",
    "![while设定条件](./picture/3-19.jpg)\n",
    "江湖秘籍：冒号还是英文输入法下的冒号哦。      \n",
    "刚才黄晓明家的Angelababy去取钱，需要输密码，只要密码输入错误，ATM就会一直让她输密码，如果密码输入正确，就会显示银行卡余额。银行卡的密码是520666。    \n",
    "这段代码，我先写出来，你运行一下。    "
   ]
  },
  {
   "cell_type": "code",
   "execution_count": 28,
   "metadata": {},
   "outputs": [
    {
     "name": "stdout",
     "output_type": "stream",
     "text": [
      "请输入银行卡密码：502666\n",
      "请输入银行卡密码：520666\n",
      "卡内还有999999999999元~\n"
     ]
    }
   ],
   "source": [
    "pwd = ''  # 注：这个''代表空字符串\n",
    "while pwd != '520666':\n",
    "    pwd = input('请输入银行卡密码：')\n",
    "print('卡内还有999999999999元~')"
   ]
  },
  {
   "cell_type": "markdown",
   "metadata": {},
   "source": [
    "感受到while循环的逻辑没有，是不是很简单。    \n",
    "这里 pwd!=520666就是while循环设定的条件， 只要满足这个条件，就会一直执行while循环里面的循环体pwd = input('请输入银行卡密码：')。    \n",
    "好了，接下来我们看看while循环的第二个要点：办事流程。    \n",
    "### while循环：办事流程    \n",
    "![while办事流程](./picture/3-20.jpg)\n",
    "while循环，在满足设定条件后，会一遍又一遍的循环执行办事流程。    \n",
    "来道题，看看大家如何理解while循环的:    \n",
    "#### 代码片段\n",
    "```\n",
    "a=0\n",
    "while a<4:\n",
    "    a = a+1\n",
    "print(a)\n",
    "```\n",
    "选择题    \n",
    "观察上面代码，如果运行代码，终端中的结果是？    \n",
    "A: 5    \n",
    "B: 4    \n",
    "C: 1，2，3，4依次出现    \n",
    "恭喜你答对了，选B。 print(a)这句代码没有缩进，不在while循环中，所以print(a)只会打印最后一次的内容，即为4。    \n",
    "所以说，你要看好，while 设定条件：后面的循环体语句必须缩进，只有缩进了才是while循环的循环体，才能一遍又一遍的执行。    \n",
    "好了，我们运行下面代码, 观察终端里的效果。    "
   ]
  },
  {
   "cell_type": "code",
   "execution_count": 29,
   "metadata": {},
   "outputs": [
    {
     "name": "stdout",
     "output_type": "stream",
     "text": [
      "while循环内\n",
      "1\n",
      "while循环内\n",
      "2\n",
      "while循环内\n",
      "3\n",
      "while循环内\n",
      "4\n",
      "while循环外\n",
      "4\n"
     ]
    }
   ],
   "source": [
    "a = 0\n",
    "while a < 4:\n",
    "    a = a + 1\n",
    "    print(\"while循环内\")\n",
    "    print(a)\n",
    "print(\"while循环外\")\n",
    "print(a)"
   ]
  },
  {
   "cell_type": "markdown",
   "metadata": {},
   "source": [
    "![while循环内外](./picture/3-21.jpg)\n",
    "好了，到这里，while循环的知识学完了。    \n",
    "现在，我们 已经学习了for循环与while循环，下面，我们对比一下，两个循环有什么区别。    \n",
    "### for循环与while循环对比\n",
    "for循环和while循环最大的区别就是在于【循环的工作量是否确定】，for循环就像ATM依次取钱一样，直到把所有人的钱都取完才下班。但是while循环就像收费站一样，只要【满足条件】就干活，不满足条件不干活。    \n",
    "![while循环内外](./picture/3-22.jpg)\n",
    "把‘黄晓明‘拆成一个一个字符，这件事属于【循环的工作量已经确定】。    \n",
    "而对于输入密码，判断是否正确这件事，我们也不知道Angelababy输几次密码才能搞定呀。    \n",
    "江湖秘籍：看下图，保存好，当以后行走江湖遇到for循环与while循环的时候，再看看。    \n",
    "![for循环和while循环](./picture/3-23.jpg)"
   ]
  },
  {
   "cell_type": "markdown",
   "metadata": {},
   "source": [
    "### 题目要求\n",
    "循环打印1到10之间到数字，排除数字4\n",
    "### 题目讲解\n",
    "陈赫学习了for循环之后，他想循环打印1到10，但是他不喜欢数字4，不想让数字4打印出来。请你帮陈赫完成这个练习（提示：“不等于”用“!=”表示）\n",
    "### 书写代码\n"
   ]
  },
  {
   "cell_type": "code",
   "execution_count": 31,
   "metadata": {},
   "outputs": [
    {
     "name": "stdout",
     "output_type": "stream",
     "text": [
      "1\n",
      "2\n",
      "3\n",
      "5\n",
      "6\n",
      "7\n",
      "8\n",
      "9\n",
      "10\n"
     ]
    }
   ],
   "source": [
    "for i in range(1,11):\n",
    "    if i!=4:\n",
    "        print(i)"
   ]
  },
  {
   "cell_type": "markdown",
   "metadata": {},
   "source": [
    "### 题目要求\n",
    "需要循环输入跑男团队每个人的身高，只要找到一个身高高于170的就去搬水；如果找不到，就一直循环\n",
    "### 题目讲解\n",
    "跑男团队今天接到一个任务，个子高的童鞋去搬水。\n",
    "### 书写代码\n"
   ]
  },
  {
   "cell_type": "code",
   "execution_count": null,
   "metadata": {},
   "outputs": [],
   "source": [
    "height = 0   \n",
    "while height<170:\n",
    "    height = int(input('继续输入身高：'))\n",
    "print('已经找到人去搬水了~')"
   ]
  },
  {
   "cell_type": "code",
   "execution_count": 50,
   "metadata": {},
   "outputs": [
    {
     "name": "stdout",
     "output_type": "stream",
     "text": [
      "True\n",
      "False\n",
      "True\n",
      "False\n",
      "以下数据判断结果都是【真】：\n",
      "True\n",
      "True\n",
      "True\n",
      "以下数据判断结果都是【假】：\n",
      "False\n",
      "False\n",
      "False\n",
      "False\n",
      "以下是and运算\n",
      "False\n",
      "以下是or运算\n",
      "True\n",
      "in 计算\n",
      "True\n",
      "False\n",
      "False\n",
      "1\n",
      "2\n",
      "3\n",
      "4\n",
      "5\n",
      "1\n",
      "2\n",
      "3\n",
      "4\n",
      "5\n",
      "1\n",
      "2\n",
      "3\n",
      "4\n",
      "6\n",
      "7\n",
      "8\n",
      "9\n",
      "10\n",
      "1\n",
      "2\n",
      "3\n",
      "4\n",
      "6\n",
      "7\n",
      "8\n",
      "9\n",
      "10\n"
     ]
    }
   ],
   "source": [
    "print(3<6)\n",
    "print(3>6)\n",
    "print('北京'=='北京')  \n",
    "print('北京'=='首都')\n",
    "\n",
    "import time\n",
    "# time.sleep(1)\n",
    "\n",
    "# 请阅读代码后再直接运行\n",
    "\n",
    "\n",
    "print('以下数据判断结果都是【真】：')\n",
    "print(bool(True))\n",
    "print(bool(10))\n",
    "print(bool('xyz'))\n",
    "\n",
    "print('以下数据判断结果都是【假】：')\n",
    "print(bool(False))\n",
    "print(bool(0))\n",
    "print(bool(''))\n",
    "print(bool(None))\n",
    "\n",
    "# 请先阅读代码，然后直接运行\n",
    "a = 5\n",
    "b = -5\n",
    "\n",
    "print('以下是and运算')\n",
    "if a==5 and b==5:    # 【b实际上是-5】\n",
    "    print('True')\n",
    "else:\n",
    "    print('False')\n",
    "\n",
    "print('以下是or运算')\n",
    "if a==5 or b==5:  # 【b实际上是-5】\n",
    "    print('True')\n",
    "else:\n",
    "    print('False')\n",
    "    \n",
    "    # 请先阅读代码，然后直接运行\n",
    "list = [1,2,3,4]\n",
    "\n",
    "a = 1\n",
    "b = 10\n",
    "c = 0\n",
    "print(\"in 计算\")\n",
    "print(bool(a in list))\n",
    "print(bool(b in list))\n",
    "print(bool(c in list))\n",
    "\n",
    "# 请先阅读代码，然后直接运行\n",
    "for i in range(1,10):\n",
    "    if(i>5):\n",
    "        break\n",
    "    print(i)\n",
    "\n",
    "x = 0\n",
    "while x<10:\n",
    "    if(x>4):\n",
    "        break\n",
    "    x=x+1\n",
    "    print(x)\n",
    "    \n",
    "    # 请先阅读代码，然后直接运行\n",
    "for i in range(1,11):\n",
    "    if i==5:\n",
    "        continue\n",
    "    print(i)\n",
    "\n",
    "x = 0\n",
    "while x<10:\n",
    "    x=x+1\n",
    "    if x==5:\n",
    "        continue\n",
    "    else:   \n",
    "        print(x)"
   ]
  },
  {
   "cell_type": "code",
   "execution_count": 52,
   "metadata": {},
   "outputs": [
    {
     "name": "stdout",
     "output_type": "stream",
     "text": [
      "请输入你的年龄:1\n",
      "你未成年，不得进入网吧\n"
     ]
    }
   ],
   "source": [
    "# 请先阅读代码，然后直接运行\n",
    "age = int(input('请输入你的年龄:'))\n",
    "if age >= 18:\n",
    "    pass\n",
    "else:\n",
    "    print('你未成年，不得进入网吧')"
   ]
  },
  {
   "cell_type": "code",
   "execution_count": 59,
   "metadata": {},
   "outputs": [
    {
     "name": "stdout",
     "output_type": "stream",
     "text": [
      "请输入0结束循环，你有3次机会:0\n",
      "你触发了break语句，导致else语句不会生效。\n",
      "请输入0结束循环，你有3次机会:0\n",
      "你触发了break语句，导致else语句不会生效。\n"
     ]
    }
   ],
   "source": [
    "#else语句不仅能够在if语句中使用，还能够和循环搭配使用\n",
    "for i in range(3):\n",
    "    num = int(input('请输入0结束循环，你有3次机会:'))\n",
    "    if num == 0:\n",
    "        print('你触发了break语句，导致else语句不会生效。')    \n",
    "        break\n",
    "else:\n",
    "    print('3次循环你都错过了，else语句生效了。')\n",
    "    \n",
    "    \n",
    "# 请先阅读代码，然后直接运行\n",
    "num=0\n",
    "while num<3:\n",
    "    n = int(input('请输入0结束循环，你有3次机会:'))\n",
    "    if n == 0:\n",
    "        print('你触发了break语句，导致else语句不会生效。')    \n",
    "        break\n",
    "    num+=1\n",
    "else:\n",
    "    print('3次循环你都错过了，else语句生效了。')"
   ]
  },
  {
   "cell_type": "code",
   "execution_count": 61,
   "metadata": {},
   "outputs": [
    {
     "name": "stdout",
     "output_type": "stream",
     "text": [
      "你们猜猜数字是多少:7\n",
      "正确！给你一个苹果\n"
     ]
    }
   ],
   "source": [
    "num = 7  #设定秘密数字\n",
    "while True:       \n",
    "    guess = int(input('你们猜猜数字是多少:'))   #输入猜测数字\n",
    "    if guess==num:  #数字对比\n",
    "        print('正确！给你一个苹果') \n",
    "        break\n",
    "    elif guess>num:\n",
    "        print('你猜的太大了，重新猜猜~')\n",
    "    else:\n",
    "        print('你猜的太小了，重新猜猜~')"
   ]
  },
  {
   "cell_type": "code",
   "execution_count": 62,
   "metadata": {},
   "outputs": [
    {
     "name": "stdout",
     "output_type": "stream",
     "text": [
      "1\n",
      "2\n",
      "4\n",
      "5\n",
      "7\n",
      "8\n",
      "10\n",
      "11\n",
      "13\n",
      "14\n",
      "16\n",
      "17\n",
      "19\n",
      "20\n"
     ]
    }
   ],
   "source": [
    "for i in range(1,21):\n",
    "    if i%3  == 0:\n",
    "        continue\n",
    "    else:\n",
    "        print(i)"
   ]
  }
 ],
 "metadata": {
  "kernelspec": {
   "display_name": "Python 3",
   "language": "python",
   "name": "python3"
  },
  "language_info": {
   "codemirror_mode": {
    "name": "ipython",
    "version": 3
   },
   "file_extension": ".py",
   "mimetype": "text/x-python",
   "name": "python",
   "nbconvert_exporter": "python",
   "pygments_lexer": "ipython3",
   "version": "3.7.7"
  }
 },
 "nbformat": 4,
 "nbformat_minor": 4
}
