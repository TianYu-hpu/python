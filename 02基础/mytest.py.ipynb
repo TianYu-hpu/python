{
 "cells": [
  {
   "cell_type": "code",
   "execution_count": 1,
   "metadata": {},
   "outputs": [
    {
     "name": "stdout",
     "output_type": "stream",
     "text": [
      "驭风少年\n",
      "hello函数正在运行\n",
      "我是类,我是驭风少年\n",
      "类在运行\n"
     ]
    }
   ],
   "source": [
    "#mytest模块\n",
    "strtest = '驭风少年'\n",
    "\n",
    "def hello():\n",
    "    intro = \"你好,我是驭风少年函数\"\n",
    "    print(\"hello函数正在运行\")\n",
    "\n",
    "class Test:\n",
    "    strClass = \"我是类,我是驭风少年\"\n",
    "    def go(self):\n",
    "        print(\"类在运行\")"
   ]
  }
 ],
 "metadata": {
  "kernelspec": {
   "display_name": "Python 3",
   "language": "python",
   "name": "python3"
  },
  "language_info": {
   "codemirror_mode": {
    "name": "ipython",
    "version": 3
   },
   "file_extension": ".py",
   "mimetype": "text/x-python",
   "name": "python",
   "nbconvert_exporter": "python",
   "pygments_lexer": "ipython3",
   "version": "3.7.7"
  }
 },
 "nbformat": 4,
 "nbformat_minor": 4
}
