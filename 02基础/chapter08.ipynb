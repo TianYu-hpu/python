{
 "cells": [
  {
   "cell_type": "markdown",
   "metadata": {},
   "source": [
    "# 快递程序\n",
    "这节课,我们做一个闪电快递配送的项目, 用来解决快递配送的人员与送货量的配比问题。    \n",
    "这次开发实用程序的流程和上次是一模一样。      \n",
    "![项目路程](./picture/8-1.jpg)\n",
    "接下来，我们一步一步来实现这个项目。    \n",
    "## 明确项目目的\n",
    "先来看一下项目需求：    \n",
    "![项目路程](./picture/8-2.jpg)\n",
    "整理了下需求，需求是这样子的    \n",
    "![项目需求](./picture/8-3.jpg)\n",
    "看完了项目需求，那个快递老板朋友又来了。    \n",
    "![项目需求](./picture/8-4.jpg)\n",
    "既然我那BOSS朋友要的急，那我们使用“敏捷开发”。 我们来分析一下这个项目。    \n",
    "## 分析流程，拆解项目\n",
    "我们的任务就是做一个“快递配送调配程序”，虽然这朋友要的比较着急，但是我们也不着急于编程开发，应该先梳理清楚需求，做出的程序功能达到什么样的效果。    \n",
    "计算器，首先配送站BOSS要输入信息，然后自动计算出结果。为了搞清楚计算过程，我们得到计算公式。    \n",
    "### 梳理需求，得到下图结果：\n",
    "![项目需求](./picture/8-5.png)\n",
    "根据上面的分析，试着补全代码，将计算公式写在下面，运行程序。    "
   ]
  },
  {
   "cell_type": "code",
   "execution_count": 3,
   "metadata": {},
   "outputs": [],
   "source": [
    "# 配送次数计算公式\n",
    "size = 2\n",
    "person = 2\n",
    "num = size * 100 / 20/person\n",
    "\n",
    "# 配送员数计算公式\n",
    "size = 0.6\n",
    "num = 1\n",
    "person = size *100 /20/ num"
   ]
  },
  {
   "cell_type": "markdown",
   "metadata": {},
   "source": [
    "我们已经搞定了计算公式，接下来我们拆分一下阶段版本。    \n",
    "因为这BOSS朋友着急，先做出程序，以后再优化吧。所以，我们把程序版本大致规划成3个阶段。    \n",
    "![项目拆分](./picture/8-6.jpg)\n",
    "明确每个阶段任务后，接下来我们逐步用代码实现功能。    \n",
    "### 逐步执行，代码实现    \n",
    "先来解决1.0版本。    \n",
    "#### 3.1 先能用\n",
    "![项目拆分](./picture/8-7.jpg)\n",
    "做一个“能用就好”的基本程序，我们把输入的内容当成函数参数，传入到函数中，完成计算功能。    \n",
    "大概是这个样子。    \n"
   ]
  },
  {
   "cell_type": "code",
   "execution_count": 5,
   "metadata": {},
   "outputs": [
    {
     "name": "stdout",
     "output_type": "stream",
     "text": [
      "1.0个标准集装箱大的快递项目，使用1位快递员配送，则需要配送次数5次：\n",
      "2.0个标准集装箱大的快递项目，2次配送完毕，则需要快递员数：5位\n"
     ]
    }
   ],
   "source": [
    "# 配送次数计算\n",
    "def calculate_num(size,person):\n",
    "    #配送次数计算过程\n",
    "    num = size * 100 / 20/person\n",
    "    print('%.1f个标准集装箱大的快递项目，使用%d位快递员配送，则需要配送次数%d次：' %(size,person,num))\n",
    "# 快递员数计算\n",
    "def calculate_person(size,num):\n",
    "    #快递员数计算过程\n",
    "    person = size *100 /20/ num\n",
    "    print('%.1f个标准集装箱大的快递项目，%d次配送完毕，则需要快递员数：%d位' %(size,num,person))\n",
    "\n",
    "calculate_num(1,1)\n",
    "calculate_person(2,2)"
   ]
  },
  {
   "cell_type": "markdown",
   "metadata": {},
   "source": [
    "### 3.2 再改进\n",
    "![2.0](./picture/8-8.jpg)\n",
    "BOSS朋友拿走程序，运行了一下，又回来了，原来是程序有问题。   \n",
    "![bug](./picture/8-9.jpg)\n",
    "那么问题来了，无论小数点之后是点几，都要向上进一取整数。也就是1.5转成2，1.9转成2，1.1转成2，即对人数需要向上取整。    \n",
    "啥叫向上取整？还是问一下度娘吧。    \n",
    "![baidu](./picture/8-10.jpg)\n",
    "点进去看看。    \n",
    "![baidu](./picture/8-11.jpg)\n",
    "发现：向上取整是math.ceil(), 括号内放数字。    \n",
    "也就是使用math.ceil()方法，就能把数字向上取整。并且在开始位置，有一句import math， 怎么有些似曾相识. 在上个项目实战中，我们使用随机数，也用过import math代码。    \n",
    "我们使用math.ceil()将我们的小数进行向上取整吧。    \n",
    "运行一下下面代码, 观察终端里的效果。    "
   ]
  },
  {
   "cell_type": "code",
   "execution_count": 6,
   "metadata": {},
   "outputs": [
    {
     "name": "stdout",
     "output_type": "stream",
     "text": [
      "1.5个标准集装箱大的快递项目，使用2位快递员配送，则需要配送次数4次\n",
      "0.5个标准集装箱大的快递项目，1次配送完毕，则需要快递员数：3位\n"
     ]
    }
   ],
   "source": [
    "import math\n",
    "# 配送调配计算\n",
    "# 设置默认参数\n",
    "def calculate_job(types,size,other):\n",
    "    if types ==1:\n",
    "        #配送次数计算过程\n",
    "        num = math.ceil(size * 100 / 20/other) \n",
    "        print('%.1f个标准集装箱大的快递项目，使用%d位快递员配送，则需要配送次数%d次' %(size,other,num))\n",
    "    elif types==2:\n",
    "        #快递员数计算过程\n",
    "        person = math.ceil(size *100 /20/ other)\n",
    "        print('%.1f个标准集装箱大的快递项目，%d次配送完毕，则需要快递员数：%d位' %(size,other,person))\n",
    "calculate_job(1,1.5,2)\n",
    "calculate_job(2,0.5,1)"
   ]
  },
  {
   "cell_type": "markdown",
   "metadata": {},
   "source": [
    "现在解决了项目bug，感觉应该可以了。    \n",
    "等等，BOSS朋友需要使用两个函数才能计算配送次数，计算配送员数，有没有办法能够让她使用一个函数就能完成功能。    \n",
    "如何解决这个问题？还是用之前方法流程来处理：    \n",
    "![优化](./picture/8-12.jpg)\n",
    "那么这个功能，第一步就可以这样子：    \n",
    "```\n",
    "# 工作量计算函数\n",
    "def calculate_job(参数……):\n",
    "    ……\n",
    "\n",
    "# 调用工作量计算函数\n",
    "calculate_job(参数……)\n",
    "```\n",
    "要想实现这样效果，我们怎么传递参数，才能让函数区分是【计算配送次数】还是【计算配送员数】。    \n",
    "选择题    \n",
    "大家觉得应该用哪个知识来解决？    \n",
    "A:循环    \n",
    "B:条件判断    \n",
    "C:字符串拼接    \n",
    "当然选B啦。区分两种情况，当然用条件判断啊。    \n",
    "既然用条件判断，我们的代码就可以写成：    \n",
    "```\n",
    "# 工作量计算函数\n",
    "def calculate_job(参数……):\n",
    "    if 条件1：\n",
    "        ......#计算配送员数\n",
    "    elif 条件2：\n",
    "        ......#计算配送次数\n",
    "\n",
    "# 调用工作量计算函数\n",
    "calculate_job(参数……)\n",
    "```\n",
    "OK，现在问题又进了一步。也就是解决条件1与条件2，计算工作量即可。    \n",
    "还有一个问题，就是参数如何设置。    \n",
    "昨天在学习函数时，设置过默认参数，而函数调用时，还能替换掉默认参数，我们就利用函数的特性来解决这个问题。    "
   ]
  },
  {
   "cell_type": "code",
   "execution_count": 8,
   "metadata": {},
   "outputs": [
    {
     "name": "stdout",
     "output_type": "stream",
     "text": [
      "1.5个标准集装箱大的快递项目，使用2位快递员配送，则需要配送次数4次\n",
      "0.5个标准集装箱大的快递项目，1次配送完毕，则需要快递员数：3位\n"
     ]
    }
   ],
   "source": [
    "import math\n",
    "# 配送调配计算\n",
    "# 设置默认参数\n",
    "def calculate_job(size=1,person=None,num=None):\n",
    "    if(person !=None)and(num==None):\n",
    "         #配送次数计算过程\n",
    "        num = math.ceil(size * 100 / 20/person) \n",
    "        print('%.1f个标准集装箱大的快递项目，使用%d位快递员配送，则需要配送次数%d次' %(size,person,num))\n",
    "    elif(person==None)and(num!=None):\n",
    "        #快递员数计算过程\n",
    "        person = math.ceil(size *100 /20/ num)\n",
    "        print('%.1f个标准集装箱大的快递项目，%d次配送完毕，则需要快递员数：%d位' %(size,num,person))\n",
    "calculate_job(size=1.5,person=2)\n",
    "calculate_job(size=0.5,num=1)"
   ]
  },
  {
   "cell_type": "markdown",
   "metadata": {},
   "source": [
    "但是，我们在调用函数的时候，你还要输入参数名与参数值，太麻烦，我们能不能有个简单方法。    "
   ]
  },
  {
   "cell_type": "code",
   "execution_count": 10,
   "metadata": {},
   "outputs": [
    {
     "name": "stdout",
     "output_type": "stream",
     "text": [
      "1.5个标准集装箱大的快递项目，使用2位快递员配送，则需要配送次数4次\n",
      "0.5个标准集装箱大的快递项目，1次配送完毕，则需要快递员数：3位\n"
     ]
    }
   ],
   "source": [
    "import math\n",
    "# 配送调配计算\n",
    "# 设置默认参数\n",
    "def calculate_job(types,size,other):\n",
    "    if types ==1:\n",
    "        #配送次数计算过程\n",
    "        num = math.ceil(size * 100 / 20/other) \n",
    "        print('%.1f个标准集装箱大的快递项目，使用%d位快递员配送，则需要配送次数%d次' %(size,other,num))\n",
    "    elif types==2:\n",
    "        #快递员数计算过程\n",
    "        person = math.ceil(size *100 /20/ other)\n",
    "        print('%.1f个标准集装箱大的快递项目，%d次配送完毕，则需要快递员数：%d位' %(size,other,person))\n",
    "calculate_job(1,1.5,2)\n",
    "calculate_job(2,0.5,1)"
   ]
  },
  {
   "cell_type": "markdown",
   "metadata": {},
   "source": [
    "### 3.3 精细化\n",
    "![项目拆分](./picture/8-13.jpg)\n",
    "![项目拆分](./picture/8-14.jpg)\n",
    "BOSS朋友不想每次都去调用函数，才能计算结果，那就给她整个交互过程。    \n",
    "分析如下：    \n",
    "![项目拆分](./picture/8-15.jpg)\n",
    "增加可交互性，让BOSS朋友只输入内容即可， 使用input()函数。"
   ]
  },
  {
   "cell_type": "code",
   "execution_count": 11,
   "metadata": {},
   "outputs": [
    {
     "name": "stdout",
     "output_type": "stream",
     "text": [
      "请选择需要计算的工作：1-配送次数计算，2-快递员数计算，请选择2\n",
      "请输入项目大小：1代表标准，还可以输入其他倍数或小数2\n",
      "请输入快递次数，请输入整数2\n",
      "计算结果如下\n",
      "2.0个标准集装箱大的快递项目，2次配送完毕，则需要快递员数：5位\n"
     ]
    }
   ],
   "source": [
    "import math\n",
    "types = int(input('请选择需要计算的工作：1-配送次数计算，2-快递员数计算，请选择')) \n",
    "sizes = float(input('请输入项目大小：1代表标准，还可以输入其他倍数或小数'))\n",
    "if types ==1:\n",
    "    others = int(input('请输入投入的快递员数，请输入整数'))\n",
    "else:\n",
    "    others = int(input('请输入快递次数，请输入整数'))\n",
    "\n",
    "# 配送调配计算\n",
    "# 设置默认参数\n",
    "def calculate_job(types,sizes,others):\n",
    "    print('计算结果如下')\n",
    "    if types ==1:\n",
    "         #配送次数计算过程\n",
    "        num = math.ceil(sizes * 100 / 20/others)\n",
    "        print('%.1f个标准集装箱大的快递项目，使用%d位快递员配送，则需要配送次数%d次' %(sizes,others,num))\n",
    "    elif types==2:\n",
    "        #快递员数计算过程\n",
    "        person = math.ceil(sizes *100 /20/ others)\n",
    "        print('%.1f个标准集装箱大的快递项目，%d次配送完毕，则需要快递员数：%d位' %(sizes,others,person))\n",
    "\n",
    "calculate_job(types,sizes,others)"
   ]
  },
  {
   "cell_type": "markdown",
   "metadata": {},
   "source": [
    "看，是不是可以输入了。    \n",
    "但是，有bug唉。    \n",
    "不信，贴图来看    \n",
    "![bug](./picture/8-16.jpg)\n",
    "当我们选择计算配送次数， 项目大小为2.2倍，快递员数为1时。 计算工时：需要配送次数 = 2.2*100/20/1 ，得到的结果应该是11次，可是打印出来却是12次。    \n",
    "这是为什么呢？ 还是老问题， python江湖中的除法，会将数字都转换二进制再进行计算，得到的结果是一个二进制，造成数字增加。不信，你运行一下下面程序。    "
   ]
  },
  {
   "cell_type": "code",
   "execution_count": 14,
   "metadata": {},
   "outputs": [
    {
     "name": "stdout",
     "output_type": "stream",
     "text": [
      "11.000000000000002\n",
      "12\n"
     ]
    }
   ],
   "source": [
    "import math\n",
    "print(2.2*100/20)\n",
    "print(math.ceil(2.2*100/20))"
   ]
  },
  {
   "cell_type": "markdown",
   "metadata": {},
   "source": [
    "明明可以整除的，造成还存在小数部分，然后向上取整后得到12。    \n",
    "那么有没有办法可以改变。    \n",
    "有， 我们使用math中的round函数。    \n",
    "运行一下下面代码。    "
   ]
  },
  {
   "cell_type": "code",
   "execution_count": 16,
   "metadata": {},
   "outputs": [
    {
     "name": "stdout",
     "output_type": "stream",
     "text": [
      "11.0\n"
     ]
    }
   ],
   "source": [
    "import math\n",
    "print(round(2.2*100/20,2))"
   ]
  },
  {
   "cell_type": "markdown",
   "metadata": {},
   "source": [
    "是不是没问题了。    \n",
    "round()函数是python中提供解决小数的保留问题。此函数格式round(x ，n) x表示小数，n表示需要保留的小数位。    \n",
    "我们保留小数2位，将round加入到我们的案例方法中。    \n",
    "运行以下代码，观察终端结果。    "
   ]
  },
  {
   "cell_type": "code",
   "execution_count": 17,
   "metadata": {},
   "outputs": [
    {
     "name": "stdout",
     "output_type": "stream",
     "text": [
      "请选择需要计算的工作：1-配送次数计算，2-快递员数计算，请选择1\n",
      "请输入项目大小：1代表标准，还可以输入其他倍数或小数1\n",
      "请输入投入的快递员数，请输入整数1\n",
      "计算结果如下\n",
      "1.0个标准集装箱大的快递项目，使用1位快递员配送，则需要配送次数5次\n"
     ]
    }
   ],
   "source": [
    "import math\n",
    "types = int(input('请选择需要计算的工作：1-配送次数计算，2-快递员数计算，请选择')) \n",
    "sizes = float(input('请输入项目大小：1代表标准，还可以输入其他倍数或小数'))\n",
    "if types ==1:\n",
    "    others = int(input('请输入投入的快递员数，请输入整数'))\n",
    "else:\n",
    "    others = int(input('请输入快递次数，请输入整数'))\n",
    "\n",
    "# 配送调配计算\n",
    "# 设置默认参数\n",
    "def calculate_job(types,sizes,others):\n",
    "    print('计算结果如下')\n",
    "    if types ==1:\n",
    "         #配送次数计算过程\n",
    "        num = math.ceil(round((sizes * 100 / 20/others),2))\n",
    "        print('%.1f个标准集装箱大的快递项目，使用%d位快递员配送，则需要配送次数%d次' %(sizes,others,num))\n",
    "    elif types==2:\n",
    "        #快递员数计算过程\n",
    "        person = math.ceil(round((sizes *100 /20/ others),2))\n",
    "        print('%.1f个标准集装箱大的快递项目，%d次配送完毕，则需要快递员数：%d位' %(sizes,others,person))\n",
    "\n",
    "calculate_job(types,sizes,others)"
   ]
  },
  {
   "cell_type": "markdown",
   "metadata": {},
   "source": [
    "BOSS朋友是不是可以输入了。    \n",
    "但是，按照函数封装代码的思想，我们现在代码写的很杂。    \n",
    "那我们把它优化一下？    \n",
    "怎么优化呢？    \n",
    "江湖箴言：创建一个主函数，用来调用其他子函数。   \n",
    "这不就是函数的嵌套吗？   \n",
    "![主函数](./picture/8-17.jpg)"
   ]
  },
  {
   "cell_type": "code",
   "execution_count": 5,
   "metadata": {},
   "outputs": [
    {
     "name": "stdout",
     "output_type": "stream",
     "text": [
      "请选择需要计算的工作：1-配送次数计算，2-快递员数计算，请选择1\n",
      "请输入项目大小：1代表标准，还可以输入其他倍数或小数1\n",
      "请输入投入的快递员数，请输入整数1\n",
      "计算结果如下\n",
      "1.0个标准集装箱大的快递项目，使用1位快递员配送，则需要配送次数5次\n"
     ]
    }
   ],
   "source": [
    "import math\n",
    "\n",
    "def BOSS_input():\n",
    "    # 输入内容\n",
    "    types = int(input('请选择需要计算的工作：1-配送次数计算，2-快递员数计算，请选择')) \n",
    "    sizes = float(input('请输入项目大小：1代表标准，还可以输入其他倍数或小数'))\n",
    "    if types ==1:\n",
    "        others = int(input('请输入投入的快递员数，请输入整数'))\n",
    "    else:\n",
    "        others = int(input('请输入快递次数，请输入整数'))\n",
    "    \n",
    "    return types,sizes,others  #这里返回一个数组\n",
    "\n",
    "#计算工作量\n",
    "def calculate_job(data_input):\n",
    "    #获取参数数值\n",
    "    types = data_input[0]\n",
    "    sizes = data_input[1]\n",
    "    others = data_input[2]\n",
    "\n",
    "    print('计算结果如下')\n",
    "    if types ==1:\n",
    "         #配送次数计算过程\n",
    "        num = math.ceil(round((sizes * 100 / 20/others),2))\n",
    "        print('%.1f个标准集装箱大的快递项目，使用%d位快递员配送，则需要配送次数%d次' %(sizes,others,num))\n",
    "    elif types==2:\n",
    "        #快递员数计算过程\n",
    "        person = math.ceil(round((sizes *100 /20/ others),2))\n",
    "        print('%.1f个标准集装箱大的快递项目，%d次配送完毕，则需要快递员数：%d位' %(sizes,others,person))\n",
    "\n",
    "\n",
    "#主函数\n",
    "def res():\n",
    "    data_input = BOSS_input()\n",
    "    calculate_job(data_input)\n",
    "    \n",
    "#调用主函数\n",
    "res()"
   ]
  },
  {
   "cell_type": "markdown",
   "metadata": {},
   "source": [
    "### 题目要求\n",
    "通过自己方法，完成向上取整.      \n",
    "用户输入1.1，变成2     \n",
    "用户输入1.5，变成2     \n",
    "用户输入1.9，变成2    \n",
    "### 题目讲解\n",
    "在这节课的案例中，我们使用了math.ceil()函数进行小数向上取整，我们能不能不使用math.ceil()函数，自己制作一个向上取整的函数。\n",
    "### 书写代码"
   ]
  },
  {
   "cell_type": "code",
   "execution_count": 6,
   "metadata": {},
   "outputs": [
    {
     "name": "stdout",
     "output_type": "stream",
     "text": [
      "请输入数字：1\n",
      "1\n"
     ]
    }
   ],
   "source": [
    "def rounding(num):\n",
    "    if num%1==0:\n",
    "        return int(num)\n",
    "    else:\n",
    "    \tdata = int(num)+1\n",
    "    \treturn data\n",
    "num=float(input('请输入数字：'))\n",
    "num1 = rounding(num)\n",
    "print(num1)"
   ]
  },
  {
   "cell_type": "markdown",
   "metadata": {},
   "source": [
    "### 题目要求\n",
    "出租车车费计算方式如下：    \n",
    "1、打车距离在3公里以内，只收起步价15元。     \n",
    "2、距离在3公里~15公里，每1公里加3元。     \n",
    "3、距离超过15公里后，每1公里加5元。     \n",
    "请完成计价函数。\n",
    "### 题目讲解\n",
    "今天需要和BOSS朋友去吃饭，我们一起打车去市中心，我们想写一个程序，输入坐车公里数，就能自动计算车费。 出租车车费计算方式如下：     \n",
    "### 书写代码"
   ]
  },
  {
   "cell_type": "code",
   "execution_count": 7,
   "metadata": {},
   "outputs": [
    {
     "name": "stdout",
     "output_type": "stream",
     "text": [
      "请输入坐车的公里数:可以输入小数1\n",
      "本次打车费用为:15元\n"
     ]
    }
   ],
   "source": [
    "import math\n",
    "km = math.ceil(float(input('请输入坐车的公里数:可以输入小数')))\n",
    "def calculate(km):\n",
    "    if km<=3:\n",
    "        money = 15\n",
    "    elif 3<km<=15:\n",
    "        money = 15+(km-3)*3\n",
    "    elif km>15:\n",
    "        money = 15+12*3+(km-15)*5\n",
    "    print('本次打车费用为:%d元'%money)\n",
    "calculate(km)"
   ]
  },
  {
   "cell_type": "code",
   "execution_count": null,
   "metadata": {},
   "outputs": [],
   "source": [
    "while True:\n",
    "        try:\n",
    "            age = int(input('你今年多大了？'))\n",
    "            break\n",
    "        except ValueError:\n",
    "            print('你输入的不是数字')\n",
    "if age < 18:\n",
    "    print('不可以抽烟喝酒烫头哦')\n"
   ]
  }
 ],
 "metadata": {
  "kernelspec": {
   "display_name": "Python 3",
   "language": "python",
   "name": "python3"
  },
  "language_info": {
   "codemirror_mode": {
    "name": "ipython",
    "version": 3
   },
   "file_extension": ".py",
   "mimetype": "text/x-python",
   "name": "python",
   "nbconvert_exporter": "python",
   "pygments_lexer": "ipython3",
   "version": "3.7.7"
  }
 },
 "nbformat": 4,
 "nbformat_minor": 4
}
