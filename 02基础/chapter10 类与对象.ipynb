{
 "cells": [
  {
   "cell_type": "markdown",
   "metadata": {},
   "source": [
    "# 类与对象\n",
    "首先，恭喜你，一路过五关斩六将，来到今天的课堂。    \n",
    "回首以往，我们在Python江湖中，已经走了很远很远，脑海中的代码越来越多，解决问题的能力越来越强，并且，到现在我们通过上节课与雍正爷一起整治bug后，我们的能力越来越强，看到代码错误时，能够脸不红心不跳，慢慢解决。    \n",
    "山登绝顶我为峰，这节课，我们要向着音乐与远方奋进。    \n",
    "在这节课，我们会接受一种全新的编程思维：面向对象编程，为你开启一个新的大门。    \n",
    "面向对象编程，我会呀，就是对着男朋友/女朋友编程啊。    \n",
    "NO，NO，NO，面向对象编程可不是对着男女朋友编程，而是一种思维模式。    \n",
    "举个例子，还是洗衣服：要想洗衣服，用之前编程思维来想，那就是把衣服放入洗衣机，倒入洗衣液，然后点击洗衣机的开始按钮，最后洗完把衣服晾干。这种通过洗衣服的过程来进行思考问题的方式，叫做面向过程编程。    \n",
    "而面向对象编程，是一种以对象为中心的编程思想。它不需要去考虑过程，而是考虑过程中能够所需要的对象，比如在这里，衣服\\洗衣机\\洗衣液都是对象。    \n",
    "江湖秘籍：万物皆对象，面向对象编程中，将现实中所有的事物都看做对象...    \n",
    "也许你现在还不能完全体会面向对象编程，那你就先记住，万物皆对象，所有的现实事物都是对象…    \n",
    "来，看个小游戏。    \n",
    "![示例](./picture/10-1.gif)\n",
    "比如上面这个消消乐小游戏，玩家通过移动鼠标来控制方块的移动进行消除。这就是通过Python编程完成的游戏。而完成这个游戏，就需要我们使用面向对象思维方式来考虑问题。我想，你也可以在学习Python结束后，尝试完成一些小游戏。    \n",
    "下面就开始我们这次征程旅途。    \n",
    "![知识内容](./picture/10-2.jpg)\n",
    "快上车，下面我们就要向面向对象的山峰进军了。    \n",
    "征途第一站：“类”    \n",
    "当你看到“类”这个字，第一想法是啥？想到了什么？    \n",
    "分类？归类？人类？鱼类？动物类？植物类？ OK，没问题。我们经常会用”类”这个字来划分一个一个群体。    \n",
    "现在，请你想想，能否把身边的物品划分到一类中？    \n",
    "有家电类，家具类，床上用品类，陶瓷类，金属类，视频类 ……生活中的物品可以划分到不同的类中。    \n",
    "在点开购物网站，每次去网购的时候，是不是也被各种种类的物品所包围？    \n",
    "![知识内容](./picture/10-3.jpg)\n",
    "这就是物以类聚，类：就是多个类似事物组成的群体的统称。类能够帮助我们快速理解和判断事物的归属。    \n",
    "在Python江湖中，我们从一开始，就接触了类，不信，运行一下下面代码：    "
   ]
  },
  {
   "cell_type": "code",
   "execution_count": 1,
   "metadata": {},
   "outputs": [
    {
     "name": "stdout",
     "output_type": "stream",
     "text": [
      "<class 'str'>\n",
      "<class 'int'>\n",
      "<class 'list'>\n",
      "<class 'set'>\n",
      "<class 'dict'>\n"
     ]
    }
   ],
   "source": [
    "#直接运行代码\n",
    "print(type('666'))  # <class'str'>\n",
    "print(type(6666))  # <class'int'>\n",
    "print(type([6666])) #<class'list'>\n",
    "print(type({6666})) #<class'set'>\n",
    "print(type({\"key\":6666})) #<class'dict'>"
   ]
  },
  {
   "cell_type": "markdown",
   "metadata": {},
   "source": [
    "运行上面代码后，我们发现，'666'属于'str'字符串类；6666属于'int'整数类；[6666]属于'list'类。    \n",
    "类之所以称为类，就是因为类下面有无数个相似却不同的个例。比如说，你的iphone手机与我的android手机，都属于手机类；岳云鹏与郭麒麟，都属于明星类；隔壁老樊与张碧晨，都属于歌手类。    \n",
    "在Python的编程江湖中，每个类都有很多实例。比如520、1314都是整数类；3.1415926、9.85都属于浮点数类；'hi'、'hello'都属于字符串类。    \n",
    "在Python的江湖中，我们把类的个例叫做“实际的例子” 简称“实例”。    \n",
    "![类和实例](./picture/10-4.jpg)\n",
    "选择题    \n",
    "看一下，你对类掌握清楚了吗？ 请问：汽车、BMW汽车、马云的迈巴赫汽车、str、'hello'分别是：    \n",
    "A：类、类、类、类、类    \n",
    "B：类、实例、实例、类、实例    \n",
    "C：类、类、实例、类、实例    \n",
    "汽车属于一个类别；BMW汽车也属于一个类别，虽然它比汽车类小，但是它还有BMW3系5系类别，所以它也属于类；马云的迈巴赫汽车，这就是特指马云的那辆迈巴赫汽车，就是特指，实际举出了，它就是实例；str是字符串类别；’hello’就是一个具体的字符串，它属于实例。    \n",
    "到此为止，我们已经接触了两个概念，类与实例。    \n",
    "江湖秘籍：类就是统称，一类物品的统称。实例就是一个具体存在特指的一个事物。相似的实例就可以归到同一类中。    \n",
    "有了这个基础，我们就可以到下一站：“对象”。    \n",
    "一切皆“对象”    \n",
    "再说一遍，这里的对象可不是男女朋友，而是面向对象编程中的对象。    \n",
    "在Python江湖中，它把所有的事物都称为对象， 对象包含类与实例；也就是说，类叫做对象，实例也叫做对象。比如str是类对象，'hello’就是实例对象。 一切皆对象。    \n",
    "生活中，无论是类还是实例，都可以当成沟通的对象。    \n",
    "例如：我们去KTV唱歌的时候会说“音乐歌曲很丰富”；还会说，“我唱一首歌曲《情深深雨蒙蒙》”；前者说的歌曲就是类对象，后面说的歌曲《情深深雨蒙蒙》就是实例对象。    \n",
    "在Python江湖中：    \n",
    "![一切皆对象](./picture/10-5.jpg)\n",
    "现在相信大家能够区分类\\实例\\对象三者了。    \n",
    "# 创建类与调用类\n",
    "为了大家加深对类\\实例\\对象的理解，我们开启面向对象编程。\n",
    "## 我们都是音乐人\n",
    "羽泉、你、我都是音乐人------这句话，在Python江湖中翻译过来就是: 羽泉、你、我都属于“音乐人”这个类，羽泉、你、我都是“音乐人”这个类中的实例；我们都存在一些相同点：喜欢音乐、艺名、会唱歌、能跳舞。    \n",
    "这些共同点，就是我们区别于其他类的依据。其实，我们还可以对这些相同点进行细分：    \n",
    "第一种，用来描述事物性质的，比如：喜欢音乐、艺名；    \n",
    "第二种，用来描述事物能做什么，比如：会唱歌、能跳舞。    \n",
    "在Python江湖中，我们把第一种共同点称为属性(what)，第二种共同点称为方法(how)。    \n",
    "比如，我们认识的字符串，属性有：引号，下标；方法有：都可以进行拼接操作。    \n",
    "Python中，每个类都有自己的独特的属性attribute和方法method，是这个类的所有实例都共享的。换言之，每个实例都可以调用类中所有的属性和方法。   \n",
    "在Python中，各个类的属性与方法需要我们自行创建。(当然也有一些属性与方法是Python设置好的，我们可以直接用。)   \n",
    "![类的属性和方法](./picture/10-6.jpg)\n",
    "### 类的创建\n",
    "接下来，我们定义一个“音乐人”类。   \n",
    "先来看一下下面代码：   \n",
    "代码片段   \n",
    "```\n",
    "class Musician:\n",
    "    loveMusic = True   \n",
    "    def sing(self):\n",
    "        print('我在唱歌')\n",
    "```\n",
    "是不是so easy？音乐人类，属性是loveMusic值为True；方法是sing()可以打印“我在唱歌”。    \n",
    "我们具体解释下：    \n",
    "![类的属性和方法](./picture/10-7.jpg)\n",
    "下面，你现学现卖，创建一个”明星”类，并为其创建一个属性(墨镜)和一个方法(与粉丝合影)。\n"
   ]
  },
  {
   "cell_type": "code",
   "execution_count": 3,
   "metadata": {},
   "outputs": [],
   "source": [
    "class Star:\n",
    "    glasses = \"墨镜\"\n",
    "    def photo(self):\n",
    "        print(\"与粉丝拍照\")"
   ]
  },
  {
   "cell_type": "markdown",
   "metadata": {},
   "source": [
    "如果代码放进代码框中运行的话，你会发现，什么都没有。就像之前的函数一样，如果只完成创建，是不会有任何内容输出的。同样，类也如此。    \n",
    "### 类的调用\n",
    "下面，我们调用下类属性与类方法。   \n",
    "依旧以音乐人为例:   \n",
    "代码片段   \n",
    "```\n",
    "class Musician:\n",
    "    loveMusic = True\n",
    "    def sing(self):\n",
    "        print('我在唱歌')\n",
    "laoFan = Musician()\n",
    "print(\"音乐人老樊\")\n",
    "laoFan.sing()\n",
    "```\n",
    "关键在于后三行代码，laoFan = Musician() 这就是通过音乐人这个类创建laoFan这个实例。这个过程叫做类的实例化。    \n",
    "![类的实例化](./picture/10-8.jpg)"
   ]
  },
  {
   "cell_type": "code",
   "execution_count": 5,
   "metadata": {},
   "outputs": [
    {
     "name": "stdout",
     "output_type": "stream",
     "text": [
      "<__main__.Musician object at 0x0000021D6EEA6F88>\n",
      "<class '__main__.Musician'>\n"
     ]
    }
   ],
   "source": [
    "class Musician:\n",
    "    loveMusic = True\n",
    "    \n",
    "    def sing(self):\n",
    "        print('我在唱歌')\n",
    "laoFan = Musician()\n",
    "print(laoFan)\n",
    "print(type(laoFan))"
   ]
  },
  {
   "cell_type": "markdown",
   "metadata": {},
   "source": [
    "观察终端里的结果。    \n",
    "打印的第一行，<__main__.Musician object at 0x00000215D560FCC0>(备注：at后的内容可能不一致，这属于正常现象，每个人的电脑不同)就是通过Musician这个类创建的laoFan这个实例，这是这个实例在电脑上中的内存地址；    \n",
    "第二行说明了laoFan这个实例属于Musician这个类。    \n",
    "当laoFan这个实例创造出来之后，它可以调用Musician这个类中的属性与方法。    \n",
    "运行一下下面代码，观察终端里的效果。    "
   ]
  },
  {
   "cell_type": "code",
   "execution_count": 8,
   "metadata": {},
   "outputs": [
    {
     "name": "stdout",
     "output_type": "stream",
     "text": [
      "音乐人老樊\n",
      "True\n",
      "我在唱歌\n"
     ]
    }
   ],
   "source": [
    "class Musician:\n",
    "    loveMusic = True\n",
    "    \n",
    "    def sing(self):\n",
    "        print('我在唱歌')\n",
    "laoFan = Musician()\n",
    "print(\"音乐人老樊\")\n",
    "print(laoFan.loveMusic)\n",
    "laoFan.sing()"
   ]
  },
  {
   "cell_type": "markdown",
   "metadata": {},
   "source": [
    "通过print(laoFan.loveMusic)这句代码，打印出了True这个结果。这就是调用类的属性。 首先通过laoFan.loveMusic获取到属性loveMusic的值True，再使用print()函数打印出来。    \n",
    "通过laoFan.sing()这句代码，调用了类方法sing()，直接打印出“我在唱歌”。     \n",
    "这就是最简单的调用类属性与类方法。    \n",
    "江湖秘籍：1、调用类属性： 实例名.属性名 2、调用类方法： 实例名.方法名()    \n",
    "可能有同学会问。小K，你创建类方法的时候def sing(self)：里面有self参数，怎么调用laoFan.sing()方法时候，没有写self参数...    \n",
    "这就是self参数的特殊所在，下面会详细讲解。    \n",
    "还是看类属性与类方法的调用。    \n",
    "既然说类是相似实例的统称，那么能不能创建多个实例。    \n",
    "这是可以的，没问题。运行一下下面代码，观察终端里的效果。    "
   ]
  },
  {
   "cell_type": "code",
   "execution_count": 10,
   "metadata": {},
   "outputs": [
    {
     "name": "stdout",
     "output_type": "stream",
     "text": [
      "音乐人老樊\n",
      "True\n",
      "我在唱歌\n",
      "音乐人张碧晨\n",
      "True\n",
      "我在唱歌\n"
     ]
    }
   ],
   "source": [
    "class Musician:\n",
    "    loveMusic = True\n",
    "    \n",
    "    def sing(self):\n",
    "        print('我在唱歌')\n",
    "laoFan = Musician()\n",
    "print(\"音乐人老樊\")\n",
    "print(laoFan.loveMusic)\n",
    "laoFan.sing()\n",
    "diamond = Musician()\n",
    "print(\"音乐人张碧晨\")\n",
    "print(diamond.loveMusic)\n",
    "diamond.sing()"
   ]
  },
  {
   "cell_type": "markdown",
   "metadata": {},
   "source": [
    "这里，就通过Musician这个类，创建了laoFan与diamond两个实例，当然你还可以创建更多实例，看你的需求。    \n",
    "类就像工厂一样，可以通过一条生产线制造多个商品。因此，类也被称为“实例工厂”。    \n",
    "### 创建类的两大要素\n",
    "现在，你已经学会了类的创建与调用。下面，我们来研究一下创建类的两个要素。    \n",
    "### 揭秘self参数\n",
    "首先明确下self的作用：self会在类的实例化中接收传入的数据， 在代码中运行。    \n",
    "运行一下下面代码，观察终端里的效果。    "
   ]
  },
  {
   "cell_type": "code",
   "execution_count": 12,
   "metadata": {},
   "outputs": [
    {
     "name": "stdout",
     "output_type": "stream",
     "text": [
      "羽泉\n",
      "羽泉是音乐人\n"
     ]
    }
   ],
   "source": [
    "class Musician:\n",
    "    name = '羽泉'\n",
    "    \n",
    "    def sing(self,person):\n",
    "        print(person+'是音乐人')\n",
    "\n",
    "singer = Musician()\n",
    "print(singer.name)\n",
    "singer.sing('羽泉')"
   ]
  },
  {
   "cell_type": "markdown",
   "metadata": {},
   "source": [
    "成功运行，感觉很完美。其实，已经把代码写累赘了。    \n",
    "因为，只要在sing()方法内部调用类属性，就可以实现同样的功能，没有必要把参数再传递一遍。    "
   ]
  },
  {
   "cell_type": "code",
   "execution_count": 14,
   "metadata": {},
   "outputs": [
    {
     "name": "stdout",
     "output_type": "stream",
     "text": [
      "羽泉\n",
      "羽泉是音乐人\n"
     ]
    }
   ],
   "source": [
    "class Musician:\n",
    "    name = '羽泉'\n",
    "    \n",
    "    def sing(self):\n",
    "        print(self.name+'是音乐人')\n",
    "\n",
    "singer = Musician()\n",
    "print(singer.name)\n",
    "singer.sing()"
   ]
  },
  {
   "cell_type": "markdown",
   "metadata": {},
   "source": [
    "你看， 是不是同样能够打印， 并且打印的内容相同。    \n",
    "这就是self的独特之处，它的作用就是先在类方法中占一个位置，当实例创建调用类方法的时候，它就会将self.name也就是类中的name放入方法中，也就会把’羽泉’放入方法中。    \n",
    "这就是类方法中调用类属性需要使用self。    \n",
    "同理，如果类中的一个类方法需要调用另一个类方法，依然需要使用self。    "
   ]
  },
  {
   "cell_type": "code",
   "execution_count": 16,
   "metadata": {},
   "outputs": [
    {
     "name": "stdout",
     "output_type": "stream",
     "text": [
      "hello,大家好\n",
      "羽泉是音乐人\n"
     ]
    }
   ],
   "source": [
    "class Musician:\n",
    "    name = '羽泉'\n",
    "    \n",
    "    def hello(self):\n",
    "        print('hello,大家好')\n",
    "    \n",
    "    def sing(self):\n",
    "        self.hello()\n",
    "        print(self.name+'是音乐人')\n",
    "\n",
    "singer = Musician()\n",
    "singer.sing()"
   ]
  },
  {
   "cell_type": "markdown",
   "metadata": {},
   "source": [
    "创建实例后，实例调用方法singer.sing()，在singer.sing()方法执行的时候，会自动调用self.hello()方法，因此'hello，大家好'这段文字也会出现。    \n",
    "江湖秘籍：类方法中调用类内部属性或者是其他方法时，需要使用self来代表实例。    \n",
    "下面，我们看一下创建类的另一个要素，初始化方法。    \n",
    "### 初始化方法\n",
    "每个类中都存在一个初始化方法，这个方法不需要调用，在通过类创建实例对象的时候初始化方法会自动执行。    \n",
    "定义初始化方法：def __init__(self): ，init两边是双下划线。    \n",
    "运行一下下面代码，观察终端里的效果。    "
   ]
  },
  {
   "cell_type": "code",
   "execution_count": 17,
   "metadata": {},
   "outputs": [
    {
     "name": "stdout",
     "output_type": "stream",
     "text": [
      "你好,这里是初始化方法init\n"
     ]
    }
   ],
   "source": [
    "class Musician:\n",
    "    def __init__(self):\n",
    "        print('你好,这里是初始化方法init')\n",
    "liRongHao = Musician()"
   ]
  },
  {
   "cell_type": "code",
   "execution_count": 19,
   "metadata": {},
   "outputs": [
    {
     "name": "stdout",
     "output_type": "stream",
     "text": [
      "我出门必须戴墨镜\n",
      "我有many个麦克风\n"
     ]
    }
   ],
   "source": [
    "class Musician:\n",
    "    def __init__(self):\n",
    "        self.glass = \"墨镜\"\n",
    "        self.microphone = \"many\"\n",
    "    def intr(self):\n",
    "        print('我出门必须戴%s' %self.glass)\n",
    "        print('我有%s个麦克风' %self.microphone)\n",
    "silence = Musician()  \n",
    "silence.intr()"
   ]
  },
  {
   "cell_type": "markdown",
   "metadata": {},
   "source": [
    "初始化方法中，除了可以设置固定值之外，还可以接收其他参数，使得传入的数据灵活多变。    \n",
    "运行一下下面代码，观察终端里的效果。"
   ]
  },
  {
   "cell_type": "code",
   "execution_count": 21,
   "metadata": {},
   "outputs": [
    {
     "name": "stdout",
     "output_type": "stream",
     "text": [
      "各位歌迷好,我是萧敬腾\n",
      "熟悉我的朋友都叫我雨神\n",
      "我为大家唱一首王妃\n"
     ]
    }
   ],
   "source": [
    "class Musician:\n",
    "    def __init__(self,name,anotherName,music):\n",
    "        self.name = name\n",
    "        self.anotherName = anotherName\n",
    "        self.music = music\n",
    "    def intr(self):\n",
    "        print('各位歌迷好,我是%s' %self.name)\n",
    "        print('熟悉我的朋友都叫我%s' %self.anotherName)\n",
    "    def sing(self):\n",
    "        print('我为大家唱一首%s' %self.music)\n",
    "jam = Musician('萧敬腾','雨神','王妃')  \n",
    "jam.intr()\n",
    "jam.sing()"
   ]
  },
  {
   "cell_type": "markdown",
   "metadata": {},
   "source": [
    "在这里我们通过init初始化方法，传入多个参数。    \n",
    "__init__(self,name,anotherName,music)与Musician('萧敬腾','雨神','王妃')。大家会发现，定义初始化方法中，拥有self,name,anotherName,music四个参数，在类创建实例的时候，只传入了三个参数。   \n",
    "这是因为self属性只会在方法创建的时候出现，方法调用时就不需出现了。    \n",
    "这里参数'萧敬腾','雨神','王妃'会与name,anotherName,music一一对应。    \n",
    "因此下面的类方法会通过self.属性名一一获取传入的数据。    \n",
    "这就是初始化方法init的使用。    \n",
    "好了，下面回过头来，小k再给大家解释一下面向对象编程。    \n",
    "## 面向对象编程\n",
    "面向对象编程与之前面向过程编程是有很大的区别。    \n",
    "在之前的面向过程编程，我们需要分析出解决问题的步骤，及首先干什么，然后干什么，最后干什么；    \n",
    "回想一下，我们在之前完成的快递配送调配小程序：    "
   ]
  },
  {
   "cell_type": "code",
   "execution_count": 24,
   "metadata": {},
   "outputs": [
    {
     "name": "stdout",
     "output_type": "stream",
     "text": [
      "请选择需要计算的工作：1-配送次数计算，2-快递员数计算，请选择1\n",
      "请输入项目大小：1代表标准，还可以输入其他倍数或小数1\n",
      "请输入投入的快递员数，请输入整数1\n",
      "计算结果如下\n",
      "1.0个标准集装箱大的快递项目，使用1位快递员配送，则需要配送次数5次\n",
      "请选择需要计算的工作：1-配送次数计算，2-快递员数计算，请选择1\n",
      "请输入项目大小：1代表标准，还可以输入其他倍数或小数1\n",
      "请输入投入的快递员数，请输入整数1\n",
      "计算结果如下\n",
      "1.0个标准集装箱大的快递项目，使用1位快递员配送，则需要配送次数5次\n"
     ]
    }
   ],
   "source": [
    "\n",
    "import math\n",
    "\n",
    "def BOSS_input():\n",
    "    # 输入内容\n",
    "    types = int(input('请选择需要计算的工作：1-配送次数计算，2-快递员数计算，请选择')) \n",
    "    sizes = float(input('请输入项目大小：1代表标准，还可以输入其他倍数或小数'))\n",
    "    if types ==1:\n",
    "        others = int(input('请输入投入的快递员数，请输入整数'))\n",
    "    else:\n",
    "        others = int(input('请输入快递次数，请输入整数'))\n",
    "    \n",
    "    return types,sizes,others  #这里返回一个数组\n",
    "\n",
    "#计算工作量\n",
    "def calculate_job(data_input):\n",
    "    #获取参数数值\n",
    "    types = data_input[0]\n",
    "    sizes = data_input[1]\n",
    "    others = data_input[2]\n",
    "\n",
    "    print('计算结果如下')\n",
    "    if types ==1:\n",
    "         #配送次数计算过程\n",
    "        num = math.ceil(round((sizes * 100 / 20/others),2))\n",
    "        print('%.1f个标准集装箱大的快递项目，使用%d位快递员配送，则需要配送次数%d次' %(sizes,others,num))\n",
    "    elif types==2:\n",
    "        #快递员数计算过程\n",
    "        person = math.ceil(round((sizes *100 /20/ others),2))\n",
    "        print('%.1f个标准集装箱大的快递项目，%d次配送完毕，则需要快递员数：%d位' %(sizes,others,person))\n",
    "\n",
    "\n",
    "#主函数\n",
    "def res():\n",
    "    data_input = BOSS_input()\n",
    "    calculate_job(data_input)\n",
    "    \n",
    "#调用主函数\n",
    "res()\n",
    "import math\n",
    "\n",
    "def BOSS_input():\n",
    "    # 输入内容\n",
    "    types = int(input('请选择需要计算的工作：1-配送次数计算，2-快递员数计算，请选择')) \n",
    "    sizes = float(input('请输入项目大小：1代表标准，还可以输入其他倍数或小数'))\n",
    "    if types ==1:\n",
    "        others = int(input('请输入投入的快递员数，请输入整数'))\n",
    "    else:\n",
    "        others = int(input('请输入快递次数，请输入整数'))\n",
    "    \n",
    "    return types,sizes,others  #这里返回一个数组\n",
    "\n",
    "#计算工作量\n",
    "def calculate_job(data_input):\n",
    "    #获取参数数值\n",
    "    types = data_input[0]\n",
    "    sizes = data_input[1]\n",
    "    others = data_input[2]\n",
    "\n",
    "    print('计算结果如下')\n",
    "    if types ==1:\n",
    "         #配送次数计算过程\n",
    "        num = math.ceil(round((sizes * 100 / 20/others),2))\n",
    "        print('%.1f个标准集装箱大的快递项目，使用%d位快递员配送，则需要配送次数%d次' %(sizes,others,num))\n",
    "    elif types==2:\n",
    "        #快递员数计算过程\n",
    "        person = math.ceil(round((sizes *100 /20/ others),2))\n",
    "        print('%.1f个标准集装箱大的快递项目，%d次配送完毕，则需要快递员数：%d位' %(sizes,others,person))\n",
    "\n",
    "\n",
    "#主函数\n",
    "def res():\n",
    "    data_input = BOSS_input()\n",
    "    calculate_job(data_input)\n",
    "    \n",
    "#调用主函数\n",
    "res()"
   ]
  },
  {
   "cell_type": "markdown",
   "metadata": {},
   "source": [
    "我们通过程序的操作顺序，定义了输入数据-----计算数据两个函数，再进行调用。    \n",
    "而面向对象编程，会将程序看成是对象的集合(一切皆对象)。    \n",
    "面向对象编程，不考虑实现功能的步骤；而是考虑实现这个功能需要设计什么样的类，这个类中有哪些属性和方法。    \n",
    "然后，通过这个类创建一个实例对象，让对象来调用类属性与类方法。    \n",
    "我们运用面向对象编程逻辑改造一下代码    \n",
    "首先，要创建一个Program类，在这个类中定义类方法实现所需功能：    "
   ]
  },
  {
   "cell_type": "code",
   "execution_count": 26,
   "metadata": {},
   "outputs": [
    {
     "name": "stdout",
     "output_type": "stream",
     "text": [
      "欢迎BOSS使用配送计算小程序\n",
      "请选择需要计算的工作：1-配送次数计算，2-快递员数计算，请选择1\n",
      "请输入项目大小：1代表标准，还可以输入其他倍数或小数1\n",
      "请输入投入的快递员数，请输入整数1\n",
      "计算结果如下\n",
      "1.0个标准集装箱大的快递项目，使用1位快递员配送，则需要配送次数5次\n",
      "是否继续计算？继续请输入y，输入其他键将结束程序。1\n",
      "工作辛苦。\n"
     ]
    }
   ],
   "source": [
    "import math\n",
    "class Program:\n",
    "        def __init__(self):\n",
    "            self.key = 1\n",
    "        \n",
    "        # 工时计算\n",
    "        def BOSS_input(self):\n",
    "            # 设置默认参数\n",
    "            self.types = int(input('请选择需要计算的工作：1-配送次数计算，2-快递员数计算，请选择'))\n",
    "            self.sizes = float(input('请输入项目大小：1代表标准，还可以输入其他倍数或小数'))\n",
    "            if self.types ==1:\n",
    "                self.others = int(input('请输入投入的快递员数，请输入整数'))\n",
    "            else:\n",
    "                self.others = int(input('请输入快递次数，请输入整数'))\n",
    "        \n",
    "         #计算工作量\n",
    "        def calculate_job(self):\n",
    "            print('计算结果如下')\n",
    "            if self.types ==1:\n",
    "                #工时计算过程\n",
    "                self.num = math.ceil(round((self.sizes * 100 / 20/self.others),2))\n",
    "                print('%.1f个标准集装箱大的快递项目，使用%d位快递员配送，则需要配送次数%d次' %(self.sizes,self.others,self.num))\n",
    "            elif self.types==2:\n",
    "                #人力计算过程\n",
    "                self.person = math.ceil(round((self.sizes *100 /20/self.others),2))\n",
    "                print('%.1f个标准集装箱大的快递项目，%d次配送完毕，则需要快递员数：%d位' %(self.sizes,self.others,self.person))\n",
    "        def again(self):\n",
    "            num = input('是否继续计算？继续请输入y，输入其他键将结束程序。')\n",
    "            if num != 'y':\n",
    "                # 如果用户不输入'y'，则把key赋值为0\n",
    "                self.key = 0  \n",
    "        \n",
    "        \n",
    "        def res(self):\n",
    "            print('欢迎BOSS使用配送计算小程序')\n",
    "            while self.key == 1:\n",
    "                self.BOSS_input()\n",
    "                self.calculate_job()\n",
    "                self.again()\n",
    "            print('工作辛苦。')\n",
    "            \n",
    "pro= Program()\n",
    "pro.res()"
   ]
  },
  {
   "cell_type": "markdown",
   "metadata": {},
   "source": [
    "这就是使用面向对象编程思维，改造的小程序代码。    \n",
    "你会发现，面向对象编程中的类方法，传递参数比普通函数要简单的多，也不用考虑全局变量与局部变量，直接使用类属性即可完成。    \n",
    "当项目越来越大时，需要的参数会越来越多，面向对象编程会比面向过程编程更优越。    \n",
    "![](./picture/10-9.jpg)\n",
    "这就是这节课所学的面向对象编程。    \n",
    "面向对象编程还有更多的优越性，比如代码拓展性，可维护性等方面。    \n",
    "你还可以在类中封装一些方法，甚至其他的第三方库。    \n",
    "在随着课程的深入你会体会到面向对象编程的乐趣。    \n",
    "好了，这节课就到这里，好好理解理解类\\实例\\对象三者哦。    "
   ]
  },
  {
   "cell_type": "markdown",
   "metadata": {},
   "source": [
    "### 题目要求\n",
    "创建一个类叫Maleguests，这个类中具有两个属性: sex = “M”，marriage = “False”; 类中有一个方法，叫hello方法，可以打印“各位女嘉宾好”\n",
    "### 题目讲解\n",
    "你去参加非诚勿扰活动，要在活动上，介绍自己的姓名\\年龄与籍贯。\n",
    "### 书写代码"
   ]
  },
  {
   "cell_type": "code",
   "execution_count": 28,
   "metadata": {},
   "outputs": [
    {
     "name": "stdout",
     "output_type": "stream",
     "text": [
      "M\n",
      "False\n",
      "各位女嘉宾好\n"
     ]
    }
   ],
   "source": [
    "class Maleguests:\n",
    "    sex = \"M\"\n",
    "    marriage = \"False\"\n",
    "    def hello(self):\n",
    "        print(\"各位女嘉宾好\")\n",
    "zhangsan = Maleguests()\n",
    "print(zhangsan.sex)\n",
    "print(zhangsan.marriage)\n",
    "zhangsan.hello()"
   ]
  },
  {
   "cell_type": "markdown",
   "metadata": {},
   "source": [
    "### 题目要求\n",
    "有多个男嘉宾去参加非诚勿扰活动，要在活动上,介绍自己的姓名\\年龄与籍贯。\n",
    "### 题目讲解\n",
    "创建一个类叫Maleguests，这个类中具有一个方法叫sayHi，sayHi方法可以介绍自己的姓名\\年龄与籍贯。例如“各位女嘉宾好我叫张三，我今年28岁，我来自广州”； 姓名\\年龄与籍贯是可以根据需要改变的。\n",
    "### 书写代码"
   ]
  },
  {
   "cell_type": "code",
   "execution_count": 29,
   "metadata": {},
   "outputs": [
    {
     "name": "stdout",
     "output_type": "stream",
     "text": [
      "各位女嘉宾好\n",
      "我叫张三\n",
      "我今年28岁\n",
      "我来自广州\n",
      "各位女嘉宾好\n",
      "我叫李四\n",
      "我今年26岁\n",
      "我来自上海\n"
     ]
    }
   ],
   "source": [
    "class Maleguests:\n",
    "    def __init__(self,name,age,city):\n",
    "        print(\"各位女嘉宾好\")\n",
    "        self.name = name\n",
    "        self.age = age\n",
    "        self.city = city\n",
    "        \n",
    "    def sayHi(self):\n",
    "        print(\"我叫%s\"%self.name)\n",
    "        print(\"我今年%d岁\"%self.age)\n",
    "        print(\"我来自%s\"%self.city)\n",
    "zhangsan = Maleguests('张三',28,'广州')\n",
    "zhangsan.sayHi()\n",
    "lisi = Maleguests('李四',26,'上海')\n",
    "lisi.sayHi()"
   ]
  },
  {
   "cell_type": "code",
   "execution_count": 18,
   "metadata": {},
   "outputs": [
    {
     "name": "stdout",
     "output_type": "stream",
     "text": [
      "你好,这里是初始化方法init\n",
      "音乐人老樊\n",
      "我在唱歌\n",
      "我为大家唱一首奔跑\n",
      "True\n",
      "<__main__.Musician object at 0x000001A62FEAE2C8>\n",
      "<class '__main__.Musician'>\n",
      "你好,这里是初始化方法init\n",
      "羽凡\n",
      "各位歌迷好,我是羽凡\n",
      "熟悉我的朋友都叫我艺名\n",
      "我出门必须戴墨镜\n",
      "我有many个麦克风\n",
      "毛不易是音乐人\n",
      "hello,大家好\n",
      "羽凡是音乐人\n",
      "你好,这里是初始化方法init\n",
      "各位歌迷好,我是萧敬腾\n",
      "熟悉我的朋友都叫我雨神\n",
      "我出门必须戴墨镜\n",
      "我有many个麦克风\n",
      "我在唱歌\n",
      "我为大家唱一首王妃\n"
     ]
    }
   ],
   "source": [
    "class Musician:\n",
    "    loveMusic = True  \n",
    "    blackGlass = True\n",
    "    name = \"羽泉\"\n",
    "    #self会在类的实例化中接收传入的数据， 在代码中运行。\n",
    "    '''\n",
    "    每个类中都存在一个初始化方法，这个方法不需要调用，在通过类创建实例对象的时候初始化方法会自动执行\n",
    "    定义初始化方法：def __init__(self): ，init两边是双下划线\n",
    "    利用init初始化方法的特点，我们可以在初始化方法中完成类属性的创建及类属性的赋初值。\n",
    "    初始化方法中，除了可以设置固定值之外，还可以接收其他参数，使得传入的数据灵活多变。\n",
    "    '''\n",
    "    def __init__(self,name=\"羽凡\",anotherName=\"艺名\",music=\"奔跑\"):\n",
    "        self.glass = \"墨镜\"\n",
    "        self.microphone = \"many\"\n",
    "        self.name = name\n",
    "        self.anotherName = anotherName\n",
    "        self.music = music\n",
    "        print('你好,这里是初始化方法init')\n",
    "    def sing(self):\n",
    "        print('我在唱歌')\n",
    "        print('我为大家唱一首%s' %self.music)\n",
    "    def picture(self):\n",
    "        print(\"与粉丝合影\")\n",
    "    def singerWithName(self,person):\n",
    "        print(person+'是音乐人')\n",
    "    def singerWithSelfName(self):\n",
    "        #方法内调用另一个方法\n",
    "        '''\n",
    "        如果类中一个类发放调用另一个类方法，依然需要使用self\n",
    "        \n",
    "        '''\n",
    "        self.hello()\n",
    "        print(self.name +'是音乐人')\n",
    "    def hello(self):\n",
    "        print('hello,大家好')\n",
    "    def intr(self):\n",
    "        print('各位歌迷好,我是%s' %self.name)\n",
    "        print('熟悉我的朋友都叫我%s' %self.anotherName)\n",
    "        print('我出门必须戴%s' %self.glass)\n",
    "        print('我有%s个麦克风' %self.microphone)\n",
    "laoFan = Musician()\n",
    "print(\"音乐人老樊\")\n",
    "laoFan.sing()\n",
    "print(laoFan.loveMusic)\n",
    "print(laoFan)\n",
    "print(type(laoFan))\n",
    "singer = Musician()\n",
    "print(singer.name)\n",
    "singer.intr()\n",
    "singer.singerWithName('毛不易')\n",
    "singer.singerWithSelfName()\n",
    "jam = Musician('萧敬腾','雨神','王妃')  \n",
    "jam.intr()\n",
    "jam.sing()"
   ]
  },
  {
   "cell_type": "code",
   "execution_count": 19,
   "metadata": {},
   "outputs": [
    {
     "name": "stdout",
     "output_type": "stream",
     "text": [
      "墨镜\n",
      "我在唱歌\n"
     ]
    }
   ],
   "source": [
    "#直接运行代码\n",
    "class Musician:    \n",
    "    glasses = \"墨镜\"   \n",
    "    loveMusic = True\n",
    "\n",
    "    def sing(self):\n",
    "        print('我在唱歌')\n",
    "#class Rapper(Musician)这一句，使得Rapper继承了Musician，这样Rapper类就具有了Musician类的属性与方法。\n",
    "class Rapper(Musician):\n",
    "    pass # pass表示'跳过'，不执行其他操作    \n",
    "mcHotdog = Rapper()\n",
    "print(mcHotdog.glasses)\n",
    "mcHotdog.sing()"
   ]
  },
  {
   "cell_type": "code",
   "execution_count": 20,
   "metadata": {},
   "outputs": [
    {
     "name": "stdout",
     "output_type": "stream",
     "text": [
      "4\n",
      "有4个轮子,可以飞速的行驶\n"
     ]
    }
   ],
   "source": [
    "#补全代码\n",
    "class Car:\n",
    "    wheel = 4\n",
    "    def run(self):\n",
    "        print('有%d个轮子,可以飞速的行驶'%self.wheel)\n",
    "class BMW(Car):\n",
    "    pass\n",
    "BMW320 = BMW()\n",
    "print(BMW320.wheel)\n",
    "BMW320.run()"
   ]
  },
  {
   "cell_type": "code",
   "execution_count": 22,
   "metadata": {},
   "outputs": [
    {
     "name": "stdout",
     "output_type": "stream",
     "text": [
      "验证:子类创建的实例也属于父类\n",
      "True\n",
      "True\n",
      "验证:父类创建的实例不属于不属于不属于子类\n",
      "False\n",
      "验证:所有类创建的实例都属于根类\n",
      "True\n",
      "True\n"
     ]
    }
   ],
   "source": [
    "#直接运行\n",
    "class Car:\n",
    "    wheel = 4\n",
    "    def run(self):\n",
    "        print('有%d个轮子,可以飞速的行驶'%self.wheel)\n",
    "class BMW(Car):\n",
    "    pass\n",
    "\n",
    "#isinstance()函数来判断一下某个实例是否属于某个类。\n",
    "BENZ600 = Car()  #使用Car类创建奔驰600\n",
    "BMW320 = BMW()   #使用BMW类创建BMW320\n",
    "print(\"验证:子类创建的实例也属于父类\")\n",
    "print(isinstance(BENZ600,Car))\n",
    "print(isinstance(BMW320,Car))\n",
    "print(\"验证:父类创建的实例不属于不属于不属于子类\")\n",
    "print(isinstance(BENZ600,BMW))\n",
    "print(\"验证:所有类创建的实例都属于根类\")\n",
    "print(isinstance(BENZ600,object))\n",
    "print(isinstance(BMW320,object))"
   ]
  },
  {
   "cell_type": "code",
   "execution_count": 24,
   "metadata": {},
   "outputs": [
    {
     "name": "stdout",
     "output_type": "stream",
     "text": [
      "墨镜\n",
      "True\n"
     ]
    }
   ],
   "source": [
    "#直接运行代码\n",
    "#明星类\n",
    "class Star:\n",
    "    glasses = \"墨镜\"\n",
    "\n",
    "#音乐人继承了明星\n",
    "class Musician(Star):\n",
    "    loveMusic = True\n",
    "\n",
    "# Rapper继承了音乐人\n",
    "class Rapper(Musician):\n",
    "    pass\n",
    "\n",
    "csunYuk = Rapper()\n",
    "print(csunYuk.glasses)\n",
    "print(csunYuk.loveMusic)"
   ]
  },
  {
   "cell_type": "code",
   "execution_count": 25,
   "metadata": {},
   "outputs": [
    {
     "name": "stdout",
     "output_type": "stream",
     "text": [
      "True\n",
      "流利的说\n",
      "我喜欢音乐\n",
      "我来自音乐界\n"
     ]
    }
   ],
   "source": [
    "#音乐人\n",
    "class Musician():\n",
    "    loveMusic = True\n",
    "    def intr(self):\n",
    "        print(\"我喜欢音乐\")\n",
    "        print(\"我来自音乐界\")\n",
    "#演说家       \n",
    "class Orator():\n",
    "    speak = \"流利的说\"\n",
    "    def intr(self):\n",
    "        print(\"我喜欢演说\")\n",
    "        print(\"我来自演讲界\")              \n",
    "# Rapper继承了音乐人与演说家\n",
    "class Rapper(Musician,Orator):\n",
    "    pass\n",
    "'''\n",
    "csunYuk继承了父类Musician的属性loveMusic，也继承了父类Orator的属性speak；\n",
    "当两个父类都具有intr()类方法时，它会优先继承左边的父类，也就是父类Musician的方法。\n",
    "'''\n",
    "\n",
    "csunYuk = Rapper()\n",
    "print(csunYuk.loveMusic)\n",
    "print(csunYuk.speak)\n",
    "csunYuk.intr()"
   ]
  },
  {
   "cell_type": "code",
   "execution_count": 26,
   "metadata": {},
   "outputs": [
    {
     "name": "stdout",
     "output_type": "stream",
     "text": [
      "True\n",
      "True\n",
      "我可以创作简单的歌词\n"
     ]
    }
   ],
   "source": [
    "#音乐人\n",
    "class Musician():\n",
    "    loveMusic = True\n",
    "    def intr(self):\n",
    "        print(\"我喜欢音乐\")\n",
    "        print(\"我来自音乐界\")\n",
    "    def sing(self):\n",
    "        print(\"我在唱歌\")\n",
    "# Rapper继承音乐人\n",
    "class Rapper(Musician): #类的继承\n",
    "    garrulous = True    #类的定制 ， 增加属性\n",
    "    def composition(self):  #类的定制， 增加方法\n",
    "        print(\"我可以创作简单的歌词\")\n",
    "'''\n",
    "Rapper类继承Musician，但是它增加了属性garrulous，增加了方法composition，这就是类的定制。\n",
    "'''\n",
    "csunYuk = Rapper()\n",
    "print(csunYuk.loveMusic)\n",
    "print(csunYuk.garrulous)\n",
    "csunYuk.composition()"
   ]
  },
  {
   "cell_type": "code",
   "execution_count": 27,
   "metadata": {},
   "outputs": [
    {
     "name": "stdout",
     "output_type": "stream",
     "text": [
      "我以说的形式进行歌唱\n"
     ]
    }
   ],
   "source": [
    "#音乐人\n",
    "class Musician():\n",
    "    loveMusic = True\n",
    "    def intr(self):\n",
    "        print(\"我喜欢音乐\")\n",
    "        print(\"我来自音乐界\")\n",
    "    def sing(self):\n",
    "        print(\"我在唱歌\")\n",
    "# Rapper继承音乐人\n",
    "class Rapper(Musician): #类的继承\n",
    "    def sing(self):  #类的定制， 更改方法\n",
    "        print(\"我以说的形式进行歌唱\")\n",
    "'''\n",
    "csunYuk是通过 Rapper实例化的对象， Rapper类继承Musician类，自然会继承Musician类的方法sing；\n",
    "但是Rapper类将sing方法进行改写，造成csunYuk.sing()运行结束后， 打印的结果是“我以说的形式进行歌唱”\n",
    "'''\n",
    "csunYuk = Rapper()\n",
    "csunYuk.sing()"
   ]
  },
  {
   "cell_type": "code",
   "execution_count": 28,
   "metadata": {},
   "outputs": [
    {
     "name": "stdout",
     "output_type": "stream",
     "text": [
      "001\n",
      "孩子\n",
      "使用Python编程\n",
      "照顾父母\n"
     ]
    }
   ],
   "source": [
    "'''\n",
    "    第一步:明确目标\n",
    "每个人都有多重身份， 比如说一个学生， 他在学校里的身份就是学生，进行学习；回到家里，他的身份就是儿子，\n",
    "需要照顾父母；他不仅有着学生的属性与方法，还有着儿子的属性与方法。\n",
    "\n",
    "第二步:分析过程\n",
    "创建一个学生类，拥有属性（stu_no学号），方法（study,会使用Python语言）\n",
    "\n",
    "创建一个孩子类，拥有属性（status身份），方法（care，照顾父母）\n",
    "\n",
    "创建一个儿子类，继承于学生类与孩子类， 拥有两个类的属性与方法\n",
    "\n",
    "第三步:代码实现\n",
    "'''\n",
    "class Student():\n",
    "    stu_no = '001'\n",
    "    def study(self):\n",
    "        print(\"使用Python编程\")\n",
    "class Child():\n",
    "    status = \"孩子\"\n",
    "    def care(self):\n",
    "        print(\"照顾父母\")\n",
    "class Son(Student,Child):\n",
    "    pass\n",
    "xiaoming = Son()\n",
    "print(xiaoming.stu_no)\n",
    "print(xiaoming.status)\n",
    "xiaoming.study()\n",
    "xiaoming.care()"
   ]
  },
  {
   "cell_type": "code",
   "execution_count": 29,
   "metadata": {},
   "outputs": [
    {
     "name": "stdout",
     "output_type": "stream",
     "text": [
      "师父\n",
      "厨师\n",
      "制作手抓饼\n",
      "制作传统煎饼果子\n",
      "徒弟\n",
      "厨师\n",
      "制作手抓饼\n",
      "制作中西方口味融合的煎饼果子\n"
     ]
    }
   ],
   "source": [
    "'''\n",
    "    题目要求\n",
    "有一个徒弟厨师，跟着师父学做煎饼果子，师父教给徒弟做传统的煎饼果子，与台湾手抓饼；\n",
    "徒弟在学习后又出国深造了几年，不仅仅能做手抓饼，还可以做中西方口味融合的煎饼果子。\n",
    "题目讲解\n",
    "创建一个师父类master，这个类中具有两个方法；一个方法叫cake，cake方法可以制作手抓饼，\n",
    "一个方法叫cook，cook方法可以制作传统的煎饼果子。而徒弟类继承了师父的cake方法，可以制作手抓饼，\n",
    "也继承了师父的cook方法，但是徒弟进行改进，可以制作中西方口味融合的煎饼果子。\n",
    "'''\n",
    "class master():\n",
    "    status = \"厨师\"\n",
    "    def cake(self):\n",
    "        print(\"制作手抓饼\")\n",
    "    def cook(self):\n",
    "        print(\"制作传统煎饼果子\")\n",
    "class apprentice(master):\n",
    "    def cook(self):\n",
    "        print(\"制作中西方口味融合的煎饼果子\")\n",
    "print(\"师父\")\n",
    "shifu = master()\n",
    "print(shifu.status)\n",
    "shifu.cake()\n",
    "shifu.cook()\n",
    "print(\"徒弟\")\n",
    "tudi = apprentice()\n",
    "print(tudi.status)\n",
    "tudi.cake()\n",
    "tudi.cook()"
   ]
  },
  {
   "cell_type": "code",
   "execution_count": 34,
   "metadata": {},
   "outputs": [
    {
     "name": "stdout",
     "output_type": "stream",
     "text": [
      "单车初始化\n",
      "1001\n",
      "车辆编号1001 已经运行2年，车辆状态：待租借\n",
      "车辆编号1001 已经运行2年，车辆状态：待租借\n",
      "单车初始化\n",
      "单车初始化\n",
      "单车初始化\n",
      "<__main__.Manage object at 0x000001A62FEBC7C8>\n",
      "欢迎使用共享单车租借系统\n",
      "\n",
      "1.查询所有车辆\n",
      " 2.共享车辆\n",
      " 3.租借车辆\n",
      " 4.归还车辆\n",
      " 5.退出系统\n",
      "\n",
      "请输入所选功能对应得数字：1\n",
      "所有车辆信息如下：\n",
      "车辆编号1001 已经运行2年，车辆状态：待租借\n",
      "车辆编号1002 已经运行2年，车辆状态：待租借\n",
      "车辆编号1003 已经运行1年，车辆状态：待租借\n",
      "1.查询所有车辆\n",
      " 2.共享车辆\n",
      " 3.租借车辆\n",
      " 4.归还车辆\n",
      " 5.退出系统\n",
      "\n",
      "请输入所选功能对应得数字：2\n",
      "请输入车辆编码1001\n",
      "请输入车辆使用年限2\n",
      "单车初始化\n",
      "车辆共享成功！\n",
      "1.查询所有车辆\n",
      " 2.共享车辆\n",
      " 3.租借车辆\n",
      " 4.归还车辆\n",
      " 5.退出系统\n",
      "\n",
      "请输入所选功能对应得数字：1\n",
      "所有车辆信息如下：\n",
      "车辆编号1001 已经运行2年，车辆状态：待租借\n",
      "车辆编号1002 已经运行2年，车辆状态：待租借\n",
      "车辆编号1003 已经运行1年，车辆状态：待租借\n",
      "车辆编号1001 已经运行2年，车辆状态：待租借\n",
      "1.查询所有车辆\n",
      " 2.共享车辆\n",
      " 3.租借车辆\n",
      " 4.归还车辆\n",
      " 5.退出系统\n",
      "\n",
      "请输入所选功能对应得数字：5\n",
      "期待您下次使用！祝您生活愉快！\n"
     ]
    }
   ],
   "source": [
    "#单车项目\n",
    "class Bike:\n",
    "    #初始化方法 NO代表车辆编号、age代表车辆年限、\n",
    "    #state代表车辆状态，0代表待租借，1代表租借中\n",
    "    def __init__(self,NO,age,state=0):\n",
    "        self.NO = NO\n",
    "        self.age = age\n",
    "        self.state = state\n",
    "        print(\"单车初始化\")\n",
    "        #单车初始化\n",
    "    def info (self):\n",
    "        if self.state == 0:\n",
    "            status = '待租借'\n",
    "        else:\n",
    "            status = '租借中'\n",
    "        return '车辆编号%d 已经运行%d年，车辆状态：%s' %(self.NO,self.age,status)\n",
    "    '''\n",
    "    在类实例化对象时，将此方法绑定到对象中；当我们打印实例化对象时，\n",
    "    就会自动打印出__str__(self)方法中的内容。\n",
    "    '''\n",
    "    def __str__ (self):\n",
    "        if self.state == 0:\n",
    "            status = '待租借'\n",
    "        else:\n",
    "            status = '租借中'\n",
    "        return '车辆编号%d 已经运行%d年，车辆状态：%s' %(self.NO,self.age,status)\n",
    "class Manage:\n",
    "    #定义一个列表，用来存储所有的车辆\n",
    "    bike_list = []\n",
    "    NO = int(input(\"请输入租借的车辆编号\"))\n",
    "    def __init__(self):\n",
    "        bikeA = Bike(1001,2)\n",
    "        bikeB = Bike(1002,2)\n",
    "        bikeC = Bike(1003,1)\n",
    "        self.bike_list.append(bikeA)\n",
    "        self.bike_list.append(bikeB)\n",
    "        self.bike_list.append(bikeC)\n",
    "    #系统菜单\n",
    "    def menu(self):\n",
    "        print(\"欢迎使用共享单车租借系统\\n\")\n",
    "        while True:\n",
    "            print('1.查询所有车辆\\n 2.共享车辆\\n 3.租借车辆\\n 4.归还车辆\\n 5.退出系统\\n')\n",
    "            select = int(input('请输入所选功能对应得数字：'))\n",
    "            if select == 1:\n",
    "                #单车信息\n",
    "                self.info_bike()\n",
    "            elif select == 2:\n",
    "                #共享单车\n",
    "                self.add_bike()\n",
    "            elif select == 3:\n",
    "                #租借车辆\n",
    "                self.lease_bike()\n",
    "            elif select == 4:\n",
    "                  #归还车辆\n",
    "                self.revert_bike()\n",
    "            elif select == 5:\n",
    "                #退出系统\n",
    "                print('期待您下次使用！祝您生活愉快！')\n",
    "                break\n",
    "    #单车信息\n",
    "    def info_bike(self):\n",
    "        print(\"所有车辆信息如下：\")\n",
    "        for bike in self.bike_list:\n",
    "            print(bike)\n",
    "    \n",
    "    \n",
    "    def select_bike(self,NO):\n",
    "        #遍历整个自行车列表\n",
    "        for bike in self.bike_list:\n",
    "            #如果存在输入编号与车辆列表中的编号一致\n",
    "            if bike.NO == NO：\n",
    "                #返回该车辆信息\n",
    "                return bike\n",
    "    #共享单车\n",
    "    def add_bike(self):\n",
    "        new_NO = int(input('请输入车辆编码'))\n",
    "        new_age = int(input('请输入车辆使用年限'))\n",
    "        \n",
    "        new_bike = Bike(new_NO,new_age)\n",
    "        self.bike_list.append(new_bike)\n",
    "        print('车辆共享成功！')\n",
    "    #租借车辆\n",
    "    def lease_bike(self):\n",
    "        lease_NO = int(input(\"请输入租借的车辆编号\"))\n",
    "        for bike in self.bike_list:\n",
    "            # 遍历自行车列表，与用户租借的编号进行匹配\n",
    "            if bike.NO == lease_NO:\n",
    "                #如果单车在平台中存在\n",
    "                if bike.state == 1 :\n",
    "                    #车辆租借中\n",
    "                    print(\"你来晚了，车被租走了\")\n",
    "                    break\n",
    "                else:\n",
    "                    #车辆待租借\n",
    "                    print(\"租借成功，欢迎您使用绿色出行\")\n",
    "                    bike.state =1\n",
    "                    break\n",
    "            else:\n",
    "                print('车辆编号输入错误')\n",
    "                break\n",
    "    #归还车辆\n",
    "    def revert_bike(self):\n",
    "     \t#输入归还车辆的编号\n",
    "            revert_NO = int(input(\"请输入归还的车辆编号\"))\n",
    "      \t#进行查询\n",
    "            res = self.select_bike(revert_NO)\n",
    "         \t#车辆存在\n",
    "            if res != None:\n",
    "       \t#租借中，还车成功\n",
    "                if res.state ==1:\n",
    "                    \t#还车成功\n",
    "                    print(\"还车成功，期待下次使用\")\n",
    "                    res.state = 0 \n",
    "       \t\t#未租借，等待租借\n",
    "                else:\n",
    "                    \t#车辆等待租借\n",
    "                    print(\"车辆整备完成，等待租借\")\n",
    "      \t\t#车辆不存在\n",
    "            else:\n",
    "                print(\"该车辆不存在,想必您是输错了\")\n",
    "    \n",
    "    \n",
    "    \n",
    "bike = Bike(1001,2)\n",
    "print(bike.NO)\n",
    "print(bike.info())\n",
    "print(bike)\n",
    "\n",
    "user = Manage()\n",
    "print(user)\n",
    "user.menu()"
   ]
  },
  {
   "cell_type": "code",
   "execution_count": null,
   "metadata": {},
   "outputs": [],
   "source": []
  },
  {
   "cell_type": "code",
   "execution_count": null,
   "metadata": {},
   "outputs": [],
   "source": []
  }
 ],
 "metadata": {
  "kernelspec": {
   "display_name": "Python 3",
   "language": "python",
   "name": "python3"
  },
  "language_info": {
   "codemirror_mode": {
    "name": "ipython",
    "version": 3
   },
   "file_extension": ".py",
   "mimetype": "text/x-python",
   "name": "python",
   "nbconvert_exporter": "python",
   "pygments_lexer": "ipython3",
   "version": "3.7.7"
  }
 },
 "nbformat": 4,
 "nbformat_minor": 4
}
