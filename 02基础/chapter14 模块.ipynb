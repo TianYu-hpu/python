{
 "cells": [
  {
   "cell_type": "markdown",
   "metadata": {},
   "source": [
    "# 模块的定义\n",
    "那什么是模块呢？  \n",
    "之前我们学过函数， 我们说函数就如同包裹，它封装了一段代码，可以实现所需功能。  \n",
    "![函数](./picture/14-1.jpg)\n",
    "后来我们学了类，我们发现，类比函数更强大，它封装了属性与方法，可以实现更多的功能。  \n",
    "![函数](./picture/14-2.jpg)\n",
    "今天我们学习一下模块，这个就是江湖中争夺的储物戒指，因为它比函数、类强大很多，能够封装更多的功能代码。  \n",
    "用句专业术语来讲: 模块是最高级别的程序组织单元，它将程序代码和数据封装起来以便重用。也就是模块可以封装任何数据、代码。  \n",
    "![函数](./picture/14-3.jpg)\n",
    "在上节课中，我们编辑了一个名为readfile.py的文件，这个后缀名为.py的文件就是一个单独的模块。  \n",
    "其实，在我们每次的教学课堂中，我们运行的代码也是运行在一个后缀为.py的文件上，只不过我们为了方便大家，隐藏了文件名字。  \n",
    "![函数](./picture/14-4.jpg)\n",
    "每一个后缀名为.py的文件都是模块。  \n",
    "模块作用就是将数据、代码封装起来，以便再使用。模块不仅仅我们自己使用，也可以把它给别人使用，就像传递文件一样那么简单。  \n",
    "好了，接下来，我们看一看模块使用的方式。  \n",
    "## 方式一:使用自己的模块\n",
    "建立模块，就是建立.py文件。在其中一个.py文件中引入另一个.py文件。  \n",
    "如下图：我们在main.py模块中引入mytest.py模块。  \n",
    "![函数](./picture/14-5.jpg)\n",
    "请你阅读main.py与mytest.py中的文件内容，并直接运行main.py文件。  "
   ]
  },
  {
   "cell_type": "code",
   "execution_count": 4,
   "metadata": {},
   "outputs": [],
   "source": [
    "import mytest #导入mytest模块"
   ]
  },
  {
   "cell_type": "markdown",
   "metadata": {},
   "source": [
    "Look，现在终端内是不是已经出现”我是mytest模块”了。  \n",
    "这就是main.py文件引入了mytest.py模块，将mytest.py的内容输出出来了。  \n",
    "就一句代码 import mytest  \n",
    "下面，我们先来看一看import  \n",
    "### import语句  \n",
    "![模块语句](./picture/14-6.jpg)\n",
    "import语句可以导入一个模块,目的不仅仅是打印语句,更主要的是可以使用模块中的变量、函数与类。  \n",
    "![模块](./picture/14-7.jpg)\n",
    "在这段代码中，赋值变量、定义函数、定义类、使用变量、调用函数、实例化对象都在一个文件中。  \n",
    "我们通过使用模块，把赋值变量、定义函数、定义类放在mytest.py文件中，把使用变量、调用函数、实例化对象放在main.py文件中。  \n",
    "运行一下下面代码, 观察终端里的效果。  "
   ]
  },
  {
   "cell_type": "code",
   "execution_count": 6,
   "metadata": {},
   "outputs": [
    {
     "name": "stdout",
     "output_type": "stream",
     "text": [
      "驭风少年\n",
      "hello函数正在运行\n",
      "我是类,我是驭风少年\n",
      "类在运行\n"
     ]
    }
   ],
   "source": [
    "strtest = '驭风少年'\n",
    "\n",
    "def hello():\n",
    "    intro = \"你好,我是驭风少年函数\"\n",
    "    print(\"hello函数正在运行\")\n",
    "\n",
    "class Test:\n",
    "    strClass = \"我是类,我是驭风少年\"\n",
    "    def go(self):\n",
    "        print(\"类在运行\")\n",
    "\n",
    "print(strtest) #打印变量strtest \n",
    "\n",
    "hello()        #运行函数hello()\n",
    "\n",
    "shaonian = Test()   #Test类的实例化\n",
    "print(shaonian.strClass)   #打印实例属性\n",
    "shaonian.go()       #调用实例方法go方法"
   ]
  },
  {
   "cell_type": "markdown",
   "metadata": {},
   "source": [
    "你会发现:在main.py文件中，使用其他模块的代码需要注意:"
   ]
  },
  {
   "cell_type": "code",
   "execution_count": 8,
   "metadata": {},
   "outputs": [
    {
     "name": "stdout",
     "output_type": "stream",
     "text": [
      "驭风少年\n",
      "hello函数正在运行\n",
      "我是类,我是驭风少年\n",
      "类在运行\n"
     ]
    }
   ],
   "source": [
    "import mytest #导入mytest模块\n",
    "print(mytest.strtest) #打印mytest模块中变量strtest \n",
    "\n",
    "mytest.hello()        #运行mytest模块中函数hello()\n",
    "\n",
    "shaonian = mytest.Test()   #mytest模块中Test类的实例化\n",
    "print(shaonian.strClass)   #打印实例属性\n",
    "shaonian.go()       #调用实例方法go方法"
   ]
  },
  {
   "cell_type": "markdown",
   "metadata": {},
   "source": [
    "![使用其他模块语法](./picture/14-8.jpg)\n",
    "import还有另外一种用法，就是import…as… 先看一下下面例子。"
   ]
  },
  {
   "cell_type": "code",
   "execution_count": 10,
   "metadata": {},
   "outputs": [
    {
     "name": "stdout",
     "output_type": "stream",
     "text": [
      "驭风少年\n",
      "hello函数正在运行\n",
      "我是类,我是驭风少年\n",
      "类在运行\n"
     ]
    }
   ],
   "source": [
    "import mytest as ts\n",
    "print(ts.strtest) #打印mytest模块中变量strtest \n",
    "\n",
    "ts.hello()        #运行mytest模块中函数hello()\n",
    "\n",
    "shaonian = ts.Test()   #mytest模块中Test类的实例化\n",
    "print(shaonian.strClass)   #打印实例属性\n",
    "shaonian.go()       #调用实例方法go方法"
   ]
  },
  {
   "cell_type": "markdown",
   "metadata": {},
   "source": [
    "如果你嫌mytest名字太长，就可以使用import…as…语句，可以将mytest的名字变成ts，这样在后面需要使用mytest模块名的地方，就可以换成ts名字使用。  \n",
    "还有，当我们需要导入多个模块时，我们可以使用逗号，将模块名隔开。  \n",
    "例如: import x,y,z 就是将X.py文件，Y.py文件，Z.py文件同时引入。  \n",
    "好了，这就是import语句。下面我们来学习一下from…import语句。  \n",
    "from … import … 语句\n",
    "![模块语句](./picture/14-9.jpg)\n",
    "from…import…语句可以将某一模块的部分代码导入到另一个模块中。  \n",
    "语法如下:\n",
    "![from ... import ...](./picture/14-10.jpg)\n",
    "将上面的mytest.py改造下\n",
    "\n",
    "    #mytest.py文件\n",
    "    strtest = '驭风少年'\n",
    "    def hello():\n",
    "        intro = \"你好,我是驭风少年函数\"\n",
    "        print(\"hello函数正在运行\")\n"
   ]
  },
  {
   "cell_type": "code",
   "execution_count": 12,
   "metadata": {},
   "outputs": [
    {
     "name": "stdout",
     "output_type": "stream",
     "text": [
      "hello函数正在运行\n",
      "驭风少年\n"
     ]
    }
   ],
   "source": [
    "from mytest import hello\n",
    "from mytest import strtest\n",
    "hello()\n",
    "print(strtest)"
   ]
  },
  {
   "cell_type": "markdown",
   "metadata": {},
   "source": [
    "我们将mytest.py文件中的变量与函数引导main.py中使用，这样使用时无需加入”模块名”前缀。  \n",
    "同样，我们这次引入变量与函数,我们可以将：\n",
    "```\n",
    "    from mytest import hello\n",
    "    from mytest import strtest\n",
    "\n",
    "    简写成:\n",
    "    from mytest import hello,strtest\n",
    "```    \n",
    "这就是from…import…语句的用法。  \n",
    "下面，学习下一个语句。  \n",
    "if __name__ == '__main__'  \n",
    "![模块语句](./picture/14-11.jpg)\n",
    "在讲if __name__ == '__main__'语句之前，先给大家介绍一下”程序的入口”。  \n",
    "Python与其他语言一样，程序都要有一个运行入口。当我们运行某个py文件时，就能启动整个程序。那么这个py文件就是程序的入口。  \n",
    "就像上面那个案例：  \n",
    "![模块语句](./picture/14-12.jpg)\n",
    "当然, 以后还会遇到更复杂的情况, 只有一个主模块,引入了其他多个模块。  \n",
    "![模块语句](./picture/14-13.jpg)\n",
    "当我们有很多py文件在一个程序中，但是你只能指定一个程序入口。这样你就需要使用if __name__ == '__main__':来指定某个py文件为程序入口。  \n",
    "第一种情况：加上这一句代码，程序和原来一样：  \n",
    "运行一下下面代码，观察终端里的效果。  \n",
    "这就是，当把mytest.py导入到main.py文件中，在mian.py中加入if __name__ == '__main__': 执行main.py, 程序正常执行。  \n",
    "再来运行一下下面代码，观察终端里的效果  "
   ]
  },
  {
   "cell_type": "code",
   "execution_count": 13,
   "metadata": {},
   "outputs": [
    {
     "name": "stdout",
     "output_type": "stream",
     "text": [
      "驭风少年\n",
      "hello函数正在运行\n",
      "我是类,我是驭风少年\n",
      "类在运行\n"
     ]
    }
   ],
   "source": [
    "import mytest #导入mytest模块\n",
    "if __name__ == '__main__':\n",
    "    print(mytest.strtest)  # 打印mytest模块中变量strtest \n",
    "\n",
    "    mytest.hello()  # 运行mytest模块中函数hello()\n",
    "\n",
    "    shaonian = mytest.Test()  # mytest模块中Test类的实例化\n",
    "    print(shaonian.strClass)  # 打印实例属性\n",
    "    shaonian.go()  # 调用实例方法go方法"
   ]
  },
  {
   "cell_type": "code",
   "execution_count": 15,
   "metadata": {},
   "outputs": [],
   "source": [
    "import main"
   ]
  },
  {
   "cell_type": "markdown",
   "metadata": {},
   "source": [
    "运行first.py代码，你会发现，只能输出”我是a模块”。  \n",
    "这是因为，此时mian.py文件已经不再是程序的入口。main.py文件导入到了first.py文件中，first.py文件运行的时候，只会执行mian.py文件中本身代  码，不会执行if __name__ == '__main__':后面的代码。  \n",
    "总结下if __name__ == '__main__':语句的用法  \n",
    "![模块语句](./picture/14-14.jpg)\n",
    "好了，这就是如何使用我们自己的模块。  \n",
    "接下来，我们学习下如何使用他人模块。  \n",
    "## 方式二：使用他人的模块  \n",
    "在之前的学习中， 我们使用过他人模块， 也就是Python自带的模块。 不知你还记得没？  \n",
    "先运行一下下面代码, 观察终端里的效果。  "
   ]
  },
  {
   "cell_type": "code",
   "execution_count": 16,
   "metadata": {},
   "outputs": [
    {
     "name": "stdout",
     "output_type": "stream",
     "text": [
      "hello\n",
      "python\n"
     ]
    }
   ],
   "source": [
    "import time\n",
    "print(\"hello\")\n",
    "time.sleep(3)\n",
    "print(\"python\")"
   ]
  },
  {
   "cell_type": "markdown",
   "metadata": {},
   "source": [
    "运行代码你会发现，先打印“hello”，延迟3秒后才打印“python”。  \n",
    "这就是time模块中的time.sleep(3)语句起作用了。  \n",
    "你还使用过Python自带的random模块。  \n",
    "运行一下下面代码，观察终端里的效果。  "
   ]
  },
  {
   "cell_type": "code",
   "execution_count": 18,
   "metadata": {},
   "outputs": [
    {
     "name": "stdout",
     "output_type": "stream",
     "text": [
      "23\n"
     ]
    }
   ],
   "source": [
    "import random  \n",
    "num = random.randint(1,30)  # 随机从1-30之间抽取一个数字\n",
    "print(num)"
   ]
  },
  {
   "cell_type": "markdown",
   "metadata": {},
   "source": [
    "这就是我们之前使用Python自带的time与random模块的用法。  \n",
    "探究他人模块  \n",
    "![](./picture/14-15.jpg)\n",
    "Python世界中, 为我们提供了很多内置的模块； 也可以引入一些其他第三方的模块。  \n",
    "使用其他第三方模块, 如爬虫模块, 数据分析模块, 会在其他课程中具体讲解。  \n",
    "这节课, 我们来探究下Python的内置模块。  \n",
    "我们在Python环境中,找到了time.py文件中的代码:  \n"
   ]
  },
  {
   "cell_type": "code",
   "execution_count": null,
   "metadata": {},
   "outputs": [],
   "source": [
    "\"\"\"Stub file for the 'time' module.\"\"\"\n",
    "# See https://docs.python.org/3/library/time.html\n",
    "\n",
    "import sys\n",
    "from typing import Any, NamedTuple, Tuple, Union, Optional\n",
    "if sys.version_info >= (3, 3):\n",
    "    from types import SimpleNamespace\n",
    "\n",
    "_TimeTuple = Tuple[int, int, int, int, int, int, int, int, int]\n",
    "\n",
    "if sys.version_info < (3, 3):\n",
    "    accept2dyear: bool\n",
    "altzone: int\n",
    "daylight: int\n",
    "timezone: int\n",
    "tzname: Tuple[str, str]\n",
    "\n",
    "if sys.version_info >= (3, 7) and sys.platform != 'win32':\n",
    "    CLOCK_BOOTTIME: int  # Linux\n",
    "    CLOCK_PROF: int  # FreeBSD, NetBSD, OpenBSD\n",
    "    CLOCK_UPTIME: int  # FreeBSD, OpenBSD\n",
    "\n",
    "if sys.version_info >= (3, 3) and sys.platform != 'win32':\n",
    "    CLOCK_HIGHRES: int = ...  # Solaris only\n",
    "    CLOCK_MONOTONIC: int = ...  # Unix only\n",
    "    CLOCK_MONOTONIC_RAW: int = ...  # Linux 2.6.28 or later\n",
    "    CLOCK_PROCESS_CPUTIME_ID: int = ...  # Unix only\n",
    "    CLOCK_REALTIME: int = ...  # Unix only\n",
    "    CLOCK_THREAD_CPUTIME_ID: int = ...  # Unix only\n",
    "\n",
    "\n",
    "if sys.version_info >= (3, 3):\n",
    "    class struct_time(\n",
    "        NamedTuple(\n",
    "            '_struct_time',\n",
    "            [('tm_year', int), ('tm_mon', int), ('tm_mday', int),\n",
    "             ('tm_hour', int), ('tm_min', int), ('tm_sec', int),\n",
    "             ('tm_wday', int), ('tm_yday', int), ('tm_isdst', int),\n",
    "             ('tm_zone', str), ('tm_gmtoff', int)]\n",
    "        )\n",
    "    ):\n",
    "        def __init__(\n",
    "            self,\n",
    "            o: Union[\n",
    "                Tuple[int, int, int, int, int, int, int, int, int],\n",
    "                Tuple[int, int, int, int, int, int, int, int, int, str],\n",
    "                Tuple[int, int, int, int, int, int, int, int, int, str, int]\n",
    "            ],\n",
    "            _arg: Any = ...,\n",
    "        ) -> None: ...\n",
    "        def __new__(\n",
    "            cls,\n",
    "            o: Union[\n",
    "                Tuple[int, int, int, int, int, int, int, int, int],\n",
    "                Tuple[int, int, int, int, int, int, int, int, int, str],\n",
    "                Tuple[int, int, int, int, int, int, int, int, int, str, int]\n",
    "            ],\n",
    "            _arg: Any = ...,\n",
    "        ) -> struct_time: ...\n",
    "else:\n",
    "    class struct_time(\n",
    "        NamedTuple(\n",
    "            '_struct_time',\n",
    "            [('tm_year', int), ('tm_mon', int), ('tm_mday', int),\n",
    "             ('tm_hour', int), ('tm_min', int), ('tm_sec', int),\n",
    "             ('tm_wday', int), ('tm_yday', int), ('tm_isdst', int)]\n",
    "        )\n",
    "    ):\n",
    "        def __init__(self, o: _TimeTuple, _arg: Any = ...) -> None: ...\n",
    "        def __new__(cls, o: _TimeTuple, _arg: Any = ...) -> struct_time: ...\n",
    "\n",
    "def asctime(t: Union[_TimeTuple, struct_time] = ...) -> str: ...\n",
    "def clock() -> float: ...\n",
    "def ctime(secs: Optional[float] = ...) -> str: ...\n",
    "def gmtime(secs: Optional[float] = ...) -> struct_time: ...\n",
    "def localtime(secs: Optional[float] = ...) -> struct_time: ...\n",
    "def mktime(t: Union[_TimeTuple, struct_time]) -> float: ...\n",
    "def sleep(secs: float) -> None: ...\n",
    "def strftime(format: str, t: Union[_TimeTuple, struct_time] = ...) -> str: ...\n",
    "def strptime(string: str, format: str = ...) -> struct_time: ...\n",
    "def time() -> float: ...\n",
    "if sys.platform != 'win32':\n",
    "    def tzset() -> None: ...  # Unix only\n",
    "\n",
    "if sys.version_info >= (3, 3):\n",
    "    def get_clock_info(name: str) -> SimpleNamespace: ...\n",
    "    def monotonic() -> float: ...\n",
    "    def perf_counter() -> float: ...\n",
    "    def process_time() -> float: ...\n",
    "    if sys.platform != 'win32':\n",
    "        def clock_getres(clk_id: int) -> float: ...  # Unix only\n",
    "        def clock_gettime(clk_id: int) -> float: ...  # Unix only\n",
    "        def clock_settime(clk_id: int, time: float) -> None: ...  # Unix only\n",
    "\n",
    "if sys.version_info >= (3, 7):\n",
    "    def clock_gettime_ns(clock_id: int) -> int: ...\n",
    "    def clock_settime_ns(clock_id: int, time: int) -> int: ...\n",
    "    def monotonic_ns() -> int: ...\n",
    "    def perf_counter_ns() -> int: ...\n",
    "    def process_time_ns() -> int: ...\n",
    "    def time_ns() -> int: ...\n",
    "    def thread_time() -> float: ...\n",
    "    def thread_time_ns() -> int: ..."
   ]
  },
  {
   "cell_type": "markdown",
   "metadata": {},
   "source": [
    "代码很长很长, time.py文件中的结构如下：\n",
    "![](./picture/14-16.jpg)\n",
    "我们可以看到我们经常使用的sleep()函数。  \n",
    "代码片段\n",
    "\n",
    "    def sleep(secs: float) -> None: ...\n",
    "    \n",
    "secs:float 就决定了，需要延迟时间，也可以传入浮点数类型的数值。  \n",
    "我们可以查看Python中所有内置模块的语法。  \n",
    "大家如果怕麻烦, 可以去Python的网站去学习；链接如下:https://docs.python.org/3/library/time.html  \n",
    "## 自学模块\n",
    "![](./picture/14-17.jpg)\n",
    "学习模块, 就是要学会模块的功能，也就是模块中的函数方法如何使用。  \n",
    "我们详细学习下time时间模块。好多小伙儿会说，刚才那个网站很好, 但是都是英文的, 我看不懂怎么办。  \n",
    "英文的看不懂, 我们看中文的。来, 百度一下。  \n",
    "![](./picture/14-18.jpg)\n",
    "我们可以把time模块重点的功能内容做成笔记:  \n"
   ]
  },
  {
   "cell_type": "code",
   "execution_count": 20,
   "metadata": {},
   "outputs": [
    {
     "name": "stdout",
     "output_type": "stream",
     "text": [
      "当前时间戳为: 1590758454.9662218\n",
      "本地时间为 : time.struct_time(tm_year=2020, tm_mon=5, tm_mday=29, tm_hour=21, tm_min=20, tm_sec=54, tm_wday=4, tm_yday=150, tm_isdst=0)\n",
      "本地时间为 : Fri May 29 21:20:54 2020\n",
      "2020-05-29 21:20:54\n",
      "Fri May 29 21:20:54 2020\n",
      "1459175064.0\n"
     ]
    }
   ],
   "source": [
    "import time;  # 引入time模块\n",
    " \n",
    "ticks = time.time() #时间戳   每个时间戳都以自从1970年1月1日午夜（历元）经过了多长时间来表示。\n",
    "print (\"当前时间戳为:\", ticks)\n",
    "\n",
    "localtime = time.localtime(time.time()) #本地时间  从返回浮点数的时间戳方式向时间元组转换，只要将浮点数传递给如localtime之类的函数。\n",
    "print (\"本地时间为 :\", localtime)\n",
    "\n",
    "localtime = time.asctime( time.localtime(time.time()) ) #根据需求选取时间格式\n",
    "print (\"本地时间为 :\", localtime)\n",
    "\n",
    "print (time.strftime(\"%Y-%m-%d %H:%M:%S\", time.localtime()) )# 格式化成2016-03-20 11:45:39形式\n",
    " \n",
    "print (time.strftime(\"%a %b %d %H:%M:%S %Y\", time.localtime()) )# 格式化成Sat Mar 28 22:24:24 2016形式\n",
    "  \n",
    "a = \"Sat Mar 28 22:24:24 2016\"\n",
    "print (time.mktime(time.strptime(a,\"%a %b %d %H:%M:%S %Y\")))# 将格式字符串转换为时间戳"
   ]
  },
  {
   "cell_type": "markdown",
   "metadata": {},
   "source": [
    "这就是time模块的内容。  \n",
    "这是比较小的模块，知识点比较单一的模块，还可以自学；但是对于知识点比较复杂的庞大模块，就比较困难了。  \n",
    "比如说数据分析的NumPy与pandas模块，这就需要进行系统学习的。  \n",
    "好了， 接下来，带大家学习一个CSV模块。  \n",
    "## 学习CSV模块 \n",
    "CSV是一种比较实用又简单的模块。学完CSV模块，就可以使用程序来处理excel表格了。  \n",
    "我们先在excel中新建一个excel表格, 但是要选择”CSV”格式. 我将这个文件保存成”mytest.csv” \n",
    "![](./picture/14-19.jpg)\n",
    "在”mytest.csv”文件中，写下如下内容：  \n",
    "![](./picture/14-20.jpg)"
   ]
  },
  {
   "cell_type": "code",
   "execution_count": 21,
   "metadata": {},
   "outputs": [
    {
     "name": "stdout",
     "output_type": "stream",
     "text": [
      "内容如下\n",
      "\n",
      "['11', '12', '13']\n",
      "['21', '22', '23']\n",
      "['31', '32', '33']\n",
      "读取完毕！\n"
     ]
    }
   ],
   "source": [
    "import csv\n",
    "\n",
    "with open(\"mytest.csv\",encoding='utf-8-sig')  as r:\n",
    "    print(\"内容如下\\n\")\n",
    "    reader = csv.reader(r)\n",
    "    #使用csv的reader()方法，创建一个reader对象\n",
    "    for content in reader:\n",
    "    #遍历reader对象的每一行\n",
    "        print(content)\n",
    "\n",
    "print(\"读取完毕！\")"
   ]
  }
 ],
 "metadata": {
  "kernelspec": {
   "display_name": "Python 3",
   "language": "python",
   "name": "python3"
  },
  "language_info": {
   "codemirror_mode": {
    "name": "ipython",
    "version": 3
   },
   "file_extension": ".py",
   "mimetype": "text/x-python",
   "name": "python",
   "nbconvert_exporter": "python",
   "pygments_lexer": "ipython3",
   "version": "3.7.7"
  }
 },
 "nbformat": 4,
 "nbformat_minor": 4
}
