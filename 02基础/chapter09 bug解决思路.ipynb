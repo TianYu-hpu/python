{
 "cells": [
  {
   "cell_type": "markdown",
   "metadata": {},
   "source": [
    "# Bug解决\n",
    "在这段学习的过程中，想必大家都被终端无情的报错与吐槽整崩溃了吧？看到那鲜红的错误，每次都让你捉急吧。   \n",
    "“失败乃成功之母”，这是不变的道理，在失败中总结，在失败中成长，才能成为编程界的一代宗师。    \n",
    "这节课，小K传授给大家一些解决程序错误(bug)的小技巧。    \n",
    "江湖秘籍：bug是程序错误的统称。    \n",
    "现在无论干哪行，都说传承。比如卖鞋的拜刘备，跑江湖的拜关二爷，就连大街上手机贴膜的都说自己是祖传贴膜。    \n",
    "那我们编程界，谁是祖师爷啊？    \n",
    "有人说，编程界的祖师爷是沈从文，因为他写过一本书叫做《边城》 (是的，谐音梗)    \n",
    "但是，小K认为，编程界的祖师爷从清朝就有了，他就是雍正爷。    \n",
    "为啥啊？因为雍正爷专治bug(八阿哥)啊。      \n",
    "![bug](./picture/9-1.jpg)\n",
    "好了，下面小K就借助雍正爷的神力，给大家传授整治bug的技巧。    \n",
    "小K收集了一下大家经常出现的bug， 我们一起整治。    \n",
    "四种常见Bug类型    \n",
    "Bug可以分为四类：    \n",
    "![bug类型](./picture/9-2.jpg)\n",
    "## 1、粗心\n",
    "![粗心](./picture/9-3.jpg)\n",
    "```\n",
    "pwd = input('请输入密码：')\n",
    "if pwd == '520666'\n",
    "     print('正确')\n",
    "```\n",
    "这是验证用户密码的代码，如果你把它放进运行，会报如下错误。    \n",
    "![粗心](./picture/9-4.jpg)\n",
    "![粗心](./picture/9-5.jpg)\n",
    "![粗心](./picture/9-6.jpg)\n",
    "![粗心](./picture/9-7.jpg)\n",
    "## 2、知识不熟练\n",
    "![粗心](./picture/9-8.jpg)\n",
    "![粗心](./picture/9-9.jpg)\n",
    "## 3、思路不清\n",
    "![粗心](./picture/9-10.jpg)\n",
    "思路不清bug”是初学者最常见的bug，解决了它，就解决了大部分bug。    \n",
    "思路不清bug主要是由于我们在面对问题时， 由于我们对问题及细节思考不到位，导致”一招不慎，全盘报错”。 有的时候还不报错，但就达不到我们想要的效果。    \n",
    "针对这一点：江湖秘籍上给我们提供了两个宝盒。    \n",
    "![粗心](./picture/9-11.jpg)\n",
    "先看print()函数， print()函数可以将内容打印。    \n",
    "我们可以使用print()函数将每一步的结果打印出来，然后对结果进行分析，找到计算机运行的结果与我们分析不一致的地方。    \n",
    "#注释我们也使用过。 如果某行或某段代码写的总是不对，你可以使用注释将当前代码注释掉， 再一步一步运行，排除错误。    \n",
    "print()函数与#注释搭配起来更好用。    \n",
    "大家先运行一下下面代码, 看看终端中报的错误。    \n",
    "![粗心](./picture/9-12.jpg)\n",
    "![粗心](./picture/9-13.jpg)\n",
    "被动掉坑，指的是有时候代码没问题， 而是用户操作不正确，导致程序出问题。    \n",
    "For example：运行一下下面代码， 你输入字符串，看看程序报不报错?再重新运行一次，输入整数试一试。    \n",
    "```\n",
    "age = int(input('你今年多大了？'))\n",
    "if age < 18:\n",
    "    print('不可以抽烟喝酒烫头哦')\n",
    "```\n",
    "当输入数字的时候，程序正常运行，不会报错。    \n",
    "当输入非数字的时候， 程序抛出bug。    \n",
    "![粗心](./picture/9-14.jpg)\n",
    "它给我们抛出bug，位置在第一行，显示bug信息为”ValueError” ValueError指的是数据异常， 也就是我们输入的数据不合规范。    \n",
    "面对这种问题，我们好像无从下手?    \n",
    "不要慌，在Python江湖中，Python给我们提供了一种异常处理机制，用来内部消化出现的异常，让程序继续执行。    \n",
    "![粗心](./picture/9-15.jpg)\n",
    "这样，我们就可以把上面代码修改成如下样子，点击运行，输入整数试一试；再输入字符串试一试。    "
   ]
  },
  {
   "cell_type": "code",
   "execution_count": 2,
   "metadata": {},
   "outputs": [
    {
     "name": "stdout",
     "output_type": "stream",
     "text": [
      "你今年多大了？1\n",
      "不可以抽烟喝酒烫头哦\n"
     ]
    }
   ],
   "source": [
    "while True:\n",
    "        try:\n",
    "            age = int(input('你今年多大了？'))\n",
    "            break\n",
    "        except ValueError:\n",
    "            print('你输入的不是数字')\n",
    "if age < 18:\n",
    "    print('不可以抽烟喝酒烫头哦')\n"
   ]
  },
  {
   "cell_type": "markdown",
   "metadata": {},
   "source": [
    "这次是不是完美了？    \n",
    "这就是Python中的异常捕获。    \n",
    "这段代码:     \n",
    "    1、不知道用户什么时候会输入正确，什么时候会输入错误， 设置while循环来接收输入， 只要用户输入的不是数字就一直循环，用户输入数字后就break跳出循环。\n",
    "    2、 使用try…except…异常捕获机制， 用户输入不正确时会一直提示。    \n",
    "好了，我们已经把四种类型的bug和解决方案都介绍了一遍。    \n",
    "小K给大家准备了一份秘籍    \n",
    "![自检秘籍](./picture/9-16.jpg)"
   ]
  },
  {
   "cell_type": "markdown",
   "metadata": {},
   "source": [
    "### 题目要求\n",
    "代码如下: num = [5,6,0,10] for i in num: print (600/i)\n",
    "### 题目讲解\n",
    "运行以下代码，终端会报错，找到代码错误地方，进行修改\n",
    "### 书写代码\n"
   ]
  },
  {
   "cell_type": "code",
   "execution_count": 3,
   "metadata": {},
   "outputs": [
    {
     "name": "stdout",
     "output_type": "stream",
     "text": [
      "120.0\n",
      "100.0\n",
      "60.0\n"
     ]
    }
   ],
   "source": [
    "num = [5,6,0,10]\n",
    "for i in num:\n",
    "    if(i !=0):\n",
    "        print (600/i)"
   ]
  }
 ],
 "metadata": {
  "kernelspec": {
   "display_name": "Python 3",
   "language": "python",
   "name": "python3"
  },
  "language_info": {
   "codemirror_mode": {
    "name": "ipython",
    "version": 3
   },
   "file_extension": ".py",
   "mimetype": "text/x-python",
   "name": "python",
   "nbconvert_exporter": "python",
   "pygments_lexer": "ipython3",
   "version": "3.7.7"
  }
 },
 "nbformat": 4,
 "nbformat_minor": 4
}
