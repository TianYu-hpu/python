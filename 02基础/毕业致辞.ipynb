{
 "cells": [
  {
   "cell_type": "markdown",
   "metadata": {},
   "source": [
    "今天，程序员之间共享代码的平台有很多，但是编程教育的普及，却还有很长的路要走。  \n",
    "在大多数人的认知里，提及“程序员”，除了调侃“脱发、熬夜、格子衬衫”更多的还有对这个职业敬畏，仿佛他们在用代码做着无所不能的事。  \n",
    "而“非程序员”的工作者却和技术之间似乎隔了无法逾越的壁垒。  \n",
    "要做的就是要降低编程的准入门槛，让编程不再是程序员的专属，让每个人都能享受编程带来的效率和乐趣。  \n",
    "当然，这一过程，对于教学者的小K和初学者的你都不会是一件容易的事。  \n",
    "在这里，我想运用雨果的一句话：上天给人一份困难时，同时也给人一份智慧。  \n",
    "至少对于现在学完这些课的你们来说，印证了这一点。  \n",
    "当我看到零基础的学员自豪的向我展示他所做的程序时，当我看到一个个利用编程在自己的领域获得成绩的分享时，我就会愈加坚定走下去，我也相信编程的学习正在一点一点走向遍及。  "
   ]
  }
 ],
 "metadata": {
  "kernelspec": {
   "display_name": "Python 3",
   "language": "python",
   "name": "python3"
  },
  "language_info": {
   "codemirror_mode": {
    "name": "ipython",
    "version": 3
   },
   "file_extension": ".py",
   "mimetype": "text/x-python",
   "name": "python",
   "nbconvert_exporter": "python",
   "pygments_lexer": "ipython3",
   "version": "3.7.7"
  }
 },
 "nbformat": 4,
 "nbformat_minor": 4
}
