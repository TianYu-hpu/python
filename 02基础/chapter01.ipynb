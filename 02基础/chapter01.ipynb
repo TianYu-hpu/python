{
 "cells": [
  {
   "cell_type": "markdown",
   "metadata": {},
   "source": [
    "经过前三节课，你是不是已经感觉，你行走在Python江湖中越来越顺利。    \n",
    "但是，在Python的江湖里，要想走的更远，你还要利用Python的数据、代码逻辑，去回应计算机，输入自己的信息。    \n",
    "在今天课程里，你收到了一封来自天启的战书，这封战书，将带你使用input()函数，开启与计算机的沟通交流。    \n",
    "# input()函数    \n",
    "首先，先看一下天启的战书吧。请点击下方代码块左方的【运行】按钮，在右方【终端】区域，先【输入】你的所选的数字，再按回车键。    "
   ]
  },
  {
   "cell_type": "code",
   "execution_count": 3,
   "metadata": {},
   "outputs": [
    {
     "name": "stdout",
     "output_type": "stream",
     "text": [
      "天启说: 愚蠢的X战警们：\n",
      "你们这该死的行为\n",
      "变种人是强大的\n",
      "我要统治世界\n",
      "给你们两条路，要么投降臣服于我，要么我把你们都杀死\n",
      "那么，您的选择是什么？ 1 接受投降，还是 2 反抗到底？\n",
      "请输入您选择的数字：1\n",
      "哈哈，投降是最好的选择，你们以后要乖乖听我的话，有任何违抗都会杀无赦，哈哈。\n"
     ]
    }
   ],
   "source": [
    "import time\n",
    "print('天启说: 愚蠢的X战警们：')\n",
    "time.sleep(1)\n",
    "print('你们这该死的行为')\n",
    "time.sleep(2)\n",
    "print('变种人是强大的')\n",
    "time.sleep(1)\n",
    "print('我要统治世界')\n",
    "time.sleep(1)\n",
    "print('给你们两条路，要么投降臣服于我，要么我把你们都杀死')\n",
    "time.sleep(1)\n",
    "print('那么，您的选择是什么？ 1 接受投降，还是 2 反抗到底？')\n",
    "time.sleep(2)\n",
    "choice=input('请输入您选择的数字：')\n",
    "if choice =='1':\n",
    "    print('哈哈，投降是最好的选择，你们以后要乖乖听我的话，有任何违抗都会杀无赦，哈哈。')\n",
    "else:\n",
    "    print('可恶，你们这帮蝼蚁，那我就和你们较量较量吧，我要把你们都干掉。')"
   ]
  },
  {
   "cell_type": "markdown",
   "metadata": {},
   "source": [
    "看到没？这就是你利用input()函数，与计算机进行的第一次交流。    \n",
    "来而不往非礼也。想要真正的人机互动交流，关键就是有来有往。比如，X教授问你，要不要加入他们的战队去对抗天启,\n",
    "这就需要给程序输入一个提问命：你要加入我们对抗天启吗?    \n",
    "程序接收到X教授的命令后，会一字不差的显示在你的计算机屏幕上，问：你要加入我们对抗天启吗?    \n",
    "那么，这个用键盘向电脑提供指令，再通过电脑把问题显示在显示器上，等回答的过程，就是通过input()实现的    \n",
    "![input函数](./picture/1-1.png)\n",
    "那么，input()函数的具体用法、背后的逻辑究竟是什么呢？这关，小K会从四个角度逐个击破input()函数。    \n",
    "## input()函数的使用    \n",
    "![input函数](./picture/1-2.png)\n",
    "首先，让我们通过一段代码来看一看input()函数是如何使用的：    \n",
    "代码片段    \n",
    "```\n",
    "input('请在以下四个选项【X教授；魔形女；野兽；镭射眼】中，输入你认为最强的X战警:')\n",
    "```\n",
    "input()函数是输入函数。就上面例子来讲，它需要你输入针对括号内'请在以下四个选项【X教授；魔形女；野兽；镭射眼】中，输入你认为最强的X战警:'的答案。    \n",
    "当你在函数的括号内写出想要问的问题时，input()函数会将此问题原样显示在屏幕上，并在终端区域等待你针对此问题的回答。    \n",
    "难道，我们一定要在终端处输入回答吗？不输入行不行    \n",
    "事实上，我们可以把input()函数当作一扇连接现实世界与代码世界的门。    \n",
    "当问题从代码世界传递给我们，可我们却没有回答时，这扇等待输入的input()大门，就会一直处于敞开状态，一直等着你往里送回答。    \n",
    "而当我们输入信息后，这扇input()大门便会关上，继续执行下面的命令。    \n",
    "选择题    \n",
    "因此，一句话总结江湖秘籍（选择题）：    \n",
    "A: input()函数是用来打印内容的。    \n",
    "B: input()函数是计算机用来收取用户答案的，用户一定要在终端输入内容。    \n",
    "恭喜你答对了，选B。 A项 打印内容是print()函数做的事情    \n",
    "下面，我们来总结一下input()的用法    \n",
    "![input函数使用](./picture/1-3.png)\n",
    "现在我们能够使用input()函数将用户输入的数据拿走了, 可是用户输入的数据到哪儿去了? 我们选择的答案去哪儿了呢？我们怎么能够看到呢？    \n",
    "这就涉及到了input()函数的第二个知识点---函数结果的赋值    \n",
    "input()函数结果的赋值\n",
    "![input函数使用](./picture/1-4.png)\n",
    "在第一课中, 我们讲过变量的赋值，将等号右边的内容赋给左边的变量。    \n",
    "这种方式, 在input()中也是行得通的。    \n",
    "比如,以下面这行代码为例：    \n",
    "```\n",
    "name = input('请输入你喜欢人的名字：')\n",
    "```\n",
    "input()函数依然是向用户询问，“请输入你喜欢人的名字”，用户在终端中输入内容，无论输入什么内容，这个内容都将会赋值给name这个变量，此时name这个容器里面存储的就是用户输入的内容。    \n",
    "下面,我们自己来测试一下。直接点击下方运行按钮，然后再右侧终端内输入你的答案，按回车。观察终端框里的变化。    \n"
   ]
  },
  {
   "cell_type": "code",
   "execution_count": 5,
   "metadata": {},
   "outputs": [
    {
     "name": "stdout",
     "output_type": "stream",
     "text": [
      "请输入你喜欢人的名字：1\n",
      "1\n"
     ]
    }
   ],
   "source": [
    "name = input('请输入你喜欢人的名字：')\n",
    "print(name)"
   ]
  },
  {
   "cell_type": "markdown",
   "metadata": {},
   "source": [
    "刚才，我们在终端处输入的喜欢人的名字，叫做输入值。    \n",
    "我们把这个输入值，赋值给了变量name.    \n",
    "然后通过print()函数将name的值打印出来。    "
   ]
  },
  {
   "cell_type": "code",
   "execution_count": 6,
   "metadata": {
    "scrolled": true
   },
   "outputs": [
    {
     "name": "stdout",
     "output_type": "stream",
     "text": [
      "请输入你喜欢人的名字：1\n",
      "1I love you\n"
     ]
    }
   ],
   "source": [
    "name = input('请输入你喜欢人的名字：')\n",
    "print(name+'I love you')"
   ]
  },
  {
   "cell_type": "markdown",
   "metadata": {},
   "source": [
    "大家应该看到，打印出的内容，除了刚才输入的名字，还多了‘I love you’    \n",
    "这就是我们将input()结果赋值给变量后，又对变量进行的处理。    \n",
    "![input函数结果赋值](./picture/1-5.png)\n",
    "选择题    \n",
    "那么， 综合我们前面所学知识，请问input()函数应该如何使用？    \n",
    "A:1.函数赋值给变量；2收集用户输入结果 3 输出结果    \n",
    "B:1.使用input()函数收集用户输入结果 2 将结果赋值给变量 3输出结果    \n",
    "恭喜你答对了，选B。 只有先收集用户信息才能赋值给其他变量，最后打印结果    \n",
    "![input函数使用场景](./picture/1-6.png)\n",
    "好了，现在我们可以将input()函数收集的信息赋值给变量了。    \n",
    "变量的左边是变量的名，中间是等号，右边是变量的数据。    \n",
    "数据是有类型的啊。那么input()函数收集到的数据类型是什么样的呢？    \n",
    "这就涉及到了input()函数的第三个知识点    \n",
    "## input()函数的数据类型\n",
    "![input函数使用场景](./picture/1-7.png)"
   ]
  },
  {
   "cell_type": "code",
   "execution_count": 9,
   "metadata": {},
   "outputs": [
    {
     "name": "stdout",
     "output_type": "stream",
     "text": [
      "请输入你喜欢人的名字：1\n",
      "<class 'str'>\n",
      "她喜欢1.逛街，2.旅游，3.美食。输入数字：1\n",
      "<class 'str'>\n"
     ]
    }
   ],
   "source": [
    "name = input('请输入你喜欢人的名字：')\n",
    "print(type(name))\n",
    "hobby = input('她喜欢1.逛街，2.旅游，3.美食。输入数字：')\n",
    "print(type(hobby))"
   ]
  },
  {
   "cell_type": "markdown",
   "metadata": {},
   "source": [
    "运行结束后，你会发现，无论是输入1，2，3哪个数字也好，输出的结果都是< class 'str'>    \n",
    "江湖秘籍：不管输入的回答是什么, 不管输入的是整数1234，还是字符串，input()函数的输入值，都会被强制性的转换为字符串类型。    \n",
    "![input](./picture/1-8.png)\n",
    "此时，我们再看一下刚开始学习input()函数天启的挑战。    \n",
    "![input](./picture/1-9.png)\n",
    "用户输入的内容是字符串，那么choice中的数据类型是字符串， 下面if中判断的条件语句choice==‘1’，等号左右都是字符串    \n",
    "也就说，只要收集到用户输入的数字，input()会自动把它们转成字符串。那如果以后有100个，1000个数字选项，也会转成字符串呀，光是这么多的引号，我都头疼。    \n",
    "那么，我们就需要一个简单的方法，将所有输入值的数据类型，一次性转化成整数。  \n",
    "## input()函数结果的强制转换\n",
    "![input](./picture/1-10.png)\n",
    "选择题    \n",
    "在开始之前，先完成下面题目， 如何将字符串类型转换成整数类型？    \n",
    "A.str()    \n",
    "B.int()    \n",
    "C.float()    \n",
    "恭喜你答对了，选B。 int()会将括号内的数据强制变成整数类型 A项str()会将括号内的数据强制变成字符串类型 C项 float（）会将括号内的数据强制变成浮点数类型    \n",
    "有了int()函数，我们就可以从input()函数的源头，将输入的内容转换为整数。 hobby = int(input('她喜欢1.逛街，2.旅游，3.美食。输入数字即可'))    \n",
    "将input()函数整体放进了int()函数的括号中，这样将input()收集的数据变成整数类型。    \n",
    "下面，请你接下我的接力棒。补齐下面的条件判断代码：如果选择1 ，打印“拿我的卡，使劲花”； 如果选择2 ，打印“带你去浪漫的土耳其，还有东京和巴黎”。 如果选择3，打印‘吃嘛嘛香’【要点提示：if……else条件判断，变量赋值，等于整数】    "
   ]
  },
  {
   "cell_type": "code",
   "execution_count": 10,
   "metadata": {},
   "outputs": [
    {
     "name": "stdout",
     "output_type": "stream",
     "text": [
      "她喜欢1.逛街，2.旅游，3.美食。输入数字：1\n",
      "吃嘛嘛香\n"
     ]
    }
   ],
   "source": [
    "hobby = input('她喜欢1.逛街，2.旅游，3.美食。输入数字：')\n",
    "if hobby ==1:\n",
    "     print('拿我的卡，使劲花')\n",
    "elif hobby==2:\n",
    "     print('带你去浪漫的土耳其，还有东京和巴黎')\n",
    "else:\n",
    "     print('吃嘛嘛香')"
   ]
  },
  {
   "cell_type": "markdown",
   "metadata": {},
   "source": [
    "那么我们什么时候使用input()函数结果的强制转换呢?    \n",
    "思路很简单,只要涉及到用户输入的内容是数字时都可以, 比如说输入的数据是年龄、工资等。    "
   ]
  },
  {
   "cell_type": "code",
   "execution_count": 11,
   "metadata": {},
   "outputs": [
    {
     "name": "stdout",
     "output_type": "stream",
     "text": [
      "你一个月工资多少钱？1\n",
      "不要和我借钱啊，我也没有～\n"
     ]
    }
   ],
   "source": [
    "money = int(input('你一个月工资多少钱？'))\n",
    "#将输入的工资数（字符串），强制转换为整数\n",
    "if money >= 100000:\n",
    "#当工资数（整数）大于等于100000（整数）时\n",
    "    print('土豪我们做朋友吧！')\n",
    "#打印if条件下的结果\n",
    "else:\n",
    "#当工资数（整数）小于100000（整数）时\n",
    "    print('不要和我借钱啊，我也没有～')\n",
    "#打印else条件下"
   ]
  },
  {
   "cell_type": "markdown",
   "metadata": {},
   "source": [
    "![总结](./picture/1-11.png)\n",
    "![重点内容](./picture/1-12.png)"
   ]
  },
  {
   "cell_type": "markdown",
   "metadata": {},
   "source": [
    "### 题目要求\n",
    "指派一位英雄，加入到X战警团队，并打印出结果“我是X教授指派加入到X战警团队的XXX”（其中，XX是你指派的英雄名字）。    \n",
    "### 题目讲解\n",
    "X战警在对战天启的时候，各地英雄纷纷赶来。现在你是X教授，你想指派谁加入到X战警团队。    \n",
    "### 书写代码\n"
   ]
  },
  {
   "cell_type": "code",
   "execution_count": 12,
   "metadata": {},
   "outputs": [
    {
     "name": "stdout",
     "output_type": "stream",
     "text": [
      "如果你是X教授，你指派哪位英雄加入到X战警团队，请输入他的名字:1\n"
     ]
    }
   ],
   "source": [
    "hero = input(\"如果你是X教授，你指派哪位英雄加入到X战警团队，请输入他的名字:\")"
   ]
  },
  {
   "cell_type": "markdown",
   "metadata": {},
   "source": [
    "### 题目要求\n",
    "当随机输入熊二掰玉米的数量时，可以判断出，这天是熊大给熊二蜂蜜，还是熊二给熊大蜂蜜，并打印出来。    \n",
    "### 题目讲解 \n",
    "为了让熊二变勤快些，熊大与熊二打赌，制定如下计划. 赌约如下： 如果熊二一天能掰500个玉米，熊大就要给熊二一罐蜂蜜。 如果熊二一天不能掰500个玉米，熊二就要给熊大一罐蜂蜜。   \n",
    "### 书写代码"
   ]
  },
  {
   "cell_type": "code",
   "execution_count": 7,
   "metadata": {},
   "outputs": [
    {
     "name": "stdout",
     "output_type": "stream",
     "text": [
      "熊二今天掰玉米的数量:1\n",
      "熊二给熊大蜂蜜\n"
     ]
    }
   ],
   "source": [
    "\n",
    "num=int(input('熊二今天掰玉米的数量:'))\n",
    "if num>=500:\n",
    "    print(\"熊大给熊二蜂蜜\")\n",
    "else:\n",
    "    print(\"熊二给熊大蜂蜜\") "
   ]
  }
 ],
 "metadata": {
  "kernelspec": {
   "display_name": "Python 3",
   "language": "python",
   "name": "python3"
  },
  "language_info": {
   "codemirror_mode": {
    "name": "ipython",
    "version": 3
   },
   "file_extension": ".py",
   "mimetype": "text/x-python",
   "name": "python",
   "nbconvert_exporter": "python",
   "pygments_lexer": "ipython3",
   "version": "3.7.7"
  }
 },
 "nbformat": 4,
 "nbformat_minor": 4
}
