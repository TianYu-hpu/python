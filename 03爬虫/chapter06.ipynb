{
 "cells": [
  {
   "cell_type": "code",
   "execution_count": 1,
   "metadata": {},
   "outputs": [
    {
     "name": "stdout",
     "output_type": "stream",
     "text": [
      "['math', '95']\n",
      "['english', '90']\n"
     ]
    }
   ],
   "source": [
    "import csv\n",
    "\n",
    "# 打开csv文件\n",
    "file = open(\"score.csv\")\n",
    "\n",
    "# 读取文件内容，构造csv.reader对象\n",
    "reader = csv.reader(file)\n",
    "\n",
    "# 打印reader中的内容\n",
    "for item in reader:\n",
    "    print(item)"
   ]
  },
  {
   "cell_type": "code",
   "execution_count": 3,
   "metadata": {},
   "outputs": [
    {
     "ename": "ModuleNotFoundError",
     "evalue": "No module named 'openpyxl'",
     "output_type": "error",
     "traceback": [
      "\u001b[1;31m---------------------------------------------------------------------------\u001b[0m",
      "\u001b[1;31mModuleNotFoundError\u001b[0m                       Traceback (most recent call last)",
      "\u001b[1;32m<ipython-input-3-33e6e7d71897>\u001b[0m in \u001b[0;36m<module>\u001b[1;34m\u001b[0m\n\u001b[1;32m----> 1\u001b[1;33m \u001b[1;32mimport\u001b[0m \u001b[0mopenpyxl\u001b[0m\u001b[1;33m\u001b[0m\u001b[1;33m\u001b[0m\u001b[0m\n\u001b[0m\u001b[0;32m      2\u001b[0m \u001b[1;31m# 引用openpyxl\u001b[0m\u001b[1;33m\u001b[0m\u001b[1;33m\u001b[0m\u001b[1;33m\u001b[0m\u001b[0m\n\u001b[0;32m      3\u001b[0m \u001b[0mwb\u001b[0m \u001b[1;33m=\u001b[0m \u001b[0mopenpyxl\u001b[0m\u001b[1;33m.\u001b[0m\u001b[0mWorkbook\u001b[0m\u001b[1;33m(\u001b[0m\u001b[1;33m)\u001b[0m\u001b[1;33m\u001b[0m\u001b[1;33m\u001b[0m\u001b[0m\n\u001b[0;32m      4\u001b[0m \u001b[1;31m# 利用openpyxl.Workbook()函数创建新的workbook（工作薄）对象，就是创建新的空的Excel文件。\u001b[0m\u001b[1;33m\u001b[0m\u001b[1;33m\u001b[0m\u001b[1;33m\u001b[0m\u001b[0m\n\u001b[0;32m      5\u001b[0m \u001b[0msheet\u001b[0m \u001b[1;33m=\u001b[0m \u001b[0mwb\u001b[0m\u001b[1;33m.\u001b[0m\u001b[0mactive\u001b[0m\u001b[1;33m\u001b[0m\u001b[1;33m\u001b[0m\u001b[0m\n",
      "\u001b[1;31mModuleNotFoundError\u001b[0m: No module named 'openpyxl'"
     ]
    }
   ],
   "source": [
    "import openpyxl\n",
    "# 引用openpyxl\n",
    "wb = openpyxl.Workbook()\n",
    "# 利用openpyxl.Workbook()函数创建新的workbook（工作薄）对象，就是创建新的空的Excel文件。\n",
    "sheet = wb.active\n",
    "# wb.active就是获取这个工作薄的活动表，通常就是第一个工作簿，也就是我们在上面的图片中看到的sheet1。\n",
    "sheet.title = 'kaikeba'\n",
    "# 可以用.title给工作表重命名。现在第一个工作表的名称就会由原来默认的“sheet1”改为\"kaikeba\"。\n",
    "sheet['A1'] = 'kaikeba'\n",
    "# 向单个单元格写入数据\n",
    "score1 = ['math', 95]\n",
    "sheet.append(score1)\n",
    "# 写入整行的数据，变量类型是一个列表\n",
    "wb.save('score.xlsx')\n",
    "# 保存修改的Excel\n",
    "wb.close()\n",
    "# 关闭Excel"
   ]
  },
  {
   "cell_type": "code",
   "execution_count": 6,
   "metadata": {},
   "outputs": [],
   "source": [
    "import requests\n",
    "import openpyxl\n",
    "\n",
    "url = 'https://c.y.qq.com/soso/fcgi-bin/client_search_cp'\n",
    "wb=openpyxl.Workbook()\n",
    "#创建工作薄\n",
    "sheet=wb.active\n",
    "#获取工作薄的活动表\n",
    "sheet.title='songs_mayday'\n",
    "#工作表重命名\n",
    "column_name = ['歌曲名','所属专辑','播放时长','播放链接']\n",
    "sheet.append(column_name)\n",
    "for x in range(0,3):\n",
    "    params = {\n",
    "        'ct': '24',\n",
    "        'qqmusic_ver': '1298',\n",
    "        'new_json': '1',\n",
    "        'remoteplace': 'sizer.yqq.song_next',\n",
    "        'searchid': '64405487069162918',\n",
    "        't': '0',\n",
    "        'aggr': '1',\n",
    "        'cr': '1',\n",
    "        'catZhida': '1',\n",
    "        'lossless': '0',\n",
    "        'flag_qc': '0',\n",
    "        'p': str(x + 1),\n",
    "        'n': '20',\n",
    "        'w': '五月天',\n",
    "        'g_tk': '5381',\n",
    "        'loginUin': '0',\n",
    "        'hostUin': '0',\n",
    "        'format': 'json',\n",
    "        'inCharset': 'utf8',\n",
    "        'outCharset': 'utf-8',\n",
    "        'notice': '0',\n",
    "        'platform': 'yqq.json',\n",
    "        'needNewCode': '0'\n",
    "    }\n",
    "    # 将参数封装为字典\n",
    "    res_music = requests.get(url, params=params)\n",
    "    # 调用get方法，下载这个列表\n",
    "    json_music = res_music.json()\n",
    "    # 使用json()方法，将response对象，转为列表/字典\n",
    "    list_music = json_music['data']['song']['list']\n",
    "    # 一层一层地取字典，获取歌单列表\n",
    "    for music in list_music:\n",
    "        name = music['name']\n",
    "        # 以name为键，查找歌曲名，把歌曲名赋值给name\n",
    "        album = music['album']['name']\n",
    "        # 查找专辑名，把专辑名赋给album\n",
    "        time = music['interval']\n",
    "        # 查找播放时长，把时长赋值给time\n",
    "        link = 'https://y.qq.com/n/yqq/song/' + str(music['file']['media_mid']) + '.html\\n\\n'\n",
    "        # 查找播放链接，把链接赋值给link\n",
    "        sheet.append([name, album, time, link])\n",
    "        # 把name、album、time和link写成列表，用append函数多行写入Excel\n",
    "\n",
    "wb.save('mayday.xlsx')\n",
    "wb.close()"
   ]
  },
  {
   "cell_type": "code",
   "execution_count": 8,
   "metadata": {},
   "outputs": [
    {
     "name": "stdout",
     "output_type": "stream",
     "text": [
      "[['真心半解/青春未知数(台)/校园情圣', 'https://movie.douban.com/subject/33420285/', '2020-05-01(美国)/莉娅·刘易斯/丹尼尔·迪默/艾丽克西斯·勒梅尔/沃尔夫冈·诺沃格拉茨/邹兆龙/贝琦·安·贝克/恩里克·穆西安诺/麦金太尔·狄克逊/凯瑟琳·科廷/亚历克·廷彻/邦妮·弗兰纳里/泰勒·克罗泽/斯潘塞·沃瓦克...', '8.0(56701人评价)'], ['惊天营救/极限营救/达卡', 'https://movie.douban.com/subject/30314127/', '2020-04-24(美国)/克里斯·海姆斯沃斯/大卫·哈伯/格什菲·法拉哈尼/德里克·卢克/兰迪普·弘达/克里斯·贾伊·阿历克斯/潘卡·特里帕蒂/马克·多纳托/海斯·威尔弗德/拉亚·坎普贝尔/鲁德赫拉什·贾斯瓦尔/普里延苏·潘尤利...', '7.1(47864人评价)'], ['双鱼陨石/双鱼玉佩/Double', 'https://movie.douban.com/subject/35055448/', '2020-05-05(中国大陆)/丁溪鹤/李凯/郭晓明/刘頔/文婕/中国大陆/丁小洋/96分钟/奇幻/冒险/汉语普通话', '6.8(7039人评价)'], ['悲惨世界', 'https://movie.douban.com/subject/33417030/', '2019-05-15(戛纳电影节)/2019-11-20(法国)/达米安·勃纳尔/亚历克西斯·曼蒂/贾布里勒·宗加/伊萨·佩里卡/阿尔-哈桑·利/史蒂夫·蒂英楚/阿尔玛梅·卡诺特/尼扎·本·菲特玛/让娜·巴利巴尔/亚历山大·皮科特/罗曼·加夫拉斯...', '8.1(32429人评价)'], ['倩女幽魂：人间情/倩女幽魂2/倩女幽魂人间情', 'https://movie.douban.com/subject/30466860/', '2020-05-01(中国大陆)/李凯馨/陈星旭/元华/徐少强/张致恒/王志宏/骆达华/张春仲/王瑜/巫蛊悠悠/中国大陆/林珍钊/96分钟/剧情/爱情/奇幻/阮继志Kai-ChiYun/刘烨坤YekunLiu/张圣帆ShengfanZhang/汉语普通话', '4.9(20064人评价)'], ['列夫·朗道：娜塔莎/Дау.Наташа', 'https://movie.douban.com/subject/34960201/', '2020-02-26(柏林电影节)/2020-04-16(俄罗斯网络)/纳塔利娅·别列日纳娅/吕克·布热/德国/乌克兰/英国/俄罗斯/叶卡特琳娜·奥特尔/伊利亚·赫尔扎诺夫斯基/145分钟/列夫·朗道：娜塔莎/剧情/伊利亚·赫尔扎诺夫斯基Ilya...', '6.4(5780人评价)'], ['黑暗正义联盟：天启星战争', 'https://movie.douban.com/subject/34777818/', '2020-05-05(美国)/托尼·托德/丽贝卡·罗梅恩/罗莎里奥·道森/雷恩·威尔森/卡米拉·卢丁顿/泰莎·法米加/杰瑞·奥康奈尔/谢默·摩尔/克里斯托弗·戈勒姆/马特·瑞安/杰森·奥玛拉/连姆·麦肯泰尔/约翰·迪·马吉欧/...', '7.3(5555人评价)'], ['给我翅膀/迷雁返家路(台)/SpreadYourWings', 'https://movie.douban.com/subject/30410114/', '2019-10-09(法国)/让-保罗·卢弗/梅拉妮·杜泰/路尔斯·瓦兹奎兹/弗雷德里克·索雷尔/丽露·弗格利/葛里高利·巴奎特/多米尼克·皮侬/费利佩·曼吉安/阿丽安·皮瑞/克里斯汀·布雷康尼尔/西里尔·内克尔/塞德里克·梅斯伯格...', '8.6(4205人评价)'], ['标准之外/特殊人生(港)/在你身边(台)', 'https://movie.douban.com/subject/30310218/', '2019-05-25(戛纳电影节)/2019-10-23(法国)/文森特·卡索/勒达·卡代布/海伦·文森特/阿尔班·伊万诺夫/凯瑟琳·蒙切特/弗雷德里克·皮耶罗/苏丽安·卜拉欣/琳娜·库德里/阿罗伊斯·索维奇/海迪·布奇纳法/BenjaminLesieur/Diong-Kéba...', '8.3(6477人评价)'], ['火口的两人/火口秘情/火口的二人', 'https://movie.douban.com/subject/30405087/', '2019-08-23(日本)/柄本佑/泷内公美/柄本明/日本/荒井晴彦/115分钟/火口的两人/爱情/情色/荒井晴彦HaruhikoArai/白石一文KazufumiShiraishi/日语', '7.0(22015人评价)']]\n"
     ]
    }
   ],
   "source": [
    "import requests\n",
    "from bs4 import BeautifulSoup\n",
    "import openpyxl\n",
    "\n",
    "wb=openpyxl.Workbook()  \n",
    "sheet=wb.active \n",
    "sheet.title='movie' \n",
    "\n",
    "sheet['A1'] ='电影名'    \n",
    "sheet['B1'] ='URL'   \n",
    "sheet['C1'] ='电影基本信息' \n",
    "sheet['D1'] = '电影评分信息'\n",
    "headers={'user-agent':'Mozilla/5.0 (Windows NT 10.0; WOW64) AppleWebKit/537.36 (KHTML, like Gecko) Chrome/78.0.3904.108 Safari/537.36'}\n",
    "\n",
    "res_movies = requests.get('https://movie.douban.com/chart', headers=headers)\n",
    "bs_movies = BeautifulSoup(res_movies.text,'html.parser')\n",
    "list_movies= bs_movies.find_all('div',class_='pl2')\n",
    "list_all = []\n",
    "for movie in list_movies:\n",
    "    tag_a = movie.find('a')\n",
    "    name = tag_a.text.replace(' ', '').replace('\\n', '')\n",
    "    # 电影名，使用replace方法去掉多余的空格及换行符\n",
    "    url = tag_a['href']\n",
    "    # 电影详情页的链接\n",
    "    tag_p = movie.find('p', class_='pl')\n",
    "    # 提取父级标签中的<p>标签\n",
    "    information = tag_p.text.replace(' ', '').replace('\\n', '')\n",
    "    # 电影基本信息，使用replace方法去掉多余的空格及换行符\n",
    "    tag_div = movie.find('div', class_='star clearfix')\n",
    "    # 提取父级标签中的<div>标签\n",
    "    rating = tag_div.text.replace(' ', '').replace('\\n', '')\n",
    "    # 电影评分信息，使用replace方法去掉多余的空格及换行符\n",
    "    list_all.append([name,url,information,rating])\n",
    "    # 将电影名、URL、电影基本信息和电影评分信息，封装为列表，用append方法添加进list_all\n",
    "    sheet.append([name,url,information,rating])\n",
    "print(list_all)\n",
    "wb.save('movie.xlsx')"
   ]
  }
 ],
 "metadata": {
  "kernelspec": {
   "display_name": "Python 3",
   "language": "python",
   "name": "python3"
  },
  "language_info": {
   "codemirror_mode": {
    "name": "ipython",
    "version": 3
   },
   "file_extension": ".py",
   "mimetype": "text/x-python",
   "name": "python",
   "nbconvert_exporter": "python",
   "pygments_lexer": "ipython3",
   "version": "3.7.7"
  }
 },
 "nbformat": 4,
 "nbformat_minor": 4
}
