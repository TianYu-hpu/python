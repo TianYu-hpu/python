{
 "cells": [
  {
   "cell_type": "code",
   "execution_count": 13,
   "metadata": {},
   "outputs": [
    {
     "name": "stdout",
     "output_type": "stream",
     "text": [
      "想找的菜的信息都在这里了：\n",
      "三杯鸡 \n",
      "                    材料：鸡腿，葱姜蒜，干辣椒，植物油，酱油，冰糖\n",
      "                 \n",
      "步骤：\n",
      "\n",
      "                      1. 鸡腿切块，姜切片，红辣椒切成几片，九层塔洗净备用。鸡腿加入1大匙酱油拌匀。 2. 锅内倒入植物油，加热八成熟，倒入鸡块，大火爆炒至表面微微焦黄色，捞起，滤干油份。锅内加入两勺芝麻油，倒入姜蒜、红辣椒炒香。 3. 倒入爆炒过的鸡块，加入2大匙酱油、冰糖。 4. 加入醪糟，将冰糖炒化。 5. 倒入水，煮开后小火，至收干水分亮油。 6. 拌匀后起锅装盘，即可食用。\n",
      "                  \n",
      "\n",
      "干锅花菜 \n",
      "                      材料：有机花菜，五花肉，耗油，干辣椒，花椒，葱姜蒜，盐，酱油，糖\n",
      "                   \n",
      "步骤：\n",
      "\n",
      "                        1. 菜花用小刀沿着柄削成小朵，用淡盐水浸泡10分钟，冲洗干净后充 分晾干水分 2. 五花肉切片，干辣椒切段，大蒜拍散后切小块，葱切丝 3. 锅内放少许油，以中小火将花椒炒变色吐香味 4. 五花肉入锅小火慢慢煽炒出油，将肉推至一边 5. 干红辣椒与葱、蒜调料放入煸炒出味 6. 开大火，倒入菜花翻炒。 7. 放盐、糖、一勺蚝油、酱油翻炒均匀。如锅内水分太少，可盖上锅盖，调中火闷半分钟。 8. 菜花变色即可出锅。也可以继续小火加热，味道会更浓郁。\n",
      "                    \n",
      "\n",
      "粉蒸肉 \n",
      "                      材料：五花肉，蒸肉米粉，土豆，豆瓣酱，腐乳汁，耗油，料酒，姜丝，白糖，生抽\n",
      "                   \n",
      "步骤：\n",
      "\n",
      "                        1. 将五花肉（买得是康康肉）洗净切后片（5公分左右）， 准备一个小碗，在碗中加入生抽、料酒、蚝油、白糖、腐乳汁，搅拌均匀。 将调好的调料汁倒入装猪肉片的碗中，再加入姜丝搅拌均匀，让每片肉片都均匀的裹上料汁，盖上保鲜膜放入冰箱腌制1小时。 土豆削皮切大块，浸泡水里，泡出多余淀粉。 2. 将五香粉蒸肉粉倒入一个小碗里，将入腌制好的肉片中，让肉片均匀的裹上肉粉。 3. 土豆水里捞出放少于盐、少许豆瓣酱调味。 4. 将裹好肉粉的五花肉片均匀得铺在土豆上。5. 准备高压锅，锅里放个小碗，装水没过小碗再多一点点（水稍微多点，不然锅干了），等高压锅出气，再蒸30分钟左右即可。 6. 香糯的粉蒸肉配土豆就完美了出锅，再加点葱花点缀一下。\n",
      "                    \n",
      "\n"
     ]
    }
   ],
   "source": [
    "#调用requests库\n",
    "import requests \n",
    "#引入BS库\n",
    "from bs4 import BeautifulSoup\n",
    "# 开课吧食堂\n",
    "url = 'https://xiaoke.kaikeba.com/example/canteen/index.html'\n",
    "res = requests.get(url)\n",
    "#获取网页源代码，得到的res是response对象\n",
    "#检查请求是否正确响应\n",
    "# print(res.status_code) \n",
    "#把res的内容以字符串的形式返回\n",
    "html = res.text \n",
    "#打印html\n",
    "# print(html)\n",
    "# 把网页解析为BeautifulSoup对象\n",
    "soup = BeautifulSoup(html,'html.parser')\n",
    "#查看soup的类型\n",
    "# print(type(soup))\n",
    "# 打印soup\n",
    "# print(soup) \n",
    "'''\n",
    "find()与find_all()是BeautifulSoup对象的两个方法，它们可以匹配HTML的标签和属性，把BeautifulSoup对象里符合要求的数据都提取出来。\n",
    "它俩的用法基本是一样的，区别在于，find()只提取首个满足要求的数据，而find_all()提取出的是所有满足要求的数据。\n",
    "'''\n",
    " #使用find()方法提取首个<div>元素，并放到变量item里。\n",
    "# item = soup.find('div')\n",
    " #打印item的数据类型\n",
    "# print(type(item))\n",
    "#打印item\n",
    "# print(item) \n",
    "#使用find_all()方法提取首个<div>元素，并放到变量item里。\n",
    "items = soup.find_all(class_=\"show-list-item\") \n",
    "# print(type(items)) \n",
    "# print(items)\n",
    "print(\"想找的菜的信息都在这里了：\")\n",
    "for item in items:\n",
    "    # 打印item\n",
    "#     print(item) \n",
    "# 在列表中的每个元素里，匹配属性class_='title'提取出数据\n",
    "    title = item.find(class_='desc-title') \n",
    "    #在列表中的每个元素里，匹配属性class_='desc-material'提取出数据\n",
    "    material = item.find(class_='desc-material') \n",
    "    #在列表中的每个元素里，匹配属性class_='desc-step'提取出数据\n",
    "    step = item.find(class_='desc-step') \n",
    "    # 打印提取出的数据\n",
    "#     print(title,material,step) \n",
    "    # 打印提取出的数据类型\n",
    "#     print(type(title),type(material),type(step)) \n",
    "    print(title.text,material.text,step.text)\n",
    "#     print(type(title.text),type(material.text),type(step.text))"
   ]
  }
 ],
 "metadata": {
  "kernelspec": {
   "display_name": "Python 3",
   "language": "python",
   "name": "python3"
  },
  "language_info": {
   "codemirror_mode": {
    "name": "ipython",
    "version": 3
   },
   "file_extension": ".py",
   "mimetype": "text/x-python",
   "name": "python",
   "nbconvert_exporter": "python",
   "pygments_lexer": "ipython3",
   "version": "3.7.7"
  }
 },
 "nbformat": 4,
 "nbformat_minor": 4
}
