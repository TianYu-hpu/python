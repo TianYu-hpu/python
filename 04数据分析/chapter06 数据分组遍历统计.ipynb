{
 "cells": [
  {
   "cell_type": "markdown",
   "metadata": {},
   "source": [
    "# 数据的分组\n",
    "![](./picture/6-1.png)\n",
    "本节我们将以福布斯2018年度亿万富翁数据为实验数据，探索数据分组的奥秘，运行下面的代码，来了解一下数据的基本情况："
   ]
  },
  {
   "cell_type": "code",
   "execution_count": 4,
   "metadata": {},
   "outputs": [
    {
     "name": "stdout",
     "output_type": "stream",
     "text": [
      "(2031, 9)\n"
     ]
    },
    {
     "data": {
      "text/html": [
       "<div>\n",
       "<style scoped>\n",
       "    .dataframe tbody tr th:only-of-type {\n",
       "        vertical-align: middle;\n",
       "    }\n",
       "\n",
       "    .dataframe tbody tr th {\n",
       "        vertical-align: top;\n",
       "    }\n",
       "\n",
       "    .dataframe thead th {\n",
       "        text-align: right;\n",
       "    }\n",
       "</style>\n",
       "<table border=\"1\" class=\"dataframe\">\n",
       "  <thead>\n",
       "    <tr style=\"text-align: right;\">\n",
       "      <th></th>\n",
       "      <th>name</th>\n",
       "      <th>lastName</th>\n",
       "      <th>age</th>\n",
       "      <th>country</th>\n",
       "      <th>gender</th>\n",
       "      <th>wealthSource</th>\n",
       "      <th>Unnamed: 6</th>\n",
       "      <th>Unnamed: 7</th>\n",
       "      <th>Unnamed: 8</th>\n",
       "    </tr>\n",
       "  </thead>\n",
       "  <tbody>\n",
       "    <tr>\n",
       "      <th>0</th>\n",
       "      <td>Jeff Bezos</td>\n",
       "      <td>Bezos</td>\n",
       "      <td>54</td>\n",
       "      <td>United States</td>\n",
       "      <td>M</td>\n",
       "      <td>Amazon</td>\n",
       "      <td>NaN</td>\n",
       "      <td>NaN</td>\n",
       "      <td>NaN</td>\n",
       "    </tr>\n",
       "    <tr>\n",
       "      <th>1</th>\n",
       "      <td>Bill Gates</td>\n",
       "      <td>Gates</td>\n",
       "      <td>62</td>\n",
       "      <td>United States</td>\n",
       "      <td>M</td>\n",
       "      <td>Microsoft</td>\n",
       "      <td>NaN</td>\n",
       "      <td>NaN</td>\n",
       "      <td>NaN</td>\n",
       "    </tr>\n",
       "    <tr>\n",
       "      <th>2</th>\n",
       "      <td>Warren Buffett</td>\n",
       "      <td>Buffett</td>\n",
       "      <td>87</td>\n",
       "      <td>United States</td>\n",
       "      <td>M</td>\n",
       "      <td>Berkshire Hathaway</td>\n",
       "      <td>NaN</td>\n",
       "      <td>NaN</td>\n",
       "      <td>NaN</td>\n",
       "    </tr>\n",
       "    <tr>\n",
       "      <th>3</th>\n",
       "      <td>Bernard Arnault</td>\n",
       "      <td>Arnault</td>\n",
       "      <td>69</td>\n",
       "      <td>France</td>\n",
       "      <td>M</td>\n",
       "      <td>LVMH</td>\n",
       "      <td>NaN</td>\n",
       "      <td>NaN</td>\n",
       "      <td>NaN</td>\n",
       "    </tr>\n",
       "    <tr>\n",
       "      <th>4</th>\n",
       "      <td>Mark Zuckerberg</td>\n",
       "      <td>Zuckerberg</td>\n",
       "      <td>34</td>\n",
       "      <td>United States</td>\n",
       "      <td>M</td>\n",
       "      <td>Facebook</td>\n",
       "      <td>NaN</td>\n",
       "      <td>NaN</td>\n",
       "      <td>NaN</td>\n",
       "    </tr>\n",
       "  </tbody>\n",
       "</table>\n",
       "</div>"
      ],
      "text/plain": [
       "              name     lastName  age         country  gender  \\\n",
       "0       Jeff Bezos        Bezos   54   United States       M   \n",
       "1       Bill Gates        Gates   62   United States       M   \n",
       "2   Warren Buffett      Buffett   87   United States       M   \n",
       "3  Bernard Arnault      Arnault   69          France       M   \n",
       "4  Mark Zuckerberg   Zuckerberg   34   United States       M   \n",
       "\n",
       "          wealthSource Unnamed: 6 Unnamed: 7 Unnamed: 8  \n",
       "0               Amazon        NaN        NaN        NaN  \n",
       "1            Microsoft        NaN        NaN        NaN  \n",
       "2   Berkshire Hathaway        NaN        NaN        NaN  \n",
       "3                 LVMH        NaN        NaN        NaN  \n",
       "4             Facebook        NaN        NaN        NaN  "
      ]
     },
     "execution_count": 4,
     "metadata": {},
     "output_type": "execute_result"
    }
   ],
   "source": [
    "import pandas as pd\n",
    "df = pd.read_excel('./data/forbes_2018.xlsx')\n",
    "print(df.shape)\n",
    "df.head()"
   ]
  },
  {
   "cell_type": "markdown",
   "metadata": {},
   "source": [
    "数据详情：name-名字、lastName-姓、age-年龄、country-国家、 gender-性别、wealthSource-财富来源。  \n",
    "根据结果我们了解到，共有2031条数据，那么在这些富翁中男女比例是多少呢？  \n",
    "要解决这个问题，我们最好的办法就是根据性别分成男女两组，然后分别计算他们的人数，从而计算他们的占比。  \n",
    "Pandas提供了一个灵活高效的groupby功能，它使你能以一种自然的方式对数据集进行切片、切块、摘要等操作。  \n",
    "我们一起看下如何使用groupby()方法根据性别将富翁们进行分组，运行下方代码，查看结果。  \n",
    "根据结果可以发现，分组后的结果为DataFrameGroupBy object，是一个分组后的对象。    \n",
    "用groupby的size方法可以查看分组后每组的数量，并返回一个含有分组大小的Series：    \n",
    "代码片段  \n",
    "```\n",
    "print(groups.size())\n",
    "```\n",
    "![](./picture/6-2.png)\n"
   ]
  },
  {
   "cell_type": "code",
   "execution_count": 3,
   "metadata": {},
   "outputs": [
    {
     "name": "stdout",
     "output_type": "stream",
     "text": [
      "<pandas.core.groupby.generic.DataFrameGroupBy object at 0x0000019E21F19048>\n",
      "gender\n",
      " F     221\n",
      " M    1810\n",
      "dtype: int64\n"
     ]
    }
   ],
   "source": [
    "import pandas as pd\n",
    "df = pd.read_excel('./data/forbes_2018.xlsx')\n",
    "# 根据gender列进行分组\n",
    "groups = df.groupby('gender')\n",
    "print(groups)\n",
    "print(groups.size())"
   ]
  },
  {
   "cell_type": "code",
   "execution_count": 5,
   "metadata": {},
   "outputs": [
    {
     "name": "stdout",
     "output_type": "stream",
     "text": [
      "福布斯2018年度亿万富翁中 F共221位，占比是10.88%\n",
      "福布斯2018年度亿万富翁中 M共1810位，占比是89.12%\n"
     ]
    }
   ],
   "source": [
    "import pandas as pd\n",
    "df = pd.read_excel('./data/forbes_2018.xlsx')\n",
    "group = df.groupby('gender')\n",
    "for gender,value in group.size().items():\n",
    "    # 计算每组的占比\n",
    "    accounted = value/df.shape[0]\n",
    "    # 将小数转化成百分数\n",
    "    bb = \"%.2f%%\" % (accounted * 100)\n",
    "    print('福布斯2018年度亿万富翁中{}共{}位，占比是{}'.format(gender,value, bb))"
   ]
  },
  {
   "cell_type": "markdown",
   "metadata": {},
   "source": [
    "代码df['age'].groupby(df['gender'])的逻辑是：取出df中age列数据，并且对该列数据根据df['gender']列数据进行分组操作。  \n",
    "上面的带也可改写成df.groupby(df['gender'])['age']，它的逻辑是：将df数据通过df['gender']进行分组，然后再取出分组后的age列数据。两种写法达到的效果是一样的。  \n",
    "group.groups的结果是一个字典，字典的key是分组后每个组的名字，对应的值是分组后的数据，此方法方便我们产看分组的情况。  \n",
    "group.get_group('F')这个方法可以根据具体分组的名字获取，每个组的数据。  "
   ]
  },
  {
   "cell_type": "code",
   "execution_count": 36,
   "metadata": {},
   "outputs": [
    {
     "name": "stdout",
     "output_type": "stream",
     "text": [
      "0      68\n",
      "1      64\n",
      "2      56\n",
      "3      78\n",
      "4      36\n",
      "       ..\n",
      "216    47\n",
      "217    56\n",
      "218    51\n",
      "219    91\n",
      "220    52\n",
      "Name: age, Length: 221, dtype: int64\n"
     ]
    }
   ],
   "source": [
    "import pandas as pd\n",
    "df = pd.read_excel('./data/forbes_2018.xlsx')\n",
    "df.head()\n",
    "group = df['age'].groupby(df['gender'])\n",
    "# print(df['age'])\n",
    "# 查看分组\n",
    "# print(group.groups)\n",
    "groupDict = group.groups\n",
    "\n",
    "# print(type(group))\n",
    "# print(group.head())\n",
    "# print(type(groupDict))\n",
    "# print(group.get_group(\"gender\"))\n",
    "# 根据分组后的名字选择分组\n",
    "print(group.get_group('F'))"
   ]
  },
  {
   "cell_type": "markdown",
   "metadata": {},
   "source": [
    "## 对分组进行遍历\n",
    "上面我们通过groupby()和size()两个方法以及以前所学的一些技能计算出了富豪的男女占比。  \n",
    "如果我们还想要分别查看富豪中男、女的最大年纪，最小年纪以及平均年龄，看看我们是不是还有机会成为他们中的一员。  \n",
    "groups.get_group('F')可以获取分组后某一个组的数据，'F'为组的名字，这样我们就可以对某一个组进行处理。  \n",
    "下面的代码实现了获取'F'组的最大年纪，最小年纪以及平均年龄，运行代码并观察结果。  "
   ]
  },
  {
   "cell_type": "code",
   "execution_count": 38,
   "metadata": {},
   "outputs": [
    {
     "name": "stdout",
     "output_type": "stream",
     "text": [
      "60.470588235294116 94 21\n"
     ]
    }
   ],
   "source": [
    "import pandas as pd\n",
    "df = pd.read_excel('./data/forbes_2018.xlsx')\n",
    "df.head()\n",
    "groups = df.groupby('gender')\n",
    "# 获取F组的数据\n",
    "f_group = groups.get_group('F')\n",
    "# 获取平均值\n",
    "f_mean = f_group['age'].mean()\n",
    "# 获取最大值\n",
    "f_max = f_group['age'].max()\n",
    "# 获取最小值\n",
    "f_min = f_group['age'].min()\n",
    "print(f_mean,f_max,f_min)"
   ]
  },
  {
   "cell_type": "markdown",
   "metadata": {},
   "source": [
    "代码中我们使用get_group()获取了F组的数据，并使用mean()、max()、min()等统计函数快速获取我们的指标值。\n",
    "![](./picture/6-3.png)\n",
    "上面的代码成功的计算出了我们想要的数据，我们也可以遍历分组后的数据，并获取他们的最大年纪，最小年纪以及平均年龄。  \n",
    "运行下面的代码，看一下如何遍历分组后的数据。  "
   ]
  },
  {
   "cell_type": "code",
   "execution_count": 40,
   "metadata": {},
   "outputs": [
    {
     "name": "stdout",
     "output_type": "stream",
     "text": [
      "F (221, 9)\n",
      "M (1810, 9)\n"
     ]
    }
   ],
   "source": [
    "import pandas as pd\n",
    "df = pd.read_excel('./data/forbes_2018.xlsx')\n",
    "groups = df.groupby('gender')\n",
    "for group_name,group_df in groups:\n",
    "    print(group_name,group_df.shape)"
   ]
  },
  {
   "cell_type": "markdown",
   "metadata": {},
   "source": [
    "上面代码中的将分组后的对象groups进行遍历，可以获取到group_name每个组的名字，group_df每个组的数据。  \n",
    "接下来我们自己在下面代码框中练习使用遍历的方法，计算出每一组中的最大年纪，最小年纪以及平均年龄。  "
   ]
  },
  {
   "cell_type": "code",
   "execution_count": 42,
   "metadata": {},
   "outputs": [
    {
     "name": "stdout",
     "output_type": "stream",
     "text": [
      "F组的最大年龄是94，最小年龄是21，平均年龄是60.470588235294116\n",
      "M组的最大年龄是99，最小年龄是25，平均年龄是64.32099447513812\n"
     ]
    }
   ],
   "source": [
    "import pandas as pd\n",
    "df = pd.read_excel('./data/forbes_2018.xlsx')\n",
    "groups = df.groupby('gender')\n",
    "for group_name,group_df in groups:\n",
    "    f_mean = group_df['age'].mean()\n",
    "    f_max = group_df['age'].max()\n",
    "    f_min = group_df['age'].min()\n",
    "    print('{}组的最大年龄是{}，最小年龄是{}，平均年龄是{}'.format(group_name,f_max,f_min,f_mean))"
   ]
  },
  {
   "cell_type": "markdown",
   "metadata": {},
   "source": [
    "## 按多列进行分组\n",
    "刚刚我们完成了将富豪以性别进行分组，并拿到了年龄的最大值和最小值以及平均值等信息。  \n",
    "现在我们完成一个相对复杂的需求，需要产看每个国家男女的富豪的数量。那就需要我们将富豪们先按国家分组，然后在按性别分组。  \n",
    "按照上面的分析，难道我们要写两次groupby的分组操作？NO，我们强大的groupby()方法是支持按照多列进行分组。  \n",
    "运行下面的代码，看下groupby()是如何进行多列分组的：  "
   ]
  },
  {
   "cell_type": "code",
   "execution_count": 49,
   "metadata": {},
   "outputs": [
    {
     "name": "stdout",
     "output_type": "stream",
     "text": [
      "60.470588235294116 94 21\n",
      "F组的最大年龄是94，最小年龄是21，平均年龄是60.470588235294116\n",
      "F (221, 9)\n",
      "M组的最大年龄是99，最小年龄是25，平均年龄是64.32099447513812\n",
      "M (1810, 9)\n"
     ]
    }
   ],
   "source": [
    "import pandas as pd\n",
    "df = pd.read_excel('./data/forbes_2018.xlsx')\n",
    "'''\n",
    "数据详情：name-名字、lastName-姓、age-年龄、country-国家、 gender-性别、wealthSource-财富来源。\n",
    "根据结果我们了解到，共有2031条数据，那么在这些富翁中男女比例是多少呢？\n",
    "要解决这个问题，我们最好的办法就是根据性别分成男女两组，然后分别计算他们的人数，从而计算他们的占比。\n",
    "Pandas提供了一个灵活高效的groupby功能，它使你能以一种自然的方式对数据集进行切片、切块、摘要等操作。\n",
    "我们一起看下如何使用groupby()方法根据性别将富翁们进行分组，运行下方代码，查看结果。\n",
    "'''\n",
    "# print(df.head())\n",
    "# print(df.shape)\n",
    "# 根据gender列进行分组\n",
    "group = df.groupby('gender')\n",
    "# print(group)\n",
    "total = df.groupby(\"country\")\n",
    "# print(total.size())\n",
    "'''\n",
    "df.groupby('gender')是根据gender列对整个数据进行分组，同样我们也可以只对一列数据进行分组，只保留我们需要的列数据。\n",
    "'''\n",
    "'''for gender,value in group.size().items():\n",
    "    # 计算每组的占比\n",
    "    accounted = value/df.shape[0]\n",
    "    # 将小数转化成百分数\n",
    "    bb = \"%.2f%%\" % (accounted * 100)\n",
    "    print('福布斯2018年度亿万富翁中{}共{}位，占比是{}'.format(gender,value, bb))\n",
    "'''\n",
    "# 代码df['age'].groupby(df['gender'])的逻辑是：取出df中age列数据，\n",
    "# 并且对该列数据根据df['gender']列数据进行分组操作。\n",
    "group = df.groupby('gender')\n",
    "# 查看分组\n",
    "# print(group.groups)\n",
    "# 根据分组后的名字选择分组\n",
    "\n",
    "# print(group.get_group('F'))\n",
    "# 获取F组的数据\n",
    "f_group = group.get_group('F')\n",
    "# 获取平均值\n",
    "f_mean = f_group['age'].mean()\n",
    "# 获取最大值\n",
    "f_max = f_group['age'].max()\n",
    "# 获取最小值\n",
    "f_min = f_group['age'].min()\n",
    "print(f_mean,f_max,f_min)\n",
    "for group_name,group_df in groups:\n",
    "    f_mean = group_df['age'].mean()\n",
    "    f_max = group_df['age'].max()\n",
    "    f_min = group_df['age'].min()\n",
    "    print('{}组的最大年龄是{}，最小年龄是{}，平均年龄是{}'.format(group_name,f_max,f_min,f_mean))\n",
    "    print(group_name,group_df.shape)"
   ]
  },
  {
   "cell_type": "markdown",
   "metadata": {},
   "source": [
    "当需要按多列进行分组的时候，groupby方法里面我们传入的一个列表，列表中分别存储分组依据的列名。  \n",
    "注意：列表中列名的顺序，确定了先按country列进行分组，然后再按gender列分组。不同的顺序，产生的分组名字是不同的。  \n",
    "group.size()返回的结果中发现索引值是多层的，那么对于多层索引的值我们如何去获取呢？  "
   ]
  },
  {
   "cell_type": "code",
   "execution_count": 52,
   "metadata": {},
   "outputs": [
    {
     "name": "stdout",
     "output_type": "stream",
     "text": [
      "1\n"
     ]
    }
   ],
   "source": [
    "import pandas as pd\n",
    "df = pd.read_excel('./data/forbes_2018.xlsx')\n",
    "group=df.groupby(['country','gender'])\n",
    "df1 = group.size()\n",
    "size = df1['Austria']['F']\n",
    "print(size)"
   ]
  },
  {
   "cell_type": "markdown",
   "metadata": {},
   "source": [
    "通过代码，我们发现对于多层索引值的获取，只需要从外往里一层一层的取就可以了，就像我们睡觉之前，需要先脱外衣再脱掉内衣是一样的。  \n",
    "## 对分组后数据进行统计\n",
    "数据统计（也称为数据聚合）是数据处理的最后一步，通常是要使每一个数组生成一个单一的数值。  \n",
    "上面我们已经了解了一些Pandas提供好的统计函数，例如:mean()、max()等函数。  \n",
    "为大家使用更为灵活，pandas提供了一个 agg( )方法用来对分组后的数据进行统计。  \n",
    "接下来我们来体验一下，agg()方法的使用： "
   ]
  },
  {
   "cell_type": "code",
   "execution_count": 53,
   "metadata": {},
   "outputs": [
    {
     "name": "stdout",
     "output_type": "stream",
     "text": [
      "F组的最大年龄是94.0，最小年龄是21.0，平均年龄是60.470588235294116\n",
      "M组的最大年龄是99.0，最小年龄是25.0，平均年龄是64.32099447513812\n"
     ]
    }
   ],
   "source": [
    "import pandas as pd\n",
    "df = pd.read_excel('./data/forbes_2018.xlsx')\n",
    "groups = df.groupby('gender')\n",
    "for group_name,group_df in groups:\n",
    "    f_se = group_df['age'].agg(['max','min','mean'])\n",
    "    print('{}组的最大年龄是{}，最小年龄是{}，平均年龄是{}'.format(group_name,f_se[0],f_se[1],f_se[2]))"
   ]
  },
  {
   "cell_type": "markdown",
   "metadata": {},
   "source": [
    "观察代码，可以发现在使用agg()函数时，我们可以将多个统计函数一起放到一个agg()函数中。  \n",
    "并且需要注意的是，如果是统计函数是pandas提供的，我们只需将函数的名字以字符串的形势存储到列表中即可，例如：将max()改成'max'。  \n",
    "这样不仅简化了我们的代码，在添加和删减统计函数的时候我们只需更改agg()函数中list就可以了。是不是很方便。    \n",
    "它的好处还不止这些，比如现在又有新的需求，要计算年龄的最大值和最小值的差值。但是，pandas并没有提供这样统计函数，所以就需要我们进行自己定义一个统计函数：  "
   ]
  },
  {
   "cell_type": "code",
   "execution_count": null,
   "metadata": {},
   "outputs": [],
   "source": [
    "def peak_range(df):\n",
    "    \"\"\"\n",
    "        返回数值范围\n",
    "    \"\"\"\n",
    "    return df.max() - df.min()"
   ]
  },
  {
   "cell_type": "code",
   "execution_count": 54,
   "metadata": {},
   "outputs": [
    {
     "name": "stdout",
     "output_type": "stream",
     "text": [
      "94.0 21.0 73.0\n",
      "99.0 25.0 74.0\n"
     ]
    }
   ],
   "source": [
    "import pandas as pd\n",
    "df = pd.read_excel('./data/forbes_2018.xlsx')\n",
    "groups = df.groupby('gender')\n",
    "def peak_range(df):\n",
    "    \"\"\"\n",
    "        返回数值范围\n",
    "    \"\"\"\n",
    "    return df.max() - df.min()\n",
    "for group_name,group_df in groups:\n",
    "    f_se = group_df['age'].agg(['max','min','mean',peak_range])\n",
    "    print(f_se[0],f_se[1],f_se[3])"
   ]
  },
  {
   "cell_type": "markdown",
   "metadata": {},
   "source": [
    "peak_range(df)函数是我们自定的函数，并设置了一个df参数,为了接收group_df['age']的值。  \n",
    "注意：自定义的函数名字在传入agg()函数中时不需要转换成字符串。  \n",
    "## 本节总结\n",
    "本节我们通过groupby方法对数据进行分组以及根据多列进行分组，并且对分组后的数据进行统计。\n",
    "![](./picture/6-4.png)"
   ]
  },
  {
   "cell_type": "markdown",
   "metadata": {},
   "source": [
    "### 题目要求\n",
    "本次练习采用的是网易考拉海淘网口红一天的销售数据。  \n",
    "每条数据都包含了品牌、折扣价、原价、是否自营、评论数、国家共6列信息。  \n",
    "文件的路径为./data/lipsticks.xlsx  \n",
    "\n",
    "### 题目讲解\n",
    "1. 统计每种口红的平均折扣价。 \n",
    "2. 分别统计每种口红自营评论数总和和非自营的评论数总和。 \n",
    "\n",
    "### 代码实现"
   ]
  },
  {
   "cell_type": "code",
   "execution_count": 56,
   "metadata": {},
   "outputs": [
    {
     "name": "stdout",
     "output_type": "stream",
     "text": [
      "                  品牌    折扣价   原价 是否自营   评论数  国家\n",
      "0  ESTĒE LAUDER 雅诗兰黛  109.0  400   自营   165  美国\n",
      "1             MAC 魅可   89.0  280   自营    67  美国\n",
      "2             MAC 魅可   89.0  280   自营    60  美国\n",
      "3  ESTĒE LAUDER 雅诗兰黛  129.0  400   自营  2037  美国\n",
      "4  MARIE DALGAR 玛丽黛佳   99.0  300  非自营   888  中国\n",
      "BareMinerals的平均折扣价为158.12698412698413\n",
      "CHANEL 香奈儿的平均折扣价为270.42105263157896\n",
      "Dior 迪奥的平均折扣价为276.54545454545456\n",
      "ESTĒE LAUDER 雅诗兰黛的平均折扣价为247.6\n",
      "GIORGIO ARMANI 乔治·阿玛尼的平均折扣价为298.72727272727275\n",
      "GIVENCHY 纪梵希的平均折扣价为271.94594594594594\n",
      "GUERLAIN 娇兰的平均折扣价为228.92592592592592\n",
      "KIKO MILANO的平均折扣价为68.75\n",
      "LANCÔME 兰蔻的平均折扣价为324.75\n",
      "MAC 魅可的平均折扣价为128.41666666666666\n",
      "MARIE DALGAR 玛丽黛佳的平均折扣价为92.83333333333333\n",
      "MENTHOLATUM 曼秀雷敦的平均折扣价为47.0\n",
      "Mamonde 梦妆的平均折扣价为69.0\n",
      "Manuka Bee 小蜜坊的平均折扣价为55.65833333333333\n",
      "Maybelline 美宝莲的平均折扣价为90.84615384615384\n",
      "SAINT LAURENT PARIS 圣罗兰的平均折扣价为267.1617647058824\n",
      "SHISEIDO 资生堂的平均折扣价为207.0\n",
      "TOM FORD 汤姆·福特的平均折扣价为354.51851851851853\n",
      "[\"LORÉAL 欧莱雅\"的平均折扣价为107.04347826086956\n",
      "wet n wild的平均折扣价为65.0\n",
      "BareMinerals自营的评论数为140\n",
      "BareMinerals非自营的评论数为0\n",
      "CHANEL 香奈儿自营的评论数为4999\n",
      "Dior 迪奥自营的评论数为89329\n",
      "Dior 迪奥非自营的评论数为12\n",
      "ESTĒE LAUDER 雅诗兰黛自营的评论数为6761\n",
      "GIORGIO ARMANI 乔治·阿玛尼自营的评论数为4961\n",
      "GIORGIO ARMANI 乔治·阿玛尼非自营的评论数为1\n",
      "GIVENCHY 纪梵希自营的评论数为15302\n",
      "GUERLAIN 娇兰自营的评论数为3277\n",
      "GUERLAIN 娇兰非自营的评论数为34\n",
      "KIKO MILANO自营的评论数为7083\n",
      "LANCÔME 兰蔻自营的评论数为7045\n",
      "MAC 魅可自营的评论数为30597\n",
      "MARIE DALGAR 玛丽黛佳非自营的评论数为2855\n",
      "MENTHOLATUM 曼秀雷敦非自营的评论数为1873\n",
      "Mamonde 梦妆自营的评论数为326\n",
      "Mamonde 梦妆非自营的评论数为60\n",
      "Manuka Bee 小蜜坊自营的评论数为553\n",
      "Manuka Bee 小蜜坊非自营的评论数为851\n",
      "Maybelline 美宝莲自营的评论数为582\n",
      "Maybelline 美宝莲非自营的评论数为2547\n",
      "SAINT LAURENT PARIS 圣罗兰自营的评论数为23698\n",
      "SAINT LAURENT PARIS 圣罗兰非自营的评论数为32\n",
      "SHISEIDO 资生堂自营的评论数为34486\n",
      "SHISEIDO 资生堂非自营的评论数为11\n",
      "TOM FORD 汤姆·福特自营的评论数为7200\n",
      "[\"LORÉAL 欧莱雅\"自营的评论数为720\n",
      "[\"LORÉAL 欧莱雅\"非自营的评论数为7141\n",
      "wet n wild自营的评论数为1416\n",
      "wet n wild非自营的评论数为655\n"
     ]
    }
   ],
   "source": [
    "\n",
    "import pandas as pd\n",
    "df = pd.read_excel('./data/lipsticks.xlsx')\n",
    "print(df.head())\n",
    "\n",
    "# 1. 统计每种口红的平均折扣价。\n",
    "# 根据品牌进行分类\n",
    "groups = df.groupby('品牌')\n",
    "for group_name,group_df in groups:\n",
    "    mean = group_df['折扣价'].mean()\n",
    "    str_mean = '{}的平均折扣价为{}'.format(group_name,mean)\n",
    "    print(str_mean)\n",
    "\n",
    "# 2. 分别统计每种口红自营评论数总和和非自营的评论数总和\n",
    "# 根据品牌列和是否自营列进行分组\n",
    "groups = df.groupby(['品牌','是否自营'])\n",
    "for group_name,group_df in groups:\n",
    "    group_sum = group_df['评论数'].sum()\n",
    "    str_sum = '{}{}的评论数为{}'.format(group_name[0],group_name[1],group_sum)\n",
    "    print(str_sum)"
   ]
  },
  {
   "cell_type": "markdown",
   "metadata": {},
   "source": [
    "### 题目要求\n",
    "本次练习采用的是爱奇艺视频数据。共有6万多条电影数据，每条数据包含12列信息，文件的路径为./data/aiqiyi.xlsx，以下获取的前五条数据：\n",
    "### 题目讲解\n",
    "1. 取出每年电影评分前两名电影的名字 \n",
    "2. 哪一年的电影总评分最高\n",
    "\n",
    "### 代码实现"
   ]
  },
  {
   "cell_type": "code",
   "execution_count": 82,
   "metadata": {},
   "outputs": [
    {
     "name": "stdout",
     "output_type": "stream",
     "text": [
      "1985 1195       4世同堂\n",
      "1231    少奇同志在东北\n",
      "Name: 整理后剧名, dtype: object\n",
      "1986 156      钟鼓楼\n",
      "603    凯旋在子夜\n",
      "Name: 整理后剧名, dtype: object\n",
      "1988 1232    少奇同志在武汉\n",
      "788        小镇总理\n",
      "Name: 整理后剧名, dtype: object\n",
      "1989 700    李大钊\n",
      "Name: 整理后剧名, dtype: object\n",
      "1990 441     渴望\n",
      "1157    吴晗\n",
      "Name: 整理后剧名, dtype: object\n",
      "1991 742        家有仙妻\n",
      "1144    让我们荡起双桨\n",
      "Name: 整理后剧名, dtype: object\n",
      "1992 358    皇城根儿\n",
      "195    风华绝代\n",
      "Name: 整理后剧名, dtype: object\n",
      "1993 1233    少奇同志在安源\n",
      "664         鬼丈夫\n",
      "Name: 整理后剧名, dtype: object\n",
      "1994 901        过把瘾\n",
      "1463    新书剑恩仇录\n",
      "Name: 整理后剧名, dtype: object\n",
      "1995 898       无悔追踪\n",
      "162    东边日出西边雨\n",
      "Name: 整理后剧名, dtype: object\n",
      "1996 626    宰相刘罗锅\n",
      "138      大秦腔\n",
      "Name: 整理后剧名, dtype: object\n",
      "1997 1069      寇老西儿\n",
      "630     鸦片战争演义\n",
      "Name: 整理后剧名, dtype: object\n",
      "1998 521    聊斋先生\n",
      "704      抉择\n",
      "Name: 整理后剧名, dtype: object\n",
      "1999 1275    永不瞑目\n",
      "899     刑警本色\n",
      "Name: 整理后剧名, dtype: object\n",
      "2000 1012    上错花轿嫁对郎\n",
      "653     都是天使惹的祸\n",
      "Name: 整理后剧名, dtype: object\n",
      "2001 27      爱情宝典\n",
      "322    天下第1丑\n",
      "Name: 整理后剧名, dtype: object\n",
      "2002 652    我的淘气天使\n",
      "379      白领公寓\n",
      "Name: 整理后剧名, dtype: object\n",
      "2003 1292    双响炮\n",
      "481      火帅\n",
      "Name: 整理后剧名, dtype: object\n",
      "2004 1020        天龙8部\n",
      "469     铁齿铜牙纪晓岚3\n",
      "Name: 整理后剧名, dtype: object\n",
      "2005 1291    我爱河东狮\n",
      "464     宋莲生坐堂\n",
      "Name: 整理后剧名, dtype: object\n",
      "2006 527    济公新传\n",
      "884    士兵突击\n",
      "Name: 整理后剧名, dtype: object\n",
      "2007 209       我们生活的年代\n",
      "1442    睡龙神探之情爱保险\n",
      "Name: 整理后剧名, dtype: object\n",
      "2008 106       所谓婚姻\n",
      "320    防火墙5788\n",
      "Name: 整理后剧名, dtype: object\n",
      "2009 1372        青春舞台\n",
      "463     我们的队伍向太阳\n",
      "Name: 整理后剧名, dtype: object\n",
      "2010 407      尖刀\n",
      "384    大女当嫁\n",
      "Name: 整理后剧名, dtype: object\n",
      "2011 808         闯荡\n",
      "203    盘龙卧虎高山顶\n",
      "Name: 整理后剧名, dtype: object\n",
      "2012 969             闭嘴花美男乐队\n",
      "1249    闭嘴花美男乐队金明洙cut集锦\n",
      "Name: 整理后剧名, dtype: object\n",
      "2013 516       恋歌\n",
      "610    邻家花美男\n",
      "Name: 整理后剧名, dtype: object\n",
      "2014 838            保卫孙子\n",
      "224    犀利仁师之药不能停路云霏\n",
      "Name: 整理后剧名, dtype: object\n",
      "2015 667    我们办人事\n",
      "449    红色青橄榄\n",
      "Name: 整理后剧名, dtype: object\n",
      "2016 237       青丘狐传说\n",
      "673    hello女主播\n",
      "Name: 整理后剧名, dtype: object\n",
      " 真假王爷 355    历史剧/古装剧/剧情/粤语电视剧\n",
      "Name: 整理后剧名, dtype: object\n"
     ]
    }
   ],
   "source": [
    "\n",
    "#第一题答案\n",
    "import pandas as pd\n",
    "df = pd.read_excel('./data/aiqiyi.xlsx')\n",
    "groups = df.groupby('上映时间')\n",
    "for group_name,group_df in groups:\n",
    "    result = group_df.sort_values(by='评分',ascending=False)[0:2]\n",
    "    print(group_name,result['整理后剧名'])\n"
   ]
  },
  {
   "cell_type": "code",
   "execution_count": 89,
   "metadata": {},
   "outputs": [
    {
     "name": "stdout",
     "output_type": "stream",
     "text": [
      "2015\n"
     ]
    }
   ],
   "source": [
    "#第二题答案\n",
    "import pandas as pd\n",
    "df = pd.read_excel('./data/aiqiyi.xlsx')\n",
    "\n",
    "groups = df.groupby('上映时间')\n",
    "df.head()\n",
    "year=groups.sum().sort_values(by='评分',ascending=False).index.to_list()[0]\n",
    "print(year)"
   ]
  }
 ],
 "metadata": {
  "kernelspec": {
   "display_name": "Python 3",
   "language": "python",
   "name": "python3"
  },
  "language_info": {
   "codemirror_mode": {
    "name": "ipython",
    "version": 3
   },
   "file_extension": ".py",
   "mimetype": "text/x-python",
   "name": "python",
   "nbconvert_exporter": "python",
   "pygments_lexer": "ipython3",
   "version": "3.7.7"
  }
 },
 "nbformat": 4,
 "nbformat_minor": 4
}
