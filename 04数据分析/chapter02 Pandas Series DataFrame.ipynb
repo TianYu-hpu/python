{
 "cells": [
  {
   "cell_type": "markdown",
   "metadata": {},
   "source": [
    "# Series\n",
    "![](./picture/2-1.png)\n",
    "表格数据中的每一列或者每一行的数据结构都是Series，它可以看成是一维的表格数据。  \n",
    "它可以属于DataFrame的一部分也可以作为一个独立的数据结构存在。  \n",
    "下面，我们创建了一个Series，索引是员工号，数据是员工的姓名。我们可以通过values、index、items等Series的属性来获取各部分的全部数据  "
   ]
  },
  {
   "cell_type": "code",
   "execution_count": 1,
   "metadata": {},
   "outputs": [
    {
     "name": "stdout",
     "output_type": "stream",
     "text": [
      "['亚瑟' '后裔' '小乔' '哪吒' '虞姬' '王昭君']\n",
      "['001', '002', '003', '004', '005', '006']\n",
      "[('001', '亚瑟'), ('002', '后裔'), ('003', '小乔'), ('004', '哪吒'), ('005', '虞姬'), ('006', '王昭君')]\n"
     ]
    }
   ],
   "source": [
    "from pandas import Series\n",
    "emp=['001','002','003','004','005','006']\n",
    "name=['亚瑟', '后裔','小乔','哪吒' ,'虞姬','王昭君']\n",
    "series = Series(data=name,index=emp)\n",
    "\n",
    "# 获取数据的值\n",
    "print(series.values)\n",
    "# 获取索引的值\n",
    "print(series.index.tolist())\n",
    "# 获取每对索引和值\n",
    "print(list(series.items()))"
   ]
  },
  {
   "cell_type": "markdown",
   "metadata": {},
   "source": [
    "values、index、items返回的对象分别是List、Index、Zip类型的数据,为了方便我们使用和观察数据，可以使用series.index.tolist()和list(series.items())方法转化成List类型。  \n",
    "Series就像将索引值暴露在外面的List，其实它们除了外表相似以外，在获取数据方面也非常的相似。  \n",
    "我们可以通过索引值来进行单个数据的访问，同样也支持切片选择多个数据。  "
   ]
  },
  {
   "cell_type": "code",
   "execution_count": 2,
   "metadata": {},
   "outputs": [
    {
     "name": "stdout",
     "output_type": "stream",
     "text": [
      "亚瑟\n",
      "索引下标 002    后裔\n",
      "004    哪吒\n",
      "dtype: object\n",
      "索引切片 001    亚瑟\n",
      "002    后裔\n",
      "003    小乔\n",
      "004    哪吒\n",
      "dtype: object\n",
      "亚瑟\n",
      "位置下标 002    后裔\n",
      "004    哪吒\n",
      "dtype: object\n",
      "位置切片 001    亚瑟\n",
      "002    后裔\n",
      "003    小乔\n",
      "dtype: object\n",
      "亚瑟\n",
      "后裔\n",
      "小乔\n",
      "哪吒\n",
      "虞姬\n",
      "王昭君\n",
      "001\n",
      "002\n",
      "003\n",
      "004\n",
      "005\n",
      "006\n",
      "('001', '亚瑟')\n",
      "('002', '后裔')\n",
      "('003', '小乔')\n",
      "('004', '哪吒')\n",
      "('005', '虞姬')\n",
      "('006', '王昭君')\n"
     ]
    }
   ],
   "source": [
    "from pandas import Series\n",
    "emp=['001','002','003','004','005','006']\n",
    "name=['亚瑟', '后裔','小乔','哪吒' ,'虞姬','王昭君']\n",
    "series = Series(data=name,index=emp)\n",
    "\n",
    "# 使用索引值获取单个数据\n",
    "print(series['001'])\n",
    "\n",
    "# 使用索引值获取多个不连续的数据\n",
    "print('索引下标',series[['002','004']])\n",
    "\n",
    "# 使用切片获取连续的数据\n",
    "print('索引切片',series['001':'004'])"
   ]
  },
  {
   "cell_type": "markdown",
   "metadata": {},
   "source": [
    "【神仙的自我修养】\n",
    "#### 获取数据格式—对象名[]\n",
    "#### 获取多个不连续数据时是双层括号— 对象名[[]]\n",
    "#### 使用切片时使用的是:\n",
    "忽然想到我们的索引值是自定义的，那原来的自带的0、1、2……的索引值去哪里了？  \n",
    "第一想法肯定是被自定义的index覆盖了呀，错！！！它不仅存在我们还可以使用。  \n",
    "我们自定的index值被叫做索引下标，没有设置index值时会有一个默认的值叫做位置下标。  \n",
    "位置下标就像电影院中的座位号，索引下标就是座位上人的名字。   "
   ]
  },
  {
   "cell_type": "code",
   "execution_count": 4,
   "metadata": {},
   "outputs": [
    {
     "name": "stdout",
     "output_type": "stream",
     "text": [
      "亚瑟\n",
      "位置下标 002    后裔\n",
      "004    哪吒\n",
      "dtype: object\n",
      "位置切片 001    亚瑟\n",
      "002    后裔\n",
      "003    小乔\n",
      "dtype: object\n"
     ]
    }
   ],
   "source": [
    "from pandas import Series\n",
    "emp=['001','002','003','004','005','006']\n",
    "name=['亚瑟', '后裔','小乔','哪吒' ,'虞姬','王昭君']\n",
    "series = Series(data=name,index=emp)\n",
    "# 获取单个数据\n",
    "print(series[0])\n",
    "# 获取多个不连续的数据\n",
    "print('位置下标',series[[1,3]])\n",
    "# 使用切片获取连续的数据\n",
    "print('位置切片',series[0:3])"
   ]
  },
  {
   "cell_type": "markdown",
   "metadata": {},
   "source": [
    "选择题  \n",
    "趁热打铁，sel = Series(data = ['1','2','3','4'], index = list('abcd')),下面哪个获取操作是错的？  \n",
    "sel[1]  \n",
    "sel[['a':'c']]  \n",
    "sel['a':'c']  \n",
    "sel[[0,3]]  \n",
    "选B。使用切片的时候是单括号例如C选项，或者双括号内的值应该用“，”分割例如D选项。  \n",
    "和Python其它数据结构类似，我们可以很方便的利用循环来遍历Series。我们可以直接遍历Series的值：  \n",
    "代码片段 \n",
    "```\n",
    "# 遍历并拿到data数据\n",
    "for value in series:\n",
    "    print(value)\n",
    "```\n",
    "或者通过keys()，遍历Series的索引：  \n",
    "代码片段  \n",
    "```\n",
    "# 遍历并拿到index数据\n",
    "for value in series.keys():\n",
    "    print(value)\n",
    "```\n",
    "也可以通过items()，遍历Series的每对索引和数据  \n",
    "代码片段  \n",
    "```\n",
    "# 遍历并拿到每对索引和数据\n",
    "for value in series.items():\n",
    "    print(value)\n",
    "```"
   ]
  },
  {
   "cell_type": "code",
   "execution_count": 6,
   "metadata": {},
   "outputs": [
    {
     "name": "stdout",
     "output_type": "stream",
     "text": [
      "亚瑟\n",
      "后裔\n",
      "小乔\n",
      "哪吒\n",
      "虞姬\n",
      "王昭君\n",
      "001\n",
      "002\n",
      "003\n",
      "004\n",
      "005\n",
      "006\n",
      "('001', '亚瑟')\n",
      "('002', '后裔')\n",
      "('003', '小乔')\n",
      "('004', '哪吒')\n",
      "('005', '虞姬')\n",
      "('006', '王昭君')\n"
     ]
    }
   ],
   "source": [
    "from pandas import Series\n",
    "emp=['001','002','003','004','005','006']\n",
    "name=['亚瑟', '后裔','小乔','哪吒' ,'虞姬','王昭君']\n",
    "series = Series(data=name,index=emp)\n",
    "# 遍历并拿到data数据\n",
    "for value in series:\n",
    "    print(value)\n",
    "# 遍历并拿到index数据\n",
    "for value in series.keys():\n",
    "    print(value)\n",
    "    # 遍历并拿到每对索引和数据\n",
    "for value in series.items():\n",
    "    print(value)"
   ]
  },
  {
   "cell_type": "markdown",
   "metadata": {},
   "source": [
    "# DataFrame的创建\n",
    "DataFrame里的数据是按照行和列来进行排列，现在我们一起来看下如何对DataFrame的数据按照行或者列进行选择、遍历以及修改。  \n",
    "每当学校需要打扫卫生的时候，灭绝师太或者老狼都会跑到教室微笑的说：\"后两排拿着工具去打扫操场！\"。  \n",
    "如果所有学生信息都保存在一个DataFrame中，我们有没有方法可以选择某一行或者多行数据呢   \n",
    "当然可以，但是在获取之前我们要清楚DataFrame中的数据情况，不然岂不是要闹大笑话—报错。  \n",
    "首先数据的维度是一维还是二维的我们可以使用ndim查看，数据的行数和列数shape，以及行列的索引值index、columns。  "
   ]
  },
  {
   "cell_type": "code",
   "execution_count": 12,
   "metadata": {},
   "outputs": [
    {
     "name": "stdout",
     "output_type": "stream",
     "text": [
      "         name age weight\n",
      "001  ZhangSan  18     50\n",
      "002      LiSi  20     55\n",
      "003    WangWu  19     60\n",
      "004   ZhaoLiu  22     80\n",
      "(4, 3)\n",
      "['001', '002', '003', '004']\n",
      "['name', 'age', 'weight']\n",
      "2\n"
     ]
    }
   ],
   "source": [
    "import pandas as pd\n",
    "\n",
    "df_dict = {\n",
    "    'name':['ZhangSan','LiSi','WangWu','ZhaoLiu'],\n",
    "    'age':['18','20','19','22'],\n",
    "    'weight':['50','55','60','80']\n",
    "}\n",
    "df = pd.DataFrame(data=df_dict,index=['001','002','003','004'])\n",
    "print(df)\n",
    "# 获取行数和列数\n",
    "print(df.shape)\n",
    "\n",
    "# 获取行索引\n",
    "print(df.index.tolist())\n",
    "\n",
    "# 获取列索引\n",
    "print(df.columns.tolist())\n",
    "\n",
    "# 获取数据的维度\n",
    "print(df.ndim)"
   ]
  },
  {
   "cell_type": "markdown",
   "metadata": {},
   "source": [
    "需要注意的是，如果我们数据量是10G，像这种数据量比较大并且我们想看数据的具体情况的时候，这些属性就不够用了，如果直接打印df有比较耗时，所以我们可以只获取前几行或者后几行，了解数据的构成即可。  \n",
    "这时候有两个法宝head()、tail()正好能帮我们解决这个问题。  \n",
    "两个方法都有默认值，默认值是5，当然也可以自己设置，如果数据不够5个会将全部数据拿出来。\n"
   ]
  },
  {
   "cell_type": "code",
   "execution_count": 13,
   "metadata": {},
   "outputs": [
    {
     "name": "stdout",
     "output_type": "stream",
     "text": [
      "         name age weight\n",
      "001  ZhangSan  18     50\n",
      "002      LiSi  20     55\n",
      "        name age weight\n",
      "003   WangWu  19     60\n",
      "004  ZhaoLiu  22     80\n",
      "         name age weight\n",
      "001  ZhangSan  18     50\n",
      "       name age weight\n",
      "002    LiSi  20     55\n",
      "003  WangWu  19     60\n",
      "       name age\n",
      "002    LiSi  20\n",
      "003  WangWu  19\n",
      "001    ZhangSan\n",
      "002        LiSi\n",
      "003      WangWu\n",
      "004     ZhaoLiu\n",
      "Name: name, dtype: object\n",
      "         name age\n",
      "001  ZhangSan  18\n",
      "002      LiSi  20\n",
      "003    WangWu  19\n",
      "004   ZhaoLiu  22\n"
     ]
    }
   ],
   "source": [
    "import pandas as pd\n",
    "\n",
    "df_dict = {\n",
    "    'name':['ZhangSan','LiSi','WangWu','ZhaoLiu'],\n",
    "    'age':['18','20','19','22'],\n",
    "    'weight':['50','55','60','80']\n",
    "}\n",
    "df = pd.DataFrame(data=df_dict,index=['001','002','003','004'])\n",
    "print(df.head(2))\n",
    "print(df.tail(2))\n",
    "\n",
    "# df[]不支持直接输入标签索引获取行数据，例如：df['001']\n",
    "# 这种方式可以获取一列数据，列如：df['name']\n",
    "# 如果想获取多行里面的某几列可写成：df[行][列]，例如：df[1:3][['name','age']],将列索引值放到同一个列表中，再将列表放到第二个方括号中\n",
    "\n",
    "# 通过位置索引切片获取一行\n",
    "print(df[0:1])\n",
    "# 通过位置索引切片获取多行\n",
    "print(df[1:3])\n",
    "# 获取多行里面的某几列\n",
    "print(df[1:3][['name','age']])\n",
    "# 获取DataFrame的列\n",
    "print(df['name'])\n",
    "# 如果获取多个列\n",
    "print(df[['name','age']])"
   ]
  },
  {
   "cell_type": "code",
   "execution_count": 14,
   "metadata": {},
   "outputs": [
    {
     "name": "stdout",
     "output_type": "stream",
     "text": [
      "ZhangSan\n",
      "name      ZhangSan\n",
      "weight          50\n",
      "Name: 001, dtype: object\n",
      "name      ZhangSan\n",
      "age             18\n",
      "weight          50\n",
      "Name: 001, dtype: object\n",
      "         name weight\n",
      "001  ZhangSan     50\n",
      "003    WangWu     60\n",
      "         name age weight\n",
      "001  ZhangSan  18     50\n",
      "002      LiSi  20     55\n",
      "003    WangWu  19     60\n"
     ]
    }
   ],
   "source": [
    "import pandas as pd\n",
    "\n",
    "df_dict = {\n",
    "    'name':['ZhangSan','LiSi','WangWu','ZhaoLiu'],\n",
    "    'age':['18','20','19','22'],\n",
    "    'weight':['50','55','60','80']\n",
    "}\n",
    "df = pd.DataFrame(data=df_dict,index=['001','002','003','004'])\n",
    "# df[]不支持直接输入标签索引获取行数据，例如：df['001']\n",
    "# 这种方式可以获取一列数据，列如：df['name']\n",
    "# 如果想获取多行里面的某几列可写成：df[行][列]，例如：df[1:3][['name','age']],将列索引值放到同一个列表中，再将列表放到第二个方括号中\n",
    "\n",
    "# 获取某一行某一列的数据\n",
    "print(df.loc['001','name'])\n",
    "# 某一行多列的数据\n",
    "print(df.loc['001',['name','weight']])\n",
    "# 一行所有列\n",
    "print(df.loc['001',:])\n",
    "# 选择间隔的多行多列\n",
    "print(df.loc[['001','003'],['name','weight']])\n",
    "# 选择连续的多行和间隔的多列\n",
    "print(df.loc['001':'003','name':'weight'])\n"
   ]
  },
  {
   "cell_type": "markdown",
   "metadata": {},
   "source": [
    "【神仙的自我修养】\n",
    "\n",
    "#### df[]不支持直接输入标签索引获取行数据，例如：df['001']\n",
    "#### 这种方式可以获取一列数据，列如：df['name']\n",
    "#### 如果想获取多行里面的某几列可写成：df[行][列]，例如：df[1:3][['name','age']],将列索引值放到同一个列表中，再将列表放到第二个方括号中\n",
    "当然我们也可以使用另外两个比较好用的法宝进行获取数据：通过行标签索引筛选loc[]，通过行位置索引筛选iloc[]：。"
   ]
  },
  {
   "cell_type": "code",
   "execution_count": 16,
   "metadata": {},
   "outputs": [
    {
     "name": "stdout",
     "output_type": "stream",
     "text": [
      "         name age weight\n",
      "001  ZhangSan  18     50\n",
      "002      LiSi  20     55\n",
      "003    WangWu  19     60\n",
      "004   ZhaoLiu  22     80\n",
      "ZhangSan\n",
      "name      ZhangSan\n",
      "weight          50\n",
      "Name: 001, dtype: object\n",
      "name      ZhangSan\n",
      "age             18\n",
      "weight          50\n",
      "Name: 001, dtype: object\n",
      "         name weight\n",
      "001  ZhangSan     50\n",
      "003    WangWu     60\n",
      "         name age weight\n",
      "001  ZhangSan  18     50\n",
      "002      LiSi  20     55\n",
      "003    WangWu  19     60\n"
     ]
    }
   ],
   "source": [
    "import pandas as pd\n",
    "\n",
    "df_dict = {\n",
    "    'name':['ZhangSan','LiSi','WangWu','ZhaoLiu'],\n",
    "    'age':['18','20','19','22'],\n",
    "    'weight':['50','55','60','80']\n",
    "}\n",
    "df = pd.DataFrame(data=df_dict,index=['001','002','003','004'])\n",
    "print(df)\n",
    "\n",
    "# 获取某一行某一列的数据\n",
    "print(df.loc['001','name'])\n",
    "# 某一行多列的数据\n",
    "print(df.loc['001',['name','weight']])\n",
    "# 一行所有列\n",
    "print(df.loc['001',:])\n",
    "# 选择间隔的多行多列\n",
    "print(df.loc[['001','003'],['name','weight']])\n",
    "# 选择连续的多行和间隔的多列\n",
    "print(df.loc['001':'003','name':'weight'])"
   ]
  },
  {
   "cell_type": "markdown",
   "metadata": {},
   "source": [
    "【神仙的自我修养】df.loc[] 通过标签索引获取行数据，它的语法结构是这样的：df.loc[[行],[列]]，方括号中用逗号分隔，左侧是行、右侧是列。千万注意：如果行或者列使用切片的时候，要把方括号去掉，列df.loc['001':'003','name':'weight']。  \n",
    "df.iloc[] 通过位置索引获取行数据，他的操作和loc[]操作是一样的，只要将标签索引改成位置索引就好了。 \n",
    "需要注意的是，loc和iloc的切片操作在是否包含切片终点的数据有差异。loc['001':'003']的结果中包含行索引003对应的行。iloc[0:2] 结果中不包含序号为2的数据，切片终点对应的数据不在筛选结果中。  "
   ]
  },
  {
   "cell_type": "code",
   "execution_count": 17,
   "metadata": {},
   "outputs": [
    {
     "name": "stdout",
     "output_type": "stream",
     "text": [
      "name      LiSi\n",
      "age         20\n",
      "weight      55\n",
      "Name: 002, dtype: object\n",
      "         name age weight\n",
      "001  ZhangSan  18     50\n",
      "002      LiSi  20     55\n",
      "         name age weight\n",
      "001  ZhangSan  18     50\n",
      "003    WangWu  19     60\n",
      "001    18\n",
      "002    20\n",
      "003    19\n",
      "004    22\n",
      "Name: age, dtype: object\n",
      "LiSi\n"
     ]
    }
   ],
   "source": [
    "import pandas as pd\n",
    "\n",
    "df_dict = {\n",
    "    'name':['ZhangSan','LiSi','WangWu','ZhaoLiu'],\n",
    "    'age':['18','20','19','22'],\n",
    "    'weight':['50','55','60','80']\n",
    "}\n",
    "df = pd.DataFrame(data=df_dict,index=['001','002','003','004'])\n",
    "# 取一行\n",
    "print(df.iloc[1])\n",
    "# 取连续多行\n",
    "print(df.iloc[0:2])\n",
    "# 取间断的多行\n",
    "print(df.iloc[[0,2],:])\n",
    "# 取某一列\n",
    "print(df.iloc[:,1])\n",
    "# 某一个值\n",
    "print(df.iloc[1,0])"
   ]
  },
  {
   "cell_type": "markdown",
   "metadata": {},
   "source": [
    "iterrows(): 按行遍历，将DataFrame的每一行转化为(index, Series)对。index为行索引值，Series为该行对应的数据。  \n",
    "代码片段  \n",
    "```\n",
    "for index,row_data in df.iterrows():\n",
    "    print(index,row_data)\n",
    "```\n",
    "iteritems():按列遍历，将DataFrame的每一列转化为(column, Series)对。column为列索引的值，Series为该列对应的数据。  \n",
    "代码片段  \n",
    "```\n",
    "for col,col_data in df.iteritems():\n",
    "    print(col)\n",
    "```"
   ]
  },
  {
   "cell_type": "code",
   "execution_count": 18,
   "metadata": {},
   "outputs": [
    {
     "name": "stdout",
     "output_type": "stream",
     "text": [
      "001 name      ZhangSan\n",
      "age             18\n",
      "weight          50\n",
      "Name: 001, dtype: object\n",
      "002 name      LiSi\n",
      "age         20\n",
      "weight      55\n",
      "Name: 002, dtype: object\n",
      "003 name      WangWu\n",
      "age           19\n",
      "weight        60\n",
      "Name: 003, dtype: object\n",
      "004 name      ZhaoLiu\n",
      "age            22\n",
      "weight         80\n",
      "Name: 004, dtype: object\n"
     ]
    }
   ],
   "source": [
    "import pandas as pd\n",
    "\n",
    "df_dict = {\n",
    "    'name':['ZhangSan','LiSi','WangWu','ZhaoLiu'],\n",
    "    'age':['18','20','19','22'],\n",
    "    'weight':['50','55','60','80']\n",
    "}\n",
    "df = pd.DataFrame(data=df_dict,index=['001','002','003','004'])\n",
    "for index,row_data in df.iterrows():\n",
    "    print(index,row_data)\n",
    "# for col,col_data in df.iteritems():\n",
    "#     print(col)"
   ]
  },
  {
   "cell_type": "markdown",
   "metadata": {},
   "source": [
    "![](./picture/2-2.png)"
   ]
  },
  {
   "cell_type": "markdown",
   "metadata": {},
   "source": [
    "### 题目要求\n",
    "1. 根据公司的员工信息登记表数据，获取相关信息：\n",
    "2. 用三种方法获取遍历所有员工的薪水信息； 2. 获取最高薪水值。\n",
    "\n",
    "### 题目讲解\n",
    "1. 获取工号为003~007的所有员工信息；  \n",
    "2. 获取所有员工的年龄和工资信息；  \n",
    "3. 查看一个你感兴趣员工的婚姻状况。  \n",
    "\n",
    "### 书写代码"
   ]
  },
  {
   "cell_type": "code",
   "execution_count": 20,
   "metadata": {},
   "outputs": [
    {
     "name": "stdout",
     "output_type": "stream",
     "text": [
      "      姓名  年龄   薪资 婚姻状况\n",
      "003  诸葛亮  27  20k  YES\n",
      "004  狄仁杰  25  14k  YES\n",
      "005  孙尚香  30  12k   NO\n",
      "006   妲己  29  17k   NO\n",
      "007   周瑜  25  18k   NO\n",
      "     年龄     薪资\n",
      "001  25    10k\n",
      "002  28   12.5\n",
      "003  27    20k\n",
      "004  25    14k\n",
      "005  30    12k\n",
      "006  29    17k\n",
      "007  25    18k\n",
      "008  32    21k\n",
      "009  28    22k\n",
      "010  26  21.5k\n",
      "姓名      王昭君\n",
      "年龄       28\n",
      "婚姻状况     NO\n",
      "Name: 009, dtype: object\n"
     ]
    }
   ],
   "source": [
    "from pandas import Series,DataFrame\n",
    "\n",
    "# 使用字典创建\n",
    "index_list = ['001','002','003','004','005','006','007','008','009','010']\n",
    "name_list = ['李白','王昭君','诸葛亮','狄仁杰','孙尚香','妲己','周瑜','张飞','王昭君','大乔']\n",
    "age_list = [25,28,27,25,30,29,25,32,28,26]\n",
    "salary_list = ['10k','12.5','20k','14k','12k','17k','18k','21k','22k','21.5k']\n",
    "marital_list = ['NO','NO','YES','YES','NO','NO','NO','YES','NO','YES']\n",
    "dic={\n",
    "    '姓名': Series(data=name_list,index=index_list),\n",
    "    '年龄': Series(data=age_list,index=index_list),\n",
    "    '薪资': Series(data=salary_list,index=index_list),\n",
    "    '婚姻状况': Series(data=marital_list,index=index_list)\n",
    "    }\n",
    "df=DataFrame(dic)\n",
    "\n",
    "# 1. 获取工号为003~007的所有员工信息\n",
    "result1 = df['003':'007']\n",
    "print(result1)\n",
    "\n",
    "# 2. 获取所有员工的年龄和工资信息\n",
    "result2 = df.loc[:,['年龄','薪资']]\n",
    "print(result2)\n",
    "\n",
    "# 3. 查看一个你感兴趣员工的婚姻状况\n",
    "result3 = df.loc['009',['姓名','年龄','婚姻状况']]\n",
    "print(result3)"
   ]
  },
  {
   "cell_type": "code",
   "execution_count": 21,
   "metadata": {},
   "outputs": [
    {
     "name": "stdout",
     "output_type": "stream",
     "text": [
      "10k\n",
      "12.5k\n",
      "20k\n",
      "14k\n",
      "12k\n",
      "17k\n",
      "18k\n",
      "21k\n",
      "22k\n",
      "21.5k\n",
      "10k\n",
      "12.5k\n",
      "20k\n",
      "14k\n",
      "12k\n",
      "17k\n",
      "18k\n",
      "21k\n",
      "22k\n",
      "21.5k\n",
      "001      10k\n",
      "002    12.5k\n",
      "003      20k\n",
      "004      14k\n",
      "005      12k\n",
      "006      17k\n",
      "007      18k\n",
      "008      21k\n",
      "009      22k\n",
      "010    21.5k\n",
      "Name: 薪资, dtype: object\n",
      "22.0\n"
     ]
    }
   ],
   "source": [
    "# 如何查看别人的薪水？\n",
    "from pandas import Series,DataFrame\n",
    "\n",
    "# 使用字典创建\n",
    "index_list = ['001','002','003','004','005','006','007','008','009','010']\n",
    "name_list = ['李白','王昭君','诸葛亮','狄仁杰','孙尚香','妲己','周瑜','张飞','王昭君','大乔']\n",
    "age_list = [25,28,27,25,30,29,25,32,28,26]\n",
    "salary_list = ['10k','12.5k','20k','14k','12k','17k','18k','21k','22k','21.5k']\n",
    "marital_list = ['NO','NO','YES','YES','NO','NO','NO','YES','NO','YES']\n",
    "dic={\n",
    "    '姓名': Series(data=name_list,index=index_list),\n",
    "    '年龄': Series(data=age_list,index=index_list),\n",
    "    '薪资': Series(data=salary_list,index=index_list),\n",
    "    '婚姻状况': Series(data=marital_list,index=index_list)\n",
    "    }\n",
    "df=DataFrame(dic)\n",
    "\n",
    "# 方法一：遍历薪水列\n",
    "for value in df['薪资']:\n",
    "    print(value)\n",
    "\n",
    "# 方法二：遍历薪水列\n",
    "for index,row_data in df.iterrows():\n",
    "    print(row_data['薪资'])\n",
    "\n",
    "# 方法三：遍历薪水列   \n",
    "for col,col_data in df.iteritems():\n",
    "    if col == '薪资':\n",
    "        print(col_data)\n",
    "\n",
    "# 获取最大薪资\n",
    "for col,col_data in df.iteritems():\n",
    "    if col == '薪资':\n",
    "        # 将薪资中的k去掉并转化成float类型\n",
    "        list1 = [float(value[:len(value)-1]) for value in col_data]\n",
    "        # 排序\n",
    "        max_salary = sorted(list1,reverse=True)[0]\n",
    "        print(max_salary)"
   ]
  }
 ],
 "metadata": {
  "kernelspec": {
   "display_name": "Python 3",
   "language": "python",
   "name": "python3"
  },
  "language_info": {
   "codemirror_mode": {
    "name": "ipython",
    "version": 3
   },
   "file_extension": ".py",
   "mimetype": "text/x-python",
   "name": "python",
   "nbconvert_exporter": "python",
   "pygments_lexer": "ipython3",
   "version": "3.7.7"
  }
 },
 "nbformat": 4,
 "nbformat_minor": 4
}
