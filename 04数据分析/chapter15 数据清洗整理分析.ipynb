{
 "cells": [
  {
   "cell_type": "markdown",
   "metadata": {},
   "source": [
    "# 数据清洗整理分析\n",
    "细沙堆成山，滴水流成河。前面我们已经学习了数据分析江湖的Python技能，现在是时候身入江湖了，检验一下我们是否掌握了Python数据分析的技能。\n",
    "![](./picture/15-1.png)\n",
    "一个专业的数据分析，他的定位应该是一个“谋士”，所谓谋士，应该运筹帷幄，决胜千里，不出五尺书堂，便知天下大势。  \n",
    "由于，我们现在已经从IT（Information Technology）时代进入了DT（Data Technology）时代。我们有能力低成本的收集和存储大量的数据，从而衍生出数据分析这个行业。  \n",
    "据分析最重要的作用是从数据里面寻求真正有价值的信息，并帮助我们作出合理的决策。  \n",
    "为了更好的了解数据分析师这个岗位，本节课我们将以某招聘网站的2017年数据分析师职位数据为基础，进行数据分析。数据路径为：/data/analyse_spider.csv。  \n",
    "下面，我们了解一下数据的基本信息：  \n",
    "数据共包含14列，先看一下每一列的含义：  \n",
    "参数含义  \n",
    "city：城市  \n",
    "companyId：公司ID  \n",
    "companySize：公司大小  \n",
    "CbusinessZones：公司所在商区  \n",
    "firstType：职位所属一级类目  \n",
    "secondType：职业所属二级类目  \n",
    "education：教育要求  \n",
    "industryField：公司所属领域  \n",
    "positionId：职位ID  \n",
    "positionAdvantage：职位福利  \n",
    "positionName：职位名称  \n",
    "salary：薪水  \n",
    "workYear：工作年限要求  \n",
    "运行下方代码，查看数据的具体情况：  "
   ]
  },
  {
   "cell_type": "code",
   "execution_count": 2,
   "metadata": {},
   "outputs": [
    {
     "name": "stdout",
     "output_type": "stream",
     "text": [
      "(6876, 26)\n",
      "<class 'pandas.core.frame.DataFrame'>\n",
      "RangeIndex: 6876 entries, 0 to 6875\n",
      "Data columns (total 26 columns):\n",
      " #   Column             Non-Null Count  Dtype \n",
      "---  ------             --------------  ----- \n",
      " 0   city               6876 non-null   object\n",
      " 1   companyId          6876 non-null   int64 \n",
      " 2   companySize        6876 non-null   object\n",
      " 3   businessZones      6876 non-null   object\n",
      " 4   firstType          6876 non-null   object\n",
      " 5   secondType         6876 non-null   object\n",
      " 6   education          6876 non-null   object\n",
      " 7   industryField      6876 non-null   object\n",
      " 8   positionId         6876 non-null   object\n",
      " 9   positionAdvantage  6876 non-null   object\n",
      " 10  positionName       6876 non-null   object\n",
      " 11  positionLables     6875 non-null   object\n",
      " 12  salary             6876 non-null   object\n",
      " 13  workYear           6876 non-null   object\n",
      " 14  Unnamed: 14        6742 non-null   object\n",
      " 15  Unnamed: 15        6345 non-null   object\n",
      " 16  Unnamed: 16        5446 non-null   object\n",
      " 17  Unnamed: 17        4079 non-null   object\n",
      " 18  Unnamed: 18        2561 non-null   object\n",
      " 19  Unnamed: 19        1326 non-null   object\n",
      " 20  Unnamed: 20        714 non-null    object\n",
      " 21  Unnamed: 21        313 non-null    object\n",
      " 22  Unnamed: 22        120 non-null    object\n",
      " 23  Unnamed: 23        45 non-null     object\n",
      " 24  Unnamed: 24        13 non-null     object\n",
      " 25  Unnamed: 25        4 non-null      object\n",
      "dtypes: int64(1), object(25)\n",
      "memory usage: 1.4+ MB\n"
     ]
    }
   ],
   "source": [
    "import pandas as pd  \n",
    "data = pd.read_csv('./data/analyse_spider.csv',encoding='GBK')  \n",
    "print(data.shape)  \n",
    "data.info()  "
   ]
  },
  {
   "cell_type": "markdown",
   "metadata": {},
   "source": [
    "因为csv文件中带有中文字符而产生字符编码错误，造成读取文件错误，在这个时候，我们可以尝试将pd.read_csv()函数的encoding参数设置为\"gbk\"。  \n",
    "## 分析内容\n",
    "数据分析的大忌是不知道分析方向和目的，拿着一堆数据不知所措。一切数据分析都是以业务为核心目的，而不是以数据为目的。   \n",
    "所以，我们应该先定分析的目标，然后在处理数据。  \n",
    "我们本案例的目标很简单，就是根据该数据，分析影响薪资的因素：  \n",
    "1. 地区对数据分析师的薪酬的影响； \n",
    "2. 学历对数据分析师的薪酬的影响；   \n",
    "3. 工作年限对数据分析师的薪酬的影响。  \n",
    "有了目标和方向后，后面就是将目标拆解为实际过程。  \n",
    "数据的缺失值在很大程度上会影响数据的分析结果，如果某一个字段缺失值超过一半的时候，我们就可以将这个字段删除了，因为缺失过多就没有业务意义了。  \n",
    "注意：并不是，只要含有有缺失值的时候，我们就要将数据删除，如果数据量比较少、缺失值不多，并且对我们的分析指标没有实际影响时，我们就可以将其保留。  \n",
    "运行下方代码，查看数据的缺失值情况：  "
   ]
  },
  {
   "cell_type": "code",
   "execution_count": 4,
   "metadata": {},
   "outputs": [
    {
     "name": "stdout",
     "output_type": "stream",
     "text": [
      "(6876, 26)\n",
      "<class 'pandas.core.frame.DataFrame'>\n",
      "RangeIndex: 6876 entries, 0 to 6875\n",
      "Data columns (total 26 columns):\n",
      " #   Column             Non-Null Count  Dtype \n",
      "---  ------             --------------  ----- \n",
      " 0   city               6876 non-null   object\n",
      " 1   companyId          6876 non-null   int64 \n",
      " 2   companySize        6876 non-null   object\n",
      " 3   businessZones      6876 non-null   object\n",
      " 4   firstType          6876 non-null   object\n",
      " 5   secondType         6876 non-null   object\n",
      " 6   education          6876 non-null   object\n",
      " 7   industryField      6876 non-null   object\n",
      " 8   positionId         6876 non-null   object\n",
      " 9   positionAdvantage  6876 non-null   object\n",
      " 10  positionName       6876 non-null   object\n",
      " 11  positionLables     6875 non-null   object\n",
      " 12  salary             6876 non-null   object\n",
      " 13  workYear           6876 non-null   object\n",
      " 14  Unnamed: 14        6742 non-null   object\n",
      " 15  Unnamed: 15        6345 non-null   object\n",
      " 16  Unnamed: 16        5446 non-null   object\n",
      " 17  Unnamed: 17        4079 non-null   object\n",
      " 18  Unnamed: 18        2561 non-null   object\n",
      " 19  Unnamed: 19        1326 non-null   object\n",
      " 20  Unnamed: 20        714 non-null    object\n",
      " 21  Unnamed: 21        313 non-null    object\n",
      " 22  Unnamed: 22        120 non-null    object\n",
      " 23  Unnamed: 23        45 non-null     object\n",
      " 24  Unnamed: 24        13 non-null     object\n",
      " 25  Unnamed: 25        4 non-null      object\n",
      "dtypes: int64(1), object(25)\n",
      "memory usage: 1.4+ MB\n"
     ]
    }
   ],
   "source": [
    "import pandas as pd\n",
    "data = pd.read_csv('./data/analyse_spider.csv',encoding='GBK')\n",
    "print(data.shape)\n",
    "data.info()"
   ]
  },
  {
   "cell_type": "markdown",
   "metadata": {},
   "source": [
    "为了方便大家更好的理解，我们将结果提炼出来，如下图：  \n",
    "![](./picture/15-3.png)\n",
    "通过结果我们可以看出：一共有6876个数据，其中businessZones、firstType、secondType，positionLables都存在为空的情况。companyId和positionId为数字，其他都是字符串。  \n",
    "从数量上可以看出，businessZones列的数据缺失量比较大，需要将该列数据删除。  \n",
    "其他三列的缺失值的总数量为45，并不会影响整体分析效果，我们可以删除这45条数据。  \n",
    "运行下面代码，删除缺失值：  "
   ]
  },
  {
   "cell_type": "code",
   "execution_count": 7,
   "metadata": {},
   "outputs": [
    {
     "name": "stdout",
     "output_type": "stream",
     "text": [
      "<class 'pandas.core.frame.DataFrame'>\n",
      "Int64Index: 4 entries, 3087 to 6874\n",
      "Data columns (total 25 columns):\n",
      " #   Column             Non-Null Count  Dtype \n",
      "---  ------             --------------  ----- \n",
      " 0   city               4 non-null      object\n",
      " 1   companyId          4 non-null      int64 \n",
      " 2   companySize        4 non-null      object\n",
      " 3   firstType          4 non-null      object\n",
      " 4   secondType         4 non-null      object\n",
      " 5   education          4 non-null      object\n",
      " 6   industryField      4 non-null      object\n",
      " 7   positionId         4 non-null      object\n",
      " 8   positionAdvantage  4 non-null      object\n",
      " 9   positionName       4 non-null      object\n",
      " 10  positionLables     4 non-null      object\n",
      " 11  salary             4 non-null      object\n",
      " 12  workYear           4 non-null      object\n",
      " 13  Unnamed: 14        4 non-null      object\n",
      " 14  Unnamed: 15        4 non-null      object\n",
      " 15  Unnamed: 16        4 non-null      object\n",
      " 16  Unnamed: 17        4 non-null      object\n",
      " 17  Unnamed: 18        4 non-null      object\n",
      " 18  Unnamed: 19        4 non-null      object\n",
      " 19  Unnamed: 20        4 non-null      object\n",
      " 20  Unnamed: 21        4 non-null      object\n",
      " 21  Unnamed: 22        4 non-null      object\n",
      " 22  Unnamed: 23        4 non-null      object\n",
      " 23  Unnamed: 24        4 non-null      object\n",
      " 24  Unnamed: 25        4 non-null      object\n",
      "dtypes: int64(1), object(24)\n",
      "memory usage: 832.0+ bytes\n"
     ]
    }
   ],
   "source": [
    "import pandas as pd\n",
    "data = pd.read_csv('./data/analyse_spider.csv',encoding='GBK')\n",
    "# 删除businessZones列数据\n",
    "data.drop(['businessZones'],axis=1, inplace=True)\n",
    "# 删除含有NaN的数据\n",
    "data.dropna(inplace=True)\n",
    "data.info()"
   ]
  },
  {
   "cell_type": "markdown",
   "metadata": {},
   "source": [
    "处理完空值之后，数据还剩6837条，13列。  \n",
    "处理完空值以后，我们还需要注意另外一个会影响我们分析结果的因素，就是重复值。  \n",
    "我们来看一下计算一下重复的数据，并将其删除。  \n",
    "使用data.duplicated()方法判断每一行是否重复，然后使用data.duplicated()[data.duplicated()==True]取出重复行，最后使用len()计算重复的数据。  \n",
    "下面运行下方代码，看一下是否有重复的数据，并删除。  \n"
   ]
  },
  {
   "cell_type": "code",
   "execution_count": 9,
   "metadata": {},
   "outputs": [
    {
     "name": "stdout",
     "output_type": "stream",
     "text": [
      "2\n",
      "<class 'pandas.core.frame.DataFrame'>\n",
      "Int64Index: 2 entries, 3087 to 3829\n",
      "Data columns (total 25 columns):\n",
      " #   Column             Non-Null Count  Dtype \n",
      "---  ------             --------------  ----- \n",
      " 0   city               2 non-null      object\n",
      " 1   companyId          2 non-null      int64 \n",
      " 2   companySize        2 non-null      object\n",
      " 3   firstType          2 non-null      object\n",
      " 4   secondType         2 non-null      object\n",
      " 5   education          2 non-null      object\n",
      " 6   industryField      2 non-null      object\n",
      " 7   positionId         2 non-null      object\n",
      " 8   positionAdvantage  2 non-null      object\n",
      " 9   positionName       2 non-null      object\n",
      " 10  positionLables     2 non-null      object\n",
      " 11  salary             2 non-null      object\n",
      " 12  workYear           2 non-null      object\n",
      " 13  Unnamed: 14        2 non-null      object\n",
      " 14  Unnamed: 15        2 non-null      object\n",
      " 15  Unnamed: 16        2 non-null      object\n",
      " 16  Unnamed: 17        2 non-null      object\n",
      " 17  Unnamed: 18        2 non-null      object\n",
      " 18  Unnamed: 19        2 non-null      object\n",
      " 19  Unnamed: 20        2 non-null      object\n",
      " 20  Unnamed: 21        2 non-null      object\n",
      " 21  Unnamed: 22        2 non-null      object\n",
      " 22  Unnamed: 23        2 non-null      object\n",
      " 23  Unnamed: 24        2 non-null      object\n",
      " 24  Unnamed: 25        2 non-null      object\n",
      "dtypes: int64(1), object(24)\n",
      "memory usage: 416.0+ bytes\n"
     ]
    }
   ],
   "source": [
    "import pandas as pd\n",
    "data = pd.read_csv('./data/analyse_spider.csv',encoding='GBK')\n",
    "# 删除businessZones列数据\n",
    "data.drop(['businessZones'],axis=1, inplace=True)\n",
    "data.dropna(inplace=True)\n",
    "\n",
    "# 计算重复的数据数\n",
    "print(len(data.duplicated()[data.duplicated()==True]))\n",
    "# 删除重复数据\n",
    "data.drop_duplicates(inplace=True)\n",
    "data.info()"
   ]
  },
  {
   "cell_type": "markdown",
   "metadata": {},
   "source": [
    "共有1830条重复的数据，使用data.drop_duplicates()删除后，还剩5000多条数据。  \n",
    "## 整理数据和分析\n",
    "数据的缺失值和重复值，是我们在分析之前必须要做，因为，他们的存在会很大程度上影响我们的分析结果。  \n",
    "接下来，我们需要做的事情就是，根据我们的分析需求去整理目标数据，从而方便我们的分析。  \n",
    "我们的第一个任务是薪酬分布情况，所以我们先来整理这个数据。  \n",
    "![](./picture/15-4.png)\n",
    "薪资字段格式基本分为15k-25k和15k以上这两种，并且都是字符串。  \n",
    "如果我们只想要薪资下限数据或者薪资上限数据时，怎么办呢？  \n",
    "最好的方式就将salary薪资字段按照最高薪水和最低薪水拆成两列，并且薪水的话如果用几K表示，直接用于计算，所以将k去掉。  \n",
    "这里我们可以使用pandas中的apply方法，针对薪酬这一列数据进行操作，结果如下图。  \n",
    "![](./picture/15-5.png)\n",
    "下面是拆分的具体代码：\n"
   ]
  },
  {
   "cell_type": "code",
   "execution_count": null,
   "metadata": {},
   "outputs": [],
   "source": [
    "# 定义拆分的函数\n",
    "def split_salary(salary,method):\n",
    "    # 获取'-'索引值\n",
    "    position = salary.upper().find('-')\n",
    "    if position != -1: #salary值是15k-25k形式\n",
    "        low_salary = salary[:position-1]\n",
    "        high_salary= salary[position+1:len(salary)-1]\n",
    "         \n",
    "    else: #salary值是15k以上形式\n",
    "        low_salary = salary[:salary.upper().find('K')]\n",
    "        high_salary= low_salary\n",
    "    # 根据参数用以判断返回的值\n",
    "    if method == 'low':\n",
    "        return low_salary\n",
    "    elif method == 'high':\n",
    "        return high_salary   \n",
    "    elif method == 'avg':\n",
    "        return (int(low_salary) + int(high_salary))/2\n",
    "# 赋值\n",
    "data['low_salary']=data.salary.apply(split_salary,method='low')\n",
    "data['high_salary']=data.salary.apply(split_salary,method='high')\n",
    "data['avg_salary']=data.salary.apply(split_salary,method='avg')\n",
    "data"
   ]
  },
  {
   "cell_type": "markdown",
   "metadata": {},
   "source": [
    "下面我们具体分析一下代码的逻辑。  \n",
    "第一步，我们自定义了一个函数split_salary()函数，salary参数是使用apply函数必须要传的参数，其实就是data.salary的值。  \n",
    "第二步，使用salary.upper().find('-')判断salary值是15k-25k的形式还是15k以上形式，如果结果是-1，表示是15k以上  形式，反之是15k-25k形式。为了避免k的大小写，我们用upper函数将k都转换为K，然后以K作为截取。\n",
    "第三步，在split_salary函数增加了新的参数用以判断返回low_salary还是high_salary或者是avg_salary。  \n",
    "赋值上面的代码到代码框运行，查看拆分结果:  "
   ]
  },
  {
   "cell_type": "code",
   "execution_count": 11,
   "metadata": {},
   "outputs": [
    {
     "name": "stdout",
     "output_type": "stream",
     "text": [
      "2\n",
      "<class 'pandas.core.frame.DataFrame'>\n",
      "Int64Index: 2 entries, 3087 to 3829\n",
      "Data columns (total 25 columns):\n",
      " #   Column             Non-Null Count  Dtype \n",
      "---  ------             --------------  ----- \n",
      " 0   city               2 non-null      object\n",
      " 1   companyId          2 non-null      int64 \n",
      " 2   companySize        2 non-null      object\n",
      " 3   firstType          2 non-null      object\n",
      " 4   secondType         2 non-null      object\n",
      " 5   education          2 non-null      object\n",
      " 6   industryField      2 non-null      object\n",
      " 7   positionId         2 non-null      object\n",
      " 8   positionAdvantage  2 non-null      object\n",
      " 9   positionName       2 non-null      object\n",
      " 10  positionLables     2 non-null      object\n",
      " 11  salary             2 non-null      object\n",
      " 12  workYear           2 non-null      object\n",
      " 13  Unnamed: 14        2 non-null      object\n",
      " 14  Unnamed: 15        2 non-null      object\n",
      " 15  Unnamed: 16        2 non-null      object\n",
      " 16  Unnamed: 17        2 non-null      object\n",
      " 17  Unnamed: 18        2 non-null      object\n",
      " 18  Unnamed: 19        2 non-null      object\n",
      " 19  Unnamed: 20        2 non-null      object\n",
      " 20  Unnamed: 21        2 non-null      object\n",
      " 21  Unnamed: 22        2 non-null      object\n",
      " 22  Unnamed: 23        2 non-null      object\n",
      " 23  Unnamed: 24        2 non-null      object\n",
      " 24  Unnamed: 25        2 non-null      object\n",
      "dtypes: int64(1), object(24)\n",
      "memory usage: 416.0+ bytes\n"
     ]
    }
   ],
   "source": [
    "import pandas as pd\n",
    "data = pd.read_csv('./data/analyse_spider.csv',encoding='GBK')\n",
    "# 删除businessZones列数据\n",
    "data.drop(['businessZones'],axis=1, inplace=True)\n",
    "data.dropna(inplace=True)\n",
    "\n",
    "# 计算重复的数据数\n",
    "print(len(data.duplicated()[data.duplicated()==True]))\n",
    "# 删除重复数据\n",
    "data.drop_duplicates(inplace=True)\n",
    "data.info()"
   ]
  },
  {
   "cell_type": "markdown",
   "metadata": {},
   "source": [
    "到此，我们数据整理部分完成，接下来我们看一下数据分析师的薪酬情况。  \n",
    "现在我们看一下，数据分析师薪资的分布情况。  \n",
    "代码片段  \n",
    "```\n",
    "import matplotlib.pyplot as plt\n",
    "import seaborn as sns\n",
    "sns.set(style='dark')\n",
    "plt.hist(data.avg_salary)\n",
    "plt.show()\n",
    "```\n",
    "![](./picture/15-6.png)\n",
    "图表中绘制了数据分析师薪资的分布，可以看出薪资的大部分在10k-30k之间，10k-20k这个范围最多。  \n",
    "现在观察不同城市、不同学历以及不同工作年限对薪资的影响。  \n",
    "首先，我们先按城市分组，然后对比每个城市的平均薪资。  "
   ]
  },
  {
   "cell_type": "code",
   "execution_count": 14,
   "metadata": {},
   "outputs": [
    {
     "ename": "AttributeError",
     "evalue": "'DataFrame' object has no attribute 'avg_salary'",
     "output_type": "error",
     "traceback": [
      "\u001b[1;31m---------------------------------------------------------------------------\u001b[0m",
      "\u001b[1;31mAttributeError\u001b[0m                            Traceback (most recent call last)",
      "\u001b[1;32m<ipython-input-14-9e959b064be7>\u001b[0m in \u001b[0;36m<module>\u001b[1;34m\u001b[0m\n\u001b[0;32m     14\u001b[0m \u001b[1;32mfor\u001b[0m \u001b[0mgroup_name\u001b[0m\u001b[1;33m,\u001b[0m\u001b[0mgroup_df\u001b[0m \u001b[1;32min\u001b[0m \u001b[0mgroups\u001b[0m\u001b[1;33m:\u001b[0m\u001b[1;33m\u001b[0m\u001b[1;33m\u001b[0m\u001b[0m\n\u001b[0;32m     15\u001b[0m     \u001b[0mxticks\u001b[0m\u001b[1;33m.\u001b[0m\u001b[0mappend\u001b[0m\u001b[1;33m(\u001b[0m\u001b[0mgroup_name\u001b[0m\u001b[1;33m)\u001b[0m\u001b[1;33m\u001b[0m\u001b[1;33m\u001b[0m\u001b[0m\n\u001b[1;32m---> 16\u001b[1;33m     \u001b[0mplt\u001b[0m\u001b[1;33m.\u001b[0m\u001b[0mbar\u001b[0m\u001b[1;33m(\u001b[0m\u001b[0mgroup_name\u001b[0m\u001b[1;33m,\u001b[0m\u001b[0mgroup_df\u001b[0m\u001b[1;33m.\u001b[0m\u001b[0mavg_salary\u001b[0m\u001b[1;33m.\u001b[0m\u001b[0mmean\u001b[0m\u001b[1;33m(\u001b[0m\u001b[1;33m)\u001b[0m\u001b[1;33m)\u001b[0m\u001b[1;33m\u001b[0m\u001b[1;33m\u001b[0m\u001b[0m\n\u001b[0m\u001b[0;32m     17\u001b[0m \u001b[0mplt\u001b[0m\u001b[1;33m.\u001b[0m\u001b[0mxticks\u001b[0m\u001b[1;33m(\u001b[0m\u001b[0mxticks\u001b[0m\u001b[1;33m,\u001b[0m\u001b[0mfontproperties\u001b[0m\u001b[1;33m=\u001b[0m\u001b[0mmy_font\u001b[0m\u001b[1;33m)\u001b[0m\u001b[1;33m\u001b[0m\u001b[1;33m\u001b[0m\u001b[0m\n\u001b[0;32m     18\u001b[0m \u001b[0mplt\u001b[0m\u001b[1;33m.\u001b[0m\u001b[0mshow\u001b[0m\u001b[1;33m(\u001b[0m\u001b[1;33m)\u001b[0m\u001b[1;33m\u001b[0m\u001b[1;33m\u001b[0m\u001b[0m\n",
      "\u001b[1;32md:\\program files\\python37\\lib\\site-packages\\pandas\\core\\generic.py\u001b[0m in \u001b[0;36m__getattr__\u001b[1;34m(self, name)\u001b[0m\n\u001b[0;32m   5272\u001b[0m             \u001b[1;32mif\u001b[0m \u001b[0mself\u001b[0m\u001b[1;33m.\u001b[0m\u001b[0m_info_axis\u001b[0m\u001b[1;33m.\u001b[0m\u001b[0m_can_hold_identifiers_and_holds_name\u001b[0m\u001b[1;33m(\u001b[0m\u001b[0mname\u001b[0m\u001b[1;33m)\u001b[0m\u001b[1;33m:\u001b[0m\u001b[1;33m\u001b[0m\u001b[1;33m\u001b[0m\u001b[0m\n\u001b[0;32m   5273\u001b[0m                 \u001b[1;32mreturn\u001b[0m \u001b[0mself\u001b[0m\u001b[1;33m[\u001b[0m\u001b[0mname\u001b[0m\u001b[1;33m]\u001b[0m\u001b[1;33m\u001b[0m\u001b[1;33m\u001b[0m\u001b[0m\n\u001b[1;32m-> 5274\u001b[1;33m             \u001b[1;32mreturn\u001b[0m \u001b[0mobject\u001b[0m\u001b[1;33m.\u001b[0m\u001b[0m__getattribute__\u001b[0m\u001b[1;33m(\u001b[0m\u001b[0mself\u001b[0m\u001b[1;33m,\u001b[0m \u001b[0mname\u001b[0m\u001b[1;33m)\u001b[0m\u001b[1;33m\u001b[0m\u001b[1;33m\u001b[0m\u001b[0m\n\u001b[0m\u001b[0;32m   5275\u001b[0m \u001b[1;33m\u001b[0m\u001b[0m\n\u001b[0;32m   5276\u001b[0m     \u001b[1;32mdef\u001b[0m \u001b[0m__setattr__\u001b[0m\u001b[1;33m(\u001b[0m\u001b[0mself\u001b[0m\u001b[1;33m,\u001b[0m \u001b[0mname\u001b[0m\u001b[1;33m:\u001b[0m \u001b[0mstr\u001b[0m\u001b[1;33m,\u001b[0m \u001b[0mvalue\u001b[0m\u001b[1;33m)\u001b[0m \u001b[1;33m->\u001b[0m \u001b[1;32mNone\u001b[0m\u001b[1;33m:\u001b[0m\u001b[1;33m\u001b[0m\u001b[1;33m\u001b[0m\u001b[0m\n",
      "\u001b[1;31mAttributeError\u001b[0m: 'DataFrame' object has no attribute 'avg_salary'"
     ]
    }
   ],
   "source": [
    "import matplotlib.pyplot as plt\n",
    "import seaborn as sns\n",
    "import pandas as pd\n",
    "from matplotlib import font_manager\n",
    "my_font = font_manager.FontProperties(fname='./data/simkai.ttf')\n",
    "sns.set(style='dark')\n",
    "\n",
    "data = pd.read_csv('./data/analyse_spider.csv',encoding='GBK')\n",
    "# 删除businessZones列数据\n",
    "data.drop(['businessZones'],axis=1, inplace=True)\n",
    "data.dropna(inplace=True)\n",
    "groups = data.groupby(by='city')\n",
    "xticks = []\n",
    "for group_name,group_df in groups:\n",
    "    xticks.append(group_name)\n",
    "    plt.bar(group_name,group_df.avg_salary.mean())\n",
    "plt.xticks(xticks,fontproperties=my_font)  \n",
    "plt.show()"
   ]
  },
  {
   "cell_type": "markdown",
   "metadata": {},
   "source": [
    "![](./picture/15-6.png)\n",
    "代码中我们用city进行分组，然后分别绘制了每个城市的平均薪资。  \n",
    "从图表中我们看出，北京的数据分析师薪资高于其他城市，上海和深圳稍次，广州甚至不如杭州和苏州。  \n",
    "接下来，我们再看看不同学历对薪资的影响。  \n",
    "我们同样按学历进行分组，然后对比不同学历的平均薪资。  "
   ]
  },
  {
   "cell_type": "code",
   "execution_count": 15,
   "metadata": {},
   "outputs": [
    {
     "ename": "AttributeError",
     "evalue": "'DataFrame' object has no attribute 'avg_salary'",
     "output_type": "error",
     "traceback": [
      "\u001b[1;31m---------------------------------------------------------------------------\u001b[0m",
      "\u001b[1;31mAttributeError\u001b[0m                            Traceback (most recent call last)",
      "\u001b[1;32m<ipython-input-15-9bd17520aafe>\u001b[0m in \u001b[0;36m<module>\u001b[1;34m\u001b[0m\n\u001b[0;32m      7\u001b[0m \u001b[1;32mfor\u001b[0m \u001b[0mgroup_name\u001b[0m\u001b[1;33m,\u001b[0m\u001b[0mgroup_df\u001b[0m \u001b[1;32min\u001b[0m \u001b[0mgroups\u001b[0m\u001b[1;33m:\u001b[0m\u001b[1;33m\u001b[0m\u001b[1;33m\u001b[0m\u001b[0m\n\u001b[0;32m      8\u001b[0m     \u001b[0mxticks\u001b[0m\u001b[1;33m.\u001b[0m\u001b[0mappend\u001b[0m\u001b[1;33m(\u001b[0m\u001b[0mgroup_name\u001b[0m\u001b[1;33m)\u001b[0m\u001b[1;33m\u001b[0m\u001b[1;33m\u001b[0m\u001b[0m\n\u001b[1;32m----> 9\u001b[1;33m     \u001b[0mplt\u001b[0m\u001b[1;33m.\u001b[0m\u001b[0mbar\u001b[0m\u001b[1;33m(\u001b[0m\u001b[0mgroup_name\u001b[0m\u001b[1;33m,\u001b[0m\u001b[0mgroup_df\u001b[0m\u001b[1;33m.\u001b[0m\u001b[0mavg_salary\u001b[0m\u001b[1;33m.\u001b[0m\u001b[0mmean\u001b[0m\u001b[1;33m(\u001b[0m\u001b[1;33m)\u001b[0m\u001b[1;33m)\u001b[0m\u001b[1;33m\u001b[0m\u001b[1;33m\u001b[0m\u001b[0m\n\u001b[0m\u001b[0;32m     10\u001b[0m \u001b[0mplt\u001b[0m\u001b[1;33m.\u001b[0m\u001b[0mxticks\u001b[0m\u001b[1;33m(\u001b[0m\u001b[0mxticks\u001b[0m\u001b[1;33m,\u001b[0m\u001b[0mfontproperties\u001b[0m\u001b[1;33m=\u001b[0m\u001b[0mmy_font\u001b[0m\u001b[1;33m)\u001b[0m\u001b[1;33m\u001b[0m\u001b[1;33m\u001b[0m\u001b[0m\n\u001b[0;32m     11\u001b[0m \u001b[0mplt\u001b[0m\u001b[1;33m.\u001b[0m\u001b[0mshow\u001b[0m\u001b[1;33m(\u001b[0m\u001b[1;33m)\u001b[0m\u001b[1;33m\u001b[0m\u001b[1;33m\u001b[0m\u001b[0m\n",
      "\u001b[1;32md:\\program files\\python37\\lib\\site-packages\\pandas\\core\\generic.py\u001b[0m in \u001b[0;36m__getattr__\u001b[1;34m(self, name)\u001b[0m\n\u001b[0;32m   5272\u001b[0m             \u001b[1;32mif\u001b[0m \u001b[0mself\u001b[0m\u001b[1;33m.\u001b[0m\u001b[0m_info_axis\u001b[0m\u001b[1;33m.\u001b[0m\u001b[0m_can_hold_identifiers_and_holds_name\u001b[0m\u001b[1;33m(\u001b[0m\u001b[0mname\u001b[0m\u001b[1;33m)\u001b[0m\u001b[1;33m:\u001b[0m\u001b[1;33m\u001b[0m\u001b[1;33m\u001b[0m\u001b[0m\n\u001b[0;32m   5273\u001b[0m                 \u001b[1;32mreturn\u001b[0m \u001b[0mself\u001b[0m\u001b[1;33m[\u001b[0m\u001b[0mname\u001b[0m\u001b[1;33m]\u001b[0m\u001b[1;33m\u001b[0m\u001b[1;33m\u001b[0m\u001b[0m\n\u001b[1;32m-> 5274\u001b[1;33m             \u001b[1;32mreturn\u001b[0m \u001b[0mobject\u001b[0m\u001b[1;33m.\u001b[0m\u001b[0m__getattribute__\u001b[0m\u001b[1;33m(\u001b[0m\u001b[0mself\u001b[0m\u001b[1;33m,\u001b[0m \u001b[0mname\u001b[0m\u001b[1;33m)\u001b[0m\u001b[1;33m\u001b[0m\u001b[1;33m\u001b[0m\u001b[0m\n\u001b[0m\u001b[0;32m   5275\u001b[0m \u001b[1;33m\u001b[0m\u001b[0m\n\u001b[0;32m   5276\u001b[0m     \u001b[1;32mdef\u001b[0m \u001b[0m__setattr__\u001b[0m\u001b[1;33m(\u001b[0m\u001b[0mself\u001b[0m\u001b[1;33m,\u001b[0m \u001b[0mname\u001b[0m\u001b[1;33m:\u001b[0m \u001b[0mstr\u001b[0m\u001b[1;33m,\u001b[0m \u001b[0mvalue\u001b[0m\u001b[1;33m)\u001b[0m \u001b[1;33m->\u001b[0m \u001b[1;32mNone\u001b[0m\u001b[1;33m:\u001b[0m\u001b[1;33m\u001b[0m\u001b[1;33m\u001b[0m\u001b[0m\n",
      "\u001b[1;31mAttributeError\u001b[0m: 'DataFrame' object has no attribute 'avg_salary'"
     ]
    }
   ],
   "source": [
    "import matplotlib.pyplot as plt\n",
    "from matplotlib import font_manager\n",
    "my_font = font_manager.FontProperties(fname='./data/simkai.ttf')\n",
    "sns.set(style='dark')\n",
    "groups = data.groupby(by='education')\n",
    "xticks = []\n",
    "for group_name,group_df in groups:\n",
    "    xticks.append(group_name)\n",
    "    plt.bar(group_name,group_df.avg_salary.mean())\n",
    "plt.xticks(xticks,fontproperties=my_font)\n",
    "plt.show()"
   ]
  },
  {
   "cell_type": "markdown",
   "metadata": {},
   "source": [
    "![](./picture/15-7.png)\n",
    "代码中我们用city进行分组，然后分别绘制了不同学历的平均薪资。  \n",
    "从图表中我们看出,博士薪资最高，硕士和本科基本持平，大专学历稍有弱势。  \n",
    "最后，我们再看看不同工作年限对薪资的影响。  \n",
    "我们同样按工作年年限进行分组，然后对比不同年限的平均薪资。  "
   ]
  },
  {
   "cell_type": "code",
   "execution_count": 16,
   "metadata": {},
   "outputs": [
    {
     "ename": "AttributeError",
     "evalue": "'DataFrame' object has no attribute 'avg_salary'",
     "output_type": "error",
     "traceback": [
      "\u001b[1;31m---------------------------------------------------------------------------\u001b[0m",
      "\u001b[1;31mAttributeError\u001b[0m                            Traceback (most recent call last)",
      "\u001b[1;32m<ipython-input-16-3819904d15c0>\u001b[0m in \u001b[0;36m<module>\u001b[1;34m\u001b[0m\n\u001b[0;32m      7\u001b[0m \u001b[1;32mfor\u001b[0m \u001b[0mgroup_name\u001b[0m\u001b[1;33m,\u001b[0m\u001b[0mgroup_df\u001b[0m \u001b[1;32min\u001b[0m \u001b[0mgroups\u001b[0m\u001b[1;33m:\u001b[0m\u001b[1;33m\u001b[0m\u001b[1;33m\u001b[0m\u001b[0m\n\u001b[0;32m      8\u001b[0m     \u001b[0mxticks\u001b[0m\u001b[1;33m.\u001b[0m\u001b[0mappend\u001b[0m\u001b[1;33m(\u001b[0m\u001b[0mgroup_name\u001b[0m\u001b[1;33m)\u001b[0m\u001b[1;33m\u001b[0m\u001b[1;33m\u001b[0m\u001b[0m\n\u001b[1;32m----> 9\u001b[1;33m     \u001b[0mplt\u001b[0m\u001b[1;33m.\u001b[0m\u001b[0mbar\u001b[0m\u001b[1;33m(\u001b[0m\u001b[0mgroup_name\u001b[0m\u001b[1;33m,\u001b[0m\u001b[0mgroup_df\u001b[0m\u001b[1;33m.\u001b[0m\u001b[0mavg_salary\u001b[0m\u001b[1;33m.\u001b[0m\u001b[0mmean\u001b[0m\u001b[1;33m(\u001b[0m\u001b[1;33m)\u001b[0m\u001b[1;33m)\u001b[0m\u001b[1;33m\u001b[0m\u001b[1;33m\u001b[0m\u001b[0m\n\u001b[0m\u001b[0;32m     10\u001b[0m \u001b[1;33m\u001b[0m\u001b[0m\n\u001b[0;32m     11\u001b[0m \u001b[0mplt\u001b[0m\u001b[1;33m.\u001b[0m\u001b[0mxticks\u001b[0m\u001b[1;33m(\u001b[0m\u001b[0mxticks\u001b[0m\u001b[1;33m,\u001b[0m\u001b[0mfontproperties\u001b[0m\u001b[1;33m=\u001b[0m\u001b[0mmy_font\u001b[0m\u001b[1;33m)\u001b[0m\u001b[1;33m\u001b[0m\u001b[1;33m\u001b[0m\u001b[0m\n",
      "\u001b[1;32md:\\program files\\python37\\lib\\site-packages\\pandas\\core\\generic.py\u001b[0m in \u001b[0;36m__getattr__\u001b[1;34m(self, name)\u001b[0m\n\u001b[0;32m   5272\u001b[0m             \u001b[1;32mif\u001b[0m \u001b[0mself\u001b[0m\u001b[1;33m.\u001b[0m\u001b[0m_info_axis\u001b[0m\u001b[1;33m.\u001b[0m\u001b[0m_can_hold_identifiers_and_holds_name\u001b[0m\u001b[1;33m(\u001b[0m\u001b[0mname\u001b[0m\u001b[1;33m)\u001b[0m\u001b[1;33m:\u001b[0m\u001b[1;33m\u001b[0m\u001b[1;33m\u001b[0m\u001b[0m\n\u001b[0;32m   5273\u001b[0m                 \u001b[1;32mreturn\u001b[0m \u001b[0mself\u001b[0m\u001b[1;33m[\u001b[0m\u001b[0mname\u001b[0m\u001b[1;33m]\u001b[0m\u001b[1;33m\u001b[0m\u001b[1;33m\u001b[0m\u001b[0m\n\u001b[1;32m-> 5274\u001b[1;33m             \u001b[1;32mreturn\u001b[0m \u001b[0mobject\u001b[0m\u001b[1;33m.\u001b[0m\u001b[0m__getattribute__\u001b[0m\u001b[1;33m(\u001b[0m\u001b[0mself\u001b[0m\u001b[1;33m,\u001b[0m \u001b[0mname\u001b[0m\u001b[1;33m)\u001b[0m\u001b[1;33m\u001b[0m\u001b[1;33m\u001b[0m\u001b[0m\n\u001b[0m\u001b[0;32m   5275\u001b[0m \u001b[1;33m\u001b[0m\u001b[0m\n\u001b[0;32m   5276\u001b[0m     \u001b[1;32mdef\u001b[0m \u001b[0m__setattr__\u001b[0m\u001b[1;33m(\u001b[0m\u001b[0mself\u001b[0m\u001b[1;33m,\u001b[0m \u001b[0mname\u001b[0m\u001b[1;33m:\u001b[0m \u001b[0mstr\u001b[0m\u001b[1;33m,\u001b[0m \u001b[0mvalue\u001b[0m\u001b[1;33m)\u001b[0m \u001b[1;33m->\u001b[0m \u001b[1;32mNone\u001b[0m\u001b[1;33m:\u001b[0m\u001b[1;33m\u001b[0m\u001b[1;33m\u001b[0m\u001b[0m\n",
      "\u001b[1;31mAttributeError\u001b[0m: 'DataFrame' object has no attribute 'avg_salary'"
     ]
    }
   ],
   "source": [
    "import matplotlib.pyplot as plt\n",
    "from matplotlib import font_manager\n",
    "my_font = font_manager.FontProperties(fname='./data/simkai.ttf')\n",
    "sns.set(style='dark')\n",
    "groups = data.groupby(by='workYear')\n",
    "xticks = []\n",
    "for group_name,group_df in groups:\n",
    "    xticks.append(group_name)\n",
    "    plt.bar(group_name,group_df.avg_salary.mean())\n",
    "\n",
    "plt.xticks(xticks,fontproperties=my_font)\n",
    "    \n",
    "plt.show()"
   ]
  },
  {
   "cell_type": "markdown",
   "metadata": {},
   "source": [
    "![](./picture/15-8.png)\n",
    "从图表中我们看出，拥有10年以上的数据分析工作经验的人平均薪资最高，并且是年限越长薪资就越高。  \n",
    "分别拷贝上面的代码运行，查看图表绘制：  "
   ]
  },
  {
   "cell_type": "code",
   "execution_count": 17,
   "metadata": {},
   "outputs": [
    {
     "ename": "ValueError",
     "evalue": "invalid literal for int() with base 10: '技能培'",
     "output_type": "error",
     "traceback": [
      "\u001b[1;31m---------------------------------------------------------------------------\u001b[0m",
      "\u001b[1;31mValueError\u001b[0m                                Traceback (most recent call last)",
      "\u001b[1;32m<ipython-input-17-7ae0449c5550>\u001b[0m in \u001b[0;36m<module>\u001b[1;34m\u001b[0m\n\u001b[0;32m     27\u001b[0m         \u001b[1;32mreturn\u001b[0m \u001b[1;33m(\u001b[0m\u001b[0mint\u001b[0m\u001b[1;33m(\u001b[0m\u001b[0mlow_salary\u001b[0m\u001b[1;33m)\u001b[0m \u001b[1;33m+\u001b[0m \u001b[0mint\u001b[0m\u001b[1;33m(\u001b[0m\u001b[0mhigh_salary\u001b[0m\u001b[1;33m)\u001b[0m\u001b[1;33m)\u001b[0m\u001b[1;33m/\u001b[0m\u001b[1;36m2\u001b[0m\u001b[1;33m\u001b[0m\u001b[1;33m\u001b[0m\u001b[0m\n\u001b[0;32m     28\u001b[0m \u001b[1;31m# 赋值\u001b[0m\u001b[1;33m\u001b[0m\u001b[1;33m\u001b[0m\u001b[1;33m\u001b[0m\u001b[0m\n\u001b[1;32m---> 29\u001b[1;33m \u001b[0mdata\u001b[0m\u001b[1;33m[\u001b[0m\u001b[1;34m'low_salary'\u001b[0m\u001b[1;33m]\u001b[0m\u001b[1;33m=\u001b[0m\u001b[0mdata\u001b[0m\u001b[1;33m.\u001b[0m\u001b[0msalary\u001b[0m\u001b[1;33m.\u001b[0m\u001b[0mapply\u001b[0m\u001b[1;33m(\u001b[0m\u001b[0msplit_salary\u001b[0m\u001b[1;33m,\u001b[0m\u001b[0mmethod\u001b[0m\u001b[1;33m=\u001b[0m\u001b[1;34m'low'\u001b[0m\u001b[1;33m)\u001b[0m\u001b[1;33m.\u001b[0m\u001b[0mastype\u001b[0m\u001b[1;33m(\u001b[0m\u001b[1;34m'int'\u001b[0m\u001b[1;33m)\u001b[0m\u001b[1;33m\u001b[0m\u001b[1;33m\u001b[0m\u001b[0m\n\u001b[0m\u001b[0;32m     30\u001b[0m \u001b[0mdata\u001b[0m\u001b[1;33m[\u001b[0m\u001b[1;34m'high_salary'\u001b[0m\u001b[1;33m]\u001b[0m\u001b[1;33m=\u001b[0m\u001b[0mdata\u001b[0m\u001b[1;33m.\u001b[0m\u001b[0msalary\u001b[0m\u001b[1;33m.\u001b[0m\u001b[0mapply\u001b[0m\u001b[1;33m(\u001b[0m\u001b[0msplit_salary\u001b[0m\u001b[1;33m,\u001b[0m\u001b[0mmethod\u001b[0m\u001b[1;33m=\u001b[0m\u001b[1;34m'high'\u001b[0m\u001b[1;33m)\u001b[0m\u001b[1;33m.\u001b[0m\u001b[0mastype\u001b[0m\u001b[1;33m(\u001b[0m\u001b[1;34m'int'\u001b[0m\u001b[1;33m)\u001b[0m\u001b[1;33m\u001b[0m\u001b[1;33m\u001b[0m\u001b[0m\n\u001b[0;32m     31\u001b[0m \u001b[0mdata\u001b[0m\u001b[1;33m[\u001b[0m\u001b[1;34m'avg_salary'\u001b[0m\u001b[1;33m]\u001b[0m\u001b[1;33m=\u001b[0m\u001b[0mdata\u001b[0m\u001b[1;33m.\u001b[0m\u001b[0msalary\u001b[0m\u001b[1;33m.\u001b[0m\u001b[0mapply\u001b[0m\u001b[1;33m(\u001b[0m\u001b[0msplit_salary\u001b[0m\u001b[1;33m,\u001b[0m\u001b[0mmethod\u001b[0m\u001b[1;33m=\u001b[0m\u001b[1;34m'avg'\u001b[0m\u001b[1;33m)\u001b[0m\u001b[1;33m\u001b[0m\u001b[1;33m\u001b[0m\u001b[0m\n",
      "\u001b[1;32md:\\program files\\python37\\lib\\site-packages\\pandas\\core\\generic.py\u001b[0m in \u001b[0;36mastype\u001b[1;34m(self, dtype, copy, errors)\u001b[0m\n\u001b[0;32m   5696\u001b[0m         \u001b[1;32melse\u001b[0m\u001b[1;33m:\u001b[0m\u001b[1;33m\u001b[0m\u001b[1;33m\u001b[0m\u001b[0m\n\u001b[0;32m   5697\u001b[0m             \u001b[1;31m# else, only a single dtype is given\u001b[0m\u001b[1;33m\u001b[0m\u001b[1;33m\u001b[0m\u001b[1;33m\u001b[0m\u001b[0m\n\u001b[1;32m-> 5698\u001b[1;33m             \u001b[0mnew_data\u001b[0m \u001b[1;33m=\u001b[0m \u001b[0mself\u001b[0m\u001b[1;33m.\u001b[0m\u001b[0m_data\u001b[0m\u001b[1;33m.\u001b[0m\u001b[0mastype\u001b[0m\u001b[1;33m(\u001b[0m\u001b[0mdtype\u001b[0m\u001b[1;33m=\u001b[0m\u001b[0mdtype\u001b[0m\u001b[1;33m,\u001b[0m \u001b[0mcopy\u001b[0m\u001b[1;33m=\u001b[0m\u001b[0mcopy\u001b[0m\u001b[1;33m,\u001b[0m \u001b[0merrors\u001b[0m\u001b[1;33m=\u001b[0m\u001b[0merrors\u001b[0m\u001b[1;33m)\u001b[0m\u001b[1;33m\u001b[0m\u001b[1;33m\u001b[0m\u001b[0m\n\u001b[0m\u001b[0;32m   5699\u001b[0m             \u001b[1;32mreturn\u001b[0m \u001b[0mself\u001b[0m\u001b[1;33m.\u001b[0m\u001b[0m_constructor\u001b[0m\u001b[1;33m(\u001b[0m\u001b[0mnew_data\u001b[0m\u001b[1;33m)\u001b[0m\u001b[1;33m.\u001b[0m\u001b[0m__finalize__\u001b[0m\u001b[1;33m(\u001b[0m\u001b[0mself\u001b[0m\u001b[1;33m)\u001b[0m\u001b[1;33m\u001b[0m\u001b[1;33m\u001b[0m\u001b[0m\n\u001b[0;32m   5700\u001b[0m \u001b[1;33m\u001b[0m\u001b[0m\n",
      "\u001b[1;32md:\\program files\\python37\\lib\\site-packages\\pandas\\core\\internals\\managers.py\u001b[0m in \u001b[0;36mastype\u001b[1;34m(self, dtype, copy, errors)\u001b[0m\n\u001b[0;32m    580\u001b[0m \u001b[1;33m\u001b[0m\u001b[0m\n\u001b[0;32m    581\u001b[0m     \u001b[1;32mdef\u001b[0m \u001b[0mastype\u001b[0m\u001b[1;33m(\u001b[0m\u001b[0mself\u001b[0m\u001b[1;33m,\u001b[0m \u001b[0mdtype\u001b[0m\u001b[1;33m,\u001b[0m \u001b[0mcopy\u001b[0m\u001b[1;33m:\u001b[0m \u001b[0mbool\u001b[0m \u001b[1;33m=\u001b[0m \u001b[1;32mFalse\u001b[0m\u001b[1;33m,\u001b[0m \u001b[0merrors\u001b[0m\u001b[1;33m:\u001b[0m \u001b[0mstr\u001b[0m \u001b[1;33m=\u001b[0m \u001b[1;34m\"raise\"\u001b[0m\u001b[1;33m)\u001b[0m\u001b[1;33m:\u001b[0m\u001b[1;33m\u001b[0m\u001b[1;33m\u001b[0m\u001b[0m\n\u001b[1;32m--> 582\u001b[1;33m         \u001b[1;32mreturn\u001b[0m \u001b[0mself\u001b[0m\u001b[1;33m.\u001b[0m\u001b[0mapply\u001b[0m\u001b[1;33m(\u001b[0m\u001b[1;34m\"astype\"\u001b[0m\u001b[1;33m,\u001b[0m \u001b[0mdtype\u001b[0m\u001b[1;33m=\u001b[0m\u001b[0mdtype\u001b[0m\u001b[1;33m,\u001b[0m \u001b[0mcopy\u001b[0m\u001b[1;33m=\u001b[0m\u001b[0mcopy\u001b[0m\u001b[1;33m,\u001b[0m \u001b[0merrors\u001b[0m\u001b[1;33m=\u001b[0m\u001b[0merrors\u001b[0m\u001b[1;33m)\u001b[0m\u001b[1;33m\u001b[0m\u001b[1;33m\u001b[0m\u001b[0m\n\u001b[0m\u001b[0;32m    583\u001b[0m \u001b[1;33m\u001b[0m\u001b[0m\n\u001b[0;32m    584\u001b[0m     \u001b[1;32mdef\u001b[0m \u001b[0mconvert\u001b[0m\u001b[1;33m(\u001b[0m\u001b[0mself\u001b[0m\u001b[1;33m,\u001b[0m \u001b[1;33m**\u001b[0m\u001b[0mkwargs\u001b[0m\u001b[1;33m)\u001b[0m\u001b[1;33m:\u001b[0m\u001b[1;33m\u001b[0m\u001b[1;33m\u001b[0m\u001b[0m\n",
      "\u001b[1;32md:\\program files\\python37\\lib\\site-packages\\pandas\\core\\internals\\managers.py\u001b[0m in \u001b[0;36mapply\u001b[1;34m(self, f, filter, **kwargs)\u001b[0m\n\u001b[0;32m    440\u001b[0m                 \u001b[0mapplied\u001b[0m \u001b[1;33m=\u001b[0m \u001b[0mb\u001b[0m\u001b[1;33m.\u001b[0m\u001b[0mapply\u001b[0m\u001b[1;33m(\u001b[0m\u001b[0mf\u001b[0m\u001b[1;33m,\u001b[0m \u001b[1;33m**\u001b[0m\u001b[0mkwargs\u001b[0m\u001b[1;33m)\u001b[0m\u001b[1;33m\u001b[0m\u001b[1;33m\u001b[0m\u001b[0m\n\u001b[0;32m    441\u001b[0m             \u001b[1;32melse\u001b[0m\u001b[1;33m:\u001b[0m\u001b[1;33m\u001b[0m\u001b[1;33m\u001b[0m\u001b[0m\n\u001b[1;32m--> 442\u001b[1;33m                 \u001b[0mapplied\u001b[0m \u001b[1;33m=\u001b[0m \u001b[0mgetattr\u001b[0m\u001b[1;33m(\u001b[0m\u001b[0mb\u001b[0m\u001b[1;33m,\u001b[0m \u001b[0mf\u001b[0m\u001b[1;33m)\u001b[0m\u001b[1;33m(\u001b[0m\u001b[1;33m**\u001b[0m\u001b[0mkwargs\u001b[0m\u001b[1;33m)\u001b[0m\u001b[1;33m\u001b[0m\u001b[1;33m\u001b[0m\u001b[0m\n\u001b[0m\u001b[0;32m    443\u001b[0m             \u001b[0mresult_blocks\u001b[0m \u001b[1;33m=\u001b[0m \u001b[0m_extend_blocks\u001b[0m\u001b[1;33m(\u001b[0m\u001b[0mapplied\u001b[0m\u001b[1;33m,\u001b[0m \u001b[0mresult_blocks\u001b[0m\u001b[1;33m)\u001b[0m\u001b[1;33m\u001b[0m\u001b[1;33m\u001b[0m\u001b[0m\n\u001b[0;32m    444\u001b[0m \u001b[1;33m\u001b[0m\u001b[0m\n",
      "\u001b[1;32md:\\program files\\python37\\lib\\site-packages\\pandas\\core\\internals\\blocks.py\u001b[0m in \u001b[0;36mastype\u001b[1;34m(self, dtype, copy, errors)\u001b[0m\n\u001b[0;32m    623\u001b[0m             \u001b[0mvals1d\u001b[0m \u001b[1;33m=\u001b[0m \u001b[0mvalues\u001b[0m\u001b[1;33m.\u001b[0m\u001b[0mravel\u001b[0m\u001b[1;33m(\u001b[0m\u001b[1;33m)\u001b[0m\u001b[1;33m\u001b[0m\u001b[1;33m\u001b[0m\u001b[0m\n\u001b[0;32m    624\u001b[0m             \u001b[1;32mtry\u001b[0m\u001b[1;33m:\u001b[0m\u001b[1;33m\u001b[0m\u001b[1;33m\u001b[0m\u001b[0m\n\u001b[1;32m--> 625\u001b[1;33m                 \u001b[0mvalues\u001b[0m \u001b[1;33m=\u001b[0m \u001b[0mastype_nansafe\u001b[0m\u001b[1;33m(\u001b[0m\u001b[0mvals1d\u001b[0m\u001b[1;33m,\u001b[0m \u001b[0mdtype\u001b[0m\u001b[1;33m,\u001b[0m \u001b[0mcopy\u001b[0m\u001b[1;33m=\u001b[0m\u001b[1;32mTrue\u001b[0m\u001b[1;33m)\u001b[0m\u001b[1;33m\u001b[0m\u001b[1;33m\u001b[0m\u001b[0m\n\u001b[0m\u001b[0;32m    626\u001b[0m             \u001b[1;32mexcept\u001b[0m \u001b[1;33m(\u001b[0m\u001b[0mValueError\u001b[0m\u001b[1;33m,\u001b[0m \u001b[0mTypeError\u001b[0m\u001b[1;33m)\u001b[0m\u001b[1;33m:\u001b[0m\u001b[1;33m\u001b[0m\u001b[1;33m\u001b[0m\u001b[0m\n\u001b[0;32m    627\u001b[0m                 \u001b[1;31m# e.g. astype_nansafe can fail on object-dtype of strings\u001b[0m\u001b[1;33m\u001b[0m\u001b[1;33m\u001b[0m\u001b[1;33m\u001b[0m\u001b[0m\n",
      "\u001b[1;32md:\\program files\\python37\\lib\\site-packages\\pandas\\core\\dtypes\\cast.py\u001b[0m in \u001b[0;36mastype_nansafe\u001b[1;34m(arr, dtype, copy, skipna)\u001b[0m\n\u001b[0;32m    872\u001b[0m         \u001b[1;31m# work around NumPy brokenness, #1987\u001b[0m\u001b[1;33m\u001b[0m\u001b[1;33m\u001b[0m\u001b[1;33m\u001b[0m\u001b[0m\n\u001b[0;32m    873\u001b[0m         \u001b[1;32mif\u001b[0m \u001b[0mnp\u001b[0m\u001b[1;33m.\u001b[0m\u001b[0missubdtype\u001b[0m\u001b[1;33m(\u001b[0m\u001b[0mdtype\u001b[0m\u001b[1;33m.\u001b[0m\u001b[0mtype\u001b[0m\u001b[1;33m,\u001b[0m \u001b[0mnp\u001b[0m\u001b[1;33m.\u001b[0m\u001b[0minteger\u001b[0m\u001b[1;33m)\u001b[0m\u001b[1;33m:\u001b[0m\u001b[1;33m\u001b[0m\u001b[1;33m\u001b[0m\u001b[0m\n\u001b[1;32m--> 874\u001b[1;33m             \u001b[1;32mreturn\u001b[0m \u001b[0mlib\u001b[0m\u001b[1;33m.\u001b[0m\u001b[0mastype_intsafe\u001b[0m\u001b[1;33m(\u001b[0m\u001b[0marr\u001b[0m\u001b[1;33m.\u001b[0m\u001b[0mravel\u001b[0m\u001b[1;33m(\u001b[0m\u001b[1;33m)\u001b[0m\u001b[1;33m,\u001b[0m \u001b[0mdtype\u001b[0m\u001b[1;33m)\u001b[0m\u001b[1;33m.\u001b[0m\u001b[0mreshape\u001b[0m\u001b[1;33m(\u001b[0m\u001b[0marr\u001b[0m\u001b[1;33m.\u001b[0m\u001b[0mshape\u001b[0m\u001b[1;33m)\u001b[0m\u001b[1;33m\u001b[0m\u001b[1;33m\u001b[0m\u001b[0m\n\u001b[0m\u001b[0;32m    875\u001b[0m \u001b[1;33m\u001b[0m\u001b[0m\n\u001b[0;32m    876\u001b[0m         \u001b[1;31m# if we have a datetime/timedelta array of objects\u001b[0m\u001b[1;33m\u001b[0m\u001b[1;33m\u001b[0m\u001b[1;33m\u001b[0m\u001b[0m\n",
      "\u001b[1;32mpandas\\_libs\\lib.pyx\u001b[0m in \u001b[0;36mpandas._libs.lib.astype_intsafe\u001b[1;34m()\u001b[0m\n",
      "\u001b[1;31mValueError\u001b[0m: invalid literal for int() with base 10: '技能培'"
     ]
    }
   ],
   "source": [
    "import pandas as pd\n",
    "data = pd.read_csv('./data/analyse_spider.csv',encoding='GBK')\n",
    "# 删除businessZones列数据\n",
    "data.drop(['businessZones'],axis=1, inplace=True)\n",
    "data.dropna(inplace=True)\n",
    "\n",
    "# 删除重复数据\n",
    "data.drop_duplicates(inplace=True)\n",
    "\n",
    "# 定义拆分的函数\n",
    "def split_salary(salary,method):\n",
    "    # 获取'-'索引值\n",
    "    position = salary.upper().find('-')\n",
    "    if position != -1: #salary值是15k-25k形式\n",
    "        low_salary = salary[:position-1]\n",
    "        high_salary= salary[position+1:len(salary)-1]\n",
    "         \n",
    "    else: #salary值是15k以上形式\n",
    "        low_salary = salary[:salary.upper().find('K')]\n",
    "        high_salary= low_salary\n",
    "    # 根据参数用以判断返回的值\n",
    "    if method == 'low':\n",
    "        return low_salary\n",
    "    elif method == 'high':\n",
    "        return high_salary   \n",
    "    elif method == 'avg':\n",
    "        return (int(low_salary) + int(high_salary))/2\n",
    "# 赋值\n",
    "data['low_salary']=data.salary.apply(split_salary,method='low').astype('int')\n",
    "data['high_salary']=data.salary.apply(split_salary,method='high').astype('int')\n",
    "data['avg_salary']=data.salary.apply(split_salary,method='avg')\n",
    "\n",
    "# 复制代码，并运行"
   ]
  },
  {
   "cell_type": "markdown",
   "metadata": {},
   "source": [
    "薪资我们就简单的分析到这里，我们简单的归纳一下我们数据展现的结果：  \n",
    "1.数据分析师的薪资的平均数是17k，最大薪资在75k，大部分分析师薪资在10k-20k之间。  \n",
    "2.北京的数据分析师薪资高于其他城市，上海和深圳稍次，杭州和苏州已经超过广州。  \n",
    "3.薪资最高的是博士，硕士和本科的薪资基本持平，大专学历稍有弱势。  \n",
    "4.工作年限越长，薪资就越高。  \n",
    "根据上面数据展现的结果可以得到这样的结论：北上广深依然是我们高薪就业地，同时工作年限和学历都是都与薪资成线性增长趋势。  \n",
    "## 本节总结  \n",
    "本案例采用的是2017年的数据，分析的结果与当下数据分析师的实际薪酬有一定的差异。  \n",
    "本案例的目的是让大家更好的了解数据分析，以及数据分析的基本流程，最终结论仅供参考。  \n",
    "如果想要更深的挖掘数据中信息，我们还需要学习更多的挖掘以及统计学的相关知识。  \n",
    "## 下节预告\n",
    "![](./picture/15-9.png)"
   ]
  },
  {
   "cell_type": "markdown",
   "metadata": {},
   "source": [
    "## 题目要求\n",
    "本练习我们使用是2019年全年的天气数据，，数据路径为/data/BJ_tianqi,本数据共有365行、7列。\n",
    "## 题目讲解\n",
    "现在根据上面的数据完成如下需求： \n",
    "1. 2019年北京哪个月的气温波动最大？   \n",
    "2. 2019年各种空气质量的占比是多少？   \n",
    "思路： 2019年北京哪个月的气温波动最大：   \n",
    "（1）根据月份进行分组   \n",
    "（2）计算每个组的温度极差（本月最高温度减去最低温度）   \n",
    "（3）比较极差的大小； 2019年各种空气质量的占比是多少：   \n",
    "（1）空气质量的占比我们可以根据空气质量列进行分组；   \n",
    "（2）获取空气质量的种类和数量；   \n",
    "（3）绘制饼图\n",
    "## 书写代码"
   ]
  },
  {
   "cell_type": "code",
   "execution_count": 22,
   "metadata": {},
   "outputs": [
    {
     "name": "stdout",
     "output_type": "stream",
     "text": [
      "(365, 7)\n",
      "         最高温度  最低温度  极差\n",
      "月份                     \n",
      "2019-08    33    18  15\n",
      "2019-06    36    18  18\n",
      "2019-07    38    19  19\n",
      "2019-01    10   -10  20\n",
      "2019-09    35    14  21\n",
      "2019-02    14    -8  22\n",
      "2019-12    10   -12  22\n",
      "2019-11    18    -6  24\n",
      "2019-04    28     2  26\n",
      "2019-03    25    -2  27\n",
      "2019-05    37    10  27\n",
      "2019-10    30     2  28\n"
     ]
    },
    {
     "data": {
      "image/png": "[encoded data removed]",
      "text/plain": [
       "<Figure size 432x288 with 1 Axes>"
      ]
     },
     "metadata": {},
     "output_type": "display_data"
    }
   ],
   "source": [
    "import pandas as pd\n",
    "\n",
    "# 2019年北京哪个月的气温波动最大\n",
    "# （1）根据月份进行分组\n",
    "# （2）计算每个组的温度极差（本月最高温度减去最低温度）\n",
    "# （3）比较极差的大小\n",
    "# 第一步： 处理数据\n",
    "# 在读取日期的时候，利用parse_dates()方法将“日期”这列数据类型转换成datetime类型，这样方便我们可以根据时间获取数据\n",
    "df = pd.read_csv('./data/BJ_tianqi.csv',parse_dates=['日期'])\n",
    "print(df.shape)\n",
    "# 由于最高温度和最低温度两列数据类型都是带有\"℃\"符号的字符串，方便计算我需要去除“℃”，并将数据类型转化成int\n",
    "df[\"最高温度\"] = df[\"最高温度\"].str.replace(\"℃\", \"\").astype('int')\n",
    "df[\"最低温度\"] = df[\"最低温度\"].str.replace(\"℃\", \"\").astype('int')\n",
    "\n",
    "# 方便分组计算，我们可以添加月份列\n",
    "df['月份'] = df['日期'].dt.to_period(\"M\")\n",
    "\n",
    "# 根据月份分组，并计算每个组的极差值\n",
    "dict1 = {\n",
    "    \"最高温度\":'max',\n",
    "    \"最低温度\":'min'\n",
    "}  \n",
    "df_group = df.groupby(by='月份').agg(dict1)\n",
    "\n",
    "# 计算每个月气温波动并，添加一列\n",
    "df_group['极差'] = df_group['最高温度']-df_group['最低温度']\n",
    "# # 根据极差进行排序\n",
    "result = df_group.sort_values('极差')\n",
    "print(result)\n",
    "# 根据结果我们可以发现，2019年中3、4、5、10月份的气温波动都是比较大，温差比较大，请注意添减衣服，不要感冒呦。\n",
    "\n",
    "\n",
    "# 2019年各种空气质量的占比是多少\n",
    "# 空气质量的占比我们可以根据空气质量列进行分组\n",
    "group_count = df.groupby(by='空气质量').count()\n",
    "# 获取空气质量的种类\n",
    "aqi_type = group_count.index.tolist()\n",
    "# 获取每个种类的数量,可以获取分组后任何的一列数据即可\n",
    "type_count = group_count['日期'].values.tolist()\n",
    "# 根据数据绘制饼图\n",
    "import matplotlib.pyplot as plt\n",
    "from matplotlib import font_manager\n",
    "my_font = font_manager.FontProperties(fname='./data/simkai.ttf',size=10)\n",
    "patches, l_text, p_text=plt.pie(type_count,labels=aqi_type,autopct=\"%1.1f%%\",)\n",
    "for t in l_text: \n",
    "    t.set_fontproperties(my_font)\n",
    "plt.show()"
   ]
  },
  {
   "cell_type": "code",
   "execution_count": null,
   "metadata": {},
   "outputs": [],
   "source": []
  },
  {
   "cell_type": "code",
   "execution_count": null,
   "metadata": {},
   "outputs": [],
   "source": []
  }
 ],
 "metadata": {
  "kernelspec": {
   "display_name": "Python 3",
   "language": "python",
   "name": "python3"
  },
  "language_info": {
   "codemirror_mode": {
    "name": "ipython",
    "version": 3
   },
   "file_extension": ".py",
   "mimetype": "text/x-python",
   "name": "python",
   "nbconvert_exporter": "python",
   "pygments_lexer": "ipython3",
   "version": "3.7.7"
  }
 },
 "nbformat": 4,
 "nbformat_minor": 4
}
