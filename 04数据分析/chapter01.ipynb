{
 "cells": [
  {
   "cell_type": "code",
   "execution_count": 8,
   "metadata": {},
   "outputs": [
    {
     "name": "stdout",
     "output_type": "stream",
     "text": [
      "      0    1   2       3  4\n",
      "0  1001   鲁班  18  150.00  男\n",
      "1  1002   小乔  19  167.00  女\n",
      "2  1003   关羽  30  180.00  男\n",
      "3  1004  蔡文姬  20  160.00  女\n",
      "4  1005  兰陵王  22  165.00  男\n",
      "<class 'pandas.core.frame.DataFrame'>\n"
     ]
    }
   ],
   "source": [
    "'''\n",
    "数据分析和计算需要用到的python库\n",
    "python在数据科学方面需要用到的库：\n",
    "a。Numpy：科学计算库。提供矩阵运算的库。\n",
    "b。Pandas：数据分析处理库\n",
    "c。scipy：数值计算库。提供数值积分和常微分方程组求解算法。提供了一个非常广泛的特定函数集合。\n",
    "d。Matplotlib：数据可视化库\n",
    "e。Scikit-learn:机器学习库\n",
    "安装顺序如下：\n",
    "1.pip install numpy\n",
    "2.pip install pandas\n",
    "3.pip install scipy\n",
    "(sudo apt-get install libatlas-base-dev gfortran //这一步是后面安装scipy所必需的.     备注：这个我没有先安装，直接就安装scipy)\n",
    "4.pip install matplotlib\n",
    "(安装matplotlib之前首先安装libpng。下载地址：http://pan.baidu.com/s/1o80C5Jk，解压进入该文件夹，输入python install setup.py。\n",
    "安装freetype，下载地址：http://pan.baidu.com/s/1dE5yvbr，解压进入该文件夹，输入python install setup.py。\n",
    "对于freetype.tar.bz2的包，先进行安装再解压，命令：yum install bzip2，bunzip2 freetype-2.6.3.tar.bz2，tar -xvf freetype-2.6.3.tar)\n",
    " 5.pip install -U scikit-learn\n",
    "pip install numpy pandas scipy matplotlib scikit-learn\n",
    "'''\n",
    "import pandas as pd\n",
    "\n",
    "#通过Series存储每个英雄的基本信息\n",
    "#创建Series\n",
    "s1 = pd.Series([1001,'鲁班','18','150.00','男'])\n",
    "s2 = pd.Series([1002,'小乔','19','167.00','女'])\n",
    "s3 = pd.Series([1003,'关羽','30','180.00','男'])\n",
    "s4 = pd.Series([1004,'蔡文姬','20','160.00','女'])\n",
    "s5 = pd.Series([1005,'兰陵王','22','165.00','男'])\n",
    "\n",
    "series_list=[s1,s2,s3,s4,s5]\n",
    "\n",
    "#创建一个DataFrame对象存储通讯录\n",
    "df=pd.DataFrame(series_list)\n",
    "\n",
    "# 打印刚刚构造的DataFrame\n",
    "'''\n",
    "整个数据被分为三部分：行索引（index），列索引（columns）及数据内容（data）\n",
    "行、列索引的值在没有自定义的时候，会被默认设置上0-N的值，索引的作用就是为了更好的认知和查询数据。\n",
    "通过上面的数据，可以看出每一列数据都是同种类型的数据，如果每一列设定一个有意义的名字，操作的时候就会更加方便。\n",
    "'''\n",
    "print(df)\n",
    "print(type(df))"
   ]
  },
  {
   "cell_type": "code",
   "execution_count": 10,
   "metadata": {},
   "outputs": [
    {
     "name": "stdout",
     "output_type": "stream",
     "text": [
      "排名                        1\n",
      "ID号                  TheShy\n",
      "年龄                       20\n",
      "评语     天不生theshy，LPL上单万古如长夜\n",
      "dtype: object\n",
      "<class 'pandas.core.series.Series'>\n"
     ]
    }
   ],
   "source": [
    "from pandas import Series,DataFrame\n",
    "'''\n",
    "Series是Pandas中最基本的对象，Series类似一种一维数组。事实上，Series 基本上就是基于 NumPy 的数组对象来的。\n",
    "和 NumPy 的数组不同，Series 能为数据自定义标签，也就是索引（index），然后通过索引来访问数组中的数据。\n",
    "一个Series其实就是一条数据，Series方法的第一个参数是data，第二个参数是index(索引)，如果没有传值会使用默认值（0-N）。\n",
    "\n",
    "index参数是我们自定义的索引值，注意：参数值的个数一定要相同。\n",
    "'''\n",
    "# 创建Series，使用默认索引\n",
    "sel =  Series(data=[1,'TheShy',20,'天不生theshy，LPL上单万古如长夜'],\n",
    "             index = ['排名','ID号','年龄','评语'])\n",
    "print(sel)\n",
    "print(type(sel))"
   ]
  },
  {
   "cell_type": "code",
   "execution_count": 12,
   "metadata": {},
   "outputs": [
    {
     "name": "stdout",
     "output_type": "stream",
     "text": [
      "red      100\n",
      "black    400\n",
      "green    300\n",
      "pink     900\n",
      "dtype: int64\n"
     ]
    }
   ],
   "source": [
    "from pandas import Series,DataFrame\n",
    "'''\n",
    "在创建Series时数据并不一定要是列表，也可以将一个字典传进去。\n",
    "当数据是字典的时候，会将字典的键作为索引，字典的值作为索引对应的数据值。\n",
    "\n",
    "Series是一组带索引数组，与list相似，一般我们用其承装一条数据或者一行数据。多个Series可组成一个DataFrame。\n",
    "'''\n",
    "\n",
    "\n",
    "# 将字典转换为Series\n",
    "dic={\"red\":100,\"black\":400,\"green\":300,\"pink\":900}\n",
    "se2=Series(data=dic)\n",
    "print(se2)"
   ]
  },
  {
   "cell_type": "code",
   "execution_count": 15,
   "metadata": {},
   "outputs": [
    {
     "name": "stdout",
     "output_type": "stream",
     "text": [
      "    位置     ID号  年龄\n",
      "a   上单  TheShy  20\n",
      "b   打野      小天  19\n",
      "c   中单   Faker  23\n",
      "d  ADC     Uzi  22\n",
      "e   辅助    Ming  21\n"
     ]
    }
   ],
   "source": [
    "from pandas import Series,DataFrame\n",
    "\n",
    "'''\n",
    "DataFrame（数据表）是一种 2 维数据结构，数据以表格的形式存储，分成若干行和列。通过 DataFrame，你能很方便地处理数据。\n",
    "调用DataFrame()可以将多种格式的数据转换为DataFrame对象，它的的三个参数data、index和columns分别为数据、行索引和列索引。\n",
    "DataFrame的数据结构类似Excel或者SQL中表，现在请Pandas帮忙创建出一套英雄联盟王者之师。\n",
    "'''\n",
    "\n",
    "\n",
    "# 创建二维列表存储选手信息\n",
    "lol_list = [['上单','TheShy',20],\n",
    "            ['打野','小天',19],\n",
    "            ['中单','Faker',23],\n",
    "            ['ADC','Uzi',22],\n",
    "            ['辅助','Ming',21]]\n",
    "# 创建dataframe\n",
    "df = DataFrame(data=lol_list,\n",
    "              index=['a','b','c','d','e'],\n",
    "               columns=['位置','ID号','年龄'])\n",
    "'''\n",
    "lol_list是使用一个二维列表，将每一个队员的信息存储到一个列表中。\n",
    "调用DataFrame()将二维列表转换为DataFrame对象，行列索引使用的是默认0-N数字代表。\n",
    "有没有办法在创建DataFrame对象的时候为每一列设定一个有意义的名字呢？\n",
    "\n",
    "可以通过给DataFrame构造函数中的参数`index`,`columns`传值，来设定DataFrame的中的行列索引的值。\n",
    "'''\n",
    "print(df)"
   ]
  },
  {
   "cell_type": "code",
   "execution_count": 17,
   "metadata": {},
   "outputs": [
    {
     "name": "stdout",
     "output_type": "stream",
     "text": [
      "    位置     ID号  year\n",
      "0   上单  TheShy    20\n",
      "1   打野      小天    19\n",
      "2   中单   Faker    23\n",
      "3  ADC     Uzi    22\n",
      "4   辅助    Ming    21\n"
     ]
    }
   ],
   "source": [
    "from pandas import Series,DataFrame\n",
    "import pandas as pd\n",
    "'''\n",
    "当然我们也可以使用字典来创建一个DataFrame数据。\n",
    "可以看出当字典格式的数据被dataframe整理后，字典的键将作为数据的列索引值。\n",
    "通过 DataFrame，你能很方便地处理数据。常见的操作比如选取、替换行或列的数据，\n",
    "还能重组数据表、修改索引、多重筛选等。我们基本上可以把 DataFrame 理解成一组采用同样索引的 Series 的集合。\n",
    "'''\n",
    "# 使用字典创建\n",
    "dic={\n",
    "    '位置': ['上单', '打野', '中单', 'ADC','辅助'],\n",
    "    'ID号': ['TheShy', '小天', 'Faker', 'Uzi', 'Ming'],\n",
    "    'year': [20, 19, 23, 22,21]}\n",
    "df=pd.DataFrame(dic)\n",
    "print(df)"
   ]
  },
  {
   "cell_type": "code",
   "execution_count": 19,
   "metadata": {},
   "outputs": [
    {
     "name": "stdout",
     "output_type": "stream",
     "text": [
      "          姓名    饰演    武器            语录\n",
      "0    小罗伯特·唐尼   钢铁侠  钢铁战衣      和平,我热爱和平\n",
      "1    克里斯·埃文斯  美国队长    盾牌  最好的选择就是重新开始 \n",
      "2    斯嘉丽·约翰逊   黑寡妇   寡妇蜇   嘿，大兄弟，太阳下山了\n",
      "3  克里斯·海姆斯沃斯    雷神  雷神之锤     要用知识来打败无知\n"
     ]
    }
   ],
   "source": [
    "'''\n",
    "第一步:明确目标\n",
    "下面信息记录了天团中一部分人员信息，包括演员姓名、饰演、技能、语录，现在需要创建一个DataFrame将这些信息保存起来。\n",
    "第二步:分析过程\n",
    "创造DataFrame的流程如下：\n",
    "\n",
    "\n",
    "1. 将表格中每一列数据作为字典中的一个值。\n",
    "2. 将列名作为字典中的键。\n",
    "3. 调用DataFrame的构造方法来创建DataFrame。\n",
    "4. 在屏幕打印DataFrame的数据\n",
    "第三步:代码实现\n",
    "'''\n",
    "dic={\n",
    "    '姓名': ['小罗伯特·唐尼', '克里斯·埃文斯', '斯嘉丽·约翰逊', '克里斯·海姆斯沃斯'],\n",
    "    '饰演': ['钢铁侠', '美国队长', '黑寡妇', '雷神'],\n",
    "    '武器': ['钢铁战衣', '盾牌', '寡妇蜇', '雷神之锤'],\n",
    "    '语录': ['和平,我热爱和平','最好的选择就是重新开始 ','嘿，大兄弟，太阳下山了','要用知识来打败无知']}\n",
    "\n",
    "\n",
    "from pandas import Series,DataFrame\n",
    "import pandas as pd\n",
    "\n",
    "df = DataFrame(dic)\n",
    "print(df)"
   ]
  },
  {
   "cell_type": "code",
   "execution_count": null,
   "metadata": {},
   "outputs": [],
   "source": [
    "# 使用字典创建\n",
    "'''\n",
    "第一步:明确目标\n",
    "渣男不可怕就怕渣男有“文化”，下面是一个渣男的标准备忘录，现在需要创建一个DataFrame来保存这些信息（你认为渣男还需要记录哪些信息，可以自行添加🙂）。\n",
    "\n",
    "第二步:分析过程\n",
    "创造DataFrame的流程如下：\n",
    "\n",
    "\n",
    "1. 将表格中的每一列创建成Series，作为字典的值。\n",
    "2. 将列名作为字典中的键。\n",
    "3. 调用DataFrame的构造方法来创建DataFrame。\n",
    "4. 在屏幕打印DataFrame的数据\n",
    "第三步:代码实现\n",
    "'''\n",
    "from pandas import Series,DataFrame\n",
    "import pandas as pd\n",
    "\n",
    "index_list = ['No1','No2','No3']\n",
    "dic={\n",
    "    '姓名': Series(['娜娜','淼淼','依依'],index=index_list),\n",
    "    '类型': Series(['可爱单纯','风骚火辣','性感高冷'],index=index_list),\n",
    "    '爱好': Series(['逛街、电影、爱吃甜','喝酒、蹦迪、爱吃辣','看书、烘焙、爱吃酸'],index=index_list),\n",
    "    '时间': Series(['2019-2-14去看电影','2019-2-16去蹦迪','2019-2-18去烘焙'],index=index_list)\n",
    "    }\n",
    "\n",
    "df = DataFrame(data=dic, index=index_list)\n",
    "print(df)"
   ]
  }
 ],
 "metadata": {
  "kernelspec": {
   "display_name": "Python 3",
   "language": "python",
   "name": "python3"
  },
  "language_info": {
   "codemirror_mode": {
    "name": "ipython",
    "version": 3
   },
   "file_extension": ".py",
   "mimetype": "text/x-python",
   "name": "python",
   "nbconvert_exporter": "python",
   "pygments_lexer": "ipython3",
   "version": "3.7.7"
  }
 },
 "nbformat": 4,
 "nbformat_minor": 4
}
