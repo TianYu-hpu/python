{
 "cells": [
  {
   "cell_type": "markdown",
   "metadata": {},
   "source": [
    "# 新时代的石油\n",
    "随着全球经济数字化转型的发展，各行各业都积累了大量的数据。具有从大数据分析及数据科学中获取独特见解的公司，可以拥有关键信息优势，从而在第四次工业革命（也称为数字时代）中蓬勃发展。  \n",
    "数据分析最重要的作用就像是古代军师，掌握敌我双方的粮草、兵马、路程、天气等等因素的数据，再进行统计分析，从而得出什么时间什么地点用什么策略，这样就可以运筹帷幄之中，决胜千里之外。  \n",
    "第一次听见数据分析这个词时，感觉它就像我们心中的女神，只可远观不可亵玩。此言差矣，其实数据分析早已存在于我们的工作和生活中了。  \n",
    "公司中的HR，通过分析员工的打卡数据，可以重新制定考核制度。  \n",
    "每个月还信用卡的时候，我们是不是要看一下，那么多的血都流到哪里，心里暗暗发誓，以后一些没必要的血就不要流了。  \n",
    "你喜欢上一个姑娘，你会搜集她的兴趣、爱好、星座、闺蜜、乃至三围等等各种信息吧，然后想自己怎么能搭讪上、约出来，碰壁了会继续找原因、想办法，这里面你都有在做数据分析呢。  \n",
    "总之，从数据里面寻求真正有价值的信息，并对实际的工作或者生活有一定的指导作用，这个过程就叫数据分析。  \n",
    "## 关羽的青龙偃月刀\n",
    "可以做数据分析的语言有很多，我们为什么要学习Python数据分析？  \n",
    "掌握一门编程语言有时候可以让你更加高效的处理几十万甚至上亿条数据。  \n",
    "Python目前已经成为数据科学领域最为重要的编程语言，几乎所有的公司在进行数据分析师招聘的时候都对Python有明确的要求。  \n",
    "Python的应用领域非常广，例如爬虫、自动化报表、网页制作以及分析以后进一步进行数据挖掘等。  \n",
    "社区则提供了丰富的第三方数据分析工具包，Pandas、Numpy、Matplotlib、Seaborn等，可以让我们的数据分析更加轻松。  \n",
    "Python提供了非常丰富的数据分析的工具，我们可以利用这些工具完成数据分析流程的前五步：  \n",
    "![分析流程](./picture/1-1.png)\n",
    "Pandas是Python最重要的数据分析工具包，是Panel Data Analysis的缩写，也是目前最为流行的Python数据分析工具。最初被作为金融数据分析工具由全球资产管理公司AQR于2008年4月开发，并于2009年底开源出来。  \n",
    "Matplotlib和Seaborn是最为常用的数据可视化的工具包，解决如何通过数据来绘制图表，来更好的展示数据。  \n",
    "NumPy是一个用于数值运算的Python库，专门对数值运算进行优化，最大的优势是快。Pandas底层数据结构采用NumPy来实现，我们也可以把Pandas理解成是对NumPy的封装，让数据分析的一些功能的实现变得更容易。  \n",
    "在接下来的课程中我将着重讲解这几个工具包在数据分析的使用。  \n",
    "![内容](./picture/1-2.png)\n",
    "工欲善其事必先利其器，在数据分析课中，我们升级了全新的代码编辑框，功能更强大了哦。  \n",
    "认识一下全新的在线编辑器，这是由开课吧创建，能够“边学边武”的独门武器。  \n",
    "![内容](./picture/1-3.png)\n",
    "来看一下全新编辑器  \n",
    "代码框：我们在这里输入对计算机的指令；也就是代码，其实它就是程序员的工作台。  \n",
    "终端：它是显示您代码运行结果的地方，也就是用户看到的屏幕。  \n",
    "运行：点击运行，就可以将代码框中的代码运行，并在终端展示此段代码的结果。  \n",
    "+号：可以随意增加代码框，随时随地，想码就码。  \n",
    "新版编辑器的功能强大在于，它可以直接将代码结果呈现为图片，这让我们在学习数据分析和可视化的过程当中，更能直观的感受到代码的神奇之处。\n",
    "好，那我们正式开始学习。  \n",
    "\n",
    "人生没有如果，任尔东西南北风，认识数据是运筹帷幄的第一步。  \n",
    "![内容](./picture/1-4.png)\n",
    "## Pandas简介\n",
    "![pandas简介](./picture/1-5.png)\n",
    "Pandas 是基于NumPy 的一种工具，该工具是为了解决数据分析任务而创建的。Pandas 纳入了大量库和一些标准的数据模型，提供了高效地操作大型数据集所需的工具。Pandas提供了大量能使我们快速便捷地处理数据的函数和方法。  \n",
    "了解了Pandas的基本概念，再看一下Pandas在数据分析方面有哪些作用呢？  \n",
    "![pandas简介](./picture/1-6.png)\n",
    "Pandas提供的数据结构和函数的设计，将使表格化数据的工作快速、简单、有表现力。所以利用Pandas进行数据操作、预处理、清洗是Python数据分析中的重要技能。  \n",
    "\n",
    "## Pandas的数据结构\n",
    "常见的数据存储形式有Excel和数据库这两种，他们的存储有什么共同点呢？  \n",
    "![pandas简介](./picture/1-7.png)\n",
    "不管是Excel还是数据库他们存储数据的方式都是以表格样式进行存储，有行、有列，并且每一行和每一列都有自己的索引，例如：name，age等这些就是列索引，可以方便我们获取数据。  \n",
    "不难看出每一行的数据其实就是我们存储的一条数据信息。  \n",
    "巧了，Pandas的DataFrame的结构就和他们相同，Series的结构和表中的行的结构相同。  \n",
    "在下面的代码框中，我们使用代码创建出一套英雄团队。点击运行按钮，检查你的成果。  "
   ]
  },
  {
   "cell_type": "code",
   "execution_count": 1,
   "metadata": {},
   "outputs": [
    {
     "name": "stdout",
     "output_type": "stream",
     "text": [
      "      0    1   2       3  4\n",
      "0  1001   鲁班  18  150.00  男\n",
      "1  1002   小乔  19  167.00  女\n",
      "2  1003   关羽  30  180.00  男\n",
      "3  1004  蔡文姬  20  160.00  女\n",
      "4  1005  兰陵王  22  165.00  男\n",
      "<class 'pandas.core.frame.DataFrame'>\n"
     ]
    }
   ],
   "source": [
    "'''\n",
    "数据分析和计算需要用到的python库\n",
    "python在数据科学方面需要用到的库：\n",
    "a。Numpy：科学计算库。提供矩阵运算的库。\n",
    "b。Pandas：数据分析处理库\n",
    "c。scipy：数值计算库。提供数值积分和常微分方程组求解算法。提供了一个非常广泛的特定函数集合。\n",
    "d。Matplotlib：数据可视化库\n",
    "e。Scikit-learn:机器学习库\n",
    "安装顺序如下：\n",
    "1.pip install numpy\n",
    "2.pip install pandas\n",
    "3.pip install scipy\n",
    "(sudo apt-get install libatlas-base-dev gfortran //这一步是后面安装scipy所必需的.     备注：这个我没有先安装，直接就安装scipy)\n",
    "4.pip install matplotlib\n",
    "(安装matplotlib之前首先安装libpng。下载地址：http://pan.baidu.com/s/1o80C5Jk，解压进入该文件夹，输入python install setup.py。\n",
    "安装freetype，下载地址：http://pan.baidu.com/s/1dE5yvbr，解压进入该文件夹，输入python install setup.py。\n",
    "对于freetype.tar.bz2的包，先进行安装再解压，命令：yum install bzip2，bunzip2 freetype-2.6.3.tar.bz2，tar -xvf freetype-2.6.3.tar)\n",
    " 5.pip install -U scikit-learn\n",
    "pip install numpy pandas scipy matplotlib scikit-learn\n",
    "'''\n",
    "import pandas as pd\n",
    "\n",
    "#通过Series存储每个英雄的基本信息\n",
    "#创建Series\n",
    "s1 = pd.Series([1001,'鲁班','18','150.00','男'])\n",
    "s2 = pd.Series([1002,'小乔','19','167.00','女'])\n",
    "s3 = pd.Series([1003,'关羽','30','180.00','男'])\n",
    "s4 = pd.Series([1004,'蔡文姬','20','160.00','女'])\n",
    "s5 = pd.Series([1005,'兰陵王','22','165.00','男'])\n",
    "\n",
    "series_list=[s1,s2,s3,s4,s5]\n",
    "\n",
    "#创建一个DataFrame对象存储通讯录\n",
    "df=pd.DataFrame(series_list)\n",
    "\n",
    "# 打印刚刚构造的DataFrame\n",
    "'''\n",
    "整个数据被分为三部分：行索引（index），列索引（columns）及数据内容（data）\n",
    "行、列索引的值在没有自定义的时候，会被默认设置上0-N的值，索引的作用就是为了更好的认知和查询数据。\n",
    "通过上面的数据，可以看出每一列数据都是同种类型的数据，如果每一列设定一个有意义的名字，操作的时候就会更加方便。\n",
    "'''\n",
    "print(df)\n",
    "print(type(df))"
   ]
  },
  {
   "cell_type": "markdown",
   "metadata": {},
   "source": [
    "我们根据df的打印结果进一步解析DataFrame的结构。  \n",
    "![](./picture/1-8.png)\n",
    "整个数据被分为三部分：行索引（index），列索引（columns）及数据内容（data）。  \n",
    "行、列索引的值在没有自定义的时候，会被默认设置上0-N的值，索引的作用就是为了更好的认知和查询数据。  \n",
    "通过上面的数据，可以看出每一列数据都是同种类型的数据，如果每一列设定一个有意义的名字，操作的时候就会更加方便。  \n",
    "## Series的创建\n",
    "Series是Pandas中最基本的对象，Series类似一种一维数组。事实上，Series 基本上就是基于 NumPy 的数组对象来的。和 NumPy 的数组不同，Series 能为数据自定义标签，也就是索引（index），然后通过索引来访问数组中的数据。  \n",
    "接下来我们开始创建Series，看看一看它的结构有什么不同。\n",
    "一个Series其实就是一条数据，Series方法的第一个参数是data，第二个参数是index(索引)，如果没有传值会使用默认值（0-N）。  \n",
    "接下来我们来自定义一下我们的索引  \n",
    "index参数是我们自定义的索引值，注意：参数值的个数一定要相同。  \n",
    "在创建Series时数据并不一定要是列表，也可以将一个字典传进去。  \n",
    "当数据是字典的时候，会将字典的键作为索引，字典的值作为索引对应的数据值。  \n",
    "综上可以看出，Series是一组带索引数组，与list相似，一般我们用其承装一条数据或者一行数据。多个Series可组成一个DataFrame。  "
   ]
  },
  {
   "cell_type": "code",
   "execution_count": 3,
   "metadata": {},
   "outputs": [
    {
     "name": "stdout",
     "output_type": "stream",
     "text": [
      "0                       1\n",
      "1                  TheShy\n",
      "2                      20\n",
      "3    天不生theshy，LPL上单万古如长夜\n",
      "dtype: object\n"
     ]
    }
   ],
   "source": [
    "# 导入Series\n",
    "from pandas import Series,DataFrame\n",
    "\n",
    "# 创建Series，使用默认索引\n",
    "sel =  Series(data=[1,'TheShy',20,'天不生theshy，LPL上单万古如长夜'])\n",
    "print(sel)"
   ]
  },
  {
   "cell_type": "code",
   "execution_count": 2,
   "metadata": {},
   "outputs": [
    {
     "name": "stdout",
     "output_type": "stream",
     "text": [
      "排名                        1\n",
      "ID号                  TheShy\n",
      "年龄                       20\n",
      "评语     天不生theshy，LPL上单万古如长夜\n",
      "dtype: object\n",
      "<class 'pandas.core.series.Series'>\n"
     ]
    }
   ],
   "source": [
    "from pandas import Series,DataFrame\n",
    "'''\n",
    "Series是Pandas中最基本的对象，Series类似一种一维数组。事实上，Series 基本上就是基于 NumPy 的数组对象来的。\n",
    "和 NumPy 的数组不同，Series 能为数据自定义标签，也就是索引（index），然后通过索引来访问数组中的数据。\n",
    "一个Series其实就是一条数据，Series方法的第一个参数是data，第二个参数是index(索引)，如果没有传值会使用默认值（0-N）。\n",
    "\n",
    "index参数是我们自定义的索引值，注意：参数值的个数一定要相同。\n",
    "'''\n",
    "# 创建Series，使用默认索引\n",
    "sel =  Series(data=[1,'TheShy',20,'天不生theshy，LPL上单万古如长夜'],\n",
    "             index = ['排名','ID号','年龄','评语'])\n",
    "print(sel)\n",
    "print(type(sel))"
   ]
  },
  {
   "cell_type": "code",
   "execution_count": 12,
   "metadata": {},
   "outputs": [
    {
     "name": "stdout",
     "output_type": "stream",
     "text": [
      "red      100\n",
      "black    400\n",
      "green    300\n",
      "pink     900\n",
      "dtype: int64\n"
     ]
    }
   ],
   "source": [
    "from pandas import Series,DataFrame\n",
    "'''\n",
    "在创建Series时数据并不一定要是列表，也可以将一个字典传进去。\n",
    "当数据是字典的时候，会将字典的键作为索引，字典的值作为索引对应的数据值。\n",
    "\n",
    "Series是一组带索引数组，与list相似，一般我们用其承装一条数据或者一行数据。多个Series可组成一个DataFrame。\n",
    "'''\n",
    "\n",
    "\n",
    "# 将字典转换为Series\n",
    "dic={\"red\":100,\"black\":400,\"green\":300,\"pink\":900}\n",
    "se2=Series(data=dic)\n",
    "print(se2)"
   ]
  },
  {
   "cell_type": "markdown",
   "metadata": {},
   "source": [
    "## DataFrame的创建\n",
    "DataFrame（数据表）是一种 2 维数据结构，数据以表格的形式存储，分成若干行和列。通过 DataFrame，你能很方便地处理数据。  \n",
    "调用DataFrame()可以将多种格式的数据转换为DataFrame对象，它的的三个参数data、index和columns分别为数据、行索引和列索引。  \n",
    "DataFrame的数据结构类似Excel或者SQL中表，现在请Pandas帮忙创建出一套英雄联盟王者之师。 \n",
    "lol_list是使用一个二维列表，将每一个队员的信息存储到一个列表中。  \n",
    "调用DataFrame()将二维列表转换为DataFrame对象，行列索引使用的是默认0-N数字代表。  \n",
    "有没有办法在创建DataFrame对象的时候为每一列设定一个有意义的名字呢？  \n",
    "我们可以通过给DataFrame构造函数中的参数`index`,`columns`传值，来设定DataFrame的中的行列索引的值。  "
   ]
  },
  {
   "cell_type": "code",
   "execution_count": 15,
   "metadata": {},
   "outputs": [
    {
     "name": "stdout",
     "output_type": "stream",
     "text": [
      "    位置     ID号  年龄\n",
      "a   上单  TheShy  20\n",
      "b   打野      小天  19\n",
      "c   中单   Faker  23\n",
      "d  ADC     Uzi  22\n",
      "e   辅助    Ming  21\n"
     ]
    }
   ],
   "source": [
    "from pandas import Series,DataFrame\n",
    "\n",
    "'''\n",
    "DataFrame（数据表）是一种 2 维数据结构，数据以表格的形式存储，分成若干行和列。通过 DataFrame，你能很方便地处理数据。\n",
    "调用DataFrame()可以将多种格式的数据转换为DataFrame对象，它的的三个参数data、index和columns分别为数据、行索引和列索引。\n",
    "DataFrame的数据结构类似Excel或者SQL中表，现在请Pandas帮忙创建出一套英雄联盟王者之师。\n",
    "'''\n",
    "\n",
    "\n",
    "# 创建二维列表存储选手信息\n",
    "lol_list = [['上单','TheShy',20],\n",
    "            ['打野','小天',19],\n",
    "            ['中单','Faker',23],\n",
    "            ['ADC','Uzi',22],\n",
    "            ['辅助','Ming',21]]\n",
    "# 创建dataframe\n",
    "df = DataFrame(data=lol_list,\n",
    "              index=['a','b','c','d','e'],\n",
    "               columns=['位置','ID号','年龄'])\n",
    "'''\n",
    "lol_list是使用一个二维列表，将每一个队员的信息存储到一个列表中。\n",
    "调用DataFrame()将二维列表转换为DataFrame对象，行列索引使用的是默认0-N数字代表。\n",
    "有没有办法在创建DataFrame对象的时候为每一列设定一个有意义的名字呢？\n",
    "\n",
    "可以通过给DataFrame构造函数中的参数`index`,`columns`传值，来设定DataFrame的中的行列索引的值。\n",
    "'''\n",
    "print(df)"
   ]
  },
  {
   "cell_type": "markdown",
   "metadata": {},
   "source": [
    "我们也可以使用字典来创建一个DataFrame数据。  \n",
    "通过结果可以看出当字典格式的数据被dataframe整理后，字典的键将作为数据的列索引值。  \n",
    "通过 DataFrame，你能很方便地处理数据。常见的操作比如选取、替换行或列的数据，还能重组数据表、修改索引、多重筛选等。我们基本上可以把 DataFrame 理解成一组采用同样索引的 Series 的集合。    "
   ]
  },
  {
   "cell_type": "code",
   "execution_count": 17,
   "metadata": {},
   "outputs": [
    {
     "name": "stdout",
     "output_type": "stream",
     "text": [
      "    位置     ID号  year\n",
      "0   上单  TheShy    20\n",
      "1   打野      小天    19\n",
      "2   中单   Faker    23\n",
      "3  ADC     Uzi    22\n",
      "4   辅助    Ming    21\n"
     ]
    }
   ],
   "source": [
    "from pandas import Series,DataFrame\n",
    "import pandas as pd\n",
    "'''\n",
    "当然我们也可以使用字典来创建一个DataFrame数据。\n",
    "可以看出当字典格式的数据被dataframe整理后，字典的键将作为数据的列索引值。\n",
    "通过 DataFrame，你能很方便地处理数据。常见的操作比如选取、替换行或列的数据，\n",
    "还能重组数据表、修改索引、多重筛选等。我们基本上可以把 DataFrame 理解成一组采用同样索引的 Series 的集合。\n",
    "'''\n",
    "# 使用字典创建\n",
    "dic={\n",
    "    '位置': ['上单', '打野', '中单', 'ADC','辅助'],\n",
    "    'ID号': ['TheShy', '小天', 'Faker', 'Uzi', 'Ming'],\n",
    "    'year': [20, 19, 23, 22,21]}\n",
    "df=pd.DataFrame(dic)\n",
    "print(df)"
   ]
  },
  {
   "cell_type": "markdown",
   "metadata": {},
   "source": [
    "![](./picture/1-9.png)"
   ]
  },
  {
   "cell_type": "markdown",
   "metadata": {},
   "source": [
    "## 题目要求\n",
    "下面信息记录了天团中一部分人员信息，包括演员姓名、饰演、技能、语录，现在需要创建一个DataFrame将这些信息保存起来。  \n",
    "## 题目讲解\n",
    "创造DataFrame的流程如下：  \n",
    "1. 将表格中每一列数据作为字典中的一个值。  \n",
    "2. 将列名作为字典中的键。  \n",
    "3. 调用DataFrame的构造方法来创建DataFrame。  \n",
    "4. 在屏幕打印DataFrame的数据  \n",
    "## 书写代码"
   ]
  },
  {
   "cell_type": "code",
   "execution_count": 4,
   "metadata": {},
   "outputs": [
    {
     "name": "stdout",
     "output_type": "stream",
     "text": [
      "          姓名    饰演    武器            语录\n",
      "0    小罗伯特·唐尼   钢铁侠  钢铁战衣      和平,我热爱和平\n",
      "1    克里斯·埃文斯  美国队长    盾牌  最好的选择就是重新开始 \n",
      "2    斯嘉丽·约翰逊   黑寡妇   寡妇蜇   嘿，大兄弟，太阳下山了\n",
      "3  克里斯·海姆斯沃斯    雷神  雷神之锤     要用知识来打败无知\n"
     ]
    }
   ],
   "source": [
    "dic={\n",
    "    '姓名': ['小罗伯特·唐尼', '克里斯·埃文斯', '斯嘉丽·约翰逊', '克里斯·海姆斯沃斯'],\n",
    "    '饰演': ['钢铁侠', '美国队长', '黑寡妇', '雷神'],\n",
    "    '武器': ['钢铁战衣', '盾牌', '寡妇蜇', '雷神之锤'],\n",
    "    '语录': ['和平,我热爱和平','最好的选择就是重新开始 ','嘿，大兄弟，太阳下山了','要用知识来打败无知']}\n",
    "\n",
    "\n",
    "from pandas import Series,DataFrame\n",
    "import pandas as pd\n",
    "\n",
    "df = DataFrame(dic)\n",
    "print(df)"
   ]
  },
  {
   "cell_type": "markdown",
   "metadata": {},
   "source": [
    "## 题目要求\n",
    "第一步:明确目标\n",
    "渣男不可怕就怕渣男有“文化”，下面是一个渣男的标准备忘录，现在需要创建一个DataFrame来保存这些信息（你认为渣男还需要记录哪些信息，可以自行添加🙂）。  \n",
    "## 题目讲解\n",
    "第二步:分析过程  \n",
    "创造DataFrame的流程如下：  \n",
    "1. 将表格中的每一列创建成Series，作为字典的值。  \n",
    "2. 将列名作为字典中的键。  \n",
    "3. 调用DataFrame的构造方法来创建DataFrame。  \n",
    "4. 在屏幕打印DataFrame的数据  \n",
    "## 代码实现\n",
    "第三步:代码实现  "
   ]
  },
  {
   "cell_type": "code",
   "execution_count": null,
   "metadata": {},
   "outputs": [],
   "source": [
    "# 使用字典创建\n",
    "\n",
    "from pandas import Series,DataFrame\n",
    "import pandas as pd\n",
    "\n",
    "index_list = ['No1','No2','No3']\n",
    "dic={\n",
    "    '姓名': Series(['娜娜','淼淼','依依'],index=index_list),\n",
    "    '类型': Series(['可爱单纯','风骚火辣','性感高冷'],index=index_list),\n",
    "    '爱好': Series(['逛街、电影、爱吃甜','喝酒、蹦迪、爱吃辣','看书、烘焙、爱吃酸'],index=index_list),\n",
    "    '时间': Series(['2019-2-14去看电影','2019-2-16去蹦迪','2019-2-18去烘焙'],index=index_list)\n",
    "    }\n",
    "\n",
    "df = DataFrame(data=dic, index=index_list)\n",
    "print(df)"
   ]
  }
 ],
 "metadata": {
  "kernelspec": {
   "display_name": "Python 3",
   "language": "python",
   "name": "python3"
  },
  "language_info": {
   "codemirror_mode": {
    "name": "ipython",
    "version": 3
   },
   "file_extension": ".py",
   "mimetype": "text/x-python",
   "name": "python",
   "nbconvert_exporter": "python",
   "pygments_lexer": "ipython3",
   "version": "3.7.7"
  }
 },
 "nbformat": 4,
 "nbformat_minor": 4
}
