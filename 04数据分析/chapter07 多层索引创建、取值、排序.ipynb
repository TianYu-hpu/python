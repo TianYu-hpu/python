{
 "cells": [
  {
   "cell_type": "markdown",
   "metadata": {},
   "source": [
    "# 课程介绍    \n",
    "  多层索引是Pandas中一个比较核心的概念，允许你在一个轴向上拥有多个索引层级，许多同学不能处理复杂的数据，最大的问题在于没法灵活的处理多层索引。\n",
    "![多层pandas](./picture/7-1.png)\n",
    "看到这两个图的时候，我们不由自主的发出一声感叹：“这不就是对数据进行多列分组的结果吗？”。没错，groupby方法就可以生成带有多层级索引的结果。\n",
    "\n",
    "本节我们将一起学习多层索引的相关内容\n",
    "![本节知识点](./picture/7-2.png)\n",
    "我们根据下图学生期中和期末的成绩，演示Series多层索引的创建方法。\n",
    "![本节知识点](./picture/7-3.png)"
   ]
  },
  {
   "cell_type": "code",
   "execution_count": 1,
   "metadata": {},
   "outputs": [
    {
     "name": "stdout",
     "output_type": "stream",
     "text": [
      "张三  期中    1\n",
      "    期末    2\n",
      "李四  期中    3\n",
      "    期末    4\n",
      "王五  期中    5\n",
      "    期末    6\n",
      "dtype: int64\n"
     ]
    }
   ],
   "source": [
    "'''\n",
    "多层索引的创建方法\n",
    "'''\n",
    "import pandas as pd\n",
    "s = pd.Series([1,2,3,4,5,6],index=[['张三','张三','李四','李四','王五','王五'],\n",
    "                                   ['期中','期末','期中','期末','期中','期末']])\n",
    "print(s)"
   ]
  },
  {
   "cell_type": "markdown",
   "metadata": {},
   "source": [
    "从图中数据可以看出，张三那一列是数据的第一层索引，期中那一列是数据的第二层索引，而第二层索引值是和数据一一对应的。  \n",
    "但是，我们在创建的时候发现，也需要将名字和考试阶段一一对应，才可以。  \n",
    "![](./picture/7-4.png)\n",
    "现在，我们将数据增加几个科目的成绩，演示DataFrame多层索引的创建方法。  \n",
    "![](./picture/7-5.png)\n",
    "由于成绩的数据比较多，我们将使用numpy的随机数方法构建成绩数据。  \n",
    "numpy会在后续的课程中讲解，现在大家先体验一下，如何使用numpy构建实验数据：  \n",
    "import numpy as np是导入numpy并改名为np。  \n",
    "np.random.randint(0,100,size=(6,3))是使用numpy中的随机模块random中，生成随机整数方法randint，里面的参数size是指定生成6行3列的数据，并且每个数字的范围在0到100之间。  \n",
    "现在，我们知道了实验数据如何创建，下面我们根据Series的创建方法创建多层索引的DataFrame。  "
   ]
  },
  {
   "cell_type": "code",
   "execution_count": 2,
   "metadata": {},
   "outputs": [
    {
     "name": "stdout",
     "output_type": "stream",
     "text": [
      "<class 'numpy.ndarray'>\n",
      "[[46 58 91]\n",
      " [23 75 78]\n",
      " [58 49 32]\n",
      " [42  2 15]\n",
      " [67 20 56]\n",
      " [38 32 14]]\n"
     ]
    }
   ],
   "source": [
    "import numpy as np\n",
    "data = np.random.randint(0, 100, size=(6, 3))\n",
    "print(type(data))\n",
    "print(data)"
   ]
  },
  {
   "cell_type": "code",
   "execution_count": 3,
   "metadata": {},
   "outputs": [
    {
     "name": "stdout",
     "output_type": "stream",
     "text": [
      "       Java  Web  Python\n",
      "张三 期中     6   23      65\n",
      "   期末    94    2      99\n",
      "李四 期中    42   26      72\n",
      "   期末    44   62      92\n",
      "王五 期中    91   28       7\n",
      "   期末    51   52      66\n"
     ]
    }
   ],
   "source": [
    "#根据series的创建爱你方法创建多层索引的dataframe\n",
    "import pandas as pd\n",
    "import numpy as np\n",
    "\n",
    "data = np.random.randint(0, 100, size=(6, 3))\n",
    "df = pd.DataFrame(data, index=[['张三','张三','李四','李四','王五','王五'],\n",
    "                             ['期中','期末','期中','期末','期中','期末']],\n",
    "                      columns=['Java','Web','Python'])\n",
    "print(df)"
   ]
  },
  {
   "cell_type": "markdown",
   "metadata": {},
   "source": [
    "我们虽然成功的创建了DataFrame的多层索引，但是有一个问题，在设置索引的时候会有很多重复的索引值，如何才能简化索引的写法呢？  \n",
    "Pandas为了解决这个问题，提供了一个创建多层索引的构造方法。  \n",
    "pd.MultiIndex.from_product()构建索引的方式，对我们这些平凡的人来说会好理解一些。  \n",
    "首先，确定每一层索引的值什么，然后以列表的形势传给from_product()方法即可  \n",
    "我们成功创建了DataFrame的多层索引，而且你会发现，我们只需要关注每层索引的值都有哪些就可以了。  \n",
    "【混世宝典】[names,exam]列表中的位置不同，产生的索引也会不同。  "
   ]
  },
  {
   "cell_type": "code",
   "execution_count": 5,
   "metadata": {},
   "outputs": [
    {
     "name": "stdout",
     "output_type": "stream",
     "text": [
      "       Java  Web  Python\n",
      "张三 期中    88   38      98\n",
      "   期末    65   74      42\n",
      "李四 期中    78   35      51\n",
      "   期末     6    5      73\n",
      "王五 期中     6   70      36\n",
      "   期末    60   21      88\n"
     ]
    }
   ],
   "source": [
    "import numpy as np\n",
    "\n",
    "data = np.random.randint(0,100,size=(6,3))\n",
    "names = ['张三','李四','王五']\n",
    "exam = ['期中','期末']\n",
    "index = pd.MultiIndex.from_product([names,exam])\n",
    "df = pd.DataFrame(data,index=index,columns=['Java','Web','Python'])\n",
    "print(df)"
   ]
  },
  {
   "cell_type": "code",
   "execution_count": 6,
   "metadata": {},
   "outputs": [
    {
     "name": "stdout",
     "output_type": "stream",
     "text": [
      "       Java  Web  Python\n",
      "期中 张三    19   34      88\n",
      "   李四    52   41      48\n",
      "   王五    73   21      76\n",
      "期末 张三    25   92      54\n",
      "   李四    86    0      78\n",
      "   王五    97   54      36\n"
     ]
    }
   ],
   "source": [
    "import pandas as pd\n",
    "import numpy as np\n",
    "\n",
    "data = np.random.randint(0,100,size=(6,3))\n",
    "names = ['张三','李四','王五']\n",
    "exam = ['期中','期末']\n",
    "index = pd.MultiIndex.from_product([exam,names])\n",
    "df = pd.DataFrame(data,index=index,columns=['Java','Web','Python'])\n",
    "print(df)"
   ]
  },
  {
   "cell_type": "markdown",
   "metadata": {},
   "source": [
    "经过上面的两段代码，你是否已经找到了规律，下面我们一起总结一下：\n",
    "第一：from_product([exam,names])会将列表中第一个元素作为最外层索引，依次类推；  \n",
    "第二：列表中元素值的对应关系，如下图：  \n",
    "![picture](./picture/7-6.png)\n",
    "## 多层索引的取值\n",
    "创建不是我们的目的，我们的目的是如何从多层索引中获取到我们想要的数据。 \n",
    "可以直接使用[]的方式取最外面的一个层级s['张三']  \n",
    "注意：[]取值方式，不可直接使用最外层以外的其他层级，例如：s['期末']  \n",
    "使用[]的方式,获取某个数据:s['张三','期末']  \n",
    "还有什么需要注意的吗？  \n",
    "注意：['张三','期末']他们的顺序不能变。剥洋葱原则，从外到内一层一层的剥。  \n",
    "使用[]的切片，获取数据s[:,'期中']  \n",
    "分别复制上面的代码到代码框内运行，观察结果：  \n",
    "大家是否还记得loc和iloc的使用呢？  \n",
    "loc使用的是标签索引，iloc使用的是位置索引。  \n",
    "loc的使用方式和[]的方式基本一样：  \n",
    "但是，iloc的取值并不会受多层索引影响，只会根据数据的位置索引进行取值  "
   ]
  },
  {
   "cell_type": "code",
   "execution_count": 7,
   "metadata": {},
   "outputs": [
    {
     "name": "stdout",
     "output_type": "stream",
     "text": [
      "张三  期中    1\n",
      "    期末    2\n",
      "李四  期中    3\n",
      "    期末    4\n",
      "王五  期中    5\n",
      "    期末    6\n",
      "dtype: int64\n",
      "1\n",
      "张三    1\n",
      "李四    3\n",
      "王五    5\n",
      "dtype: int64\n",
      "-------------------------------\n",
      "期中    1\n",
      "期末    2\n",
      "dtype: int64\n",
      "1\n",
      "张三    1\n",
      "李四    3\n",
      "王五    5\n",
      "dtype: int64\n",
      "1\n"
     ]
    }
   ],
   "source": [
    "import pandas as pd\n",
    "s = pd.Series([1,2,3,4,5,6],index=[['张三','张三','李四','李四','王五','王五'],\n",
    "                                   ['期中','期末','期中','期末','期中','期末']])\n",
    "print(s)\n",
    "print(s[\"张三\", \"期中\"])\n",
    "print(s[:,\"期中\"])\n",
    "print(\"-------------------------------\")\n",
    "print(s.loc['张三'])\n",
    "print(s.loc['张三','期中'])\n",
    "print(s.loc[:,'期中'])\n",
    "print(s.iloc[0])"
   ]
  },
  {
   "cell_type": "markdown",
   "metadata": {},
   "source": [
    "但是，iloc的取值并不会受多层索引影响，只会根据数据的位置索引进行取值。  \n",
    "![](./picture/7-7.png)\n",
    "下面的三种方式都可以获取张三期中各科成绩。  \n",
    "注意：DataFrame中对行索引的时候和Series有一个同样的注意点，就是无法直接对二级索引直接进行索引，必须让二级索引变成一级索引后才能对其进行索引！  "
   ]
  },
  {
   "cell_type": "code",
   "execution_count": 25,
   "metadata": {},
   "outputs": [
    {
     "name": "stdout",
     "output_type": "stream",
     "text": [
      "       Java  Web  Python\n",
      "张三 期中    22   97      57\n",
      "   期末    12   27       9\n",
      "李四 期中    99   47      56\n",
      "   期末    93   52      77\n",
      "王五 期中    42   22      18\n",
      "   期末    75    0      21\n",
      "Java      22\n",
      "Web       97\n",
      "Python    57\n",
      "Name: (张三, 期中), dtype: int32\n",
      "Java      22\n",
      "Web       97\n",
      "Python    57\n",
      "Name: 期中, dtype: int32\n",
      "Java      22\n",
      "Web       97\n",
      "Python    57\n",
      "Name: (张三, 期中), dtype: int32\n"
     ]
    }
   ],
   "source": [
    "import pandas as pd\n",
    "import numpy as np\n",
    "#size参数是指定生成6行3列的数组\n",
    "data = np.random.randint(0,100,size=(6,3))\n",
    "names = ['张三','李四','王五']\n",
    "exam = ['期中','期末']\n",
    "index = pd.MultiIndex.from_product([names,exam])\n",
    "df = pd.DataFrame(data,index=index,columns=['Java','Web','Python'])\n",
    "print(df)\n",
    "print(df.loc[\"张三\", \"期中\"])\n",
    "print(df.loc[\"张三\"].loc[\"期中\"])\n",
    "print(df.loc[(\"张三\", \"期中\")])"
   ]
  },
  {
   "cell_type": "markdown",
   "metadata": {},
   "source": [
    "# 多层索引的排序\n",
    "有时候，我们需要将分组或创建出来的多层索引数据，根据索引值进行排序。  \n",
    "现在我们就需要明确默认是如何排序的？还有就是如何指定某一个索引列进行排序？  \n",
    "为方便大家理解，我们先创建一个简单的多层索引数据  \n",
    "创建的数据效果如下图：  \n",
    "![](./picture/7-8.png)\n",
    "DataFrame按行索引排序的方法是sort_index()，接下来我们看一下sort_index()是如何对多层索引进行排序。  \n",
    "默认状态下的排序：  \n",
    "代码片段 \n",
    "df.sort_index()  \n",
    "为了方便大家理解，默认状态下的排序结果图如下：  \n",
    "![](./picture/7-9.png)\n",
    "通过结果可以看出每一层都会根据索引值进行相应的升序排列。  \n",
    "df.sort_index()中的level参数可以指定是否按照指定的层级进行排列，第一层级索引值为0，第二层级索引值为1。  \n",
    "当level=0时，会根据第一层索引值进行降序排序：  \n",
    "```\n",
    "df.sort_index(level=0,ascending=False)\n",
    "```\n",
    "![](./picture/7-10.png)\n",
    "通过结果可以看出每一层都会根据第一层索引值进行相应的降序排列。  \n",
    "当level=1时，会根据第二层索引值进行降序排序：  \n",
    "代码片段  \n",
    "```\n",
    "df.sort_index(level=1,ascending=False)\n",
    "```\n",
    "![](./picture/7-11.png)\n",
    "通过结果可以看出数据会根据第二层索引值进行相应的降序排列，如果索引值相同时会根据其他层索引值排列。  \n",
    "通过上面的几个排序发现，可以通过level设置排序的索引层级，其他层索引也会根据其排序规则进行排序。  "
   ]
  },
  {
   "cell_type": "code",
   "execution_count": 8,
   "metadata": {},
   "outputs": [
    {
     "name": "stdout",
     "output_type": "stream",
     "text": [
      "     Java  Web  Python\n",
      "b 2    68    9       6\n",
      "  1    94   81      40\n",
      "  3    18   85      35\n",
      "c 2     2   54      66\n",
      "  1    84   48      28\n",
      "  3     2   69      84\n",
      "a 2    13   80      98\n",
      "  1     3   70      80\n",
      "  3    21   80      74\n",
      "多层索引排序\n",
      "     Java  Web  Python\n",
      "a 1     3   70      80\n",
      "  2    13   80      98\n",
      "  3    21   80      74\n",
      "b 1    94   81      40\n",
      "  2    68    9       6\n",
      "  3    18   85      35\n",
      "c 1    84   48      28\n",
      "  2     2   54      66\n",
      "  3     2   69      84\n",
      "-----------------\n"
     ]
    },
    {
     "data": {
      "text/html": [
       "<div>\n",
       "<style scoped>\n",
       "    .dataframe tbody tr th:only-of-type {\n",
       "        vertical-align: middle;\n",
       "    }\n",
       "\n",
       "    .dataframe tbody tr th {\n",
       "        vertical-align: top;\n",
       "    }\n",
       "\n",
       "    .dataframe thead th {\n",
       "        text-align: right;\n",
       "    }\n",
       "</style>\n",
       "<table border=\"1\" class=\"dataframe\">\n",
       "  <thead>\n",
       "    <tr style=\"text-align: right;\">\n",
       "      <th></th>\n",
       "      <th></th>\n",
       "      <th>Java</th>\n",
       "      <th>Web</th>\n",
       "      <th>Python</th>\n",
       "    </tr>\n",
       "  </thead>\n",
       "  <tbody>\n",
       "    <tr>\n",
       "      <th>a</th>\n",
       "      <th>1</th>\n",
       "      <td>3</td>\n",
       "      <td>70</td>\n",
       "      <td>80</td>\n",
       "    </tr>\n",
       "    <tr>\n",
       "      <th>b</th>\n",
       "      <th>1</th>\n",
       "      <td>94</td>\n",
       "      <td>81</td>\n",
       "      <td>40</td>\n",
       "    </tr>\n",
       "    <tr>\n",
       "      <th>c</th>\n",
       "      <th>1</th>\n",
       "      <td>84</td>\n",
       "      <td>48</td>\n",
       "      <td>28</td>\n",
       "    </tr>\n",
       "    <tr>\n",
       "      <th>a</th>\n",
       "      <th>2</th>\n",
       "      <td>13</td>\n",
       "      <td>80</td>\n",
       "      <td>98</td>\n",
       "    </tr>\n",
       "    <tr>\n",
       "      <th>b</th>\n",
       "      <th>2</th>\n",
       "      <td>68</td>\n",
       "      <td>9</td>\n",
       "      <td>6</td>\n",
       "    </tr>\n",
       "    <tr>\n",
       "      <th>c</th>\n",
       "      <th>2</th>\n",
       "      <td>2</td>\n",
       "      <td>54</td>\n",
       "      <td>66</td>\n",
       "    </tr>\n",
       "    <tr>\n",
       "      <th>a</th>\n",
       "      <th>3</th>\n",
       "      <td>21</td>\n",
       "      <td>80</td>\n",
       "      <td>74</td>\n",
       "    </tr>\n",
       "    <tr>\n",
       "      <th>b</th>\n",
       "      <th>3</th>\n",
       "      <td>18</td>\n",
       "      <td>85</td>\n",
       "      <td>35</td>\n",
       "    </tr>\n",
       "    <tr>\n",
       "      <th>c</th>\n",
       "      <th>3</th>\n",
       "      <td>2</td>\n",
       "      <td>69</td>\n",
       "      <td>84</td>\n",
       "    </tr>\n",
       "  </tbody>\n",
       "</table>\n",
       "</div>"
      ],
      "text/plain": [
       "     Java  Web  Python\n",
       "a 1     3   70      80\n",
       "b 1    94   81      40\n",
       "c 1    84   48      28\n",
       "a 2    13   80      98\n",
       "b 2    68    9       6\n",
       "c 2     2   54      66\n",
       "a 3    21   80      74\n",
       "b 3    18   85      35\n",
       "c 3     2   69      84"
      ]
     },
     "execution_count": 8,
     "metadata": {},
     "output_type": "execute_result"
    }
   ],
   "source": [
    "import pandas as pd\n",
    "data = np.random.randint(0,100,size=(9,3))\n",
    "key1 = ['b','c','a']\n",
    "key2 = [2,1,3]\n",
    "index = pd.MultiIndex.from_product([key1,key2])\n",
    "df = pd.DataFrame(data,index=index,columns=['Java','Web','Python'])\n",
    "print(df)\n",
    "print(\"多层索引排序\")\n",
    "'''\n",
    "DataFrame按行索引排序的方法是sort_index()，接下来我们看一下sort_index()是如何对多层索引进行排序。\n",
    "df.sort_index()\n",
    "'''\n",
    "print(df.sort_index())\n",
    "print(\"-----------------\")\n",
    "'''\n",
    "df.sort_index()中的level参数可以指定是否按照指定的层级进行排列，第一层级索引值为0，第二层级索引值为1。\n",
    "当level=0时，会根据第一层索引值进行降序排序\n",
    "'''\n",
    "df.sort_index(level=1,ascending=True)"
   ]
  },
  {
   "cell_type": "markdown",
   "metadata": {},
   "source": [
    "# 本章总结\n",
    "今天的内容就告一段落了，本节课我们学习了多层索引的创建、多层索引的取值（重点）以及多层索引的排序。  \n",
    "最后，我们来总结一下绘制这些图像的知识点：  \n",
    "![本章总结](./picture/7-12.png)"
   ]
  },
  {
   "cell_type": "markdown",
   "metadata": {},
   "source": [
    "# 练习\n",
    "## 题目要求\n",
    "本次练习我们使用2017中国城市分级名单数据，共有300多条电影数据，每条数据包含7列信息，文件的路径为/data/china_city_list.xlsx，\n",
    "\n",
    "## 数据详情\n",
    "\n",
    "City: 城市中文名称缩写\n",
    "City_FullName: 城市中文全称\n",
    "City_EN: 城市英文名称\n",
    "Province: 省中文名\n",
    "Province_EN：省英文名\n",
    "Region：区域划分（西、南、东、北\n",
    "Tier：城市等级（一线、二线、三线、四线、五线）\n",
    "题目讲解\n",
    "根据上面的数据，计算出我国南部所有城市中一线城市的占比是多少？\n",
    "## 书写代码"
   ]
  },
  {
   "cell_type": "code",
   "execution_count": 13,
   "metadata": {},
   "outputs": [
    {
     "name": "stdout",
     "output_type": "stream",
     "text": [
      "南部所有城市中一线城市的占比是6.35%\n"
     ]
    }
   ],
   "source": [
    "import pandas as pd\n",
    "data = pd.read_excel('./data/china_city_list.xlsx')\n",
    "\n",
    "# 根据区域和等级分组\n",
    "groups = data.groupby(by=['Region','Tier'])\n",
    "\n",
    "# 计算出所有区域内各个等级城市的数量\n",
    "groups_count = groups.count()\n",
    "\n",
    "# 计算出南部所有等级城市的总数量\n",
    "south_all_count = groups_count.loc['South']['City'].sum()\n",
    "\n",
    "# 南部所有城市中一线城市的数量\n",
    "south_t1_count = groups_count.loc['South','Tier 1']['City']\n",
    "\n",
    "# 计算一线城市的占比\n",
    "accounted = south_t1_count/south_all_count\n",
    "\n",
    "print('南部所有城市中一线城市的占比是{}'.format(\"%.2f%%\" % (accounted * 100)))"
   ]
  },
  {
   "cell_type": "markdown",
   "metadata": {},
   "source": [
    "# 练习\n",
    "## 题目要求\n",
    "本次练习我们继续使用2017中国城市分级名单数据，路径为/data/china_city_list.xlsx\n",
    "## 题目讲解\n",
    "计算出我国各个区域内不同等级城市的占比是多少？\n",
    "## 书写代码"
   ]
  },
  {
   "cell_type": "code",
   "execution_count": 11,
   "metadata": {},
   "outputs": [
    {
     "name": "stdout",
     "output_type": "stream",
     "text": [
      "East所有城市中 Tier 1城市的占比是9.80%\n",
      "East所有城市中 Tier 2城市的占比是23.53%\n",
      "East所有城市中 Tier 3城市的占比是35.29%\n",
      "East所有城市中 Tier 5城市的占比是31.37%\n",
      "North所有城市中 Tier 1城市的占比是4.72%\n",
      "North所有城市中 Tier 2城市的占比是5.66%\n",
      "North所有城市中 Tier 3城市的占比是23.58%\n",
      "North所有城市中 Tier 5城市的占比是66.04%\n",
      "South所有城市中 Tier 1城市的占比是6.35%\n",
      "South所有城市中 Tier 2城市的占比是11.11%\n",
      "South所有城市中 Tier 3城市的占比是23.81%\n",
      "South所有城市中 Tier 5城市的占比是58.73%\n",
      "West所有城市中 Tier 1城市的占比是2.40%\n",
      "West所有城市中 Tier 2城市的占比是3.20%\n",
      "West所有城市中 Tier 3城市的占比是8.00%\n",
      "West所有城市中 Tier 5城市的占比是86.40%\n"
     ]
    }
   ],
   "source": [
    "import pandas as pd\n",
    "data = pd.read_excel('./data/china_city_list.xlsx')\n",
    "groups = data.groupby(by=['Region','Tier'])\n",
    "\n",
    "# 计算出所有区域内各个等级城市的数量\n",
    "groups_count = groups.count()\n",
    "# 获取分组后的索引\n",
    "index_list = groups_count.index.tolist()\n",
    "\n",
    "for value_tuple in index_list:\n",
    "    # 区域内所有等级城市的总数量\n",
    "    all_count = groups_count.loc[value_tuple[0]]['City'].sum()\n",
    "\n",
    "    # 区域内各个城市等级的数量\n",
    "    t_count = groups_count.loc[value_tuple[0],value_tuple[1]]['City']\n",
    "    \n",
    "    accounted = \"%.2f%%\" % (t_count/all_count * 100)\n",
    "    \n",
    "    print('{}所有城市中{}城市的占比是{}'.format(value_tuple[0],value_tuple[1],accounted))"
   ]
  }
 ],
 "metadata": {
  "kernelspec": {
   "display_name": "Python 3",
   "language": "python",
   "name": "python3"
  },
  "language_info": {
   "codemirror_mode": {
    "name": "ipython",
    "version": 3
   },
   "file_extension": ".py",
   "mimetype": "text/x-python",
   "name": "python",
   "nbconvert_exporter": "python",
   "pygments_lexer": "ipython3",
   "version": "3.7.7"
  }
 },
 "nbformat": 4,
 "nbformat_minor": 4
}
