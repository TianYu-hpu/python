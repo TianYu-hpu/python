{
 "cells": [
  {
   "cell_type": "markdown",
   "metadata": {},
   "source": [
    "# 数据的写入\n",
    "![](./picture/3-1.png)\n",
    "我们可以将数据写入到文件中进行永久性的保存，支持的文件格式有HTML、CSV、JSON、Excel。  \n",
    "csv是最为常见的以纯文本文件存储数据文件的格式，它的优点是通用性很强，不受操作系统以及具体的软件的限制。我们以写入csv为例，看一下pandas是如何是将数据写入csv文件中。  \n"
   ]
  },
  {
   "cell_type": "code",
   "execution_count": 1,
   "metadata": {},
   "outputs": [
    {
     "name": "stdout",
     "output_type": "stream",
     "text": [
      "Index(['Unnamed: 0', '姓名', '年龄', '薪资', '婚姻状况'], dtype='object')\n"
     ]
    }
   ],
   "source": [
    "from pandas import Series,DataFrame\n",
    "import pandas as pd\n",
    "\n",
    "# 使用字典创建\n",
    "index_list = ['001','002','003','004','005','006','007','008','009','010']\n",
    "name_list = ['李白','王昭君','诸葛亮','狄仁杰','孙尚香','妲己','周瑜','张飞','王昭君','大乔']\n",
    "age_list = [25,28,27,25,30,29,25,32,28,26]\n",
    "salary_list = ['10k','12.5k','20k','14k','12k','17k','18k','21k','22k','21.5k']\n",
    "marital_list = ['NO','NO','YES','YES','NO','NO','NO','YES','NO','YES']\n",
    "dic={\n",
    "    '姓名': Series(data=name_list,index=index_list),\n",
    "    '年龄': Series(data=age_list,index=index_list),\n",
    "    '薪资': Series(data=salary_list,index=index_list),\n",
    "    '婚姻状况': Series(data=marital_list,index=index_list)\n",
    "    }\n",
    "df=DataFrame(dic) \n",
    "\n",
    "# 写入csv，path_or_buf为写入文本文件\n",
    "# df.to_csv(path_or_buf='./People_Information.csv', encoding='utf_8_sig')\n",
    "# print('end')"
   ]
  },
  {
   "cell_type": "markdown",
   "metadata": {},
   "source": [
    "在上面的代码里，我们创建了一个DataFrame，接着通过to_csv()方法将DataFrame保存为csv文件。  \n",
    "从结果中可以发现，to_csv()保存数据时，df的行索引作为一列被输出到csv文件中。  \n",
    "如何在保存csv文件的时候，不存储DataFrame的行索引信息呢，我们看下面的解决方法。  \n",
    "代码片段  \n",
    "```\n",
    "df.to_csv(path_or_buf='./People_Information.csv',index=False,encoding='utf_8_sig')\n",
    "```\n",
    "在to_csv方法中将参数index设置为False就可以不存储DataFrame的行索引信息。   \n",
    "在to_csv方法参数中设置encoding='utf_8_sig'，此举为何呢？   \n",
    "![](./picture/3-2.png)\n",
    "因为to_csv()方法生成csv文件时，打开文件时都是乱码，encoding参数设置“utf_8_sig”后乱码就会消失。  \n",
    "## 数据的读取  \n",
    "数据的存储我们发现很简单，调用to_csv()后设置文件存储路径后就可以了。  \n",
    "人生就是要反复的折腾，现在我们看看是如何从csv文件将数据读取出来的。  \n",
    "运行下面的代码，看一下与上面保存的数据是否一致。  "
   ]
  },
  {
   "cell_type": "code",
   "execution_count": 4,
   "metadata": {},
   "outputs": [
    {
     "name": "stdout",
     "output_type": "stream",
     "text": [
      "   Unnamed: 0   姓名  年龄     薪资 婚姻状况\n",
      "0           1   李白  25    10k   NO\n",
      "1           2  王昭君  28  12.5k   NO\n",
      "2           3  诸葛亮  27    20k  YES\n",
      "3           4  狄仁杰  25    14k  YES\n",
      "4           5  孙尚香  30    12k   NO\n",
      "5           6   妲己  29    17k   NO\n",
      "6           7   周瑜  25    18k   NO\n",
      "7           8   张飞  32    21k  YES\n",
      "8           9  王昭君  28    22k   NO\n",
      "9          10   大乔  26  21.5k  YES\n",
      "(10, 5)\n"
     ]
    }
   ],
   "source": [
    "import pandas as pd\n",
    "df = pd.read_csv('./People_Information.csv')\n",
    "print(df)\n",
    "print(df.shape)"
   ]
  },
  {
   "cell_type": "markdown",
   "metadata": {},
   "source": [
    "根据结果我们可以看出，调用read_csv()方法并传入文件的路径，就可以将数据读取出来并且是DataFrame类型。  \n",
    "还可以看出，read_csv()默认会将文件中的第一行作为数据的列索引。  \n",
    "![](./picture/3-3.png)\n",
    "如果csv文件的第一行或者其他行不满足我们的需求时，我们就不能再屈服在它的淫威下了，我们要自己修改。\n",
    "![](./picture/3-4.png)\n",
    "当csv数据的第一行是一条脏数据，不符合我们要求，如上图。\n",
    "可以利用read_excel()中的header参数进行选择哪一行作为我们的列索引。  "
   ]
  },
  {
   "cell_type": "code",
   "execution_count": 7,
   "metadata": {},
   "outputs": [
    {
     "name": "stdout",
     "output_type": "stream",
     "text": [
      "Index(['aa', ' bb', ' bb.1', ' dd', ' ee', ' ff'], dtype='object')\n",
      "   ID       Type  Title  FirstName  MiddleName     LastName\n",
      "0   1   Employee               Ken           J      Sánchez\n",
      "1   2   Employee             Terri         Lee        Duffy\n",
      "2   3   Employee           Roberto               Tamburello\n",
      "3   4   Employee               Rob                  Walters\n",
      "4   5   Employee    Ms.       Gail           A     Erickson\n"
     ]
    }
   ],
   "source": [
    "import pandas as pd\n",
    "people = pd.read_csv('./data/People1.csv',header = 0)\n",
    "print(people.columns)\n",
    "\n",
    "people = pd.read_csv('./data/People1.csv',header = 1)\n",
    "print(people.head())"
   ]
  },
  {
   "cell_type": "markdown",
   "metadata": {},
   "source": [
    "read_csv()的header参数默认是0，取第一行的值，可以根据具体的要求设置header的值来确定列索引。  \n",
    "如果都不满足的你的要求，可以将header设置为None，列索引值会使用默认的1、2、3、4，之后在自行设置。  \n",
    "【江湖秘籍】当指定了header的值，读出来的数据就是从该行开始向下切片，该行以上的数据会被忽略。    \n",
    "一个Excel文件可以创建多个表，然后在不同的表中存储不同数据，这种形式的文件很常见。但是要注意csv文件不存在多个sheet的问题。  \n",
    "![](./picture/3-5.png)\n",
    "所以，如果是Excel文件就需要考虑，如何从Excel中读取出其中的一个表。  \n",
    "Excel文件的读取和csv的读取方式相似，read_csv()读取csv文件，read_excel()读取Excel文件。  "
   ]
  },
  {
   "cell_type": "code",
   "execution_count": 9,
   "metadata": {},
   "outputs": [
    {
     "name": "stdout",
     "output_type": "stream",
     "text": [
      "   ID Name\n",
      "0   0   zs\n",
      "1   1   li\n"
     ]
    }
   ],
   "source": [
    "import pandas as pd\n",
    "sheet = pd.read_excel('./data/sheet.xlsx')\n",
    "print(sheet.head())"
   ]
  },
  {
   "cell_type": "markdown",
   "metadata": {},
   "source": [
    "to_csv()会比to_excel()少一个sheet_name的参数，这个参数就是可以指定表的名字。  "
   ]
  },
  {
   "cell_type": "code",
   "execution_count": 13,
   "metadata": {},
   "outputs": [
    {
     "name": "stdout",
     "output_type": "stream",
     "text": [
      "   ID Name\n",
      "0   0   zs\n",
      "1   1   li\n",
      "   ID  age\n",
      "0   0   18\n",
      "1   1   19\n"
     ]
    }
   ],
   "source": [
    "import pandas as pd\n",
    "sheet1 = pd.read_excel('./data/sheet.xlsx',sheet_name='Sheet1')\n",
    "print(sheet1.head())\n",
    "\n",
    "sheet2 = pd.read_excel('./data/sheet.xlsx',sheet_name='Sheet2')\n",
    "print(sheet2.head())"
   ]
  },
  {
   "cell_type": "markdown",
   "metadata": {},
   "source": [
    "![](./picture/3-6.png)"
   ]
  },
  {
   "cell_type": "markdown",
   "metadata": {},
   "source": [
    "## 题目要求\n",
    "从数据集中选取5个球员，组成自己的球队。\n",
    "## 题目讲解\n",
    "\n",
    "1. 球员信息存储在csv中，路径为/data/course_data/data_analysis/players.csv\n",
    "2. 打印前5条了解数据的基本信息；\n",
    "3. 随机获取5条数据。\n",
    "\n",
    "## 书写代码"
   ]
  },
  {
   "cell_type": "code",
   "execution_count": 17,
   "metadata": {},
   "outputs": [
    {
     "name": "stdout",
     "output_type": "stream",
     "text": [
      "            player   height   weight                           college  born  \\\n",
      "0  Curly Armstrong      180       77                Indiana University  1918   \n",
      "1     Cliff Barker      188       83            University of Kentucky  1921   \n",
      "2    Leo Barnhorst      193       86          University of Notre Dame  1924   \n",
      "3       Ed Bartels      196       88   North Carolina State University  1925   \n",
      "4      Ralph Beard      178       79            University of Kentucky  1927   \n",
      "\n",
      "     birth_city  birth_state Unnamed: 7  \n",
      "0                                   NaN  \n",
      "1      Yorktown      Indiana        NaN  \n",
      "2                                   NaN  \n",
      "3                                   NaN  \n",
      "4   Hardinsburg     Kentucky        NaN  \n",
      "player                          Skip Harlicka\n",
      " height                                   185\n",
      " weight                                    83\n",
      " college         University of South Carolina\n",
      " born                                    1946\n",
      " birth_city                                  \n",
      " birth_state                                 \n",
      "Unnamed: 7                                NaN\n",
      "Name: 759, dtype: object\n",
      "player                      Omar Cook\n",
      " height                           185\n",
      " weight                            86\n",
      " college         St. Johns University\n",
      " born                            1982\n",
      " birth_city                  Brooklyn\n",
      " birth_state                 New York\n",
      "Unnamed: 7                        NaN\n",
      "Name: 2921, dtype: object\n",
      "player                   Clint McDaniel\n",
      " height                             193\n",
      " weight                              81\n",
      " college         University of Arkansas\n",
      " born                              1972\n",
      " birth_city                       Tulsa\n",
      " birth_state                   Oklahoma\n",
      "Unnamed: 7                          NaN\n",
      "Name: 2415, dtype: object\n",
      "player                     Dave Twardzik\n",
      " height                              185\n",
      " weight                               79\n",
      " college         Old Dominion University\n",
      " born                               1950\n",
      " birth_city                      Hershey\n",
      " birth_state                Pennsylvania\n",
      "Unnamed: 7                           NaN\n",
      "Name: 1215, dtype: object\n",
      "player                      Bob Feerick\n",
      " height                             190\n",
      " weight                              86\n",
      " college         Santa Clara University\n",
      " born                              1920\n",
      " birth_city               San Francisco\n",
      " birth_state                 California\n",
      "Unnamed: 7                          NaN\n",
      "Name: 50, dtype: object\n"
     ]
    }
   ],
   "source": [
    "import pandas as pd\n",
    "import random\n",
    "# 1. 读取数据\n",
    "players = pd.read_csv('./data/players.csv')\n",
    "# 2. 打印前5条了解数据的基本信息\n",
    "print(players.head())\n",
    "# 3. 随机获取5条信息\n",
    "index_list = players.index.tolist()\n",
    "for i in range(0,5):\n",
    "    value = index_list[random.randint(0,len(index_list))]\n",
    "    msg = players.iloc[value]\n",
    "    print(msg)"
   ]
  },
  {
   "cell_type": "markdown",
   "metadata": {},
   "source": [
    "## 题目要求\n",
    "在这个练习中，我们会读取好莱坞电影信息的csv文件，并统计出数据集中共有多少个导演。  \n",
    "## 题目讲解\n",
    "1. 电影信息存储在csv中，路径为./data/movie_data.csv   \n",
    "2. 获取导演名字信息并算出一共多少个导演。  \n",
    "\n",
    "## 书写代码"
   ]
  },
  {
   "cell_type": "code",
   "execution_count": 23,
   "metadata": {},
   "outputs": [
    {
     "name": "stdout",
     "output_type": "stream",
     "text": [
      "   Unnamed: 0   color       director_name   num_critic_for_reviews   duration  \\\n",
      "0           0   Color       James Cameron                      723        178   \n",
      "1           1   Color      Gore Verbinski                      302        169   \n",
      "2           2   Color          Sam Mendes                      602        148   \n",
      "3           3   Color   Christopher Nolan                      813        164   \n",
      "4           5   Color      Andrew Stanton                      462        132   \n",
      "\n",
      "    director_facebook_likes   actor_3_facebook_likes       actor_2_name  \\\n",
      "0                         0                      855   Joel David Moore   \n",
      "1                       563                     1000      Orlando Bloom   \n",
      "2                         0                      161       Rory Kinnear   \n",
      "3                     22000                    23000     Christian Bale   \n",
      "4                       475                      530    Samantha Morton   \n",
      "\n",
      "    actor_1_facebook_likes      gross  ...  content_rating     budget  \\\n",
      "0                     1000  760505847  ...           PG-13  237000000   \n",
      "1                    40000  309404152  ...           PG-13  300000000   \n",
      "2                    11000  200074175  ...           PG-13  245000000   \n",
      "3                    27000  448130642  ...           PG-13  250000000   \n",
      "4                      640   73058679  ...           PG-13  263700000   \n",
      "\n",
      "   title_year  actor_2_facebook_likes  imdb_score  aspect_ratio  \\\n",
      "0        2009                     936         7.9          1.78   \n",
      "1        2007                    5000         7.1          2.35   \n",
      "2        2015                     393         6.8          2.35   \n",
      "3        2012                   23000         8.5          2.35   \n",
      "4        2012                     632         6.6          2.35   \n",
      "\n",
      "   movie_facebook_likes Unnamed: 29 Unnamed: 30 Unnamed: 31  \n",
      "0               33000.0         NaN         NaN         NaN  \n",
      "1                   0.0         NaN         NaN         NaN  \n",
      "2               85000.0         NaN         NaN         NaN  \n",
      "3              164000.0         NaN         NaN         NaN  \n",
      "4               24000.0         NaN         NaN         NaN  \n",
      "\n",
      "[5 rows x 32 columns]\n",
      "1659\n"
     ]
    }
   ],
   "source": [
    "import pandas as pd\n",
    "import random\n",
    "# 1. 读取数据\n",
    "movie = pd.read_csv('./data/movie_data.csv')\n",
    "# 2. 了解数据的基本信息\n",
    "print(movie.head())\n",
    "# 3. 获取导演列信息,并转成list\n",
    "directors = movie[\"director_name\"].tolist()\n",
    "# 4. 去重后获取个数\n",
    "num = set(directors)\n",
    "print(len(num))"
   ]
  }
 ],
 "metadata": {
  "kernelspec": {
   "display_name": "Python 3",
   "language": "python",
   "name": "python3"
  },
  "language_info": {
   "codemirror_mode": {
    "name": "ipython",
    "version": 3
   },
   "file_extension": ".py",
   "mimetype": "text/x-python",
   "name": "python",
   "nbconvert_exporter": "python",
   "pygments_lexer": "ipython3",
   "version": "3.7.7"
  }
 },
 "nbformat": 4,
 "nbformat_minor": 4
}
