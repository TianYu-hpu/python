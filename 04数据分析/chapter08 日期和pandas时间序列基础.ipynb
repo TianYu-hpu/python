{
 "cells": [
  {
   "cell_type": "markdown",
   "metadata": {},
   "source": [
    "# 课程介绍    \n",
    "在金融、经济、物理学等领域，都需要在多个时间点观测或者测量数据，这样就产生了关于时间序列的数据。\n",
    "时间序列数据（Time Series Data）是在不同时间上收集到的数据，这类数据是按时间顺序收集到的，用于描述现象随时间变化的情况。\n",
    "学会如何对时间序列数据进行巧妙的处理非常重要，Pandas为我们提供了强大的时间序列数据处理的方法，本节小K将带你入门时间序列。\n",
    "![本节知识点](./picture/8-1.png)\n",
    "## 日期和时间数据类型\n",
    "Python标准库包含了日期和时间数据的数据类型，datetime模块是开始处理时间数据最广泛的。\n",
    "下面我们先简单的了解下python日期和时间数据类型。\n",
    "datetime是一个关于时间的库，常用的类有：\n",
    "![Datetime常用类](./picture/8-2.jpg)\n",
    "datetime各个类型的创建和获取\n",
    "日期(date)类型的使用："
   ]
  },
  {
   "cell_type": "code",
   "execution_count": 2,
   "metadata": {},
   "outputs": [
    {
     "name": "stdout",
     "output_type": "stream",
     "text": [
      "2019-09-09\n",
      "2019\n",
      "9\n",
      "9\n"
     ]
    }
   ],
   "source": [
    "# 导入datetime模块\n",
    "import datetime\n",
    "# 创建日期\n",
    "date = datetime.date(2019, 9, 9)\n",
    "print(date)\n",
    "# 获取年\n",
    "print(date.year)\n",
    "# 获取月\n",
    "print(date.month)\n",
    "# 获取日\n",
    "print(date.day)"
   ]
  },
  {
   "cell_type": "markdown",
   "metadata": {},
   "source": [
    "时间(time)类型的使用:"
   ]
  },
  {
   "cell_type": "code",
   "execution_count": 3,
   "metadata": {},
   "outputs": [
    {
     "name": "stdout",
     "output_type": "stream",
     "text": [
      "13:14:20\n",
      "13\n",
      "14\n",
      "20\n"
     ]
    }
   ],
   "source": [
    "# 创建时间\n",
    "import datetime\n",
    "time = datetime.time(13, 14, 20)\n",
    "print(time)\n",
    "# 获取小时\n",
    "print(time.hour)\n",
    "# 获取分钟\n",
    "print(time.minute)\n",
    "# 获取秒\n",
    "print(time.second)"
   ]
  },
  {
   "cell_type": "markdown",
   "metadata": {},
   "source": [
    "日期和时间的结合体--日期时间(datetime)："
   ]
  },
  {
   "cell_type": "code",
   "execution_count": 4,
   "metadata": {},
   "outputs": [
    {
     "name": "stdout",
     "output_type": "stream",
     "text": [
      "2019-09-09 13:14:20\n",
      "2019\n",
      "9\n",
      "9\n",
      "13\n",
      "14\n",
      "20\n"
     ]
    }
   ],
   "source": [
    "import datetime\n",
    "# 创建日期时间\n",
    "datetime = datetime.datetime(2019, 9, 9, 13, 14, 20)\n",
    "print(datetime)\n",
    "# 获取年\n",
    "print(datetime.year)\n",
    "# 获取月\n",
    "print(datetime.month)\n",
    "# 获取日\n",
    "print(datetime.day)\n",
    "# 获取小时\n",
    "print(datetime.hour)\n",
    "# 获取分钟\n",
    "print(datetime.minute)\n",
    "# 获取秒\n",
    "print(datetime.second)"
   ]
  },
  {
   "cell_type": "markdown",
   "metadata": {},
   "source": [
    "datetime的time方法可以创建时间，date方法可以创建日期，datetime方法则是日期和时间的结合体。\n",
    "\n",
    "通过year、month、day、hour、minute、second属性，可以获取到相应的日期或者时间的值。\n",
    "\n",
    "同样，使用datetime.now()方法可以获取到当前时间："
   ]
  },
  {
   "cell_type": "code",
   "execution_count": 8,
   "metadata": {},
   "outputs": [
    {
     "data": {
      "text/plain": [
       "datetime.datetime(2020, 5, 21, 21, 53, 13, 369403)"
      ]
     },
     "execution_count": 8,
     "metadata": {},
     "output_type": "execute_result"
    }
   ],
   "source": [
    "import datetime\n",
    "datetime.datetime.now()"
   ]
  },
  {
   "cell_type": "markdown",
   "metadata": {},
   "source": [
    "现在我们知道如何使用datetime模块创建时间，但是有些时候我们可能需要将datetime类型转成字符串样式。\n",
    "\n",
    "例如：将datetime.datetime(2019, 9, 9, 13, 14, 20)转换成2019-9-9 13:14:20样式的字符串。\n",
    "\n",
    "有的同学会问道：“datetime.datetime(2019, 9, 9, 13, 14, 20)输出的的结果不就是2019-9-9 13:14:20吗？为什么还需要变？”。\n",
    "\n",
    "没错，它的结果就是我们想要的样式，但是，需要注意的是它的类型是datetime，并不是str。\n",
    "\n",
    "如果我们只是单一的想改变类型，就可以使用强制类型转换：\n",
    "\n"
   ]
  },
  {
   "cell_type": "code",
   "execution_count": 9,
   "metadata": {},
   "outputs": [
    {
     "name": "stdout",
     "output_type": "stream",
     "text": [
      "<class 'datetime.datetime'>\n",
      "2019-09-09 13:14:20\n",
      "<class 'str'>\n"
     ]
    }
   ],
   "source": [
    "import datetime\n",
    "date_time = datetime.datetime(2019, 9, 9, 13, 14, 20)\n",
    "print(type(date_time))\n",
    "str_date_time = str(date_time)\n",
    "print(str_date_time)\n",
    "print(type(str_date_time))"
   ]
  },
  {
   "cell_type": "markdown",
   "metadata": {},
   "source": [
    "将datetime.datetime(2019, 9, 9, 13, 14, 20)转换成9/9/2019 13:14样式的字符串。\n",
    "\n",
    "莫慌，使用strftime()方法便可破解此需求。\n"
   ]
  },
  {
   "cell_type": "code",
   "execution_count": 13,
   "metadata": {},
   "outputs": [
    {
     "data": {
      "text/plain": [
       "'2019-09-09 13:14:20'"
      ]
     },
     "execution_count": 13,
     "metadata": {},
     "output_type": "execute_result"
    }
   ],
   "source": [
    "import datetime\n",
    "date_time = datetime.datetime(2019, 9, 9, 13, 14, 20)\n",
    "str_time = date_time.strftime('%Y-%m-%d %H:%M:%S')\n",
    "str_time"
   ]
  },
  {
   "cell_type": "markdown",
   "metadata": {},
   "source": [
    "strftime()方法的作用是将时间格式转化为自定义字符串格式，格式可以完全自定义。\n",
    "\n",
    "%m/%d/%Y %H:%M就是格式化以后的样式，%m、%d等是时间格式化占位符。\n",
    "\n",
    "关于时间格式的汇总如下图：\n",
    "![时间格式](./picture/8-3.png)\n",
    "利用这些格式符，我们就可以随意的破解将datetime转化成str这类的要求。\n",
    "\n",
    "你以为这就结束了？\n",
    "请将str类型转化成datetime类型。\n",
    "\n",
    "例如：将字符串类型的Aug-23-19 20:13转化成2019-08-23 20:13:00样式的datetime类型。\n",
    "\n",
    "同理，使用strptime()方法便可破解此需求。\n",
    "strptime()方法的作用是字符串时间转化为datetime格式，需要注意的是按一定的格式输出时间。\n",
    "\n",
    "例如：第二个参数不可写成%B-%d-%Y %H:%M ，或者%b / %d / %Y %H:%M"
   ]
  },
  {
   "cell_type": "code",
   "execution_count": 14,
   "metadata": {},
   "outputs": [
    {
     "name": "stdout",
     "output_type": "stream",
     "text": [
      "2019-08-23 20:13:00\n"
     ]
    }
   ],
   "source": [
    "import datetime\n",
    "strp = datetime.datetime.strptime('Aug-23-19 20:13', '%b-%d-%y %H:%M')\n",
    "print(strp)"
   ]
  },
  {
   "cell_type": "markdown",
   "metadata": {},
   "source": [
    "## Pandas时间序列基础\n",
    "前面我们了解了Python内置的datetime模块对时间和日期的处理方法，接下来我们看一下Pandas处理时间上有哪些方法。\n",
    "\n",
    "使用Pandas的date_range()方法可以快速创建出一个日期范围。\n",
    "\n",
    "### 代码片段\n",
    "```\n",
    "pd.date_range(start=None,end=None,periods=None,freq=\"D\")\n",
    "```\n",
    "start:日期范围的开始；end:日期范围的结束；periods:固定日期的个数；freq:日期偏移量，取值为string, 默认为'D'，即：一天为日期偏移量\n",
    "\n",
    "接下来，我们看一下date_range()的几种使用方式。\n",
    "\n",
    "使用start和end以及默认的freq参数创建：\n",
    "\n",
    "### 代码片段\n",
    "\n",
    "```\n",
    "   date= pd.date_range(start='20190505',end='20190606')\n",
    "```\n",
    "\n",
    "使用start和end以及频率参数freq为10天创建：\n",
    "\n",
    "### 代码片段\n",
    "```\n",
    "date= pd.date_range(start='20190505',end='20190606',freq=\"10D\")\n",
    "```\n",
    "使用start和periods以及默认的频率参数创建：\n",
    "\n",
    "### 代码片段\n",
    "```\n",
    "date= pd.date_range(start='20190505',periods=10,freq=\"D\")\n",
    "```\n",
    "分别复制上面的带码到代码框运行，观察结果：\n",
    "\n"
   ]
  },
  {
   "cell_type": "code",
   "execution_count": 18,
   "metadata": {},
   "outputs": [
    {
     "name": "stdout",
     "output_type": "stream",
     "text": [
      "DatetimeIndex(['2019-05-05', '2019-05-06', '2019-05-07', '2019-05-08',\n",
      "               '2019-05-09', '2019-05-10', '2019-05-11', '2019-05-12',\n",
      "               '2019-05-13', '2019-05-14', '2019-05-15', '2019-05-16',\n",
      "               '2019-05-17', '2019-05-18', '2019-05-19', '2019-05-20',\n",
      "               '2019-05-21', '2019-05-22', '2019-05-23', '2019-05-24',\n",
      "               '2019-05-25', '2019-05-26', '2019-05-27', '2019-05-28',\n",
      "               '2019-05-29', '2019-05-30', '2019-05-31', '2019-06-01',\n",
      "               '2019-06-02', '2019-06-03', '2019-06-04', '2019-06-05',\n",
      "               '2019-06-06'],\n",
      "              dtype='datetime64[ns]', freq='D')\n",
      "DatetimeIndex(['2019-05-05', '2019-05-15', '2019-05-25', '2019-06-04'], dtype='datetime64[ns]', freq='10D')\n",
      "DatetimeIndex(['2019-05-05', '2019-05-06', '2019-05-07', '2019-05-08',\n",
      "               '2019-05-09', '2019-05-10', '2019-05-11', '2019-05-12',\n",
      "               '2019-05-13', '2019-05-14'],\n",
      "              dtype='datetime64[ns]', freq='D')\n"
     ]
    }
   ],
   "source": [
    "import pandas as pd\n",
    "\n",
    "date= pd.date_range(start='20190505',end='20190606')\n",
    "print(date)\n",
    "date= pd.date_range(start='20190505',end='20190606',freq=\"10D\")\n",
    "print(date)\n",
    "date= pd.date_range(start='20190505',periods=10,freq=\"D\")\n",
    "print(date)"
   ]
  },
  {
   "cell_type": "markdown",
   "metadata": {},
   "source": [
    "start和end以及freq配合能够生成start和end范围内以频率freq的一组时间索引。\n",
    "\n",
    "start和periods以及freq配合能够生成从start开始的频率为freq的periods个时间索引。\n",
    "\n",
    "上面我们提到时间索引，是因为date_range()方法生成的对象类型是DatetimeIndex，这个类型就是pandas中的时间索引类型。\n",
    "\n",
    "关于频率的更多缩写：\n",
    "![频率的缩写](./picture/8-4.png)\n",
    "有时候我们会对一天或者一个月的数据进行分析，这就需要我们将时间设置成数据的索引，然后通过时间索引获取到一定时间范围内的数据进行分析。\n",
    "\n",
    "现在我们创建一个以时间序列为索引的Series数据。\n",
    "\n",
    "首先，使用pd.date_range()来创建从2019-01-01开始的时间索引："
   ]
  },
  {
   "cell_type": "code",
   "execution_count": 24,
   "metadata": {},
   "outputs": [
    {
     "data": {
      "text/html": [
       "<div>\n",
       "<style scoped>\n",
       "    .dataframe tbody tr th:only-of-type {\n",
       "        vertical-align: middle;\n",
       "    }\n",
       "\n",
       "    .dataframe tbody tr th {\n",
       "        vertical-align: top;\n",
       "    }\n",
       "\n",
       "    .dataframe thead th {\n",
       "        text-align: right;\n",
       "    }\n",
       "</style>\n",
       "<table border=\"1\" class=\"dataframe\">\n",
       "  <thead>\n",
       "    <tr style=\"text-align: right;\">\n",
       "      <th></th>\n",
       "      <th>0</th>\n",
       "    </tr>\n",
       "  </thead>\n",
       "  <tbody>\n",
       "    <tr>\n",
       "      <th>0</th>\n",
       "      <td>2019-01-01</td>\n",
       "    </tr>\n",
       "    <tr>\n",
       "      <th>1</th>\n",
       "      <td>2019-01-02</td>\n",
       "    </tr>\n",
       "    <tr>\n",
       "      <th>2</th>\n",
       "      <td>2019-01-03</td>\n",
       "    </tr>\n",
       "    <tr>\n",
       "      <th>3</th>\n",
       "      <td>2019-01-04</td>\n",
       "    </tr>\n",
       "    <tr>\n",
       "      <th>4</th>\n",
       "      <td>2019-01-05</td>\n",
       "    </tr>\n",
       "    <tr>\n",
       "      <th>...</th>\n",
       "      <td>...</td>\n",
       "    </tr>\n",
       "    <tr>\n",
       "      <th>360</th>\n",
       "      <td>2019-12-27</td>\n",
       "    </tr>\n",
       "    <tr>\n",
       "      <th>361</th>\n",
       "      <td>2019-12-28</td>\n",
       "    </tr>\n",
       "    <tr>\n",
       "      <th>362</th>\n",
       "      <td>2019-12-29</td>\n",
       "    </tr>\n",
       "    <tr>\n",
       "      <th>363</th>\n",
       "      <td>2019-12-30</td>\n",
       "    </tr>\n",
       "    <tr>\n",
       "      <th>364</th>\n",
       "      <td>2019-12-31</td>\n",
       "    </tr>\n",
       "  </tbody>\n",
       "</table>\n",
       "<p>365 rows × 1 columns</p>\n",
       "</div>"
      ],
      "text/plain": [
       "             0\n",
       "0   2019-01-01\n",
       "1   2019-01-02\n",
       "2   2019-01-03\n",
       "3   2019-01-04\n",
       "4   2019-01-05\n",
       "..         ...\n",
       "360 2019-12-27\n",
       "361 2019-12-28\n",
       "362 2019-12-29\n",
       "363 2019-12-30\n",
       "364 2019-12-31\n",
       "\n",
       "[365 rows x 1 columns]"
      ]
     },
     "execution_count": 24,
     "metadata": {},
     "output_type": "execute_result"
    }
   ],
   "source": [
    "import pandas as pd\n",
    "time_index = pd.date_range('2019-01-01', periods=365)\n",
    "pd.DataFrame(time_index)\n"
   ]
  },
  {
   "cell_type": "markdown",
   "metadata": {},
   "source": [
    "然后，使用numpy的随机数创建365个随机整数："
   ]
  },
  {
   "cell_type": "code",
   "execution_count": 33,
   "metadata": {},
   "outputs": [
    {
     "name": "stdout",
     "output_type": "stream",
     "text": [
      "2020-01-01    25\n",
      "2020-01-02    10\n",
      "2020-01-03    24\n",
      "2020-01-04    11\n",
      "2020-01-05    19\n",
      "              ..\n",
      "2020-12-26    59\n",
      "2020-12-27    95\n",
      "2020-12-28    94\n",
      "2020-12-29    95\n",
      "2020-12-30    25\n",
      "Freq: D, Length: 365, dtype: int32\n",
      "2020-04-01    63\n",
      "2020-04-02    76\n",
      "2020-04-03    33\n",
      "2020-04-04    27\n",
      "2020-04-05    32\n",
      "2020-04-06    12\n",
      "2020-04-07    23\n",
      "2020-04-08    42\n",
      "2020-04-09    79\n",
      "2020-04-10    78\n",
      "2020-04-11    61\n",
      "2020-04-12     4\n",
      "2020-04-13    69\n",
      "2020-04-14    94\n",
      "2020-04-15    53\n",
      "2020-04-16     1\n",
      "2020-04-17    10\n",
      "2020-04-18    37\n",
      "2020-04-19    86\n",
      "2020-04-20     9\n",
      "2020-04-21    44\n",
      "2020-04-22    25\n",
      "2020-04-23    22\n",
      "2020-04-24    79\n",
      "2020-04-25     7\n",
      "2020-04-26    96\n",
      "2020-04-27    14\n",
      "2020-04-28    70\n",
      "2020-04-29    53\n",
      "2020-04-30    43\n",
      "Freq: D, dtype: int32\n",
      "76\n"
     ]
    }
   ],
   "source": [
    "import pandas as pd\n",
    "import numpy as np\n",
    "time_data = np.random.randint(100,size=365)\n",
    "time_index = pd.date_range('2020-01-01', periods=365)\n",
    "\n",
    "data_time = pd.Series(data=time_data, index=time_index)\n",
    "print(data_time[\"2020\"])\n",
    "print(data_time[\"2020-04\"])\n",
    "print(data_time[\"2020-05-20\"])"
   ]
  },
  {
   "cell_type": "markdown",
   "metadata": {},
   "source": [
    "有的时候用csv导入到时间数据时，默认的是字符串的数据类型 ，当可视化的时候，会出现没有按时间先后顺序的方式绘图 ，所以需要将字符串解析为时间类型的数据类型。   \n",
    "使用Pandas的to_datetime()方法可以将字符串形式的日期转换成时间格式。   \n",
    "```\n",
    "    pd.to_datetime(arg,format=None)\n",
    "```\n",
    "arg：需要修改的数据   \n",
    "format：数据的格式   \n",
    "to_datetime()方法会将字符串类型的是时间转换成Timestamp('2019-10-05 00:00:00')时间戳类型。   \n",
    "如果想对时间格式修改，还可以使用to_pydatetime()方法将Timestamp类型转换成datetime类型。   \n",
    "```\n",
    "d.to_datetime('2019-10-05').to_pydatetime()   \n",
    "```\n",
    "需要注意的是字符串日期中包含中文，我们可以这样处理：   \n",
    "```\n",
    "pd.to_datetime('2019年10月10日',format='%Y年%m月%d日')\n",
    "```\n"
   ]
  },
  {
   "cell_type": "code",
   "execution_count": 38,
   "metadata": {},
   "outputs": [
    {
     "name": "stdout",
     "output_type": "stream",
     "text": [
      "2020-10-01 00:00:00\n",
      "2019-10-05 00:00:00\n",
      "2019-10-10 00:00:00\n"
     ]
    }
   ],
   "source": [
    "import pandas as pd\n",
    "print(pd.to_datetime(\"2020-10-01\",format=None))\n",
    "print(pd.to_datetime('2019-10-05').to_pydatetime())\n",
    "print(pd.to_datetime('2019年10月10日',format='%Y年%m月%d日'))"
   ]
  },
  {
   "cell_type": "markdown",
   "metadata": {},
   "source": [
    "# 练习\n",
    "## 题目要求\n",
    "现在我们有一份某电商超市从2016年到2019年的部分销售数据，路径为：./data/Commerce.xls 我们的字段有订单 ID，客户对象，订单日期，邮寄方式，地区，地区经理，销售额，数量，退回，折扣等，在这些字段下面，一共有近一万条数据。   \n",
    "## 题目讲解\n",
    "请根据数据完成下面的需求： 1. 分别算出2016年到2019年，每年5月份的总销售额。 2. 2018年各地区的5月份的总销售额对比。   \n",
    "## 书写代码"
   ]
  },
  {
   "cell_type": "code",
   "execution_count": 6,
   "metadata": {},
   "outputs": [
    {
     "name": "stdout",
     "output_type": "stream",
     "text": [
      " 东北地区5月份总销售额是58698.97600000001\n",
      " 中南地区5月份总销售额是80690.21200000001\n",
      " 华东地区5月份总销售额是153767.852\n",
      " 华北地区5月份总销售额是70674.69400000002\n",
      " 西北地区5月份总销售额是15043.156\n",
      " 西南地区5月份总销售额是29359.399999999998\n"
     ]
    }
   ],
   "source": [
    "import pandas as pd\n",
    "data = pd.read_excel('./data/Commerce.xls')\n",
    "# 了解数据基本情况\n",
    "# data.head()\n",
    "\n",
    "# 将订单日期设置为数据的索引\n",
    "data.index = data['订单日期']\n",
    "\n",
    "# 分别计算每年5月份的销售额\n",
    "sales16 = data['2016-05']['销售额'].sum()\n",
    "sales17 = data['2017-05']['销售额'].sum()\n",
    "sales18 = data['2018-05']['销售额'].sum()\n",
    "sales19 = data['2019-05']['销售额'].sum()\n",
    "\n",
    "# 获取2018年五月份数据\n",
    "sales18 = data['2018-05']\n",
    "# 根据地区分组\n",
    "groups = sales18.groupby('地区')\n",
    "# 分别计算各地区销售总额\n",
    "for group_name,group_df in groups:\n",
    "    sales_all = group_df['销售额'].sum()\n",
    "    print('{}地区5月份总销售额是{}'.format(group_name,sales_all))"
   ]
  },
  {
   "cell_type": "markdown",
   "metadata": {},
   "source": [
    "## 题目要求\n",
    "本练习继续使用某电商超市从2016年到2019年的部分销售数据，路径为：/data/course_data/data_analysis/Commerce.xls。\n",
    "## 题目讲解\n",
    "1. 计算出2018年各个季度的总销售额（1-3月为第一季度，4-6为第二季度，7-9为第三季度，10-12为第四季度）。   \n",
    "2. 计算出2018年各季度各地区的总销售额。   \n",
    "## 书写代码"
   ]
  },
  {
   "cell_type": "code",
   "execution_count": 7,
   "metadata": {},
   "outputs": [
    {
     "name": "stdout",
     "output_type": "stream",
     "text": [
      "2018年Q1总销售额588269.651,Q2总销售额1084969.656,Q3总销售额1155180.633,Q4总销售额1505355.92\n",
      "\n",
      "2018年各季度各地区的总销售额:\n",
      "Q1:地区\n",
      " 东北    179643.353\n",
      " 中南     84444.402\n",
      " 华东    143707.440\n",
      " 华北     78643.176\n",
      " 西北     42066.024\n",
      " 西南     59765.256\n",
      "Name: 销售额, dtype: float64\n",
      "Q2:地区\n",
      " 东北    149468.096\n",
      " 中南    275229.727\n",
      " 华东    370572.171\n",
      " 华北    185044.910\n",
      " 西北     26896.188\n",
      " 西南     77758.564\n",
      "Name: 销售额, dtype: float64\n",
      "Q3:地区\n",
      " 东北    204187.616\n",
      " 中南    283578.345\n",
      " 华东    369739.215\n",
      " 华北    136339.921\n",
      " 西北     63392.432\n",
      " 西南     97943.104\n",
      "Name: 销售额, dtype: float64\n",
      "Q4:地区\n",
      " 东北    236502.685\n",
      " 中南    350783.303\n",
      " 华东    478426.016\n",
      " 华北    215142.952\n",
      " 西北     72989.032\n",
      " 西南    151511.932\n",
      "Name: 销售额, dtype: float64\n",
      "\n"
     ]
    }
   ],
   "source": [
    "import pandas as pd\n",
    "data = pd.read_excel('./data/Commerce.xls')\n",
    "\n",
    "# 将订单日期设置为数据的索引\n",
    "data.index = data['订单日期']\n",
    "\n",
    "# 根据本节课知识点，分别获取每个季度销售总额\n",
    "Q1 = data['2018-01':'2018-03']['销售额'].sum()\n",
    "Q2 = data['2018-04':'2018-06']['销售额'].sum()\n",
    "Q3 = data['2018-07':'2018-09']['销售额'].sum()\n",
    "Q4 = data['2018-10':'2018-12']['销售额'].sum()\n",
    "print('2018年Q1总销售额{},Q2总销售额{},Q3总销售额{},Q4总销售额{}'.format(Q1,Q2,Q3,Q4))\n",
    "\n",
    "# 2018年各季度各地区的总销售额\n",
    "# 获取每个季度的数据\n",
    "Q1_area = data['2018-01':'2018-03'].groupby('地区')['销售额'].sum()\n",
    "Q2_area = data['2018-04':'2018-06'].groupby('地区')['销售额'].sum()\n",
    "Q3_area = data['2018-07':'2018-09'].groupby('地区')['销售额'].sum()\n",
    "Q4_area = data['2018-10':'2018-12'].groupby('地区')['销售额'].sum()\n",
    "\n",
    "print(\"\"\"\n",
    "2018年各季度各地区的总销售额:\n",
    "Q1:{}\n",
    "Q2:{}\n",
    "Q3:{}\n",
    "Q4:{}\n",
    "\"\"\".format(Q1_area,Q2_area,Q3_area,Q4_area))"
   ]
  }
 ],
 "metadata": {
  "kernelspec": {
   "display_name": "Python 3",
   "language": "python",
   "name": "python3"
  },
  "language_info": {
   "codemirror_mode": {
    "name": "ipython",
    "version": 3
   },
   "file_extension": ".py",
   "mimetype": "text/x-python",
   "name": "python",
   "nbconvert_exporter": "python",
   "pygments_lexer": "ipython3",
   "version": "3.7.7"
  }
 },
 "nbformat": 4,
 "nbformat_minor": 4
}
