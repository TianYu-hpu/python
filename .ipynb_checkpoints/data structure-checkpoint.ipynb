{
 "cells": [
  {
   "cell_type": "code",
   "execution_count": 14,
   "metadata": {},
   "outputs": [
    {
     "name": "stdout",
     "output_type": "stream",
     "text": [
      "['李雷', '韩梅梅', '180', '3.5']\n",
      "<class 'list'>\n",
      "大黄蜂\n",
      "['擎天柱', '大黄蜂', '救护车', '巨无霸福特', '红蜘蛛']\n",
      "['救护车', '巨无霸福特', '红蜘蛛']\n",
      "['擎天柱', '大黄蜂']\n",
      "['大黄蜂', '救护车']\n",
      "['救护车', '巨无霸福特']\n",
      "lucy\n",
      "['lily', 'lucy']\n",
      "['擎天柱', '大黄蜂', '救护车', '巨无霸福特', '红蜘蛛', '萨克巨人']\n",
      "['擎天柱', '大黄蜂', '巨无霸福特', '红蜘蛛']\n",
      "5\n",
      "5\n",
      "<class 'list'>\n",
      "<class 'dict'>\n",
      "95\n",
      "{'擎天柱': 95, '大黄蜂': 90, '救护车': 86, '红蜘蛛': 80}\n",
      "{'擎天柱': 95, '大黄蜂': 90, '救护车': 86, '红蜘蛛': 80, '巨无霸福特': 50}\n"
     ]
    }
   ],
   "source": [
    "#列表\n",
    "transformers = ['李雷', '韩梅梅', '180', '3.5']\n",
    "print(transformers)\n",
    "print(type(transformers))\n",
    "\n",
    "transformers = ['擎天柱','大黄蜂','救护车']\n",
    "print(transformers[1])\n",
    "\n",
    "transformers = ['擎天柱','大黄蜂','救护车','巨无霸福特','红蜘蛛']\n",
    "\n",
    "#左闭右开区间\n",
    "print(transformers[:])\n",
    "\n",
    "print(transformers[2:])\n",
    "\n",
    "print(transformers[:2])\n",
    "\n",
    "print(transformers[1:3])\n",
    "\n",
    "print(transformers[2:4])\n",
    "\n",
    "names = ['李雷','lily','lucy','韩梅梅']\n",
    "print(names[2])\n",
    "print(names[1:3])\n",
    "\n",
    "transformers = ['擎天柱','大黄蜂','救护车','巨无霸福特','红蜘蛛']\n",
    "\n",
    "transformers.append('萨克巨人')\n",
    "\n",
    "print(transformers)\n",
    "\n",
    "transformers = ['擎天柱','大黄蜂','救护车','巨无霸福特','红蜘蛛']\n",
    "\n",
    "del transformers[2]\n",
    "\n",
    "print(transformers)\n",
    "\n",
    "transformers = ['擎天柱','大黄蜂','救护车','巨无霸福特','红蜘蛛']\n",
    "\n",
    "fc = { '擎天柱': 95 ,'大黄蜂':90 ,'救护车':86, '巨无霸福特':80,'红蜘蛛':80  }\n",
    "\n",
    "print(len(transformers))\n",
    "\n",
    "print(len(fc))\n",
    "\n",
    "print(type(transformers))\n",
    "\n",
    "print(type(fc))\n",
    "\n",
    "fc = { '擎天柱': 95 ,'大黄蜂':90 ,'救护车':86, '巨无霸福特':80,'红蜘蛛':80  }\n",
    "\n",
    "print(fc['擎天柱'])\n",
    "\n",
    "fc = { '擎天柱': 95 ,'大黄蜂':90 ,'救护车':86, '巨无霸福特':80,'红蜘蛛':80  }\n",
    "\n",
    "del fc['巨无霸福特']\n",
    "\n",
    "print(fc)\n",
    "\n",
    "fc['巨无霸福特'] = 50\n",
    "\n",
    "print(fc)"
   ]
  },
  {
   "cell_type": "code",
   "execution_count": 15,
   "metadata": {},
   "outputs": [
    {
     "name": "stdout",
     "output_type": "stream",
     "text": [
      "猛大帅睡了没？\n",
      "铁甲龙睡了没？\n",
      "六面兽睡了没？\n",
      "大力金刚睡了没？\n",
      "救护车睡了没？\n",
      "红色警戒睡了没？\n",
      "大无畏睡了没？\n",
      "飞天虎睡了没？\n",
      "闪电睡了没？\n",
      "冲云霄睡了没？\n",
      "计算王睡了没？\n",
      "求雨鬼睡了没？\n",
      "守护神睡了没？\n",
      "混天豹睡了没？\n",
      "擎天柱睡了没？\n",
      "威震天睡了没？\n",
      "惊破天睡了没？\n",
      "红蜘蛛睡了没？\n",
      "巨无霸福特睡了没？\n",
      "雷霆解救队睡了没？\n"
     ]
    }
   ],
   "source": [
    "transformers = ['猛大帅' , '铁甲龙','六面兽', '大力金刚', '救护车','红色警戒', '大无畏', '飞天虎','闪电','冲云霄', '计算王','求雨鬼', '守护神','混天豹', '擎天柱', '威震天','惊破天', '红蜘蛛', '巨无霸福特', '雷霆解救队' ]\n",
    "for i in transformers:\n",
    "    print(i+'睡了没？')"
   ]
  }
 ],
 "metadata": {
  "kernelspec": {
   "display_name": "Python 3",
   "language": "python",
   "name": "python3"
  },
  "language_info": {
   "codemirror_mode": {
    "name": "ipython",
    "version": 3
   },
   "file_extension": ".py",
   "mimetype": "text/x-python",
   "name": "python",
   "nbconvert_exporter": "python",
   "pygments_lexer": "ipython3",
   "version": "3.7.7"
  }
 },
 "nbformat": 4,
 "nbformat_minor": 4
}
