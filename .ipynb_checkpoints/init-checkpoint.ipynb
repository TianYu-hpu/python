{
 "cells": [
  {
   "cell_type": "code",
   "execution_count": 3,
   "metadata": {},
   "outputs": [
    {
     "name": "stdout",
     "output_type": "stream",
     "text": [
      "\n",
      "   ***                 ***   \n",
      " *********           *********\n",
      "************       ************\n",
      "*************     *************\n",
      "**************   **************\n",
      "*************** ***************\n",
      " *******    *** ***    *******\n",
      "  ******     *****     ******\n",
      "   ******     ***     ******\n",
      "   ******     ***     ******\n",
      "     ******    *     ******\n",
      "       ******  *   ******\n",
      "         **************\n",
      "           **********\n",
      "             ******\n",
      "               ***\n",
      "                *\n",
      "\n",
      "\n"
     ]
    }
   ],
   "source": [
    "print('''\n",
    "   ***                 ***   \n",
    " *********           *********\n",
    "************       ************\n",
    "*************     *************\n",
    "**************   **************\n",
    "*************** ***************\n",
    " *******    *** ***    *******\n",
    "  ******     *****     ******\n",
    "   ******     ***     ******\n",
    "   ******     ***     ******\n",
    "     ******    *     ******\n",
    "       ******  *   ******\n",
    "         **************\n",
    "           **********\n",
    "             ******\n",
    "               ***\n",
    "                *\n",
    "\n",
    "''')"
   ]
  },
  {
   "cell_type": "code",
   "execution_count": 5,
   "metadata": {},
   "outputs": [
    {
     "name": "stdout",
     "output_type": "stream",
     "text": [
      "\n",
      "去他个鸟命！\n",
      "我命由我，不由天！\n",
      "是魔是仙，我自己决定！\n",
      "靠'自己'\n",
      "\n"
     ]
    }
   ],
   "source": [
    "print('''\n",
    "去他个鸟命！\n",
    "我命由我，不由天！\n",
    "是魔是仙，我自己决定！\n",
    "靠'自己'\n",
    "''')"
   ]
  },
  {
   "cell_type": "code",
   "execution_count": 7,
   "metadata": {},
   "outputs": [
    {
     "name": "stdout",
     "output_type": "stream",
     "text": [
      "美国队长2\n",
      "The Winter Soldier\n",
      "7.14\n",
      "≡(▔﹏▔)≡\n"
     ]
    }
   ],
   "source": [
    "movie = '美国队长2'\n",
    "name = 'The Winter Soldier'\n",
    "price = \"7.14\"\n",
    "word = '''≡(▔﹏▔)≡'''\n",
    "print(movie)\n",
    "print(name)\n",
    "print(price)\n",
    "print(word)"
   ]
  },
  {
   "cell_type": "code",
   "execution_count": 9,
   "metadata": {},
   "outputs": [
    {
     "name": "stdout",
     "output_type": "stream",
     "text": [
      "\n",
      "我们强者就该无所畏惧。\n",
      "那你为什么要跑？\n",
      "\n"
     ]
    }
   ],
   "source": [
    "secret = '''\n",
    "我们强者就该无所畏惧。\n",
    "那你为什么要跑？\n",
    "'''\n",
    "print(secret)"
   ]
  },
  {
   "cell_type": "code",
   "execution_count": 28,
   "metadata": {},
   "outputs": [
    {
     "name": "stdout",
     "output_type": "stream",
     "text": [
      "521\n",
      "老铁666\n",
      "50849.44\n",
      "7793\n",
      "88.0\n",
      "美国队长取材于漫威漫画\n",
      "美国队长于漫威漫画编写\n",
      "美国队长2\n",
      "<class 'str'>\n",
      "<class 'int'>\n",
      "美国队长2\n",
      "美国队长的身高198\n",
      "123\n",
      "123.456\n",
      "9\n",
      "198.2\n",
      "97.0\n",
      "30.0\n"
     ]
    }
   ],
   "source": [
    "# 打印整数\n",
    "print(521)\n",
    "\n",
    "#打印字符串\n",
    "num=\"老铁666\"\n",
    "print(num)\n",
    "\n",
    "#四则运算\n",
    "print(999.99*56-103*50)\n",
    "print((55+22)*99+(38-21)*10)\n",
    "\n",
    "print((55-22)*3 -99/9)\n",
    "\n",
    "#字符串拼接\n",
    "hero = '美国队长'\n",
    "title = '漫威漫画'\n",
    "action = '取材于'\n",
    "print(hero+action+title)\n",
    "\n",
    "hero = '美国队长'\n",
    "title = '漫威漫画'\n",
    "action = '编写'\n",
    "place= '于'\n",
    "print(hero+place+title+action)\n",
    "\n",
    "#只有字符串和字符串才能拼接\n",
    "name = '美国队长'\n",
    "num = '2'\n",
    "print(name+num)\n",
    "#type()函数会自动查询它的类型\n",
    "name = '美国队长'\n",
    "num = 2\n",
    "print(type(name))\n",
    "print(type(num))\n",
    "#Str()函数， 不管你之前属于啥类型。 只要到了我的地盘，就得听我的，我就把任何数据都转成字符串类型\n",
    "name = '美国队长'\n",
    "num = 2\n",
    "print(name+str(num))\n",
    "\n",
    "name = '美国队长'\n",
    "add = '的'\n",
    "height = '身高'\n",
    "gaodu = 198\n",
    "print(name + add + height + str(gaodu))\n",
    "\n",
    "#将其他类型转换成整数\n",
    "num = \"123\"\n",
    "print(int(num))\n",
    "#将其他类型转换成浮点数\n",
    "numfloat = \"123.456\"\n",
    "print(float(numfloat))\n",
    "\n",
    "#浮点数的字符串是不能转换成int的，否则会报错\n",
    "#print(int('9.9'))\n",
    "#虽然浮点形式的字符串不能使用int()函数转换，但是浮点数是可以使用int()函数来转换的\n",
    "print(int(9.9))\n",
    "\n",
    "height = 198.2\n",
    "weight = 97\n",
    "age = '30'\n",
    "\n",
    "print(float(height))\n",
    "print(float(weight))\n",
    "print(float(age))"
   ]
  },
  {
   "cell_type": "code",
   "execution_count": 31,
   "metadata": {},
   "outputs": [
    {
     "name": "stdout",
     "output_type": "stream",
     "text": [
      "1囚犯:你有什么能力来带我们出去?\n",
      "2CA:我揍了希特勒200多次。\n",
      "美国队长2该片于2014年4月4日在北美与中国同步上映。\n"
     ]
    }
   ],
   "source": [
    "num1  = 1\n",
    "num2  = 2\n",
    "name1 = \"囚犯\"\n",
    "name2 = \"CA\"\n",
    "word1 = \"你有什么能力来带我们出去?\"\n",
    "word2 = \"我揍了希特勒200多次。\"\n",
    "fuhao1 = \":\"\n",
    "\n",
    "print(str(num1) + name1 + fuhao1 + word1)\n",
    "print(str(num2) + name2 + fuhao1 + word2)\n",
    "\n",
    "name = \"美国队长\"\n",
    "num = 2\n",
    "word = \"该片于2014年4月4日在北美与中国同步上映。\"\n",
    "\n",
    "print(name + str(num) + word)"
   ]
  },
  {
   "cell_type": "code",
   "execution_count": null,
   "metadata": {},
   "outputs": [
    {
     "name": "stdout",
     "output_type": "stream",
     "text": [
      "如果你想拥有读心术，那选择X教授\n",
      "如果你想干扰地球磁场，那选择万磁王\n",
      "如果你想急速自愈能力，野兽般的感知能力，那选择金刚狼\n",
      "如果你想拥有拥有念力移位和心电感应，那选择凤凰女\n",
      "如果你想拥有拥有能随意控制气候的能力，那选择暴风女\n",
      "那么，如果让你来选择的话，你想选择哪个人物？\n",
      "请在以下六个选项【1 X教授 ；2 万磁王；3 金刚狼 ；4 凤凰女；5 暴风女 ；】中，选择你最想成为的人物吧！\n"
     ]
    }
   ],
   "source": [
    "import time\n",
    "\n",
    "print('如果你想拥有读心术，那选择X教授')\n",
    "\n",
    "time.sleep(2)\n",
    "\n",
    "print('如果你想干扰地球磁场，那选择万磁王')\n",
    "\n",
    "time.sleep(2)\n",
    "\n",
    "print('如果你想急速自愈能力，野兽般的感知能力，那选择金刚狼')\n",
    "\n",
    "time.sleep(2)\n",
    "\n",
    "print('如果你想拥有拥有念力移位和心电感应，那选择凤凰女')\n",
    "\n",
    "time.sleep(2)\n",
    "\n",
    "print('如果你想拥有拥有能随意控制气候的能力，那选择暴风女')\n",
    "\n",
    "time.sleep(2)\n",
    "\n",
    "print('那么，如果让你来选择的话，你想选择哪个人物？')\n",
    "\n",
    "time.sleep(2)\n",
    "\n",
    "print('请在以下六个选项【1 X教授 ；2 万磁王；3 金刚狼 ；4 凤凰女；5 暴风女 ；】中，选择你最想成为的人物吧！')\n",
    "\n",
    "time.sleep(3)\n",
    "\n",
    "answer=input('请将对应数字输入在冒号后： ')\n",
    "\n",
    "if answer=='1':\n",
    "    print('我是教授，通过其能力剥夺并控制他人的思维同时操纵他人的行动。')\n",
    "    time.sleep(3)\n",
    "\n",
    "elif answer=='2':\n",
    "    print('我X万磁王，通过干扰地球磁场达到飞行的能力。')\n",
    "    time.sleep(3)\n",
    "\n",
    "elif answer=='3':\n",
    "    print('我是金刚狼，天生双臂长有可伸出体外的利爪')\n",
    "    time.sleep(3)\n",
    "\n",
    "elif answer=='4':\n",
    "    print('我是凤凰女，预知未来，并能抗拒他人的精神攻击。')\n",
    "    time.sleep(3)\n",
    "\n",
    "elif answer=='5':\n",
    "    print('我是暴风女，被称作天气女神。')\n",
    "    time.sleep(3)"
   ]
  },
  {
   "cell_type": "code",
   "execution_count": 1,
   "metadata": {},
   "outputs": [
    {
     "name": "stdout",
     "output_type": "stream",
     "text": [
      "金刚狼带凤凰女去吃日料\n"
     ]
    }
   ],
   "source": [
    "# 为钱包赋值\n",
    "money = 1000\n",
    "\n",
    "# 条件：如果有1000块钱以上(包含1000块)，就去吃日料\n",
    "if money>=1000:\n",
    "    \n",
    "# 结果：显示‘金刚狼带凤凰女去吃日料’的结果\n",
    "      print('金刚狼带凤凰女去吃日料')   "
   ]
  },
  {
   "cell_type": "code",
   "execution_count": 3,
   "metadata": {},
   "outputs": [
    {
     "name": "stdout",
     "output_type": "stream",
     "text": [
      "金刚狼带凤凰女去吃KFC\n"
     ]
    }
   ],
   "source": [
    "# 为钱包赋值\n",
    "money = 100\n",
    "\n",
    "# 条件：如果有1000块钱以上(包含1000块)，就去吃日料\n",
    "if money>=1000:\n",
    "    \n",
    "    print('金刚狼带凤凰女去吃日料')  \n",
    "\n",
    "# 条件：当不满足if条件，执行else条件下语句\n",
    "else:\n",
    "    \n",
    "    print('金刚狼带凤凰女去吃KFC')  "
   ]
  },
  {
   "cell_type": "code",
   "execution_count": 5,
   "metadata": {},
   "outputs": [
    {
     "name": "stdout",
     "output_type": "stream",
     "text": [
      "她就每天去跑步\n"
     ]
    }
   ],
   "source": [
    "weight = 190\n",
    "if weight > 90:\n",
    "    print(\"她就每天去跑步\")\n",
    "else:\n",
    "    print(\"她就每天去散步\")"
   ]
  },
  {
   "cell_type": "code",
   "execution_count": 7,
   "metadata": {},
   "outputs": [
    {
     "name": "stdout",
     "output_type": "stream",
     "text": [
      "金刚狼带凤凰女去吃披萨\n"
     ]
    }
   ],
   "source": [
    "# 为钱包赋值\n",
    "money = 999\n",
    "\n",
    "# 条件：如果有1000块钱以上(包含1000块)，就去吃日料\n",
    "if money>=1000:\n",
    "    \n",
    "    print('金刚狼带凤凰女去吃日料')  \n",
    "\n",
    "# 条件：如果有800-1000块钱之间(包含800块)\n",
    "elif money>=800:\n",
    "    \n",
    "    print('金刚狼带凤凰女去吃披萨')\n",
    "\n",
    "#不满足条件\n",
    "else:\n",
    "     print('金刚狼带凤凰女去吃KFC')"
   ]
  },
  {
   "cell_type": "code",
   "execution_count": 9,
   "metadata": {},
   "outputs": [
    {
     "name": "stdout",
     "output_type": "stream",
     "text": [
      "小K打车回家\n"
     ]
    }
   ],
   "source": [
    "#为加班时间赋值\n",
    "clock = 10\n",
    "\n",
    "# 条件1，如果加班时间>=10,小K打车回家。\n",
    "if clock>=10:\n",
    "    \n",
    "    print('小K打车回家')  \n",
    "\n",
    "# 条件2，如果8<=加班时间<10,小K坐地铁回家\n",
    "elif money>=8:\n",
    "    \n",
    "    print('小K坐地铁回家')\n",
    "\n",
    "#条件3，如果加班时间<8, 小K骑单车回家。\n",
    "else:\n",
    "     print('小K骑单车回家')"
   ]
  },
  {
   "cell_type": "code",
   "execution_count": 12,
   "metadata": {},
   "outputs": [
    {
     "name": "stdout",
     "output_type": "stream",
     "text": [
      "特种作战人员\n",
      "黄金\n",
      "结束\n"
     ]
    }
   ],
   "source": [
    "contribution=760\n",
    "\n",
    "if contribution>=600:\n",
    "    print('特种作战人员')\n",
    "\n",
    "    if contribution>=800:\n",
    "        print('王者')\n",
    "\n",
    "    else:\n",
    "        print('黄金')\n",
    "\n",
    "else:\n",
    "    print('普通作战人员')\n",
    "\n",
    "    if contribution>400:\n",
    "        print('白银')\n",
    "\n",
    "    else:\n",
    "        print('青铜')\n",
    "\n",
    "print('结束')\n"
   ]
  },
  {
   "cell_type": "code",
   "execution_count": 14,
   "metadata": {},
   "outputs": [
    {
     "name": "stdout",
     "output_type": "stream",
     "text": [
      "两败俱伤\n"
     ]
    }
   ],
   "source": [
    "num=2\n",
    "if num>4:\n",
    "    print('打败死侍他们')\n",
    "if 2<=num<=4:\n",
    "    print('两败俱伤')\n",
    "if num<2:\n",
    "    print('被死侍碾压需要请求复仇者支援')"
   ]
  },
  {
   "cell_type": "code",
   "execution_count": 16,
   "metadata": {},
   "outputs": [
    {
     "name": "stdout",
     "output_type": "stream",
     "text": [
      "不易改造\n",
      "希望渺茫\n",
      "结束\n"
     ]
    }
   ],
   "source": [
    "energy=65\n",
    "\n",
    "if energy>=80:\n",
    "    print('容易改造')\n",
    "\n",
    "    if energy>=90:\n",
    "        print('1小时改造完毕')\n",
    "\n",
    "    else:\n",
    "        print('1天改造完毕')\n",
    "\n",
    "else:\n",
    "    print('不易改造')\n",
    "\n",
    "    if energy<60:\n",
    "        print('改造不了')\n",
    "\n",
    "    else:\n",
    "        print('希望渺茫')\n",
    "\n",
    "print('结束')"
   ]
  },
  {
   "cell_type": "code",
   "execution_count": 18,
   "metadata": {},
   "outputs": [
    {
     "name": "stdout",
     "output_type": "stream",
     "text": [
      "天启说: 愚蠢的X战警们：\n",
      "你们这该死的行为\n",
      "变种人是强大的\n",
      "我要统治世界\n",
      "给你们两条路，要么投降臣服于我，要么我把你们都杀死\n",
      "那么，您的选择是什么？ 1 接受投降，还是 2 反抗到底？\n",
      "请输入您选择的数字：1\n",
      "哈哈，投降是最好的选择，你们以后要乖乖听我的话，有任何违抗都会杀无赦，哈哈。\n"
     ]
    }
   ],
   "source": [
    "#那么，这个用键盘向电脑提供指令，再通过电脑把问题显示在显示器上，等回答的过程，就是通过input()实现的。\n",
    "import time\n",
    "print('天启说: 愚蠢的X战警们：')\n",
    "time.sleep(1)\n",
    "print('你们这该死的行为')\n",
    "time.sleep(2)\n",
    "print('变种人是强大的')\n",
    "time.sleep(1)\n",
    "print('我要统治世界')\n",
    "time.sleep(1)\n",
    "print('给你们两条路，要么投降臣服于我，要么我把你们都杀死')\n",
    "time.sleep(1)\n",
    "print('那么，您的选择是什么？ 1 接受投降，还是 2 反抗到底？')\n",
    "time.sleep(2)\n",
    "choice=input('请输入您选择的数字：')\n",
    "if choice =='1':\n",
    "    print('哈哈，投降是最好的选择，你们以后要乖乖听我的话，有任何违抗都会杀无赦，哈哈。')\n",
    "else:\n",
    "    print('可恶，你们这帮蝼蚁，那我就和你们较量较量吧，我要把你们都干掉。')"
   ]
  },
  {
   "cell_type": "code",
   "execution_count": 1,
   "metadata": {},
   "outputs": [
    {
     "name": "stdout",
     "output_type": "stream",
     "text": [
      "请输入你喜欢人的名字：ni\n",
      "ni\n"
     ]
    }
   ],
   "source": [
    "name = input('请输入你喜欢人的名字：')\n",
    "print(name)"
   ]
  },
  {
   "cell_type": "code",
   "execution_count": null,
   "metadata": {},
   "outputs": [],
   "source": [
    "name = input('请输入你喜欢人的名字：')\n",
    "print(name+'I love you')"
   ]
  },
  {
   "cell_type": "code",
   "execution_count": 2,
   "metadata": {},
   "outputs": [
    {
     "name": "stdout",
     "output_type": "stream",
     "text": [
      "请输入你喜欢人的名字：1\n",
      "<class 'str'>\n",
      "她喜欢1.逛街，2.旅游，3.美食。输入数字：1\n",
      "<class 'str'>\n"
     ]
    }
   ],
   "source": [
    "name = input('请输入你喜欢人的名字：')\n",
    "print(type(name))\n",
    "hobby = input('她喜欢1.逛街，2.旅游，3.美食。输入数字：')\n",
    "print(type(hobby))"
   ]
  },
  {
   "cell_type": "code",
   "execution_count": 4,
   "metadata": {},
   "outputs": [
    {
     "name": "stdout",
     "output_type": "stream",
     "text": [
      "她喜欢1.逛街，2.旅游，3.美食。输入数字：1\n",
      "吃嘛嘛香\n"
     ]
    }
   ],
   "source": [
    "hobby = input('她喜欢1.逛街，2.旅游，3.美食。输入数字：')\n",
    "if hobby ==1:\n",
    "     print('拿我的卡，使劲花')\n",
    "elif hobby==2:\n",
    "     print('带你去浪漫的土耳其，还有东京和巴黎')\n",
    "else:\n",
    "     print('吃嘛嘛香')"
   ]
  },
  {
   "cell_type": "code",
   "execution_count": 6,
   "metadata": {},
   "outputs": [
    {
     "name": "stdout",
     "output_type": "stream",
     "text": [
      "你一个月工资多少钱？1\n",
      "不要和我借钱啊，我也没有～\n"
     ]
    }
   ],
   "source": [
    "money = int(input('你一个月工资多少钱？'))\n",
    "#将输入的工资数（字符串），强制转换为整数\n",
    "if money >= 100000:\n",
    "#当工资数（整数）大于等于100000（整数）时\n",
    "    print('土豪我们做朋友吧！')\n",
    "#打印if条件下的结果\n",
    "else:\n",
    "#当工资数（整数）小于100000（整数）时\n",
    "    print('不要和我借钱啊，我也没有～')\n",
    "#打印else条件下"
   ]
  },
  {
   "cell_type": "code",
   "execution_count": 8,
   "metadata": {},
   "outputs": [
    {
     "name": "stdout",
     "output_type": "stream",
     "text": [
      "如果你是X教授，你指派哪位英雄加入到X战警团队，请输入他的名字:1\n"
     ]
    }
   ],
   "source": [
    "hero = input(\"如果你是X教授，你指派哪位英雄加入到X战警团队，请输入他的名字:\")"
   ]
  },
  {
   "cell_type": "code",
   "execution_count": 9,
   "metadata": {},
   "outputs": [
    {
     "name": "stdout",
     "output_type": "stream",
     "text": [
      "熊二今天掰玉米的数量:1\n",
      "熊二给熊大蜂蜜\n"
     ]
    }
   ],
   "source": [
    "\n",
    "num=int(input('熊二今天掰玉米的数量:'))\n",
    "if num>=500:\n",
    "    print(\"熊大给熊二蜂蜜\")\n",
    "else:\n",
    "    print(\"熊二给熊大蜂蜜\") "
   ]
  }
 ],
 "metadata": {
  "kernelspec": {
   "display_name": "Python 3",
   "language": "python",
   "name": "python3"
  },
  "language_info": {
   "codemirror_mode": {
    "name": "ipython",
    "version": 3
   },
   "file_extension": ".py",
   "mimetype": "text/x-python",
   "name": "python",
   "nbconvert_exporter": "python",
   "pygments_lexer": "ipython3",
   "version": "3.7.7"
  }
 },
 "nbformat": 4,
 "nbformat_minor": 4
}
