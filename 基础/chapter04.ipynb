{
 "cells": [
  {
   "cell_type": "code",
   "execution_count": 2,
   "metadata": {},
   "outputs": [
    {
     "name": "stdout",
     "output_type": "stream",
     "text": [
      "1.5个标准集装箱大的快递项目，使用2位快递员配送，则需要配送次数4次\n",
      "0.5个标准集装箱大的快递项目，1次配送完毕，则需要快递员数：3位\n"
     ]
    }
   ],
   "source": [
    "import math\n",
    "# 配送调配计算\n",
    "# 设置默认参数\n",
    "def calculate_job(types,size,other):\n",
    "    if types ==1:\n",
    "        #配送次数计算过程\n",
    "        num = math.ceil(size * 100 / 20/other) \n",
    "        print('%.1f个标准集装箱大的快递项目，使用%d位快递员配送，则需要配送次数%d次' %(size,other,num))\n",
    "    elif types==2:\n",
    "        #快递员数计算过程\n",
    "        person = math.ceil(size *100 /20/ other)\n",
    "        print('%.1f个标准集装箱大的快递项目，%d次配送完毕，则需要快递员数：%d位' %(size,other,person))\n",
    "calculate_job(1,1.5,2)\n",
    "calculate_job(2,0.5,1)"
   ]
  },
  {
   "cell_type": "code",
   "execution_count": 4,
   "metadata": {},
   "outputs": [
    {
     "name": "stdout",
     "output_type": "stream",
     "text": [
      "请选择需要计算的工作：1-配送次数计算，2-快递员数计算，请选择1\n",
      "请输入项目大小：1代表标准，还可以输入其他倍数或小数1\n",
      "请输入投入的快递员数，请输入整数1\n",
      "计算结果如下\n",
      "1.0个标准集装箱大的快递项目，使用1位快递员配送，则需要配送次数5次\n"
     ]
    }
   ],
   "source": [
    "import math\n",
    "types = int(input('请选择需要计算的工作：1-配送次数计算，2-快递员数计算，请选择')) \n",
    "sizes = float(input('请输入项目大小：1代表标准，还可以输入其他倍数或小数'))\n",
    "if types ==1:\n",
    "    others = int(input('请输入投入的快递员数，请输入整数'))\n",
    "else:\n",
    "    others = int(input('请输入快递次数，请输入整数'))\n",
    "\n",
    "# 配送调配计算\n",
    "# 设置默认参数\n",
    "def calculate_job(types,sizes,others):\n",
    "    print('计算结果如下')\n",
    "    if types ==1:\n",
    "         #配送次数计算过程\n",
    "        num = math.ceil(round((sizes * 100 / 20/others),2))\n",
    "        print('%.1f个标准集装箱大的快递项目，使用%d位快递员配送，则需要配送次数%d次' %(sizes,others,num))\n",
    "    elif types==2:\n",
    "        #快递员数计算过程\n",
    "        person = math.ceil(round((sizes *100 /20/ others),2))\n",
    "        print('%.1f个标准集装箱大的快递项目，%d次配送完毕，则需要快递员数：%d位' %(sizes,others,person))\n",
    "\n",
    "calculate_job(types,sizes,others)"
   ]
  },
  {
   "cell_type": "code",
   "execution_count": 5,
   "metadata": {},
   "outputs": [
    {
     "name": "stdout",
     "output_type": "stream",
     "text": [
      "请选择需要计算的工作：1-配送次数计算，2-快递员数计算，请选择1\n",
      "请输入项目大小：1代表标准，还可以输入其他倍数或小数1\n",
      "请输入投入的快递员数，请输入整数1\n",
      "计算结果如下\n",
      "1.0个标准集装箱大的快递项目，使用1位快递员配送，则需要配送次数5次\n"
     ]
    }
   ],
   "source": [
    "import math\n",
    "\n",
    "def BOSS_input():\n",
    "    # 输入内容\n",
    "    types = int(input('请选择需要计算的工作：1-配送次数计算，2-快递员数计算，请选择')) \n",
    "    sizes = float(input('请输入项目大小：1代表标准，还可以输入其他倍数或小数'))\n",
    "    if types ==1:\n",
    "        others = int(input('请输入投入的快递员数，请输入整数'))\n",
    "    else:\n",
    "        others = int(input('请输入快递次数，请输入整数'))\n",
    "    \n",
    "    return types,sizes,others  #这里返回一个数组\n",
    "\n",
    "#计算工作量\n",
    "def calculate_job(data_input):\n",
    "    #获取参数数值\n",
    "    types = data_input[0]\n",
    "    sizes = data_input[1]\n",
    "    others = data_input[2]\n",
    "\n",
    "    print('计算结果如下')\n",
    "    if types ==1:\n",
    "         #配送次数计算过程\n",
    "        num = math.ceil(round((sizes * 100 / 20/others),2))\n",
    "        print('%.1f个标准集装箱大的快递项目，使用%d位快递员配送，则需要配送次数%d次' %(sizes,others,num))\n",
    "    elif types==2:\n",
    "        #快递员数计算过程\n",
    "        person = math.ceil(round((sizes *100 /20/ others),2))\n",
    "        print('%.1f个标准集装箱大的快递项目，%d次配送完毕，则需要快递员数：%d位' %(sizes,others,person))\n",
    "\n",
    "\n",
    "#主函数\n",
    "def res():\n",
    "    data_input = BOSS_input()\n",
    "    calculate_job(data_input)\n",
    "    \n",
    "#调用主函数\n",
    "res()"
   ]
  },
  {
   "cell_type": "code",
   "execution_count": 6,
   "metadata": {},
   "outputs": [
    {
     "name": "stdout",
     "output_type": "stream",
     "text": [
      "请输入数字：1\n",
      "1\n"
     ]
    }
   ],
   "source": [
    "def rounding(num):\n",
    "    if num%1==0:\n",
    "        return int(num)\n",
    "    else:\n",
    "    \tdata = int(num)+1\n",
    "    \treturn data\n",
    "num=float(input('请输入数字：'))\n",
    "num1 = rounding(num)\n",
    "print(num1)"
   ]
  },
  {
   "cell_type": "code",
   "execution_count": 7,
   "metadata": {},
   "outputs": [
    {
     "name": "stdout",
     "output_type": "stream",
     "text": [
      "请输入坐车的公里数:可以输入小数1\n",
      "本次打车费用为:15元\n"
     ]
    }
   ],
   "source": [
    "import math\n",
    "km = math.ceil(float(input('请输入坐车的公里数:可以输入小数')))\n",
    "def calculate(km):\n",
    "    if km<=3:\n",
    "        money = 15\n",
    "    elif 3<km<=15:\n",
    "        money = 15+(km-3)*3\n",
    "    elif km>15:\n",
    "        money = 15+12*3+(km-15)*5\n",
    "    print('本次打车费用为:%d元'%money)\n",
    "calculate(km)"
   ]
  },
  {
   "cell_type": "code",
   "execution_count": null,
   "metadata": {},
   "outputs": [],
   "source": [
    "while True:\n",
    "        try:\n",
    "            age = int(input('你今年多大了？'))\n",
    "            break\n",
    "        except ValueError:\n",
    "            print('你输入的不是数字')\n",
    "if age < 18:\n",
    "    print('不可以抽烟喝酒烫头哦')\n"
   ]
  }
 ],
 "metadata": {
  "kernelspec": {
   "display_name": "Python 3",
   "language": "python",
   "name": "python3"
  },
  "language_info": {
   "codemirror_mode": {
    "name": "ipython",
    "version": 3
   },
   "file_extension": ".py",
   "mimetype": "text/x-python",
   "name": "python",
   "nbconvert_exporter": "python",
   "pygments_lexer": "ipython3",
   "version": "3.7.7"
  }
 },
 "nbformat": 4,
 "nbformat_minor": 4
}
