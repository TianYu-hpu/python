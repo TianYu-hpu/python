{
 "cells": [
  {
   "cell_type": "code",
   "execution_count": 3,
   "metadata": {},
   "outputs": [
    {
     "name": "stdout",
     "output_type": "stream",
     "text": [
      "1,3.5,7,9\n",
      "\n",
      "2,4,6,8,10\n",
      "\n",
      "2,4,8,16,32\n",
      "\n",
      "******************************\n",
      "['1', '3.5', '7', '9'][]['2', '4', '6', '8', '10'][]['2', '4', '8', '16', '32'][]"
     ]
    }
   ],
   "source": [
    "import csv\n",
    "list1=[1,3.5,7,9]\n",
    "list2=[2,4,6,8,10]\n",
    "list3=[2,4,8,16,32]\n",
    "with open('libiao.csv','a') as f:\n",
    "    writer=csv.writer(f)\n",
    "    writer.writerow(list1)\n",
    "    writer.writerow(list2)\n",
    "    writer.writerow(list3)\n",
    "myfile=open(r'libiao.csv','r')\n",
    "myfilecontent=myfile.read()\n",
    "myfile.close()\n",
    "for i in myfilecontent:\n",
    "    print(i,end='')\n",
    "print('*'*30)\n",
    "with open('libiao.csv','r') as file:\n",
    "    content=csv.reader(file)\n",
    "    for i in content:\n",
    "        print(i,end='')"
   ]
  },
  {
   "cell_type": "code",
   "execution_count": 2,
   "metadata": {},
   "outputs": [
    {
     "name": "stdout",
     "output_type": "stream",
     "text": [
      "请输入整数(输入s进行排序）：1\n",
      "请输入整数(输入s进行排序）：2\n",
      "请输入整数(输入s进行排序）：3\n",
      "请输入整数(输入s进行排序）：5\n",
      "请输入整数(输入s进行排序）：63452\n",
      "请输入整数(输入s进行排序）：123412\n",
      "请输入整数(输入s进行排序）：2345234\n",
      "请输入整数(输入s进行排序）：s\n",
      "[1, 2, 3, 5, 63452, 123412, 2345234]\n"
     ]
    }
   ],
   "source": [
    "lists=[]\n",
    "while True :\n",
    "     num=input('请输入整数(输入s进行排序）：')\n",
    "     if num=='s':\n",
    "          break\n",
    "     lists.append(int(num))\n",
    "lists.sort()\n",
    "print(lists)"
   ]
  },
  {
   "cell_type": "code",
   "execution_count": null,
   "metadata": {},
   "outputs": [],
   "source": [
    "user_dict = {111: 22, 333: 444}\n",
    "while 1:\n",
    "    print('======登入系统======\\n1.登入\\n2.注册\\n3.退出')\n",
    "    choose = int(input(\"请输入选项：\"))\n",
    "    if choose == 1:\n",
    "        user_num = int(input(\"请输入账号：\"))\n",
    "        if user_num in user_dict:\n",
    "            while 1:\n",
    "                user_pwd = int(input(\"请输入密码：\"))\n",
    "                user_pwd1 = user_dict[user_num]\n",
    "                if user_pwd == user_pwd1:\n",
    "                    print(\"登入成功\")\n",
    "                    break\n",
    "                else:\n",
    "                    print(\"密码错误 请重新输入\")\n",
    "        else:\n",
    "            while 1:\n",
    "                choose2 = input(\"账户不存在 请输入q回到主页：\")\n",
    "                if choose2 == \"q\":\n",
    "                    break\n",
    "    elif choose == 2:\n",
    "        while 1 :\n",
    "            user_num = input(\"请输入账号：\")\n",
    "            print(len(user_num))\n",
    "            if len(user_num) == 1:\n",
    "                print(\"账户长度为1，请重新输入\")\n",
    "                break\n",
    "            else :\n",
    "\n",
    "                if user_num in user_dict:\n",
    "                    while 1:\n",
    "                        choose2 = input(\"账户存在 请输入q回到主页：\")\n",
    "                        if choose2 == \"q\":\n",
    "                            break\n",
    "\n",
    "                else:\n",
    "                    while 1 :\n",
    "                        user_pwd = input(\"请输入密码：\")\n",
    "                        print(len(user_pwd))\n",
    "                        if len(user_pwd) == 1:\n",
    "                            print(\"密码长度为1 请重新输入\")\n",
    "                        else:\n",
    "                            user_dict[user_num] = user_pwd\n",
    "                            print(user_dict)\n",
    "                            print(\"注册成功\")\n",
    "                            break\n",
    "                break"
   ]
  },
  {
   "cell_type": "code",
   "execution_count": null,
   "metadata": {},
   "outputs": [],
   "source": [
    "print(\"您打车%d公里，共需要付费%s元\" % (10, \"100\"))"
   ]
  },
  {
   "cell_type": "code",
   "execution_count": null,
   "metadata": {},
   "outputs": [],
   "source": [
    "print('======登入系统======/n1.登入/n2.注册/3.退出')\n",
    "dict = {'xiaoxiong':'12345678'}\n",
    "while True:\n",
    "    num = int(input('请输入号码'))\n",
    "    if num == 1:\n",
    "        name = input('请输入姓名')\n",
    "        if name in dict:\n",
    "            code = input('请输入密码')\n",
    "            if code == dict[name]:\n",
    "                print('登陆成功')\n",
    "            else:\n",
    "                print('请重新输入')\n",
    "        else:\n",
    "            print('请重新输入')\n",
    "    elif num == 2:\n",
    "        name = input('请输入姓名')\n",
    "        if name in dict:\n",
    "            print('您已注册，请输入q重新登录')\n",
    "        else:\n",
    "            code = input('请输入密码')\n",
    "            dict.append[name:code]\n",
    "            print('您已注册成功')\n",
    "    else:\n",
    "        print('退出')"
   ]
  }
 ],
 "metadata": {
  "kernelspec": {
   "display_name": "Python 3",
   "language": "python",
   "name": "python3"
  },
  "language_info": {
   "codemirror_mode": {
    "name": "ipython",
    "version": 3
   },
   "file_extension": ".py",
   "mimetype": "text/x-python",
   "name": "python",
   "nbconvert_exporter": "python",
   "pygments_lexer": "ipython3",
   "version": "3.7.7"
  }
 },
 "nbformat": 4,
 "nbformat_minor": 4
}
