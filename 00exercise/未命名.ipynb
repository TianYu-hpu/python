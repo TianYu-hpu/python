{
 "cells": [
  {
   "cell_type": "code",
   "execution_count": 4,
   "metadata": {},
   "outputs": [
    {
     "name": "stdout",
     "output_type": "stream",
     "text": [
      "您打车10公里，共需要付费100元\n"
     ]
    }
   ],
   "source": [
    "print(\"您打车%d公里，共需要付费%s元\" % (10, \"100\"))"
   ]
  },
  {
   "cell_type": "code",
   "execution_count": 2,
   "metadata": {},
   "outputs": [
    {
     "name": "stdout",
     "output_type": "stream",
     "text": [
      "======登入系统======/n1.登入/n2.注册/3.退出\n",
      "请输入号码1\n",
      "请输入姓名1\n",
      "请重新输入\n",
      "请输入号码1\n",
      "请输入姓名1\n",
      "请重新输入\n",
      "请输入号码1\n",
      "请输入姓名1\n",
      "请重新输入\n",
      "请输入号码1\n",
      "请输入姓名1`\n",
      "请重新输入\n",
      "请输入号码123\n",
      "退出\n",
      "请输入号码123\n",
      "退出\n",
      "请输入号码exit\n"
     ]
    },
    {
     "ename": "ValueError",
     "evalue": "invalid literal for int() with base 10: 'exit'",
     "output_type": "error",
     "traceback": [
      "\u001b[1;31m---------------------------------------------------------------------------\u001b[0m",
      "\u001b[1;31mValueError\u001b[0m                                Traceback (most recent call last)",
      "\u001b[1;32m<ipython-input-2-cdfaf3b00fc2>\u001b[0m in \u001b[0;36m<module>\u001b[1;34m\u001b[0m\n\u001b[0;32m      2\u001b[0m \u001b[0mdict\u001b[0m \u001b[1;33m=\u001b[0m \u001b[1;33m{\u001b[0m\u001b[1;34m'xiaoxiong'\u001b[0m\u001b[1;33m:\u001b[0m\u001b[1;34m'12345678'\u001b[0m\u001b[1;33m}\u001b[0m\u001b[1;33m\u001b[0m\u001b[1;33m\u001b[0m\u001b[0m\n\u001b[0;32m      3\u001b[0m \u001b[1;32mwhile\u001b[0m \u001b[1;32mTrue\u001b[0m\u001b[1;33m:\u001b[0m\u001b[1;33m\u001b[0m\u001b[1;33m\u001b[0m\u001b[0m\n\u001b[1;32m----> 4\u001b[1;33m     \u001b[0mnum\u001b[0m \u001b[1;33m=\u001b[0m \u001b[0mint\u001b[0m\u001b[1;33m(\u001b[0m\u001b[0minput\u001b[0m\u001b[1;33m(\u001b[0m\u001b[1;34m'请输入号码'\u001b[0m\u001b[1;33m)\u001b[0m\u001b[1;33m)\u001b[0m\u001b[1;33m\u001b[0m\u001b[1;33m\u001b[0m\u001b[0m\n\u001b[0m\u001b[0;32m      5\u001b[0m     \u001b[1;32mif\u001b[0m \u001b[0mnum\u001b[0m \u001b[1;33m==\u001b[0m \u001b[1;36m1\u001b[0m\u001b[1;33m:\u001b[0m\u001b[1;33m\u001b[0m\u001b[1;33m\u001b[0m\u001b[0m\n\u001b[0;32m      6\u001b[0m         \u001b[0mname\u001b[0m \u001b[1;33m=\u001b[0m \u001b[0minput\u001b[0m\u001b[1;33m(\u001b[0m\u001b[1;34m'请输入姓名'\u001b[0m\u001b[1;33m)\u001b[0m\u001b[1;33m\u001b[0m\u001b[1;33m\u001b[0m\u001b[0m\n",
      "\u001b[1;31mValueError\u001b[0m: invalid literal for int() with base 10: 'exit'"
     ]
    }
   ],
   "source": [
    "print('======登入系统======/n1.登入/n2.注册/3.退出')\n",
    "dict = {'xiaoxiong':'12345678'}\n",
    "while True:\n",
    "    num = int(input('请输入号码'))\n",
    "    if num == 1:\n",
    "        name = input('请输入姓名')\n",
    "        if name in dict:\n",
    "            code = input('请输入密码')\n",
    "            if code == dict[name]:\n",
    "                print('登陆成功')\n",
    "            else:\n",
    "                print('请重新输入')\n",
    "        else:\n",
    "            print('请重新输入')\n",
    "    elif num == 2:\n",
    "        name = input('请输入姓名')\n",
    "        if name in dict:\n",
    "            print('您已注册，请输入q重新登录')\n",
    "        else:\n",
    "            code = input('请输入密码')\n",
    "            dict.append[name:code]\n",
    "            print('您已注册成功')\n",
    "    else:\n",
    "        print('退出')"
   ]
  }
 ],
 "metadata": {
  "kernelspec": {
   "display_name": "Python 3",
   "language": "python",
   "name": "python3"
  },
  "language_info": {
   "codemirror_mode": {
    "name": "ipython",
    "version": 3
   },
   "file_extension": ".py",
   "mimetype": "text/x-python",
   "name": "python",
   "nbconvert_exporter": "python",
   "pygments_lexer": "ipython3",
   "version": "3.7.7"
  }
 },
 "nbformat": 4,
 "nbformat_minor": 4
}
