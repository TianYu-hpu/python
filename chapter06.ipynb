{
 "cells": [
  {
   "cell_type": "code",
   "execution_count": 2,
   "metadata": {},
   "outputs": [
    {
     "name": "stdout",
     "output_type": "stream",
     "text": [
      "b'\\xbf\\xaa\\xbf\\xce\\xb0\\xc9'\n",
      "b'\\xe5\\xbc\\x80\\xe8\\xaf\\xbe\\xe5\\x90\\xa7'\n",
      "开课吧\n",
      "开课吧\n",
      "<class 'str'>\n",
      "<class 'bytes'>\n",
      "<class 'bytes'>\n"
     ]
    }
   ],
   "source": [
    "print('开课吧'.encode('gbk'))\n",
    "print('开课吧'.encode('utf-8'))\n",
    "print(b'\\xbf\\xaa\\xbf\\xce\\xb0\\xc9'.decode('gbk'))\n",
    "print(b'\\xe5\\xbc\\x80\\xe8\\xaf\\xbe\\xe5\\x90\\xa7'.decode('utf-8'))\n",
    "\n",
    "print(type('开课吧'))\n",
    "print(type(b'\\xbf\\xaa\\xbf\\xce\\xb0\\xc9'))\n",
    "print(type(b'\\xe5\\xbc\\x80\\xe8\\xaf\\xbe\\xe5\\x90\\xa7'))"
   ]
  },
  {
   "cell_type": "code",
   "execution_count": 44,
   "metadata": {},
   "outputs": [
    {
     "name": "stdout",
     "output_type": "stream",
     "text": [
      "<class 'str'>\n",
      "\n",
      "但行好事莫问前程\n",
      "\n",
      "\n"
     ]
    }
   ],
   "source": [
    "'''\n",
    "myfile是变量，存放读取的文件。\n",
    "第一个r是固定符号。\n",
    "'test.txt'是需要读取文件的文件名,在这里, readfile.py文件与test.txt文件需要放在同一文件夹内。\n",
    "最后一个‘r’是文件打开模式，‘r’代表read, 意为文件读取。\n",
    "'''\n",
    "myfile = open('test.txt','r',encoding='utf-8')\n",
    "'''\n",
    "第二步，我们要来读取文件中的内容。\n",
    "这一句代码，就是使用read()函数，读取myfile变量中文件的数据，将数据放在myfilecontent变量中。\n",
    "之后使用print()函数，看看读取到什么内容。\n",
    "'''\n",
    "\n",
    "myfilecontent = myfile.read()\n",
    "print(type(myfilecontent))\n",
    "print(myfilecontent)\n",
    "# print(myfilecontent.decode(\"utf-8\"))\n",
    "# print(myfilecontent.encode(\"utf-8\"))\n",
    "\n",
    "#最后一步，关闭文件。\n",
    "myfile.close()"
   ]
  },
  {
   "cell_type": "markdown",
   "metadata": {},
   "source": [
    "![avatar](./picture/enter_1625.jpg)"
   ]
  },
  {
   "cell_type": "code",
   "execution_count": 42,
   "metadata": {},
   "outputs": [],
   "source": [
    "'''\n",
    "我们可以看到里面还有‘wb’模式， 它的意思是以二进制的方式打开一个文件用于写入。\n",
    "图片、音频都是以二进制形式存在，所以使用wb模式就好了。后期我们还会遇到。\n",
    "顺便再说一下，好多粗心的小伙伴，在打开文件，读写结束后，忘记关闭文件。\n",
    "但是不关闭文件就会占用电脑内存，使得电脑越来越慢，怎么解决呢？\n",
    "我们可以使用with方法\n",
    "'''\n",
    "with open(r'test.txt','a',encoding='utf-8') as myfile:\n",
    "    myfile.write('但行好事莫问前程\\r\\n')"
   ]
  },
  {
   "cell_type": "code",
   "execution_count": null,
   "metadata": {},
   "outputs": [],
   "source": []
  }
 ],
 "metadata": {
  "kernelspec": {
   "display_name": "Python 3",
   "language": "python",
   "name": "python3"
  },
  "language_info": {
   "codemirror_mode": {
    "name": "ipython",
    "version": 3
   },
   "file_extension": ".py",
   "mimetype": "text/x-python",
   "name": "python",
   "nbconvert_exporter": "python",
   "pygments_lexer": "ipython3",
   "version": "3.7.7"
  }
 },
 "nbformat": 4,
 "nbformat_minor": 4
}
