{
 "cells": [
  {
   "cell_type": "code",
   "execution_count": 12,
   "metadata": {},
   "outputs": [
    {
     "name": "stdout",
     "output_type": "stream",
     "text": [
      "电影的基本信息为：2020-05-01(美国)/莉娅·刘易斯/丹尼尔·迪默/艾丽克西斯·勒梅尔/沃尔夫冈·诺沃格拉茨/邹兆龙/贝琦·安·贝克/恩里克·穆西安诺/麦金太尔·狄克逊/凯瑟琳·科廷/亚历克·廷彻/邦妮·弗兰纳里/泰勒·克罗泽/斯潘塞·沃瓦克...\n",
      "电影的评分信息：7.0(22005人评价)\n",
      "[['真心半解/青春未知数(台)/校园情圣', 'https://movie.douban.com/subject/33420285/', '2020-05-01(美国)/莉娅·刘易斯/丹尼尔·迪默/艾丽克西斯·勒梅尔/沃尔夫冈·诺沃格拉茨/邹兆龙/贝琦·安·贝克/恩里克·穆西安诺/麦金太尔·狄克逊/凯瑟琳·科廷/亚历克·廷彻/邦妮·弗兰纳里/泰勒·克罗泽/斯潘塞·沃瓦克...', '8.0(56639人评价)'], ['惊天营救/极限营救/达卡', 'https://movie.douban.com/subject/30314127/', '2020-04-24(美国)/克里斯·海姆斯沃斯/大卫·哈伯/格什菲·法拉哈尼/德里克·卢克/兰迪普·弘达/克里斯·贾伊·阿历克斯/潘卡·特里帕蒂/马克·多纳托/海斯·威尔弗德/拉亚·坎普贝尔/鲁德赫拉什·贾斯瓦尔/普里延苏·潘尤利...', '7.1(47831人评价)'], ['双鱼陨石/双鱼玉佩/Double', 'https://movie.douban.com/subject/35055448/', '2020-05-05(中国大陆)/丁溪鹤/李凯/郭晓明/刘頔/文婕/中国大陆/丁小洋/96分钟/奇幻/冒险/汉语普通话', '6.8(7030人评价)'], ['悲惨世界', 'https://movie.douban.com/subject/33417030/', '2019-05-15(戛纳电影节)/2019-11-20(法国)/达米安·勃纳尔/亚历克西斯·曼蒂/贾布里勒·宗加/伊萨·佩里卡/阿尔-哈桑·利/史蒂夫·蒂英楚/阿尔玛梅·卡诺特/尼扎·本·菲特玛/让娜·巴利巴尔/亚历山大·皮科特/罗曼·加夫拉斯...', '8.1(32425人评价)'], ['倩女幽魂：人间情/倩女幽魂2/倩女幽魂人间情', 'https://movie.douban.com/subject/30466860/', '2020-05-01(中国大陆)/李凯馨/陈星旭/元华/徐少强/张致恒/王志宏/骆达华/张春仲/王瑜/巫蛊悠悠/中国大陆/林珍钊/96分钟/剧情/爱情/奇幻/阮继志Kai-ChiYun/刘烨坤YekunLiu/张圣帆ShengfanZhang/汉语普通话', '4.9(20057人评价)'], ['列夫·朗道：娜塔莎/Дау.Наташа', 'https://movie.douban.com/subject/34960201/', '2020-02-26(柏林电影节)/2020-04-16(俄罗斯网络)/纳塔利娅·别列日纳娅/吕克·布热/德国/乌克兰/英国/俄罗斯/叶卡特琳娜·奥特尔/伊利亚·赫尔扎诺夫斯基/145分钟/列夫·朗道：娜塔莎/剧情/伊利亚·赫尔扎诺夫斯基Ilya...', '6.4(5777人评价)'], ['黑暗正义联盟：天启星战争', 'https://movie.douban.com/subject/34777818/', '2020-05-05(美国)/托尼·托德/丽贝卡·罗梅恩/罗莎里奥·道森/雷恩·威尔森/卡米拉·卢丁顿/泰莎·法米加/杰瑞·奥康奈尔/谢默·摩尔/克里斯托弗·戈勒姆/马特·瑞安/杰森·奥玛拉/连姆·麦肯泰尔/约翰·迪·马吉欧/...', '7.3(5546人评价)'], ['给我翅膀/迷雁返家路(台)/SpreadYourWings', 'https://movie.douban.com/subject/30410114/', '2019-10-09(法国)/让-保罗·卢弗/梅拉妮·杜泰/路尔斯·瓦兹奎兹/弗雷德里克·索雷尔/丽露·弗格利/葛里高利·巴奎特/多米尼克·皮侬/费利佩·曼吉安/阿丽安·皮瑞/克里斯汀·布雷康尼尔/西里尔·内克尔/塞德里克·梅斯伯格...', '8.6(4195人评价)'], ['标准之外/特殊人生(港)/在你身边(台)', 'https://movie.douban.com/subject/30310218/', '2019-05-25(戛纳电影节)/2019-10-23(法国)/文森特·卡索/勒达·卡代布/海伦·文森特/阿尔班·伊万诺夫/凯瑟琳·蒙切特/弗雷德里克·皮耶罗/苏丽安·卜拉欣/琳娜·库德里/阿罗伊斯·索维奇/海迪·布奇纳法/BenjaminLesieur/Diong-Kéba...', '8.3(6475人评价)'], ['火口的两人/火口秘情/火口的二人', 'https://movie.douban.com/subject/30405087/', '2019-08-23(日本)/柄本佑/泷内公美/柄本明/日本/荒井晴彦/115分钟/火口的两人/爱情/情色/荒井晴彦HaruhikoArai/白石一文KazufumiShiraishi/日语', '7.0(22005人评价)']]\n"
     ]
    }
   ],
   "source": [
    "import requests\n",
    "# 引用requests库\n",
    "from bs4 import BeautifulSoup\n",
    "# 引用BeautifulSoup库\n",
    "\n",
    "headers={'user-agent':'Mozilla/5.0 (Macintosh; Intel Mac OS X 10_14_3) AppleWebKit/537.36 (KHTML, like Gecko) Chrome/79.0.3945.79 Safari/537.36'}\n",
    "res_movies = requests.get('https://movie.douban.com/chart',headers=headers)\n",
    "# 获取数据\n",
    "bs_movies = BeautifulSoup(res_movies.text,'html.parser')\n",
    "# 解析数据\n",
    "list_movies= bs_movies.find_all('div',class_='pl2')\n",
    "# 查找最小父级标签\n",
    "\n",
    "tag_p = list_movies[0].find('p')\n",
    "# 提取第1个父级标签中的<p>标签\n",
    "information = tag_p.text.replace(' ','').replace('\\n','')\n",
    "# 电影基本信息，使用replace方法去掉多余的空格及换行符\n",
    "\n",
    "print('电影的基本信息为：'+ information)\n",
    "# 输出结果\n",
    "# 查找最小父级标签\n",
    "\n",
    "# 提取第0个父级标签中的<div>标签\n",
    "tag_div = list_movies[0].find('div',class_='star clearfix')\n",
    "\n",
    "# 电影评价信息，使用replace方法去掉多余的空格及换行符\n",
    "rating = tag_div.text.replace(' ','').replace('\\n','')\n",
    "list_all = []\n",
    "# 创建一个空列表，用于存储信息\n",
    "\n",
    "for movie in list_movies:\n",
    "    tag_a = movie.find('a')\n",
    "    # 提取第1个父级标签中的<a>标签\n",
    "    name = tag_a.text.replace(' ', '').replace('\\n', '')\n",
    "    # 电影名，使用replace方法去掉多余的空格及换行符\n",
    "    url = tag_a['href']\n",
    "    # 电影详情页的链接\n",
    "    tag_p = movie.find('p', class_='pl')\n",
    "    # 提取第1个父级标签中的<p>标签\n",
    "    information = tag_p.text.replace(' ', '').replace('\\n', '')\n",
    "    # 电影基本信息，使用replace方法去掉多余的空格及换行符\n",
    "    tag_div = movie.find('div', class_='star clearfix')\n",
    "    # 提取第1个父级标签中的<div>标签\n",
    "    rating = tag_div.text.replace(' ', '').replace('\\n', '')\n",
    "    # 电影评分信息，使用replace方法去掉多余的空格及换行符\n",
    "    list_all.append([name,url,information,rating])\n",
    "    # 将电影名、URL、电影基本信息和电影评分信息，封装为列表，用append方法添加进list_all\n",
    "\n",
    "# 打印一部电影的评分信息\n",
    "print('电影的评分信息：' + rating)\n",
    "print(list_all)\n",
    "\n"
   ]
  },
  {
   "cell_type": "code",
   "execution_count": 6,
   "metadata": {},
   "outputs": [
    {
     "name": "stdout",
     "output_type": "stream",
     "text": [
      "床前明月光，疑是地上霜。举头望明月，低头思故乡。\n"
     ]
    }
   ],
   "source": [
    "from bs4 import BeautifulSoup\n",
    "\n",
    "bs = BeautifulSoup('<div><span>床前明月光，</span><span>疑是地上霜。</span><span>举头望明月，</span><span>低头思故乡。</span></div>','html.parser')\n",
    "tag = bs.find('div')\n",
    "print(tag.text)"
   ]
  },
  {
   "cell_type": "code",
   "execution_count": null,
   "metadata": {},
   "outputs": [],
   "source": [
    "bs = BeautifulSoup(\"<div><a href='https://www.kaikeba.com/></a><div>\",'html.parser')\n",
    "tag = bs.find('div')\n",
    "print(tag['href'])\n",
    "# 这样会报错，因为<p>标签没有属性href，href属于<a>标签"
   ]
  }
 ],
 "metadata": {
  "kernelspec": {
   "display_name": "Python 3",
   "language": "python",
   "name": "python3"
  },
  "language_info": {
   "codemirror_mode": {
    "name": "ipython",
    "version": 3
   },
   "file_extension": ".py",
   "mimetype": "text/x-python",
   "name": "python",
   "nbconvert_exporter": "python",
   "pygments_lexer": "ipython3",
   "version": "3.7.7"
  }
 },
 "nbformat": 4,
 "nbformat_minor": 4
}
