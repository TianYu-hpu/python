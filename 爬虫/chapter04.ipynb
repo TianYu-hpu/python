{
 "cells": [
  {
   "cell_type": "code",
   "execution_count": 10,
   "metadata": {},
   "outputs": [
    {
     "name": "stdout",
     "output_type": "stream",
     "text": [
      "歌名：突然好想你\n",
      "歌名：知足\n",
      "歌名：你不是真正的快乐\n",
      "歌名：后来的我们\n",
      "歌名：温柔\n",
      "歌名：倔强\n",
      "歌名：我不愿 让你一个人\n",
      "歌名：离开地球表面\n",
      "歌名：干杯\n",
      "歌名：盛夏光年\n"
     ]
    }
   ],
   "source": [
    "import requests\n",
    "\n",
    "# 引用requests库\n",
    "\n",
    "url = \"https://c.y.qq.com/soso/fcgi-bin/client_search_cp?ct=24&qqmusic_ver=1298&new_json=1&remoteplace=txt.yqq.song&searchid=65805191174562925&t=0&aggr=1&cr=1&catZhida=1&lossless=0&flag_qc=0&p=1&n=10&w=%E4%BA%94%E6%9C%88%E5%A4%A9&g_tk=5381&loginUin=0&hostUin=0&format=json&inCharset=utf8&outCharset=utf-8&notice=0&platform=yqq.json&needNewCode=0\"\n",
    "\n",
    "res_music = requests.get(url)\n",
    "\n",
    "# 调用get方法，下载这个字典\n",
    "\n",
    "json_music = res_music.json()\n",
    "\n",
    "# 使用json()方法，将response对象，转为列表/字典\n",
    "\n",
    "list_music = json_music['data']['song']['list']\n",
    "\n",
    "# 一层一层地取字典，获取歌单列表\n",
    "\n",
    "for music in list_music:\n",
    "\n",
    "# list_music是一个列表，music是它里面的元素\n",
    "    print('歌名：'+music['name'])\n",
    "    # 以name为键，查找歌曲名\n",
    "\n",
    "# 把它打印出来"
   ]
  },
  {
   "cell_type": "code",
   "execution_count": 12,
   "metadata": {},
   "outputs": [
    {
     "name": "stdout",
     "output_type": "stream",
     "text": [
      "[1, 2, 3, 4]\n",
      "<class 'str'>\n",
      "[1, 2, 3, 4]\n",
      "<class 'list'>\n"
     ]
    }
   ],
   "source": [
    "import json\n",
    "\n",
    "# 引入json模块\n",
    "\n",
    "a = [1,2,3,4]\n",
    "\n",
    "# 创建一个列表a。\n",
    "\n",
    "b = json.dumps(a)\n",
    "\n",
    "# 使用dumps()函数，将列表a转换为json格式的字符串，赋值给b。\n",
    "\n",
    "print(b)\n",
    "\n",
    "# 打印b。\n",
    "\n",
    "print(type(b))\n",
    "\n",
    "# 打印b的数据类型。\n",
    "\n",
    "c = json.loads(b)\n",
    "\n",
    "# 使用loads()函数，将json格式的字符串b转为列表，赋值给c。\n",
    "\n",
    "print(c)\n",
    "\n",
    "# 打印c。\n",
    "\n",
    "print(type(c))\n",
    "\n",
    "# 打印c的数据类型。"
   ]
  },
  {
   "cell_type": "code",
   "execution_count": 13,
   "metadata": {},
   "outputs": [
    {
     "name": "stdout",
     "output_type": "stream",
     "text": [
      "{'title': '今天是学习爬虫的第1天！', 'date': '2019.10.1', 'content': '今天是学习爬虫的第1天！我学习了爬虫基础啦！'}\n",
      "<class 'dict'>\n"
     ]
    }
   ],
   "source": [
    "import json\n",
    "\n",
    "a = {\"title\": \"今天是学习爬虫的第1天！\", \"date\":\"2019.10.1\", \"content\":\"今天是学习爬虫的第1天！我学习了爬虫基础啦！\"}\n",
    "b = json.dumps(a)\n",
    "c = json.loads(b)\n",
    "print(c)\n",
    "\n",
    "print(type(c)) \n",
    "\n"
   ]
  }
 ],
 "metadata": {
  "kernelspec": {
   "display_name": "Python 3",
   "language": "python",
   "name": "python3"
  },
  "language_info": {
   "codemirror_mode": {
    "name": "ipython",
    "version": 3
   },
   "file_extension": ".py",
   "mimetype": "text/x-python",
   "name": "python",
   "nbconvert_exporter": "python",
   "pygments_lexer": "ipython3",
   "version": "3.7.7"
  }
 },
 "nbformat": 4,
 "nbformat_minor": 4
}
