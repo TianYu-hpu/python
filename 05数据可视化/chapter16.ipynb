{
 "cells": [
  {
   "cell_type": "markdown",
   "metadata": {},
   "source": [
    "# 认知超载\n",
    "我们一起来练习如何清理图表中的“垃圾”，去掉那些对传递信息没有帮助的元素。  \n",
    "这个图怎么这么垃圾？！  \n",
    "\n",
    "【案例】：图表中的垃圾。  \n",
    "\n",
    "所谓图表垃圾（Chartjunk）是指绘图中任何对获得洞察力没有帮助的东西。  \n",
    "\n",
    "也就是说，删除图表中的垃圾会使绘图中的数据更容易理解。  \n",
    "\n",
    "接下来，大家会看到第 2 章中 “最出色的嘻哈歌曲” 的散点图，这次我们添加了一些金光闪闪。  \n",
    "![](./picture/16-1.png)\n",
    "运行下面的脚本，我们将获得一个垃圾图表，看看我们给绘图做了哪些“装修”的工作。  "
   ]
  },
  {
   "cell_type": "code",
   "execution_count": null,
   "metadata": {},
   "outputs": [],
   "source": [
    "import sys\n",
    "sys.path.append('/data/course_data/visualization')\n",
    "from dvfe_04_05 import display_chart_junk_plot\n",
    "display_chart_junk_plot()"
   ]
  },
  {
   "cell_type": "markdown",
   "metadata": {},
   "source": [
    "这个图画的真可谓是费力不讨好，绘图的脚本如下："
   ]
  },
  {
   "cell_type": "code",
   "execution_count": null,
   "metadata": {},
   "outputs": [],
   "source": [
    "# 导入工具包\n",
    "import pandas as pd\n",
    "from bokeh.plotting import figure, show\n",
    "from bokeh.io import output_notebook; output_notebook()\n",
    "\n",
    "def display_chart_junk_plot():\n",
    "\n",
    "    # 读取数据\n",
    "    df_songs = pd.read_csv('./data/course_data/visualization/data-kOlSQ.csv')\n",
    "    x = df_songs['Year']\n",
    "    y = df_songs['Critic rating']\n",
    "\n",
    "    p = figure(\n",
    "        frame_width = 400,\n",
    "        frame_height = 350\n",
    "    )\n",
    "\n",
    "    # 绘制 $ 符号\n",
    "    p.text(\n",
    "        x, y, \n",
    "        color='#887623', \n",
    "        text=['$' for _ in df_songs['Critic rating']], \n",
    "        text_baseline='middle', text_align='center', text_font_size='16pt')\n",
    "\n",
    "    # -------------------------------------------------- #\n",
    "    # 设置金黄背景色\n",
    "    p.background_fill_color = '#F9D949'\n",
    "\n",
    "    # 装修坐标轴样式\n",
    "    p.axis.axis_label_text_color = '#F9D949'\n",
    "    p.axis.axis_label_text_font_style = 'bold italic'\n",
    "    p.axis.axis_line_width = 0\n",
    "    p.axis.major_label_text_color = '#F9D949'\n",
    "    p.axis.major_label_text_font_style = 'bold italic'\n",
    "    p.axis.major_label_text_font_size = '32px'\n",
    "    p.axis.major_tick_line_width = 12\n",
    "    p.axis.minor_tick_line_width = 0\n",
    "    p.axis.major_tick_line_color = '#887623'\n",
    "    p.axis.ticker.num_minor_ticks = 2\n",
    "    p.yaxis.axis_label = '评论家评论得分'\n",
    "    p.yaxis.axis_label_text_font_size = '32px'\n",
    "    p.yaxis.ticker.desired_num_ticks = 3\n",
    "\n",
    "    # 装修网格样式\n",
    "    p.grid.grid_line_width = 12\n",
    "    p.grid.grid_line_color = '#887623'\n",
    "    p.grid.minor_grid_line_width = 5\n",
    "    p.grid.minor_grid_line_color = '#887623'\n",
    "    # -------------------------------------------------- #\n",
    "\n",
    "    # 展示绘图\n",
    "    show(p)\n",
    "display_chart_junk_plot()"
   ]
  }
 ],
 "metadata": {
  "kernelspec": {
   "display_name": "Python 3",
   "language": "python",
   "name": "python3"
  },
  "language_info": {
   "codemirror_mode": {
    "name": "ipython",
    "version": 3
   },
   "file_extension": ".py",
   "mimetype": "text/x-python",
   "name": "python",
   "nbconvert_exporter": "python",
   "pygments_lexer": "ipython3",
   "version": "3.7.7"
  }
 },
 "nbformat": 4,
 "nbformat_minor": 4
}
