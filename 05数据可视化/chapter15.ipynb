{
 "cells": [
  {
   "cell_type": "markdown",
   "metadata": {},
   "source": [
    "在数据可视化中，坐标轴也会起到非常重要的作用，我们来看看坐标轴是如何称为“魔鬼”的。\n",
    "条形图的坐标轴\n",
    "\n",
    "【案例】条形图（Bar Plot）的坐标轴，是否从零开始会让绘图完全不一样。\n",
    "\n",
    "当我们查看条形图的时候，我们会比较每个条形的相对长度，长度之间的比较可以帮助解读数据图表。\n",
    "\n",
    "如果坐标轴不包含零，或者说条形不是从零开始绘制的，条形的长度就不能反应数据的全部。\n",
    "\n",
    "而且，如果坐标轴不是从零开始的，条形之间的相对长度也会被“扭曲”，非常容易产生误导。\n",
    "\n",
    "这个案例中，我们将使用英国健康大调查（Health Survey for England）中的另一个数据，关于英国男性得哮喘病的比例。\n",
    "\n",
    "问卷中，响应者可以回答两个选项：\n",
    "  ✭ - 有哮喘（Asthmatic）。\n",
    "  ✭ - 没有哮喘（Not asthmatic）。\n",
    "\n",
    "“没有哮喘” 是指在过去的 12 个月内，没有哮喘的症状，也没有摄取任何治疗哮喘的药物。\n",
    "\n",
    "运行下面脚本，切换“是否在 y 轴上包含零。”单选框，对比两种不同版本的 y 坐标轴对绘图产生的影响。\n",
    "\n"
   ]
  },
  {
   "cell_type": "code",
   "execution_count": null,
   "metadata": {},
   "outputs": [],
   "source": [
    "import sys\n",
    "sys.path.append('/data/course_data/visualization')\n",
    "from dvfe_04_03 import interact_asthma_survey_app\n",
    "interact_asthma_survey_app()"
   ]
  },
  {
   "cell_type": "markdown",
   "metadata": {},
   "source": [
    "运行下面脚本，可以查看原始数据。"
   ]
  },
  {
   "cell_type": "code",
   "execution_count": null,
   "metadata": {},
   "outputs": [],
   "source": [
    "import pandas as pd\n",
    "\n",
    "# 读取原始数据\n",
    "df_asthma = pd.read_excel('/data/course_data/visualization/HSE18-Asthma-tab.xlsx', sheet_name=3)\n",
    "\n",
    "# 修改数据列的名称\n",
    "columns = df_asthma.loc[2]\n",
    "columns[0] = 'asthma_men'\n",
    "columns[-1] = 'Total'\n",
    "df_asthma.columns = columns\n",
    "\n",
    "# 筛选包含男性的数据\n",
    "df_asthma_men = df_asthma.loc[df_asthma.index.isin([9, 12])].copy()\n",
    "df_asthma_men.asthma_men = ['没有哮喘（Not asthmatic）', '有哮喘（Asthmatic）']\n",
    "df_asthma_men      "
   ]
  },
  {
   "cell_type": "code",
   "execution_count": null,
   "metadata": {},
   "outputs": [],
   "source": [
    "选择题\n",
    "通过对比两个不同版本的绘图，下面的选项中哪个表述是正确的：\n",
    "A. 所有年龄分组中，哮喘的患病比例均低于 15%。\n",
    "B. 16-24 岁年龄组相比 45-54 岁年龄组，“没有哮喘”的百分比超过两倍。\n",
    "C. 35-74 岁年龄段的男性，有哮喘病的人占多数。\n",
    "D. 根据年龄组的不同，哮喘的患病率为 40% 至 80% 不等。\n",
    "\n",
    "不好意思，你答错了，正确答案是：A。\n",
    "\n",
    "查看 y 轴起点为 0 的绘图，否则条形之间的相对长度没有任何意义。\n",
    "双坐标轴（Dual Axes）\n",
    "\n",
    "【案例】：双坐标轴，对比股票。\n",
    "\n",
    "一个非常流行但很可怕的想法是用两个不同的 y 轴来绘制散点图或线图。\n",
    "\n",
    "这种想法通常会发生在：当我们有两个“度量单位”不同、“比例”不同的指标时，希望要针对共同的 x 轴进行绘制。\n",
    "\n",
    "这种想法的问题在于，通过更改两个轴之间的关系，我们几乎可以使用同样的数据讲述任何故事。\n",
    "\n",
    "在这个案例中，我们将用到微软（MSFT）和亚马逊（AMZN）从 2017 年到 2020 年的股票价格数据。\n",
    "\n",
    "在第 3 章中也曾看到过这些股票的数据集，但当时每支股票的价格都相对于该公司的最高股价进行了调整。\n",
    "\n",
    "调整之后，每只股票的数值都在 0～1 之间，使得每支股票都是可比的。\n",
    "\n",
    "在这个案例中，股票价格已针对股息和拆分进行了调整，但尚未相对最大值进行缩放调整。\n",
    "\n",
    "运行下面脚本，调整 AMZN 线的垂直位置和斜率的陡度：\n",
    "  ✭ Amazon 的 y 轴的 0 点在左侧 y 轴的坐标。\n",
    "  ✭ Amazon 的 y 轴区间相对于左侧 y 轴的区间的比例尺。"
   ]
  },
  {
   "cell_type": "code",
   "execution_count": null,
   "metadata": {},
   "outputs": [],
   "source": [
    "import sys\n",
    "sys.path.append('/data/course_data/visualization')\n",
    "from dvfe_04_04 import interact_finance_app\n",
    "interact_finance_app()"
   ]
  },
  {
   "cell_type": "markdown",
   "metadata": {},
   "source": [
    "下面的脚本可以看到原始数据。"
   ]
  },
  {
   "cell_type": "code",
   "execution_count": null,
   "metadata": {},
   "outputs": [],
   "source": [
    "import pandas as pd\n",
    "\n",
    "# 微软的股票数据\n",
    "df_msft = pd.read_csv('./data/course_data/visualization/MSFT.csv')\n",
    "df_msft.info()"
   ]
  },
  {
   "cell_type": "markdown",
   "metadata": {},
   "source": [
    "第二条原始数据。"
   ]
  },
  {
   "cell_type": "code",
   "execution_count": null,
   "metadata": {},
   "outputs": [],
   "source": [
    "import pandas as pd\n",
    "\n",
    "# 亚马逊的股票数据\n",
    "df_amzn = pd.read_csv('./data/course_data/visualization/AMZN.csv')\n",
    "df_amzn.info()"
   ]
  },
  {
   "cell_type": "markdown",
   "metadata": {},
   "source": [
    "选择题\n",
    "根据上面运行的微软（MSFT）和亚马逊（AMZN）两只股票的数据绘图，下面说法正确的选项是：\n",
    "A. MSFT 和 AMZN 是强正相关的。\n",
    "B. MSFT 和 AMZN 是强负相关的。\n",
    "C. MSFT 和 AMZN 没有相关性。\n",
    "D. 我们通过这个绘图无法得出 MSFT 和 AMZN 之间的相关性。\n",
    "\n",
    "恭喜你答对了！答案是：D。\n",
    "\n",
    "您在尝试将 AMZN 的 y 轴的垂直位置和倾斜度移至滑块上的每个极限的过程中，能否看到有关两条股票价格线之间一致性的关系吗？\n",
    "\n",
    "我们不能找到一致性的关系，随着滑动滑块，不难发现两条线在图中呈现的相关性是不断在变化的。\n",
    "\n",
    "恭喜，您又学完了一课，希望您在学习中心里留下您的思考和学习笔记。"
   ]
  }
 ],
 "metadata": {
  "kernelspec": {
   "display_name": "Python 3",
   "language": "python",
   "name": "python3"
  },
  "language_info": {
   "codemirror_mode": {
    "name": "ipython",
    "version": 3
   },
   "file_extension": ".py",
   "mimetype": "text/x-python",
   "name": "python",
   "nbconvert_exporter": "python",
   "pygments_lexer": "ipython3",
   "version": "3.7.7"
  }
 },
 "nbformat": 4,
 "nbformat_minor": 4
}
