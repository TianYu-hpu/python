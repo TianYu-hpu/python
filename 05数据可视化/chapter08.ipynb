{
 "cells": [
  {
   "cell_type": "markdown",
   "metadata": {},
   "source": [
    "# ⽤点图讲故事\n",
    "\n",
    "我们来一起画几个点图吧，练习解读点图中的含义～  \n",
    "\n",
    "【案例】：练习从点图中发现洞察。  \n",
    "\n",
    "点图（Dot Plot）与柱形图的用途是类似的，因为它们都是用于显示类别变量的每个类别的数字度量。  \n",
    "\n",
    "\n",
    "与柱形图相比，点图有两个优点：  \n",
    "\n",
    "✭ 可以使用对数刻度来显示指标数据；  \n",
    "✭ 可以为每个类别显示多个指标数据。  \n",
    "\n",
    "这个案例是关于 ESPN 2017 年度前 100 名著名运动员的社交媒体的被关注情况，数据可视化用点图绘制而成。  \n",
    "\n",
    "每行展示一位运动员在三个社交平台上的指标数据：Facebook，Instagram 和 Twitter 上的关注者数量。  \n",
    "\n",
    "下面可以看到案例的点图，绘图满足以下几个条件：  \n",
    "\n",
    "✭ 仅显示了与篮球，板球，足球和网球相关的运动员；  \n",
    "✭ 被显示出来的运动员在每个社交媒体平台上都有帐户；  \n",
    "✭ 每个运动的运动员（行）均按字母顺序排序。  \n",
    "![](./picture/8-1.png)\n",
    "选择题  \n",
    "下面问题来了，根据绘图中所呈现的信息，下面哪个关于运动员社交媒体账户描述是错误的，请把描述错误的选项选择出来：  \n",
    "A. Basketball（篮球）：Russell Westbrook（拉塞尔-维斯布鲁克）在 Instagram 上的关注者比 Carmelo Anthony（卡梅罗-安东尼）的多。  \n",
    "B. Cricket（板球）：Virat Kohli（维拉-科利乐）在 Fackbook 上的关注者比其他平台的都多。  \n",
    "C. Soccer（足球）：Christiano Ronaldo（C罗）在 Twitter 上的关注者比 Marcelo Viera（马塞洛）的多。  \n",
    "D. Tennis（网球）：Maria Sharapova（莎拉波娃）在 Facebook 上的关注者比 Roger Federer（费德勒）的多。  \n",
    "\n",
    "不好意思，你答错了，应该选C，C项描述错误，还需要加油哦！  \n",
    "\n",
    "回答这个问题的时候，需要比较细心的观察点的相对位置，具体的步骤是这样的：  \n",
    "\n",
    "✭查看图例，并记下哪种颜色对应于哪个社交媒体平台。  \n",
    "✭扫描 y 轴上的运动员列表，直到找到您感兴趣的名字（名字是按照字母进行排序的，找的时候可以根据首字母快速查找）。  \n",
    "✭从 y 轴感兴趣的名字向右看，直到找到感兴趣的平台的点，然后向下看 x 轴，读取相应的数值。  \n",
    "\n",
    "【案例】巨无霸的全球售价，对就是麦当劳的那个巨无霸汉堡包。  \n",
    "## 点图的排序，发现洞察！  \n",
    "\n",
    "我们来练习解读点图（Dot Plot），通过对点图进行排序来发现洞察。  \n",
    "\n",
    "与箱形图和条形图一样，在点图中，对行进行排序的方式，会影响易于回答的问题类型。  \n",
    "\n",
    "在这个案例中我们可以看到巨无霸指数：麦当劳巨无霸在全球各个国家的价格（2020 年 1 月）。  \n",
    "\n",
    "✭“实际价格” 是转换为美元（USD）的价格。  \n",
    "✭“ GDP 调整价格” 是根据国家的人均国内生产总值（GDP）进行了修正的价格。粗略地讲，如果人们在一个国家中的收入越少，那么使用调整后的价格将花费更少。    \n",
    "\n",
    "数据来源：《经济学人》。    \n",
    "\n",
    "运行下面的脚本，并回答问题。  "
   ]
  },
  {
   "cell_type": "code",
   "execution_count": null,
   "metadata": {},
   "outputs": [],
   "source": [
    "import pandas as pd\n",
    "import sys\n",
    "sys.path.append('/data/course_data/visualization')\n",
    "from dvfe_02_08 import interact_big_macs_app\n",
    "app = interact_big_macs_app()"
   ]
  },
  {
   "cell_type": "markdown",
   "metadata": {},
   "source": [
    "这里是原始的数据集文件："
   ]
  },
  {
   "cell_type": "code",
   "execution_count": 5,
   "metadata": {},
   "outputs": [
    {
     "data": {
      "text/html": [
       "<div>\n",
       "<style scoped>\n",
       "    .dataframe tbody tr th:only-of-type {\n",
       "        vertical-align: middle;\n",
       "    }\n",
       "\n",
       "    .dataframe tbody tr th {\n",
       "        vertical-align: top;\n",
       "    }\n",
       "\n",
       "    .dataframe thead th {\n",
       "        text-align: right;\n",
       "    }\n",
       "</style>\n",
       "<table border=\"1\" class=\"dataframe\">\n",
       "  <thead>\n",
       "    <tr style=\"text-align: right;\">\n",
       "      <th></th>\n",
       "      <th>name</th>\n",
       "      <th>iso_a3</th>\n",
       "      <th>currency_code</th>\n",
       "      <th>local_price</th>\n",
       "      <th>dollar_ex</th>\n",
       "      <th>GDP_dollar</th>\n",
       "      <th>date</th>\n",
       "    </tr>\n",
       "  </thead>\n",
       "  <tbody>\n",
       "  </tbody>\n",
       "</table>\n",
       "</div>"
      ],
      "text/plain": [
       "Empty DataFrame\n",
       "Columns: [name, iso_a3, currency_code, local_price, dollar_ex, GDP_dollar, date]\n",
       "Index: []"
      ]
     },
     "execution_count": 5,
     "metadata": {},
     "output_type": "execute_result"
    }
   ],
   "source": [
    "import pandas as pd\n",
    "\n",
    "df_big_macs = pd.read_csv('./data/big-mac-source-data.csv')\n",
    "df_big_macs[df_big_macs.date == '2020-01-14'].head(5)"
   ]
  },
  {
   "cell_type": "markdown",
   "metadata": {},
   "source": [
    "这里是计算之后的数据集："
   ]
  },
  {
   "cell_type": "code",
   "execution_count": 6,
   "metadata": {},
   "outputs": [
    {
     "ename": "ModuleNotFoundError",
     "evalue": "No module named 'dvfe_02_08'",
     "output_type": "error",
     "traceback": [
      "\u001b[1;31m---------------------------------------------------------------------------\u001b[0m",
      "\u001b[1;31mModuleNotFoundError\u001b[0m                       Traceback (most recent call last)",
      "\u001b[1;32m<ipython-input-6-eb8f79281147>\u001b[0m in \u001b[0;36m<module>\u001b[1;34m\u001b[0m\n\u001b[0;32m      2\u001b[0m \u001b[1;32mimport\u001b[0m \u001b[0msys\u001b[0m\u001b[1;33m\u001b[0m\u001b[1;33m\u001b[0m\u001b[0m\n\u001b[0;32m      3\u001b[0m \u001b[0msys\u001b[0m\u001b[1;33m.\u001b[0m\u001b[0mpath\u001b[0m\u001b[1;33m.\u001b[0m\u001b[0mappend\u001b[0m\u001b[1;33m(\u001b[0m\u001b[1;34m'/data/course_data/visualization'\u001b[0m\u001b[1;33m)\u001b[0m\u001b[1;33m\u001b[0m\u001b[1;33m\u001b[0m\u001b[0m\n\u001b[1;32m----> 4\u001b[1;33m \u001b[1;32mfrom\u001b[0m \u001b[0mdvfe_02_08\u001b[0m \u001b[1;32mimport\u001b[0m \u001b[0minteract_big_macs_app\u001b[0m\u001b[1;33m\u001b[0m\u001b[1;33m\u001b[0m\u001b[0m\n\u001b[0m\u001b[0;32m      5\u001b[0m \u001b[0mapp\u001b[0m \u001b[1;33m=\u001b[0m \u001b[0minteract_big_macs_app\u001b[0m\u001b[1;33m(\u001b[0m\u001b[1;33m)\u001b[0m\u001b[1;33m\u001b[0m\u001b[1;33m\u001b[0m\u001b[0m\n\u001b[0;32m      6\u001b[0m \u001b[1;33m\u001b[0m\u001b[0m\n",
      "\u001b[1;31mModuleNotFoundError\u001b[0m: No module named 'dvfe_02_08'"
     ]
    }
   ],
   "source": [
    "import pandas as pd\n",
    "import sys\n",
    "sys.path.append('/data/course_data/visualization')\n",
    "from dvfe_02_08 import interact_big_macs_app\n",
    "app = interact_big_macs_app()\n",
    "\n",
    "app.df.head(5)"
   ]
  },
  {
   "cell_type": "markdown",
   "metadata": {},
   "source": [
    "我们会在第二章的项目中为大家详细解释他们计算及可视化的过程。  \n",
    "\n",
    "上面脚本运行后，在默认情况下，点图中的行按字母顺序排列，使得查找特定国家/地区的价格确实非常容易，但是哪里的巨无霸汉堡最贵？哪里的最便宜呢？\n",
    "这样的问题就比较难回答。通过按价格的高低对行进行排序，这些问题将更易于回答。  \n",
    "\n",
    "选择题  \n",
    "下面哪个表述是正确的？请选择出正确的选项。  \n",
    "A. 按实际价格计算，Ukraine（乌克兰）的巨无霸价格排名第五。  \n",
    "B. 按 GDP 调整价格之后，有 4 个国家的巨无霸的价格超过 5 美元。  \n",
    "C. 按 GDP 调整价格之后，South Africa（南非）的巨无霸价格最便宜。  \n",
    "D. 按实际价格计算，Azerbaijan（阿塞拜疆）的巨无霸价格排名第五。  \n",
    "\n",
    "答案是B恭喜您，答对了！  \n",
    "\n",
    "✭要查看 “巨无霸” 汉堡包价格最高的国家/地区，请按相应的价格排序，然后从顶部开始倒数，并在 y 轴上阅读国家/地区名称。  \n",
    "✭要计数 “巨无霸” 汉堡包的价格超过一定价格的国家/地区，请按相应的价格排序，在 x 轴上找到价格下限，然后计算该限制右边有点的行数。  \n",
    "\n",
    "我们在本章的项目中，还会使用到这个巨无霸价格和国家 GDP 的数据集，来一起学习如何计算巨无霸指数，用这个指数来评价各个的货币汇率在理论上是否合理。  \n",
    "\n",
    "恭喜，您又学完了一课，希望您在学习中心里留下您的思考和学习笔记  "
   ]
  }
 ],
 "metadata": {
  "kernelspec": {
   "display_name": "Python 3",
   "language": "python",
   "name": "python3"
  },
  "language_info": {
   "codemirror_mode": {
    "name": "ipython",
    "version": 3
   },
   "file_extension": ".py",
   "mimetype": "text/x-python",
   "name": "python",
   "nbconvert_exporter": "python",
   "pygments_lexer": "ipython3",
   "version": "3.7.7"
  }
 },
 "nbformat": 4,
 "nbformat_minor": 4
}
