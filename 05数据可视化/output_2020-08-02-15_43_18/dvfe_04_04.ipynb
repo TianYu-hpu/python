{
 "cells": [
  {
   "cell_type": "markdown",
   "metadata": {},
   "source": [
    "## 1. Data：探索德国联邦议院数据集\n",
    "\n",
    "这个案例在谈论与政治相关的话题，我们在展开可视化探索之前，最终要的起点就是对数据集进行全面的了解，对数据集中各个字段所代表的含义要有充分的认知。\n",
    "\n",
    "- State：州的英文名称；\n",
    "- Population：州的人口数量；\n",
    "- Seats：州所获的的联邦议院席位数；\n",
    "- Population per Seat：每个席位所对应的人口数；\n",
    "- Governing parties：执政党联盟；\n",
    "- Next regular election：下一次选举时间；\n",
    "- Presidency：总统职位每年在每个州之间进行轮换，现任总统的前任是第一副总统，继任者是第二副总统。\n",
    "- State_zh_cn：州名称的中文译文；\n",
    "- Primary party：州的第一执政党；\n",
    "- Secondary party：州的第二执政党；\n",
    "- Tertiary party：州的第三执政党；\n",
    "- State abbr：州名称的缩写。\n",
    "\n",
    "**主要任务：**\n",
    "\n",
    "- 查看数据集中有几个州（State）？\n",
    "- 查看数据集中席位（Seats）的总数是多少？\n",
    "- 修改 `...` 位置的脚本：\n",
    "\n",
    "```python\n",
    "num_of_state = ... \n",
    "num_of_total_seats = ... \n",
    "```"
   ]
  },
  {
   "cell_type": "code",
   "execution_count": 1,
   "metadata": {
    "kkbSpbl": {
     "cellId": "6Ndl4LTU2K49TXs3bcb",
     "taskId": "5cd5473d-a74d-4f13-828c-bf6dc133a1e9",
     "taskNum": 1
    }
   },
   "outputs": [
    {
     "name": "stdout",
     "output_type": "stream",
     "text": [
      "州数量：16\n",
      "总席位数量：69\n"
     ]
    },
    {
     "data": {
      "text/html": [
       "<div>\n",
       "<style scoped>\n",
       "    .dataframe tbody tr th:only-of-type {\n",
       "        vertical-align: middle;\n",
       "    }\n",
       "\n",
       "    .dataframe tbody tr th {\n",
       "        vertical-align: top;\n",
       "    }\n",
       "\n",
       "    .dataframe thead th {\n",
       "        text-align: right;\n",
       "    }\n",
       "</style>\n",
       "<table border=\"1\" class=\"dataframe\">\n",
       "  <thead>\n",
       "    <tr style=\"text-align: right;\">\n",
       "      <th></th>\n",
       "      <th>State</th>\n",
       "      <th>Population</th>\n",
       "      <th>Seats</th>\n",
       "      <th>Population per Seat</th>\n",
       "      <th>Governing parties</th>\n",
       "      <th>Next regular election</th>\n",
       "      <th>Presidency</th>\n",
       "      <th>State_zh_cn</th>\n",
       "      <th>Primary party</th>\n",
       "      <th>Secondary party</th>\n",
       "      <th>Tertiary party</th>\n",
       "      <th>State abbr</th>\n",
       "    </tr>\n",
       "  </thead>\n",
       "  <tbody>\n",
       "    <tr>\n",
       "      <th>0</th>\n",
       "      <td>North Rhine-Westphalia</td>\n",
       "      <td>17,865,516</td>\n",
       "      <td>6</td>\n",
       "      <td>2,977,586</td>\n",
       "      <td>CDU + FDP</td>\n",
       "      <td>2022</td>\n",
       "      <td>2026/27</td>\n",
       "      <td>北莱茵-威斯特法伦州</td>\n",
       "      <td>CDU</td>\n",
       "      <td>FDP</td>\n",
       "      <td>NaN</td>\n",
       "      <td>DE-NW</td>\n",
       "    </tr>\n",
       "    <tr>\n",
       "      <th>1</th>\n",
       "      <td>Bavaria</td>\n",
       "      <td>12,843,514</td>\n",
       "      <td>6</td>\n",
       "      <td>2,140,586</td>\n",
       "      <td>CSU + FW</td>\n",
       "      <td>2023</td>\n",
       "      <td>2027/28</td>\n",
       "      <td>巴伐利亚</td>\n",
       "      <td>CSU</td>\n",
       "      <td>FW</td>\n",
       "      <td>NaN</td>\n",
       "      <td>DE-BY</td>\n",
       "    </tr>\n",
       "    <tr>\n",
       "      <th>2</th>\n",
       "      <td>Baden-Württemberg</td>\n",
       "      <td>10,879,618</td>\n",
       "      <td>6</td>\n",
       "      <td>1,813,270</td>\n",
       "      <td>Grüne + CDU</td>\n",
       "      <td>2021</td>\n",
       "      <td>2028/29</td>\n",
       "      <td>巴登-符腾堡州</td>\n",
       "      <td>Grüne</td>\n",
       "      <td>CDU</td>\n",
       "      <td>NaN</td>\n",
       "      <td>DE-BW</td>\n",
       "    </tr>\n",
       "    <tr>\n",
       "      <th>3</th>\n",
       "      <td>Lower Saxony</td>\n",
       "      <td>7,926,599</td>\n",
       "      <td>6</td>\n",
       "      <td>1,321,100</td>\n",
       "      <td>SPD + CDU</td>\n",
       "      <td>2022</td>\n",
       "      <td>2029/30</td>\n",
       "      <td>下萨克森州</td>\n",
       "      <td>SPD</td>\n",
       "      <td>CDU</td>\n",
       "      <td>NaN</td>\n",
       "      <td>DE-NI</td>\n",
       "    </tr>\n",
       "    <tr>\n",
       "      <th>4</th>\n",
       "      <td>Hesse</td>\n",
       "      <td>6,176,172</td>\n",
       "      <td>5</td>\n",
       "      <td>1,235,234</td>\n",
       "      <td>CDU + Grüne</td>\n",
       "      <td>2023</td>\n",
       "      <td>2030/31</td>\n",
       "      <td>黑森州</td>\n",
       "      <td>CDU</td>\n",
       "      <td>Grüne</td>\n",
       "      <td>NaN</td>\n",
       "      <td>DE-HE</td>\n",
       "    </tr>\n",
       "    <tr>\n",
       "      <th>5</th>\n",
       "      <td>Schleswig-Holstein</td>\n",
       "      <td>2,858,714</td>\n",
       "      <td>4</td>\n",
       "      <td>714,679</td>\n",
       "      <td>CDU + Grüne + FDP</td>\n",
       "      <td>2022</td>\n",
       "      <td>2034/35</td>\n",
       "      <td>石勒苏益格-荷尔斯泰因州</td>\n",
       "      <td>CDU</td>\n",
       "      <td>Grüne</td>\n",
       "      <td>FDP</td>\n",
       "      <td>DE-SH</td>\n",
       "    </tr>\n",
       "    <tr>\n",
       "      <th>6</th>\n",
       "      <td>Saxony</td>\n",
       "      <td>4,084,851</td>\n",
       "      <td>4</td>\n",
       "      <td>1,021,213</td>\n",
       "      <td>CDU + SPD + Grüne</td>\n",
       "      <td>2024</td>\n",
       "      <td>2031/32</td>\n",
       "      <td>萨克森</td>\n",
       "      <td>CDU</td>\n",
       "      <td>SPD</td>\n",
       "      <td>Grüne</td>\n",
       "      <td>DE-SL</td>\n",
       "    </tr>\n",
       "    <tr>\n",
       "      <th>7</th>\n",
       "      <td>Saxony-Anhalt</td>\n",
       "      <td>2,245,470</td>\n",
       "      <td>4</td>\n",
       "      <td>561,368</td>\n",
       "      <td>CDU + SPD + Grüne</td>\n",
       "      <td>2021</td>\n",
       "      <td>2020/21</td>\n",
       "      <td>萨克森-安哈尔特州</td>\n",
       "      <td>CDU</td>\n",
       "      <td>SPD</td>\n",
       "      <td>Grüne</td>\n",
       "      <td>DE-ST</td>\n",
       "    </tr>\n",
       "    <tr>\n",
       "      <th>8</th>\n",
       "      <td>Thuringia</td>\n",
       "      <td>2,170,714</td>\n",
       "      <td>4</td>\n",
       "      <td>542,679</td>\n",
       "      <td>Linke + SPD + Grüne</td>\n",
       "      <td>2024</td>\n",
       "      <td>2021/22</td>\n",
       "      <td>图林根州</td>\n",
       "      <td>Linke</td>\n",
       "      <td>SPD</td>\n",
       "      <td>Grüne</td>\n",
       "      <td>DE-TH</td>\n",
       "    </tr>\n",
       "    <tr>\n",
       "      <th>9</th>\n",
       "      <td>Brandenburg</td>\n",
       "      <td>2,484,826</td>\n",
       "      <td>4</td>\n",
       "      <td>621,207</td>\n",
       "      <td>SPD + CDU + Grüne</td>\n",
       "      <td>2024</td>\n",
       "      <td>current</td>\n",
       "      <td>勃兰登堡</td>\n",
       "      <td>SPD</td>\n",
       "      <td>CDU</td>\n",
       "      <td>Grüne</td>\n",
       "      <td>DE-BB</td>\n",
       "    </tr>\n",
       "    <tr>\n",
       "      <th>10</th>\n",
       "      <td>Rhineland-Palatinate</td>\n",
       "      <td>4,052,803</td>\n",
       "      <td>4</td>\n",
       "      <td>1,013,201</td>\n",
       "      <td>SPD + FDP + Grüne</td>\n",
       "      <td>2021</td>\n",
       "      <td>2032/33</td>\n",
       "      <td>莱茵兰-普法尔茨州</td>\n",
       "      <td>SPD</td>\n",
       "      <td>FDP</td>\n",
       "      <td>Grüne</td>\n",
       "      <td>DE-RP</td>\n",
       "    </tr>\n",
       "    <tr>\n",
       "      <th>11</th>\n",
       "      <td>Berlin</td>\n",
       "      <td>3,520,031</td>\n",
       "      <td>4</td>\n",
       "      <td>880,008</td>\n",
       "      <td>SPD + Linke + Grüne</td>\n",
       "      <td>2021</td>\n",
       "      <td>2033/34</td>\n",
       "      <td>柏林</td>\n",
       "      <td>SPD</td>\n",
       "      <td>Linke</td>\n",
       "      <td>Grüne</td>\n",
       "      <td>DE-BE</td>\n",
       "    </tr>\n",
       "    <tr>\n",
       "      <th>12</th>\n",
       "      <td>Saarland</td>\n",
       "      <td>995,597</td>\n",
       "      <td>3</td>\n",
       "      <td>331,866</td>\n",
       "      <td>CDU + SPD</td>\n",
       "      <td>2022</td>\n",
       "      <td>2024/25</td>\n",
       "      <td>萨尔</td>\n",
       "      <td>CDU</td>\n",
       "      <td>SPD</td>\n",
       "      <td>NaN</td>\n",
       "      <td>DE-SL</td>\n",
       "    </tr>\n",
       "    <tr>\n",
       "      <th>13</th>\n",
       "      <td>Mecklenburg-Vorpommern</td>\n",
       "      <td>1,612,362</td>\n",
       "      <td>3</td>\n",
       "      <td>537,454</td>\n",
       "      <td>SPD + CDU</td>\n",
       "      <td>2021</td>\n",
       "      <td>2023/24</td>\n",
       "      <td>梅克伦堡-前波美拉尼亚州</td>\n",
       "      <td>SPD</td>\n",
       "      <td>CDU</td>\n",
       "      <td>NaN</td>\n",
       "      <td>DE-MV</td>\n",
       "    </tr>\n",
       "    <tr>\n",
       "      <th>14</th>\n",
       "      <td>Hamburg</td>\n",
       "      <td>1,787,408</td>\n",
       "      <td>3</td>\n",
       "      <td>595,803</td>\n",
       "      <td>SPD + Grüne</td>\n",
       "      <td>2025</td>\n",
       "      <td>2022/23</td>\n",
       "      <td>汉堡</td>\n",
       "      <td>SPD</td>\n",
       "      <td>Grüne</td>\n",
       "      <td>NaN</td>\n",
       "      <td>DE-HH</td>\n",
       "    </tr>\n",
       "    <tr>\n",
       "      <th>15</th>\n",
       "      <td>Bremen</td>\n",
       "      <td>671,489</td>\n",
       "      <td>3</td>\n",
       "      <td>223,830</td>\n",
       "      <td>SPD + Grüne + Linke</td>\n",
       "      <td>2023</td>\n",
       "      <td>2025/26</td>\n",
       "      <td>不来梅</td>\n",
       "      <td>SPD</td>\n",
       "      <td>Grüne</td>\n",
       "      <td>Linke</td>\n",
       "      <td>DE-HB</td>\n",
       "    </tr>\n",
       "  </tbody>\n",
       "</table>\n",
       "</div>"
      ],
      "text/plain": [
       "                     State  Population  Seats Population per Seat  \\\n",
       "0   North Rhine-Westphalia  17,865,516      6           2,977,586   \n",
       "1                  Bavaria  12,843,514      6           2,140,586   \n",
       "2        Baden-Württemberg  10,879,618      6           1,813,270   \n",
       "3             Lower Saxony   7,926,599      6           1,321,100   \n",
       "4                    Hesse   6,176,172      5           1,235,234   \n",
       "5       Schleswig-Holstein   2,858,714      4             714,679   \n",
       "6                   Saxony   4,084,851      4           1,021,213   \n",
       "7            Saxony-Anhalt   2,245,470      4             561,368   \n",
       "8                Thuringia   2,170,714      4             542,679   \n",
       "9              Brandenburg   2,484,826      4             621,207   \n",
       "10    Rhineland-Palatinate   4,052,803      4           1,013,201   \n",
       "11                  Berlin   3,520,031      4             880,008   \n",
       "12                Saarland     995,597      3             331,866   \n",
       "13  Mecklenburg-Vorpommern   1,612,362      3             537,454   \n",
       "14                 Hamburg   1,787,408      3             595,803   \n",
       "15                  Bremen     671,489      3             223,830   \n",
       "\n",
       "      Governing parties  Next regular election Presidency   State_zh_cn  \\\n",
       "0             CDU + FDP                   2022    2026/27    北莱茵-威斯特法伦州   \n",
       "1              CSU + FW                   2023    2027/28          巴伐利亚   \n",
       "2           Grüne + CDU                   2021    2028/29       巴登-符腾堡州   \n",
       "3             SPD + CDU                   2022    2029/30         下萨克森州   \n",
       "4           CDU + Grüne                   2023    2030/31           黑森州   \n",
       "5     CDU + Grüne + FDP                   2022    2034/35  石勒苏益格-荷尔斯泰因州   \n",
       "6     CDU + SPD + Grüne                   2024    2031/32           萨克森   \n",
       "7     CDU + SPD + Grüne                   2021    2020/21     萨克森-安哈尔特州   \n",
       "8   Linke + SPD + Grüne                   2024    2021/22          图林根州   \n",
       "9     SPD + CDU + Grüne                   2024    current          勃兰登堡   \n",
       "10    SPD + FDP + Grüne                   2021    2032/33     莱茵兰-普法尔茨州   \n",
       "11  SPD + Linke + Grüne                   2021    2033/34            柏林   \n",
       "12            CDU + SPD                   2022    2024/25            萨尔   \n",
       "13            SPD + CDU                   2021    2023/24  梅克伦堡-前波美拉尼亚州   \n",
       "14          SPD + Grüne                   2025    2022/23            汉堡   \n",
       "15  SPD + Grüne + Linke                   2023    2025/26           不来梅   \n",
       "\n",
       "   Primary party Secondary party Tertiary party State abbr  \n",
       "0            CDU             FDP            NaN      DE-NW  \n",
       "1            CSU              FW            NaN      DE-BY  \n",
       "2          Grüne             CDU            NaN      DE-BW  \n",
       "3            SPD             CDU            NaN      DE-NI  \n",
       "4            CDU           Grüne            NaN      DE-HE  \n",
       "5            CDU           Grüne            FDP      DE-SH  \n",
       "6            CDU             SPD          Grüne      DE-SL  \n",
       "7            CDU             SPD          Grüne      DE-ST  \n",
       "8          Linke             SPD          Grüne      DE-TH  \n",
       "9            SPD             CDU          Grüne      DE-BB  \n",
       "10           SPD             FDP          Grüne      DE-RP  \n",
       "11           SPD           Linke          Grüne      DE-BE  \n",
       "12           CDU             SPD            NaN      DE-SL  \n",
       "13           SPD             CDU            NaN      DE-MV  \n",
       "14           SPD           Grüne            NaN      DE-HH  \n",
       "15           SPD           Grüne          Linke      DE-HB  "
      ]
     },
     "execution_count": 1,
     "metadata": {},
     "output_type": "execute_result"
    }
   ],
   "source": [
    "# ... 这里需要您编写 - 任务 1 的代码 ...\n",
    "\n",
    "# 导入 pandas 模块，并简称为 pd\n",
    "import pandas as pd\n",
    "\n",
    "# 加载德国联邦议院数据集\n",
    "df_germany_federal_concil = pd.read_csv(\n",
    "    '/data/course_data/visualization/germany_federal_concil.csv',\n",
    "    index_col = 0\n",
    ").reset_index(\n",
    "    drop = True\n",
    ")\n",
    "\n",
    "# 查看数据集中有几个州（State）？\n",
    "# 查看数据集中席位（Seats）的总数是多少？\n",
    "num_of_state =  len(df_germany_federal_concil.State.unique())\n",
    "num_of_total_seats = df_germany_federal_concil.Seats.sum()\n",
    "\n",
    "print(f'州数量：{num_of_state}')\n",
    "print(f'总席位数量：{num_of_total_seats}')\n",
    "\n",
    "# 查看数据集的全部数据\n",
    "df_germany_federal_concil"
   ]
  },
  {
   "cell_type": "markdown",
   "metadata": {
    "kkbSpbl": {
     "taskId": "e9cdc0ce-6115-4068-b7ec-fb3dc6419bb3",
     "taskNum": 2
    }
   },
   "source": [
    "## 2. 联邦议院的席位如何划分？\n",
    "\n",
    "我们开始第一步探索，从各州的执政党联盟开始，分析各个州分别有多少选票，了解各个州在德国联邦政府中的整体地位。\n",
    "\n",
    "**主要任务：**\n",
    "\n",
    "- 第一步：准备绘图所需要的数据，并存储在 `df_data_by_coalition` 数据框中，将 `aggregation_method = ...` 中的 `...` 修改为正确的值；\n",
    "- 第二步：根据 `df_data_by_coalition` 数据进行绘图，绘制横向的条形图。"
   ]
  },
  {
   "cell_type": "code",
   "execution_count": 2,
   "metadata": {
    "kkbSpbl": {
     "cellId": "glsM9L5dSTxCUsrq4lr",
     "taskId": "8c7c8b9b-8be7-4a20-9aa5-0c3ee5962bb6",
     "taskNum": 2
    }
   },
   "outputs": [
    {
     "data": {
      "text/html": [
       "\n",
       "    <div class=\"bk-root\">\n",
       "        <a href=\"https://bokeh.org\" target=\"_blank\" class=\"bk-logo bk-logo-small bk-logo-notebook\"></a>\n",
       "        <span id=\"1001\">Loading BokehJS ...</span>\n",
       "    </div>"
      ]
     },
     "metadata": {},
     "output_type": "display_data"
    },
    {
     "data": {
      "application/javascript": [
       "\n",
       "(function(root) {\n",
       "  function now() {\n",
       "    return new Date();\n",
       "  }\n",
       "\n",
       "  var force = true;\n",
       "\n",
       "  if (typeof root._bokeh_onload_callbacks === \"undefined\" || force === true) {\n",
       "    root._bokeh_onload_callbacks = [];\n",
       "    root._bokeh_is_loading = undefined;\n",
       "  }\n",
       "\n",
       "  var JS_MIME_TYPE = 'application/javascript';\n",
       "  var HTML_MIME_TYPE = 'text/html';\n",
       "  var EXEC_MIME_TYPE = 'application/vnd.bokehjs_exec.v0+json';\n",
       "  var CLASS_NAME = 'output_bokeh rendered_html';\n",
       "\n",
       "  /**\n",
       "   * Render data to the DOM node\n",
       "   */\n",
       "  function render(props, node) {\n",
       "    var script = document.createElement(\"script\");\n",
       "    node.appendChild(script);\n",
       "  }\n",
       "\n",
       "  /**\n",
       "   * Handle when an output is cleared or removed\n",
       "   */\n",
       "  function handleClearOutput(event, handle) {\n",
       "    var cell = handle.cell;\n",
       "\n",
       "    var id = cell.output_area._bokeh_element_id;\n",
       "    var server_id = cell.output_area._bokeh_server_id;\n",
       "    // Clean up Bokeh references\n",
       "    if (id != null && id in Bokeh.index) {\n",
       "      Bokeh.index[id].model.document.clear();\n",
       "      delete Bokeh.index[id];\n",
       "    }\n",
       "\n",
       "    if (server_id !== undefined) {\n",
       "      // Clean up Bokeh references\n",
       "      var cmd = \"from bokeh.io.state import curstate; print(curstate().uuid_to_server['\" + server_id + \"'].get_sessions()[0].document.roots[0]._id)\";\n",
       "      cell.notebook.kernel.execute(cmd, {\n",
       "        iopub: {\n",
       "          output: function(msg) {\n",
       "            var id = msg.content.text.trim();\n",
       "            if (id in Bokeh.index) {\n",
       "              Bokeh.index[id].model.document.clear();\n",
       "              delete Bokeh.index[id];\n",
       "            }\n",
       "          }\n",
       "        }\n",
       "      });\n",
       "      // Destroy server and session\n",
       "      var cmd = \"import bokeh.io.notebook as ion; ion.destroy_server('\" + server_id + \"')\";\n",
       "      cell.notebook.kernel.execute(cmd);\n",
       "    }\n",
       "  }\n",
       "\n",
       "  /**\n",
       "   * Handle when a new output is added\n",
       "   */\n",
       "  function handleAddOutput(event, handle) {\n",
       "    var output_area = handle.output_area;\n",
       "    var output = handle.output;\n",
       "\n",
       "    // limit handleAddOutput to display_data with EXEC_MIME_TYPE content only\n",
       "    if ((output.output_type != \"display_data\") || (!output.data.hasOwnProperty(EXEC_MIME_TYPE))) {\n",
       "      return\n",
       "    }\n",
       "\n",
       "    var toinsert = output_area.element.find(\".\" + CLASS_NAME.split(' ')[0]);\n",
       "\n",
       "    if (output.metadata[EXEC_MIME_TYPE][\"id\"] !== undefined) {\n",
       "      toinsert[toinsert.length - 1].firstChild.textContent = output.data[JS_MIME_TYPE];\n",
       "      // store reference to embed id on output_area\n",
       "      output_area._bokeh_element_id = output.metadata[EXEC_MIME_TYPE][\"id\"];\n",
       "    }\n",
       "    if (output.metadata[EXEC_MIME_TYPE][\"server_id\"] !== undefined) {\n",
       "      var bk_div = document.createElement(\"div\");\n",
       "      bk_div.innerHTML = output.data[HTML_MIME_TYPE];\n",
       "      var script_attrs = bk_div.children[0].attributes;\n",
       "      for (var i = 0; i < script_attrs.length; i++) {\n",
       "        toinsert[toinsert.length - 1].firstChild.setAttribute(script_attrs[i].name, script_attrs[i].value);\n",
       "        toinsert[toinsert.length - 1].firstChild.textContent = bk_div.children[0].textContent\n",
       "      }\n",
       "      // store reference to server id on output_area\n",
       "      output_area._bokeh_server_id = output.metadata[EXEC_MIME_TYPE][\"server_id\"];\n",
       "    }\n",
       "  }\n",
       "\n",
       "  function register_renderer(events, OutputArea) {\n",
       "\n",
       "    function append_mime(data, metadata, element) {\n",
       "      // create a DOM node to render to\n",
       "      var toinsert = this.create_output_subarea(\n",
       "        metadata,\n",
       "        CLASS_NAME,\n",
       "        EXEC_MIME_TYPE\n",
       "      );\n",
       "      this.keyboard_manager.register_events(toinsert);\n",
       "      // Render to node\n",
       "      var props = {data: data, metadata: metadata[EXEC_MIME_TYPE]};\n",
       "      render(props, toinsert[toinsert.length - 1]);\n",
       "      element.append(toinsert);\n",
       "      return toinsert\n",
       "    }\n",
       "\n",
       "    /* Handle when an output is cleared or removed */\n",
       "    events.on('clear_output.CodeCell', handleClearOutput);\n",
       "    events.on('delete.Cell', handleClearOutput);\n",
       "\n",
       "    /* Handle when a new output is added */\n",
       "    events.on('output_added.OutputArea', handleAddOutput);\n",
       "\n",
       "    /**\n",
       "     * Register the mime type and append_mime function with output_area\n",
       "     */\n",
       "    OutputArea.prototype.register_mime_type(EXEC_MIME_TYPE, append_mime, {\n",
       "      /* Is output safe? */\n",
       "      safe: true,\n",
       "      /* Index of renderer in `output_area.display_order` */\n",
       "      index: 0\n",
       "    });\n",
       "  }\n",
       "\n",
       "  // register the mime type if in Jupyter Notebook environment and previously unregistered\n",
       "  if (root.Jupyter !== undefined) {\n",
       "    var events = require('base/js/events');\n",
       "    var OutputArea = require('notebook/js/outputarea').OutputArea;\n",
       "\n",
       "    if (OutputArea.prototype.mime_types().indexOf(EXEC_MIME_TYPE) == -1) {\n",
       "      register_renderer(events, OutputArea);\n",
       "    }\n",
       "  }\n",
       "\n",
       "  \n",
       "  if (typeof (root._bokeh_timeout) === \"undefined\" || force === true) {\n",
       "    root._bokeh_timeout = Date.now() + 5000;\n",
       "    root._bokeh_failed_load = false;\n",
       "  }\n",
       "\n",
       "  var NB_LOAD_WARNING = {'data': {'text/html':\n",
       "     \"<div style='background-color: #fdd'>\\n\"+\n",
       "     \"<p>\\n\"+\n",
       "     \"BokehJS does not appear to have successfully loaded. If loading BokehJS from CDN, this \\n\"+\n",
       "     \"may be due to a slow or bad network connection. Possible fixes:\\n\"+\n",
       "     \"</p>\\n\"+\n",
       "     \"<ul>\\n\"+\n",
       "     \"<li>re-rerun `output_notebook()` to attempt to load from CDN again, or</li>\\n\"+\n",
       "     \"<li>use INLINE resources instead, as so:</li>\\n\"+\n",
       "     \"</ul>\\n\"+\n",
       "     \"<code>\\n\"+\n",
       "     \"from bokeh.resources import INLINE\\n\"+\n",
       "     \"output_notebook(resources=INLINE)\\n\"+\n",
       "     \"</code>\\n\"+\n",
       "     \"</div>\"}};\n",
       "\n",
       "  function display_loaded() {\n",
       "    var el = document.getElementById(\"1001\");\n",
       "    if (el != null) {\n",
       "      el.textContent = \"BokehJS is loading...\";\n",
       "    }\n",
       "    if (root.Bokeh !== undefined) {\n",
       "      if (el != null) {\n",
       "        el.textContent = \"BokehJS \" + root.Bokeh.version + \" successfully loaded.\";\n",
       "      }\n",
       "    } else if (Date.now() < root._bokeh_timeout) {\n",
       "      setTimeout(display_loaded, 100)\n",
       "    }\n",
       "  }\n",
       "\n",
       "\n",
       "  function run_callbacks() {\n",
       "    try {\n",
       "      root._bokeh_onload_callbacks.forEach(function(callback) {\n",
       "        if (callback != null)\n",
       "          callback();\n",
       "      });\n",
       "    } finally {\n",
       "      delete root._bokeh_onload_callbacks\n",
       "    }\n",
       "    console.debug(\"Bokeh: all callbacks have finished\");\n",
       "  }\n",
       "\n",
       "  function load_libs(css_urls, js_urls, callback) {\n",
       "    if (css_urls == null) css_urls = [];\n",
       "    if (js_urls == null) js_urls = [];\n",
       "\n",
       "    root._bokeh_onload_callbacks.push(callback);\n",
       "    if (root._bokeh_is_loading > 0) {\n",
       "      console.debug(\"Bokeh: BokehJS is being loaded, scheduling callback at\", now());\n",
       "      return null;\n",
       "    }\n",
       "    if (js_urls == null || js_urls.length === 0) {\n",
       "      run_callbacks();\n",
       "      return null;\n",
       "    }\n",
       "    console.debug(\"Bokeh: BokehJS not loaded, scheduling load and callback at\", now());\n",
       "    root._bokeh_is_loading = css_urls.length + js_urls.length;\n",
       "\n",
       "    function on_load() {\n",
       "      root._bokeh_is_loading--;\n",
       "      if (root._bokeh_is_loading === 0) {\n",
       "        console.debug(\"Bokeh: all BokehJS libraries/stylesheets loaded\");\n",
       "        run_callbacks()\n",
       "      }\n",
       "    }\n",
       "\n",
       "    function on_error() {\n",
       "      console.error(\"failed to load \" + url);\n",
       "    }\n",
       "\n",
       "    for (var i = 0; i < css_urls.length; i++) {\n",
       "      var url = css_urls[i];\n",
       "      const element = document.createElement(\"link\");\n",
       "      element.onload = on_load;\n",
       "      element.onerror = on_error;\n",
       "      element.rel = \"stylesheet\";\n",
       "      element.type = \"text/css\";\n",
       "      element.href = url;\n",
       "      console.debug(\"Bokeh: injecting link tag for BokehJS stylesheet: \", url);\n",
       "      document.body.appendChild(element);\n",
       "    }\n",
       "\n",
       "    const hashes = {\"https://cdn.bokeh.org/bokeh/release/bokeh-2.0.1.min.js\": \"JpP8FXbgAZLkfur7LiK3j9AGBhHNIvF742meBJrjO2ShJDhCG2I1uVvW+0DUtrmc\", \"https://cdn.bokeh.org/bokeh/release/bokeh-widgets-2.0.1.min.js\": \"xZlADit0Q04ISQEdKg2k3L4W9AwQBAuDs9nJL9fM/WwzL1tEU9VPNezOFX0nLEAz\", \"https://cdn.bokeh.org/bokeh/release/bokeh-tables-2.0.1.min.js\": \"4BuPRZkdMKSnj3zoxiNrQ86XgNw0rYmBOxe7nshquXwwcauupgBF2DHLVG1WuZlV\", \"https://cdn.bokeh.org/bokeh/release/bokeh-gl-2.0.1.min.js\": \"Dv1SQ87hmDqK6S5OhBf0bCuwAEvL5QYL0PuR/F1SPVhCS/r/abjkbpKDYL2zeM19\"};\n",
       "\n",
       "    for (var i = 0; i < js_urls.length; i++) {\n",
       "      var url = js_urls[i];\n",
       "      var element = document.createElement('script');\n",
       "      element.onload = on_load;\n",
       "      element.onerror = on_error;\n",
       "      element.async = false;\n",
       "      element.src = url;\n",
       "      if (url in hashes) {\n",
       "        element.crossOrigin = \"anonymous\";\n",
       "        element.integrity = \"sha384-\" + hashes[url];\n",
       "      }\n",
       "      console.debug(\"Bokeh: injecting script tag for BokehJS library: \", url);\n",
       "      document.head.appendChild(element);\n",
       "    }\n",
       "  };var element = document.getElementById(\"1001\");\n",
       "  if (element == null) {\n",
       "    console.error(\"Bokeh: ERROR: autoload.js configured with elementid '1001' but no matching script tag was found. \")\n",
       "    return false;\n",
       "  }\n",
       "\n",
       "  function inject_raw_css(css) {\n",
       "    const element = document.createElement(\"style\");\n",
       "    element.appendChild(document.createTextNode(css));\n",
       "    document.body.appendChild(element);\n",
       "  }\n",
       "\n",
       "  \n",
       "  var js_urls = [\"https://cdn.bokeh.org/bokeh/release/bokeh-2.0.1.min.js\", \"https://cdn.bokeh.org/bokeh/release/bokeh-widgets-2.0.1.min.js\", \"https://cdn.bokeh.org/bokeh/release/bokeh-tables-2.0.1.min.js\", \"https://cdn.bokeh.org/bokeh/release/bokeh-gl-2.0.1.min.js\"];\n",
       "  var css_urls = [];\n",
       "  \n",
       "\n",
       "  var inline_js = [\n",
       "    function(Bokeh) {\n",
       "      Bokeh.set_log_level(\"info\");\n",
       "    },\n",
       "    function(Bokeh) {\n",
       "    \n",
       "    \n",
       "    }\n",
       "  ];\n",
       "\n",
       "  function run_inline_js() {\n",
       "    \n",
       "    if (root.Bokeh !== undefined || force === true) {\n",
       "      \n",
       "    for (var i = 0; i < inline_js.length; i++) {\n",
       "      inline_js[i].call(root, root.Bokeh);\n",
       "    }\n",
       "    if (force === true) {\n",
       "        display_loaded();\n",
       "      }} else if (Date.now() < root._bokeh_timeout) {\n",
       "      setTimeout(run_inline_js, 100);\n",
       "    } else if (!root._bokeh_failed_load) {\n",
       "      console.log(\"Bokeh: BokehJS failed to load within specified timeout.\");\n",
       "      root._bokeh_failed_load = true;\n",
       "    } else if (force !== true) {\n",
       "      var cell = $(document.getElementById(\"1001\")).parents('.cell').data().cell;\n",
       "      cell.output_area.append_execute_result(NB_LOAD_WARNING)\n",
       "    }\n",
       "\n",
       "  }\n",
       "\n",
       "  if (root._bokeh_is_loading === 0) {\n",
       "    console.debug(\"Bokeh: BokehJS loaded, going straight to plotting\");\n",
       "    run_inline_js();\n",
       "  } else {\n",
       "    load_libs(css_urls, js_urls, function() {\n",
       "      console.debug(\"Bokeh: BokehJS plotting callback run at\", now());\n",
       "      run_inline_js();\n",
       "    });\n",
       "  }\n",
       "}(window));"
      ],
      "application/vnd.bokehjs_load.v0+json": "\n(function(root) {\n  function now() {\n    return new Date();\n  }\n\n  var force = true;\n\n  if (typeof root._bokeh_onload_callbacks === \"undefined\" || force === true) {\n    root._bokeh_onload_callbacks = [];\n    root._bokeh_is_loading = undefined;\n  }\n\n  \n\n  \n  if (typeof (root._bokeh_timeout) === \"undefined\" || force === true) {\n    root._bokeh_timeout = Date.now() + 5000;\n    root._bokeh_failed_load = false;\n  }\n\n  var NB_LOAD_WARNING = {'data': {'text/html':\n     \"<div style='background-color: #fdd'>\\n\"+\n     \"<p>\\n\"+\n     \"BokehJS does not appear to have successfully loaded. If loading BokehJS from CDN, this \\n\"+\n     \"may be due to a slow or bad network connection. Possible fixes:\\n\"+\n     \"</p>\\n\"+\n     \"<ul>\\n\"+\n     \"<li>re-rerun `output_notebook()` to attempt to load from CDN again, or</li>\\n\"+\n     \"<li>use INLINE resources instead, as so:</li>\\n\"+\n     \"</ul>\\n\"+\n     \"<code>\\n\"+\n     \"from bokeh.resources import INLINE\\n\"+\n     \"output_notebook(resources=INLINE)\\n\"+\n     \"</code>\\n\"+\n     \"</div>\"}};\n\n  function display_loaded() {\n    var el = document.getElementById(\"1001\");\n    if (el != null) {\n      el.textContent = \"BokehJS is loading...\";\n    }\n    if (root.Bokeh !== undefined) {\n      if (el != null) {\n        el.textContent = \"BokehJS \" + root.Bokeh.version + \" successfully loaded.\";\n      }\n    } else if (Date.now() < root._bokeh_timeout) {\n      setTimeout(display_loaded, 100)\n    }\n  }\n\n\n  function run_callbacks() {\n    try {\n      root._bokeh_onload_callbacks.forEach(function(callback) {\n        if (callback != null)\n          callback();\n      });\n    } finally {\n      delete root._bokeh_onload_callbacks\n    }\n    console.debug(\"Bokeh: all callbacks have finished\");\n  }\n\n  function load_libs(css_urls, js_urls, callback) {\n    if (css_urls == null) css_urls = [];\n    if (js_urls == null) js_urls = [];\n\n    root._bokeh_onload_callbacks.push(callback);\n    if (root._bokeh_is_loading > 0) {\n      console.debug(\"Bokeh: BokehJS is being loaded, scheduling callback at\", now());\n      return null;\n    }\n    if (js_urls == null || js_urls.length === 0) {\n      run_callbacks();\n      return null;\n    }\n    console.debug(\"Bokeh: BokehJS not loaded, scheduling load and callback at\", now());\n    root._bokeh_is_loading = css_urls.length + js_urls.length;\n\n    function on_load() {\n      root._bokeh_is_loading--;\n      if (root._bokeh_is_loading === 0) {\n        console.debug(\"Bokeh: all BokehJS libraries/stylesheets loaded\");\n        run_callbacks()\n      }\n    }\n\n    function on_error() {\n      console.error(\"failed to load \" + url);\n    }\n\n    for (var i = 0; i < css_urls.length; i++) {\n      var url = css_urls[i];\n      const element = document.createElement(\"link\");\n      element.onload = on_load;\n      element.onerror = on_error;\n      element.rel = \"stylesheet\";\n      element.type = \"text/css\";\n      element.href = url;\n      console.debug(\"Bokeh: injecting link tag for BokehJS stylesheet: \", url);\n      document.body.appendChild(element);\n    }\n\n    const hashes = {\"https://cdn.bokeh.org/bokeh/release/bokeh-2.0.1.min.js\": \"JpP8FXbgAZLkfur7LiK3j9AGBhHNIvF742meBJrjO2ShJDhCG2I1uVvW+0DUtrmc\", \"https://cdn.bokeh.org/bokeh/release/bokeh-widgets-2.0.1.min.js\": \"xZlADit0Q04ISQEdKg2k3L4W9AwQBAuDs9nJL9fM/WwzL1tEU9VPNezOFX0nLEAz\", \"https://cdn.bokeh.org/bokeh/release/bokeh-tables-2.0.1.min.js\": \"4BuPRZkdMKSnj3zoxiNrQ86XgNw0rYmBOxe7nshquXwwcauupgBF2DHLVG1WuZlV\", \"https://cdn.bokeh.org/bokeh/release/bokeh-gl-2.0.1.min.js\": \"Dv1SQ87hmDqK6S5OhBf0bCuwAEvL5QYL0PuR/F1SPVhCS/r/abjkbpKDYL2zeM19\"};\n\n    for (var i = 0; i < js_urls.length; i++) {\n      var url = js_urls[i];\n      var element = document.createElement('script');\n      element.onload = on_load;\n      element.onerror = on_error;\n      element.async = false;\n      element.src = url;\n      if (url in hashes) {\n        element.crossOrigin = \"anonymous\";\n        element.integrity = \"sha384-\" + hashes[url];\n      }\n      console.debug(\"Bokeh: injecting script tag for BokehJS library: \", url);\n      document.head.appendChild(element);\n    }\n  };var element = document.getElementById(\"1001\");\n  if (element == null) {\n    console.error(\"Bokeh: ERROR: autoload.js configured with elementid '1001' but no matching script tag was found. \")\n    return false;\n  }\n\n  function inject_raw_css(css) {\n    const element = document.createElement(\"style\");\n    element.appendChild(document.createTextNode(css));\n    document.body.appendChild(element);\n  }\n\n  \n  var js_urls = [\"https://cdn.bokeh.org/bokeh/release/bokeh-2.0.1.min.js\", \"https://cdn.bokeh.org/bokeh/release/bokeh-widgets-2.0.1.min.js\", \"https://cdn.bokeh.org/bokeh/release/bokeh-tables-2.0.1.min.js\", \"https://cdn.bokeh.org/bokeh/release/bokeh-gl-2.0.1.min.js\"];\n  var css_urls = [];\n  \n\n  var inline_js = [\n    function(Bokeh) {\n      Bokeh.set_log_level(\"info\");\n    },\n    function(Bokeh) {\n    \n    \n    }\n  ];\n\n  function run_inline_js() {\n    \n    if (root.Bokeh !== undefined || force === true) {\n      \n    for (var i = 0; i < inline_js.length; i++) {\n      inline_js[i].call(root, root.Bokeh);\n    }\n    if (force === true) {\n        display_loaded();\n      }} else if (Date.now() < root._bokeh_timeout) {\n      setTimeout(run_inline_js, 100);\n    } else if (!root._bokeh_failed_load) {\n      console.log(\"Bokeh: BokehJS failed to load within specified timeout.\");\n      root._bokeh_failed_load = true;\n    } else if (force !== true) {\n      var cell = $(document.getElementById(\"1001\")).parents('.cell').data().cell;\n      cell.output_area.append_execute_result(NB_LOAD_WARNING)\n    }\n\n  }\n\n  if (root._bokeh_is_loading === 0) {\n    console.debug(\"Bokeh: BokehJS loaded, going straight to plotting\");\n    run_inline_js();\n  } else {\n    load_libs(css_urls, js_urls, function() {\n      console.debug(\"Bokeh: BokehJS plotting callback run at\", now());\n      run_inline_js();\n    });\n  }\n}(window));"
     },
     "metadata": {},
     "output_type": "display_data"
    },
    {
     "data": {
      "text/html": [
       "\n",
       "\n",
       "\n",
       "\n",
       "\n",
       "\n",
       "  <div class=\"bk-root\" id=\"edffaca9-3cf4-4151-a4fb-672c9027f33e\" data-root-id=\"1002\"></div>\n"
      ]
     },
     "metadata": {},
     "output_type": "display_data"
    },
    {
     "data": {
      "application/javascript": [
       "(function(root) {\n",
       "  function embed_document(root) {\n",
       "    \n",
       "  var docs_json = {\"fa4f7a24-6bcd-4985-a74c-8fc711626db4\":{\"roots\":{\"references\":[{\"attributes\":{\"below\":[{\"id\":\"1011\"}],\"center\":[{\"id\":\"1014\"},{\"id\":\"1017\"}],\"frame_height\":400,\"frame_width\":300,\"left\":[{\"id\":\"1015\"}],\"outline_line_color\":\"dimgrey\",\"renderers\":[{\"id\":\"1036\"}],\"title\":{\"id\":\"1039\"},\"toolbar\":{\"id\":\"1025\"},\"x_range\":{\"id\":\"1003\"},\"x_scale\":{\"id\":\"1007\"},\"y_range\":{\"id\":\"1005\"},\"y_scale\":{\"id\":\"1009\"}},\"id\":\"1002\",\"subtype\":\"Figure\",\"type\":\"Plot\"},{\"attributes\":{\"bottom_units\":\"screen\",\"fill_alpha\":0.5,\"fill_color\":\"lightgrey\",\"left_units\":\"screen\",\"level\":\"overlay\",\"line_alpha\":1.0,\"line_color\":\"black\",\"line_dash\":[4,4],\"line_width\":2,\"render_mode\":\"css\",\"right_units\":\"screen\",\"top_units\":\"screen\"},\"id\":\"1024\",\"type\":\"BoxAnnotation\"},{\"attributes\":{\"active_drag\":\"auto\",\"active_inspect\":\"auto\",\"active_multi\":null,\"active_scroll\":\"auto\",\"active_tap\":\"auto\",\"tools\":[{\"id\":\"1018\"},{\"id\":\"1019\"},{\"id\":\"1020\"},{\"id\":\"1021\"},{\"id\":\"1022\"},{\"id\":\"1023\"}]},\"id\":\"1025\",\"type\":\"Toolbar\"},{\"attributes\":{\"text\":\"\"},\"id\":\"1039\",\"type\":\"Title\"},{\"attributes\":{},\"id\":\"1003\",\"type\":\"DataRange1d\"},{\"attributes\":{\"fill_color\":{\"value\":\"dimgrey\"},\"height\":{\"value\":0.9},\"line_color\":{\"value\":\"white\"},\"right\":{\"field\":\"Seats\"},\"y\":{\"field\":\"Governing parties\"}},\"id\":\"1034\",\"type\":\"HBar\"},{\"attributes\":{\"source\":{\"id\":\"1032\"}},\"id\":\"1037\",\"type\":\"CDSView\"},{\"attributes\":{},\"id\":\"1042\",\"type\":\"BasicTickFormatter\"},{\"attributes\":{},\"id\":\"1018\",\"type\":\"PanTool\"},{\"attributes\":{},\"id\":\"1046\",\"type\":\"UnionRenderers\"},{\"attributes\":{},\"id\":\"1009\",\"type\":\"CategoricalScale\"},{\"attributes\":{\"fill_alpha\":{\"value\":0.1},\"fill_color\":{\"value\":\"dimgrey\"},\"height\":{\"value\":0.9},\"line_alpha\":{\"value\":0.1},\"line_color\":{\"value\":\"white\"},\"right\":{\"field\":\"Seats\"},\"y\":{\"field\":\"Governing parties\"}},\"id\":\"1035\",\"type\":\"HBar\"},{\"attributes\":{\"overlay\":{\"id\":\"1024\"}},\"id\":\"1020\",\"type\":\"BoxZoomTool\"},{\"attributes\":{},\"id\":\"1021\",\"type\":\"SaveTool\"},{\"attributes\":{},\"id\":\"1022\",\"type\":\"ResetTool\"},{\"attributes\":{},\"id\":\"1044\",\"type\":\"CategoricalTickFormatter\"},{\"attributes\":{\"factors\":[\"CDU + SPD\",\"SPD + Gr\\u00fcne\",\"SPD + Gr\\u00fcne + Linke\",\"CDU + Gr\\u00fcne + FDP\",\"Linke + SPD + Gr\\u00fcne\",\"SPD + CDU + Gr\\u00fcne\",\"SPD + FDP + Gr\\u00fcne\",\"SPD + Linke + Gr\\u00fcne\",\"CDU + Gr\\u00fcne\",\"CDU + FDP\",\"CSU + FW\",\"Gr\\u00fcne + CDU\",\"CDU + SPD + Gr\\u00fcne\",\"SPD + CDU\"]},\"id\":\"1005\",\"type\":\"FactorRange\"},{\"attributes\":{},\"id\":\"1023\",\"type\":\"HelpTool\"},{\"attributes\":{},\"id\":\"1045\",\"type\":\"Selection\"},{\"attributes\":{},\"id\":\"1019\",\"type\":\"WheelZoomTool\"},{\"attributes\":{\"data\":{\"Governing parties\":[\"CDU + SPD\",\"SPD + Gr\\u00fcne\",\"SPD + Gr\\u00fcne + Linke\",\"CDU + Gr\\u00fcne + FDP\",\"Linke + SPD + Gr\\u00fcne\",\"SPD + CDU + Gr\\u00fcne\",\"SPD + FDP + Gr\\u00fcne\",\"SPD + Linke + Gr\\u00fcne\",\"CDU + Gr\\u00fcne\",\"CDU + FDP\",\"CSU + FW\",\"Gr\\u00fcne + CDU\",\"CDU + SPD + Gr\\u00fcne\",\"SPD + CDU\"],\"Seats\":[3,3,3,4,4,4,4,4,5,6,6,6,8,9],\"index\":[0,1,2,3,4,5,6,7,8,9,10,11,12,13]},\"selected\":{\"id\":\"1045\"},\"selection_policy\":{\"id\":\"1046\"}},\"id\":\"1032\",\"type\":\"ColumnDataSource\"},{\"attributes\":{\"axis_label\":\"\\u5e2d\\u4f4d\\u603b\\u6570\",\"axis_label_text_font_size\":\"14pt\",\"formatter\":{\"id\":\"1042\"},\"major_label_text_font_size\":\"12pt\",\"ticker\":{\"id\":\"1012\"}},\"id\":\"1011\",\"type\":\"LinearAxis\"},{\"attributes\":{},\"id\":\"1016\",\"type\":\"CategoricalTicker\"},{\"attributes\":{\"num_minor_ticks\":2},\"id\":\"1012\",\"type\":\"BasicTicker\"},{\"attributes\":{\"axis\":{\"id\":\"1011\"},\"ticker\":null},\"id\":\"1014\",\"type\":\"Grid\"},{\"attributes\":{\"axis\":{\"id\":\"1015\"},\"dimension\":1,\"ticker\":null},\"id\":\"1017\",\"type\":\"Grid\"},{\"attributes\":{\"axis_label_text_font_size\":\"14pt\",\"formatter\":{\"id\":\"1044\"},\"major_label_text_font_size\":\"12pt\",\"ticker\":{\"id\":\"1016\"}},\"id\":\"1015\",\"type\":\"CategoricalAxis\"},{\"attributes\":{},\"id\":\"1007\",\"type\":\"LinearScale\"},{\"attributes\":{\"data_source\":{\"id\":\"1032\"},\"glyph\":{\"id\":\"1034\"},\"hover_glyph\":null,\"muted_glyph\":null,\"nonselection_glyph\":{\"id\":\"1035\"},\"selection_glyph\":null,\"view\":{\"id\":\"1037\"}},\"id\":\"1036\",\"type\":\"GlyphRenderer\"}],\"root_ids\":[\"1002\"]},\"title\":\"Bokeh Application\",\"version\":\"2.0.1\"}};\n",
       "  var render_items = [{\"docid\":\"fa4f7a24-6bcd-4985-a74c-8fc711626db4\",\"root_ids\":[\"1002\"],\"roots\":{\"1002\":\"edffaca9-3cf4-4151-a4fb-672c9027f33e\"}}];\n",
       "  root.Bokeh.embed.embed_items_notebook(docs_json, render_items);\n",
       "\n",
       "  }\n",
       "  if (root.Bokeh !== undefined) {\n",
       "    embed_document(root);\n",
       "  } else {\n",
       "    var attempts = 0;\n",
       "    var timer = setInterval(function(root) {\n",
       "      if (root.Bokeh !== undefined) {\n",
       "        clearInterval(timer);\n",
       "        embed_document(root);\n",
       "      } else {\n",
       "        attempts++;\n",
       "        if (attempts > 100) {\n",
       "          clearInterval(timer);\n",
       "          console.log(\"Bokeh: ERROR: Unable to run BokehJS code because BokehJS library is missing\");\n",
       "        }\n",
       "      }\n",
       "    }, 10, root)\n",
       "  }\n",
       "})(window);"
      ],
      "application/vnd.bokehjs_exec.v0+json": ""
     },
     "metadata": {
      "application/vnd.bokehjs_exec.v0+json": {
       "id": "1002"
      }
     },
     "output_type": "display_data"
    }
   ],
   "source": [
    "# ... 这里需要您编写 - 任务 2 的代码 ...\n",
    "\n",
    "# 导入绘图工具包\n",
    "from bokeh.plotting import show, figure\n",
    "# 设置绘图输出方式为 Notebook\n",
    "from bokeh.io import output_notebook; output_notebook()\n",
    "\n",
    "# 按执政党（Governing parties）统计席位数量\n",
    "aggregation_method = 'sum'\n",
    "\n",
    "df_data_by_coalition = df_germany_federal_concil.groupby(\n",
    "    by = 'Governing parties'\n",
    ").agg({\n",
    "    'Seats': aggregation_method\n",
    "}).sort_values(\n",
    "    by = 'Seats', ascending = True\n",
    ").reset_index()\n",
    "\n",
    "# ... 根据 df_data_by_coalition 数据进行绘图 ...\n",
    "# y_range 为 y 州坐标轴的刻度数据\n",
    "y_range = df_data_by_coalition['Governing parties']\n",
    "p = figure(\n",
    "    frame_width = 300, frame_height = 400, y_range = y_range,\n",
    "#     toolbar_location = None\n",
    ")\n",
    "\n",
    "# 绘制水平的条形图\n",
    "p.hbar(\n",
    "    y = 'Governing parties', \n",
    "    left = 0, right = 'Seats', \n",
    "    height = 0.9, \n",
    "    fill_color = 'dimgrey', line_color = 'white',\n",
    "    source = df_data_by_coalition\n",
    ")\n",
    "\n",
    "# 设置坐标轴，绘图外边框等样式\n",
    "p.xaxis.axis_label = '席位总数'\n",
    "p.axis.axis_label_text_font_size = '14pt'\n",
    "p.axis.major_label_text_font_size = '12pt'\n",
    "p.outline_line_color = 'dimgrey'\n",
    "p.xaxis.ticker.num_minor_ticks = 2\n",
    "\n",
    "# 显示绘图\n",
    "bar_plot_by_coalition = p\n",
    "show(bar_plot_by_coalition)"
   ]
  },
  {
   "cell_type": "markdown",
   "metadata": {
    "kkbSpbl": {
     "taskId": "165df83e-8930-4028-9b42-646fd66a08a5",
     "taskNum": 3
    }
   },
   "source": [
    "## 3. Data：探索政党获得的席位数据集\n",
    "\n",
    "我们来查看第二个数据集，数据框 `df_germany_party` 存储了各个党派获得联邦议院席位的情况，数据字段的含义是：\n",
    "\n",
    "- Primary: 作为州（State）的第一执政党获得的席位；\n",
    "- Secondary：作为州（State）的第二执政党获得的席位；\n",
    "- Tertiary：作为州（State）的第三执政党获得的席位；\n",
    "- Full name：党派英文名称全称；\n",
    "- Full name in Chinese：党派中文名称全称。\n",
    "\n",
    "**主要任务：**\n",
    "\n",
    "- 运行脚本，查看数据集；\n",
    "- 替换 `...` 中的数据，然后再次执行脚本，结果正确才能通过脚本测试。"
   ]
  },
  {
   "cell_type": "code",
   "execution_count": 3,
   "metadata": {
    "kkbSpbl": {
     "cellId": "Vzsjd7CxtZ3Op0MG18M",
     "taskId": "de43028d-ea6e-4830-b2a4-8622e2e0b3b9",
     "taskNum": 3
    }
   },
   "outputs": [
    {
     "data": {
      "text/html": [
       "<div>\n",
       "<style scoped>\n",
       "    .dataframe tbody tr th:only-of-type {\n",
       "        vertical-align: middle;\n",
       "    }\n",
       "\n",
       "    .dataframe tbody tr th {\n",
       "        vertical-align: top;\n",
       "    }\n",
       "\n",
       "    .dataframe thead th {\n",
       "        text-align: right;\n",
       "    }\n",
       "</style>\n",
       "<table border=\"1\" class=\"dataframe\">\n",
       "  <thead>\n",
       "    <tr style=\"text-align: right;\">\n",
       "      <th></th>\n",
       "      <th>Primary</th>\n",
       "      <th>Secondary</th>\n",
       "      <th>Tertiary</th>\n",
       "      <th>Full name</th>\n",
       "      <th>Full name in Chinese</th>\n",
       "    </tr>\n",
       "  </thead>\n",
       "  <tbody>\n",
       "    <tr>\n",
       "      <th>SPD</th>\n",
       "      <td>27</td>\n",
       "      <td>15</td>\n",
       "      <td>0</td>\n",
       "      <td>Social Democratic Party of Germany</td>\n",
       "      <td>德国社会民主党</td>\n",
       "    </tr>\n",
       "    <tr>\n",
       "      <th>CDU</th>\n",
       "      <td>26</td>\n",
       "      <td>19</td>\n",
       "      <td>0</td>\n",
       "      <td>Christian Democratic Union of Germany</td>\n",
       "      <td>德国基督教民主联盟</td>\n",
       "    </tr>\n",
       "    <tr>\n",
       "      <th>Grüne</th>\n",
       "      <td>6</td>\n",
       "      <td>15</td>\n",
       "      <td>24</td>\n",
       "      <td>Alliance 90/The Greens</td>\n",
       "      <td>绿党</td>\n",
       "    </tr>\n",
       "    <tr>\n",
       "      <th>CSU</th>\n",
       "      <td>6</td>\n",
       "      <td>0</td>\n",
       "      <td>0</td>\n",
       "      <td>Christian Social Union in Bavaria</td>\n",
       "      <td>巴伐利亚基督教社会联盟</td>\n",
       "    </tr>\n",
       "    <tr>\n",
       "      <th>Linke</th>\n",
       "      <td>4</td>\n",
       "      <td>4</td>\n",
       "      <td>3</td>\n",
       "      <td>The Left</td>\n",
       "      <td>左派</td>\n",
       "    </tr>\n",
       "    <tr>\n",
       "      <th>FDP</th>\n",
       "      <td>0</td>\n",
       "      <td>10</td>\n",
       "      <td>4</td>\n",
       "      <td>Free Democratic Party</td>\n",
       "      <td>自由民主党</td>\n",
       "    </tr>\n",
       "    <tr>\n",
       "      <th>FW</th>\n",
       "      <td>0</td>\n",
       "      <td>6</td>\n",
       "      <td>0</td>\n",
       "      <td>Free Voters</td>\n",
       "      <td>自由选民党</td>\n",
       "    </tr>\n",
       "  </tbody>\n",
       "</table>\n",
       "</div>"
      ],
      "text/plain": [
       "       Primary  Secondary  Tertiary                              Full name  \\\n",
       "SPD         27         15         0     Social Democratic Party of Germany   \n",
       "CDU         26         19         0  Christian Democratic Union of Germany   \n",
       "Grüne        6         15        24                 Alliance 90/The Greens   \n",
       "CSU          6          0         0      Christian Social Union in Bavaria   \n",
       "Linke        4          4         3                               The Left   \n",
       "FDP          0         10         4                  Free Democratic Party   \n",
       "FW           0          6         0                            Free Voters   \n",
       "\n",
       "      Full name in Chinese  \n",
       "SPD                德国社会民主党  \n",
       "CDU              德国基督教民主联盟  \n",
       "Grüne                   绿党  \n",
       "CSU            巴伐利亚基督教社会联盟  \n",
       "Linke                   左派  \n",
       "FDP                  自由民主党  \n",
       "FW                   自由选民党  "
      ]
     },
     "execution_count": 3,
     "metadata": {},
     "output_type": "execute_result"
    }
   ],
   "source": [
    "# ... 这里需要您编写 - 任务 3 的代码 ...\n",
    "\n",
    "# 政党全称，英文 + 中文\n",
    "df_germany_party = pd.read_csv(\n",
    "    '/data/course_data/visualization/germany_party_data.csv', \n",
    "    index_col = 0\n",
    ")\n",
    "\n",
    "# 第一（Primary）、第二（Secondary）、第三（Tertiary）执政党分别共有多少席位，\n",
    "# 也就是 Primary, Secondary, Tertiary 三列的合计分别是多少？\n",
    "primary_seats = len(df_germany_party.)\n",
    "secondary_seats = ...\n",
    "tertiary_seats = ...\n",
    "\n",
    "# 查看德国政党的席位数据\n",
    "df_germany_party"
   ]
  },
  {
   "cell_type": "markdown",
   "metadata": {
    "kkbSpbl": {
     "taskId": "a8bff9c4-ce0f-4783-a6a8-aa6a10c3ea1a",
     "taskNum": 4
    }
   },
   "source": [
    "## 4. 为政党数据集添加政党的颜色\n",
    "\n",
    "**党派颜色：**德国的各个政党都是有自己的品牌色的，从维基百科上可以看到这样一张图：\n",
    "\n",
    "<table width=\"100%\">\n",
    "    <tr>\n",
    "        <td><img style=\"zoom: 0.15\" align=\"left\" src=\"https://img.kaikeba.com/a/04913103700202uasg.png\"></td>\n",
    "    </tr>\n",
    "</table>\n",
    "\n",
    "**德国国旗：**每个党派都有自己的颜色，于是在绘制按党派划分的条形图之前，我们需要为党派数据集添加颜色属性。我们把德国的国旗也放在这里，国旗的颜色是不是和党派的颜色非常相关～\n",
    "\n",
    "<table width=\"100%\">\n",
    "    <tr>\n",
    "        <td><img style=\"zoom: 0.1\" align=\"left\" src=\"https://img.kaikeba.com/a/95913103700202horr.png\"></td>\n",
    "    </tr>\n",
    "</table>\n",
    "\n",
    "**主要任务：**\n",
    "\n",
    "- 在数据集 `df_germany_party` 中添加颜色。"
   ]
  },
  {
   "cell_type": "code",
   "execution_count": 4,
   "metadata": {
    "kkbSpbl": {
     "cellId": "xayqjFdKVDpuQyZTsaI",
     "taskId": "74ddf121-ca12-4fdd-a975-e10f6f331981",
     "taskNum": 4
    }
   },
   "outputs": [
    {
     "data": {
      "text/html": [
       "<div>\n",
       "<style scoped>\n",
       "    .dataframe tbody tr th:only-of-type {\n",
       "        vertical-align: middle;\n",
       "    }\n",
       "\n",
       "    .dataframe tbody tr th {\n",
       "        vertical-align: top;\n",
       "    }\n",
       "\n",
       "    .dataframe thead th {\n",
       "        text-align: right;\n",
       "    }\n",
       "</style>\n",
       "<table border=\"1\" class=\"dataframe\">\n",
       "  <thead>\n",
       "    <tr style=\"text-align: right;\">\n",
       "      <th></th>\n",
       "      <th>Primary</th>\n",
       "      <th>Secondary</th>\n",
       "      <th>Tertiary</th>\n",
       "      <th>Full name</th>\n",
       "      <th>Full name in Chinese</th>\n",
       "      <th>Color</th>\n",
       "    </tr>\n",
       "  </thead>\n",
       "  <tbody>\n",
       "    <tr>\n",
       "      <th>SPD</th>\n",
       "      <td>27</td>\n",
       "      <td>15</td>\n",
       "      <td>0</td>\n",
       "      <td>Social Democratic Party of Germany</td>\n",
       "      <td>德国社会民主党</td>\n",
       "      <td>red</td>\n",
       "    </tr>\n",
       "    <tr>\n",
       "      <th>CDU</th>\n",
       "      <td>26</td>\n",
       "      <td>19</td>\n",
       "      <td>0</td>\n",
       "      <td>Christian Democratic Union of Germany</td>\n",
       "      <td>德国基督教民主联盟</td>\n",
       "      <td>black</td>\n",
       "    </tr>\n",
       "    <tr>\n",
       "      <th>Grüne</th>\n",
       "      <td>6</td>\n",
       "      <td>15</td>\n",
       "      <td>24</td>\n",
       "      <td>Alliance 90/The Greens</td>\n",
       "      <td>绿党</td>\n",
       "      <td>mediumseagreen</td>\n",
       "    </tr>\n",
       "    <tr>\n",
       "      <th>CSU</th>\n",
       "      <td>6</td>\n",
       "      <td>0</td>\n",
       "      <td>0</td>\n",
       "      <td>Christian Social Union in Bavaria</td>\n",
       "      <td>巴伐利亚基督教社会联盟</td>\n",
       "      <td>dodgerblue</td>\n",
       "    </tr>\n",
       "    <tr>\n",
       "      <th>Linke</th>\n",
       "      <td>4</td>\n",
       "      <td>4</td>\n",
       "      <td>3</td>\n",
       "      <td>The Left</td>\n",
       "      <td>左派</td>\n",
       "      <td>deeppink</td>\n",
       "    </tr>\n",
       "    <tr>\n",
       "      <th>FDP</th>\n",
       "      <td>0</td>\n",
       "      <td>10</td>\n",
       "      <td>4</td>\n",
       "      <td>Free Democratic Party</td>\n",
       "      <td>自由民主党</td>\n",
       "      <td>gold</td>\n",
       "    </tr>\n",
       "    <tr>\n",
       "      <th>FW</th>\n",
       "      <td>0</td>\n",
       "      <td>6</td>\n",
       "      <td>0</td>\n",
       "      <td>Free Voters</td>\n",
       "      <td>自由选民党</td>\n",
       "      <td>darkorange</td>\n",
       "    </tr>\n",
       "  </tbody>\n",
       "</table>\n",
       "</div>"
      ],
      "text/plain": [
       "       Primary  Secondary  Tertiary                              Full name  \\\n",
       "SPD         27         15         0     Social Democratic Party of Germany   \n",
       "CDU         26         19         0  Christian Democratic Union of Germany   \n",
       "Grüne        6         15        24                 Alliance 90/The Greens   \n",
       "CSU          6          0         0      Christian Social Union in Bavaria   \n",
       "Linke        4          4         3                               The Left   \n",
       "FDP          0         10         4                  Free Democratic Party   \n",
       "FW           0          6         0                            Free Voters   \n",
       "\n",
       "      Full name in Chinese           Color  \n",
       "SPD                德国社会民主党             red  \n",
       "CDU              德国基督教民主联盟           black  \n",
       "Grüne                   绿党  mediumseagreen  \n",
       "CSU            巴伐利亚基督教社会联盟      dodgerblue  \n",
       "Linke                   左派        deeppink  \n",
       "FDP                  自由民主党            gold  \n",
       "FW                   自由选民党      darkorange  "
      ]
     },
     "execution_count": 4,
     "metadata": {},
     "output_type": "execute_result"
    }
   ],
   "source": [
    "# ... 这里需要您编写 - 任务 4 的代码 ...\n",
    "\n",
    "# 按照党派在数据集中的顺序，\n",
    "# 用 colors_of_party 存储各个党派的颜色\n",
    "colors_of_party = [\n",
    "    'red',\n",
    "    'black',\n",
    "    'mediumseagreen',\n",
    "    'dodgerblue',\n",
    "    'deeppink',\n",
    "    'gold',\n",
    "    'darkorange'\n",
    "]\n",
    "\n",
    "# 在数据集 df_germany_party 中添加颜色字段 'Color'\n",
    "df_germany_party['Color'] = colors_of_party\n",
    "\n",
    "df_germany_party"
   ]
  },
  {
   "cell_type": "markdown",
   "metadata": {
    "kkbSpbl": {
     "taskId": "48314aa3-2782-4222-90b4-6de99bd6f066",
     "taskNum": 5
    },
    "toc-hr-collapsed": true,
    "toc-nb-collapsed": true
   },
   "source": [
    "## 5. 各个政党拥有多少投票席位？\n",
    "\n",
    "\n",
    "我们进一步探索，我们在任务二中看到了各个联合执政党在联邦议院中获得席位，现在我们来看看各个政党的情况，发现德国政党在德国联邦议院的话语权有何不同？\n",
    "\n",
    "**主要任务：**\n",
    "- 运行脚本，得到绘图；\n",
    "- 修改 num_of_columns 的值，从 2 改为 3；\n",
    "- 再次运行脚本，得到新的绘图；\n",
    "- 思考各个政党在德国联邦议院的影响力是怎样的？最有影响力的三个政党是哪些？"
   ]
  },
  {
   "cell_type": "code",
   "execution_count": 5,
   "metadata": {
    "kkbSpbl": {
     "cellId": "DZrAMWs2tmXfLQkzcEj",
     "taskId": "13d90515-368f-48c5-9d01-d64cf23b6748",
     "taskNum": 5
    }
   },
   "outputs": [
    {
     "data": {
      "text/html": [
       "\n",
       "\n",
       "\n",
       "\n",
       "\n",
       "\n",
       "  <div class=\"bk-root\" id=\"d7a86fdb-6a35-492e-9f88-3a9c0b7afb2b\" data-root-id=\"1461\"></div>\n"
      ]
     },
     "metadata": {},
     "output_type": "display_data"
    },
    {
     "data": {
      "application/javascript": [
       "(function(root) {\n",
       "  function embed_document(root) {\n",
       "    \n",
       "  var docs_json = {\"7f04755c-1ffe-4511-bfe9-6e9f17427c49\":{\"roots\":{\"references\":[{\"attributes\":{\"children\":[{\"id\":\"1424\"},{\"id\":\"1425\"}]},\"id\":\"1461\",\"type\":\"Column\"},{\"attributes\":{\"axis\":{\"id\":\"1228\"},\"dimension\":1,\"ticker\":null},\"id\":\"1230\",\"type\":\"Grid\"},{\"attributes\":{\"overlay\":{\"id\":\"1311\"}},\"id\":\"1307\",\"type\":\"BoxZoomTool\"},{\"attributes\":{\"text\":\"CDU\",\"text_font_size\":{\"value\":\"14pt\"}},\"id\":\"1140\",\"type\":\"Title\"},{\"attributes\":{\"axis_label_text_font_size\":\"14pt\",\"formatter\":{\"id\":\"1392\"},\"major_label_text_font_size\":\"12pt\",\"ticker\":{\"id\":\"1229\"}},\"id\":\"1228\",\"type\":\"CategoricalAxis\"},{\"attributes\":{\"axis_label_text_font_size\":\"14pt\",\"formatter\":{\"id\":\"1399\"},\"major_label_text_font_size\":\"12pt\",\"ticker\":{\"id\":\"1262\"}},\"id\":\"1261\",\"type\":\"LinearAxis\"},{\"attributes\":{},\"id\":\"1229\",\"type\":\"CategoricalTicker\"},{\"attributes\":{},\"id\":\"1308\",\"type\":\"SaveTool\"},{\"attributes\":{},\"id\":\"1109\",\"type\":\"LinearScale\"},{\"attributes\":{\"end\":28,\"start\":-1},\"id\":\"1142\",\"type\":\"Range1d\"},{\"attributes\":{},\"id\":\"1266\",\"type\":\"CategoricalTicker\"},{\"attributes\":{},\"id\":\"1146\",\"type\":\"LinearScale\"},{\"attributes\":{},\"id\":\"1262\",\"type\":\"BasicTicker\"},{\"attributes\":{},\"id\":\"1309\",\"type\":\"ResetTool\"},{\"attributes\":{},\"id\":\"1428\",\"type\":\"DataRange1d\"},{\"attributes\":{\"axis\":{\"id\":\"1261\"},\"ticker\":null},\"id\":\"1264\",\"type\":\"Grid\"},{\"attributes\":{\"data_source\":{\"id\":\"1282\"},\"glyph\":{\"id\":\"1283\"},\"hover_glyph\":null,\"muted_glyph\":null,\"nonselection_glyph\":{\"id\":\"1284\"},\"selection_glyph\":null,\"view\":{\"id\":\"1286\"}},\"id\":\"1285\",\"type\":\"GlyphRenderer\"},{\"attributes\":{},\"id\":\"1310\",\"type\":\"HelpTool\"},{\"attributes\":{},\"id\":\"1111\",\"type\":\"CategoricalScale\"},{\"attributes\":{},\"id\":\"1148\",\"type\":\"CategoricalScale\"},{\"attributes\":{\"axis\":{\"id\":\"1265\"},\"dimension\":1,\"ticker\":null},\"id\":\"1267\",\"type\":\"Grid\"},{\"attributes\":{\"axis_label_text_font_size\":\"14pt\",\"formatter\":{\"id\":\"1401\"},\"major_label_text_font_size\":\"12pt\",\"ticker\":{\"id\":\"1266\"},\"visible\":false},\"id\":\"1265\",\"type\":\"CategoricalAxis\"},{\"attributes\":{\"factors\":[\"Tertiary\",\"Secondary\",\"Primary\"]},\"id\":\"1144\",\"type\":\"FactorRange\"},{\"attributes\":{\"active_drag\":\"auto\",\"active_inspect\":\"auto\",\"active_multi\":null,\"active_scroll\":\"auto\",\"active_tap\":\"auto\",\"tools\":[{\"id\":\"1231\"},{\"id\":\"1232\"},{\"id\":\"1233\"},{\"id\":\"1234\"},{\"id\":\"1235\"},{\"id\":\"1236\"}]},\"id\":\"1238\",\"type\":\"Toolbar\"},{\"attributes\":{\"axis_label_text_font_size\":\"14pt\",\"formatter\":{\"id\":\"1363\"},\"major_label_text_font_size\":\"12pt\",\"ticker\":{\"id\":\"1114\"},\"visible\":false},\"id\":\"1113\",\"type\":\"LinearAxis\"},{\"attributes\":{\"source\":{\"id\":\"1356\"}},\"id\":\"1360\",\"type\":\"CDSView\"},{\"attributes\":{},\"id\":\"1393\",\"type\":\"Selection\"},{\"attributes\":{},\"id\":\"1118\",\"type\":\"CategoricalTicker\"},{\"attributes\":{\"source\":{\"id\":\"1245\"}},\"id\":\"1249\",\"type\":\"CDSView\"},{\"attributes\":{\"fill_alpha\":{\"value\":0.1},\"fill_color\":{\"value\":\"darkorange\"},\"height\":{\"value\":0.9},\"line_alpha\":{\"value\":0.1},\"line_color\":{\"value\":\"#1f77b4\"},\"line_width\":{\"value\":0},\"right\":{\"field\":\"right\"},\"y\":{\"field\":\"y\"}},\"id\":\"1358\",\"type\":\"HBar\"},{\"attributes\":{},\"id\":\"1114\",\"type\":\"BasicTicker\"},{\"attributes\":{},\"id\":\"1231\",\"type\":\"PanTool\"},{\"attributes\":{},\"id\":\"1394\",\"type\":\"UnionRenderers\"},{\"attributes\":{\"axis_label_text_font_size\":\"14pt\",\"formatter\":{\"id\":\"1372\"},\"major_label_text_font_size\":\"12pt\",\"ticker\":{\"id\":\"1151\"},\"visible\":false},\"id\":\"1150\",\"type\":\"LinearAxis\"},{\"attributes\":{\"axis\":{\"id\":\"1113\"},\"ticker\":null},\"id\":\"1116\",\"type\":\"Grid\"},{\"attributes\":{\"fill_alpha\":{\"field\":\"fill_alpha\"},\"fill_color\":{\"value\":\"red\"},\"height\":{\"value\":0.9},\"line_color\":{\"value\":\"#1f77b4\"},\"line_width\":{\"value\":0},\"right\":{\"field\":\"right\"},\"y\":{\"field\":\"y\"}},\"id\":\"1135\",\"type\":\"HBar\"},{\"attributes\":{},\"id\":\"1155\",\"type\":\"CategoricalTicker\"},{\"attributes\":{},\"id\":\"1232\",\"type\":\"WheelZoomTool\"},{\"attributes\":{},\"id\":\"1151\",\"type\":\"BasicTicker\"},{\"attributes\":{\"axis\":{\"id\":\"1117\"},\"dimension\":1,\"ticker\":null},\"id\":\"1119\",\"type\":\"Grid\"},{\"attributes\":{\"overlay\":{\"id\":\"1237\"}},\"id\":\"1233\",\"type\":\"BoxZoomTool\"},{\"attributes\":{\"bottom_units\":\"screen\",\"fill_alpha\":0.5,\"fill_color\":\"lightgrey\",\"left_units\":\"screen\",\"level\":\"overlay\",\"line_alpha\":1.0,\"line_color\":\"black\",\"line_dash\":[4,4],\"line_width\":2,\"render_mode\":\"css\",\"right_units\":\"screen\",\"top_units\":\"screen\"},\"id\":\"1274\",\"type\":\"BoxAnnotation\"},{\"attributes\":{\"axis_label_text_font_size\":\"14pt\",\"formatter\":{\"id\":\"1365\"},\"major_label_text_font_size\":\"12pt\",\"ticker\":{\"id\":\"1118\"}},\"id\":\"1117\",\"type\":\"CategoricalAxis\"},{\"attributes\":{\"axis\":{\"id\":\"1150\"},\"ticker\":null},\"id\":\"1153\",\"type\":\"Grid\"},{\"attributes\":{\"data_source\":{\"id\":\"1356\"},\"glyph\":{\"id\":\"1357\"},\"hover_glyph\":null,\"muted_glyph\":null,\"nonselection_glyph\":{\"id\":\"1358\"},\"selection_glyph\":null,\"view\":{\"id\":\"1360\"}},\"id\":\"1359\",\"type\":\"GlyphRenderer\"},{\"attributes\":{},\"id\":\"1390\",\"type\":\"BasicTickFormatter\"},{\"attributes\":{\"active_drag\":\"auto\",\"active_inspect\":\"auto\",\"active_multi\":null,\"active_scroll\":\"auto\",\"active_tap\":\"auto\",\"tools\":[{\"id\":\"1342\"},{\"id\":\"1343\"},{\"id\":\"1344\"},{\"id\":\"1345\"},{\"id\":\"1346\"},{\"id\":\"1347\"}]},\"id\":\"1349\",\"type\":\"Toolbar\"},{\"attributes\":{},\"id\":\"1234\",\"type\":\"SaveTool\"},{\"attributes\":{\"axis\":{\"id\":\"1154\"},\"dimension\":1,\"ticker\":null},\"id\":\"1156\",\"type\":\"Grid\"},{\"attributes\":{\"fill_alpha\":{\"field\":\"fill_alpha\"},\"fill_color\":{\"value\":\"black\"},\"height\":{\"value\":0.9},\"line_color\":{\"value\":\"#1f77b4\"},\"line_width\":{\"value\":0},\"right\":{\"field\":\"right\"},\"y\":{\"field\":\"y\"}},\"id\":\"1172\",\"type\":\"HBar\"},{\"attributes\":{\"bottom_units\":\"screen\",\"fill_alpha\":0.5,\"fill_color\":\"lightgrey\",\"left_units\":\"screen\",\"level\":\"overlay\",\"line_alpha\":1.0,\"line_color\":\"black\",\"line_dash\":[4,4],\"line_width\":2,\"render_mode\":\"css\",\"right_units\":\"screen\",\"top_units\":\"screen\"},\"id\":\"1348\",\"type\":\"BoxAnnotation\"},{\"attributes\":{\"axis_label_text_font_size\":\"14pt\",\"formatter\":{\"id\":\"1374\"},\"major_label_text_font_size\":\"12pt\",\"ticker\":{\"id\":\"1155\"},\"visible\":false},\"id\":\"1154\",\"type\":\"CategoricalAxis\"},{\"attributes\":{},\"id\":\"1235\",\"type\":\"ResetTool\"},{\"attributes\":{\"data_source\":{\"id\":\"1245\"},\"glyph\":{\"id\":\"1246\"},\"hover_glyph\":null,\"muted_glyph\":null,\"nonselection_glyph\":{\"id\":\"1247\"},\"selection_glyph\":null,\"view\":{\"id\":\"1249\"}},\"id\":\"1248\",\"type\":\"GlyphRenderer\"},{\"attributes\":{},\"id\":\"1392\",\"type\":\"CategoricalTickFormatter\"},{\"attributes\":{},\"id\":\"1236\",\"type\":\"HelpTool\"},{\"attributes\":{\"bottom_units\":\"screen\",\"fill_alpha\":0.5,\"fill_color\":\"lightgrey\",\"left_units\":\"screen\",\"level\":\"overlay\",\"line_alpha\":1.0,\"line_color\":\"black\",\"line_dash\":[4,4],\"line_width\":2,\"render_mode\":\"css\",\"right_units\":\"screen\",\"top_units\":\"screen\"},\"id\":\"1311\",\"type\":\"BoxAnnotation\"},{\"attributes\":{\"active_drag\":\"auto\",\"active_inspect\":\"auto\",\"active_multi\":null,\"active_scroll\":\"auto\",\"active_tap\":\"auto\",\"tools\":[{\"id\":\"1120\"},{\"id\":\"1121\"},{\"id\":\"1122\"},{\"id\":\"1123\"},{\"id\":\"1124\"},{\"id\":\"1125\"}]},\"id\":\"1127\",\"type\":\"Toolbar\"},{\"attributes\":{\"end\":28,\"start\":-1},\"id\":\"1290\",\"type\":\"Range1d\"},{\"attributes\":{\"data_source\":{\"id\":\"1171\"},\"glyph\":{\"id\":\"1172\"},\"hover_glyph\":null,\"muted_glyph\":null,\"nonselection_glyph\":{\"id\":\"1173\"},\"selection_glyph\":null,\"view\":{\"id\":\"1175\"}},\"id\":\"1174\",\"type\":\"GlyphRenderer\"},{\"attributes\":{\"source\":{\"id\":\"1282\"}},\"id\":\"1286\",\"type\":\"CDSView\"},{\"attributes\":{\"below\":[{\"id\":\"1298\"}],\"center\":[{\"id\":\"1301\"},{\"id\":\"1304\"}],\"frame_height\":180,\"frame_width\":150,\"left\":[{\"id\":\"1302\"}],\"min_border\":3,\"outline_line_color\":\"dimgrey\",\"renderers\":[{\"id\":\"1322\"}],\"title\":{\"id\":\"1288\"},\"toolbar\":{\"id\":\"1312\"},\"toolbar_location\":null,\"x_range\":{\"id\":\"1290\"},\"x_scale\":{\"id\":\"1294\"},\"y_range\":{\"id\":\"1292\"},\"y_scale\":{\"id\":\"1296\"}},\"id\":\"1287\",\"subtype\":\"Figure\",\"type\":\"Plot\"},{\"attributes\":{\"data_source\":{\"id\":\"1134\"},\"glyph\":{\"id\":\"1135\"},\"hover_glyph\":null,\"muted_glyph\":null,\"nonselection_glyph\":{\"id\":\"1136\"},\"selection_glyph\":null,\"view\":{\"id\":\"1138\"}},\"id\":\"1137\",\"type\":\"GlyphRenderer\"},{\"attributes\":{\"active_drag\":\"auto\",\"active_inspect\":\"auto\",\"active_multi\":null,\"active_scroll\":\"auto\",\"active_tap\":\"auto\",\"tools\":[{\"id\":\"1305\"},{\"id\":\"1306\"},{\"id\":\"1307\"},{\"id\":\"1308\"},{\"id\":\"1309\"},{\"id\":\"1310\"}]},\"id\":\"1312\",\"type\":\"Toolbar\"},{\"attributes\":{\"overlay\":{\"id\":\"1274\"}},\"id\":\"1270\",\"type\":\"BoxZoomTool\"},{\"attributes\":{},\"id\":\"1120\",\"type\":\"PanTool\"},{\"attributes\":{\"fill_alpha\":{\"field\":\"fill_alpha\"},\"fill_color\":{\"value\":\"gold\"},\"height\":{\"value\":0.9},\"line_color\":{\"value\":\"#1f77b4\"},\"line_width\":{\"value\":0},\"right\":{\"field\":\"right\"},\"y\":{\"field\":\"y\"}},\"id\":\"1320\",\"type\":\"HBar\"},{\"attributes\":{\"data\":{\"fill_alpha\":[1,0.6,0.3],\"right\":[26,19,0],\"y\":[\"Primary\",\"Secondary\",\"Tertiary\"]},\"selected\":{\"id\":\"1375\"},\"selection_policy\":{\"id\":\"1376\"}},\"id\":\"1171\",\"type\":\"ColumnDataSource\"},{\"attributes\":{\"text\":\"FDP\",\"text_font_size\":{\"value\":\"14pt\"}},\"id\":\"1288\",\"type\":\"Title\"},{\"attributes\":{\"below\":[{\"id\":\"1335\"}],\"center\":[{\"id\":\"1338\"},{\"id\":\"1341\"}],\"frame_height\":180,\"frame_width\":150,\"left\":[{\"id\":\"1339\"}],\"margin\":[-30,0,0,0],\"min_border\":3,\"min_border_left\":100,\"outline_line_color\":\"dimgrey\",\"renderers\":[{\"id\":\"1359\"}],\"title\":{\"id\":\"1325\"},\"toolbar\":{\"id\":\"1349\"},\"toolbar_location\":null,\"x_range\":{\"id\":\"1327\"},\"x_scale\":{\"id\":\"1331\"},\"y_range\":{\"id\":\"1329\"},\"y_scale\":{\"id\":\"1333\"}},\"id\":\"1324\",\"subtype\":\"Figure\",\"type\":\"Plot\"},{\"attributes\":{\"overlay\":{\"id\":\"1126\"}},\"id\":\"1122\",\"type\":\"BoxZoomTool\"},{\"attributes\":{},\"id\":\"1157\",\"type\":\"PanTool\"},{\"attributes\":{\"fill_alpha\":{\"value\":0.1},\"fill_color\":{\"value\":\"gold\"},\"height\":{\"value\":0.9},\"line_alpha\":{\"value\":0.1},\"line_color\":{\"value\":\"#1f77b4\"},\"line_width\":{\"value\":0},\"right\":{\"field\":\"right\"},\"y\":{\"field\":\"y\"}},\"id\":\"1321\",\"type\":\"HBar\"},{\"attributes\":{},\"id\":\"1294\",\"type\":\"LinearScale\"},{\"attributes\":{},\"id\":\"1331\",\"type\":\"LinearScale\"},{\"attributes\":{},\"id\":\"1123\",\"type\":\"SaveTool\"},{\"attributes\":{\"factors\":[\"Tertiary\",\"Secondary\",\"Primary\"]},\"id\":\"1107\",\"type\":\"FactorRange\"},{\"attributes\":{},\"id\":\"1158\",\"type\":\"WheelZoomTool\"},{\"attributes\":{\"source\":{\"id\":\"1319\"}},\"id\":\"1323\",\"type\":\"CDSView\"},{\"attributes\":{},\"id\":\"1124\",\"type\":\"ResetTool\"},{\"attributes\":{},\"id\":\"1269\",\"type\":\"WheelZoomTool\"},{\"attributes\":{\"end\":28,\"start\":-1},\"id\":\"1327\",\"type\":\"Range1d\"},{\"attributes\":{\"overlay\":{\"id\":\"1163\"}},\"id\":\"1159\",\"type\":\"BoxZoomTool\"},{\"attributes\":{\"end\":28,\"start\":-1},\"id\":\"1105\",\"type\":\"Range1d\"},{\"attributes\":{},\"id\":\"1296\",\"type\":\"CategoricalScale\"},{\"attributes\":{},\"id\":\"1268\",\"type\":\"PanTool\"},{\"attributes\":{},\"id\":\"1125\",\"type\":\"HelpTool\"},{\"attributes\":{},\"id\":\"1160\",\"type\":\"SaveTool\"},{\"attributes\":{},\"id\":\"1271\",\"type\":\"SaveTool\"},{\"attributes\":{\"factors\":[\"Tertiary\",\"Secondary\",\"Primary\"]},\"id\":\"1292\",\"type\":\"FactorRange\"},{\"attributes\":{\"text\":\"FW\",\"text_font_size\":{\"value\":\"14pt\"}},\"id\":\"1325\",\"type\":\"Title\"},{\"attributes\":{\"fill_alpha\":{\"value\":0.1},\"fill_color\":{\"value\":\"deeppink\"},\"height\":{\"value\":0.9},\"line_alpha\":{\"value\":0.1},\"line_color\":{\"value\":\"#1f77b4\"},\"line_width\":{\"value\":0},\"right\":{\"field\":\"right\"},\"y\":{\"field\":\"y\"}},\"id\":\"1284\",\"type\":\"HBar\"},{\"attributes\":{},\"id\":\"1161\",\"type\":\"ResetTool\"},{\"attributes\":{},\"id\":\"1199\",\"type\":\"HelpTool\"},{\"attributes\":{\"fill_alpha\":{\"value\":0.1},\"fill_color\":{\"value\":\"black\"},\"height\":{\"value\":0.9},\"line_alpha\":{\"value\":0.1},\"line_color\":{\"value\":\"#1f77b4\"},\"line_width\":{\"value\":0},\"right\":{\"field\":\"right\"},\"y\":{\"field\":\"y\"}},\"id\":\"1173\",\"type\":\"HBar\"},{\"attributes\":{\"overlay\":{\"id\":\"1200\"}},\"id\":\"1196\",\"type\":\"BoxZoomTool\"},{\"attributes\":{\"bottom_units\":\"screen\",\"fill_alpha\":0.5,\"fill_color\":\"lightgrey\",\"left_units\":\"screen\",\"level\":\"overlay\",\"line_alpha\":1.0,\"line_color\":\"black\",\"line_dash\":[4,4],\"line_width\":2,\"render_mode\":\"css\",\"right_units\":\"screen\",\"top_units\":\"screen\"},\"id\":\"1237\",\"type\":\"BoxAnnotation\"},{\"attributes\":{\"axis_label_text_font_size\":\"14pt\",\"formatter\":{\"id\":\"1408\"},\"major_label_text_font_size\":\"12pt\",\"ticker\":{\"id\":\"1299\"}},\"id\":\"1298\",\"type\":\"LinearAxis\"},{\"attributes\":{},\"id\":\"1333\",\"type\":\"CategoricalScale\"},{\"attributes\":{},\"id\":\"1162\",\"type\":\"HelpTool\"},{\"attributes\":{\"data\":{\"fill_alpha\":[1,0.6,0.3],\"right\":[4,4,3],\"y\":[\"Primary\",\"Secondary\",\"Tertiary\"]},\"selected\":{\"id\":\"1402\"},\"selection_policy\":{\"id\":\"1403\"}},\"id\":\"1282\",\"type\":\"ColumnDataSource\"},{\"attributes\":{},\"id\":\"1195\",\"type\":\"WheelZoomTool\"},{\"attributes\":{},\"id\":\"1303\",\"type\":\"CategoricalTicker\"},{\"attributes\":{\"active_drag\":\"auto\",\"active_inspect\":\"auto\",\"active_multi\":null,\"active_scroll\":\"auto\",\"active_tap\":\"auto\",\"tools\":[{\"id\":\"1157\"},{\"id\":\"1158\"},{\"id\":\"1159\"},{\"id\":\"1160\"},{\"id\":\"1161\"},{\"id\":\"1162\"}]},\"id\":\"1164\",\"type\":\"Toolbar\"},{\"attributes\":{\"active_drag\":\"auto\",\"active_inspect\":\"auto\",\"active_multi\":null,\"active_scroll\":\"auto\",\"active_tap\":\"auto\",\"tools\":[{\"id\":\"1194\"},{\"id\":\"1195\"},{\"id\":\"1196\"},{\"id\":\"1197\"},{\"id\":\"1198\"},{\"id\":\"1199\"}]},\"id\":\"1201\",\"type\":\"Toolbar\"},{\"attributes\":{\"factors\":[\"Tertiary\",\"Secondary\",\"Primary\"]},\"id\":\"1329\",\"type\":\"FactorRange\"},{\"attributes\":{},\"id\":\"1299\",\"type\":\"BasicTicker\"},{\"attributes\":{\"data\":{\"fill_alpha\":[1,0.6,0.3],\"right\":[27,15,0],\"y\":[\"Primary\",\"Secondary\",\"Tertiary\"]},\"selected\":{\"id\":\"1366\"},\"selection_policy\":{\"id\":\"1367\"}},\"id\":\"1134\",\"type\":\"ColumnDataSource\"},{\"attributes\":{},\"id\":\"1197\",\"type\":\"SaveTool\"},{\"attributes\":{\"fill_alpha\":{\"value\":0.1},\"fill_color\":{\"value\":\"dodgerblue\"},\"height\":{\"value\":0.9},\"line_alpha\":{\"value\":0.1},\"line_color\":{\"value\":\"#1f77b4\"},\"line_width\":{\"value\":0},\"right\":{\"field\":\"right\"},\"y\":{\"field\":\"y\"}},\"id\":\"1247\",\"type\":\"HBar\"},{\"attributes\":{\"axis\":{\"id\":\"1191\"},\"dimension\":1,\"ticker\":null},\"id\":\"1193\",\"type\":\"Grid\"},{\"attributes\":{\"axis\":{\"id\":\"1298\"},\"ticker\":null},\"id\":\"1301\",\"type\":\"Grid\"},{\"attributes\":{},\"id\":\"1198\",\"type\":\"ResetTool\"},{\"attributes\":{\"fill_alpha\":{\"value\":0.1},\"fill_color\":{\"value\":\"mediumseagreen\"},\"height\":{\"value\":0.9},\"line_alpha\":{\"value\":0.1},\"line_color\":{\"value\":\"#1f77b4\"},\"line_width\":{\"value\":0},\"right\":{\"field\":\"right\"},\"y\":{\"field\":\"y\"}},\"id\":\"1210\",\"type\":\"HBar\"},{\"attributes\":{\"below\":[{\"id\":\"1261\"}],\"center\":[{\"id\":\"1264\"},{\"id\":\"1267\"}],\"frame_height\":180,\"frame_width\":150,\"left\":[{\"id\":\"1265\"}],\"min_border\":3,\"outline_line_color\":\"dimgrey\",\"renderers\":[{\"id\":\"1285\"}],\"title\":{\"id\":\"1251\"},\"toolbar\":{\"id\":\"1275\"},\"toolbar_location\":null,\"x_range\":{\"id\":\"1253\"},\"x_scale\":{\"id\":\"1257\"},\"y_range\":{\"id\":\"1255\"},\"y_scale\":{\"id\":\"1259\"}},\"id\":\"1250\",\"subtype\":\"Figure\",\"type\":\"Plot\"},{\"attributes\":{\"axis\":{\"id\":\"1302\"},\"dimension\":1,\"ticker\":null},\"id\":\"1304\",\"type\":\"Grid\"},{\"attributes\":{\"axis_label_text_font_size\":\"14pt\",\"formatter\":{\"id\":\"1417\"},\"major_label_text_font_size\":\"12pt\",\"ticker\":{\"id\":\"1336\"}},\"id\":\"1335\",\"type\":\"LinearAxis\"},{\"attributes\":{\"axis_label_text_font_size\":\"14pt\",\"formatter\":{\"id\":\"1410\"},\"major_label_text_font_size\":\"12pt\",\"ticker\":{\"id\":\"1303\"},\"visible\":false},\"id\":\"1302\",\"type\":\"CategoricalAxis\"},{\"attributes\":{\"data\":{\"fill_alpha\":[1,0.6,0.3],\"right\":[6,15,24],\"y\":[\"Primary\",\"Secondary\",\"Tertiary\"]},\"selected\":{\"id\":\"1384\"},\"selection_policy\":{\"id\":\"1385\"}},\"id\":\"1208\",\"type\":\"ColumnDataSource\"},{\"attributes\":{},\"id\":\"1340\",\"type\":\"CategoricalTicker\"},{\"attributes\":{\"fill_alpha\":{\"field\":\"fill_alpha\"},\"fill_color\":{\"value\":\"mediumseagreen\"},\"height\":{\"value\":0.9},\"line_color\":{\"value\":\"#1f77b4\"},\"line_width\":{\"value\":0},\"right\":{\"field\":\"right\"},\"y\":{\"field\":\"y\"}},\"id\":\"1209\",\"type\":\"HBar\"},{\"attributes\":{},\"id\":\"1336\",\"type\":\"BasicTicker\"},{\"attributes\":{\"axis\":{\"id\":\"1335\"},\"ticker\":null},\"id\":\"1338\",\"type\":\"Grid\"},{\"attributes\":{\"axis_label_text_font_size\":\"14pt\",\"formatter\":{\"id\":\"1383\"},\"major_label_text_font_size\":\"12pt\",\"ticker\":{\"id\":\"1192\"},\"visible\":false},\"id\":\"1191\",\"type\":\"CategoricalAxis\"},{\"attributes\":{\"factors\":[\"Tertiary\",\"Secondary\",\"Primary\"]},\"id\":\"1255\",\"type\":\"FactorRange\"},{\"attributes\":{},\"id\":\"1194\",\"type\":\"PanTool\"},{\"attributes\":{\"end\":28,\"start\":-1},\"id\":\"1253\",\"type\":\"Range1d\"},{\"attributes\":{\"data_source\":{\"id\":\"1319\"},\"glyph\":{\"id\":\"1320\"},\"hover_glyph\":null,\"muted_glyph\":null,\"nonselection_glyph\":{\"id\":\"1321\"},\"selection_glyph\":null,\"view\":{\"id\":\"1323\"}},\"id\":\"1322\",\"type\":\"GlyphRenderer\"},{\"attributes\":{\"axis\":{\"id\":\"1339\"},\"dimension\":1,\"ticker\":null},\"id\":\"1341\",\"type\":\"Grid\"},{\"attributes\":{\"data\":{\"fill_alpha\":[1,0.6,0.3],\"right\":[6,0,0],\"y\":[\"Primary\",\"Secondary\",\"Tertiary\"]},\"selected\":{\"id\":\"1393\"},\"selection_policy\":{\"id\":\"1394\"}},\"id\":\"1245\",\"type\":\"ColumnDataSource\"},{\"attributes\":{\"data_source\":{\"id\":\"1208\"},\"glyph\":{\"id\":\"1209\"},\"hover_glyph\":null,\"muted_glyph\":null,\"nonselection_glyph\":{\"id\":\"1210\"},\"selection_glyph\":null,\"view\":{\"id\":\"1212\"}},\"id\":\"1211\",\"type\":\"GlyphRenderer\"},{\"attributes\":{\"text\":\"Linke\",\"text_font_size\":{\"value\":\"14pt\"}},\"id\":\"1251\",\"type\":\"Title\"},{\"attributes\":{\"axis_label_text_font_size\":\"14pt\",\"formatter\":{\"id\":\"1419\"},\"major_label_text_font_size\":\"12pt\",\"ticker\":{\"id\":\"1340\"}},\"id\":\"1339\",\"type\":\"CategoricalAxis\"},{\"attributes\":{\"bottom_units\":\"screen\",\"fill_alpha\":0.5,\"fill_color\":\"lightgrey\",\"left_units\":\"screen\",\"level\":\"overlay\",\"line_alpha\":1.0,\"line_color\":\"black\",\"line_dash\":[4,4],\"line_width\":2,\"render_mode\":\"css\",\"right_units\":\"screen\",\"top_units\":\"screen\"},\"id\":\"1126\",\"type\":\"BoxAnnotation\"},{\"attributes\":{},\"id\":\"1257\",\"type\":\"LinearScale\"},{\"attributes\":{\"source\":{\"id\":\"1134\"}},\"id\":\"1138\",\"type\":\"CDSView\"},{\"attributes\":{},\"id\":\"1192\",\"type\":\"CategoricalTicker\"},{\"attributes\":{\"data\":{\"fill_alpha\":[1,0.6,0.3],\"right\":[0,10,4],\"y\":[\"Primary\",\"Secondary\",\"Tertiary\"]},\"selected\":{\"id\":\"1411\"},\"selection_policy\":{\"id\":\"1412\"}},\"id\":\"1319\",\"type\":\"ColumnDataSource\"},{\"attributes\":{\"data\":{\"fill_alpha\":[1,0.6,0.3],\"right\":[0,6,0],\"y\":[\"Primary\",\"Secondary\",\"Tertiary\"]},\"selected\":{\"id\":\"1420\"},\"selection_policy\":{\"id\":\"1421\"}},\"id\":\"1356\",\"type\":\"ColumnDataSource\"},{\"attributes\":{\"fill_alpha\":{\"value\":0.1},\"fill_color\":{\"value\":\"red\"},\"height\":{\"value\":0.9},\"line_alpha\":{\"value\":0.1},\"line_color\":{\"value\":\"#1f77b4\"},\"line_width\":{\"value\":0},\"right\":{\"field\":\"right\"},\"y\":{\"field\":\"y\"}},\"id\":\"1136\",\"type\":\"HBar\"},{\"attributes\":{},\"id\":\"1305\",\"type\":\"PanTool\"},{\"attributes\":{\"bottom_units\":\"screen\",\"fill_alpha\":0.5,\"fill_color\":\"lightgrey\",\"left_units\":\"screen\",\"level\":\"overlay\",\"line_alpha\":1.0,\"line_color\":\"black\",\"line_dash\":[4,4],\"line_width\":2,\"render_mode\":\"css\",\"right_units\":\"screen\",\"top_units\":\"screen\"},\"id\":\"1163\",\"type\":\"BoxAnnotation\"},{\"attributes\":{},\"id\":\"1259\",\"type\":\"CategoricalScale\"},{\"attributes\":{\"axis\":{\"id\":\"1187\"},\"ticker\":null},\"id\":\"1190\",\"type\":\"Grid\"},{\"attributes\":{\"below\":[{\"id\":\"1113\"}],\"center\":[{\"id\":\"1116\"},{\"id\":\"1119\"}],\"frame_height\":180,\"frame_width\":150,\"left\":[{\"id\":\"1117\"}],\"min_border\":3,\"min_border_left\":100,\"outline_line_color\":\"dimgrey\",\"renderers\":[{\"id\":\"1137\"}],\"title\":{\"id\":\"1103\"},\"toolbar\":{\"id\":\"1127\"},\"toolbar_location\":null,\"x_range\":{\"id\":\"1105\"},\"x_scale\":{\"id\":\"1109\"},\"y_range\":{\"id\":\"1107\"},\"y_scale\":{\"id\":\"1111\"}},\"id\":\"1102\",\"subtype\":\"Figure\",\"type\":\"Plot\"},{\"attributes\":{},\"id\":\"1306\",\"type\":\"WheelZoomTool\"},{\"attributes\":{\"fill_alpha\":{\"field\":\"fill_alpha\"},\"fill_color\":{\"value\":\"darkorange\"},\"height\":{\"value\":0.9},\"line_color\":{\"value\":\"#1f77b4\"},\"line_width\":{\"value\":0},\"right\":{\"field\":\"right\"},\"y\":{\"field\":\"y\"}},\"id\":\"1357\",\"type\":\"HBar\"},{\"attributes\":{},\"id\":\"1481\",\"type\":\"BasicTickFormatter\"},{\"attributes\":{},\"id\":\"1432\",\"type\":\"LinearScale\"},{\"attributes\":{},\"id\":\"1512\",\"type\":\"Selection\"},{\"attributes\":{},\"id\":\"1366\",\"type\":\"Selection\"},{\"attributes\":{},\"id\":\"1367\",\"type\":\"UnionRenderers\"},{\"attributes\":{},\"id\":\"1342\",\"type\":\"PanTool\"},{\"attributes\":{\"below\":[{\"id\":\"1187\"}],\"center\":[{\"id\":\"1190\"},{\"id\":\"1193\"}],\"frame_height\":180,\"frame_width\":150,\"left\":[{\"id\":\"1191\"}],\"min_border\":3,\"outline_line_color\":\"dimgrey\",\"renderers\":[{\"id\":\"1211\"}],\"title\":{\"id\":\"1177\"},\"toolbar\":{\"id\":\"1201\"},\"toolbar_location\":null,\"x_range\":{\"id\":\"1179\"},\"x_scale\":{\"id\":\"1183\"},\"y_range\":{\"id\":\"1181\"},\"y_scale\":{\"id\":\"1185\"}},\"id\":\"1176\",\"subtype\":\"Figure\",\"type\":\"Plot\"},{\"attributes\":{},\"id\":\"1483\",\"type\":\"BasicTickFormatter\"},{\"attributes\":{},\"id\":\"1343\",\"type\":\"WheelZoomTool\"},{\"attributes\":{\"formatter\":{\"id\":\"1481\"},\"ticker\":{\"id\":\"1435\"},\"visible\":false},\"id\":\"1434\",\"type\":\"LinearAxis\"},{\"attributes\":{\"source\":{\"id\":\"1171\"}},\"id\":\"1175\",\"type\":\"CDSView\"},{\"attributes\":{},\"id\":\"1513\",\"type\":\"UnionRenderers\"},{\"attributes\":{},\"id\":\"1439\",\"type\":\"BasicTicker\"},{\"attributes\":{\"overlay\":{\"id\":\"1348\"}},\"id\":\"1344\",\"type\":\"BoxZoomTool\"},{\"attributes\":{\"children\":[[{\"id\":\"1102\"},0,0],[{\"id\":\"1139\"},0,1],[{\"id\":\"1176\"},0,2],[{\"id\":\"1213\"},1,0],[{\"id\":\"1250\"},1,1],[{\"id\":\"1287\"},1,2],[{\"id\":\"1324\"},2,0]]},\"id\":\"1424\",\"type\":\"GridBox\"},{\"attributes\":{},\"id\":\"1435\",\"type\":\"BasicTicker\"},{\"attributes\":{\"text\":\"Gr\\u00fcne\",\"text_font_size\":{\"value\":\"14pt\"}},\"id\":\"1177\",\"type\":\"Title\"},{\"attributes\":{},\"id\":\"1345\",\"type\":\"SaveTool\"},{\"attributes\":{\"axis\":{\"id\":\"1434\"},\"ticker\":null,\"visible\":false},\"id\":\"1437\",\"type\":\"Grid\"},{\"attributes\":{\"end\":28,\"start\":-1},\"id\":\"1179\",\"type\":\"Range1d\"},{\"attributes\":{},\"id\":\"1346\",\"type\":\"ResetTool\"},{\"attributes\":{\"axis\":{\"id\":\"1438\"},\"dimension\":1,\"ticker\":null,\"visible\":false},\"id\":\"1441\",\"type\":\"Grid\"},{\"attributes\":{},\"id\":\"1183\",\"type\":\"LinearScale\"},{\"attributes\":{\"formatter\":{\"id\":\"1483\"},\"ticker\":{\"id\":\"1439\"},\"visible\":false},\"id\":\"1438\",\"type\":\"LinearAxis\"},{\"attributes\":{},\"id\":\"1347\",\"type\":\"HelpTool\"},{\"attributes\":{},\"id\":\"1185\",\"type\":\"CategoricalScale\"},{\"attributes\":{\"factors\":[\"Tertiary\",\"Secondary\",\"Primary\"]},\"id\":\"1181\",\"type\":\"FactorRange\"},{\"attributes\":{\"text_align\":\"center\",\"text_alpha\":{\"value\":0.1},\"text_baseline\":\"middle\",\"text_color\":{\"value\":\"black\"},\"x\":{\"value\":0},\"y\":{\"value\":0}},\"id\":\"1458\",\"type\":\"Text\"},{\"attributes\":{},\"id\":\"1403\",\"type\":\"UnionRenderers\"},{\"attributes\":{\"active_drag\":\"auto\",\"active_inspect\":\"auto\",\"active_multi\":null,\"active_scroll\":\"auto\",\"active_tap\":\"auto\",\"tools\":[{\"id\":\"1442\"},{\"id\":\"1443\"},{\"id\":\"1444\"},{\"id\":\"1445\"},{\"id\":\"1446\"},{\"id\":\"1447\"}]},\"id\":\"1449\",\"type\":\"Toolbar\"},{\"attributes\":{\"fill_alpha\":{\"field\":\"fill_alpha\"},\"fill_color\":{\"value\":\"deeppink\"},\"height\":{\"value\":0.9},\"line_color\":{\"value\":\"#1f77b4\"},\"line_width\":{\"value\":0},\"right\":{\"field\":\"right\"},\"y\":{\"field\":\"y\"}},\"id\":\"1283\",\"type\":\"HBar\"},{\"attributes\":{},\"id\":\"1402\",\"type\":\"Selection\"},{\"attributes\":{\"axis_label_text_font_size\":\"14pt\",\"formatter\":{\"id\":\"1381\"},\"major_label_text_font_size\":\"12pt\",\"ticker\":{\"id\":\"1188\"},\"visible\":false},\"id\":\"1187\",\"type\":\"LinearAxis\"},{\"attributes\":{},\"id\":\"1408\",\"type\":\"BasicTickFormatter\"},{\"attributes\":{\"text_align\":\"center\",\"text_baseline\":\"middle\",\"text_color\":{\"value\":\"black\"},\"x\":{\"value\":0},\"y\":{\"value\":0}},\"id\":\"1457\",\"type\":\"Text\"},{\"attributes\":{},\"id\":\"1442\",\"type\":\"PanTool\"},{\"attributes\":{},\"id\":\"1372\",\"type\":\"BasicTickFormatter\"},{\"attributes\":{},\"id\":\"1188\",\"type\":\"BasicTicker\"},{\"attributes\":{},\"id\":\"1443\",\"type\":\"WheelZoomTool\"},{\"attributes\":{},\"id\":\"1374\",\"type\":\"CategoricalTickFormatter\"},{\"attributes\":{},\"id\":\"1363\",\"type\":\"BasicTickFormatter\"},{\"attributes\":{},\"id\":\"1375\",\"type\":\"Selection\"},{\"attributes\":{\"overlay\":{\"id\":\"1448\"}},\"id\":\"1444\",\"type\":\"BoxZoomTool\"},{\"attributes\":{},\"id\":\"1365\",\"type\":\"CategoricalTickFormatter\"},{\"attributes\":{},\"id\":\"1376\",\"type\":\"UnionRenderers\"},{\"attributes\":{},\"id\":\"1426\",\"type\":\"DataRange1d\"},{\"attributes\":{},\"id\":\"1445\",\"type\":\"SaveTool\"},{\"attributes\":{\"active_drag\":\"auto\",\"active_inspect\":\"auto\",\"active_multi\":null,\"active_scroll\":\"auto\",\"active_tap\":\"auto\",\"tools\":[{\"id\":\"1268\"},{\"id\":\"1269\"},{\"id\":\"1270\"},{\"id\":\"1271\"},{\"id\":\"1272\"},{\"id\":\"1273\"}]},\"id\":\"1275\",\"type\":\"Toolbar\"},{\"attributes\":{\"text\":\"SPD\",\"text_font_size\":{\"value\":\"14pt\"}},\"id\":\"1103\",\"type\":\"Title\"},{\"attributes\":{},\"id\":\"1446\",\"type\":\"ResetTool\"},{\"attributes\":{},\"id\":\"1381\",\"type\":\"BasicTickFormatter\"},{\"attributes\":{},\"id\":\"1383\",\"type\":\"CategoricalTickFormatter\"},{\"attributes\":{\"source\":{\"id\":\"1456\"}},\"id\":\"1460\",\"type\":\"CDSView\"},{\"attributes\":{},\"id\":\"1273\",\"type\":\"HelpTool\"},{\"attributes\":{\"below\":[{\"id\":\"1434\"}],\"center\":[{\"id\":\"1437\"},{\"id\":\"1441\"}],\"frame_height\":30,\"frame_width\":458,\"left\":[{\"id\":\"1438\"}],\"min_border_left\":100,\"outline_line_width\":0,\"renderers\":[{\"id\":\"1459\"}],\"title\":{\"id\":\"1471\"},\"toolbar\":{\"id\":\"1449\"},\"toolbar_location\":null,\"x_range\":{\"id\":\"1426\"},\"x_scale\":{\"id\":\"1430\"},\"y_range\":{\"id\":\"1428\"},\"y_scale\":{\"id\":\"1432\"}},\"id\":\"1425\",\"subtype\":\"Figure\",\"type\":\"Plot\"},{\"attributes\":{},\"id\":\"1447\",\"type\":\"HelpTool\"},{\"attributes\":{},\"id\":\"1384\",\"type\":\"Selection\"},{\"attributes\":{},\"id\":\"1272\",\"type\":\"ResetTool\"},{\"attributes\":{},\"id\":\"1385\",\"type\":\"UnionRenderers\"},{\"attributes\":{\"bottom_units\":\"screen\",\"fill_alpha\":0.5,\"fill_color\":\"lightgrey\",\"left_units\":\"screen\",\"level\":\"overlay\",\"line_alpha\":1.0,\"line_color\":\"black\",\"line_dash\":[4,4],\"line_width\":2,\"render_mode\":\"css\",\"right_units\":\"screen\",\"top_units\":\"screen\"},\"id\":\"1200\",\"type\":\"BoxAnnotation\"},{\"attributes\":{},\"id\":\"1399\",\"type\":\"BasicTickFormatter\"},{\"attributes\":{},\"id\":\"1401\",\"type\":\"CategoricalTickFormatter\"},{\"attributes\":{\"below\":[{\"id\":\"1224\"}],\"center\":[{\"id\":\"1227\"},{\"id\":\"1230\"}],\"frame_height\":180,\"frame_width\":150,\"left\":[{\"id\":\"1228\"}],\"min_border\":3,\"min_border_left\":100,\"outline_line_color\":\"dimgrey\",\"renderers\":[{\"id\":\"1248\"}],\"title\":{\"id\":\"1214\"},\"toolbar\":{\"id\":\"1238\"},\"toolbar_location\":null,\"x_range\":{\"id\":\"1216\"},\"x_scale\":{\"id\":\"1220\"},\"y_range\":{\"id\":\"1218\"},\"y_scale\":{\"id\":\"1222\"}},\"id\":\"1213\",\"subtype\":\"Figure\",\"type\":\"Plot\"},{\"attributes\":{\"data\":{\"text\":[\"\\u5e2d\\u4f4d\\u6570\\u91cf\"]},\"selected\":{\"id\":\"1512\"},\"selection_policy\":{\"id\":\"1513\"}},\"id\":\"1456\",\"type\":\"ColumnDataSource\"},{\"attributes\":{\"text\":\"CSU\",\"text_font_size\":{\"value\":\"14pt\"}},\"id\":\"1214\",\"type\":\"Title\"},{\"attributes\":{\"below\":[{\"id\":\"1150\"}],\"center\":[{\"id\":\"1153\"},{\"id\":\"1156\"}],\"frame_height\":180,\"frame_width\":150,\"left\":[{\"id\":\"1154\"}],\"min_border\":3,\"outline_line_color\":\"dimgrey\",\"renderers\":[{\"id\":\"1174\"}],\"title\":{\"id\":\"1140\"},\"toolbar\":{\"id\":\"1164\"},\"toolbar_location\":null,\"x_range\":{\"id\":\"1142\"},\"x_scale\":{\"id\":\"1146\"},\"y_range\":{\"id\":\"1144\"},\"y_scale\":{\"id\":\"1148\"}},\"id\":\"1139\",\"subtype\":\"Figure\",\"type\":\"Plot\"},{\"attributes\":{\"source\":{\"id\":\"1208\"}},\"id\":\"1212\",\"type\":\"CDSView\"},{\"attributes\":{},\"id\":\"1410\",\"type\":\"CategoricalTickFormatter\"},{\"attributes\":{\"end\":28,\"start\":-1},\"id\":\"1216\",\"type\":\"Range1d\"},{\"attributes\":{},\"id\":\"1411\",\"type\":\"Selection\"},{\"attributes\":{\"fill_alpha\":{\"field\":\"fill_alpha\"},\"fill_color\":{\"value\":\"dodgerblue\"},\"height\":{\"value\":0.9},\"line_color\":{\"value\":\"#1f77b4\"},\"line_width\":{\"value\":0},\"right\":{\"field\":\"right\"},\"y\":{\"field\":\"y\"}},\"id\":\"1246\",\"type\":\"HBar\"},{\"attributes\":{},\"id\":\"1220\",\"type\":\"LinearScale\"},{\"attributes\":{},\"id\":\"1412\",\"type\":\"UnionRenderers\"},{\"attributes\":{\"bottom_units\":\"screen\",\"fill_alpha\":0.5,\"fill_color\":\"lightgrey\",\"left_units\":\"screen\",\"level\":\"overlay\",\"line_alpha\":1.0,\"line_color\":\"black\",\"line_dash\":[4,4],\"line_width\":2,\"render_mode\":\"css\",\"right_units\":\"screen\",\"top_units\":\"screen\"},\"id\":\"1448\",\"type\":\"BoxAnnotation\"},{\"attributes\":{},\"id\":\"1417\",\"type\":\"BasicTickFormatter\"},{\"attributes\":{},\"id\":\"1222\",\"type\":\"CategoricalScale\"},{\"attributes\":{},\"id\":\"1419\",\"type\":\"CategoricalTickFormatter\"},{\"attributes\":{\"data_source\":{\"id\":\"1456\"},\"glyph\":{\"id\":\"1457\"},\"hover_glyph\":null,\"muted_glyph\":null,\"nonselection_glyph\":{\"id\":\"1458\"},\"selection_glyph\":null,\"view\":{\"id\":\"1460\"}},\"id\":\"1459\",\"type\":\"GlyphRenderer\"},{\"attributes\":{\"factors\":[\"Tertiary\",\"Secondary\",\"Primary\"]},\"id\":\"1218\",\"type\":\"FactorRange\"},{\"attributes\":{},\"id\":\"1420\",\"type\":\"Selection\"},{\"attributes\":{},\"id\":\"1421\",\"type\":\"UnionRenderers\"},{\"attributes\":{},\"id\":\"1121\",\"type\":\"WheelZoomTool\"},{\"attributes\":{},\"id\":\"1430\",\"type\":\"LinearScale\"},{\"attributes\":{\"text\":\"\"},\"id\":\"1471\",\"type\":\"Title\"},{\"attributes\":{\"axis_label_text_font_size\":\"14pt\",\"formatter\":{\"id\":\"1390\"},\"major_label_text_font_size\":\"12pt\",\"ticker\":{\"id\":\"1225\"},\"visible\":false},\"id\":\"1224\",\"type\":\"LinearAxis\"},{\"attributes\":{\"axis\":{\"id\":\"1224\"},\"ticker\":null},\"id\":\"1227\",\"type\":\"Grid\"},{\"attributes\":{},\"id\":\"1225\",\"type\":\"BasicTicker\"}],\"root_ids\":[\"1461\"]},\"title\":\"Bokeh Application\",\"version\":\"2.0.1\"}};\n",
       "  var render_items = [{\"docid\":\"7f04755c-1ffe-4511-bfe9-6e9f17427c49\",\"root_ids\":[\"1461\"],\"roots\":{\"1461\":\"d7a86fdb-6a35-492e-9f88-3a9c0b7afb2b\"}}];\n",
       "  root.Bokeh.embed.embed_items_notebook(docs_json, render_items);\n",
       "\n",
       "  }\n",
       "  if (root.Bokeh !== undefined) {\n",
       "    embed_document(root);\n",
       "  } else {\n",
       "    var attempts = 0;\n",
       "    var timer = setInterval(function(root) {\n",
       "      if (root.Bokeh !== undefined) {\n",
       "        clearInterval(timer);\n",
       "        embed_document(root);\n",
       "      } else {\n",
       "        attempts++;\n",
       "        if (attempts > 100) {\n",
       "          clearInterval(timer);\n",
       "          console.log(\"Bokeh: ERROR: Unable to run BokehJS code because BokehJS library is missing\");\n",
       "        }\n",
       "      }\n",
       "    }, 10, root)\n",
       "  }\n",
       "})(window);"
      ],
      "application/vnd.bokehjs_exec.v0+json": ""
     },
     "metadata": {
      "application/vnd.bokehjs_exec.v0+json": {
       "id": "1461"
      }
     },
     "output_type": "display_data"
    }
   ],
   "source": [
    "# ... 这里需要您编写 - 任务 5 的代码 ...\n",
    "\n",
    "# 导入程序包\n",
    "from bokeh.plotting import gridplot\n",
    "from bokeh.layouts import column\n",
    "\n",
    "# 获取 Primary、Secondary、Tertiary 三列的列名\n",
    "columns = df_germany_party.columns[0: 3].tolist()\n",
    "\n",
    "# 计算一下 columns 包含的所有列中的最大值 max_value，\n",
    "# 根据 max_value 统一设置所有数据面板 x 轴的取值范围，\n",
    "# 统一的 x 轴可以让对比更加明显。\n",
    "max_value = df_germany_party[columns].max().max()\n",
    "\n",
    "# 将数据面板绘制为 num_of_columns 多个列\n",
    "num_of_columns = 3\n",
    "plots = []\n",
    "# 每一个政党绘制一个数据面板\n",
    "for i, party in enumerate(df_germany_party.index):\n",
    "\n",
    "    # 创建绘图对象\n",
    "    p = figure(\n",
    "        title = party,\n",
    "        x_range = [-1, max_value + 1], y_range = columns[::-1],\n",
    "        frame_width = 150, frame_height =180, \n",
    "        toolbar_location = None\n",
    "    )\n",
    "    # 绘制横向条形图\n",
    "    p.hbar(\n",
    "        y = columns,\n",
    "        height = 0.9,\n",
    "        left = 0, right = df_germany_party.loc[party, columns],\n",
    "        fill_color = df_germany_party.loc[party, 'Color'], \n",
    "        fill_alpha = [1, 0.6, 0.3],\n",
    "        line_width = 0\n",
    "    )\n",
    "    # 设置坐标轴和绘图的样式和体验\n",
    "    p.title.text_font_size = '14pt'\n",
    "    p.axis.axis_label_text_font_size = '14pt'\n",
    "    p.axis.major_label_text_font_size = '12pt'\n",
    "    p.outline_line_color = 'dimgrey'\n",
    "    p.min_border = 3\n",
    "\n",
    "    # 不是第一列，将 y 坐标轴隐藏\n",
    "    if i % num_of_columns != 0: \n",
    "        p.yaxis.visible = False\n",
    "    # 是第一列，将坐标轴的宽度设置为 100 像素\n",
    "    else:\n",
    "        p.min_border_left = 100\n",
    "\n",
    "    # 不是倒数的 3 个，将 x 坐标轴隐藏\n",
    "    if i < len(df_germany_party) - num_of_columns:\n",
    "        p.xaxis.visible = False\n",
    "\n",
    "    # 最后一行，将最后几个绘图向上移动进行对齐\n",
    "    if i > len(df_germany_party) // num_of_columns * num_of_columns - 1:\n",
    "        p.margin = (\n",
    "            -12 * 2 - p.xaxis.major_tick_out, 0, \n",
    "            0, 0\n",
    "        )\n",
    "\n",
    "    # 将所有绘图添加至绘图列表\n",
    "    plots.append(p)\n",
    "\n",
    "# 将 plots 中所有的绘图调整为绘图矩阵\n",
    "grid = gridplot(\n",
    "    plots, \n",
    "    ncols = num_of_columns, \n",
    "    toolbar_location = None\n",
    ")\n",
    "\n",
    "# 绘制共享的 x 轴名称信息\n",
    "p_x_axis = figure(\n",
    "    frame_width = 150 * num_of_columns + 2 * 4,\n",
    "    frame_height = 30, toolbar_location = None\n",
    ")\n",
    "p_x_axis.min_border_left = 100\n",
    "p_x_axis.axis.visible = False\n",
    "p_x_axis.grid.visible = False\n",
    "p_x_axis.outline_line_width = 0\n",
    "p_x_axis.text(\n",
    "    x = 0, y = 0, \n",
    "    text = ['席位数量'], \n",
    "    text_baseline = 'middle', align = 'center'\n",
    ")\n",
    "\n",
    "# 将 grid 和 p_x_axis 拼接为一列，上下结构\n",
    "bar_plot_by_party = (\n",
    "    column(\n",
    "        grid, p_x_axis\n",
    "    )\n",
    ")\n",
    "\n",
    "# 显示所有的绘图内容\n",
    "show(bar_plot_by_party)"
   ]
  },
  {
   "cell_type": "markdown",
   "metadata": {
    "kkbSpbl": {
     "taskId": "ba650492-8d7b-41d6-8925-fda458d6ab1c",
     "taskNum": 6
    }
   },
   "source": [
    "## 6. Data：探索德国的地理信息数据（GeoJSON）\n",
    "\n",
    "这个任务我们开始了解地图可视化的一些技术，我们会初步认识 GeoJSON 的数据集，以及如何使用 Python 中的 Bokeh 来进行德国地图的绘制。\n",
    "\n",
    "**主要任务：**\n",
    "\n",
    "- 加载包含德国 16 个州的边界数据的 GeoJSON 数据集；\n",
    "- 在输出结果中，通过层层展开的方式，浏览 GeoJSON 的层次和他们的数据结构；\n",
    "- 将脚本中的 `...` 替换为正确的值。"
   ]
  },
  {
   "cell_type": "code",
   "execution_count": 7,
   "metadata": {
    "kkbSpbl": {
     "cellId": "dek318HqajLr7QYRQfn",
     "taskId": "7bd13d17-f105-4ea0-aa3b-bc893cc4366a",
     "taskNum": 6
    }
   },
   "outputs": [
    {
     "name": "stdout",
     "output_type": "stream",
     "text": [
      "16\n"
     ]
    },
    {
     "data": {
      "application/json": {
       "features": [
        {
         "geometry": {
          "coordinates": [
           [
            [
             [
              9.650460243225211,
              49.7763404846192
             ],
             [
              9.637469291687069,
              49.69042205810558
             ],
             [
              9.671889305114973,
              49.683181762695426
             ],
             [
              9.715788841247615,
              49.724449157714844
             ],
             [
              9.73471069335966,
              49.683601379394645
             ],
             [
              9.795839309692326,
              49.72497940063482
             ],
             [
              9.836868286132812,
              49.69924926757807
             ],
             [
              9.83308029174799,
              49.65090179443382
             ],
             [
              9.880538940429688,
              49.60306167602539
             ],
             [
              9.825579643249796,
              49.550659179687614
             ],
             [
              9.865819931030273,
              49.53993988037121
             ],
             [
              9.921249389648722,
              49.58118057250982
             ],
             [
              9.90511894226097,
              49.5551109313966
             ],
             [
              9.933589935302848,
              49.55537033081055
             ],
             [
              9.94201946258545,
              49.47780990600609
             ],
             [
              10.021670341491813,
              49.47856903076166
             ],
             [
              10.070828437805176,
              49.54175186157238
             ],
             [
              10.089150428772086,
              49.504989624023665
             ],
             [
              10.129039764404354,
              49.50531005859375
             ],
             [
              10.102548599243107,
              49.442440032958984
             ],
             [
              10.17243862152128,
              49.39152908325195
             ],
             [
              10.115939140319995,
              49.376281738281364
             ],
             [
              10.133849143982161,
              49.34701156616222
             ],
             [
              10.111349105835018,
              49.33576202392595
             ],
             [
              10.151530265808162,
              49.325119018554744
             ],
             [
              10.162669181823901,
              49.27928924560547
             ],
             [
              10.119018554687557,
              49.25495147705101
             ],
             [
              10.141930580139217,
              49.251510620117415
             ],
             [
              10.131599426269588,
              49.19997024536144
             ],
             [
              10.264269828796671,
              49.14262008666992
             ],
             [
              10.213559150695858,
              49.09807205200218
             ],
             [
              10.259538650512866,
              49.091209411621094
             ],
             [
              10.260379791259766,
              49.03989028930687
             ],
             [
              10.363980293273926,
              49.029991149902344
             ],
             [
              10.46698093414335,
              48.9382896423341
             ],
             [
              10.43877029418951,
              48.90898895263683
             ],
             [
              10.466718673706339,
              48.89397048950218
             ],
             [
              10.438398361206055,
              48.8498992919923
             ],
             [
              10.460650444030762,
              48.81275939941406
             ],
             [
              10.421119689941634,
              48.77619171142601
             ],
             [
              10.505069732666186,
              48.6903915405274
             ],
             [
              10.420589447021484,
              48.66535186767584
             ],
             [
              10.448868751525993,
              48.69832992553722
             ],
             [
              10.415119171142635,
              48.70236206054693
             ],
             [
              10.358600616455078,
              48.65859222412121
             ],
             [
              10.347478866577205,
              48.69562149047874
             ],
             [
              10.279189109802473,
              48.71039962768555
             ],
             [
              10.262008666992188,
              48.6699485778808
             ],
             [
              10.33017826080328,
              48.61455917358421
             ],
             [
              10.301910400390852,
              48.61114883422863
             ],
             [
              10.318519592285213,
              48.529701232910156
             ],
             [
              10.23357009887701,
              48.519458770751896
             ],
             [
              10.244940757751579,
              48.50088882446295
             ],
             [
              10.178018569946346,
              48.4662704467774
             ],
             [
              10.037790298462141,
              48.463359832763786
             ],
             [
              10.043800354003906,
              48.433830261230696
             ],
             [
              9.971670150756836,
              48.38422012329113
             ],
             [
              10.0683403015139,
              48.285560607910156
             ],
             [
              10.086348533630598,
              48.18515014648449
             ],
             [
              10.142750740051497,
              48.10358047485374
             ],
             [
              10.137919425964355,
              48.02132034301758
             ],
             [
              10.083058357238997,
              47.96100997924805
             ],
             [
              10.110899925232104,
              47.9388694763183
             ],
             [
              10.105770111084041,
              47.88275909423828
             ],
             [
              10.078228950500659,
              47.87129211425781
             ],
             [
              10.133698463440169,
              47.819438934326286
             ],
             [
              10.067669868469522,
              47.788909912109375
             ],
             [
              10.117288589477539,
              47.76311111450218
             ],
             [
              10.128538131714151,
              47.67704010009777
             ],
             [
              10.084130287170467,
              47.67631912231468
             ],
             [
              10.073051452636776,
              47.63850021362305
             ],
             [
              10.024051666259766,
              47.691162109375114
             ],
             [
              9.964490890502987,
              47.65380859374994
             ],
             [
              9.84401988983177,
              47.67903137207031
             ],
             [
              9.746689796447981,
              47.60747909545921
             ],
             [
              9.56746578216547,
              47.5864715576173
             ],
             [
              9.499274253845442,
              47.6525230407716
             ],
             [
              9.315168380737305,
              47.676967620849894
             ],
             [
              9.044014930725098,
              47.82368850708008
             ],
             [
              9.177002906799373,
              47.737754821777514
             ],
             [
              9.221139907837028,
              47.66815185546875
             ],
             [
              9.164094924927042,
              47.65358352661133
             ],
             [
              8.99164009094244,
              47.747985839844034
             ],
             [
              9.010104179382324,
              47.73016357421875
             ],
             [
              8.941365242004451,
              47.731822967529524
             ],
             [
              9.006369590759277,
              47.69509124755882
             ],
             [
              8.891834259033544,
              47.65522384643583
             ],
             [
              8.853852272033691,
              47.68376922607439
             ],
             [
              8.874106407165812,
              47.7076416015625
             ],
             [
              8.808216094971158,
              47.74168014526367
             ],
             [
              8.771158218383846,
              47.71976852416992
             ],
             [
              8.79814815521246,
              47.67990875244152
             ],
             [
              8.727890014648779,
              47.696842193603686
             ],
             [
              8.730445861816634,
              47.766109466552905
             ],
             [
              8.69027328491211,
              47.76291275024437
             ],
             [
              8.65626907348667,
              47.805786132812614
             ],
             [
              8.629762649536133,
              47.7659721374514
             ],
             [
              8.619837760925293,
              47.80404281616211
             ],
             [
              8.56867599487316,
              47.814399719238395
             ],
             [
              8.576228141784725,
              47.78907775878906
             ],
             [
              8.47270584106451,
              47.77009963989258
             ],
             [
              8.404480934143066,
              47.679393768310604
             ],
             [
              8.471726417541618,
              47.64346313476574
             ],
             [
              8.601484298706112,
              47.6770133972168
             ],
             [
              8.62895870208746,
              47.65135192871094
             ],
             [
              8.596846580505542,
              47.647193908691406
             ],
             [
              8.584686279296875,
              47.6003112792971
             ],
             [
              8.520914077758846,
              47.63809585571289
             ],
             [
              8.45824337005638,
              47.60531997680681
             ],
             [
              8.495615959167594,
              47.585163116455305
             ],
             [
              8.437403678894327,
              47.57140731811529
             ],
             [
              8.32952022552496,
              47.574924468994425
             ],
             [
              8.2908353805542,
              47.613906860351676
             ],
             [
              8.20481967926031,
              47.626274108886776
             ],
             [
              8.087834358215616,
              47.56288528442394
             ],
             [
              7.944071769714355,
              47.549701690673885
             ],
             [
              7.890720844268913,
              47.59363555908226
             ],
             [
              7.820772171020621,
              47.59469985961937
             ],
             [
              7.66949319839506,
              47.53711700439453
             ],
             [
              7.632383823394946,
              47.5624237060548
             ],
             [
              7.679849147796688,
              47.57091140747082
             ],
             [
              7.670560836792106,
              47.59326171875023
             ],
             [
              7.607770919799862,
              47.58095932006859
             ],
             [
              7.524673938751221,
              47.66019439697271
             ],
             [
              7.557729244232291,
              47.88094711303711
             ],
             [
              7.62215709686302,
              47.973659515380916
             ],
             [
              7.568590164184855,
              48.03633880615257
             ],
             [
              7.577859401702995,
              48.121391296386776
             ],
             [
              7.666151046753214,
              48.221099853515625
             ],
             [
              7.693936824798527,
              48.30212020874046
             ],
             [
              7.745231628418139,
              48.32982635498064
             ],
             [
              7.733546733856315,
              48.39868545532238
             ],
             [
              7.805161952972469,
              48.51350021362316
             ],
             [
              7.805009365081901,
              48.59319305419922
             ],
             [
              7.970248699188346,
              48.756229400634766
             ],
             [
              8.087015151977823,
              48.802013397216854
             ],
             [
              8.197396278381404,
              48.957103729248274
             ],
             [
              8.295299530029354,
              49.00415039062506
             ],
             [
              8.362239837646541,
              49.09968948364275
             ],
             [
              8.38765907287592,
              49.23448181152361
             ],
             [
              8.491369247436523,
              49.30128860473627
             ],
             [
              8.450428962707804,
              49.33285140991234
             ],
             [
              8.49458980560297,
              49.36024856567383
             ],
             [
              8.498978614807413,
              49.393428802490234
             ],
             [
              8.464948654175089,
              49.39220046997076
             ],
             [
              8.508589744568098,
              49.44147872924799
             ],
             [
              8.445588111877555,
              49.450260162353516
             ],
             [
              8.467529296874943,
              49.473041534424055
             ],
             [
              8.418828964233342,
              49.55218887329107
             ],
             [
              8.429039001464844,
              49.58562088012707
             ],
             [
              8.591519355774153,
              49.52497100830095
             ],
             [
              8.625108718872013,
              49.55171203613287
             ],
             [
              8.600359916687182,
              49.613231658935774
             ],
             [
              8.69777870178217,
              49.62720108032238
             ],
             [
              8.681758880615519,
              49.57913970947283
             ],
             [
              8.729120254516602,
              49.522029876708984
             ],
             [
              8.90207862854021,
              49.5113410949707
             ],
             [
              8.879650115966797,
              49.4744987487793
             ],
             [
              8.827729225158919,
              49.47713088989269
             ],
             [
              8.83992004394554,
              49.44095993041992
             ],
             [
              8.800168991088867,
              49.41823196411133
             ],
             [
              8.85784053802496,
              49.404911041259766
             ],
             [
              8.955150604248217,
              49.46086883544922
             ],
             [
              8.954179763793945,
              49.51205062866205
             ],
             [
              9.133290290832633,
              49.52040100097656
             ],
             [
              9.092338562011832,
              49.54613876342785
             ],
             [
              9.10894870758085,
              49.583000183105696
             ],
             [
              9.258749961853255,
              49.58644866943382
             ],
             [
              9.314629554748706,
              49.65655899047857
             ],
             [
              9.418059349060115,
              49.64522933959978
             ],
             [
              9.427619934082088,
              49.711959838867244
             ],
             [
              9.398599624633789,
              49.73049163818371
             ],
             [
              9.365010261535929,
              49.70458221435558
             ],
             [
              9.387288093566951,
              49.726791381835994
             ],
             [
              9.307028770446834,
              49.7379608154298
             ],
             [
              9.335540771484489,
              49.74163055419922
             ],
             [
              9.323519706726131,
              49.76753997802729
             ],
             [
              9.5102796554566,
              49.78639984130888
             ],
             [
              9.573779106140194,
              49.74209976196289
             ],
             [
              9.57227897644043,
              49.77935028076183
             ],
             [
              9.650460243225211,
              49.7763404846192
             ]
            ]
           ],
           [
            [
             [
              8.708373069763297,
              47.71555709838867
             ],
             [
              8.72245121002237,
              47.69652938842779
             ],
             [
              8.661308288574162,
              47.695213317871264
             ],
             [
              8.708373069763297,
              47.71555709838867
             ]
            ]
           ]
          ],
          "type": "MultiPolygon"
         },
         "id": 0,
         "properties": {
          "id": "DE-BW",
          "name": "Baden-Württemberg",
          "type": "State"
         },
         "type": "Feature"
        },
        {
         "geometry": {
          "coordinates": [
           [
            [
             10.133859634399585,
             50.54999923706066
            ],
            [
             10.204319953918457,
             50.55379867553722
            ],
            [
             10.234009742736816,
             50.512699127197266
            ],
            [
             10.333989143371525,
             50.49404907226557
            ],
            [
             10.405019760131836,
             50.4232292175293
            ],
            [
             10.39352035522461,
             50.39334106445307
            ],
            [
             10.458058357238826,
             50.40090942382824
            ],
            [
             10.493670463562239,
             50.35243988037132
            ],
            [
             10.605488777160872,
             50.330242156982536
            ],
            [
             10.612021446228255,
             50.22555160522472
            ],
            [
             10.723018646240519,
             50.199798583984375
            ],
            [
             10.734558105469034,
             50.248352050781364
            ],
            [
             10.855380058288688,
             50.24898910522472
            ],
            [
             10.717250823974666,
             50.32294082641607
            ],
            [
             10.722298622131575,
             50.36009216308605
            ],
            [
             10.831330299377385,
             50.38996124267578
            ],
            [
             10.940460205078125,
             50.39025115966808
            ],
            [
             10.99833011627203,
             50.342250823974666
            ],
            [
             10.9981107711792,
             50.36447906494152
            ],
            [
             11.04424953460699,
             50.34238052368164
            ],
            [
             11.113239288330135,
             50.36489868164091
            ],
            [
             11.159410476684513,
             50.32794189453125
            ],
            [
             11.14237976074213,
             50.287109375
            ],
            [
             11.251668930053711,
             50.26519012451172
            ],
            [
             11.281947135925293,
             50.365509033203125
            ],
            [
             11.248118400573674,
             50.476890563964844
            ],
            [
             11.324259757995776,
             50.48833084106468
            ],
            [
             11.348060607910156,
             50.521869659423885
            ],
            [
             11.430090904235897,
             50.51472091674833
            ],
            [
             11.41750812530546,
             50.45145034790039
            ],
            [
             11.446418762206974,
             50.421760559081974
            ],
            [
             11.481788635254134,
             50.433021545410156
            ],
            [
             11.522049903869856,
             50.37353897094738
            ],
            [
             11.592958450317326,
             50.40353012084972
            ],
            [
             11.787029266357422,
             50.42264175415039
            ],
            [
             11.82710075378435,
             50.39291000366228
            ],
            [
             11.93927097320568,
             50.426879882812614
            ],
            [
             11.983886718750114,
             50.393493652343864
            ],
            [
             11.981323242187727,
             50.352478027343864
            ],
            [
             12.125018119812239,
             50.313156127929744
            ],
            [
             12.137169837951888,
             50.282112121582145
            ],
            [
             12.085860252380428,
             50.25535202026367
            ],
            [
             12.198919296264705,
             50.1956214904788
            ],
            [
             12.19906044006376,
             50.11182022094749
            ],
            [
             12.261237144470385,
             50.09212112426775
            ],
            [
             12.256030082702637,
             50.062278747558594
            ],
            [
             12.4891490936281,
             49.986381530761776
            ],
            [
             12.475679397582951,
             49.94009399414074
            ],
            [
             12.547736167907715,
             49.92714309692383
            ],
            [
             12.501510620117472,
             49.83884048461914
            ],
            [
             12.472599983215389,
             49.83581924438499
            ],
            [
             12.472072601318473,
             49.79027175903332
            ],
            [
             12.402890205383244,
             49.75516128540045
            ],
            [
             12.443773269653605,
             49.706947326660156
            ],
            [
             12.527859687805176,
             49.687759399414176
            ],
            [
             12.525370597839583,
             49.63235092163097
            ],
            [
             12.564818382263468,
             49.62448883056635
            ],
            [
             12.588051795959473,
             49.54399871826166
            ],
            [
             12.645830154419116,
             49.53105926513672
            ],
            [
             12.632806777954215,
             49.48001480102539
            ],
            [
             12.661074638366813,
             49.43216705322277
            ],
            [
             12.759730339050463,
             49.40029907226568
            ],
            [
             12.78410530090349,
             49.35190582275419
            ],
            [
             12.952889442444018,
             49.348270416259766
            ],
            [
             13.033589363098429,
             49.30863952636719
            ],
            [
             13.037929534912166,
             49.26773071289085
            ],
            [
             13.180460929870549,
             49.17430877685558
            ],
            [
             13.180210113525447,
             49.144439697265625
            ],
            [
             13.295909881591967,
             49.12018203735374
            ],
            [
             13.403729438781738,
             49.05178070068365
            ],
            [
             13.423837661743335,
             48.97175216674805
            ],
            [
             13.496587753295842,
             48.940162658691406
            ],
            [
             13.510198593139876,
             48.96820068359375
            ],
            [
             13.588505744934253,
             48.968601226806754
            ],
            [
             13.671330451965332,
             48.88309097290045
            ],
            [
             13.751342773437727,
             48.87451553344749
            ],
            [
             13.835860252380428,
             48.77146148681652
            ],
            [
             13.78705883026123,
             48.721511840820426
            ],
            [
             13.82571983337408,
             48.64122009277355
            ],
            [
             13.809944152832088,
             48.590904235839844
            ],
            [
             13.740022659301871,
             48.528968811035156
            ],
            [
             13.503158569335938,
             48.59651184082037
            ],
            [
             13.435749053955078,
             48.564682006836165
            ],
            [
             13.45454025268566,
             48.51630020141607
            ],
            [
             13.410618782043684,
             48.377738952636776
            ],
            [
             13.285719871520996,
             48.30517196655296
            ],
            [
             13.090594291687125,
             48.28144454956055
            ],
            [
             12.868214607238826,
             48.20366668701183
            ],
            [
             12.753028869629134,
             48.11729049682623
            ],
            [
             13.00114727020275,
             47.8522300720216
            ],
            [
             12.91126728057884,
             47.73124313354498
            ],
            [
             13.015259742736987,
             47.729679107666186
            ],
            [
             13.081555366516113,
             47.69136810302763
            ],
            [
             13.105588912964038,
             47.639202117920206
            ],
            [
             13.047879219055233,
             47.584789276123104
            ],
            [
             13.053750038147086,
             47.4948616027832
            ],
            [
             13.013463973999194,
             47.46576690673828
            ],
            [
             12.969863891601562,
             47.477085113525504
            ],
            [
             12.799818038940373,
             47.561462402343864
            ],
            [
             12.78131294250511,
             47.58154678344732
            ],
            [
             12.826677322387695,
             47.61626052856451
            ],
            [
             12.771088600158635,
             47.645050048828125
            ],
            [
             12.782772064209098,
             47.675922393798885
            ],
            [
             12.605334281921444,
             47.67924880981457
            ],
            [
             12.577346801757812,
             47.63447570800787
            ],
            [
             12.506064414978312,
             47.62885284423828
            ],
            [
             12.43596267700201,
             47.70073318481468
            ],
            [
             12.258779525756836,
             47.67621994018549
            ],
            [
             12.254279136657772,
             47.739990234375114
            ],
            [
             12.17435169219982,
             47.698875427246264
            ],
            [
             12.2092800140382,
             47.60120010375982
            ],
            [
             12.016809463500977,
             47.62178039550781
            ],
            [
             11.856868743896712,
             47.579051971435774
            ],
            [
             11.636343955993766,
             47.598270416259766
            ],
            [
             11.58102035522461,
             47.51182174682617
            ],
            [
             11.437379837036133,
             47.51325988769531
            ],
            [
             11.388031959533976,
             47.47192382812506
            ],
            [
             11.424080848694132,
             47.44562149047846
            ],
            [
             11.341606140136946,
             47.45182418823265
            ],
            [
             11.27390003204357,
             47.391010284423885
            ],
            [
             11.224139213562012,
             47.391269683837834
            ],
            [
             11.246058464050463,
             47.43478012084961
            ],
            [
             10.977520942687931,
             47.39611053466825
            ],
            [
             10.926508903503702,
             47.478080749511776
            ],
            [
             10.862998962402344,
             47.47803115844755
            ],
            [
             10.91859436035162,
             47.51609420776373
            ],
            [
             10.883132934570597,
             47.53810501098644
            ],
            [
             10.772025108337402,
             47.516143798828125
            ],
            [
             10.600060462951717,
             47.57365036010742
            ],
            [
             10.561381340027083,
             47.53593063354498
            ],
            [
             10.432245254516658,
             47.58555984497076
            ],
            [
             10.433234214783056,
             47.497653961181754
            ],
            [
             10.46283054351801,
             47.487220764160384
            ],
            [
             10.471569061279524,
             47.43306350708008
            ],
            [
             10.433580398559627,
             47.378719329833984
            ],
            [
             10.389999389648438,
             47.37543869018549
            ],
            [
             10.323238372803019,
             47.302589416504134
            ],
            [
             10.170168876648347,
             47.26990127563505
            ],
            [
             10.226869583130167,
             47.3929176330567
            ],
            [
             10.095960617065373,
             47.3548698425293
            ],
            [
             10.068832397461165,
             47.411659240722884
            ],
            [
             10.094819068908748,
             47.418479919433594
            ],
            [
             10.090755462646598,
             47.45659255981468
            ],
            [
             9.997338294982967,
             47.48622512817394
            ],
            [
             9.971186637878588,
             47.55048370361345
            ],
            [
             9.87366962432867,
             47.53071975708008
            ],
            [
             9.813129425048828,
             47.55074691772461
            ],
            [
             9.801539421081998,
             47.59716033935541
            ],
            [
             9.735632896423397,
             47.541358947754134
            ],
            [
             9.61636924743658,
             47.574558258056584
            ],
            [
             9.65905857086176,
             47.61347198486351
            ],
            [
             9.757570266723633,
             47.61133193969738
            ],
            [
             9.84401988983194,
             47.67903137207031
            ],
            [
             9.964490890502987,
             47.65380859374994
            ],
            [
             10.024051666259766,
             47.691162109375114
            ],
            [
             10.073051452636776,
             47.63850021362305
            ],
            [
             10.084130287170467,
             47.67631912231468
            ],
            [
             10.128538131714322,
             47.67704010009777
            ],
            [
             10.117288589477539,
             47.76311111450218
            ],
            [
             10.067669868469693,
             47.788909912109375
            ],
            [
             10.13369846344034,
             47.819438934326286
            ],
            [
             10.078228950500659,
             47.87129211425781
            ],
            [
             10.105770111084041,
             47.88275909423828
            ],
            [
             10.110899925232104,
             47.9388694763183
            ],
            [
             10.083058357238997,
             47.96100997924805
            ],
            [
             10.137919425964355,
             48.02132034301758
            ],
            [
             10.142750740051497,
             48.10358047485374
            ],
            [
             10.086348533630598,
             48.18515014648449
            ],
            [
             10.0683403015139,
             48.285560607910156
            ],
            [
             9.971670150756836,
             48.38422012329113
            ],
            [
             10.043800354003906,
             48.433830261230696
            ],
            [
             10.037790298462141,
             48.463359832763786
            ],
            [
             10.178018569946346,
             48.4662704467774
            ],
            [
             10.244940757751579,
             48.50088882446295
            ],
            [
             10.23357009887701,
             48.519458770751896
            ],
            [
             10.318519592285213,
             48.529701232910156
            ],
            [
             10.301910400390852,
             48.61114883422863
            ],
            [
             10.33017826080328,
             48.61455917358421
            ],
            [
             10.262008666992188,
             48.6699485778808
            ],
            [
             10.279189109802473,
             48.71039962768555
            ],
            [
             10.347478866577205,
             48.69562149047874
            ],
            [
             10.358600616455078,
             48.65859222412121
            ],
            [
             10.415119171142635,
             48.70236206054693
            ],
            [
             10.448868751525993,
             48.69832992553722
            ],
            [
             10.420589447021484,
             48.66535186767584
            ],
            [
             10.505069732666186,
             48.6903915405274
            ],
            [
             10.421119689941634,
             48.77619171142601
            ],
            [
             10.460650444030762,
             48.81275939941406
            ],
            [
             10.438398361206055,
             48.8498992919923
            ],
            [
             10.466718673706339,
             48.89397048950218
            ],
            [
             10.43877029418951,
             48.90898895263683
            ],
            [
             10.46698093414335,
             48.9382896423341
            ],
            [
             10.363980293273926,
             49.029991149902344
            ],
            [
             10.260379791259766,
             49.03989028930687
            ],
            [
             10.259538650512866,
             49.091209411621094
            ],
            [
             10.213559150695858,
             49.09807205200218
            ],
            [
             10.264269828796671,
             49.14262008666992
            ],
            [
             10.131599426269588,
             49.19997024536144
            ],
            [
             10.141930580139217,
             49.251510620117415
            ],
            [
             10.119018554687557,
             49.25495147705101
            ],
            [
             10.162669181823901,
             49.27928924560547
            ],
            [
             10.151530265808162,
             49.325119018554744
            ],
            [
             10.111349105835018,
             49.33576202392595
            ],
            [
             10.133849143982161,
             49.34701156616222
            ],
            [
             10.115939140319995,
             49.376281738281364
            ],
            [
             10.17243862152128,
             49.39152908325195
            ],
            [
             10.102548599243107,
             49.442440032958984
            ],
            [
             10.129039764404354,
             49.50531005859375
            ],
            [
             10.089150428772086,
             49.504989624023665
            ],
            [
             10.070828437805176,
             49.54175186157238
            ],
            [
             10.021670341491813,
             49.47856903076166
            ],
            [
             9.959210395813159,
             49.474281311035384
            ],
            [
             9.924578666687296,
             49.48871994018566
            ],
            [
             9.921249389648722,
             49.58118057250982
            ],
            [
             9.865819931030273,
             49.53993988037121
            ],
            [
             9.825579643249796,
             49.550659179687614
            ],
            [
             9.880399703979776,
             49.606769561767635
            ],
            [
             9.807269096374796,
             49.725078582763956
            ],
            [
             9.740410804748763,
             49.683631896972656
            ],
            [
             9.715788841247615,
             49.724449157714844
            ],
            [
             9.66048812866228,
             49.68310928344738
            ],
            [
             9.631500244140682,
             49.69784164428711
            ],
            [
             9.655658721924112,
             49.78755950927729
            ],
            [
             9.57227897644043,
             49.77935028076183
            ],
            [
             9.573779106140194,
             49.74209976196289
            ],
            [
             9.5102796554566,
             49.78639984130888
            ],
            [
             9.380258560180835,
             49.77864074707031
            ],
            [
             9.307028770446834,
             49.7379608154298
            ],
            [
             9.387288093566951,
             49.726791381835994
            ],
            [
             9.353199005126896,
             49.71940994262695
            ],
            [
             9.37654018402094,
             49.70087051391596
            ],
            [
             9.410099983215332,
             49.726779937744254
            ],
            [
             9.433828353882063,
             49.69342041015631
            ],
            [
             9.418059349060115,
             49.64522933959978
            ],
            [
             9.314629554748706,
             49.65655899047857
            ],
            [
             9.235880851745549,
             49.57915115356457
            ],
            [
             9.126408576965446,
             49.57569122314453
            ],
            [
             9.073870658874569,
             49.60485076904297
            ],
            [
             9.113509178161564,
             49.6455917358399
            ],
            [
             9.095290184021223,
             49.69327926635742
            ],
            [
             9.163489341735783,
             49.74538040161133
            ],
            [
             9.11713981628435,
             49.75975036621094
            ],
            [
             9.145290374755803,
             49.79685974121105
            ],
            [
             9.10502910614008,
             49.79275131225597
            ],
            [
             9.104130744934025,
             49.84429931640631
            ],
            [
             9.046279907226562,
             49.847160339355526
            ],
            [
             9.031888961792163,
             49.99053955078125
            ],
            [
             9.066729545593262,
             49.99483871459961
            ],
            [
             9.048080444336222,
             50.04241180419922
            ],
            [
             8.995120048523233,
             50.05247116088873
            ],
            [
             9.033840179443416,
             50.11211013793945
            ],
            [
             9.138387680053768,
             50.12517166137718
            ],
            [
             9.173168182373217,
             50.118499755859375
            ],
            [
             9.169540405273494,
             50.08877182006847
            ],
            [
             9.237930297851733,
             50.14928054809582
            ],
            [
             9.377340316772461,
             50.132209777832145
            ],
            [
             9.419237136841048,
             50.08029174804699
            ],
            [
             9.519418716430948,
             50.09251022338867
            ],
            [
             9.532540321350154,
             50.16738891601568
            ],
            [
             9.503918647766284,
             50.174598693847656
            ],
            [
             9.500089645385856,
             50.24187850952154
            ],
            [
             9.660399436950684,
             50.23199081420921
            ],
            [
             9.636690139770565,
             50.246768951416016
            ],
            [
             9.652839660644759,
             50.26930999755871
            ],
            [
             9.744089126586971,
             50.31105041503929
            ],
            [
             9.746289253235147,
             50.4164199829101
            ],
            [
             9.882708549499512,
             50.39855194091797
            ],
            [
             9.958759307861442,
             50.42156219482416
            ],
            [
             10.074960708618164,
             50.54230117797874
            ],
            [
             10.133859634399585,
             50.54999923706066
            ]
           ]
          ],
          "type": "Polygon"
         },
         "id": 1,
         "properties": {
          "id": "DE-BY",
          "name": "Bayern",
          "type": "State"
         },
         "type": "Feature"
        },
        {
         "geometry": {
          "coordinates": [
           [
            [
             13.161809921264762,
             52.59442138671869
            ],
            [
             13.216209411621207,
             52.58251953125006
            ],
            [
             13.230238914489803,
             52.62681198120117
            ],
            [
             13.272738456726188,
             52.62248992919922
            ],
            [
             13.28633975982666,
             52.655658721923885
            ],
            [
             13.370199203491268,
             52.62105941772461
            ],
            [
             13.474988937378043,
             52.649169921875
            ],
            [
             13.45722961425787,
             52.66054916381836
            ],
            [
             13.482250213623047,
             52.67502212524414
            ],
            [
             13.529389381408748,
             52.640949249267635
            ],
            [
             13.514860153198356,
             52.5892715454101
            ],
            [
             13.663810729980526,
             52.5277099609375
            ],
            [
             13.618619918823356,
             52.4690895080567
            ],
            [
             13.768408775329533,
             52.437110900878906
            ],
            [
             13.660959243774414,
             52.33872222900396
            ],
            [
             13.65060997009283,
             52.37594223022461
            ],
            [
             13.48781967163086,
             52.39324188232422
            ],
            [
             13.476848602295036,
             52.419349670410156
            ],
            [
             13.427828788757438,
             52.40896224975586
            ],
            [
             13.432428359985352,
             52.375541687011776
            ],
            [
             13.252047538757324,
             52.41891098022461
            ],
            [
             13.141288757324162,
             52.38713073730469
            ],
            [
             13.093818664550781,
             52.417438507080135
            ],
            [
             13.176479339599553,
             52.505241394043026
            ],
            [
             13.122269630432129,
             52.52083206176769
            ],
            [
             13.161809921264762,
             52.59442138671869
            ]
           ]
          ],
          "type": "Polygon"
         },
         "id": 2,
         "properties": {
          "id": "DE-BE",
          "name": "Berlin",
          "type": "State"
         },
         "type": "Feature"
        },
        {
         "geometry": {
          "coordinates": [
           [
            [
             13.87950801849371,
             53.50106811523443
            ],
            [
             13.917368888855037,
             53.4205398559572
            ],
            [
             14.24040889739996,
             53.42845153808605
            ],
            [
             14.235617637634334,
             53.36948013305664
            ],
            [
             14.100090026855582,
             53.261421203613224
            ],
            [
             14.258330345153865,
             53.25825119018583
            ],
            [
             14.319879531860295,
             53.31262207031256
            ],
            [
             14.420248985290584,
             53.32563018798834
            ],
            [
             14.448929786682186,
             53.26163864135748
            ],
            [
             14.367140769958667,
             53.18033218383795
            ],
            [
             14.388121604919604,
             53.13629150390619
            ],
            [
             14.366089820861816,
             53.07647705078131
            ],
            [
             14.142452239990462,
             52.961112976074446
            ],
            [
             14.155890464782772,
             52.87955856323248
            ],
            [
             14.12127017974882,
             52.84027099609369
            ],
            [
             14.341383934021167,
             52.75926971435547
            ],
            [
             14.466204643249455,
             52.65725708007818
            ],
            [
             14.639061927795467,
             52.58003234863304
            ],
            [
             14.600604057312069,
             52.53302383422857
            ],
            [
             14.631249427795467,
             52.499130249023494
            ],
            [
             14.528908729553166,
             52.39641189575201
            ],
            [
             14.584350585937784,
             52.31105804443365
            ],
            [
             14.570899963378906,
             52.2895622253418
            ],
            [
             14.699570655823038,
             52.24108886718773
            ],
            [
             14.669348716735897,
             52.12155151367199
            ],
            [
             14.741278648376522,
             52.07339096069347
            ],
            [
             14.680540084838867,
             51.905200958251896
            ],
            [
             14.58503341674816,
             51.837066650390625
            ],
            [
             14.738728523254451,
             51.66687011718744
            ],
            [
             14.739829063415698,
             51.60350036621105
            ],
            [
             14.685029983520735,
             51.5994300842288
            ],
            [
             14.665378570556811,
             51.55078887939459
            ],
            [
             14.570050239562988,
             51.57242202758789
            ],
            [
             14.341999053955135,
             51.500820159912394
            ],
            [
             14.15363979339628,
             51.54505157470703
            ],
            [
             14.091679573059253,
             51.49647903442383
            ],
            [
             14.107279777526855,
             51.48025131225586
            ],
            [
             14.049810409545955,
             51.48036193847656
            ],
            [
             14.080458641052417,
             51.44773864746094
            ],
            [
             14.015210151672363,
             51.37430191040062
            ],
            [
             13.97159862518322,
             51.39891052246094
            ],
            [
             13.779280662536564,
             51.36178207397472
            ],
            [
             13.56014919281023,
             51.369880676269815
            ],
            [
             13.42150878906267,
             51.45396041870117
            ],
            [
             13.39611911773693,
             51.42473983764643
            ],
            [
             13.337078094482365,
             51.44050979614269
            ],
            [
             13.286639213562069,
             51.38579177856457
            ],
            [
             13.233359336853141,
             51.39775848388672
            ],
            [
             13.222880363464583,
             51.431190490722656
            ],
            [
             13.19277858734148,
             51.427951812744254
            ],
            [
             13.22608852386503,
             51.505062103271484
            ],
            [
             13.204320907593058,
             51.55712890625006
            ],
            [
             13.063730239868335,
             51.64789962768549
            ],
            [
             13.198930740356388,
             51.71620941162115
            ],
            [
             13.137908935546875,
             51.84654998779291
            ],
            [
             13.163080215454045,
             51.87210083007807
            ],
            [
             13.048269271850643,
             51.870010375976506
            ],
            [
             13.055450439453068,
             51.89950942993164
            ],
            [
             12.982969284057617,
             51.900531768799055
            ],
            [
             12.972139358520621,
             51.93397140502941
            ],
            [
             12.863180160522631,
             51.931758880615405
            ],
            [
             12.858329772949446,
             51.96512985229492
            ],
            [
             12.797579765319881,
             51.95854187011719
            ],
            [
             12.68417930603033,
             52.00812149047857
            ],
            [
             12.549958229064998,
             51.980232238769815
            ],
            [
             12.478808403015137,
             52.03289031982416
            ],
            [
             12.435828208923567,
             52.01491165161133
            ],
            [
             12.221308708190918,
             52.16529846191406
            ],
            [
             12.301870346069336,
             52.21995162963867
            ],
            [
             12.25396919250494,
             52.25008010864258
            ],
            [
             12.317408561706713,
             52.341960906982706
            ],
            [
             12.29343032836914,
             52.357040405273494
            ],
            [
             12.312949180603027,
             52.401279449463175
            ],
            [
             12.28273010253912,
             52.41271972656256
            ],
            [
             12.33942985534668,
             52.47510147094738
            ],
            [
             12.242839813232365,
             52.5206108093264
            ],
            [
             12.205368995666447,
             52.49135208129883
            ],
            [
             12.175079345703125,
             52.50278091430664
            ],
            [
             12.194099426269474,
             52.52854156494146
            ],
            [
             12.151088714599553,
             52.521560668945256
            ],
            [
             12.189039230346964,
             52.56937026977539
            ],
            [
             12.178129196167049,
             52.62139892578131
            ],
            [
             12.245609283447322,
             52.62440872192394
            ],
            [
             12.24106884002697,
             52.68381118774414
            ],
            [
             12.204960823059082,
             52.710159301757926
            ],
            [
             12.218799591064396,
             52.769401550293026
            ],
            [
             12.26237869262718,
             52.79122161865246
            ],
            [
             12.239520072937296,
             52.854591369628906
            ],
            [
             11.846659660339299,
             52.90298080444353
            ],
            [
             11.82853889465349,
             52.921730041503906
            ],
            [
             11.853730201721191,
             52.94752883911144
            ],
            [
             11.693689346313647,
             52.97496032714844
            ],
            [
             11.688010215759562,
             53.00477981567377
            ],
            [
             11.63239002227806,
             53.00897216796881
            ],
            [
             11.639038085937614,
             53.03868865966814
            ],
            [
             11.521370887756461,
             53.04336929321289
            ],
            [
             11.459699630737418,
             53.07736206054682
            ],
            [
             11.34766864776617,
             53.05216217041044
            ],
            [
             11.273380279541016,
             53.101150512695426
            ],
            [
             11.397848129272518,
             53.10763168334961
            ],
            [
             11.39811038970953,
             53.13743209838873
            ],
            [
             11.540950775146655,
             53.12139129638683
            ],
            [
             11.578739166259766,
             53.16205215454124
            ],
            [
             11.566919326782283,
             53.21057128906256
            ],
            [
             11.635769844055346,
             53.239810943603516
            ],
            [
             11.834399223327921,
             53.223121643066406
            ],
            [
             11.803829193115234,
             53.24948883056646
            ],
            [
             12.028409957885799,
             53.29949951171881
            ],
            [
             12.05480003356945,
             53.366352081298885
            ],
            [
             12.171999931335733,
             53.33528137207048
            ],
            [
             12.2345104217531,
             53.35324859619146
            ],
            [
             12.2645902633667,
             53.31935882568371
            ],
            [
             12.400289535522461,
             53.299160003662166
            ],
            [
             12.448179244995117,
             53.246440887451115
            ],
            [
             12.6708602905274,
             53.25107192993181
            ],
            [
             12.676119804382608,
             53.22494888305664
            ],
            [
             12.762390136718977,
             53.22008132934582
            ],
            [
             12.742948532104776,
             53.194301605224666
            ],
            [
             12.767208099365234,
             53.182811737060604
            ],
            [
             12.977380752563704,
             53.19474029541021
            ],
            [
             12.945539474487248,
             53.169181823730526
            ],
            [
             12.982050895691202,
             53.157501220703125
            ],
            [
             13.121039390563908,
             53.237201690674055
            ],
            [
             13.1831893920899,
             53.24739074707037
            ],
            [
             13.23102092742937,
             53.21321105957048
            ],
            [
             13.301878929138354,
             53.275329589843864
            ],
            [
             13.405271530151367,
             53.243896484375
            ],
            [
             13.438720703125227,
             53.29528808593773
            ],
            [
             13.526306152343807,
             53.316101074218864
            ],
            [
             13.54931640625,
             53.39727783203125
            ],
            [
             13.624085426330737,
             53.407287597656364
            ],
            [
             13.709418296814249,
             53.47985076904297
            ],
            [
             13.829074859619368,
             53.49626159667986
            ],
            [
             13.78027439117426,
             53.5120849609375
            ],
            [
             13.789619445800952,
             53.556289672851506
            ],
            [
             13.818076133728255,
             53.51507186889654
            ],
            [
             13.87950801849371,
             53.50106811523443
            ]
           ],
           [
            [
             13.482250213623217,
             52.67502212524414
            ],
            [
             13.45722961425804,
             52.66054916381836
            ],
            [
             13.474988937378214,
             52.649169921875
            ],
            [
             13.370199203491438,
             52.62105941772461
            ],
            [
             13.28633975982666,
             52.655658721924055
            ],
            [
             13.272738456726358,
             52.62248992919922
            ],
            [
             13.230238914489973,
             52.62681198120117
            ],
            [
             13.216209411621378,
             52.58251953125006
            ],
            [
             13.13699054718029,
             52.58364868164085
            ],
            [
             13.160609245300407,
             52.5647811889649
            ],
            [
             13.1222696304323,
             52.52083206176769
            ],
            [
             13.176479339599553,
             52.505241394043026
            ],
            [
             13.099459648132324,
             52.40625
            ],
            [
             13.141288757324162,
             52.38713073730469
            ],
            [
             13.30657005310087,
             52.41442108154297
            ],
            [
             13.432428359985522,
             52.375541687011776
            ],
            [
             13.427828788757438,
             52.40896224975586
            ],
            [
             13.476848602295206,
             52.419349670410156
            ],
            [
             13.48781967163086,
             52.39324188232439
            ],
            [
             13.65060997009283,
             52.37594223022461
            ],
            [
             13.660959243774414,
             52.33872222900396
            ],
            [
             13.74246978759777,
             52.40044021606468
            ],
            [
             13.762909889221135,
             52.448318481445256
            ],
            [
             13.618619918823356,
             52.4690895080567
            ],
            [
             13.663810729980526,
             52.52770996093767
            ],
            [
             13.514860153198356,
             52.5892715454101
            ],
            [
             13.529389381408748,
             52.640949249267635
            ],
            [
             13.482250213623217,
             52.67502212524414
            ]
           ]
          ],
          "type": "Polygon"
         },
         "id": 3,
         "properties": {
          "id": "DE-BB",
          "name": "Brandenburg",
          "type": "State"
         },
         "type": "Feature"
        },
        {
         "geometry": {
          "coordinates": [
           [
            [
             8.98544883728033,
             53.128219604492244
            ],
            [
             8.948739051818961,
             53.12380218505865
            ],
            [
             8.992988586425724,
             53.09848022460949
            ],
            [
             8.962628364562988,
             53.090450286865234
            ],
            [
             8.982990264892521,
             53.0497398376466
            ],
            [
             8.935469627380428,
             53.015239715576286
            ],
            [
             8.866428375244254,
             53.043762207031364
            ],
            [
             8.818189620971793,
             53.024120330810604
            ],
            [
             8.773430824279899,
             53.05675888061529
            ],
            [
             8.731298446655273,
             53.03720855712896
            ],
            [
             8.625838279724121,
             53.165290832519474
            ],
            [
             8.486890792846793,
             53.22864151000982
            ],
            [
             8.598338127136287,
             53.21680068969732
            ],
            [
             8.593818664550781,
             53.186859130859375
            ],
            [
             8.829590797424316,
             53.166198730468864
            ],
            [
             8.861869812011776,
             53.1370086669923
            ],
            [
             8.947138786315918,
             53.15737915039068
            ],
            [
             8.98544883728033,
             53.128219604492244
            ]
           ]
          ],
          "type": "Polygon"
         },
         "id": 4,
         "properties": {
          "id": "DE-HB",
          "name": "Bremen",
          "type": "State"
         },
         "type": "Feature"
        },
        {
         "geometry": {
          "coordinates": [
           [
            [
             10.071617126464844,
             53.71823120117182
            ],
            [
             10.198549270629883,
             53.74079132080078
            ],
            [
             10.143050193786735,
             53.688961029052734
            ],
            [
             10.228058815002441,
             53.63389205932617
            ],
            [
             10.154500007629338,
             53.55617904663097
            ],
            [
             10.331219673156795,
             53.44622039794933
            ],
            [
             10.248090744018612,
             53.4047203063966
            ],
            [
             10.177260398864746,
             53.40795135498047
            ],
            [
             10.053689002990666,
             53.47415924072271
            ],
            [
             9.996049880981502,
             53.429100036621094
            ],
            [
             9.905927658081112,
             53.424720764160156
            ],
            [
             9.918270111084041,
             53.4584197998048
            ],
            [
             9.860950469970703,
             53.43928909301758
            ],
            [
             9.76345062255865,
             53.51694107055664
            ],
            [
             9.768639564514217,
             53.565540313720646
            ],
            [
             9.7236585617066,
             53.56900024414068
            ],
            [
             9.760189056396598,
             53.639122009277344
            ],
            [
             9.825568199157715,
             53.595352172851676
            ],
            [
             9.906899452209473,
             53.662181854248104
            ],
            [
             10.07267856597906,
             53.68870925903332
            ],
            [
             10.071617126464844,
             53.71823120117182
            ]
           ]
          ],
          "type": "Polygon"
         },
         "id": 5,
         "properties": {
          "id": "DE-HH",
          "name": "Hamburg",
          "type": "State"
         },
         "type": "Feature"
        },
        {
         "geometry": {
          "coordinates": [
           [
            [
             9.498769760131779,
             51.63151931762695
            ],
            [
             9.62797927856451,
             51.637340545654354
            ],
            [
             9.689008712768555,
             51.58312225341825
            ],
            [
             9.590420722961483,
             51.52280044555664
            ],
            [
             9.644719123840332,
             51.472278594970874
            ],
            [
             9.64620971679716,
             51.42076873779308
            ],
            [
             9.571659088134766,
             51.3931617736817
            ],
            [
             9.561838150024585,
             51.34835052490229
            ],
            [
             9.731150627136287,
             51.30081939697277
            ],
            [
             9.77073860168457,
             51.34252929687523
            ],
            [
             9.7361488342288,
             51.323299407958984
            ],
            [
             9.705880165100325,
             51.37052154541033
            ],
            [
             9.819369316101074,
             51.4156112670899
            ],
            [
             9.869279861450138,
             51.375450134277344
            ],
            [
             9.85617923736595,
             51.41577911376976
            ],
            [
             9.9112300872805,
             51.41975021362316
            ],
            [
             9.97350883483881,
             51.28619003295904
            ],
            [
             10.05734062194847,
             51.278251647949446
            ],
            [
             10.075889587402571,
             51.226181030273665
            ],
            [
             10.236989021301497,
             51.188148498535156
            ],
            [
             10.214177131652946,
             51.11780929565441
            ],
            [
             10.172169685363826,
             51.151420593261946
            ],
            [
             10.12471866607666,
             51.14057159423834
            ],
            [
             10.178549766540641,
             51.11801147460943
            ],
            [
             10.149688720703352,
             51.055130004882926
            ],
            [
             10.221340179443416,
             51.02507019042969
            ],
            [
             10.156480789184855,
             50.99575042724615
            ],
            [
             10.04291820526123,
             51.01494216918968
            ],
            [
             10.019538879394474,
             50.9816589355471
            ],
            [
             10.06787014007574,
             50.948028564453125
            ],
            [
             9.94838905334501,
             50.9484214782716
            ],
            [
             9.948748588562069,
             50.92615890502924
            ],
            [
             9.99036979675293,
             50.937240600585994
            ],
            [
             9.97887897491455,
             50.90760040283203
            ],
            [
             10.014529228210677,
             50.92232131958036
            ],
            [
             10.062939643859806,
             50.88500213623058
            ],
            [
             10.021409988403377,
             50.86668014526367
            ],
            [
             10.021959304809798,
             50.833309173583984
            ],
            [
             9.950229644775561,
             50.82239913940424
            ],
            [
             9.956660270690861,
             50.781711578369254
            ],
            [
             9.920918464660645,
             50.76319885253906
            ],
            [
             9.938960075378418,
             50.73741912841791
            ],
            [
             9.873108863830566,
             50.64184188842779
            ],
            [
             9.946098327636662,
             50.630100250244254
            ],
            [
             9.951470375060978,
             50.670921325683594
            ],
            [
             10.048980712890852,
             50.67726135253929
            ],
            [
             10.086059570312784,
             50.6323814392091
            ],
            [
             10.038170814514217,
             50.613960266113395
            ],
            [
             10.063029289245662,
             50.557312011718864
            ],
            [
             10.040019035339299,
             50.49333190917986
            ],
            [
             9.964568138122502,
             50.425350189208984
            ],
            [
             9.847309112548885,
             50.3982887268067
            ],
            [
             9.757839202881087,
             50.42409133911144
            ],
            [
             9.738649368286303,
             50.299800872802734
            ],
            [
             9.652839660644759,
             50.26930999755871
            ],
            [
             9.636690139770565,
             50.246768951416016
            ],
            [
             9.660399436950684,
             50.23199081420921
            ],
            [
             9.500089645385856,
             50.24187850952154
            ],
            [
             9.503918647766284,
             50.174598693847656
            ],
            [
             9.532540321350154,
             50.16738891601568
            ],
            [
             9.519418716430948,
             50.09251022338867
            ],
            [
             9.419237136841048,
             50.08029174804699
            ],
            [
             9.377340316772461,
             50.132209777832145
            ],
            [
             9.237930297851733,
             50.14928054809582
            ],
            [
             9.169540405273494,
             50.08877182006847
            ],
            [
             9.173168182373217,
             50.118499755859375
            ],
            [
             9.138387680053768,
             50.12517166137718
            ],
            [
             9.01706981658947,
             50.09336853027344
            ],
            [
             8.995349884033317,
             50.0451011657716
            ],
            [
             9.048080444336222,
             50.04241180419922
            ],
            [
             9.066729545593262,
             49.99483871459961
            ],
            [
             9.031888961792163,
             49.99053955078125
            ],
            [
             9.046279907226562,
             49.847160339355526
            ],
            [
             9.104130744934025,
             49.84429931640631
            ],
            [
             9.10502910614008,
             49.79275131225597
            ],
            [
             9.145290374755803,
             49.79685974121105
            ],
            [
             9.11713981628435,
             49.75975036621094
            ],
            [
             9.163489341735783,
             49.74538040161133
            ],
            [
             9.095290184021223,
             49.69327926635742
            ],
            [
             9.113509178161564,
             49.6455917358399
            ],
            [
             9.073519706726358,
             49.62322998046881
            ],
            [
             9.10894870758085,
             49.583000183105696
            ],
            [
             9.092338562011832,
             49.54613876342785
            ],
            [
             9.133290290832633,
             49.52040100097656
            ],
            [
             8.954179763793945,
             49.51205062866205
            ],
            [
             8.955150604248388,
             49.46086883544922
            ],
            [
             8.817639350891056,
             49.404090881347884
            ],
            [
             8.82772922515909,
             49.47713088989269
            ],
            [
             8.879650115966797,
             49.4744987487793
            ],
            [
             8.90207862854021,
             49.5113410949707
            ],
            [
             8.729120254516602,
             49.522029876708984
            ],
            [
             8.68175888061569,
             49.57913970947283
            ],
            [
             8.69777870178217,
             49.62720108032255
            ],
            [
             8.600359916687353,
             49.613231658935774
            ],
            [
             8.625108718872013,
             49.55171203613287
            ],
            [
             8.557209014893033,
             49.52381134033203
            ],
            [
             8.39341926574707,
             49.617549896240234
            ],
            [
             8.36192989349371,
             49.690170288086165
            ],
            [
             8.486090660095442,
             49.76776885986328
            ],
            [
             8.428420066833667,
             49.765998840332145
            ],
            [
             8.386138916015625,
             49.820030212402344
            ],
            [
             8.396700859069824,
             49.84989166259777
            ],
            [
             8.34934043884283,
             49.881698608398665
            ],
            [
             8.346780776977823,
             49.95928955078125
            ],
            [
             8.275419235229663,
             50.0164604187014
            ],
            [
             8.187968254089299,
             50.03245925903326
            ],
            [
             7.887711048126278,
             49.97066879272484
            ],
            [
             7.78512001037592,
             50.05311203002941
            ],
            [
             7.869957923889274,
             50.12857055664074
            ],
            [
             7.941120147705135,
             50.102508544921875
            ],
            [
             7.945549964904785,
             50.14015197753929
            ],
            [
             7.897570133209172,
             50.16987991333019
            ],
            [
             7.919559001922778,
             50.20370864868164
            ],
            [
             8.006259918213061,
             50.234550476074446
            ],
            [
             8.047920227050952,
             50.21253967285156
            ],
            [
             8.076358795166072,
             50.23173141479492
            ],
            [
             8.051680564880485,
             50.268829345703125
            ],
            [
             8.138910293579215,
             50.2740592956543
            ],
            [
             8.082799911499023,
             50.37416076660162
            ],
            [
             7.984179973602238,
             50.41360092163097
            ],
            [
             8.030008316040153,
             50.44818115234398
            ],
            [
             7.996560096740779,
             50.4847412109375
            ],
            [
             8.01100921630865,
             50.52611923217779
            ],
            [
             8.056481361389274,
             50.55717849731468
            ],
            [
             8.16199970245367,
             50.551280975342024
            ],
            [
             8.173588752746582,
             50.60026168823248
            ],
            [
             8.118748664856241,
             50.67570877075207
            ],
            [
             8.179908752441577,
             50.735759735107536
            ],
            [
             8.131909370422647,
             50.791851043701286
            ],
            [
             8.275670051574764,
             50.881240844726506
            ],
            [
             8.380510330200252,
             50.85895156860357
            ],
            [
             8.471490859985408,
             50.91152191162121
            ],
            [
             8.467968940735147,
             50.96326065063499
            ],
            [
             8.554678916931323,
             51.01322937011713
            ],
            [
             8.51747035980219,
             51.03866195678722
            ],
            [
             8.5381507873538,
             51.09511947631847
            ],
            [
             8.734568595886515,
             51.10649108886713
            ],
            [
             8.70979022979742,
             51.13212966918974
            ],
            [
             8.784381866455362,
             51.20458221435564
            ],
            [
             8.752208709716967,
             51.25997924804699
            ],
            [
             8.601678848266772,
             51.2458114624024
            ],
            [
             8.574358940124796,
             51.28638076782232
            ],
            [
             8.703760147094727,
             51.374889373779354
            ],
            [
             8.957579612732161,
             51.38727188110374
            ],
            [
             8.968549728393725,
             51.42853927612316
            ],
            [
             8.938670158386515,
             51.42792892456066
            ],
            [
             8.912460327148722,
             51.47972106933605
            ],
            [
             8.990538597106934,
             51.50728988647472
            ],
            [
             9.10620021820074,
             51.498218536377124
            ],
            [
             9.113858222961369,
             51.4426002502442
            ],
            [
             9.228690147400016,
             51.459732055664006
            ],
            [
             9.378959655761776,
             51.59236145019531
            ],
            [
             9.343469619750977,
             51.613761901855696
            ],
            [
             9.486080169677791,
             51.65705108642601
            ],
            [
             9.498769760131779,
             51.63151931762695
            ]
           ]
          ],
          "type": "Polygon"
         },
         "id": 6,
         "properties": {
          "id": "DE-HE",
          "name": "Hessen",
          "type": "State"
         },
         "type": "Feature"
        },
        {
         "geometry": {
          "coordinates": [
           [
            [
             [
              12.519721031188965,
              54.484306335449446
             ],
             [
              12.655277252197664,
              54.442638397217024
             ],
             [
              12.962499618530387,
              54.437637329101676
             ],
             [
              12.802499771118221,
              54.408195495605696
             ],
             [
              12.636943817138672,
              54.424861907958984
             ],
             [
              12.576943397522314,
              54.40347290039068
             ],
             [
              12.59305667877203,
              54.38347244262695
             ],
             [
              12.435832977295036,
              54.37874984741234
             ],
             [
              12.360277175903263,
              54.30625152587902
             ],
             [
              12.38305473327648,
              54.27930450439459
             ],
             [
              12.363612174987793,
              54.26597213745117
             ],
             [
              12.460276603698901,
              54.24847412109369
             ],
             [
              12.409167289733887,
              54.27986145019554
             ],
             [
              12.535278320312955,
              54.33874893188488
             ],
             [
              12.553055763244743,
              54.37958145141613
             ],
             [
              12.59194469451927,
              54.357360839843864
             ],
             [
              12.669721603393668,
              54.39069366455084
             ],
             [
              12.657499313354776,
              54.408195495605696
             ],
             [
              12.715277671814022,
              54.404304504394474
             ],
             [
              12.704795850456309,
              54.39468392669172
             ],
             [
              12.734723091125772,
              54.37069320678711
             ],
             [
              12.786945343018033,
              54.3962516784668
             ],
             [
              12.810278892517147,
              54.3451385498048
             ],
             [
              13.019721984863338,
              54.43902587890642
             ],
             [
              13.025279045105378,
              54.39652633667038
             ],
             [
              13.093609809875886,
              54.366806030273665
             ],
             [
              13.07583236694336,
              54.34541702270519
             ],
             [
              13.105833053588867,
              54.281806945800895
             ],
             [
              13.286388397216797,
              54.235137939453466
             ],
             [
              13.346388816833894,
              54.18041610717802
             ],
             [
              13.318054199219205,
              54.15986251831066
             ],
             [
              13.415834426880053,
              54.1751403808596
             ],
             [
              13.382498741150357,
              54.14236068725586
             ],
             [
              13.41139030456543,
              54.15652847290062
             ],
             [
              13.456945419311523,
              54.090694427490234
             ],
             [
              13.500834465026912,
              54.085140228271484
             ],
             [
              13.489167213440396,
              54.123748779297216
             ],
             [
              13.696389198303223,
              54.17180633544939
             ],
             [
              13.806944847107275,
              54.10319519042969
             ],
             [
              13.74416637420694,
              54.029304504394645
             ],
             [
              13.914167404174805,
              53.92235946655319
             ],
             [
              13.824722290039233,
              53.86624908447283
             ],
             [
              13.937500953674316,
              53.90847396850597
             ],
             [
              13.90583419799816,
              53.98986053466797
             ],
             [
              13.965278625488622,
              53.9901390075687
             ],
             [
              13.959721565246582,
              53.93402862548851
             ],
             [
              13.983612060546875,
              53.962638854980696
             ],
             [
              14.042499542236726,
              53.942081451416016
             ],
             [
              14.046944618225439,
              53.99652862548862
             ],
             [
              13.974166870117244,
              54.06375122070335
             ],
             [
              13.910832405090275,
              54.064304351806754
             ],
             [
              13.924167633056584,
              54.035415649414006
             ],
             [
              13.862501144409407,
              53.99930572509771
             ],
             [
              13.87916564941412,
              54.04013824462936
             ],
             [
              13.858055114746207,
              54.04847335815441
             ],
             [
              13.769165992737271,
              54.01902770996111
             ],
             [
              13.812499046325684,
              54.09902954101585
             ],
             [
              13.749167442321948,
              54.159027099609546
             ],
             [
              13.803610801696834,
              54.17847061157249
             ],
             [
              13.870834350586051,
              54.10152816772495
             ],
             [
              14.014165878295955,
              54.05430603027338
             ],
             [
              14.221389770507926,
              53.93013763427729
             ],
             [
              14.186329841614167,
              53.915580749512
             ],
             [
              14.2173366546632,
              53.865417480469034
             ],
             [
              14.038612365722713,
              53.873474121093864
             ],
             [
              13.89861202239996,
              53.83958435058611
             ],
             [
              13.806388854980412,
              53.85819625854492
             ],
             [
              14.038612365722713,
              53.75513839721674
             ],
             [
              14.282500267028809,
              53.739582061767635
             ],
             [
              14.215276718139592,
              53.70264053344738
             ],
             [
              14.273162841796875,
              53.69930648803711
             ],
             [
              14.289348602294979,
              53.63378143310564
             ],
             [
              14.324908256530762,
              53.61864852905296
             ],
             [
              14.302708625793514,
              53.5426101684572
             ],
             [
              14.375618934631348,
              53.45944976806658
             ],
             [
              14.415765762329158,
              53.32979583740257
             ],
             [
              14.319879531860295,
              53.31262207031256
             ],
             [
              14.258330345153865,
              53.25825119018583
             ],
             [
              14.100090026855582,
              53.261421203613224
             ],
             [
              14.235617637634334,
              53.36948013305681
             ],
             [
              14.24040889739996,
              53.42845153808622
             ],
             [
              13.917368888855037,
              53.4205398559572
             ],
             [
              13.879629135131836,
              53.50273132324219
             ],
             [
              13.818076133728425,
              53.51507186889671
             ],
             [
              13.789619445801122,
              53.556289672851506
             ],
             [
              13.78027439117426,
              53.5120849609375
             ],
             [
              13.829074859619368,
              53.49626159667986
             ],
             [
              13.709418296814249,
              53.47985076904297
             ],
             [
              13.624085426330737,
              53.407287597656364
             ],
             [
              13.54931640625,
              53.39727783203125
             ],
             [
              13.526306152343807,
              53.316101074218864
             ],
             [
              13.438720703125227,
              53.29528808593773
             ],
             [
              13.405271530151367,
              53.243896484375
             ],
             [
              13.301878929138354,
              53.275329589843864
             ],
             [
              13.23102092742937,
              53.21321105957048
             ],
             [
              13.1831893920899,
              53.24739074707037
             ],
             [
              13.121039390563908,
              53.237201690674055
             ],
             [
              12.982050895691202,
              53.157501220703125
             ],
             [
              12.945539474487248,
              53.169181823730526
             ],
             [
              12.977380752563704,
              53.19474029541021
             ],
             [
              12.767208099365234,
              53.182811737060604
             ],
             [
              12.742948532104776,
              53.194301605224666
             ],
             [
              12.762390136718977,
              53.22008132934582
             ],
             [
              12.676119804382608,
              53.22494888305664
             ],
             [
              12.6708602905274,
              53.25107192993181
             ],
             [
              12.448179244995117,
              53.246440887451115
             ],
             [
              12.400289535522461,
              53.299160003662166
             ],
             [
              12.2645902633667,
              53.31935882568371
             ],
             [
              12.2345104217531,
              53.35324859619146
             ],
             [
              12.171999931335733,
              53.33528137207048
             ],
             [
              12.05480003356945,
              53.366352081298885
             ],
             [
              12.028409957885799,
              53.29949951171881
             ],
             [
              11.953209877014274,
              53.26670074462902
             ],
             [
              11.8974990844726,
              53.27468872070335
             ],
             [
              11.872070312500057,
              53.245121002197266
             ],
             [
              11.803829193115234,
              53.24948883056646
             ],
             [
              11.834399223327921,
              53.223121643066406
             ],
             [
              11.747279167175236,
              53.21274948120117
             ],
             [
              11.635769844055346,
              53.239810943603516
             ],
             [
              11.554379463196028,
              53.20323181152355
             ],
             [
              11.578739166259766,
              53.16205215454124
             ],
             [
              11.540950775146655,
              53.12139129638683
             ],
             [
              11.39811038970953,
              53.13743209838873
             ],
             [
              11.385419845581282,
              53.10773086547863
             ],
             [
              11.186309814453125,
              53.135421752929744
             ],
             [
              11.198998451232967,
              53.18004226684582
             ],
             [
              11.068689346313477,
              53.22988891601574
             ],
             [
              10.994039535522688,
              53.334770202636946
             ],
             [
              10.919249534606934,
              53.351211547851676
             ],
             [
              10.838748931884822,
              53.30918121337896
             ],
             [
              10.708258628845158,
              53.379310607910156
             ],
             [
              10.597419738769815,
              53.373649597168026
             ],
             [
              10.639378547668628,
              53.465099334716854
             ],
             [
              10.824370384216593,
              53.51728057861334
             ],
             [
              10.823429107666016,
              53.58028030395525
             ],
             [
              10.923410415649471,
              53.58530044555687
             ],
             [
              10.946919441223201,
              53.67757034301758
             ],
             [
              10.757729530334643,
              53.75157928466808
             ],
             [
              10.744208335876522,
              53.840560913086165
             ],
             [
              10.767909049987793,
              53.88106918334961
             ],
             [
              10.87527942657465,
              53.92784118652338
             ],
             [
              10.901128768920898,
              53.90127944946289
             ],
             [
              10.963709831237907,
              53.9109992980957
             ],
             [
              10.887760162353572,
              53.92387008666998
             ],
             [
              10.894718170165959,
              53.955970764160384
             ],
             [
              11.179167747497502,
              54.01569366455101
             ],
             [
              11.258610725403287,
              53.98485946655296
             ],
             [
              11.258610725403287,
              53.93402862548851
             ],
             [
              11.335276603698844,
              53.958473205566634
             ],
             [
              11.454722404480151,
              53.90041732788097
             ],
             [
              11.483610153198242,
              53.96847152709984
             ],
             [
              11.443611145019531,
              53.96041488647461
             ],
             [
              11.444721221923885,
              53.997081756592024
             ],
             [
              11.428055763244686,
              53.96097183227539
             ],
             [
              11.388054847717399,
              53.96541595458979
             ],
             [
              11.378055572510107,
              53.997360229492415
             ],
             [
              11.492501258850325,
              54.02291488647472
             ],
             [
              11.467498779296932,
              53.974029541015625
             ],
             [
              11.490279197693212,
              53.968193054199446
             ],
             [
              11.519166946411303,
              54.032081604004134
             ],
             [
              11.572501182556323,
              54.032638549804915
             ],
             [
              11.62583255767828,
              54.08958435058588
             ],
             [
              11.603609085083121,
              54.102638244629134
             ],
             [
              11.532500267029206,
              54.04902648925781
             ],
             [
              11.525277137756348,
              54.07180404663086
             ],
             [
              11.682498931884766,
              54.15319442749018
             ],
             [
              11.853609085083065,
              54.14513778686569
             ],
             [
              12.087498664856184,
              54.18319320678711
             ],
             [
              12.091944694518986,
              54.152084350585994
             ],
             [
              12.124721527100064,
              54.150138854980696
             ],
             [
              12.142498970031852,
              54.17235946655296
             ],
             [
              12.09527778625494,
              54.18097305297857
             ],
             [
              12.339165687561433,
              54.29791641235397
             ],
             [
              12.519721031188965,
              54.484306335449446
             ]
            ]
           ],
           [
            [
             [
              13.429166793823299,
              54.68458175659174
             ],
             [
              13.37583255767828,
              54.63513946533203
             ],
             [
              13.420833587646825,
              54.577915191650845
             ],
             [
              13.679720878601131,
              54.56263732910156
             ],
             [
              13.668609619140682,
              54.52069473266647
             ],
             [
              13.569721221924283,
              54.46180725097679
             ],
             [
              13.60972213745157,
              54.404861450195426
             ],
             [
              13.673610687256257,
              54.40069580078159
             ],
             [
              13.76694393157959,
              54.34152603149437
             ],
             [
              13.71694374084484,
              54.31013870239269
             ],
             [
              13.72527885437006,
              54.27347183227562
             ],
             [
              13.646389007568416,
              54.296527862549055
             ],
             [
              13.70416736602806,
              54.326248168945426
             ],
             [
              13.610832214355923,
              54.31624984741222
             ],
             [
              13.68305587768566,
              54.34930419921881
             ],
             [
              13.61361026763916,
              54.33069610595737
             ],
             [
              13.58083438873291,
              54.35291671752964
             ],
             [
              13.454723358154581,
              54.335693359375
             ],
             [
              13.394721984863736,
              54.27125167846691
             ],
             [
              13.352499008178768,
              54.269584655762
             ],
             [
              13.41805553436285,
              54.254859924316634
             ],
             [
              13.393610000610408,
              54.22097396850586
             ],
             [
              13.290279388427791,
              54.25125122070335
             ],
             [
              13.321389198303564,
              54.24514007568382
             ],
             [
              13.335277557373104,
              54.278194427490234
             ],
             [
              13.269722938537598,
              54.25374984741211
             ],
             [
              13.199722290039062,
              54.270137786865575
             ],
             [
              13.19416522979742,
              54.296806335449446
             ],
             [
              13.139166831970158,
              54.2823600769043
             ],
             [
              13.18472290039108,
              54.30097198486328
             ],
             [
              13.114721298217717,
              54.331806182861555
             ],
             [
              13.127499580383642,
              54.37125015258789
             ],
             [
              13.261943817139013,
              54.3829154968264
             ],
             [
              13.211388587952058,
              54.42986297607416
             ],
             [
              13.149722099304313,
              54.42902755737305
             ],
             [
              13.26805686950695,
              54.47930526733444
             ],
             [
              13.227499961853368,
              54.48597335815458
             ],
             [
              13.230278015136776,
              54.51097106933594
             ],
             [
              13.158611297607422,
              54.504028320312614
             ],
             [
              13.143611907959041,
              54.54680633544922
             ],
             [
              13.255277633667106,
              54.55208206176758
             ],
             [
              13.305277824402253,
              54.51402664184582
             ],
             [
              13.29749870300293,
              54.55236053466797
             ],
             [
              13.368612289429052,
              54.57930374145502
             ],
             [
              13.338055610656681,
              54.54875183105469
             ],
             [
              13.377498626709098,
              54.55902862548828
             ],
             [
              13.413056373596646,
              54.49375152587885
             ],
             [
              13.506387710571403,
              54.480972290039006
             ],
             [
              13.501943588257177,
              54.548473358154524
             ],
             [
              13.395832061767521,
              54.57291793823265
             ],
             [
              13.37027835845987,
              54.61458206176752
             ],
             [
              13.243055343628214,
              54.55875015258789
             ],
             [
              13.28305625915533,
              54.64625167846674
             ],
             [
              13.160833358765103,
              54.55902862548828
             ],
             [
              13.249724388122615,
              54.659862518310774
             ],
             [
              13.429166793823299,
              54.68458175659174
             ]
            ]
           ],
           [
            [
             [
              13.184166908264217,
              54.49430465698265
             ],
             [
              13.226943969726904,
              54.468750000000114
             ],
             [
              13.120834350586392,
              54.442359924316634
             ],
             [
              13.184166908264217,
              54.49430465698265
             ]
            ]
           ],
           [
            [
             [
              13.13638877868658,
              54.6051406860351
             ],
             [
              13.158054351807039,
              54.57930374145502
             ],
             [
              13.110833168029785,
              54.5837516784668
             ],
             [
              13.116943359375,
              54.53763961792015
             ],
             [
              13.06360912322998,
              54.457637786865234
             ],
             [
              13.097499847412223,
              54.59041595458996
             ],
             [
              13.13638877868658,
              54.6051406860351
             ]
            ]
           ]
          ],
          "type": "MultiPolygon"
         },
         "id": 7,
         "properties": {
          "id": "DE-MV",
          "name": "Mecklenburg-Vorpommern",
          "type": "State"
         },
         "type": "Feature"
        },
        {
         "geometry": {
          "coordinates": [
           [
            [
             [
              8.680833816528661,
              53.892082214355696
             ],
             [
              8.75694561004633,
              53.84263992309582
             ],
             [
              8.883610725402946,
              53.82791519165062
             ],
             [
              9.016388893127498,
              53.835971832275504
             ],
             [
              9.096388816833496,
              53.883983612060774
             ],
             [
              9.28820991516119,
              53.86941146850586
             ],
             [
              9.50700855255127,
              53.70085144042997
             ],
             [
              9.547169685363883,
              53.62430953979492
             ],
             [
              9.768639564514388,
              53.565540313720646
             ],
             [
              9.763450622558821,
              53.51694107055664
             ],
             [
              9.860950469970874,
              53.43928909301758
             ],
             [
              9.898807525634822,
              53.469478607177734
             ],
             [
              9.924840927124308,
              53.44726943969755
             ],
             [
              9.905927658081112,
              53.424720764160156
             ],
             [
              9.983139038085938,
              53.42528152465826
             ],
             [
              10.053689002990666,
              53.47415924072271
             ],
             [
              10.177260398864917,
              53.40795135498064
             ],
             [
              10.331270217895678,
              53.44253158569336
             ],
             [
              10.579379081726188,
              53.369850158691634
             ],
             [
              10.708258628845158,
              53.379310607910156
             ],
             [
              10.838748931884822,
              53.30918121337896
             ],
             [
              10.931690216064567,
              53.350830078125114
             ],
             [
              10.994039535522688,
              53.334770202636946
             ],
             [
              11.068689346313477,
              53.22988891601574
             ],
             [
              11.198998451232967,
              53.18004226684582
             ],
             [
              11.186309814453125,
              53.135421752929744
             ],
             [
              11.26729869842535,
              53.12728118896496
             ],
             [
              11.329089164734114,
              53.059749603271484
             ],
             [
              11.459699630737418,
              53.07736206054682
             ],
             [
              11.60176944732666,
              53.031551361083984
             ],
             [
              11.56410026550293,
              52.99465179443365
             ],
             [
              11.514609336853084,
              52.99877166748041
             ],
             [
              11.507689476013184,
              52.939300537109375
             ],
             [
              11.321439743041935,
              52.873699188232536
             ],
             [
              11.041929244995174,
              52.913089752197436
             ],
             [
              10.992259979248274,
              52.90634918212896
             ],
             [
              10.942508697509822,
              52.85137939453125
             ],
             [
              10.766200065612793,
              52.851242065429915
             ],
             [
              10.795768737793253,
              52.72050857543968
             ],
             [
              10.832089424133358,
              52.723411560058594
             ],
             [
              10.921110153198413,
              52.60668182373047
             ],
             [
              10.978019714355469,
              52.621829986572266
             ],
             [
              10.934068679809627,
              52.565818786621094
             ],
             [
              11.010089874267692,
              52.49187088012707
             ],
             [
              10.94782829284668,
              52.49203109741222
             ],
             [
              10.936208724975586,
              52.45901107788109
             ],
             [
              11.078740119934139,
              52.373451232910384
             ],
             [
              10.987579345703125,
              52.337001800537394
             ],
             [
              11.091680526733626,
              52.22570037841808
             ],
             [
              11.019989967346362,
              52.19678878784191
             ],
             [
              11.068088531494084,
              52.16691970825195
             ],
             [
              11.05053997039812,
              52.13394165039074
             ],
             [
              10.949279785156307,
              52.10540008544922
             ],
             [
              10.974808692932129,
              52.057250976562614
             ],
             [
              10.691758155822754,
              52.052768707275675
             ],
             [
              10.563369750976562,
              52.00992965698259
             ],
             [
              10.655550003051758,
              51.960559844970874
             ],
             [
              10.612678527832315,
              51.94221878051758
             ],
             [
              10.655679702758732,
              51.90460968017584
             ],
             [
              10.576871871948242,
              51.851169586181754
             ],
             [
              10.577550888061637,
              51.78271102905285
             ],
             [
              10.632180213928336,
              51.75741958618164
             ],
             [
              10.70512962341337,
              51.643550872802734
             ],
             [
              10.639940261841048,
              51.61925888061535
             ],
             [
              10.664789199829386,
              51.55786895751976
             ],
             [
              10.605010032654093,
              51.57635879516613
             ],
             [
              10.522129058837947,
              51.55052185058588
             ],
             [
              10.37830924987793,
              51.58518981933605
             ],
             [
              10.349979400634709,
              51.52178955078125
             ],
             [
              10.238059997558878,
              51.47042083740229
             ],
             [
              10.19617938995367,
              51.48188018798828
             ],
             [
              10.143619537353686,
              51.44128036499035
             ],
             [
              10.161690711975098,
              51.42998886108421
             ],
             [
              10.054610252380314,
              51.4380989074707
             ],
             [
              9.943228721618823,
              51.37916946411133
             ],
             [
              9.9112300872805,
              51.41975021362316
             ],
             [
              9.85617923736595,
              51.41577911376976
             ],
             [
              9.869279861450138,
              51.375450134277344
             ],
             [
              9.819369316101074,
              51.4156112670899
             ],
             [
              9.705880165100325,
              51.37052154541033
             ],
             [
              9.7361488342288,
              51.323299407958984
             ],
             [
              9.77073860168457,
              51.34252929687523
             ],
             [
              9.731150627136287,
              51.30081939697277
             ],
             [
              9.561838150024585,
              51.34835052490229
             ],
             [
              9.571659088134766,
              51.3931617736817
             ],
             [
              9.64620971679716,
              51.42076873779308
             ],
             [
              9.644719123840332,
              51.472278594970874
             ],
             [
              9.590420722961483,
              51.52280044555664
             ],
             [
              9.689008712768555,
              51.58312225341825
             ],
             [
              9.62797927856451,
              51.637340545654354
             ],
             [
              9.382368087768612,
              51.647689819335994
             ],
             [
              9.408979415893555,
              51.699748992920036
             ],
             [
              9.388999938964844,
              51.75823974609369
             ],
             [
              9.451158523559684,
              51.79259109497076
             ],
             [
              9.437099456787223,
              51.8402214050293
             ],
             [
              9.465918540954647,
              51.855468750000114
             ],
             [
              9.341150283813647,
              51.85374069213867
             ],
             [
              9.35097885131836,
              51.894889831543026
             ],
             [
              9.27766036987299,
              51.92739105224621
             ],
             [
              9.281768798828068,
              51.96847152709972
             ],
             [
              9.179109573364315,
              51.97811889648449
             ],
             [
              9.202249526977653,
              51.99710845947271
             ],
             [
              9.176400184631575,
              52.034011840820426
             ],
             [
              9.192729949951229,
              52.07155990600586
             ],
             [
              9.137360572815226,
              52.093070983886946
             ],
             [
              9.160108566284407,
              52.12327194213867
             ],
             [
              9.020539283752441,
              52.13224029541027
             ],
             [
              8.987109184265421,
              52.19509887695318
             ],
             [
              9.048390388489054,
              52.18117141723661
             ],
             [
              9.040340423584269,
              52.22206878662121
             ],
             [
              9.076330184936694,
              52.230110168456974
             ],
             [
              8.964668273926009,
              52.28050994873047
             ],
             [
              9.12292861938505,
              52.40250015258789
             ],
             [
              9.096728324890364,
              52.443119049072436
             ],
             [
              9.137780189514103,
              52.477390289306754
             ],
             [
              9.094149589538517,
              52.49906921386719
             ],
             [
              9.05136871337885,
              52.502090454101676
             ],
             [
              8.940418243408317,
              52.40320968627924
             ],
             [
              8.855890274047965,
              52.39060211181646
             ],
             [
              8.709649085998535,
              52.39556884765631
             ],
             [
              8.704008102417163,
              52.503601074218864
             ],
             [
              8.653689384460506,
              52.53250885009771
             ],
             [
              8.50821876525896,
              52.51488876342796
             ],
             [
              8.432649612426871,
              52.45019912719732
             ],
             [
              8.304120063781795,
              52.46253967285179
             ],
             [
              8.313388824463118,
              52.407039642333984
             ],
             [
              8.443698883056697,
              52.36478042602562
             ],
             [
              8.470759391784725,
              52.316841125488395
             ],
             [
              8.446478843689249,
              52.212089538574446
             ],
             [
              8.520669937134016,
              52.18727874755865
             ],
             [
              8.404229164123478,
              52.11082077026367
             ],
             [
              8.269809722900504,
              52.13460922241222
             ],
             [
              8.196008682250977,
              52.07390975952171
             ],
             [
              8.032528877258585,
              52.068290710449446
             ],
             [
              7.974060058593864,
              52.03638076782238
             ],
             [
              7.885759830475024,
              52.08618164062506
             ],
             [
              8.009200096130371,
              52.1151695251466
             ],
             [
              8.017779350280819,
              52.172870635986385
             ],
             [
              7.900389194488525,
              52.1991920471192
             ],
             [
              7.954770088195971,
              52.276519775390625
             ],
             [
              7.928679943084944,
              52.305610656738395
             ],
             [
              7.988409996032715,
              52.31166076660179
             ],
             [
              7.937768936157227,
              52.368728637695426
             ],
             [
              7.719359874725285,
              52.401988983154354
             ],
             [
              7.693008899689005,
              52.45629119873058
             ],
             [
              7.613338947296199,
              52.47603988647472
             ],
             [
              7.578148841857853,
              52.431190490722656
             ],
             [
              7.60909986495966,
              52.42097091674805
             ],
             [
              7.586558818817139,
              52.376251220703125
             ],
             [
              7.298637866974047,
              52.26420211791992
             ],
             [
              7.070188999176082,
              52.24346160888666
             ],
             [
              7.029718875884953,
              52.29431915283209
             ],
             [
              7.07911586761486,
              52.38272476196295
             ],
             [
              7.006279945373819,
              52.469501495361555
             ],
             [
              6.950539112091235,
              52.43696975708002
             ],
             [
              6.713626861572209,
              52.48441314697283
             ],
             [
              6.683791160583496,
              52.55606460571295
             ],
             [
              6.768260955810774,
              52.56516647338867
             ],
             [
              6.724298000335978,
              52.59061050415062
             ],
             [
              6.743810176849422,
              52.64709091186529
             ],
             [
              7.051859855652083,
              52.63584899902344
             ],
             [
              7.094276905059871,
              52.84645080566412
             ],
             [
              7.2614879608156,
              52.997539520263615
             ],
             [
              7.256578922271729,
              53.09841156005865
             ],
             [
              7.226968765258846,
              53.124462127685604
             ],
             [
              7.292709827423039,
              53.16294097900402
             ],
             [
              7.284560203552189,
              53.19956970214855
             ],
             [
              7.272350788116739,
              53.233783721923885
             ],
             [
              7.205277919769344,
              53.23880767822271
             ],
             [
              7.249166965484562,
              53.32986068725586
             ],
             [
              7.02694511413597,
              53.33625030517578
             ],
             [
              6.998610973358154,
              53.361251831054915
             ],
             [
              7.049722194671574,
              53.507637023926065
             ],
             [
              7.034166812896729,
              53.53319549560575
             ],
             [
              7.13361120223999,
              53.53236007690424
             ],
             [
              7.09027719497675,
              53.57652664184593
             ],
             [
              7.158053874969539,
              53.627918243408146
             ],
             [
              7.316944122314624,
              53.683471679687614
             ],
             [
              7.530278205871639,
              53.671527862548885
             ],
             [
              8.015831947327115,
              53.71069335937523
             ],
             [
              8.044721603393612,
              53.64180374145519
             ],
             [
              8.110277175903605,
              53.64236068725597
             ],
             [
              8.172499656677246,
              53.554584503174055
             ],
             [
              8.155276298523006,
              53.513748168945426
             ],
             [
              8.06472206115734,
              53.50597381591797
             ],
             [
              8.073611259460847,
              53.46486282348633
             ],
             [
              8.252499580383244,
              53.399028778076115
             ],
             [
              8.316389083862418,
              53.46625137329124
             ],
             [
              8.316389083862418,
              53.5220832824707
             ],
             [
              8.230832099914949,
              53.52041625976591
             ],
             [
              8.271943092346419,
              53.609859466552734
             ],
             [
              8.516389846801701,
              53.55625152587902
             ],
             [
              8.556944847106877,
              53.52569580078148
             ],
             [
              8.519721984863338,
              53.50097274780279
             ],
             [
              8.570834159851074,
              53.5181961059572
             ],
             [
              8.483611106872786,
              53.6943054199221
             ],
             [
              8.558056831359806,
              53.83402633666998
             ],
             [
              8.680833816528661,
              53.892082214355696
             ]
            ],
            [
             [
              8.519479751587085,
              53.19604110717802
             ],
             [
              8.625838279724292,
              53.165290832519474
             ],
             [
              8.731298446655273,
              53.037208557129134
             ],
             [
              8.77343082428007,
              53.05675888061546
             ],
             [
              8.818189620971964,
              53.024120330810604
             ],
             [
              8.866428375244254,
              53.043762207031364
             ],
             [
              8.935469627380428,
              53.015239715576286
             ],
             [
              8.982990264892521,
              53.0497398376466
             ],
             [
              8.962628364563159,
              53.090450286865234
             ],
             [
              8.992988586425724,
              53.09848022460949
             ],
             [
              8.948739051818961,
              53.12380218505882
             ],
             [
              8.98544883728033,
              53.128219604492244
             ],
             [
              8.947138786315918,
              53.15737915039085
             ],
             [
              8.861869812011776,
              53.1370086669923
             ],
             [
              8.829590797424487,
              53.166198730468864
             ],
             [
              8.593818664550952,
              53.186859130859375
             ],
             [
              8.598338127136458,
              53.21680068969749
             ],
             [
              8.486890792846964,
              53.22864151000982
             ],
             [
              8.519479751587085,
              53.19604110717802
             ]
            ]
           ],
           [
            [
             [
              8.498612403869743,
              53.93125152587902
             ],
             [
              8.515276908874455,
              53.9170837402346
             ],
             [
              8.487499237060547,
              53.91402816772478
             ],
             [
              8.498612403869743,
              53.93125152587902
             ]
            ]
           ],
           [
            [
             [
              8.009165763855037,
              53.78569412231445
             ],
             [
              8.02249908447294,
              53.7448616027832
             ],
             [
              7.98750019073492,
              53.77013778686529
             ],
             [
              8.009165763855037,
              53.78569412231445
             ]
            ]
           ],
           [
            [
             [
              7.895833015442236,
              53.79402923584007
             ],
             [
              7.968054771423567,
              53.774860382080305
             ],
             [
              7.846387863159634,
              53.78680419921898
             ],
             [
              7.895833015442236,
              53.79402923584007
             ]
            ]
           ],
           [
            [
             [
              7.706388950348071,
              53.77958297729492
             ],
             [
              7.805832862854459,
              53.774581909179744
             ],
             [
              7.666944026947249,
              53.7587509155274
             ],
             [
              7.706388950348071,
              53.77958297729492
             ]
            ]
           ],
           [
            [
             [
              7.573610782623348,
              53.757362365722656
             ],
             [
              7.627499103546427,
              53.74847412109398
             ],
             [
              7.467502117157323,
              53.727085113525504
             ],
             [
              7.484723091125545,
              53.75485992431658
             ],
             [
              7.573610782623348,
              53.757362365722656
             ]
            ]
           ],
           [
            [
             [
              7.394165992737214,
              53.73458480834978
             ],
             [
              7.429722785949707,
              53.725139617920206
             ],
             [
              7.360278129577864,
              53.72680664062494
             ],
             [
              7.394165992737214,
              53.73458480834978
             ]
            ]
           ],
           [
            [
             [
              7.316390037536735,
              53.72347259521507
             ],
             [
              7.342500209808293,
              53.72069549560558
             ],
             [
              7.138054847717342,
              53.70513916015648
             ],
             [
              7.316390037536735,
              53.72347259521507
             ]
            ]
           ],
           [
            [
             [
              7.058610916137638,
              53.68458175659197
             ],
             [
              7.095833778381348,
              53.680694580078125
             ],
             [
              6.854722023010424,
              53.66125106811535
             ],
             [
              7.058610916137638,
              53.68458175659197
             ]
            ]
           ],
           [
            [
             [
              6.901390075683537,
              53.65375137329107
             ],
             [
              6.897499084472713,
              53.62625122070324
             ],
             [
              6.864723205566861,
              53.639026641845874
             ],
             [
              6.901390075683537,
              53.65375137329107
             ]
            ]
           ],
           [
            [
             [
              6.761944770812988,
              53.61875152587896
             ],
             [
              6.811388969421841,
              53.60263824462885
             ],
             [
              6.721387863159407,
              53.583751678466854
             ],
             [
              6.749722003937222,
              53.55680465698242
             ],
             [
              6.630833148956697,
              53.59791564941406
             ],
             [
              6.761944770812988,
              53.61875152587896
             ]
            ]
           ]
          ],
          "type": "MultiPolygon"
         },
         "id": 8,
         "properties": {
          "id": "DE-NI",
          "name": "Niedersachsen",
          "type": "State"
         },
         "type": "Feature"
        },
        {
         "geometry": {
          "coordinates": [
           [
            [
             8.666278839111385,
             52.52527999877924
            ],
            [
             8.704008102417163,
             52.503601074218864
            ],
            [
             8.709649085998535,
             52.39556884765631
            ],
            [
             8.740420341491927,
             52.388641357421875
            ],
            [
             8.940418243408317,
             52.40320968627924
            ],
            [
             9.05136871337885,
             52.502090454101676
            ],
            [
             9.13135147094738,
             52.484748840331974
            ],
            [
             9.08855056762718,
             52.3571586608889
            ],
            [
             9.028349876404036,
             52.34498214721691
            ],
            [
             8.964668273926009,
             52.28050994873047
            ],
            [
             9.076330184936694,
             52.230110168456974
            ],
            [
             9.040340423584269,
             52.22206878662121
            ],
            [
             9.048390388489054,
             52.18117141723661
            ],
            [
             8.987109184265421,
             52.19509887695318
            ],
            [
             9.020539283752441,
             52.13224029541027
            ],
            [
             9.160108566284407,
             52.12327194213867
            ],
            [
             9.137360572815226,
             52.093070983886946
            ],
            [
             9.192729949951229,
             52.07155990600586
            ],
            [
             9.176400184631575,
             52.034011840820426
            ],
            [
             9.202249526977653,
             51.99710845947271
            ],
            [
             9.179109573364315,
             51.97811889648449
            ],
            [
             9.281768798828068,
             51.96847152709972
            ],
            [
             9.27766036987299,
             51.92739105224621
            ],
            [
             9.35097885131836,
             51.894889831543026
            ],
            [
             9.341150283813647,
             51.85374069213867
            ],
            [
             9.465918540954647,
             51.855468750000114
            ],
            [
             9.437099456787223,
             51.8402214050293
            ],
            [
             9.451158523559684,
             51.79259109497076
            ],
            [
             9.383939743042106,
             51.74341964721691
            ],
            [
             9.408979415893555,
             51.699748992920036
            ],
            [
             9.382368087768612,
             51.647689819335994
            ],
            [
             9.451740264892635,
             51.64538192749035
            ],
            [
             9.343469619750977,
             51.613761901855696
            ],
            [
             9.378959655761776,
             51.59236145019531
            ],
            [
             9.228690147400016,
             51.459732055664006
            ],
            [
             9.113858222961369,
             51.4426002502442
            ],
            [
             9.112098693847884,
             51.49462127685575
            ],
            [
             9.041880607605094,
             51.51929855346691
            ],
            [
             8.912460327148722,
             51.47972106933605
            ],
            [
             8.938670158386515,
             51.42792892456066
            ],
            [
             8.968549728393725,
             51.42853927612316
            ],
            [
             8.957579612732161,
             51.38727188110374
            ],
            [
             8.703760147094727,
             51.374889373779354
            ],
            [
             8.63252067565918,
             51.336120605469034
            ],
            [
             8.56899929046648,
             51.2750701904298
            ],
            [
             8.601678848266772,
             51.2458114624024
            ],
            [
             8.739699363708667,
             51.27093887329107
            ],
            [
             8.784381866455362,
             51.20458221435564
            ],
            [
             8.70979022979742,
             51.13212966918974
            ],
            [
             8.734568595886515,
             51.10649108886713
            ],
            [
             8.5381507873538,
             51.09511947631847
            ],
            [
             8.51747035980219,
             51.03866195678722
            ],
            [
             8.554678916931323,
             51.01322937011713
            ],
            [
             8.467968940735147,
             50.96326065063499
            ],
            [
             8.471490859985408,
             50.91152191162121
            ],
            [
             8.380510330200252,
             50.85895156860357
            ],
            [
             8.275670051574764,
             50.881240844726506
            ],
            [
             8.131909370422647,
             50.791851043701286
            ],
            [
             8.179418563843058,
             50.739521026611555
            ],
            [
             8.153118133545092,
             50.69478988647455
            ],
            [
             8.052820205688533,
             50.699131011963004
            ],
            [
             7.974319934845028,
             50.77466964721691
            ],
            [
             7.973968982696817,
             50.845249176025504
            ],
            [
             7.834569931030558,
             50.881149291992415
            ],
            [
             7.854489803314493,
             50.9263610839846
            ],
            [
             7.799629211425781,
             50.943019866943416
            ],
            [
             7.736380100250472,
             50.91852188110346
            ],
            [
             7.76646089553833,
             50.84527969360346
            ],
            [
             7.66198921203636,
             50.81917953491211
            ],
            [
             7.688279151916731,
             50.790409088134766
            ],
            [
             7.660749912262077,
             50.76705932617193
            ],
            [
             7.381401062011776,
             50.71549987792969
            ],
            [
             7.341228008270207,
             50.63579177856451
            ],
            [
             7.219069004058838,
             50.61973190307623
            ],
            [
             7.210938930511475,
             50.6454811096192
            ],
            [
             7.150808811187744,
             50.59461975097656
            ],
            [
             7.056681156158447,
             50.59838104248041
            ],
            [
             6.932001113891602,
             50.552749633789176
            ],
            [
             6.934369087219238,
             50.526611328125114
            ],
            [
             6.888179779052734,
             50.521331787109375
            ],
            [
             6.905250072479532,
             50.46194076538086
            ],
            [
             6.866010189056396,
             50.44554901123058
            ],
            [
             6.803999900818098,
             50.48480224609398
            ],
            [
             6.75292015075712,
             50.46820068359398
            ],
            [
             6.80925989151018,
             50.34981155395508
            ],
            [
             6.70684909820568,
             50.329780578613395
            ],
            [
             6.674900054931584,
             50.36391067504883
            ],
            [
             6.641438007354679,
             50.3373718261721
            ],
            [
             6.607089042663631,
             50.38161849975586
            ],
            [
             6.450109004974649,
             50.33393096923851
            ],
            [
             6.459670066833496,
             50.360019683838004
            ],
            [
             6.391717910766658,
             50.384429931640625
            ],
            [
             6.403338909149454,
             50.32192993164068
            ],
            [
             6.33975791931158,
             50.37989425659174
            ],
            [
             6.374671936035384,
             50.44594955444336
            ],
            [
             6.330028057098616,
             50.49364471435575
            ],
            [
             6.223847866058293,
             50.502281188964844
            ],
            [
             6.172194004058895,
             50.550514221191406
            ],
            [
             6.278378963470686,
             50.61639785766596
            ],
            [
             6.173087120056209,
             50.6214332580567
            ],
            [
             6.173787117004451,
             50.65840530395508
            ],
            [
             6.118731975555477,
             50.708736419677734
            ],
            [
             6.028616905212402,
             50.72521591186546
            ],
            [
             6.011878967285156,
             50.775249481201286
            ],
            [
             5.963199138641357,
             50.79505157470703
            ],
            [
             6.027101993560791,
             50.81476593017601
            ],
            [
             6.019684791565112,
             50.84523391723644
            ],
            [
             6.0738401412965,
             50.846858978271655
            ],
            [
             6.082940101623819,
             50.921798706054744
            ],
            [
             6.015170097351074,
             50.93315887451172
            ],
            [
             6.030001163482723,
             50.98336410522472
            ],
            [
             5.903690814972094,
             50.978271484375114
            ],
            [
             5.87161922454851,
             51.05083084106451
            ],
            [
             5.969543933868522,
             51.034469604492244
            ],
            [
             6.015267848968733,
             51.094051361084155
            ],
            [
             6.171799182891846,
             51.15293121337896
            ],
            [
             6.144780158996639,
             51.17371749877941
            ],
            [
             6.193139076232967,
             51.19166183471674
            ],
            [
             6.091834068298397,
             51.175292968750114
            ],
            [
             6.078186035156193,
             51.2447128295899
            ],
            [
             6.231968879699764,
             51.36598205566412
            ],
            [
             6.233500003814925,
             51.402919769287166
            ],
            [
             6.215528964996622,
             51.51697158813499
            ],
            [
             6.090958118438948,
             51.605220794677905
            ],
            [
             6.118769168853703,
             51.6604576110841
            ],
            [
             6.039014816284293,
             51.677734375000114
            ],
            [
             6.050580978393612,
             51.71677398681646
            ],
            [
             5.964007854461897,
             51.74161148071289
            ],
            [
             6.004777908325309,
             51.7681694030764
            ],
            [
             5.972117900848332,
             51.831855773925724
            ],
            [
             6.068249225616569,
             51.864902496338004
            ],
            [
             6.168982028961466,
             51.84503173828125
            ],
            [
             6.107149124145565,
             51.88898849487299
            ],
            [
             6.158889770507983,
             51.905384063720646
            ],
            [
             6.417467117309627,
             51.82563400268566
            ],
            [
             6.402299880981388,
             51.87480163574219
            ],
            [
             6.480340003967285,
             51.85462188720703
            ],
            [
             6.692440986633414,
             51.92016220092779
            ],
            [
             6.742709159851131,
             51.89905166625988
            ],
            [
             6.838380813598633,
             51.965599060058594
            ],
            [
             6.835361003875846,
             51.99552917480469
            ],
            [
             6.698178768157959,
             52.040119171142635
            ],
            [
             6.700688838958797,
             52.07379150390631
            ],
            [
             6.742818832397575,
             52.075119018554744
            ],
            [
             6.7684521675111,
             52.12076568603527
            ],
            [
             6.876288890838737,
             52.12800216674805
            ],
            [
             6.995787143707332,
             52.228771209716854
            ],
            [
             7.159201145172119,
             52.268169403076115
            ],
            [
             7.298637866974047,
             52.26420211791992
            ],
            [
             7.586558818817139,
             52.376251220703125
            ],
            [
             7.60909986495966,
             52.42097091674805
            ],
            [
             7.578148841857853,
             52.431190490722656
            ],
            [
             7.613338947296199,
             52.47603988647472
            ],
            [
             7.693008899689005,
             52.45629119873058
            ],
            [
             7.719359874725285,
             52.401988983154354
            ],
            [
             7.937768936157227,
             52.368728637695426
            ],
            [
             7.988409996032715,
             52.31166076660179
            ],
            [
             7.928679943084944,
             52.305610656738395
            ],
            [
             7.954770088195971,
             52.276519775390625
            ],
            [
             7.900389194488525,
             52.1991920471192
            ],
            [
             8.025090217590616,
             52.16201019287121
            ],
            [
             7.999969005584717,
             52.1565513610841
            ],
            [
             8.009200096130371,
             52.1151695251466
            ],
            [
             7.885759830475024,
             52.08618164062506
            ],
            [
             7.918758869171256,
             52.049720764160156
            ],
            [
             8.196008682250977,
             52.07390975952171
            ],
            [
             8.269809722900504,
             52.13460922241222
            ],
            [
             8.404229164123478,
             52.11082077026367
            ],
            [
             8.520669937134016,
             52.18727874755865
            ],
            [
             8.446478843689249,
             52.212089538574446
            ],
            [
             8.470759391784725,
             52.316841125488395
            ],
            [
             8.443698883056697,
             52.36478042602562
            ],
            [
             8.313388824463118,
             52.407039642333984
            ],
            [
             8.298259735107592,
             52.4587097167971
            ],
            [
             8.432649612426871,
             52.45019912719732
            ],
            [
             8.50821876525896,
             52.51488876342796
            ],
            [
             8.666278839111385,
             52.52527999877924
            ]
           ]
          ],
          "type": "Polygon"
         },
         "id": 9,
         "properties": {
          "id": "DE-NW",
          "name": "Nordrhein-Westfalen",
          "type": "State"
         },
         "type": "Feature"
        },
        {
         "geometry": {
          "coordinates": [
           [
            [
             7.799629211425781,
             50.943019866943416
            ],
            [
             7.854489803314493,
             50.9263610839846
            ],
            [
             7.834569931030558,
             50.881149291992415
            ],
            [
             7.973968982696817,
             50.845249176025504
            ],
            [
             7.974319934845028,
             50.77466964721691
            ],
            [
             8.052820205688533,
             50.699131011963004
            ],
            [
             8.121088981628418,
             50.70222854614252
            ],
            [
             8.140788078308162,
             50.611721038818416
            ],
            [
             8.174539566040096,
             50.592750549316634
            ],
            [
             8.140970230102596,
             50.535850524902344
            ],
            [
             8.056481361389274,
             50.55717849731468
            ],
            [
             8.01100921630865,
             50.52611923217779
            ],
            [
             7.996560096740779,
             50.4847412109375
            ],
            [
             8.030008316040153,
             50.44818115234398
            ],
            [
             7.984179973602238,
             50.41360092163097
            ],
            [
             8.082799911499023,
             50.37416076660162
            ],
            [
             8.138910293579215,
             50.2740592956543
            ],
            [
             8.051680564880485,
             50.268829345703125
            ],
            [
             8.076358795166072,
             50.23173141479492
            ],
            [
             8.047920227050952,
             50.21253967285156
            ],
            [
             8.006259918213061,
             50.234550476074446
            ],
            [
             7.919559001922778,
             50.20370864868164
            ],
            [
             7.897570133209172,
             50.16987991333019
            ],
            [
             7.945549964904785,
             50.14015197753929
            ],
            [
             7.941120147705135,
             50.102508544921875
            ],
            [
             7.869957923889274,
             50.12857055664074
            ],
            [
             7.78512001037592,
             50.05311203002941
            ],
            [
             7.887711048126278,
             49.97066879272484
            ],
            [
             8.257689476013127,
             50.02706909179699
            ],
            [
             8.346780776977823,
             49.95928955078125
            ],
            [
             8.34934043884283,
             49.881698608398665
            ],
            [
             8.396700859069824,
             49.84989166259777
            ],
            [
             8.386138916015625,
             49.820030212402344
            ],
            [
             8.428420066833667,
             49.765998840332145
            ],
            [
             8.486090660095442,
             49.76776885986328
            ],
            [
             8.36192989349371,
             49.690170288085994
            ],
            [
             8.429039001464844,
             49.58562088012707
            ],
            [
             8.418828964233342,
             49.55218887329107
            ],
            [
             8.467529296874943,
             49.473041534424055
            ],
            [
             8.445588111877555,
             49.450260162353516
            ],
            [
             8.508589744568098,
             49.44147872924799
            ],
            [
             8.464948654175089,
             49.39220046997076
            ],
            [
             8.498978614807413,
             49.393428802490234
            ],
            [
             8.49458980560297,
             49.36024856567383
            ],
            [
             8.450428962707804,
             49.33285140991234
            ],
            [
             8.491369247436523,
             49.30128860473627
            ],
            [
             8.392860412597713,
             49.242092132568416
            ],
            [
             8.362239837646541,
             49.09968948364258
            ],
            [
             8.241430282592887,
             48.9688415527346
            ],
            [
             8.091376304626408,
             48.98925781250023
            ],
            [
             7.937040328979435,
             49.05623245239258
            ],
            [
             7.867407798767374,
             49.033493041992415
            ],
            [
             7.7999339103701,
             49.06416320800781
            ],
            [
             7.671083927154598,
             49.045970916748104
            ],
            [
             7.531178951263485,
             49.097133636474666
            ],
            [
             7.491343021392822,
             49.168510437011776
            ],
            [
             7.353888988494987,
             49.17060852050787
            ],
            [
             7.292399883270207,
             49.24573135375988
            ],
            [
             7.38636922836298,
             49.29275131225603
            ],
            [
             7.409649848938159,
             49.37794876098644
            ],
            [
             7.293569087982291,
             49.397098541259766
            ],
            [
             7.256089210510481,
             49.440269470214844
            ],
            [
             7.310669898986873,
             49.47896957397484
            ],
            [
             7.28526878356945,
             49.5115509033206
            ],
            [
             7.311830043792895,
             49.54196929931646
            ],
            [
             7.282810211181641,
             49.54483032226568
            ],
            [
             7.273407936096191,
             49.592769622802734
            ],
            [
             7.21724987030035,
             49.572399139404354
            ],
            [
             7.031869888305948,
             49.646820068359375
            ],
            [
             6.608709812164477,
             49.52021026611328
            ],
            [
             6.378159046173266,
             49.54800033569359
            ],
            [
             6.363647937774829,
             49.57404708862305
            ],
            [
             6.417419910430851,
             49.6174888610841
            ],
            [
             6.424099922180119,
             49.66633224487333
            ],
            [
             6.516485214233398,
             49.724178314208984
            ],
            [
             6.528252124786547,
             49.808570861816406
            ],
            [
             6.405219078064249,
             49.819972991943416
            ],
            [
             6.362998008728027,
             49.8540306091308
            ],
            [
             6.312281131744442,
             49.83549880981457
            ],
            [
             6.309239864349365,
             49.86516952514654
            ],
            [
             6.236907005310059,
             49.892372131347884
            ],
            [
             6.219171047210921,
             49.951641082763786
            ],
            [
             6.163208961486873,
             49.95397949218773
            ],
            [
             6.098370075226114,
             50.0599098205567
            ],
            [
             6.146426200866927,
             50.17389297485346
            ],
            [
             6.189638137817553,
             50.189464569091854
            ],
            [
             6.170382022857723,
             50.23625564575207
            ],
            [
             6.275639057159594,
             50.26544189453131
            ],
            [
             6.301178932189885,
             50.31853103637695
            ],
            [
             6.421248912811279,
             50.32228088378912
            ],
            [
             6.380168914795206,
             50.38045120239269
            ],
            [
             6.459670066833496,
             50.360019683838004
            ],
            [
             6.450109004974649,
             50.33393096923851
            ],
            [
             6.607089042663631,
             50.38161849975586
            ],
            [
             6.641438007354679,
             50.3373718261721
            ],
            [
             6.674900054931584,
             50.36391067504883
            ],
            [
             6.70684909820568,
             50.329780578613395
            ],
            [
             6.80925989151018,
             50.34981155395508
            ],
            [
             6.75292015075712,
             50.46820068359398
            ],
            [
             6.803999900818098,
             50.48480224609398
            ],
            [
             6.866010189056396,
             50.44554901123058
            ],
            [
             6.905250072479532,
             50.46194076538086
            ],
            [
             6.888179779052734,
             50.521331787109375
            ],
            [
             6.934369087219238,
             50.526611328125114
            ],
            [
             6.932001113891602,
             50.552749633789176
            ],
            [
             7.056681156158447,
             50.59838104248041
            ],
            [
             7.150808811187744,
             50.59461975097656
            ],
            [
             7.210938930511475,
             50.6454811096192
            ],
            [
             7.219069004058838,
             50.61973190307623
            ],
            [
             7.341228008270207,
             50.63579177856451
            ],
            [
             7.381401062011776,
             50.71549987792969
            ],
            [
             7.660749912262077,
             50.76705932617193
            ],
            [
             7.688279151916731,
             50.790409088134766
            ],
            [
             7.66198921203636,
             50.81917953491211
            ],
            [
             7.76646089553833,
             50.84527969360346
            ],
            [
             7.736380100250472,
             50.91852188110346
            ],
            [
             7.799629211425781,
             50.943019866943416
            ]
           ]
          ],
          "type": "Polygon"
         },
         "id": 10,
         "properties": {
          "id": "DE-RP",
          "name": "Rheinland-Pfalz",
          "type": "State"
         },
         "type": "Feature"
        },
        {
         "geometry": {
          "coordinates": [
           [
            [
             7.037960052490462,
             49.64337921142578
            ],
            [
             7.21724987030035,
             49.572399139404354
            ],
            [
             7.273407936096191,
             49.592769622802734
            ],
            [
             7.282810211181641,
             49.54483032226568
            ],
            [
             7.311830043792895,
             49.54196929931646
            ],
            [
             7.28526878356945,
             49.5115509033206
            ],
            [
             7.310669898986873,
             49.47896957397484
            ],
            [
             7.256089210510481,
             49.440269470214844
            ],
            [
             7.293569087982291,
             49.397098541259766
            ],
            [
             7.409649848938159,
             49.37794876098644
            ],
            [
             7.38636922836298,
             49.29275131225603
            ],
            [
             7.292399883270207,
             49.24573135375988
            ],
            [
             7.362774372100944,
             49.14517593383812
            ],
            [
             7.198331832885685,
             49.115177154541186
            ],
            [
             7.098150730133057,
             49.15433120727562
            ],
            [
             7.05802440643339,
             49.112586975097656
            ],
            [
             7.033706188201904,
             49.18826293945324
            ],
            [
             6.924295425415323,
             49.223075866699276
            ],
            [
             6.840444087982178,
             49.21423339843767
            ],
            [
             6.860935211181641,
             49.178627014160384
            ],
            [
             6.834462642669791,
             49.15137863159197
            ],
            [
             6.737987518311002,
             49.16456985473633
            ],
            [
             6.66784572601324,
             49.280437469482536
            ],
            [
             6.565380573272705,
             49.34928894042969
            ],
            [
             6.599329471588362,
             49.36661911010765
            ],
            [
             6.53541898727417,
             49.434162139892635
            ],
            [
             6.431842803955135,
             49.474460601806754
            ],
            [
             6.35482120513916,
             49.464984893799
            ],
            [
             6.371419906616268,
             49.548011779785156
            ],
            [
             6.608709812164477,
             49.52021026611328
            ],
            [
             6.939819812774772,
             49.63912200927746
            ],
            [
             7.037960052490462,
             49.64337921142578
            ]
           ]
          ],
          "type": "Polygon"
         },
         "id": 11,
         "properties": {
          "id": "DE-SL",
          "name": "Saarland",
          "type": "State"
         },
         "type": "Feature"
        },
        {
         "geometry": {
          "coordinates": [
           [
            [
             11.632508277893123,
             53.016410827636776
            ],
            [
             11.688010215759562,
             53.00477981567377
            ],
            [
             11.693689346313647,
             52.97496032714844
            ],
            [
             11.853730201721191,
             52.94752883911144
            ],
            [
             11.82853889465349,
             52.921730041503906
            ],
            [
             11.846659660339299,
             52.90298080444353
            ],
            [
             12.239520072937296,
             52.854591369628906
            ],
            [
             12.26237869262718,
             52.79122161865246
            ],
            [
             12.218799591064396,
             52.769401550293026
            ],
            [
             12.204960823059082,
             52.710159301757926
            ],
            [
             12.24106884002697,
             52.68381118774414
            ],
            [
             12.245609283447322,
             52.62440872192394
            ],
            [
             12.178129196167049,
             52.62139892578131
            ],
            [
             12.189039230346964,
             52.56937026977539
            ],
            [
             12.151088714599553,
             52.521560668945256
            ],
            [
             12.194099426269474,
             52.52854156494146
            ],
            [
             12.175079345703125,
             52.50278091430664
            ],
            [
             12.205368995666447,
             52.49135208129883
            ],
            [
             12.242839813232365,
             52.5206108093264
            ],
            [
             12.33942985534668,
             52.47510147094738
            ],
            [
             12.28273010253912,
             52.41271972656256
            ],
            [
             12.312949180603027,
             52.401279449463175
            ],
            [
             12.29343032836914,
             52.357040405273494
            ],
            [
             12.317408561706713,
             52.341960906982706
            ],
            [
             12.25396919250494,
             52.25008010864258
            ],
            [
             12.301870346069336,
             52.21995162963867
            ],
            [
             12.221308708190918,
             52.16529846191406
            ],
            [
             12.280429840088061,
             52.101768493652344
            ],
            [
             12.435828208923567,
             52.01491165161133
            ],
            [
             12.490827560424748,
             52.0290412902832
            ],
            [
             12.549958229064998,
             51.980232238769815
            ],
            [
             12.68417930603033,
             52.00812149047857
            ],
            [
             12.797579765319881,
             51.95854187011719
            ],
            [
             12.858329772949446,
             51.96512985229492
            ],
            [
             12.863180160522631,
             51.931758880615405
            ],
            [
             12.972139358520621,
             51.93397140502941
            ],
            [
             12.982969284057617,
             51.900531768799055
            ],
            [
             13.055450439453068,
             51.89950942993164
            ],
            [
             13.048269271850643,
             51.870010375976506
            ],
            [
             13.163080215454045,
             51.87210083007807
            ],
            [
             13.137908935546875,
             51.84654998779291
            ],
            [
             13.198930740356388,
             51.71620941162115
            ],
            [
             13.039240837097225,
             51.63716125488281
            ],
            [
             13.016320228576717,
             51.667060852050724
            ],
            [
             12.955019950866642,
             51.638359069824446
            ],
            [
             12.842118263244629,
             51.68059158325201
            ],
            [
             12.786640167236499,
             51.6444091796875
            ],
            [
             12.696819305419922,
             51.660419464111385
            ],
            [
             12.647199630737589,
             51.61677169799816
            ],
            [
             12.248349189758585,
             51.566440582275504
            ],
            [
             12.205350875854492,
             51.5300407409668
            ],
            [
             12.210309982299805,
             51.485752105713175
            ],
            [
             12.155740737915096,
             51.464221954345646
            ],
            [
             12.202850341796989,
             51.423191070556925
            ],
            [
             12.200760841369913,
             51.33118057250999
            ],
            [
             12.158598899841252,
             51.320590972900334
            ],
            [
             12.21623992919939,
             51.21699905395519
            ],
            [
             12.185659408569279,
             51.18424224853521
            ],
            [
             12.221497535705623,
             51.18386077880865
            ],
            [
             12.208699226379508,
             51.14356994628912
            ],
            [
             12.250238418579272,
             51.13209915161144
            ],
            [
             12.231939315795955,
             51.1139297485351
            ],
            [
             12.29712009429926,
             51.09484100341825
            ],
            [
             12.260259628296069,
             51.04384994506836
            ],
            [
             12.30772876739519,
             51.03596878051769
            ],
            [
             12.234389305114746,
             50.94504928588867
            ],
            [
             12.19341945648199,
             50.98212051391607
            ],
            [
             12.019789695739746,
             50.97230148315441
            ],
            [
             11.978389739990291,
             50.99827194213867
            ],
            [
             11.990778923034725,
             51.01663208007824
            ],
            [
             11.883781433105412,
             51.06132888793957
            ],
            [
             11.763569831848315,
             51.04325103759771
            ],
            [
             11.669088363647518,
             51.11370086669933
            ],
            [
             11.471959114074707,
             51.109951019287166
            ],
            [
             11.472960472106934,
             51.19165039062506
            ],
            [
             11.365938186645792,
             51.22121047973644
            ],
            [
             11.480478286743164,
             51.29914855957031
            ],
            [
             11.4032497406007,
             51.343761444091854
            ],
            [
             11.397780418396167,
             51.3845405578615
            ],
            [
             11.326239585876408,
             51.41061019897472
            ],
            [
             10.992289543151912,
             51.4169807434082
            ],
            [
             11.010198593139648,
             51.4282608032226
            ],
            [
             10.968518257141397,
             51.43177032470709
            ],
            [
             10.9746608734132,
             51.480289459228686
            ],
            [
             10.938948631286678,
             51.498771667480526
            ],
            [
             10.951048851013127,
             51.5361785888673
            ],
            [
             10.885531425476017,
             51.58076095581049
            ],
            [
             10.93943023681652,
             51.59592056274437
            ],
            [
             10.927610397338867,
             51.618339538574446
            ],
            [
             10.70512962341337,
             51.643550872802734
            ],
            [
             10.632180213928336,
             51.75741958618164
            ],
            [
             10.577550888061637,
             51.78271102905285
            ],
            [
             10.576871871948242,
             51.851169586181754
            ],
            [
             10.655679702758732,
             51.90460968017584
            ],
            [
             10.612678527832315,
             51.94221878051758
            ],
            [
             10.655550003051758,
             51.960559844970874
            ],
            [
             10.588009834289664,
             51.979869842529524
            ],
            [
             10.569430351257381,
             52.01726150512718
            ],
            [
             10.630780220031909,
             52.01285934448248
            ],
            [
             10.691758155822754,
             52.052768707275504
            ],
            [
             10.974808692932129,
             52.057250976562614
            ],
            [
             10.949279785156307,
             52.10540008544922
            ],
            [
             11.05053997039812,
             52.13394165039074
            ],
            [
             11.068088531494084,
             52.16691970825195
            ],
            [
             11.019989967346362,
             52.19678878784191
            ],
            [
             11.091680526733626,
             52.22570037841808
            ],
            [
             10.987579345703125,
             52.337001800537394
            ],
            [
             11.078740119934139,
             52.373451232910384
            ],
            [
             10.936208724975586,
             52.45901107788109
            ],
            [
             10.94782829284668,
             52.49203109741222
            ],
            [
             11.010089874267692,
             52.49187088012707
            ],
            [
             10.934068679809627,
             52.565818786621094
            ],
            [
             10.978019714355469,
             52.621829986572266
            ],
            [
             10.921110153198413,
             52.60668182373047
            ],
            [
             10.832089424133358,
             52.723411560058594
            ],
            [
             10.795768737793253,
             52.72050857543968
            ],
            [
             10.766200065612793,
             52.851242065429915
            ],
            [
             10.942508697509822,
             52.85137939453125
            ],
            [
             10.992259979248274,
             52.90634918212896
            ],
            [
             11.041929244995174,
             52.913089752197436
            ],
            [
             11.321439743041935,
             52.873699188232536
            ],
            [
             11.507689476013184,
             52.939300537109375
            ],
            [
             11.520859718322924,
             53.00244140625
            ],
            [
             11.651300430297965,
             53.0311393737793
            ],
            [
             11.632508277893123,
             53.016410827636776
            ]
           ]
          ],
          "type": "Polygon"
         },
         "id": 12,
         "properties": {
          "id": "DE-ST",
          "name": "Sachsen-Anhalt",
          "type": "State"
         },
         "type": "Feature"
        },
        {
         "geometry": {
          "coordinates": [
           [
            [
             12.877999305725325,
             51.6726989746096
            ],
            [
             12.955019950866642,
             51.638359069824446
            ],
            [
             13.016320228576717,
             51.667060852050724
            ],
            [
             13.098188400268555,
             51.60673904418945
            ],
            [
             13.169989585876522,
             51.598300933837834
            ],
            [
             13.162450790405273,
             51.561439514160156
            ],
            [
             13.226888656616154,
             51.52352905273443
            ],
            [
             13.19277858734148,
             51.427951812744254
            ],
            [
             13.222880363464583,
             51.431190490722656
            ],
            [
             13.233359336853141,
             51.39775848388672
            ],
            [
             13.286639213562069,
             51.38579177856457
            ],
            [
             13.337078094482365,
             51.44050979614269
            ],
            [
             13.39611911773693,
             51.42473983764643
            ],
            [
             13.42150878906267,
             51.45396041870117
            ],
            [
             13.56014919281023,
             51.369880676269815
            ],
            [
             13.779280662536564,
             51.36178207397472
            ],
            [
             13.97159862518322,
             51.39891052246094
            ],
            [
             14.015210151672363,
             51.37430191040062
            ],
            [
             14.080458641052417,
             51.44773864746094
            ],
            [
             14.049810409545955,
             51.48036193847656
            ],
            [
             14.107279777526855,
             51.48025131225586
            ],
            [
             14.091679573059253,
             51.49647903442383
            ],
            [
             14.15363979339628,
             51.54505157470703
            ],
            [
             14.341999053955135,
             51.500820159912394
            ],
            [
             14.570050239562988,
             51.57242202758789
            ],
            [
             14.665378570556811,
             51.55078887939459
            ],
            [
             14.69039916992216,
             51.599472045898494
            ],
            [
             14.739066123962573,
             51.524082183838004
            ],
            [
             14.910359382629622,
             51.493190765381144
            ],
            [
             14.963753700256461,
             51.453544616699446
            ],
            [
             14.967818260193098,
             51.3544158935548
            ],
            [
             15.028479576111067,
             51.30979919433622
            ],
            [
             15.03811264038086,
             51.24029922485346
            ],
            [
             14.930111885070744,
             50.99140548706055
            ],
            [
             14.820368766784782,
             50.89197158813488
            ],
            [
             14.8050794601441,
             50.828918457031364
            ],
            [
             14.611928939819393,
             50.85478210449219
            ],
            [
             14.651672363281534,
             50.93264007568382
            ],
            [
             14.560112953186092,
             50.92348480224632
            ],
            [
             14.595055580139444,
             50.988510131835994
            ],
            [
             14.502429962158487,
             51.01681900024414
            ],
            [
             14.501680374145678,
             51.05150604248058
            ],
            [
             14.490660667419718,
             51.020359039306925
            ],
            [
             14.39741039276123,
             51.0082817077639
            ],
            [
             14.29401683807373,
             51.05416488647461
            ],
            [
             14.246868133545036,
             50.97320175170904
            ],
            [
             14.400946617126465,
             50.942348480224894
            ],
            [
             14.372268676757926,
             50.88858032226585
            ],
            [
             14.25451946258562,
             50.886379241943416
            ],
            [
             14.058549880981559,
             50.800472259521484
            ],
            [
             13.954609870910701,
             50.80371093750023
            ],
            [
             13.895468711853027,
             50.78346633911161
            ],
            [
             13.89871883392334,
             50.74296188354515
            ],
            [
             13.850809097290096,
             50.71820068359375
            ],
            [
             13.548975944519213,
             50.713214874267805
            ],
            [
             13.525968551635913,
             50.63554000854492
            ],
            [
             13.465190887451229,
             50.59648895263672
            ],
            [
             13.374910354614315,
             50.643661499023494
            ],
            [
             13.326787948608683,
             50.581813812255916
            ],
            [
             13.248618125915641,
             50.59226989746088
            ],
            [
             13.195990562439079,
             50.500591278076286
            ],
            [
             13.0332670211792,
             50.50854873657249
            ],
            [
             13.02818679809576,
             50.44935989379883
            ],
            [
             12.977046012878475,
             50.41427230834978
            ],
            [
             12.828769683837834,
             50.45862197875988
            ],
            [
             12.705128669738826,
             50.39775848388672
            ],
            [
             12.615059852600211,
             50.41923141479509
            ],
            [
             12.51611328125,
             50.40008544921881
            ],
            [
             12.493091583252124,
             50.34915924072271
            ],
            [
             12.364088058471907,
             50.27642440795921
            ],
            [
             12.32758998870844,
             50.17972946167015
            ],
            [
             12.282715797424544,
             50.18267822265648
            ],
            [
             12.28441429138212,
             50.22743225097656
            ],
            [
             12.234164237976131,
             50.2532844543457
            ],
            [
             12.252929687500227,
             50.27569580078125
            ],
            [
             12.19488525390642,
             50.27911376953125
            ],
            [
             12.194091796874943,
             50.32287597656273
            ],
            [
             12.119680404663256,
             50.31275177001976
            ],
            [
             11.97589206695568,
             50.35607910156256
            ],
            [
             11.983886718750114,
             50.393493652343864
            ],
            [
             11.893327713012809,
             50.44530105590832
            ],
            [
             11.9581308364871,
             50.45672607421875
            ],
            [
             11.971313476562443,
             50.49029541015625
            ],
            [
             11.878723144531307,
             50.545829772949446
            ],
            [
             12.017918586731014,
             50.639160156250114
            ],
            [
             12.038880348205737,
             50.55749511718756
            ],
            [
             12.164672851562784,
             50.580078125
            ],
            [
             12.155091285705566,
             50.632080078125114
            ],
            [
             12.281126976013411,
             50.639709472656364
            ],
            [
             12.337478637695597,
             50.688091278076286
            ],
            [
             12.242568969726733,
             50.74710845947277
            ],
            [
             12.302859306335563,
             50.7832603454591
            ],
            [
             12.261869430542049,
             50.82387924194347
            ],
            [
             12.451549530029297,
             50.84682846069336
            ],
            [
             12.49414920806879,
             50.89741897583008
            ],
            [
             12.66631031036394,
             50.9273300170899
            ],
            [
             12.621550559997559,
             51.001781463623274
            ],
            [
             12.538580894470215,
             51.003211975097884
            ],
            [
             12.551210403442326,
             51.02873992919922
            ],
            [
             12.521319389343262,
             51.02188873291021
            ],
            [
             12.516628265381087,
             51.06608200073248
            ],
            [
             12.469669342041016,
             51.0888786315918
            ],
            [
             12.231939315795955,
             51.1139297485351
            ],
            [
             12.250238418579272,
             51.13209915161144
            ],
            [
             12.208699226379508,
             51.14356994628912
            ],
            [
             12.221497535705623,
             51.18386077880865
            ],
            [
             12.185659408569279,
             51.18424224853521
            ],
            [
             12.21623992919939,
             51.21699905395519
            ],
            [
             12.158598899841252,
             51.320590972900334
            ],
            [
             12.200760841369913,
             51.33118057250999
            ],
            [
             12.202850341796989,
             51.423191070556925
            ],
            [
             12.155740737915096,
             51.464221954345646
            ],
            [
             12.210309982299805,
             51.485752105713175
            ],
            [
             12.19916057586687,
             51.52273178100597
            ],
            [
             12.248349189758585,
             51.566440582275504
            ],
            [
             12.877999305725325,
             51.6726989746096
            ]
           ]
          ],
          "type": "Polygon"
         },
         "id": 13,
         "properties": {
          "id": "DE-SN",
          "name": "Sachsen",
          "type": "State"
         },
         "type": "Feature"
        },
        {
         "geometry": {
          "coordinates": [
           [
            [
             [
              11.069721221923885,
              54.53470230102539
             ],
             [
              11.23416805267334,
              54.5068054199221
             ],
             [
              11.31360912322998,
              54.402084350586165
             ],
             [
              11.11861133575485,
              54.40263748168957
             ],
             [
              11.094720840454215,
              54.445693969726506
             ],
             [
              11.00916671752924,
              54.44124984741211
             ],
             [
              11.017498970031795,
              54.49458312988281
             ],
             [
              11.069721221923885,
              54.53470230102539
             ]
            ]
           ],
           [
            [
             [
              8.407297932191142,
              55.043952286536616
             ],
             [
              8.442500114441316,
              55.0159721374514
             ],
             [
              8.353609085083065,
              54.96736145019548
             ],
             [
              8.366944313049373,
              54.90236282348644
             ],
             [
              8.429720878601472,
              54.87763977050787
             ],
             [
              8.812039375305233,
              54.9167366027832
             ],
             [
              9.224779129028263,
              54.85595321655296
             ],
             [
              9.282591819763581,
              54.80223464965832
             ],
             [
              9.408679962158317,
              54.841171264648665
             ],
             [
              9.435277938842944,
              54.788471221923885
             ],
             [
              9.613611221313533,
              54.87597274780296
             ],
             [
              9.603055953979947,
              54.83152770996105
             ],
             [
              9.791943550110034,
              54.797359466552734
             ],
             [
              9.843055725098111,
              54.756248474121094
             ],
             [
              9.905833244323787,
              54.76374816894554
             ],
             [
              9.907501220703182,
              54.797359466552734
             ],
             [
              9.955279350281216,
              54.780139923095646
             ],
             [
              10.034722328186092,
              54.67235946655285
             ],
             [
              9.983054161071891,
              54.701248168945426
             ],
             [
              9.93805503845249,
              54.67291641235363
             ],
             [
              9.933056831359806,
              54.627639770507926
             ],
             [
              9.770278930664062,
              54.580696105957145
             ],
             [
              9.720659987660682,
              54.528215634104676
             ],
             [
              9.74861145019537,
              54.54652786254883
             ],
             [
              9.93805503845249,
              54.62347412109409
             ],
             [
              9.948056221008358,
              54.67375183105497
             ],
             [
              10.034166336059798,
              54.66986083984375
             ],
             [
              10.02750015258789,
              54.55041503906267
             ],
             [
              9.840277671813965,
              54.46736145019537
             ],
             [
              9.868612289428654,
              54.44736099243164
             ],
             [
              10.127498626709041,
              54.48513793945324
             ],
             [
              10.199167251586971,
              54.45597076416027
             ],
             [
              10.168613433838061,
              54.434028625488395
             ],
             [
              10.19194412231468,
              54.389862060546875
             ],
             [
              10.148056983948038,
              54.369304656982365
             ],
             [
              10.13194561004633,
              54.311248779296875
             ],
             [
              10.18416786193859,
              54.327915191650334
             ],
             [
              10.178054809570483,
              54.3609733581543
             ],
             [
              10.228056907654036,
              54.413471221924055
             ],
             [
              10.318612098693961,
              54.43569564819336
             ],
             [
              10.603610992431925,
              54.3626403808596
             ],
             [
              10.704722404479924,
              54.304862976074276
             ],
             [
              10.788610458374421,
              54.31152725219761
             ],
             [
              10.928610801696777,
              54.381805419922046
             ],
             [
              11.128055572509766,
              54.39069366455084
             ],
             [
              11.058609962463436,
              54.35430526733421
             ],
             [
              11.093610763549862,
              54.19791793823265
             ],
             [
              10.879166603088493,
              54.088470458984375
             ],
             [
              10.804721832275561,
              54.0959739685058
             ],
             [
              10.75083446502731,
              54.0487518310548
             ],
             [
              10.786944389343603,
              53.99652862548862
             ],
             [
              10.878054618835733,
              53.9859733581543
             ],
             [
              10.887760162353572,
              53.92387008666998
             ],
             [
              10.963709831237907,
              53.9109992980957
             ],
             [
              10.901128768920898,
              53.90127944946289
             ],
             [
              10.87527942657465,
              53.92784118652338
             ],
             [
              10.767909049987793,
              53.88106918334961
             ],
             [
              10.744208335876522,
              53.840560913085994
             ],
             [
              10.757729530334643,
              53.75157928466808
             ],
             [
              10.946919441223201,
              53.67757034301758
             ],
             [
              10.923410415649471,
              53.58530044555687
             ],
             [
              10.823429107666016,
              53.58028030395525
             ],
             [
              10.824370384216593,
              53.51728057861334
             ],
             [
              10.639378547668628,
              53.465099334716854
             ],
             [
              10.621770858764933,
              53.39173889160173
             ],
             [
              10.579379081726188,
              53.369850158691634
             ],
             [
              10.31917858123785,
              53.44248962402344
             ],
             [
              10.336769104003906,
              53.460979461670036
             ],
             [
              10.168158531188965,
              53.53409194946289
             ],
             [
              10.159619331359977,
              53.589401245117415
             ],
             [
              10.21062183380127,
              53.593261718750114
             ],
             [
              10.196688652038802,
              53.62273025512707
             ],
             [
              10.228058815002612,
              53.63389205932617
             ],
             [
              10.143050193786905,
              53.688961029052734
             ],
             [
              10.198959350586222,
              53.72972106933611
             ],
             [
              10.179168701171818,
              53.74811935424805
             ],
             [
              10.084019660949934,
              53.729351043701286
             ],
             [
              10.07267856597906,
              53.68870925903332
             ],
             [
              10.002109527588061,
              53.69211959838873
             ],
             [
              9.990429878235147,
              53.6588592529298
             ],
             [
              9.906899452209473,
              53.662181854248104
             ],
             [
              9.825568199157715,
              53.595352172851676
             ],
             [
              9.760189056396769,
              53.639122009277514
             ],
             [
              9.72365856170694,
              53.56900024414068
             ],
             [
              9.67358016967819,
              53.57526016235363
             ],
             [
              9.547169685363883,
              53.62430953979509
             ],
             [
              9.50700855255127,
              53.70085144042997
             ],
             [
              9.28820991516119,
              53.86941146850586
             ],
             [
              8.950278282165698,
              53.90236282348644
             ],
             [
              8.819722175598258,
              54.02430725097702
             ],
             [
              8.964166641235408,
              54.035137176513615
             ],
             [
              8.985832214355867,
              54.0612487792971
             ],
             [
              8.927499771118164,
              54.131805419921875
             ],
             [
              8.85916709899908,
              54.12263870239269
             ],
             [
              8.807498931884709,
              54.1751403808596
             ],
             [
              8.83583259582565,
              54.251804351806584
             ],
             [
              8.903054237365723,
              54.26013946533203
             ],
             [
              8.951944351196346,
              54.31289291381836
             ],
             [
              8.861945152282658,
              54.26874923706066
             ],
             [
              8.843609809875659,
              54.28847122192383
             ],
             [
              8.846387863159237,
              54.26291656494186
             ],
             [
              8.823056221008699,
              54.29152679443405
             ],
             [
              8.64527702331543,
              54.272640228271484
             ],
             [
              8.579722404480094,
              54.30958175659191
             ],
             [
              8.604722023010254,
              54.358196258545036
             ],
             [
              8.685832023620605,
              54.35708236694347
             ],
             [
              8.60916614532465,
              54.38652801513683
             ],
             [
              8.86639022827194,
              54.404304504394474
             ],
             [
              9.02361106872604,
              54.4734725952149
             ],
             [
              8.981388092041072,
              54.52097320556669
             ],
             [
              8.908611297607763,
              54.4620819091798
             ],
             [
              8.806388854980526,
              54.47041702270508
             ],
             [
              8.805276870727596,
              54.49791717529308
             ],
             [
              8.871944427490348,
              54.528194427490405
             ],
             [
              8.890276908874853,
              54.59263992309582
             ],
             [
              8.81305599212692,
              54.59736251831083
             ],
             [
              8.84194374084501,
              54.61486053466808
             ],
             [
              8.822500228881836,
              54.64597320556658
             ],
             [
              8.687498092651424,
              54.72986221313499
             ],
             [
              8.693055152893066,
              54.76985931396507
             ],
             [
              8.590276718139762,
              54.885139465331974
             ],
             [
              8.416387557983569,
              54.847084045410384
             ],
             [
              8.310277938842887,
              54.874305725097656
             ],
             [
              8.332500457763729,
              54.86319351196312
             ],
             [
              8.300276756286621,
              54.850692749023665
             ],
             [
              8.298610687255973,
              54.742084503174055
             ],
             [
              8.279722213745174,
              54.75180435180687
             ],
             [
              8.298054695129508,
              54.909305572509766
             ],
             [
              8.407297932191142,
              55.043952286536616
             ]
            ],
            [
             [
              9.706966594730142,
              54.5192444921042
             ],
             [
              9.545277595520133,
              54.5093040466308
             ],
             [
              9.574166297912711,
              54.475139617920036
             ],
             [
              9.624165534973201,
              54.51152801513672
             ],
             [
              9.7147226333621,
              54.49124908447277
             ],
             [
              9.700277328491609,
              54.51486206054693
             ],
             [
              9.706966594730142,
              54.5192444921042
             ]
            ]
           ],
           [
            [
             [
              8.411785232872612,
              55.04948306636209
             ],
             [
              8.417499542236328,
              55.05652618408226
             ],
             [
              8.463055610656681,
              55.04569625854492
             ],
             [
              8.411785232872612,
              55.04948306636209
             ]
            ]
           ],
           [
            [
             [
              8.691945075988713,
              54.557083129882756
             ],
             [
              8.671944618225154,
              54.49458312988281
             ],
             [
              8.589166641235408,
              54.51180648803711
             ],
             [
              8.691945075988713,
              54.557083129882756
             ]
            ]
           ],
           [
            [
             [
              8.539723396301383,
              54.75569534301769
             ],
             [
              8.595276832580623,
              54.71958160400385
             ],
             [
              8.56694316864025,
              54.67986297607467
             ],
             [
              8.396944999694881,
              54.70569610595703
             ],
             [
              8.42138767242426,
              54.74319458007824
             ],
             [
              8.539723396301383,
              54.75569534301769
             ]
            ]
           ],
           [
            [
             [
              8.551387786865234,
              54.57958221435541
             ],
             [
              8.573056221008358,
              54.55875015258789
             ],
             [
              8.50916671752941,
              54.57402801513683
             ],
             [
              8.551387786865234,
              54.57958221435541
             ]
            ]
           ],
           [
            [
             [
              8.476387977600098,
              54.47652816772461
             ],
             [
              8.52583217620861,
              54.433471679687614
             ],
             [
              8.470277786254883,
              54.42180633544933
             ],
             [
              8.449723243713436,
              54.45264053344738
             ],
             [
              8.476387977600098,
              54.47652816772461
             ]
            ]
           ],
           [
            [
             [
              8.477500915527344,
              54.54624938964844
             ],
             [
              8.504722595214787,
              54.530971527099666
             ],
             [
              8.471943855285701,
              54.49597167968756
             ],
             [
              8.477500915527344,
              54.54624938964844
             ]
            ]
           ],
           [
            [
             [
              8.483055114746492,
              54.58458328247099
             ],
             [
              8.501387596130428,
              54.55819320678711
             ],
             [
              8.455277442932186,
              54.55875015258789
             ],
             [
              8.483055114746492,
              54.58458328247099
             ]
            ]
           ],
           [
            [
             [
              8.356944084167594,
              54.71152877807617
             ],
             [
              8.339165687561149,
              54.689304351807095
             ],
             [
              8.395278930664062,
              54.61208343505882
             ],
             [
              8.292498588561955,
              54.66708374023483
             ],
             [
              8.356944084167594,
              54.71152877807617
             ]
            ]
           ]
          ],
          "type": "MultiPolygon"
         },
         "id": 14,
         "properties": {
          "id": "DE-SH",
          "name": "Schleswig-Holstein",
          "type": "State"
         },
         "type": "Feature"
        },
        {
         "geometry": {
          "coordinates": [
           [
            [
             10.771890640258789,
             51.6449089050293
            ],
            [
             10.939500808715763,
             51.60713958740246
            ],
            [
             10.885531425476017,
             51.58076095581049
            ],
            [
             10.951048851013127,
             51.5361785888673
            ],
            [
             10.938948631286678,
             51.498771667480526
            ],
            [
             10.9746608734132,
             51.480289459228686
            ],
            [
             10.968518257141397,
             51.43177032470709
            ],
            [
             11.010198593139648,
             51.4282608032226
            ],
            [
             10.992289543151912,
             51.4169807434082
            ],
            [
             11.326239585876408,
             51.41061019897472
            ],
            [
             11.397780418396167,
             51.3845405578615
            ],
            [
             11.4032497406007,
             51.343761444091854
            ],
            [
             11.480478286743164,
             51.29914855957031
            ],
            [
             11.365938186645792,
             51.22121047973644
            ],
            [
             11.472960472106934,
             51.19165039062506
            ],
            [
             11.49051952362072,
             51.165691375732536
            ],
            [
             11.454468727111987,
             51.143348693847656
            ],
            [
             11.489728927612305,
             51.10256195068365
            ],
            [
             11.669088363647518,
             51.11370086669933
            ],
            [
             11.763569831848315,
             51.04325103759771
            ],
            [
             11.883781433105412,
             51.06132888793957
            ],
            [
             11.990778923034725,
             51.01663208007824
            ],
            [
             11.978389739990291,
             50.99827194213867
            ],
            [
             12.019789695739746,
             50.97230148315441
            ],
            [
             12.19341945648199,
             50.98212051391607
            ],
            [
             12.228428840637207,
             50.94509887695324
            ],
            [
             12.307490348816088,
             51.02495956420893
            ],
            [
             12.260259628296069,
             51.04384994506836
            ],
            [
             12.29712009429926,
             51.09484100341825
            ],
            [
             12.469669342041016,
             51.0888786315918
            ],
            [
             12.516628265381087,
             51.06608200073248
            ],
            [
             12.521319389343262,
             51.02188873291021
            ],
            [
             12.551210403442326,
             51.02873992919922
            ],
            [
             12.538580894470215,
             51.003211975097884
            ],
            [
             12.621550559997559,
             51.001781463623274
            ],
            [
             12.666169166565055,
             50.92364883422863
            ],
            [
             12.49414920806879,
             50.89741897583008
            ],
            [
             12.451549530029297,
             50.84682846069336
            ],
            [
             12.261869430542049,
             50.82387924194347
            ],
            [
             12.302859306335563,
             50.7832603454591
            ],
            [
             12.242568969726733,
             50.74710845947277
            ],
            [
             12.278558731079158,
             50.74695205688482
            ],
            [
             12.27758979797386,
             50.702899932861555
            ],
            [
             12.330454826355037,
             50.673278808593864
            ],
            [
             12.281126976013411,
             50.639709472656364
            ],
            [
             12.209620475768986,
             50.646999359130916
            ],
            [
             12.202428817749137,
             50.620948791503906
            ],
            [
             12.161071777343864,
             50.63568115234398
            ],
            [
             12.147343635559082,
             50.58736038208019
            ],
            [
             12.170899391174316,
             50.583679199218864
            ],
            [
             12.06268405914318,
             50.55749511718756
            ],
            [
             12.027527809143123,
             50.56848144531267
            ],
            [
             12.029620170593262,
             50.6317520141601
            ],
            [
             11.987914085388354,
             50.627929687500114
            ],
            [
             11.932495117187727,
             50.56091308593773
            ],
            [
             11.878723144531307,
             50.545829772949446
            ],
            [
             11.97113132476818,
             50.48651123046898
            ],
            [
             11.94750976562517,
             50.48272705078131
            ],
            [
             11.9581308364871,
             50.45672607421875
            ],
            [
             11.893327713012809,
             50.44530105590832
            ],
            [
             11.933539390563908,
             50.43050003051758
            ],
            [
             11.868338584899902,
             50.40420913696312
            ],
            [
             11.821249961853027,
             50.392898559570426
            ],
            [
             11.781168937683162,
             50.42263031005882
            ],
            [
             11.522049903869856,
             50.37353897094738
            ],
            [
             11.481788635254134,
             50.433021545410156
            ],
            [
             11.446418762206974,
             50.421760559081974
            ],
            [
             11.41750812530546,
             50.45145034790039
            ],
            [
             11.430090904235897,
             50.51472091674833
            ],
            [
             11.348060607910156,
             50.521869659423885
            ],
            [
             11.324259757995776,
             50.48833084106468
            ],
            [
             11.248118400573674,
             50.476890563964844
            ],
            [
             11.281947135925293,
             50.365509033203125
            ],
            [
             11.251668930053711,
             50.26519012451172
            ],
            [
             11.14237976074213,
             50.287109375
            ],
            [
             11.159410476684513,
             50.32794189453125
            ],
            [
             11.113239288330135,
             50.36489868164091
            ],
            [
             11.04424953460699,
             50.34238052368164
            ],
            [
             10.9981107711792,
             50.36447906494152
            ],
            [
             10.99833011627203,
             50.342250823974666
            ],
            [
             10.940460205078125,
             50.39025115966808
            ],
            [
             10.877280235290527,
             50.393779754638786
            ],
            [
             10.71665954589838,
             50.352661132812614
            ],
            [
             10.728790283203182,
             50.315509796142635
            ],
            [
             10.84955883026123,
             50.27127075195307
            ],
            [
             10.84965038299572,
             50.24151992797874
            ],
            [
             10.734558105469034,
             50.248352050781364
            ],
            [
             10.728810310363713,
             50.19984054565424
            ],
            [
             10.617910385132063,
             50.221820831299
            ],
            [
             10.605488777160872,
             50.330242156982536
            ],
            [
             10.493670463562239,
             50.35243988037132
            ],
            [
             10.458058357238826,
             50.40090942382824
            ],
            [
             10.39352035522461,
             50.39334106445307
            ],
            [
             10.405019760131836,
             50.4232292175293
            ],
            [
             10.333989143371525,
             50.49404907226557
            ],
            [
             10.127880096435604,
             50.56501007080078
            ],
            [
             10.03975868225126,
             50.51588058471674
            ],
            [
             10.063029289245662,
             50.557312011718864
            ],
            [
             10.038170814514217,
             50.613960266113395
            ],
            [
             10.086329460144157,
             50.621219635009936
            ],
            [
             10.048980712890852,
             50.67726135253929
            ],
            [
             9.951470375060978,
             50.670921325683594
            ],
            [
             9.946098327636662,
             50.630100250244254
            ],
            [
             9.873108863830566,
             50.64184188842779
            ],
            [
             9.938960075378418,
             50.73741912841791
            ],
            [
             9.920918464660645,
             50.76319885253906
            ],
            [
             9.956660270690861,
             50.781711578369254
            ],
            [
             9.950229644775561,
             50.82239913940424
            ],
            [
             10.021959304809798,
             50.833309173583984
            ],
            [
             10.021409988403377,
             50.86668014526367
            ],
            [
             10.062939643859806,
             50.88500213623058
            ],
            [
             10.014529228210677,
             50.92232131958036
            ],
            [
             9.97887897491455,
             50.90760040283203
            ],
            [
             9.99036979675293,
             50.937240600585994
            ],
            [
             9.948748588562069,
             50.92615890502924
            ],
            [
             9.94838905334501,
             50.9484214782716
            ],
            [
             10.06787014007574,
             50.948028564453125
            ],
            [
             10.019538879394474,
             50.9816589355471
            ],
            [
             10.04291820526123,
             51.01494216918968
            ],
            [
             10.203859329223803,
             51.00291061401373
            ],
            [
             10.20329856872587,
             51.043708801269645
            ],
            [
             10.149688720703352,
             51.055130004882926
            ],
            [
             10.178549766540641,
             51.11801147460943
            ],
            [
             10.12471866607666,
             51.14057159423834
            ],
            [
             10.172169685363826,
             51.151420593261946
            ],
            [
             10.214177131652946,
             51.11780929565441
            ],
            [
             10.237089157104606,
             51.18072891235363
            ],
            [
             10.075889587402571,
             51.226181030273665
            ],
            [
             10.05734062194847,
             51.278251647949446
            ],
            [
             9.97350883483881,
             51.28619003295904
            ],
            [
             9.924859046936092,
             51.37184143066406
            ],
            [
             10.054610252380314,
             51.4380989074707
            ],
            [
             10.161690711975098,
             51.42998886108421
            ],
            [
             10.143619537353686,
             51.44128036499035
            ],
            [
             10.19617938995367,
             51.48188018798828
            ],
            [
             10.302998542785701,
             51.49230194091808
            ],
            [
             10.36752033233654,
             51.53662109375
            ],
            [
             10.37830924987793,
             51.58518981933605
            ],
            [
             10.659000396728686,
             51.55340194702171
            ],
            [
             10.639940261841048,
             51.61925888061535
            ],
            [
             10.771890640258789,
             51.6449089050293
            ]
           ]
          ],
          "type": "Polygon"
         },
         "id": 15,
         "properties": {
          "id": "DE-TH",
          "name": "Thüringen",
          "type": "State"
         },
         "type": "Feature"
        }
       ],
       "type": "FeatureCollection"
      },
      "text/plain": [
       "<IPython.core.display.JSON object>"
      ]
     },
     "execution_count": 7,
     "metadata": {
      "application/json": {
       "expanded": false,
       "root": "root"
      }
     },
     "output_type": "execute_result"
    }
   ],
   "source": [
    "# ... 这里需要您编写 - 任务 6 的代码 ...\n",
    "\n",
    "# 导入解析 JSON 数据结构的工具包\n",
    "import json5\n",
    "# 导入在 Notebook 中分层展示 JSON 数据的工具包\n",
    "from IPython.display import JSON\n",
    "\n",
    "# 使用 Python 中内嵌的 open 函数读取 .json 文件\n",
    "germany_geo_json = None\n",
    "with open(\n",
    "    # 德国州界的 JSON 数据集的文件路径\n",
    "    '/data/course_data/visualization/4_niedrig.geo.json', \n",
    "    mode='r') as fp:\n",
    "    # 使用 json5 工具包对文件数据进行解析，\n",
    "    # 并将解析结果存储在 germany_geo_json 变量中\n",
    "    germany_geo_json = json5.load(fp)\n",
    "\n",
    "# 数据集中一共有多少个州的州界数据呢？\n",
    "num_of_states_in_geo_json =  len(germany_geo_json['features'])\n",
    "print(num_of_states_in_geo_json)    \n",
    "\n",
    "JSON(germany_geo_json)"
   ]
  },
  {
   "cell_type": "markdown",
   "metadata": {
    "kkbSpbl": {
     "taskId": "1eb9d6ba-12c5-47ca-9fc7-a828821e4124",
     "taskNum": 7
    }
   },
   "source": [
    "## 7. 绘制包含州界的德国地图\n",
    "\n",
    "任务 6 中，我们初步接触到了 GeoJSON 这种数据结构，并且对这种数据结构进行了探索。GeoJSON 是一个树形的展开结构，我们在这个任务中来学习如何使用 Bokeh 把 GeoJSON 的数据可视化呈现出来。\n",
    "\n",
    "**主要任务：**\n",
    "\n",
    "- 直接运行脚本，绘制填充为白颜色的德国地图；\n",
    "- 修改 `fill_color` 的值，改变填充颜色，再次运行脚本。"
   ]
  },
  {
   "cell_type": "code",
   "execution_count": null,
   "metadata": {
    "kkbSpbl": {
     "cellId": "mBiqpPP2KKDtcOXNDJB",
     "taskId": "1b511335-ea75-4de6-bc17-fc4dc3cc71ec",
     "taskNum": 7
    }
   },
   "outputs": [],
   "source": [
    "# ... 这里需要您编写 - 任务 7 的代码 ...\n",
    "\n",
    "# 导入用于进行列表计算的 numpy 包，\n",
    "# 操作多边形的坐标数据，对 x, y 坐标进行转换以适应工具包对数据的要求\n",
    "import numpy as np\n",
    "\n",
    "# plot_map_polygon 用于绘制一个多边形 \n",
    "# p: 绘图对象\n",
    "# polygon: 多边形的 geojson 数据\n",
    "# fill_color: 多边形填充颜色\n",
    "# fill_alpha: 多边形填充的透明度\n",
    "def plot_map_polygon(p, polygon, fill_color, fill_alpha, line_width):\n",
    "\n",
    "    # 绘制一个没有 “窟窿” 的多边形\n",
    "    if len(polygon) == 1:\n",
    "        geo_data = np.array(polygon).T\n",
    "        p.patches(\n",
    "            geo_data[0].reshape(1, -1).tolist(), \n",
    "            geo_data[1].reshape(1, -1).tolist(),\n",
    "            fill_color = fill_color, fill_alpha = fill_alpha, \n",
    "            line_color = 'black', line_width = line_width\n",
    "        )\n",
    "\n",
    "    # 绘制有 “窟窿” 的多边形\n",
    "    else:\n",
    "        geo_data = [np.array(polygon_part).T for polygon_part in polygon]\n",
    "        p.multi_polygons(\n",
    "            [[[polygon_part.tolist()[0] for polygon_part in geo_data]]],\n",
    "            [[[polygon_part.tolist()[1] for polygon_part in geo_data]]],\n",
    "            fill_color = fill_color, fill_alpha = fill_alpha, \n",
    "            line_color = 'black', line_width = line_width\n",
    "        )\n",
    "\n",
    "# 创建名为 map_plot_germany 的绘图对象\n",
    "map_plot_germany = figure(\n",
    "    frame_width = 400, sizing_mode = 'scale_both'\n",
    ")\n",
    "\n",
    "# 循环 germany_geo_json 中每一个德国州的地理数据\n",
    "for feature in germany_geo_json['features']:\n",
    "    \n",
    "    # 地理边界的集合类型，'MultiPolygon' 或 'Polygon'\n",
    "    geometry_type = feature['geometry']['type']\n",
    "    \n",
    "    # 设置：绘制地图的填充属性，fill_color 为填充颜色，fill_alpha 为填充透明度\n",
    "    fill_color = 'white'\n",
    "    fill_alpha = 0.5\n",
    "    \n",
    "    # 如果是多个多边形\n",
    "    if geometry_type == 'MultiPolygon':        \n",
    "        for polygon in feature['geometry']['coordinates']:\n",
    "            plot_map_polygon(\n",
    "                p = map_plot_germany, \n",
    "                polygon = polygon, \n",
    "                fill_color = fill_color, fill_alpha = fill_alpha,\n",
    "                line_width = 0.6\n",
    "            )\n",
    "\n",
    "    # 如果是一个多边形\n",
    "    if geometry_type == 'Polygon':\n",
    "        polygon = feature['geometry']['coordinates']\n",
    "        plot_map_polygon(\n",
    "            p = map_plot_germany, \n",
    "            polygon = polygon, \n",
    "            fill_color = fill_color, fill_alpha = fill_alpha,\n",
    "            line_width = 0.6\n",
    "        )\n",
    "\n",
    "# 展示绘制好的德国地图\n",
    "show(map_plot_germany)"
   ]
  },
  {
   "cell_type": "markdown",
   "metadata": {
    "kkbSpbl": {
     "taskId": "d02b38fd-13a2-44d0-90e4-033588031cd0",
     "taskNum": 8
    }
   },
   "source": [
    "## 8. 德国各个政党在各州的权力分配是怎样的？\n",
    "\n",
    "这个任务，我们就是将任务 7 中绘制地图的功能进行进一步的应用，应用到绘制更为复杂的地图可视化场景，主要的思路是这样的：\n",
    "\n",
    "- 为每个政党 P 绘制一张德国地图 M；\n",
    "- 在绘制每一个政党的地图时，循环绘制每个州 S；\n",
    "- 如果 P 是 S 的执政党，则把 S 的颜色设置为 P 的颜色；\n",
    "- S 的透明图根据 P 在执政联盟中的顺位决定，第一顺位“不透明”，第二顺位“60%不透明”，第三顺位“20%不透明”。\n",
    "\n",
    "**主要任务：**\n",
    "\n",
    "- 执行脚本，得到按照党派绘制的地图；\n",
    "- 取消对坐标轴进行详细设置的脚本，再次运行脚本，查看信息更加明确的坐标轴。"
   ]
  },
  {
   "cell_type": "code",
   "execution_count": 8,
   "metadata": {
    "kkbSpbl": {
     "cellId": "CLscJiBfbwdasCTZceb",
     "taskId": "19bf0d42-b45c-4751-973a-ff4b1a8cded0",
     "taskNum": 8
    }
   },
   "outputs": [
    {
     "ename": "NameError",
     "evalue": "name 'plot_map_polygon' is not defined",
     "output_type": "error",
     "traceback": [
      "\u001b[0;31m---------------------------------------------------------------------------\u001b[0m",
      "\u001b[0;31mNameError\u001b[0m                                 Traceback (most recent call last)",
      "\u001b[0;32m<ipython-input-8-1ebb69abc8f1>\u001b[0m in \u001b[0;36m<module>\u001b[0;34m\u001b[0m\n\u001b[1;32m     75\u001b[0m         \u001b[0;32mif\u001b[0m \u001b[0mgeometry_type\u001b[0m \u001b[0;34m==\u001b[0m \u001b[0;34m'Polygon'\u001b[0m\u001b[0;34m:\u001b[0m\u001b[0;34m\u001b[0m\u001b[0;34m\u001b[0m\u001b[0m\n\u001b[1;32m     76\u001b[0m             \u001b[0mpolygon\u001b[0m \u001b[0;34m=\u001b[0m \u001b[0mgeo_source\u001b[0m\u001b[0;34m[\u001b[0m\u001b[0;34m'geometry'\u001b[0m\u001b[0;34m]\u001b[0m\u001b[0;34m[\u001b[0m\u001b[0;34m'coordinates'\u001b[0m\u001b[0;34m]\u001b[0m\u001b[0;34m\u001b[0m\u001b[0;34m\u001b[0m\u001b[0m\n\u001b[0;32m---> 77\u001b[0;31m             \u001b[0mplot_map_polygon\u001b[0m\u001b[0;34m(\u001b[0m\u001b[0mp\u001b[0m\u001b[0;34m,\u001b[0m \u001b[0mpolygon\u001b[0m\u001b[0;34m,\u001b[0m \u001b[0mfill_color\u001b[0m\u001b[0;34m,\u001b[0m \u001b[0mfill_alpha\u001b[0m\u001b[0;34m,\u001b[0m \u001b[0mline_width\u001b[0m\u001b[0;34m)\u001b[0m\u001b[0;34m\u001b[0m\u001b[0;34m\u001b[0m\u001b[0m\n\u001b[0m\u001b[1;32m     78\u001b[0m \u001b[0;34m\u001b[0m\u001b[0m\n\u001b[1;32m     79\u001b[0m         \u001b[0mp\u001b[0m\u001b[0;34m.\u001b[0m\u001b[0mtitle\u001b[0m\u001b[0;34m.\u001b[0m\u001b[0mtext_font_size\u001b[0m \u001b[0;34m=\u001b[0m \u001b[0;34m'14pt'\u001b[0m\u001b[0;34m\u001b[0m\u001b[0;34m\u001b[0m\u001b[0m\n",
      "\u001b[0;31mNameError\u001b[0m: name 'plot_map_polygon' is not defined"
     ]
    }
   ],
   "source": [
    "# ... 这里需要您编写 - 任务 8 的代码 ...\n",
    "\n",
    "# parties 中存储了所有的政党\n",
    "parties = df_germany_party.index\n",
    "# 每行绘制 3 列\n",
    "num_of_columns = 3\n",
    "# 存储每个政党的绘图列表\n",
    "plots = []\n",
    "# 开始循环政党进行绘制，每个政党绘制一个德国地图\n",
    "for i, party in enumerate(parties):\n",
    "\n",
    "    # 作为第一支政党的州有哪些\n",
    "    primary_states = df_germany_federal_concil.loc[\n",
    "        df_germany_federal_concil['Primary party'] == party, 'State abbr'\n",
    "    ].values\n",
    "    # 作为第二支政党的州有哪些\n",
    "    secondary_states = df_germany_federal_concil.loc[\n",
    "        df_germany_federal_concil['Secondary party'] == party, 'State abbr'\n",
    "    ].values\n",
    "    # 作为第三支政党的州有哪些\n",
    "    tertiary_states = df_germany_federal_concil.loc[\n",
    "        df_germany_federal_concil['Tertiary party'] == party, 'State abbr'\n",
    "    ].values\n",
    "\n",
    "    # 从 df_germany_party 中查找当前政党 party 的颜色\n",
    "    party_color = df_germany_party.loc[\n",
    "        df_germany_party.index == party, 'Color'\n",
    "    ]\n",
    "\n",
    "    # 创建绘图对象\n",
    "    p = figure(\n",
    "        title = party, toolbar_location = None,\n",
    "        frame_width = 150, frame_height =180, \n",
    "    )\n",
    "    # 循环德国的每一个州进行地图绘制\n",
    "    for abbr in df_germany_federal_concil['State abbr'].unique():\n",
    "\n",
    "        # 从 germany_geo_json 中找到当前州缩写 abbr 所对应的地图数据\n",
    "        geo_source = [feature \n",
    "                      for feature in germany_geo_json['features'] \n",
    "                      if feature['properties']['id'] == abbr\n",
    "                     ][0]\n",
    "\n",
    "        # 设置州的边界的线条宽度为 0.1\n",
    "        line_width = 0.1\n",
    "        \n",
    "        # 如果当前 party 是当前 abbr 州的第一执政党，\n",
    "        # 把颜色设置为政党颜色 party_color，透明度设置为 1.0（不透明）\n",
    "        if abbr in primary_states:\n",
    "            fill_color = party_color[0]\n",
    "            fill_alpha = 1.0\n",
    "        # 如果当前 party 是当前 abbr 州的第二执政党，\n",
    "        # 把颜色设置为政党颜色 party_color，透明度设置为 0.6（不透明）\n",
    "        elif abbr in secondary_states:\n",
    "            fill_color = party_color[0]\n",
    "            fill_alpha = 0.6\n",
    "        # 如果当前 party 是当前 abbr 州的第三执政党，\n",
    "        # 把颜色设置为政党颜色 party_color，透明度设置为 0.2（不透明）\n",
    "        elif abbr in tertiary_states:\n",
    "            fill_color = party_color[0]\n",
    "            fill_alpha = 0.2\n",
    "        # 如果当前 party 不是是当前 abbr 州的执政党，\n",
    "        # 把颜色设置为 'white'，透明度设置为 1.0（不透明）\n",
    "        else:\n",
    "            fill_color = 'white'\n",
    "            fill_alpha = 1.0\n",
    "        \n",
    "        # 获取地图数据的类型 geometry_type\n",
    "        geometry_type = geo_source['geometry']['type']\n",
    "        # 如果是多个多边形\n",
    "        if geometry_type == 'MultiPolygon':\n",
    "            for polygon in geo_source['geometry']['coordinates']:\n",
    "                plot_map_polygon(p, polygon, fill_color, fill_alpha, line_width)\n",
    "        # 如果是单个多边形\n",
    "        if geometry_type == 'Polygon':\n",
    "            polygon = geo_source['geometry']['coordinates']\n",
    "            plot_map_polygon(p, polygon, fill_color, fill_alpha, line_width)\n",
    "            \n",
    "        p.title.text_font_size = '14pt'\n",
    "        p.axis.axis_label_text_font_size = '14pt'\n",
    "        p.axis.major_label_text_font_size = '12pt'\n",
    "        p.outline_line_color = 'dimgrey'\n",
    "        p.min_border = 3\n",
    "        \n",
    "        # 在坐标州上标记更明确的信息，“经纬度” - y 轴北纬，x 轴东经\n",
    "        # p.xaxis.major_label_overrides = {\n",
    "        #     6: '6°E',\n",
    "        #     8: '8°',\n",
    "        #     10: '10°',\n",
    "        #     12: '12°',\n",
    "        #     14: '14°'\n",
    "        # }\n",
    "        # p.yaxis.major_label_overrides = {\n",
    "        #     48: '48°N',\n",
    "        #     50: '50°',\n",
    "        #     52: '52°',\n",
    "        #     54: '54°'\n",
    "        # }\n",
    "\n",
    "    # 不是第一列，将 y 坐标轴隐藏\n",
    "    if i % num_of_columns != 0: \n",
    "        p.yaxis.visible = False\n",
    "    # 是第一列，将坐标轴的宽度设置为 100 像素\n",
    "    else:\n",
    "        p.min_border_left = 40\n",
    "\n",
    "    # 不是倒数的 3 个，将 x 坐标轴隐藏\n",
    "    if i < len(parties) - num_of_columns:\n",
    "        p.xaxis.visible = False\n",
    "\n",
    "    # 最后一行，将最后几个绘图向上移动进行对齐\n",
    "    if i > len(parties) // num_of_columns * num_of_columns - 1:\n",
    "        p.margin = (\n",
    "            -12 * 2 - p.xaxis.major_tick_out, 0, \n",
    "            0, 0\n",
    "        )\n",
    "        \n",
    "    # 将所有绘图添加至绘图列表        \n",
    "    plots.append(p)    \n",
    "\n",
    "# 将 plots 中所有的绘图调整为绘图矩阵\n",
    "map_plot_by_party = gridplot(\n",
    "    plots, \n",
    "    ncols = num_of_columns, \n",
    "    toolbar_location = None)\n",
    "show(map_plot_by_party)"
   ]
  },
  {
   "cell_type": "markdown",
   "metadata": {
    "kkbSpbl": {
     "taskId": "177952d9-c5ee-4223-8e92-d87878176ed5",
     "taskNum": 9
    }
   },
   "source": [
    "## 9. 增加交互，制作数据看板\n",
    "\n",
    "这个项目比较长，也是这个课程的最后一个项目，希望大家在到达这一步的时候已经收获了许多知识。这一步我们把前面八个任务中绘制出来的三个绘图组装在一起，形成一个可交互的数据看板。\n",
    "\n",
    "在前面 8 个任务中，我们绘制的主要绘图存储在这些变量中：\n",
    "\n",
    "- `bar_plot_by_coalition`：按照政党联盟绘制条形图，查看席位的分配；\n",
    "- `bar_plot_by_party`：按照政党绘制条形图，查看席位的分配；\n",
    "- `map_plot_by_party`：按照政党绘制地图，查看政党在州政府的权力划分。\n",
    "\n",
    "**主要任务：**\n",
    "\n",
    "- 整合与交互。"
   ]
  },
  {
   "cell_type": "code",
   "execution_count": null,
   "metadata": {
    "kkbSpbl": {
     "cellId": "icsJpY0EbKHZSBGMKno",
     "taskId": "7d115e61-51d1-4194-a474-33fa2ac8c1ed",
     "taskNum": 9
    }
   },
   "outputs": [],
   "source": [
    "# ... 这里需要您编写 - 任务 9 的代码 ...\n",
    "\n",
    "# 导入一个用于网页交互的库\n",
    "from ipywidgets import widgets\n",
    "\n",
    "# 设置选项卡的名称，并创建选项卡对象\n",
    "tab_contents = [\n",
    "    '按联盟绘制条形图',\n",
    "    '按政党绘制条形图',\n",
    "    '按政党绘制地图'\n",
    "]\n",
    "tab = widgets.Tab()\n",
    "for i, _c in enumerate(tab_contents):\n",
    "    tab.set_title(i, _c)\n",
    "\n",
    "# 创建输入输出对象\n",
    "out_by_coalition_bar = widgets.Output()\n",
    "out_by_party_bar = widgets.Output()\n",
    "out_by_party_map = widgets.Output()\n",
    "\n",
    "# 把上面生成的三个 widgets.Output() 对象设置为选项卡对象 tab 的孩子\n",
    "# 这使得，每个选项卡都对应一个 widgets.Output() 对象\n",
    "tab.children = [\n",
    "    out_by_coalition_bar, \n",
    "    out_by_party_bar, \n",
    "    out_by_party_map\n",
    "]\n",
    "\n",
    "# 设置 tab 的宽度\n",
    "tab.layout = {'width': '600px'}\n",
    "\n",
    "# 展示 tab\n",
    "display(tab)\n",
    "\n",
    "# 以 out_by_coalition_bar 为输出目标显示 bar_plot_by_coalition\n",
    "with out_by_coalition_bar:\n",
    "    show(bar_plot_by_coalition)\n",
    "\n",
    "# 以 out_by_party_bar 为输出目标显示 bar_plot_by_party\n",
    "with out_by_party_bar:\n",
    "    show(bar_plot_by_party)\n",
    "\n",
    "# 以 out_by_party_map 为输出目标显示 map_plot_by_party\n",
    "with out_by_party_map:\n",
    "    show(map_plot_by_party)"
   ]
  }
 ],
 "metadata": {
  "kernelspec": {
   "display_name": "Python 3",
   "language": "python",
   "name": "python3"
  },
  "language_info": {
   "codemirror_mode": {
    "name": "ipython",
    "version": 3
   },
   "file_extension": ".py",
   "mimetype": "text/x-python",
   "name": "python",
   "nbconvert_exporter": "python",
   "pygments_lexer": "ipython3",
   "version": "3.7.6"
  }
 },
 "nbformat": 4,
 "nbformat_minor": 4
}
