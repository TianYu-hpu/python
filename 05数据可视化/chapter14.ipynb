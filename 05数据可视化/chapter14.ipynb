{
 "cells": [
  {
   "cell_type": "markdown",
   "metadata": {},
   "source": [
    "# 极坐标轴\n",
    "## ⽤饼图（Pie Plot）讲故事\n",
    "\n",
    "【案例】：饼图（Pie Plot），饮酒的多少\n",
    "\n",
    "饼图（Pie Chart）是一种非常流行的绘图形式，但通常难以诠释。原因是，数据绘图通常需要达成的目标是实现数据之间的对比。\n",
    "\n",
    "饼图本质上只是将条形图的 x 轴转换为极坐标系的一种绘图方式，与长度相比，人类在准确感知角度时通常会更糟。\n",
    "\n",
    "继续上一章中的苏格兰威士忌（Scotch Whisky）数据集之后，我们来研究来自英国健康调查的另一个数据集。\n",
    "\n",
    "这次的数据集是关于 16 岁及以上的英国男性的饮酒情况的，饼图扇区的角度和条形图的柱子高度代表响应者的百分比。\n",
    "\n",
    "运行下面的脚本，在“选择坐标系”下拉菜单中，选择不同的坐标系绘图方式，并观察绘图中的数据面板，准备回答一些有趣的问题。"
   ]
  },
  {
   "cell_type": "code",
   "execution_count": null,
   "metadata": {},
   "outputs": [],
   "source": [
    "import sys\n",
    "sys.path.append('/data/course_data/visualization')\n",
    "from dvfe_04_01 import interact_adult_alcohol_consumption_app\n",
    "interact_adult_alcohol_consumption_app()"
   ]
  },
  {
   "cell_type": "markdown",
   "metadata": {},
   "source": [
    "数据集合可以通过下面的脚本获得，如果对数据集感兴趣的话，可以进一步探索。"
   ]
  },
  {
   "cell_type": "code",
   "execution_count": null,
   "metadata": {},
   "outputs": [],
   "source": [
    "import pandas as pd\n",
    "\n",
    "df_adult_alcohol = pd.read_excel('./data/course_data/visualization/HSE18-Adult-Health-Related-Behaviours-tab-v2.xlsx', sheet_name=12)\n",
    "# 修改列名\n",
    "df_adult_alcohol.columns = ['酒精饮品消耗量（次/周）', '16-24', '25-34', '35-44', '45-54', '55-64', '65-74', '75+', 'Total', 'None']\n",
    "# 删除最右侧两个列\n",
    "df_adult_alcohol.drop(columns=['Total', 'None'], inplace=True)\n",
    "# 筛选男性数据\n",
    "df_adult_alcohol = df_adult_alcohol.loc[5:8]\n",
    "# 修改区间名称\n",
    "df_adult_alcohol['酒精饮品消耗量（次/周）'] = ['无', '不超过 14 次', '14 ～ 35 次', '高于 35 次']\n",
    "# 打印数据集\n",
    "df_adult_alcohol"
   ]
  },
  {
   "cell_type": "markdown",
   "metadata": {},
   "source": [
    "选择题\n",
    "根据案例中的绘图，下面选项中哪一个表述是正确的？  \n",
    "A. 只有 75 岁以上的年龄段的非饮酒者比每周喝 14～35 个单位的人更多。  \n",
    "B. 有三个年龄段的人在每周饮酒 14～35 个单位上超过 30% 的比例。  \n",
    "C. 所有年龄段的非饮酒者均少于 20％ 的比例。  \n",
    "D. 所有年龄段的人群中，至少有 50％ 的人每周喝酒不超过 14 个单位。  \n",
    "\n",
    "不好意思，你答错了，正确答案是：D。  \n",
    "\n",
    "判断表述是否正确的过程中，我们会发现查看笛卡尔坐标系（Cartesian）会更容易找到答案。  \n",
    "\n",
    "在判断每一个表述的时候，我们通常会查看柱形在 y 轴上对应的刻度数值。  \n",
    "⽤玫瑰直⽅图（Rose Plot）讲故事  \n",
    "\n",
    "【案例】：玫瑰花图（Rose Plot），自然界的风向  \n",
    "\n",
    "极坐标有一个很好的用例，就是数据所表示的事物在自然界中是圆的。  \n",
    "\n",
    "例如，当数据表示罗盘的方向时，我们用极坐标绘制直方图就会得到玫瑰花图（Rose Plot）。  \n",
    "\n",
    "这个案例中，我们将查看气象桅杆的风向数据图。知道主要的风向对天气建模，和确定在哪里放置风力涡轮发电机很有价值。  \n",
    "\n",
    "数据集中包含了 8 个月的自然风测量数据，数据每隔10 分钟的间隔采集一次。数据来源：bReeze  \n",
    "\n",
    "案例中，我们采用了数据集中的 dir1_40m_avg 字段，表示 40 高空的平均风向，风向是北方（North）的夹角。  \n",
    "\n",
    "运行下面的脚本，查看直方图和玫瑰图，然后确定哪个表述是正确的。  "
   ]
  },
  {
   "cell_type": "code",
   "execution_count": null,
   "metadata": {},
   "outputs": [],
   "source": [
    "import sys\n",
    "sys.path.append('/data/course_data/visualization')\n",
    "from dvfe_04_02 import interact_wind_data_app\n",
    "interact_wind_data_app()"
   ]
  },
  {
   "cell_type": "markdown",
   "metadata": {},
   "source": [
    "数据来源自这里"
   ]
  },
  {
   "cell_type": "code",
   "execution_count": 2,
   "metadata": {},
   "outputs": [
    {
     "name": "stdout",
     "output_type": "stream",
     "text": [
      "<class 'pandas.core.frame.DataFrame'>\n",
      "RangeIndex: 16199 entries, 0 to 16198\n",
      "Data columns (total 18 columns):\n",
      " #   Column         Non-Null Count  Dtype  \n",
      "---  ------         --------------  -----  \n",
      " 0   Unnamed: 0     16199 non-null  int64  \n",
      " 1    date_time     16199 non-null  object \n",
      " 2    v1_40m_avg    16199 non-null  float64\n",
      " 3    v1_40m_max    16199 non-null  float64\n",
      " 4    v1_40m_min    16199 non-null  float64\n",
      " 5    v1_40m_std    16199 non-null  float64\n",
      " 6    v2_30m_avg    16199 non-null  float64\n",
      " 7    v2_30m_max    16199 non-null  float64\n",
      " 8    v2_30m_min    16199 non-null  float64\n",
      " 9    v2_30m_std    16199 non-null  float64\n",
      " 10   v3_20m_avg    16199 non-null  float64\n",
      " 11   v3_20m_max    16199 non-null  float64\n",
      " 12   v3_20m_min    16199 non-null  float64\n",
      " 13   v3_20m_std    16199 non-null  float64\n",
      " 14   dir1_40m_avg  16199 non-null  float64\n",
      " 15   dir1_40m_std  16199 non-null  float64\n",
      " 16   dir2_30m_avg  16199 non-null  float64\n",
      " 17   dir2_30m_std  16199 non-null  float64\n",
      "dtypes: float64(16), int64(1), object(1)\n",
      "memory usage: 2.2+ MB\n"
     ]
    }
   ],
   "source": [
    "import pandas as pd\n",
    "df_wind = pd.read_csv('./data/course_data/visualization/wind_data.csv')\n",
    "df_wind.info()"
   ]
  },
  {
   "cell_type": "markdown",
   "metadata": {},
   "source": [
    "数据字典：\n",
    "  ✭ date_time：观察日期和时间作为字符向量。  \n",
    "  ✭ v1_40m_avg：在 40m 的高度以 m/s 为单位的平均风速。  \n",
    "  ✭ v1_40m_max：在 40m 的高度以 m/s 为单位的最大风速。  \n",
    "  ✭ v1_40m_min：在 40m 的高度以 m/s 为单位的最小风速。  \n",
    "  ✭ v1_40m_std：在 40m 的高度以 m/s 为单位的风速标准偏差。  \n",
    "  ✭ v2_30m_avg：在 30m 的高度以 m/s 为单位的平均风速。  \n",
    "  ✭ v2_30m_max：在 30m 的高度以 m/s 为单位的最大风速。  \n",
    "  ✭ v2_30m_min：在 30m 的高度以 m/s 为单位的最小风速。  \n",
    "  ✭ v2_30m_std：在 30m 的高度以 m/s 为单位的风速标准偏差。  \n",
    "  ✭ v3_20m_avg：在 20m 的高度以 m/s 为单位的平均风速。  \n",
    "  ✭ v3_20m_max：在 20m 的高度以 m/s 为单位的最大风速。  \n",
    "  ✭ v3_20m_min：在 20m 的高度以 m/s 为单位的最小风速。  \n",
    "  ✭ v3_20m_std：在 20m 的高度以 m/s 为单位的风速标准偏差。  \n",
    "  ✭ dir1_40m_avg：在 40m 高度的平均风向，风向是与北的夹角，以度为单位。  \n",
    "  ✭ dir1_40m_std：在 40m 高度的风向标准偏差，风向是与北的夹角。  \n",
    "  ✭ dir2_30m_avg：在 30m 高度的平均风向，风向是与北的夹角，以度为单位。  \n",
    "  ✭ dir2_30m_std：在 30m 高度的风向标准偏差，风向是与北的夹角。  \n",
    "  \n",
    "选择题\n",
    "根据直方图和玫瑰图，请选择下面哪个描述是正确的：  \n",
    "A. 风向分布具有三个峰值。  \n",
    "B. 主要的风向是 N 和 SW。   \n",
    "C. 风向的分布具有一个峰值。  \n",
    "D. 主要的风向是 E 和 NW。  \n",
    "\n",
    "不好意思，你答错了，正确答案是：B。  \n",
    "\n",
    "完成这个问答需要注意的是：  \n",
    "  ✭ 峰值的位置在条形更高的地方。  \n",
    "  ✭ 北（N）就只有一个，无论它是在坐标轴的左侧还是右侧。  \n",
    "  ✭ 主导风向处于绘图的高峰位置。  \n",
    "\n",
    "恭喜，您又学完了一课，希望您在学习中心里留下您的思考和学习笔记。  \n"
   ]
  }
 ],
 "metadata": {
  "kernelspec": {
   "display_name": "Python 3",
   "language": "python",
   "name": "python3"
  },
  "language_info": {
   "codemirror_mode": {
    "name": "ipython",
    "version": 3
   },
   "file_extension": ".py",
   "mimetype": "text/x-python",
   "name": "python",
   "nbconvert_exporter": "python",
   "pygments_lexer": "ipython3",
   "version": "3.7.7"
  }
 },
 "nbformat": 4,
 "nbformat_minor": 4
}
