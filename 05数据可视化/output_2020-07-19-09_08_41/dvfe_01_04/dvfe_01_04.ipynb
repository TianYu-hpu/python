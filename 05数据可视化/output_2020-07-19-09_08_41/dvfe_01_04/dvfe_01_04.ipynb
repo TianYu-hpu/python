{
 "cells": [
  {
   "cell_type": "markdown",
   "metadata": {
    "kkbSpbl": {
     "taskId": "9ef7bee1-106d-48aa-93e9-c3f3841f0408",
     "taskNum": 1
    },
    "toc-hr-collapsed": true,
    "toc-nb-collapsed": true
   },
   "source": [
    "## 1. 统治时间及年号数据集\n",
    "\n",
    "数据集是从维基百科上整理下来的，所以数据不一定完全的准确，数据也不一定完整，我们仅用这些数据做可视化呈现的实践。\n",
    "数据存储在 `list_of_chinese_monarchs.csv` 当中，下面是关于数据集的字段描述：\n",
    "- `index`：序号；\n",
    "- `time_period`：历史时期或朝代；\n",
    "- `name`：姓名，有部分姓名为汉语拼音；\n",
    "- `reign_start`：开始统治的年，负数代表公元前，整数代表公元后；\n",
    "- `reign_period`：统治的年数，由于更换朝代，有的帝王在不同朝代有统治的记录，在数据中会有多行。"
   ]
  },
  {
   "cell_type": "code",
   "execution_count": null,
   "metadata": {
    "kkbSpbl": {
     "cellId": "0hdnZmQz1HLvlKefgSy",
     "taskId": "3feef222-0955-4d96-8116-641d8a346cdf",
     "taskNum": 1
    }
   },
   "outputs": [],
   "source": [
    "# ... 这里需要您编写 - 任务 1 的代码 ...\n",
    "\n",
    "# 导入 pandas 模块，并简称为 pd\n",
    "import pandas as pd\n",
    "\n",
    "# 加载数据，index_col=0 表示最前面一列为索引\n",
    "df_monarchs = pd.read_csv('/data/course_data/visualization/list_of_chinese_monarchs.csv', index_col=0)\n",
    "\n",
    "# 查看数据集的总体信息\n",
    "df_monarchs"
   ]
  },
  {
   "cell_type": "markdown",
   "metadata": {
    "kkbSpbl": {
     "taskId": "5358d09a-1f95-45fc-92f9-5d6b1c5216a1",
     "taskNum": 2
    }
   },
   "source": [
    "## 2. 计算直方图所需要的数据\n",
    "\n",
    "在这个任务中我们需要计算直方图所需要的数据，这个步骤的关键是找到合适的 `bin` 大小，大致的思路是：\n",
    "\n",
    "- 使用 `df_monarchs['reign_period'].describe()` 查看统治时间列的整体情况；\n",
    "- 然后根据经验，猜一个 `bin` 的值，猜的方法可以是 `(max - min) / 上四分位值`，上四分位值就是 25% 所表示的值，也可以用任何一种经验方法；\n",
    "- 使用 `np.histogram(df_monarchs['reign_period'], bins=30)` 计算直方图的数据集。"
   ]
  },
  {
   "cell_type": "code",
   "execution_count": null,
   "metadata": {
    "kkbSpbl": {
     "cellId": "B7TYYfoLXrb5hVQQn7T",
     "taskId": "21e99979-b85d-403e-aa44-32f423e89be9",
     "taskNum": 2
    }
   },
   "outputs": [],
   "source": [
    "# ... 这里需要您编写 - 任务 2 的代码 ...\n",
    "\n",
    "# 导入 numpy，并简称为 np\n",
    "import numpy as np\n",
    "\n",
    "# 查看 reign_period 列中所有值的总体情况\n",
    "print(df_monarchs['reign_period'].describe())\n",
    "\n",
    "# 计算直方图所需要的数据集\n",
    "hist, edges = np.histogram(df_monarchs['reign_period'], bins=30)\n",
    "hist, edges"
   ]
  },
  {
   "cell_type": "markdown",
   "metadata": {
    "kkbSpbl": {
     "taskId": "e99cf788-8193-4201-9b5c-782c6b933549",
     "taskNum": 3
    }
   },
   "source": [
    "## 3. 绘制关于帝王统治时长的直方图\n",
    "\n",
    "本项目中，我们会使用 Python 中的 Bokeh 工具包来绘制图形，绘图的脚本主要的步骤包括：\n",
    "\n",
    "- 导入与绘图相关的 Bokeh 工具包；\n",
    "- 创建绘图对象，并设置绘图参数；\n",
    "- 根据第 2 步计算的 `hist` 和 `edges` 结果数据绘制直方图；\n",
    "- 显示绘图结果。"
   ]
  },
  {
   "cell_type": "code",
   "execution_count": null,
   "metadata": {
    "kkbSpbl": {
     "cellId": "yWNSZWfpPmClniZtpcn",
     "taskId": "6877a9dc-f6a0-4315-82b4-302613ae66cb",
     "taskNum": 3
    }
   },
   "outputs": [],
   "source": [
    "# ... 这里需要您编写 - 任务 3 的代码 ...\n",
    "\n",
    "# 导入绘图组件，figure 是绘图主工具，show 用来显示绘图结果\n",
    "from bokeh.plotting import figure, show\n",
    "\n",
    "# 导入一个指定绘图输出方式的工具，\n",
    "# output_notebook 用来指定 Bokeh 将绘图输出到 Notebook 中\n",
    "from bokeh.io import output_notebook\n",
    "output_notebook()\n",
    "\n",
    "# 创建绘图对象，并设置绘图的标题，指定绘图的宽度和高度\n",
    "p = figure(\n",
    "    # 绘图标题\n",
    "    title='中国帝王统治时长（年）', \n",
    "    # 绘图宽度\n",
    "    plot_width=600,\n",
    "    # 绘图高度\n",
    "    plot_height=400,\n",
    ")\n",
    "\n",
    "# 设置 y 轴的名称（可选）\n",
    "# p.yaxis.axis_label = '帝王数量（人）'\n",
    "\n",
    "# 设置 x 轴的名称（可选）\n",
    "# p.xaxis.axis_label = '统治时间（年）'\n",
    "\n",
    "# 使用 quad 方法，绘制直方图\n",
    "p.quad(top=hist, bottom=0, left=edges[:-1], right=edges[1:], \n",
    "       fill_color=\"navy\", line_color=\"white\", alpha=0.6)\n",
    "\n",
    "# 显示绘图\n",
    "show(p)"
   ]
  },
  {
   "cell_type": "markdown",
   "metadata": {
    "kkbSpbl": {
     "taskId": "d9e61ea3-af29-480e-bfc0-21d3e6c76620",
     "taskNum": 4
    }
   },
   "source": [
    "## 4. 分朝代绘制帝王开始统治时间的分布图\n",
    "\n",
    "学习一个事物，往往先了解他的整体，会帮助学习更加成功。\n",
    "- 中国历史上有很多朝代，哪些朝代长久、哪些短命？\n",
    "- 哪些朝代风云变幻、哪些长治久安？\n",
    "- 哪些朝代是并行的？\n",
    "\n",
    "要想回答这些问题，数据可视化可以派上用场。我们可以利用数据集中的 `reign_start` 字段做分朝代的直方图，并且把这些直方图垂直依次排列。"
   ]
  },
  {
   "cell_type": "code",
   "execution_count": null,
   "metadata": {
    "kkbSpbl": {
     "cellId": "b4ikPmfmowD1x9WWC4d",
     "taskId": "bb8cec13-9dcf-4981-9ff7-584e4f3891a7",
     "taskNum": 4
    }
   },
   "outputs": [],
   "source": [
    "# 导入批量绘图工具，将多个绘图按照网格方式排布\n",
    "from bokeh.layouts import gridplot\n",
    "\n",
    "# ------------------------------------------------------------------- #\n",
    "# 基于 df_monarchs 中的数据悉数中国历史上有哪些朝代\n",
    "dynasty = df_monarchs['time_period'].unique()\n",
    "\n",
    "# ------------------------------------------------------------------- #\n",
    "# 为每一个朝代绘制帝王开始统治时间的直方图\n",
    "plots = []\n",
    "for d in dynasty:\n",
    "    # 创建一个新的绘图\n",
    "    p = figure(tools='save', x_range=[-3100, 2200], min_border_left=30)\n",
    "    \n",
    "    # 开始设置：绘图的样式\n",
    "    # 设置整体绘图的外部有一个窄窄的、粗细为 0.5 个像素的边框\n",
    "    p.outline_line_width=0.5\n",
    "    # 隐藏横向的网格，避免线条过多影响观看\n",
    "    p.ygrid.visible = False\n",
    "    # 隐藏 x 坐标轴，让其不显示\n",
    "    p.xaxis.visible = False\n",
    "    # 设置绘图不显示二级刻度，使得绘图的一级刻度更加清晰\n",
    "    p.yaxis.ticker.num_minor_ticks = 0\n",
    "    # 设置 y 轴期望的刻度数量，使得刻度不至于过密影响显示\n",
    "    # 设置的值只是一个期望值，系统会根据实际的数据情况进行微调\n",
    "    p.yaxis.ticker.desired_num_ticks = 2\n",
    "    # 设置完成：绘图的样式\n",
    "\n",
    "    # 开始绘图：为每一个朝代绘制直方图\n",
    "    # 获得朝代名称为变量 d 的数据\n",
    "    df_monarchs_d = df_monarchs[df_monarchs['time_period'] == d]\n",
    "    # 计算绘制直方图所需要的数据\n",
    "    hist, edges = np.histogram(df_monarchs_d['reign_start'], bins=np.linspace(-2500, 2000, 200))\n",
    "    # 绘制直方图中每个条形柱状图\n",
    "    p.quad(top=hist, bottom=0, left=edges[:-1], right=edges[1:], \n",
    "           fill_color=\"navy\", line_color=\"white\", alpha=1)\n",
    "    # 绘制帝王人数和朝代相关的文本数据\n",
    "    p.text(x=-3000, y=0, text=[f'帝王人数：{sum(hist)}'], y_offset=-15, text_font_size='8pt')\n",
    "    p.text(x=-3000, y=0, text=[d], text_font_size='8pt', text_font_style='bold')\n",
    "    \n",
    "    # 将当前朝代的直方图添加到 plots 列表当中\n",
    "    plots.append(p)\n",
    "\n",
    "# ------------------------------------------------------------------- #\n",
    "# 绘制一个新的绘图，放到所有绘图的最上面：\n",
    "# - 显示标题：'中国历朝历代帝王开始统治的时间（年）'\n",
    "# - 显示共享的 x 坐标轴：显示 [-2150, -1500, -1000, -500, 0, 500, 1000, 1500, 2000] 九个年份\n",
    "# - 隐藏 y 坐标轴\n",
    "# - 隐藏绘图的网格\n",
    "p = figure(outline_line_width=0, frame_height=40, x_range=[-3100, 2200], min_border_left=30, tools='save')\n",
    "p.text(-2150, 0, ['2,150 BCE '], text_align='left', text_baseline='middle')\n",
    "p.text(2000, 0, ['2,000 CE'], text_align='right', text_baseline='middle')\n",
    "p.text(0, 0, ['中国历朝历代帝王开始统治的时间（年）'], text_align='center', text_baseline='middle')\n",
    "p.xaxis.ticker = [-2150, -1500, -1000, -500, 0, 500, 1000, 1500, 2000]\n",
    "p.yaxis.visible = False\n",
    "p.grid.visible = False\n",
    "plots.insert(0, p)\n",
    "\n",
    "# ------------------------------------------------------------------- #\n",
    "# 使用 Bokeh 中的 gridplot 工具将所有的绘图排成一列显示：\n",
    "# - plots：这个参数就是存储了标题绘图和所有朝代绘图的列表\n",
    "# - ncols：这个参数的意思是所有 plots 中的绘图排成 1 列\n",
    "# - plot_width：这个参数的意思是每个 plots 中的绘图的宽度都是 800 个像素\n",
    "# - plot_height：这个参数的意思是每个 plots 中的绘图的宽度都是 40 个像素\n",
    "grid = gridplot(plots, ncols=1, plot_width=800, plot_height=40)\n",
    "\n",
    "# 最终显示绘图 grid，grid 中存储着所有已经绘制好的绘图\n",
    "# 调用 show 方法将 grid 中的，按照 1 列进行排布的绘图显示出来\n",
    "show(grid)"
   ]
  },
  {
   "cell_type": "markdown",
   "metadata": {
    "kkbSpbl": {
     "taskId": "dcc15519-edb4-4397-9d55-9c62cf41114c",
     "taskNum": 5
    },
    "toc-hr-collapsed": true,
    "toc-nb-collapsed": true
   },
   "source": [
    "## 5. 回答几个小问题"
   ]
  },
  {
   "cell_type": "code",
   "execution_count": null,
   "metadata": {
    "kkbSpbl": {
     "cellId": "Z9tOxgnm1bYcy6enBpL",
     "taskId": "7e858c52-e0d5-46b7-a67c-212bb98f1e94",
     "taskNum": 5
    }
   },
   "outputs": [],
   "source": [
    "# ... 这里需要您编写 - 任务 5 的代码 ...\n",
    "\n",
    "# 在第 4 个任务的绘图中，可以看出只有 1 位帝王的朝代有几个？\n",
    "\n",
    "answer_1 = ...\n",
    "\n",
    "# 在第 4 个任务的绘图中，可以看出存在时间最长的朝代是哪个朝代？\n",
    "\n",
    "answer_2 = ''\n",
    "\n",
    "# 在第 4 个任务的绘图中，帝王最多的朝代中共有多少位帝王？\n",
    "\n",
    "answer_3 = ..."
   ]
  },
  {
   "cell_type": "markdown",
   "metadata": {
    "kkbSpbl": {
     "taskId": "db381ae8-208b-49be-8ccd-fa7f6e0b8e8a",
     "taskNum": 6
    }
   },
   "source": [
    "## 6. 皇帝寿命数据集\n",
    "\n",
    "在这个数据集中，包含了 302 位称号为皇帝的中国古代帝王。我们来用这个数据集学习绘制箱形图，并对箱形图进行排序，获取洞察。\n",
    "\n",
    "这个数据集的学习，我们将有三个小步骤：\n",
    "\n",
    "- 加载数据；\n",
    "- 生成箱形图的数据；\n",
    "- 绘制箱形图，并对箱形图排序；\n",
    "- 从极端值中找故事。\n",
    "\n",
    "我们先来加载皇帝寿命的数据集。"
   ]
  },
  {
   "cell_type": "code",
   "execution_count": null,
   "metadata": {
    "kkbSpbl": {
     "cellId": "Xi0Gxjx85eHdKMsyrp4",
     "taskId": "d1d6e866-2318-4c33-b7af-dcdce2f25551",
     "taskNum": 6
    }
   },
   "outputs": [],
   "source": [
    "# ... 这里需要您编写 - 任务 6 的代码 ...\n",
    "\n",
    "# 导入 pandas 模块，并简称为 pd\n",
    "import pandas as pd\n",
    "\n",
    "# 加载数据，index_col=0 表示最前面一列为索引\n",
    "df_emperor_ages = pd.read_csv(\n",
    "    '/data/course_data/visualization/emperor_ages.csv', index_col=0)\n",
    "\n",
    "# 查看数据集的总体信息\n",
    "df_emperor_ages.info()"
   ]
  },
  {
   "cell_type": "markdown",
   "metadata": {
    "kkbSpbl": {
     "taskId": "124cad48-2a5d-4fa9-93cf-73944f191b49",
     "taskNum": 7
    }
   },
   "source": [
    "## 7. 绘制各朝代皇帝寿命的箱形图\n",
    "\n",
    "开课吧的工程师们为同学们编写了两个脚本：\n",
    "- `generate_box_plot_data`：按照视频中讲解的箱形图的定义，计算中值、四分位值、箱须长度等；\n",
    "- `bokeh_box_plot`：基于 Bokeh 的基础功能，按照 `generate_box_plot_data` 计算好的数据进行绘制。\n",
    "\n",
    "本门课程的重点是数据可视化，我们不把重点放在解读代码上，后续会推出专门 Bokeh 数据可视化脚本编写的课程。\n",
    "\n",
    "让我们先一起「跑」完为大家写好的代码吧！"
   ]
  },
  {
   "cell_type": "code",
   "execution_count": null,
   "metadata": {
    "kkbSpbl": {
     "cellId": "fFRND00NgtUzLMbKjWc",
     "taskId": "a63ea7dd-bca3-490a-b64a-dc52239a73ba",
     "taskNum": 7
    }
   },
   "outputs": [],
   "source": [
    "# ... 这里需要您编写 - 任务 7 的代码 ...\n",
    "\n",
    "# 导入提前编写好的绘制箱形图的脚本\n",
    "\n",
    "import sys\n",
    "sys.path.append('/data/course_data/visualization')\n",
    "\n",
    "from dvfe_01_07 import bokeh_box_plot, generate_box_plot_data\n",
    "\n",
    "# 下面这个脚本用来计算箱形图所需要的绘图数据：\n",
    "# - df_emperor_ages：数据集\n",
    "# - '朝代'：df_emperor_ages 中的列名，按照朝代对数据进行分组\n",
    "# - '寿命'：df_emperor_ages 中的列名，需要绘制箱形图的数值变量\n",
    "data_box_plot, data_box_plot_out = \\\n",
    "    generate_box_plot_data(df_emperor_ages, '朝代', '寿命')\n",
    "\n",
    "# data_box_plot, data_box_plot_out 是两个字典类型的数据\n",
    "# 我们查看一下其中存储了哪些数据\n",
    "print(data_box_plot.keys())\n",
    "print(data_box_plot_out.keys())\n",
    "\n",
    "# 绘制箱形图\n",
    "p = figure(title='中国历朝历代皇帝寿命',\n",
    "           y_range=data_box_plot['category'], \n",
    "           plot_width=600, plot_height=400, \n",
    "           tools='save', toolbar_location='right')\n",
    "bokeh_box_plot(p, data_box_plot, data_box_plot_out, all_dot=False)\n",
    "\n",
    "# 设置绘图的标题、坐标轴等呈现的样式\n",
    "p.title.text_font_size = '12pt'\n",
    "p.xaxis.axis_label = '皇帝寿命（年）'\n",
    "p.axis.axis_label_text_font_size = \"10pt\"\n",
    "p.axis.major_label_text_font_size = \"8pt\"\n",
    "p.xaxis.ticker.num_minor_ticks = 10\n",
    "\n",
    "# 显示绘图\n",
    "show(p)"
   ]
  },
  {
   "cell_type": "markdown",
   "metadata": {
    "kkbSpbl": {
     "taskId": "f1fecf1d-9531-4bd9-8bab-572c059fc1a9",
     "taskNum": 8
    }
   },
   "source": [
    "## 8. 对箱形图进行排序 => 发现洞察\n",
    "\n",
    "在观察箱形图的时候，我们通常需要按照「类别」、「中值」、「IQR」排序，在本项目中：\n",
    "\n",
    "- 按照「类别」排序就是按照 `data_box_plot` 中的 `'category'` 排序；\n",
    "- 按照「中值」排序就是按照 `data_box_plot` 中的 `'q2'` 排序；\n",
    "- 按照「IQR」排序就是按照 `data_box_plot` 中的 `'iqr'` 排序。\n",
    "\n",
    "请将 `sort_by` 变量从现在的 `'category'` 改变为 `'q2'`，并重新绘图。"
   ]
  },
  {
   "cell_type": "code",
   "execution_count": null,
   "metadata": {
    "kkbSpbl": {
     "cellId": "bnzF7aCp52gklRLR6xs",
     "taskId": "9f723f63-34a1-44e7-8255-517a3d5d29f4",
     "taskNum": 8
    }
   },
   "outputs": [],
   "source": [
    "# ... 这里需要您编写 - 任务 8 的代码 ...\n",
    "\n",
    "# 定义排序的规则\n",
    "sort_by = 'category'\n",
    "\n",
    "# 按照 sort_by 指定的信息，对 data_box_plot 进行排序\n",
    "df_for_sort = pd.DataFrame(data_box_plot)\n",
    "df_for_sort.sort_values(by=sort_by, inplace=True)\n",
    "data_box_plot = df_for_sort.to_dict('list')\n",
    "\n",
    "# 对箱形图排序，实际上就是改变箱形图绘图时 y 轴的刻度数据\n",
    "# 将排序后的分类（category）列表，赋值给绘图的 y 轴坐标刻度就好啦\n",
    "p.y_range.factors = data_box_plot['category']\n",
    "show(p)"
   ]
  },
  {
   "cell_type": "markdown",
   "metadata": {
    "kkbSpbl": {
     "taskId": "5a68d664-7f68-4dd3-b299-60aa5da89654",
     "taskNum": 9
    }
   },
   "source": [
    "## 9. 查看极端值\n",
    "\n",
    "离群值或极端值（Outliers）表示数值异常的数据，是指在数据中有一个或几个数值与其他数值相比差异较大。\n",
    "\n",
    "- 当出现离群值的时候，要慎重处理，要将专业知识和统计学方法结合起来，首先应认真检查原始数据，看能否从专业上加以合理的解释。\n",
    "- 如数据存在逻辑错误而原始记录又确实如此，又无法在找到该观察对象进行核实，则只能将该观测值删除。\n",
    "- 本项目中的数据全部来自于维基百科或者官方史料，我们在这里不追究原始数据的正确还是错误，我们的目的是学习如何试着来解释这些极端值。"
   ]
  },
  {
   "cell_type": "code",
   "execution_count": null,
   "metadata": {
    "kkbSpbl": {
     "cellId": "0fnk456bMEO2UDuhrfS",
     "taskId": "a83377c5-e962-463f-9fe3-404f96352dc5",
     "taskNum": 9
    },
    "scrolled": true
   },
   "outputs": [],
   "source": [
    "# ... 这里需要您编写 - 任务 9 的代码 ...\n",
    "\n",
    "outliers = df_emperor_ages.loc[data_box_plot_out['index']]\n",
    "outliers"
   ]
  },
  {
   "cell_type": "code",
   "execution_count": null,
   "metadata": {},
   "outputs": [],
   "source": []
  }
 ],
 "metadata": {
  "kernelspec": {
   "display_name": "Python 3",
   "language": "python",
   "name": "python3"
  },
  "language_info": {
   "codemirror_mode": {
    "name": "ipython",
    "version": 3
   },
   "file_extension": ".py",
   "mimetype": "text/x-python",
   "name": "python",
   "nbconvert_exporter": "python",
   "pygments_lexer": "ipython3",
   "version": "3.7.6"
  },
  "toc-autonumbering": false,
  "toc-showcode": true,
  "toc-showmarkdowntxt": true
 },
 "nbformat": 4,
 "nbformat_minor": 4
}
