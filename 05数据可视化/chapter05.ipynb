{
 "cells": [
  {
   "cell_type": "markdown",
   "metadata": {},
   "source": [
    "# 散点图\n",
    "全球各个国家的平均预期寿命相对于平均受教育年限的散点图：\n",
    "![](![](./picture/6-1.png))\n",
    "散点图可以帮助我们探索两个连续变量之间的关系，在上面这个绘图中，您可以看到世界各国平均预期寿命（在 x 轴上）与平均受教育时间（在 y 轴上）的散点图。图中的每个点代表一个国家，红色的线表示线性回归模型的直线趋势线。数据来源：[联合国（United Nations）](http://hdr.undp.org/en/content/2019-human-development-index-ranking)  \n",
    "\n",
    "\n",
    "做一个小小的知识普及：图中坐标轴名称中的 SDG 表示 Sustainable Development Goals 的缩写，意为[联合国可持续发展目标](https://www.un.org/sustainabledevelopment/zh/sustainable-development-goals/)，大家可以点击这个链接在联合国的中文官网上查看。其中：  \n",
    "\n",
    "\n",
    "✭ SDG 3（目标 3）：良好健康与福祉 - 确保健康的生活方式，促进各年龄段人群的福祉。  \n",
    "✭ SDG 4（目标 4）：优质教育 - 确保包容和公平的优质教育，让全民终身享有学习机会  \n",
    "\n",
    "开课吧也一直在为实现目标 4 而努力奋斗～  \n",
    "\n",
    "选择题  \n",
    "下面问题来了，根据上面的散点图来判断下面描述是正确还是错误，请选择出所有描述正确的选项：  \n",
    "A. 随着平均受教育时间的增加，平均预期寿命通常也会增加。  \n",
    "B. 没有哪个国家的平均受教育时间少于 6 年，平均预期寿命超过 75 年。  \n",
    "C. 预期寿命与受教育时间之间存在正相关性。  \n",
    "D. 没有任何国家的平均预期寿命低于 55 岁。  \n",
    "E. 每个平均预期寿命少于 60 岁的国家/地区的平均受教育时间都少于 7 年。  \n",
    "F.如果一个国家的平均受教育时间长于另一个国家，则该国家的平均预期寿命也将更长。  \n",
    "G.恰好有一个国家的平均受教育年限超过 14 年。  \n",
    "H.预期寿命与受教育时间之间呈负相关性。 \n",
    "\n",
    "恭喜您，回答正确，描述正确的选项有A、C、E、G。  \n",
    "这个题目中容易判断错误的是选项 F，某个国家的平均受教育时间大于另一个国家，并意味着平均预期年龄也大，平均预期寿命是一个宽带，右面的点不一定在左面点的上面。  \n",
    "\n",
    "绘图中的全部数据来自《2019 Human Development Index Ranking》，中国在全球范围内整体排名第 85，中国香港整体排名第 4。  \n",
    "⽤散点图表现事物发展的趋势  \n",
    "下面我们一起跑代码来看看更多的洞察吧。  \n",
    "还是那个套路，我们先来加载数据，看看里面有什么宝藏吧...  "
   ]
  },
  {
   "cell_type": "code",
   "execution_count": 1,
   "metadata": {},
   "outputs": [
    {
     "data": {
      "text/html": [
       "<div>\n",
       "<style scoped>\n",
       "    .dataframe tbody tr th:only-of-type {\n",
       "        vertical-align: middle;\n",
       "    }\n",
       "\n",
       "    .dataframe tbody tr th {\n",
       "        vertical-align: top;\n",
       "    }\n",
       "\n",
       "    .dataframe thead th {\n",
       "        text-align: right;\n",
       "    }\n",
       "</style>\n",
       "<table border=\"1\" class=\"dataframe\">\n",
       "  <thead>\n",
       "    <tr style=\"text-align: right;\">\n",
       "      <th></th>\n",
       "      <th>-</th>\n",
       "      <th>Rank</th>\n",
       "      <th>Country</th>\n",
       "      <th>Human Development Index (HDI)  (value)</th>\n",
       "      <th>Life expectancy at birth (years) SDG3</th>\n",
       "      <th>Expected years of schooling (years) SDG 4.3</th>\n",
       "      <th>Mean years of schooling (years) SDG 4.6</th>\n",
       "      <th>Gross national income (GNI) per capita (PPP $) SDG 8.5</th>\n",
       "      <th>Unnamed: 8</th>\n",
       "    </tr>\n",
       "  </thead>\n",
       "  <tbody>\n",
       "    <tr>\n",
       "      <th>0</th>\n",
       "      <td>no</td>\n",
       "      <td>1</td>\n",
       "      <td>Norway</td>\n",
       "      <td>0.954</td>\n",
       "      <td>82.3</td>\n",
       "      <td>18.1</td>\n",
       "      <td>12.6</td>\n",
       "      <td>68059.0</td>\n",
       "      <td>NaN</td>\n",
       "    </tr>\n",
       "    <tr>\n",
       "      <th>1</th>\n",
       "      <td>ch</td>\n",
       "      <td>2</td>\n",
       "      <td>Switzerland</td>\n",
       "      <td>0.946</td>\n",
       "      <td>83.6</td>\n",
       "      <td>16.2</td>\n",
       "      <td>13.4</td>\n",
       "      <td>59375.0</td>\n",
       "      <td>NaN</td>\n",
       "    </tr>\n",
       "    <tr>\n",
       "      <th>2</th>\n",
       "      <td>ie</td>\n",
       "      <td>3</td>\n",
       "      <td>Ireland</td>\n",
       "      <td>0.942</td>\n",
       "      <td>82.1</td>\n",
       "      <td>18.8</td>\n",
       "      <td>12.5</td>\n",
       "      <td>55660.0</td>\n",
       "      <td>NaN</td>\n",
       "    </tr>\n",
       "  </tbody>\n",
       "</table>\n",
       "</div>"
      ],
      "text/plain": [
       "    -   Rank       Country  Human Development Index (HDI)  (value)  \\\n",
       "0  no      1        Norway                                   0.954   \n",
       "1  ch      2   Switzerland                                   0.946   \n",
       "2  ie      3       Ireland                                   0.942   \n",
       "\n",
       "    Life expectancy at birth (years) SDG3  \\\n",
       "0                                    82.3   \n",
       "1                                    83.6   \n",
       "2                                    82.1   \n",
       "\n",
       "    Expected years of schooling (years) SDG 4.3  \\\n",
       "0                                          18.1   \n",
       "1                                          16.2   \n",
       "2                                          18.8   \n",
       "\n",
       "    Mean years of schooling (years) SDG 4.6  \\\n",
       "0                                      12.6   \n",
       "1                                      13.4   \n",
       "2                                      12.5   \n",
       "\n",
       "    Gross national income (GNI) per capita (PPP $) SDG 8.5  Unnamed: 8  \n",
       "0                                            68059.0               NaN  \n",
       "1                                            59375.0               NaN  \n",
       "2                                            55660.0               NaN  "
      ]
     },
     "execution_count": 1,
     "metadata": {},
     "output_type": "execute_result"
    }
   ],
   "source": [
    "import pandas as pd\n",
    "\n",
    "\n",
    "# 数据来自《2019 Human Development Index Ranking》\n",
    "df = pd.read_csv('./data/left_expectancy.csv')\n",
    "df.head(3)"
   ]
  },
  {
   "cell_type": "markdown",
   "metadata": {},
   "source": [
    "我们不难发现，排名前三的国家是 Norway（挪威）、Switzerland（瑞士）、Ireland（爱尔兰），他们都是欧洲的国家，也就是说欧洲的医疗卫生以及教育综合情况相对比较好。接下来，我们来看看中国在这张表里的情况："
   ]
  },
  {
   "cell_type": "code",
   "execution_count": 2,
   "metadata": {},
   "outputs": [
    {
     "ename": "ExpatError",
     "evalue": "not well-formed (invalid token): line 1, column 1",
     "output_type": "error",
     "traceback": [
      "\u001b[1;31m---------------------------------------------------------------------------\u001b[0m",
      "\u001b[1;31mExpatError\u001b[0m                                Traceback (most recent call last)",
      "\u001b[1;32m<ipython-input-2-c2c23329e947>\u001b[0m in \u001b[0;36m<module>\u001b[1;34m\u001b[0m\n\u001b[0;32m     16\u001b[0m \u001b[1;31m# 大家可以自己替换 flag_name 中的值来查看不同国家的国旗哦～\u001b[0m\u001b[1;33m\u001b[0m\u001b[1;33m\u001b[0m\u001b[1;33m\u001b[0m\u001b[0m\n\u001b[0;32m     17\u001b[0m \u001b[0mflag_name\u001b[0m \u001b[1;33m=\u001b[0m \u001b[1;34m'cn'\u001b[0m\u001b[1;33m\u001b[0m\u001b[1;33m\u001b[0m\u001b[0m\n\u001b[1;32m---> 18\u001b[1;33m \u001b[0msvg\u001b[0m \u001b[1;33m=\u001b[0m \u001b[0mSVG\u001b[0m\u001b[1;33m(\u001b[0m\u001b[1;34m'./data/cn.svg'\u001b[0m\u001b[1;33m)\u001b[0m\u001b[1;33m\u001b[0m\u001b[1;33m\u001b[0m\u001b[0m\n\u001b[0m\u001b[0;32m     19\u001b[0m \u001b[0mdisplay\u001b[0m\u001b[1;33m(\u001b[0m\u001b[0msvg\u001b[0m\u001b[1;33m)\u001b[0m\u001b[1;33m\u001b[0m\u001b[1;33m\u001b[0m\u001b[0m\n\u001b[0;32m     20\u001b[0m \u001b[1;31m# 在数据集中查找中国\u001b[0m\u001b[1;33m\u001b[0m\u001b[1;33m\u001b[0m\u001b[1;33m\u001b[0m\u001b[0m\n",
      "\u001b[1;32md:\\program files\\python37\\lib\\site-packages\\IPython\\core\\display.py\u001b[0m in \u001b[0;36m__init__\u001b[1;34m(self, data, url, filename, metadata)\u001b[0m\n\u001b[0;32m    621\u001b[0m         \u001b[1;31m# subclasses ensure url and filename are set\u001b[0m\u001b[1;33m\u001b[0m\u001b[1;33m\u001b[0m\u001b[1;33m\u001b[0m\u001b[0m\n\u001b[0;32m    622\u001b[0m         \u001b[1;31m# before assigning to self.data\u001b[0m\u001b[1;33m\u001b[0m\u001b[1;33m\u001b[0m\u001b[1;33m\u001b[0m\u001b[0m\n\u001b[1;32m--> 623\u001b[1;33m         \u001b[0mself\u001b[0m\u001b[1;33m.\u001b[0m\u001b[0mdata\u001b[0m \u001b[1;33m=\u001b[0m \u001b[0mdata\u001b[0m\u001b[1;33m\u001b[0m\u001b[1;33m\u001b[0m\u001b[0m\n\u001b[0m\u001b[0;32m    624\u001b[0m \u001b[1;33m\u001b[0m\u001b[0m\n\u001b[0;32m    625\u001b[0m         \u001b[1;32mif\u001b[0m \u001b[0mmetadata\u001b[0m \u001b[1;32mis\u001b[0m \u001b[1;32mnot\u001b[0m \u001b[1;32mNone\u001b[0m\u001b[1;33m:\u001b[0m\u001b[1;33m\u001b[0m\u001b[1;33m\u001b[0m\u001b[0m\n",
      "\u001b[1;32md:\\program files\\python37\\lib\\site-packages\\IPython\\core\\display.py\u001b[0m in \u001b[0;36mdata\u001b[1;34m(self, svg)\u001b[0m\n\u001b[0;32m    775\u001b[0m         \u001b[1;31m# parse into dom object\u001b[0m\u001b[1;33m\u001b[0m\u001b[1;33m\u001b[0m\u001b[1;33m\u001b[0m\u001b[0m\n\u001b[0;32m    776\u001b[0m         \u001b[1;32mfrom\u001b[0m \u001b[0mxml\u001b[0m\u001b[1;33m.\u001b[0m\u001b[0mdom\u001b[0m \u001b[1;32mimport\u001b[0m \u001b[0mminidom\u001b[0m\u001b[1;33m\u001b[0m\u001b[1;33m\u001b[0m\u001b[0m\n\u001b[1;32m--> 777\u001b[1;33m         \u001b[0mx\u001b[0m \u001b[1;33m=\u001b[0m \u001b[0mminidom\u001b[0m\u001b[1;33m.\u001b[0m\u001b[0mparseString\u001b[0m\u001b[1;33m(\u001b[0m\u001b[0msvg\u001b[0m\u001b[1;33m)\u001b[0m\u001b[1;33m\u001b[0m\u001b[1;33m\u001b[0m\u001b[0m\n\u001b[0m\u001b[0;32m    778\u001b[0m         \u001b[1;31m# get svg tag (should be 1)\u001b[0m\u001b[1;33m\u001b[0m\u001b[1;33m\u001b[0m\u001b[1;33m\u001b[0m\u001b[0m\n\u001b[0;32m    779\u001b[0m         \u001b[0mfound_svg\u001b[0m \u001b[1;33m=\u001b[0m \u001b[0mx\u001b[0m\u001b[1;33m.\u001b[0m\u001b[0mgetElementsByTagName\u001b[0m\u001b[1;33m(\u001b[0m\u001b[1;34m'svg'\u001b[0m\u001b[1;33m)\u001b[0m\u001b[1;33m\u001b[0m\u001b[1;33m\u001b[0m\u001b[0m\n",
      "\u001b[1;32md:\\program files\\python37\\lib\\xml\\dom\\minidom.py\u001b[0m in \u001b[0;36mparseString\u001b[1;34m(string, parser)\u001b[0m\n\u001b[0;32m   1966\u001b[0m     \u001b[1;32mif\u001b[0m \u001b[0mparser\u001b[0m \u001b[1;32mis\u001b[0m \u001b[1;32mNone\u001b[0m\u001b[1;33m:\u001b[0m\u001b[1;33m\u001b[0m\u001b[1;33m\u001b[0m\u001b[0m\n\u001b[0;32m   1967\u001b[0m         \u001b[1;32mfrom\u001b[0m \u001b[0mxml\u001b[0m\u001b[1;33m.\u001b[0m\u001b[0mdom\u001b[0m \u001b[1;32mimport\u001b[0m \u001b[0mexpatbuilder\u001b[0m\u001b[1;33m\u001b[0m\u001b[1;33m\u001b[0m\u001b[0m\n\u001b[1;32m-> 1968\u001b[1;33m         \u001b[1;32mreturn\u001b[0m \u001b[0mexpatbuilder\u001b[0m\u001b[1;33m.\u001b[0m\u001b[0mparseString\u001b[0m\u001b[1;33m(\u001b[0m\u001b[0mstring\u001b[0m\u001b[1;33m)\u001b[0m\u001b[1;33m\u001b[0m\u001b[1;33m\u001b[0m\u001b[0m\n\u001b[0m\u001b[0;32m   1969\u001b[0m     \u001b[1;32melse\u001b[0m\u001b[1;33m:\u001b[0m\u001b[1;33m\u001b[0m\u001b[1;33m\u001b[0m\u001b[0m\n\u001b[0;32m   1970\u001b[0m         \u001b[1;32mfrom\u001b[0m \u001b[0mxml\u001b[0m\u001b[1;33m.\u001b[0m\u001b[0mdom\u001b[0m \u001b[1;32mimport\u001b[0m \u001b[0mpulldom\u001b[0m\u001b[1;33m\u001b[0m\u001b[1;33m\u001b[0m\u001b[0m\n",
      "\u001b[1;32md:\\program files\\python37\\lib\\xml\\dom\\expatbuilder.py\u001b[0m in \u001b[0;36mparseString\u001b[1;34m(string, namespaces)\u001b[0m\n\u001b[0;32m    923\u001b[0m     \u001b[1;32melse\u001b[0m\u001b[1;33m:\u001b[0m\u001b[1;33m\u001b[0m\u001b[1;33m\u001b[0m\u001b[0m\n\u001b[0;32m    924\u001b[0m         \u001b[0mbuilder\u001b[0m \u001b[1;33m=\u001b[0m \u001b[0mExpatBuilder\u001b[0m\u001b[1;33m(\u001b[0m\u001b[1;33m)\u001b[0m\u001b[1;33m\u001b[0m\u001b[1;33m\u001b[0m\u001b[0m\n\u001b[1;32m--> 925\u001b[1;33m     \u001b[1;32mreturn\u001b[0m \u001b[0mbuilder\u001b[0m\u001b[1;33m.\u001b[0m\u001b[0mparseString\u001b[0m\u001b[1;33m(\u001b[0m\u001b[0mstring\u001b[0m\u001b[1;33m)\u001b[0m\u001b[1;33m\u001b[0m\u001b[1;33m\u001b[0m\u001b[0m\n\u001b[0m\u001b[0;32m    926\u001b[0m \u001b[1;33m\u001b[0m\u001b[0m\n\u001b[0;32m    927\u001b[0m \u001b[1;33m\u001b[0m\u001b[0m\n",
      "\u001b[1;32md:\\program files\\python37\\lib\\xml\\dom\\expatbuilder.py\u001b[0m in \u001b[0;36mparseString\u001b[1;34m(self, string)\u001b[0m\n\u001b[0;32m    221\u001b[0m         \u001b[0mparser\u001b[0m \u001b[1;33m=\u001b[0m \u001b[0mself\u001b[0m\u001b[1;33m.\u001b[0m\u001b[0mgetParser\u001b[0m\u001b[1;33m(\u001b[0m\u001b[1;33m)\u001b[0m\u001b[1;33m\u001b[0m\u001b[1;33m\u001b[0m\u001b[0m\n\u001b[0;32m    222\u001b[0m         \u001b[1;32mtry\u001b[0m\u001b[1;33m:\u001b[0m\u001b[1;33m\u001b[0m\u001b[1;33m\u001b[0m\u001b[0m\n\u001b[1;32m--> 223\u001b[1;33m             \u001b[0mparser\u001b[0m\u001b[1;33m.\u001b[0m\u001b[0mParse\u001b[0m\u001b[1;33m(\u001b[0m\u001b[0mstring\u001b[0m\u001b[1;33m,\u001b[0m \u001b[1;32mTrue\u001b[0m\u001b[1;33m)\u001b[0m\u001b[1;33m\u001b[0m\u001b[1;33m\u001b[0m\u001b[0m\n\u001b[0m\u001b[0;32m    224\u001b[0m             \u001b[0mself\u001b[0m\u001b[1;33m.\u001b[0m\u001b[0m_setup_subset\u001b[0m\u001b[1;33m(\u001b[0m\u001b[0mstring\u001b[0m\u001b[1;33m)\u001b[0m\u001b[1;33m\u001b[0m\u001b[1;33m\u001b[0m\u001b[0m\n\u001b[0;32m    225\u001b[0m         \u001b[1;32mexcept\u001b[0m \u001b[0mParseEscape\u001b[0m\u001b[1;33m:\u001b[0m\u001b[1;33m\u001b[0m\u001b[1;33m\u001b[0m\u001b[0m\n",
      "\u001b[1;31mExpatError\u001b[0m: not well-formed (invalid token): line 1, column 1"
     ]
    }
   ],
   "source": [
    "from svgutils import transform\n",
    "import svgutils.transform as sg\n",
    "from IPython.display import SVG,display\n",
    "\n",
    "from IPython.display import SVG\n",
    "from IPython.display import HTML,display\n",
    "\n",
    "import pygal\n",
    "import pandas as pd\n",
    "\n",
    "\n",
    "# 数据来自《2019 Human Development Index Ranking》\n",
    "df = pd.read_csv('./data/left_expectancy.csv')\n",
    "\n",
    "# 数据集中标示为 '-' 的列是 flag_name，\n",
    "# 大家可以自己替换 flag_name 中的值来查看不同国家的国旗哦～\n",
    "flag_name = 'cn'\n",
    "svg = SVG('./data/cn.svg')\n",
    "display(svg)\n",
    "# 在数据集中查找中国\n",
    "df[df.Country.str.contains('China')]"
   ]
  },
  {
   "cell_type": "markdown",
   "metadata": {},
   "source": [
    "中国整体排名第 85，中国香港整体排名第 4。不难发现 China 在平均受教育时间、国民人均收入（GNI）等指标上还是远远落后于发达国家的。  \n",
    "\n",
    "下面我们来直接执行下面的脚本，绘制一个可以交互的散点图  \n",
    "\n",
    "✭ 大家可以修改 `focus_points` 中的值，存在于 `focus_points` 当中的国家名称会被高亮显示，方便我们对比不同国家的数据；  \n",
    "✭ 将鼠标移动到绘图中的点上，可以看到对于每一个点的详细数据。  \n",
    "✭ 这里将中国、中国香港、美国、印度、英国、巴西几个地区进行红色高亮显示来进行对比。  "
   ]
  },
  {
   "cell_type": "code",
   "execution_count": 4,
   "metadata": {},
   "outputs": [
    {
     "ename": "ModuleNotFoundError",
     "evalue": "No module named 'dvfe_02_01'",
     "output_type": "error",
     "traceback": [
      "\u001b[1;31m---------------------------------------------------------------------------\u001b[0m",
      "\u001b[1;31mModuleNotFoundError\u001b[0m                       Traceback (most recent call last)",
      "\u001b[1;32m<ipython-input-4-c83380ff7b2f>\u001b[0m in \u001b[0;36m<module>\u001b[1;34m\u001b[0m\n\u001b[0;32m      2\u001b[0m \u001b[0msys\u001b[0m\u001b[1;33m.\u001b[0m\u001b[0mpath\u001b[0m\u001b[1;33m.\u001b[0m\u001b[0mappend\u001b[0m\u001b[1;33m(\u001b[0m\u001b[1;34m'./data/'\u001b[0m\u001b[1;33m)\u001b[0m\u001b[1;33m\u001b[0m\u001b[1;33m\u001b[0m\u001b[0m\n\u001b[0;32m      3\u001b[0m \u001b[1;33m\u001b[0m\u001b[0m\n\u001b[1;32m----> 4\u001b[1;33m \u001b[1;32mfrom\u001b[0m \u001b[0mdvfe_02_01\u001b[0m \u001b[1;32mimport\u001b[0m \u001b[1;33m*\u001b[0m\u001b[1;33m\u001b[0m\u001b[1;33m\u001b[0m\u001b[0m\n\u001b[0m\u001b[0;32m      5\u001b[0m \u001b[1;33m\u001b[0m\u001b[0m\n\u001b[0;32m      6\u001b[0m \u001b[1;31m# focus_points 中包含的国家在图中会显示为红色的点\u001b[0m\u001b[1;33m\u001b[0m\u001b[1;33m\u001b[0m\u001b[1;33m\u001b[0m\u001b[0m\n",
      "\u001b[1;31mModuleNotFoundError\u001b[0m: No module named 'dvfe_02_01'"
     ]
    }
   ],
   "source": [
    "import sys\n",
    "sys.path.append('./data/')\n",
    "\n",
    "from dvfe_02_01 import *\n",
    "\n",
    "# focus_points 中包含的国家在图中会显示为红色的点\n",
    "display_hdi_data(focus_points=['China', \n",
    "                               'Hong Kong, China (SAR)', \n",
    "                               'United States', \n",
    "                               'India', \n",
    "                               'United Kingdom', \n",
    "                               'Brazil'])"
   ]
  },
  {
   "cell_type": "markdown",
   "metadata": {},
   "source": [
    "从上图可以看出，我国的人均预期寿命已经和发达国家相差不多了，这得益于我国各方面的良好政策以及国人的不断努力。另外，在教育方面，从当前数据集中的数据来看，我们还有很大的提升空间。  \n",
    "\n",
    "上面这个案例让我们对全球 HDI 的数据集有了更加深入的了解，下面让我们来接着深入研究。  \n",
    "\n",
    "【散点图的趋势】：我们在视频学习中提到了「对数坐标轴」和「趋势线」，使用对数坐标系可以将非常密集的数据点在绘图中分布的更加均匀，更容易发现数据之间的关系和相关性，将趋势线添加到散点图可以使表达两个变量之间的关系更加清晰。  \n",
    "\n",
    "在下面一个案例中，我们使用的还是 HDI 数据集，您可以再次看到每个国家的预期寿命，这次会将其与人均国民总收入（GNI）进行比较（衡量国家的富裕程度）。您可以在 x 轴的线性和对数比例之间进行选择，并且可以添加线性的或者是曲线的趋势线。  \n",
    "\n",
    "OK，我们接着来跑代码，然后看图回答问题吧。^^  \n",
    "\n",
    "我们先回顾一下 HDI 数据集：  "
   ]
  },
  {
   "cell_type": "code",
   "execution_count": 5,
   "metadata": {},
   "outputs": [
    {
     "name": "stdout",
     "output_type": "stream",
     "text": [
      "<class 'pandas.core.frame.DataFrame'>\n",
      "RangeIndex: 189 entries, 0 to 188\n",
      "Data columns (total 9 columns):\n",
      " #   Column                                                   Non-Null Count  Dtype  \n",
      "---  ------                                                   --------------  -----  \n",
      " 0   -                                                        189 non-null    object \n",
      " 1    Rank                                                    189 non-null    int64  \n",
      " 2    Country                                                 189 non-null    object \n",
      " 3    Human Development Index (HDI)  (value)                  189 non-null    object \n",
      " 4    Life expectancy at birth (years) SDG3                   189 non-null    float64\n",
      " 5    Expected years of schooling (years) SDG 4.3             189 non-null    float64\n",
      " 6    Mean years of schooling (years) SDG 4.6                 189 non-null    float64\n",
      " 7    Gross national income (GNI) per capita (PPP $) SDG 8.5  189 non-null    float64\n",
      " 8   Unnamed: 8                                               2 non-null      float64\n",
      "dtypes: float64(5), int64(1), object(3)\n",
      "memory usage: 13.4+ KB\n"
     ]
    }
   ],
   "source": [
    " import pandas as pd\n",
    "\n",
    "# 数据来自《2019 Human Development Index Ranking》\n",
    "df = pd.read_csv('./data/left_expectancy.csv')\n",
    "df.info()"
   ]
  },
  {
   "cell_type": "markdown",
   "metadata": {},
   "source": [
    "这里案例中，我们将使用编号为 7 的列「Gross national income (GNI) per capita (PPP $) SDG 8.5」与编号为 4 的「Life expectancy at birth (years) SDG3」两个列进行比较。"
   ]
  },
  {
   "cell_type": "code",
   "execution_count": 6,
   "metadata": {},
   "outputs": [
    {
     "ename": "ModuleNotFoundError",
     "evalue": "No module named 'dvfe_02_02'",
     "output_type": "error",
     "traceback": [
      "\u001b[1;31m---------------------------------------------------------------------------\u001b[0m",
      "\u001b[1;31mModuleNotFoundError\u001b[0m                       Traceback (most recent call last)",
      "\u001b[1;32m<ipython-input-6-a01f154f66bd>\u001b[0m in \u001b[0;36m<module>\u001b[1;34m\u001b[0m\n\u001b[0;32m      2\u001b[0m \u001b[0msys\u001b[0m\u001b[1;33m.\u001b[0m\u001b[0mpath\u001b[0m\u001b[1;33m.\u001b[0m\u001b[0mappend\u001b[0m\u001b[1;33m(\u001b[0m\u001b[1;34m'./data/'\u001b[0m\u001b[1;33m)\u001b[0m\u001b[1;33m\u001b[0m\u001b[1;33m\u001b[0m\u001b[0m\n\u001b[0;32m      3\u001b[0m \u001b[1;33m\u001b[0m\u001b[0m\n\u001b[1;32m----> 4\u001b[1;33m \u001b[1;32mfrom\u001b[0m \u001b[0mdvfe_02_02\u001b[0m \u001b[1;32mimport\u001b[0m \u001b[1;33m*\u001b[0m\u001b[1;33m\u001b[0m\u001b[1;33m\u001b[0m\u001b[0m\n\u001b[0m\u001b[0;32m      5\u001b[0m \u001b[0minteract_hdi_plots\u001b[0m\u001b[1;33m(\u001b[0m\u001b[1;33m)\u001b[0m\u001b[1;33m\u001b[0m\u001b[1;33m\u001b[0m\u001b[0m\n",
      "\u001b[1;31mModuleNotFoundError\u001b[0m: No module named 'dvfe_02_02'"
     ]
    }
   ],
   "source": [
    "import sys\n",
    "sys.path.append('./data/')\n",
    "\n",
    "from dvfe_02_02 import *\n",
    "interact_hdi_plots()"
   ]
  },
  {
   "cell_type": "markdown",
   "metadata": {},
   "source": [
    "通过 GNI 相对于平均预期寿命的散点图的观察，大家可以思考一下，我们都能发现哪些趋势和洞察呢？  \n",
    "\n",
    "最后，我们再看看 'China' 在图中的位置在哪里，根据下面现实的数据，可以在图中找一找。鼠标移动到圆点上的时候，会有详细的信息出现。  "
   ]
  },
  {
   "cell_type": "code",
   "execution_count": 8,
   "metadata": {},
   "outputs": [
    {
     "ename": "ModuleNotFoundError",
     "evalue": "No module named 'dvfe_02_02'",
     "output_type": "error",
     "traceback": [
      "\u001b[1;31m---------------------------------------------------------------------------\u001b[0m",
      "\u001b[1;31mModuleNotFoundError\u001b[0m                       Traceback (most recent call last)",
      "\u001b[1;32m<ipython-input-8-05cfe628d02b>\u001b[0m in \u001b[0;36m<module>\u001b[1;34m\u001b[0m\n\u001b[0;32m      1\u001b[0m \u001b[1;32mimport\u001b[0m \u001b[0msys\u001b[0m\u001b[1;33m\u001b[0m\u001b[1;33m\u001b[0m\u001b[0m\n\u001b[0;32m      2\u001b[0m \u001b[1;33m\u001b[0m\u001b[0m\n\u001b[1;32m----> 3\u001b[1;33m \u001b[1;32mfrom\u001b[0m \u001b[0mdvfe_02_02\u001b[0m \u001b[1;32mimport\u001b[0m \u001b[1;33m*\u001b[0m\u001b[1;33m\u001b[0m\u001b[1;33m\u001b[0m\u001b[0m\n\u001b[0m\u001b[0;32m      4\u001b[0m \u001b[0mdf\u001b[0m \u001b[1;33m=\u001b[0m \u001b[0mpd\u001b[0m\u001b[1;33m.\u001b[0m\u001b[0mread_csv\u001b[0m\u001b[1;33m(\u001b[0m\u001b[1;34m'./data/left_expectancy.csv'\u001b[0m\u001b[1;33m)\u001b[0m\u001b[1;33m\u001b[0m\u001b[1;33m\u001b[0m\u001b[0m\n\u001b[0;32m      5\u001b[0m \u001b[0mdf\u001b[0m\u001b[1;33m[\u001b[0m\u001b[0mdf\u001b[0m\u001b[1;33m.\u001b[0m\u001b[0mCountry\u001b[0m \u001b[1;33m==\u001b[0m \u001b[1;34m'China'\u001b[0m\u001b[1;33m]\u001b[0m\u001b[1;33m\u001b[0m\u001b[1;33m\u001b[0m\u001b[0m\n",
      "\u001b[1;31mModuleNotFoundError\u001b[0m: No module named 'dvfe_02_02'"
     ]
    }
   ],
   "source": [
    "import sys\n",
    "\n",
    "from dvfe_02_02 import *\n",
    "df = pd.read_csv('./data/left_expectancy.csv')\n",
    "df[df.Country == 'China']"
   ]
  },
  {
   "cell_type": "markdown",
   "metadata": {},
   "source": [
    "下面大家可以看见两张图，是从上面脚本的运行结果中截取出来的：  \n",
    "\n",
    "x 坐标系 - 线性（Linear）坐标系  \n",
    "![](./picture/5-1.png)  \n",
    "x 坐标系 - 对数（Log）坐标系：  \n",
    "![](./picture/5-2.png)  \n",
    "选择题  \n",
    "下面问题来了，下面哪个陈述最能说明趋势：  \n",
    "A. 当 GNI 在 $1k 和 $50k 之间时，预期寿命随着 GNI 线性增加。  \n",
    "B. 当 GNI 在 $1k 和 $50k 之间时，预期寿命随 GNI 的对数线性增加。  \n",
    "C. 当 GNI 超过 $50k 时，预期寿命会降低。  \n",
    "D. 当 GNI 降至 $500 以下时，预期寿命会增加。  \n",
    "\n",
    "最能说明趋势的选项是，第二个“当 GNI 在 $1k 和 $50k 之间时，预期寿命随 GNI 的对数线性增加。”"
   ]
  },
  {
   "cell_type": "markdown",
   "metadata": {},
   "source": [
    "预期寿命随 GNI 并不是线性增加的，而是先增加很快，而后增加变缓的趋势；  \n",
    "当 GNI 超过 $50k 时，寿命预期会基本保持持平，因为人类的寿命是有上限的，不会持续不断的上升。  \n",
    "\n",
    "恭喜，您又学完了一课，希望您在学习中心里留下您的思考和学习笔记。  "
   ]
  },
  {
   "cell_type": "code",
   "execution_count": null,
   "metadata": {},
   "outputs": [],
   "source": []
  }
 ],
 "metadata": {
  "kernelspec": {
   "display_name": "Python 3",
   "language": "python",
   "name": "python3"
  },
  "language_info": {
   "codemirror_mode": {
    "name": "ipython",
    "version": 3
   },
   "file_extension": ".py",
   "mimetype": "text/x-python",
   "name": "python",
   "nbconvert_exporter": "python",
   "pygments_lexer": "ipython3",
   "version": "3.7.7"
  }
 },
 "nbformat": 4,
 "nbformat_minor": 4
}
