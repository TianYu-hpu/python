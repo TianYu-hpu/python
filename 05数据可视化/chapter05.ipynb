{
 "cells": [
  {
   "cell_type": "markdown",
   "metadata": {},
   "source": [
    "# 散点图\n",
    "全球各个国家的平均预期寿命相对于平均受教育年限的散点图：\n",
    "![](![](./picture/6-1.png))\n",
    "散点图可以帮助我们探索两个连续变量之间的关系，在上面这个绘图中，您可以看到世界各国平均预期寿命（在 x 轴上）与平均受教育时间（在 y 轴上）的散点图。图中的每个点代表一个国家，红色的线表示线性回归模型的直线趋势线。数据来源：[联合国（United Nations）](http://hdr.undp.org/en/content/2019-human-development-index-ranking)  \n",
    "\n",
    "\n",
    "做一个小小的知识普及：图中坐标轴名称中的 SDG 表示 Sustainable Development Goals 的缩写，意为[联合国可持续发展目标](https://www.un.org/sustainabledevelopment/zh/sustainable-development-goals/)，大家可以点击这个链接在联合国的中文官网上查看。其中：  \n",
    "\n",
    "\n",
    "✭ SDG 3（目标 3）：良好健康与福祉 - 确保健康的生活方式，促进各年龄段人群的福祉。  \n",
    "✭ SDG 4（目标 4）：优质教育 - 确保包容和公平的优质教育，让全民终身享有学习机会  \n",
    "\n",
    "开课吧也一直在为实现目标 4 而努力奋斗～  \n",
    "\n",
    "选择题  \n",
    "下面问题来了，根据上面的散点图来判断下面描述是正确还是错误，请选择出所有描述正确的选项：  \n",
    "A. 随着平均受教育时间的增加，平均预期寿命通常也会增加。  \n",
    "B. 没有哪个国家的平均受教育时间少于 6 年，平均预期寿命超过 75 年。  \n",
    "C. 预期寿命与受教育时间之间存在正相关性。  \n",
    "D. 没有任何国家的平均预期寿命低于 55 岁。  \n",
    "E. 每个平均预期寿命少于 60 岁的国家/地区的平均受教育时间都少于 7 年。  \n",
    "F.如果一个国家的平均受教育时间长于另一个国家，则该国家的平均预期寿命也将更长。  \n",
    "G.恰好有一个国家的平均受教育年限超过 14 年。  \n",
    "H.预期寿命与受教育时间之间呈负相关性。 \n",
    "\n",
    "恭喜您，回答正确，描述正确的选项有A、C、E、G。  \n",
    "这个题目中容易判断错误的是选项 F，某个国家的平均受教育时间大于另一个国家，并意味着平均预期年龄也大，平均预期寿命是一个宽带，右面的点不一定在左面点的上面。  \n",
    "\n",
    "绘图中的全部数据来自《2019 Human Development Index Ranking》，中国在全球范围内整体排名第 85，中国香港整体排名第 4。  \n",
    "⽤散点图表现事物发展的趋势  \n",
    "下面我们一起跑代码来看看更多的洞察吧。  \n",
    "还是那个套路，我们先来加载数据，看看里面有什么宝藏吧...  "
   ]
  },
  {
   "cell_type": "code",
   "execution_count": 1,
   "metadata": {},
   "outputs": [
    {
     "data": {
      "text/html": [
       "<div>\n",
       "<style scoped>\n",
       "    .dataframe tbody tr th:only-of-type {\n",
       "        vertical-align: middle;\n",
       "    }\n",
       "\n",
       "    .dataframe tbody tr th {\n",
       "        vertical-align: top;\n",
       "    }\n",
       "\n",
       "    .dataframe thead th {\n",
       "        text-align: right;\n",
       "    }\n",
       "</style>\n",
       "<table border=\"1\" class=\"dataframe\">\n",
       "  <thead>\n",
       "    <tr style=\"text-align: right;\">\n",
       "      <th></th>\n",
       "      <th>-</th>\n",
       "      <th>Rank</th>\n",
       "      <th>Country</th>\n",
       "      <th>Human Development Index (HDI)  (value)</th>\n",
       "      <th>Life expectancy at birth (years) SDG3</th>\n",
       "      <th>Expected years of schooling (years) SDG 4.3</th>\n",
       "      <th>Mean years of schooling (years) SDG 4.6</th>\n",
       "      <th>Gross national income (GNI) per capita (PPP $) SDG 8.5</th>\n",
       "      <th>Unnamed: 8</th>\n",
       "    </tr>\n",
       "  </thead>\n",
       "  <tbody>\n",
       "    <tr>\n",
       "      <th>0</th>\n",
       "      <td>no</td>\n",
       "      <td>1</td>\n",
       "      <td>Norway</td>\n",
       "      <td>0.954</td>\n",
       "      <td>82.3</td>\n",
       "      <td>18.1</td>\n",
       "      <td>12.6</td>\n",
       "      <td>68059.0</td>\n",
       "      <td>NaN</td>\n",
       "    </tr>\n",
       "    <tr>\n",
       "      <th>1</th>\n",
       "      <td>ch</td>\n",
       "      <td>2</td>\n",
       "      <td>Switzerland</td>\n",
       "      <td>0.946</td>\n",
       "      <td>83.6</td>\n",
       "      <td>16.2</td>\n",
       "      <td>13.4</td>\n",
       "      <td>59375.0</td>\n",
       "      <td>NaN</td>\n",
       "    </tr>\n",
       "    <tr>\n",
       "      <th>2</th>\n",
       "      <td>ie</td>\n",
       "      <td>3</td>\n",
       "      <td>Ireland</td>\n",
       "      <td>0.942</td>\n",
       "      <td>82.1</td>\n",
       "      <td>18.8</td>\n",
       "      <td>12.5</td>\n",
       "      <td>55660.0</td>\n",
       "      <td>NaN</td>\n",
       "    </tr>\n",
       "  </tbody>\n",
       "</table>\n",
       "</div>"
      ],
      "text/plain": [
       "    -   Rank       Country  Human Development Index (HDI)  (value)  \\\n",
       "0  no      1        Norway                                   0.954   \n",
       "1  ch      2   Switzerland                                   0.946   \n",
       "2  ie      3       Ireland                                   0.942   \n",
       "\n",
       "    Life expectancy at birth (years) SDG3  \\\n",
       "0                                    82.3   \n",
       "1                                    83.6   \n",
       "2                                    82.1   \n",
       "\n",
       "    Expected years of schooling (years) SDG 4.3  \\\n",
       "0                                          18.1   \n",
       "1                                          16.2   \n",
       "2                                          18.8   \n",
       "\n",
       "    Mean years of schooling (years) SDG 4.6  \\\n",
       "0                                      12.6   \n",
       "1                                      13.4   \n",
       "2                                      12.5   \n",
       "\n",
       "    Gross national income (GNI) per capita (PPP $) SDG 8.5  Unnamed: 8  \n",
       "0                                            68059.0               NaN  \n",
       "1                                            59375.0               NaN  \n",
       "2                                            55660.0               NaN  "
      ]
     },
     "execution_count": 1,
     "metadata": {},
     "output_type": "execute_result"
    }
   ],
   "source": [
    "import pandas as pd\n",
    "\n",
    "\n",
    "# 数据来自《2019 Human Development Index Ranking》\n",
    "df = pd.read_csv('./data/left_expectancy.csv')\n",
    "df.head(3)"
   ]
  },
  {
   "cell_type": "markdown",
   "metadata": {},
   "source": [
    "我们不难发现，排名前三的国家是 Norway（挪威）、Switzerland（瑞士）、Ireland（爱尔兰），他们都是欧洲的国家，也就是说欧洲的医疗卫生以及教育综合情况相对比较好。接下来，我们来看看中国在这张表里的情况："
   ]
  },
  {
   "cell_type": "code",
   "execution_count": 8,
   "metadata": {},
   "outputs": [
    {
     "ename": "ModuleNotFoundError",
     "evalue": "No module named 'pygal'",
     "output_type": "error",
     "traceback": [
      "\u001b[1;31m---------------------------------------------------------------------------\u001b[0m",
      "\u001b[1;31mModuleNotFoundError\u001b[0m                       Traceback (most recent call last)",
      "\u001b[1;32m<ipython-input-8-120bf289c163>\u001b[0m in \u001b[0;36m<module>\u001b[1;34m\u001b[0m\n\u001b[0;32m      1\u001b[0m \u001b[1;32mfrom\u001b[0m \u001b[0mIPython\u001b[0m\u001b[1;33m.\u001b[0m\u001b[0mdisplay\u001b[0m \u001b[1;32mimport\u001b[0m \u001b[0mHTML\u001b[0m\u001b[1;33m\u001b[0m\u001b[1;33m\u001b[0m\u001b[0m\n\u001b[0;32m      2\u001b[0m \u001b[1;32mfrom\u001b[0m \u001b[0mIPython\u001b[0m\u001b[1;33m.\u001b[0m\u001b[0mdisplay\u001b[0m \u001b[1;32mimport\u001b[0m \u001b[0mSVG\u001b[0m\u001b[1;33m\u001b[0m\u001b[1;33m\u001b[0m\u001b[0m\n\u001b[1;32m----> 3\u001b[1;33m \u001b[1;32mimport\u001b[0m \u001b[0mpygal\u001b[0m\u001b[1;33m\u001b[0m\u001b[1;33m\u001b[0m\u001b[0m\n\u001b[0m\u001b[0;32m      4\u001b[0m \u001b[1;32mimport\u001b[0m \u001b[0mpandas\u001b[0m \u001b[1;32mas\u001b[0m \u001b[0mpd\u001b[0m\u001b[1;33m\u001b[0m\u001b[1;33m\u001b[0m\u001b[0m\n\u001b[0;32m      5\u001b[0m \u001b[1;33m\u001b[0m\u001b[0m\n",
      "\u001b[1;31mModuleNotFoundError\u001b[0m: No module named 'pygal'"
     ]
    }
   ],
   "source": [
    "from IPython.display import HTML\n",
    "from IPython.display import SVG\n",
    "import pygal\n",
    "import pandas as pd\n",
    "\n",
    "\n",
    "# 数据来自《2019 Human Development Index Ranking》\n",
    "df = pd.read_csv('./data/left_expectancy.csv')\n",
    "\n",
    "# 数据集中标示为 '-' 的列是 flag_name，\n",
    "# 大家可以自己替换 flag_name 中的值来查看不同国家的国旗哦～\n",
    "flag_name = 'cn'\n",
    "svg = SVG('./data/cn.svg')\n",
    "display(svg)\n",
    "# 在数据集中查找中国\n",
    "df[df.Country.str.contains('China')]"
   ]
  }
 ],
 "metadata": {
  "kernelspec": {
   "display_name": "Python 3",
   "language": "python",
   "name": "python3"
  },
  "language_info": {
   "codemirror_mode": {
    "name": "ipython",
    "version": 3
   },
   "file_extension": ".py",
   "mimetype": "text/x-python",
   "name": "python",
   "nbconvert_exporter": "python",
   "pygments_lexer": "ipython3",
   "version": "3.7.7"
  }
 },
 "nbformat": 4,
 "nbformat_minor": 4
}
