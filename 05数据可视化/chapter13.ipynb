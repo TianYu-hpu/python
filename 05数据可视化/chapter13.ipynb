{
 "cells": [
  {
   "cell_type": "markdown",
   "metadata": {},
   "source": [
    "# 项目任务\n",
    "1. Data：初探食品数据集\n",
    "2. 绘制多变量图，开始探索！\n",
    "3. 找到热量高的食物\n",
    "4. 卡路里和脂肪\n",
    "5. 计算两个变量的相关性\n",
    "6. 绘制相关热力图，维生素在哪里？\n",
    "7. 绘制平行坐标图，矿物质在哪里？\n",
    "# 项目描述\n",
    "1.碳水化合物、脂肪和蛋白质，这些我们赖以生存所需要的能量主要来源于哪些食物呢？  \n",
    "2.食物中可以获取到的多种维生素之间的相关性是怎样的，哪些维生素同时存在于食物中的可能性大呢？  \n",
    "3.发现不同类型食物中含有营养物质的模式，好好吃饭，吃啥都知道吃的是啥^^  \n",
    "从百度百科上引用一段关于营养素的定义：  \n",
    "营养素（Nutrient）是维持机体繁殖、生长发育和生存等一切生命活动和过程，需要从外界环境中摄取的物质。营养素必须从食物中摄取，能够满足机体的最低需求，即生存。来自食物的营养素种类繁多，根据其化学性质和生理作用可将营养素分为六大类，即蛋白质、脂肪类、碳水化合物、矿物质、维生素和水。根据人体对各种营养素的需要量或体内含量多少，可将营养素分为宏量营养素和微量营养素。  \n",
    "\n",
    "宏量营养素：  \n",
    "人体对宏量营养素的需要量较大，包括碳水化合物、脂类和蛋白质，这三种营养素经体内氧化后均可以释放能量，故又称为产能营养素。  \n",
    "\n",
    "微量营养素：  \n",
    "相对宏量营养素而言，人体对微量营养素需要量较少，包括矿物质和维生素。根据在体内的含量不同，「矿物质」又可分为常量元素和微量元素。常量元素是指在体内的含量大于 0.01% 的矿物元素，微量元素则是指在体内含量小于 0.01% 的矿物元素。「维生素」则可根据溶解性分为脂溶性维生素和水溶性维生素。\n",
    "\n",
    "食品数据集：  \n",
    "项目所使用的数据源于 Open Food Facts，并进行了进一步的清洗和整理。Open Food Facts 是由大家制作，并为每一个人共享的食品数据库。人们可以用它选择更好的食物，因为它是开放的数据，任何人都可以因任何目的复用它。关于食品的分类可以在这个网站中查询，食品分类标准。"
   ]
  },
  {
   "cell_type": "markdown",
   "metadata": {},
   "source": [
    "1. Data：初探食品数据集\n",
    "食品数据集存储在 FoodsData.csv 文件中，数据集中包括了我们每天主要的食物，包含了 35 各列，其中包含 2 各分类型的文本变量，33 个连续型的数值变量：  \n",
    "\n",
    "分类文本变量：'名称', '大分类'  \n",
    "连续数值变量：'卡路里', '碳水化合物', '总糖', '蛋白质', '脂肪', '饱和脂肪', '单不饱和脂肪', '多元不饱和脂肪', '总纤维', '胆固醇', '维生素B6', '维生素A', '维生素B12', '维生素C', '维生素D', '维生素E', '维生素K', '硫胺素', '核黄素', '烟酸', '叶酸', '泛酸', '胆碱', '钙', '铜', '铁', '镁', '锰', '磷', '钾', '硒', '钠', '锌'\n",
    "主要任务：  \n",
    "\n",
    "请修改 num_of_food_categories 的值；  \n",
    "整体执行脚本；  \n",
    "思考一下，提供我们每天所需热量的主要的营养物质有哪些？  "
   ]
  },
  {
   "cell_type": "code",
   "execution_count": 2,
   "metadata": {},
   "outputs": [
    {
     "name": "stdout",
     "output_type": "stream",
     "text": [
      "Ellipsis\n"
     ]
    },
    {
     "data": {
      "text/plain": [
       "Index(['名称', '大分类', '卡路里', '碳水化合物', '总糖', '蛋白质', '脂肪', '饱和脂肪', '单不饱和脂肪',\n",
       "       '多元不饱和脂肪', '总纤维', '胆固醇', '维生素B6', '维生素A', '维生素B12', '维生素C', '维生素D',\n",
       "       '维生素E', '维生素K', '硫胺素', '核黄素', '烟酸', '叶酸', '泛酸', '胆碱', '钙', '铜', '铁',\n",
       "       '镁', '锰', '磷', '钾', '硒', '钠', '锌'],\n",
       "      dtype='object')"
      ]
     },
     "execution_count": 2,
     "metadata": {},
     "output_type": "execute_result"
    }
   ],
   "source": [
    "# ... 这里需要您编写 - 任务 1 的代码 ...\n",
    "\n",
    "# 导入 pandas 模块，并简称为 pd\n",
    "import pandas as pd\n",
    "\n",
    "# 加载食物数据\n",
    "df_food_data = pd.read_csv('./data/course_data/visualization/FoodsData.csv')\n",
    "\n",
    "# 查看数据集中的食物有几大分类\n",
    "num_of_food_categories = ...\n",
    "print(num_of_food_categories)\n",
    "\n",
    "# 查看数据集所有字段信息\n",
    "df_food_data.columns"
   ]
  },
  {
   "cell_type": "markdown",
   "metadata": {},
   "source": [
    "2. 绘制多变量图（Pair Plot），开始探索！\n",
    "前面我们提到过，食物中主要的能量来源于碳水化合物、蛋白质和脂肪，那么我们来看看这些能量都是从哪些食物里得来的。\n",
    "\n",
    "主要任务：\n",
    "\n",
    "挑选主要的 4 类食物作为分析对象：['水果 / 蔬菜 / 豆类 / 坚果', '焙烤食品', '肉及肉制品', '粮食和粮食制品']；  \n",
    "使用数据集中的 5 个变量来绘制 Pair Plot：['大分类', '卡路里', '碳水化合物', '蛋白质', '脂肪']；  \n",
    "运行脚本，思考从变量图中发现了哪些洞察，接下来如何进一步探索？  "
   ]
  },
  {
   "cell_type": "code",
   "execution_count": 4,
   "metadata": {},
   "outputs": [
    {
     "ename": "ModuleNotFoundError",
     "evalue": "No module named 'dvfe_03_09'",
     "output_type": "error",
     "traceback": [
      "\u001b[1;31m---------------------------------------------------------------------------\u001b[0m",
      "\u001b[1;31mModuleNotFoundError\u001b[0m                       Traceback (most recent call last)",
      "\u001b[1;32m<ipython-input-4-ebd047dd4a02>\u001b[0m in \u001b[0;36m<module>\u001b[1;34m\u001b[0m\n\u001b[0;32m      7\u001b[0m \u001b[1;31m# PLOT_STYLE: 定义绘图的样式\u001b[0m\u001b[1;33m\u001b[0m\u001b[1;33m\u001b[0m\u001b[1;33m\u001b[0m\u001b[0m\n\u001b[0;32m      8\u001b[0m \u001b[1;31m# pair_plot: 用于绘制多变量图\u001b[0m\u001b[1;33m\u001b[0m\u001b[1;33m\u001b[0m\u001b[1;33m\u001b[0m\u001b[0m\n\u001b[1;32m----> 9\u001b[1;33m \u001b[1;32mfrom\u001b[0m \u001b[0mdvfe_03_09\u001b[0m \u001b[1;32mimport\u001b[0m \u001b[0mPLOT_STYLE\u001b[0m\u001b[1;33m,\u001b[0m \u001b[0mpair_plot\u001b[0m\u001b[1;33m\u001b[0m\u001b[1;33m\u001b[0m\u001b[0m\n\u001b[0m\u001b[0;32m     10\u001b[0m \u001b[1;33m\u001b[0m\u001b[0m\n\u001b[0;32m     11\u001b[0m \u001b[1;31m# 设置单个数据面板的大小\u001b[0m\u001b[1;33m\u001b[0m\u001b[1;33m\u001b[0m\u001b[1;33m\u001b[0m\u001b[0m\n",
      "\u001b[1;31mModuleNotFoundError\u001b[0m: No module named 'dvfe_03_09'"
     ]
    }
   ],
   "source": [
    "# ... 这里需要您编写 - 任务 2 的代码 ...\n",
    "import sys\n",
    "sys.path.append('/data/course_data/visualization')\n",
    "# 导入绘图工具包\n",
    "from bokeh.plotting import show\n",
    "\n",
    "# PLOT_STYLE: 定义绘图的样式\n",
    "# pair_plot: 用于绘制多变量图\n",
    "from dvfe_03_09 import PLOT_STYLE, pair_plot\n",
    "\n",
    "# 设置单个数据面板的大小\n",
    "PLOT_STYLE.FRAME_WIDTH = 112\n",
    "PLOT_STYLE.FRAME_HEIGHT = 112\n",
    "\n",
    "# 筛选食物的类型\n",
    "food_categories = [\n",
    "'水果 / 蔬菜 / 豆类 / 坚果', '焙烤食品', '肉及肉制品', '粮食和粮食制品'\n",
    "]\n",
    "df_food_data_in_4_cats = df_food_data[\n",
    "    df_food_data['大分类'].isin(food_categories)\n",
    "]\n",
    "\n",
    "# 设置变量列表，并绘制多变量图\n",
    "food_variables = [\n",
    "     '大分类', '卡路里', '碳水化合物', '蛋白质', '脂肪'\n",
    "]\n",
    "\n",
    "grid = pair_plot(df_food_data_in_4_cats, food_variables)\n",
    "show(grid)"
   ]
  },
  {
   "cell_type": "markdown",
   "metadata": {},
   "source": [
    "3. 找到热量高的食物\n",
    "在第 2 步中，绘图中我们可以看到很多洞察，例如：\n",
    "\n",
    "数据集中 '水果 / 蔬菜 / 豆类 / 坚果' 类的食物种类最多；\n",
    "卡路里与脂肪的正相关性最高 0.887；\n",
    "肉类的蛋白质含量最高，远远超过其它类型的食物；\n",
    "在第一排中的分类箱形图中，我们还发现了异常值，说明在 '水果 / 蔬菜 / 豆类 / 坚果' 类型的食物中，有一些食物的热量非常高。\n",
    "主要任务：\n",
    "\n",
    "找到 '水果 / 蔬菜 / 豆类 / 坚果' 类型食物中哪些食物的热量最高；\n",
    "通过补全脚本回答问题。"
   ]
  },
  {
   "cell_type": "code",
   "execution_count": 5,
   "metadata": {},
   "outputs": [
    {
     "data": {
      "text/html": [
       "<div>\n",
       "<style scoped>\n",
       "    .dataframe tbody tr th:only-of-type {\n",
       "        vertical-align: middle;\n",
       "    }\n",
       "\n",
       "    .dataframe tbody tr th {\n",
       "        vertical-align: top;\n",
       "    }\n",
       "\n",
       "    .dataframe thead th {\n",
       "        text-align: right;\n",
       "    }\n",
       "</style>\n",
       "<table border=\"1\" class=\"dataframe\">\n",
       "  <thead>\n",
       "    <tr style=\"text-align: right;\">\n",
       "      <th></th>\n",
       "      <th>名称</th>\n",
       "      <th>大分类</th>\n",
       "      <th>卡路里</th>\n",
       "    </tr>\n",
       "  </thead>\n",
       "  <tbody>\n",
       "  </tbody>\n",
       "</table>\n",
       "</div>"
      ],
      "text/plain": [
       "Empty DataFrame\n",
       "Columns: [名称, 大分类, 卡路里]\n",
       "Index: []"
      ]
     },
     "metadata": {},
     "output_type": "display_data"
    }
   ],
   "source": [
    "# ... 这里需要您编写 - 任务 3 的代码 ...\n",
    "\n",
    "# 设置数据排序的方式\n",
    "ascending = True\n",
    "\n",
    "# 找到 '水果 / 蔬菜 / 豆类 / 坚果' 类别中热量最高的前 5 种食物\n",
    "high_calorie = df_food_data[\n",
    "    df_food_data['大分类'] == '水果 / 蔬菜 / 豆类 / 坚果'\n",
    "].sort_values(\n",
    "    by = '卡路里', \n",
    "    ascending = ascending\n",
    ").loc[\n",
    "    :, ['名称', '大分类', '卡路里']\n",
    "].head(\n",
    "    5\n",
    ")\n",
    "\n",
    "# '水果 / 蔬菜 / 豆类 / 坚果' 类别中，热量最高的食物是\n",
    "highest_calorie_food_name = ...\n",
    "\n",
    "# 打印输出结果\n",
    "display(high_calorie)"
   ]
  },
  {
   "cell_type": "markdown",
   "metadata": {},
   "source": [
    "4. 卡路里和脂肪\n",
    "前面的步骤中我们发现，食物的热量卡路里和脂肪的正相关性最高，数值为 0.887。接下来，我们用绘图的方式来继续深入探索卡路里和脂肪的相关性。\n",
    "\n",
    "主要任务：\n",
    "\n",
    "绘制卡路里和脂肪的散点图；  \n",
    "用不同的颜色代表不同类型的食物；  \n",
    "绘制趋势线；  \n",
    "探索脂肪含量最高和最低的食物是什么？  "
   ]
  },
  {
   "cell_type": "code",
   "execution_count": null,
   "metadata": {},
   "outputs": [],
   "source": [
    "# ... 这里需要您编写 - 任务 4 的代码 ...\n",
    "\n",
    "# 导入科学计算工具\n",
    "import numpy as np\n",
    "# 导入颜色调色板\n",
    "from bokeh.palettes import brewer\n",
    "# 导入绘图组件，figure 是绘图主工具，show 用来显示绘图结果\n",
    "from bokeh.plotting import figure, show\n",
    "# 导入鼠标悬停时显示提示信息的工具\n",
    "from bokeh.models import HoverTool\n",
    "\n",
    "# 定义一个绘制散点图的函数\n",
    "def scatter_plot(df, cat, tip, cont_1, cont_2, colors):\n",
    "    \n",
    "    # 取得调色版颜色\n",
    "    colors_cat = colors[len(df[cat].unique())]\n",
    "    \n",
    "    # 创建绘图\n",
    "    p = figure(\n",
    "        frame_width  = 400, frame_height = 400,\n",
    "        x_axis_type = 'log', y_axis_type = 'log',\n",
    "        tools = ''\n",
    "    )\n",
    "    \n",
    "    # 分颜色绘制散点图\n",
    "    scatters = []\n",
    "    for i, (by, group) in enumerate(df.groupby(by=cat)):\n",
    "        data = {\n",
    "            'name': group[tip],\n",
    "            'x': group[cont_1],\n",
    "            'y': group[cont_2]\n",
    "        } \n",
    "        scatter = p.scatter(x='x', y='y', size=6, color=colors_cat[i], legend_label=by, source=data)    \n",
    "        scatters.append(scatter)\n",
    "    \n",
    "    # 设置鼠标悬浮时的文字提示\n",
    "    hover_tool = HoverTool(tooltips='@name', renderers=scatters, mode='vline')        \n",
    "    p.tools.append(hover_tool)\n",
    "    \n",
    "    # 绘制拟合曲线，使用对数拟合，因为绘图的坐标系使用的是对数坐标系\n",
    "    degree = 1\n",
    "    x_line = np.linspace(df[cont_1].min(), df[cont_1].max(), 100)\n",
    "    x_line_log = np.log(x_line)\n",
    "    fit_coff = np.polyfit(\n",
    "        np.log(df[cont_1]), \n",
    "        np.log(df[cont_2]), \n",
    "        degree)\n",
    "    y_line_log = sum(fit_coff[i]*(x_line_log**(degree-i)) for i in range(degree+1))\n",
    "    p.line(\n",
    "        x=np.exp(x_line_log), y=np.exp(y_line_log), \n",
    "        line_width=1, line_dash='dotted', line_color='black'\n",
    "    )\n",
    "    \n",
    "    # 设置坐标轴信息\n",
    "    p.xaxis.axis_label = cont_1\n",
    "    p.yaxis.axis_label = cont_2\n",
    "    p.legend.location = 'top_left'\n",
    "    p.legend.label_text_font_size = '8pt'\n",
    "    p.legend.background_fill_color = None\n",
    "    p.legend.background_fill_alpha = 0\n",
    "    p.legend.border_line_width = 0\n",
    "    return p\n",
    "\n",
    "# 调用函数绘制散点图\n",
    "p = scatter_plot(df_food_data_in_4_cats, '大分类', '名称', '脂肪', '卡路里', brewer['Set1'])\n",
    "show(p)\n",
    "\n",
    "# 浏览绘图，探索数据集中脂肪含量最高的食物是什么？\n",
    "\n",
    "# 脂肪含量最高的食物\n",
    "highest_fat_food = '...'\n",
    "\n",
    "# 脂肪含量最低的食物\n",
    "lowest_fat_foot = '...'"
   ]
  },
  {
   "cell_type": "markdown",
   "metadata": {},
   "source": [
    "5. 计算两个变量的相关性\n",
    "我们的肚子是有限的，吃了苹果就吃不下香蕉，吃了泡面就吃不下包子...等等，所以我们会想，吃哪些食物在获取维生素的效率上是最高效的呢？哪些维生素经常一起在食物中出现？我们来研究这个问题。\n",
    "\n",
    "主要任务：\n",
    "\n",
    "计算维生素两两之间的相关性；  \n",
    "然后把计算结果用数值的方式打印出来。  "
   ]
  },
  {
   "cell_type": "code",
   "execution_count": null,
   "metadata": {},
   "outputs": [],
   "source": [
    "# ... 这里需要您编写 - 任务 5 的代码 ...\n",
    "\n",
    "# 选取各个列所代表的维生素\n",
    "col_q = ['维生素A', '维生素B6', '维生素B12', \n",
    "         '维生素C', '维生素D', '维生素E', \n",
    "         '维生素K', '硫胺素', '核黄素', \n",
    "         '烟酸', '叶酸', '泛酸']\n",
    "\n",
    "# 选取各个行所代表的维生素\n",
    "row_q = ['维生素B6', '维生素B12', '维生素C', \n",
    "         '维生素D', '维生素E', '维生素K', \n",
    "         '硫胺素', '核黄素', '烟酸', \n",
    "         '叶酸', '泛酸', '胆碱']\n",
    "\n",
    "# 计算维生素在食物中两两之间的相关性\n",
    "corr_array = np.full((len(col_q), len(row_q)), .0)\n",
    "for i in range(len(row_q)):\n",
    "    for j in range(len(col_q)):\n",
    "        # 计算相关性\n",
    "        corr = df_food_data[[row_q[i], col_q[j]]].corr()\n",
    "        # 将相关性计算结果写入数组\n",
    "        corr_array[i, j] = corr.iloc[0, 1]\n",
    "        # display(corr)\n",
    "\n",
    "# 将相关性的计算结果通过数值的方式打印出来\n",
    "df_corr_array = pd.DataFrame(corr_array)\n",
    "df_corr_array.columns = col_q\n",
    "df_corr_array.index = row_q\n",
    "df_corr_array"
   ]
  },
  {
   "cell_type": "markdown",
   "metadata": {},
   "source": [
    "6. 绘制相关热力图（Coorelation Heatmap Plot），维生素在哪里？\n",
    "在第 5 步中，我们知道了相关性计算的方法，但是纯数据的表格太难以理解，下面我们来绘制相关热力图，通过可视化的方式发现计算结果中的数据相关性。\n",
    "\n",
    "heatmap_plot 是封装好的功能，直接调用更为简单，其计算相关性的原理与第 5 步中的一致。\n",
    "主要任务：\n",
    "\n",
    "运行脚本，观察绘图结果，发现其中的洞察。"
   ]
  },
  {
   "cell_type": "code",
   "execution_count": null,
   "metadata": {},
   "outputs": [],
   "source": [
    "# ... 这里需要您编写 - 任务 6 的代码 ...\n",
    "import sys\n",
    "sys.path.append('/data/course_data/visualization')\n",
    "# 导入绘制相关热力图的工具\n",
    "from dvfe_03_09 import heatmap_plot\n",
    "\n",
    "# 设置列所包含的维生素名称，自左向右\n",
    "col_q = ['维生素A', '维生素B6', '维生素B12', '维生素C', '维生素D', '维生素E', '维生素K', '硫胺素', '核黄素', '烟酸', '叶酸', '泛酸']\n",
    "\n",
    "# 设置行所包含的维生素名称，自下向上\n",
    "row_q = ['维生素B6', '维生素B12', '维生素C', '维生素D', '维生素E', '维生素K', '硫胺素', '核黄素', '烟酸', '叶酸', '泛酸', '胆碱']\n",
    "\n",
    "# 绘制相关热力图并显示\n",
    "p = heatmap_plot(df_food_data, row_q, col_q)\n",
    "show(p)"
   ]
  },
  {
   "cell_type": "markdown",
   "metadata": {},
   "source": [
    "7. 绘制平行坐标图（Parallel Coordinates Plot），矿物质在哪里？\n",
    "最后，我们来寻找食物中的矿物质，数据集中包含 10 中矿物质，所有的数据都是连续的数值型变量，那么使用平行坐标图来发现哪些食物中存在各类矿物质元素，是非常好的选择。\n",
    "\n",
    "主要任务：\n",
    "\n",
    "运行脚本，绘制平行坐标图；  \n",
    "找出数据集中在 '水果 / 蔬菜 / 豆类 / 坚果' 类型的食物中普遍蕴含比较丰富的矿物质是什么？  "
   ]
  },
  {
   "cell_type": "code",
   "execution_count": null,
   "metadata": {},
   "outputs": [],
   "source": [
    "# ... 这里需要您编写 - 任务 7 的代码 ...\n",
    "import sys\n",
    "sys.path.append('/data/course_data/visualization')\n",
    "# 导入绘制平行坐标图所需的工具\n",
    "from dvfe_03_09 import parallel_plot\n",
    "\n",
    "# 设置绘图参数\n",
    "# 绘图的宽度\n",
    "PLOT_STYLE.FRAME_WIDTH = 650\n",
    "# 每个数据面板的高度\n",
    "PLOT_STYLE.FRAME_HEIGHT = 100\n",
    "# 所有数据面板绘制的左起始位置\n",
    "PLOT_STYLE.MIN_BORDER_LEFT = 70\n",
    "\n",
    "# 设置我们关心的「矿物质」所在的字段名称\n",
    "variables = ['钙', '铜', '铁', '镁', '锰', '磷', '钾', '硒', '钠', '锌']\n",
    "# 开始绘图\n",
    "p = parallel_plot(df_food_data_in_4_cats, '大分类', variables)\n",
    "show(p)\n",
    "\n",
    "# 数据集中，'水果 / 蔬菜 / 豆类 / 坚果' 类的食物中，什么「矿物质」比较丰富？\n",
    "mineral = '...'"
   ]
  }
 ],
 "metadata": {
  "kernelspec": {
   "display_name": "Python 3",
   "language": "python",
   "name": "python3"
  },
  "language_info": {
   "codemirror_mode": {
    "name": "ipython",
    "version": 3
   },
   "file_extension": ".py",
   "mimetype": "text/x-python",
   "name": "python",
   "nbconvert_exporter": "python",
   "pygments_lexer": "ipython3",
   "version": "3.7.7"
  }
 },
 "nbformat": 4,
 "nbformat_minor": 4
}
