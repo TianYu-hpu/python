{
 "cells": [
  {
   "cell_type": "markdown",
   "metadata": {},
   "source": [
    "# 直方图\n",
    "这是澳大利亚各种职业的薪水直方图。数据集中的每一行包含该职业的平均薪水，因此计数是职业的计数。 \n",
    "![直方图](./picture/2-1.png)\n",
    "提示：点击图片可以放大，这样查看的会更清晰。数据来源：https://github.com/rfordatascience/tidytuesday/blob/master/data/2018/2018-04-23/week4_australian_salary.csv   \n",
    "![](./picture/2-2.png)\n",
    "数据集的字段的含义是：  \n",
    "✭gender_rank：职业在性别中的排名；  \n",
    "✭occupation：职业；  \n",
    "✭gender：性别；  \n",
    "✭individuals：各职业的统计人数；  \n",
    "✭average_taxabl_income：职业平均薪资。  \n",
    "选择题  \n",
    "问题来了，根据直方图和数据集的描述，选择下列说法正确的选项：  \n",
    "A. 直方图是右偏的。  \n",
    "B. 最普遍的职业薪资范围是 56 万（加元）/年 ～ 58 万（加元）/年。  \n",
    "C. 直方图是单峰的。  \n",
    "D. 直方图是双峰的。  \n",
    "E. 直方图是向左偏的。  \n",
    "F.最普遍的职业薪资范围是 40k（加元）/年 ～ 60k（加元）/年。  \n",
    "答案是 ACF \n",
    "都答对了吗？最普遍的职业薪资范围就是直方图中柱子最高的那个所对应的薪资区间。下面我们来一起跑代码。   \n"
   ]
  },
  {
   "cell_type": "code",
   "execution_count": 2,
   "metadata": {},
   "outputs": [
    {
     "name": "stdout",
     "output_type": "stream",
     "text": [
      "<class 'pandas.core.frame.DataFrame'>\n",
      "Int64Index: 2197 entries, 1 to 2197\n",
      "Data columns (total 5 columns):\n",
      " #   Column                  Non-Null Count  Dtype \n",
      "---  ------                  --------------  ----- \n",
      " 0   gender_rank             2197 non-null   int64 \n",
      " 1   occupation              2197 non-null   object\n",
      " 2   gender                  2197 non-null   object\n",
      " 3   individuals             2197 non-null   int64 \n",
      " 4   average_taxable_income  2197 non-null   int64 \n",
      "dtypes: int64(3), object(2)\n",
      "memory usage: 103.0+ KB\n"
     ]
    }
   ],
   "source": [
    "import pandas as pd\n",
    "\n",
    "# 数据集使用的编码为（encoding），CP1252\n",
    "df = pd.read_csv('./data/australian_salary.csv', encoding='CP1252', index_col=0)\n",
    "df.info()"
   ]
  },
  {
   "cell_type": "markdown",
   "metadata": {},
   "source": [
    "直方图的外观在很大程度上受到其 bin 宽度的影响：它确定了直方图中每个条形图形在 x 轴上的位置以及间隔。  \n",
    "如果 bin 太宽，我们将看不到分布形状的足够细节；如果 bin 太窄，分布的整体形状可能会被噪音掩盖。  \n",
    "除了自己亲眼看一下图，否则很难知道「最佳」的 bin 宽度（虽然说目前有一些自动的算法来估计最佳的分割区间，但是往往并不十分好用）。  \n",
    "下面给大家讲一个巴拿马一只可爱的小老鼠的故事。  \n",
    "先介绍一下这只小老鼠：   \n",
    "![](./picture/2-3.jpg)\n",
    "✭它的名字叫 Agoutis（刺豚鼠），前脚有五个脚趾，后脚有三个脚趾。  \n",
    "✭第一脚趾很小，尾巴很短或不存在且无毛。  \n",
    "✭它可能长到 60 厘米（24英寸），重达 4 公斤（8.8 磅）。  \n",
    "✭大多数种类的背上都是棕色，腹部则发白或浅黄色。  \n",
    "✭毛皮可能有光泽的外观，然后以橙色闪烁。  \n",
    "关于它们是昼夜动物还是夜间动物的报道有所不同，科学家们通过摄像机和人工智能研究了刺豚鼠的生活习性。  \n",
    "我们来看看科学家的研究成果，这里您可以看到一组直方图：  \n",
    "![](./picture/2-4.png)\n",
    "它是巴拿马巴拉岛（Barra Colorado Island）上的一个照相机诱集装置抓拍到刺豚鼠（Agouti，啮齿动物）的直方图。  \n",
    "当动物通过相机时，相机会记录拍摄照片时的时间戳，因此直方图显示了刺豚鼠一天中最活跃的时间的分布。  \n",
    "提示：数据集来自https://figshare.com/articles/Activity_level_estimation_data/1160536  \n",
    "![](./picture/2-5.png)  \n",
    "数据集的字段是这样的：  \n",
    "✭species：物种。  \n",
    "✭time：被抓拍到的时间，用小数表示，通过 time x 24小时 可以得到相对于一天开始的小时数。  \n",
    "这组直方图，从左到右、从上到下分别采用了 8.0, 4.0, 2.0, 1.0, 0.5, 0.25（单位：小时）作为 bin 的宽度来绘制直方图。  \n",
    "这里值得一提的是，直方图的 bin 是以中午 12 点为对称轴向两侧排布的，对于一天中的 0～24 小时的分布统计来说，这通常会是一个好的选择。  \n",
    "选择题  \n",
    "下面问题来了，下面这些关于刺豚鼠的描述中，哪个是正确的呢？（提示：选择 bin 宽度合适的直方图，来解读刺豚鼠的生活习性）  \n",
    "A. 刺豚鼠从「凌晨 4 点到下午 12 点」有较高的活动水平，从「下午 12 点到晚上 8 点」则有中等水平的活动。  \n",
    "B. 刺豚鼠在日出后「上午 6:30 至上午 8:30」和日落前「下午 4 点至 下午 6 点」几个小时内最活跃。  \n",
    "C. 在整个日照时间，刺豚鼠都表现出恒定的活动水平。  \n",
    "D. 刺豚鼠的活动变化很大，全天都有十几个活动高峰期。  \n",
    "刺豚鼠在日出后「上午 6:30 至上午 8:30」和日落前「下午 4 点至 下午 6 点」几个小时内最活跃。  \n",
    "选择 1.0（小时）作为 bin 宽度绘制的直方图，能够更加清晰的反应刺豚鼠一天之中的活动密度。  \n",
    "调整直⽅图中的数据桶  \n",
    "下面我们来跑程序。  \n",
    "运行下面的代码，拖拽「间隔（小时）」滑动条，改变 bin 的宽度，查看直方图的变化结果。这里分别采用了 8.0，4.0，2.0，1.0，0.5，0.25（单位：小时）作为 bin 的宽度来绘制直方图。  \n",
    "下面是生成直方图所使用的数据集。  \n",
    "运行下面的代码，先将需要用到的数据集读取进 Python 程序中，然后查看当前数据集的基本信息，根据输出的内容可以知道，当前数据集中有两列数据，分别为‘species’和‘time’，共有 17820 条数据。  \n",
    "运行下面的代码，过滤数据集中的数据，查看所有'species'列的值为‘agouti’的数据，也就是所有刺豚鼠的数据。  "
   ]
  },
  {
   "cell_type": "code",
   "execution_count": 6,
   "metadata": {},
   "outputs": [
    {
     "data": {
      "text/plain": [
       "array(['agouti', 'rat', 'peccary', 'ocelot', 'tayra', 'tamandua',\n",
       "       'brocket', 'coati', 'squirrel', 'mouse', 'armadillo', 'opossum',\n",
       "       'paca'], dtype=object)"
      ]
     },
     "execution_count": 6,
     "metadata": {},
     "output_type": "execute_result"
    }
   ],
   "source": [
    "import sys\n",
    "import pandas as pd\n",
    "# sys.path.append('/data/course_data/visualization')\n",
    "\n",
    "df_panama = pd.read_csv('./data/BCItime.txt', sep=' ')\n",
    "\n",
    "# 数据集中包含 Agoutis 的部分\n",
    "df_panama[df_panama['species'] == 'agouti']\n",
    "# 数据集中还有其它物种的数据，可以通过下面的命令查看都有物种\n",
    "df_panama['species'].unique()"
   ]
  },
  {
   "cell_type": "markdown",
   "metadata": {},
   "source": [
    "通过上面代码运行的结果可以发现，除了'agouti'外，数据集中还有很多有意思的物种，比如‘paca’,中文名字叫做‘无尾刺豚鼠’，主要栖息于墨西哥到巴西的地底森林，在齧（niè）齿动物中它可不算是小可爱，它的体长可达 75 公分上下。具体样子可以看下图。  \n",
    "运行下面代码，对比一下'paca'与'agouti'的生活习性有什么不同。  "
   ]
  },
  {
   "cell_type": "code",
   "execution_count": 7,
   "metadata": {},
   "outputs": [
    {
     "data": {
      "text/plain": [
       "array([[<matplotlib.axes._subplots.AxesSubplot object at 0x00000229330C15C8>]],\n",
       "      dtype=object)"
      ]
     },
     "execution_count": 7,
     "metadata": {},
     "output_type": "execute_result"
    },
    {
     "data": {
      "image/png": "[encoded data removed]",
      "text/plain": [
       "<Figure size 432x288 with 1 Axes>"
      ]
     },
     "metadata": {
      "needs_background": "light"
     },
     "output_type": "display_data"
    }
   ],
   "source": [
    "import sys\n",
    "import pandas as pd\n",
    "df_panama = pd.read_csv('./data/BCItime.txt', sep=' ')\n",
    "\n",
    "# 看看 'rat' 的生活习性和 'agouti' 进行对比\n",
    "df_panama[df_panama['species'] == 'paca'].hist(bins=30)"
   ]
  }
 ],
 "metadata": {
  "kernelspec": {
   "display_name": "Python 3",
   "language": "python",
   "name": "python3"
  },
  "language_info": {
   "codemirror_mode": {
    "name": "ipython",
    "version": 3
   },
   "file_extension": ".py",
   "mimetype": "text/x-python",
   "name": "python",
   "nbconvert_exporter": "python",
   "pygments_lexer": "ipython3",
   "version": "3.7.7"
  }
 },
 "nbformat": 4,
 "nbformat_minor": 4
}
