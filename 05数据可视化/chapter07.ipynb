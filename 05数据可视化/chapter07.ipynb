{
 "cells": [
  {
   "cell_type": "markdown",
   "metadata": {},
   "source": [
    "# 条形图\n",
    "⽤条形图讲故事  \n",
    "\n",
    "我们来一起画几个柱形图吧，练习解读柱形图中的含义～  \n",
    "\n",
    "首先，我们来复习一下柱形图的使用场景：  \n",
    "\n",
    "✭ 柱形图（Bar Plot），又称条形图、柱状图，是一种以长方形的长度为变量的统计图表。  \n",
    "✭ 柱形图用来比较两个或以上的价值（不同时间或者不同条件），只有一个变量，通常利用于较小的数据集分析。  \n",
    "✭ 柱形图亦可单维度横向排列或竖向排列（也可以用多维分组表达）。  \n",
    "✭ 绘制柱形图时，柱形中线须对齐项目刻度。相较之下，折线图则是将数据代表之点对齐项目刻度。  \n",
    "✭ 类似的图形表达为直方图。  \n",
    "\n",
    "【案例】ESPN 前 100 名著名运动员的分析。  \n",
    "\n",
    "条形图是查看分类变量中每个类别计数的好方法，ESPN 前 100 名著名运动员数据集具有两个类别变量：国家和体育项目。探索下面的柱形图，并回答问题。  \n",
    "\n",
    "运行下方脚本，脚本运行后，可以看见一个下拉菜单，下拉菜单中提供了四种分类方式：  \n",
    "✭ 按照国家  \n",
    "✭ 按照运动项目  \n",
    "✭ 按照国家/运动项目  \n",
    "✭ 按照国家（分组）/运动项目  \n",
    "\n",
    "我们一起来看下这些不同分类方式对数据探索有什么用途。  "
   ]
  },
  {
   "cell_type": "code",
   "execution_count": null,
   "metadata": {},
   "outputs": [],
   "source": [
    "import sys\n",
    "sys.path.append('/data/course_data/visualization')\n",
    "\n",
    "from dvfe_02_06 import interact_espn_app\n",
    "interact_espn_app()"
   ]
  },
  {
   "cell_type": "markdown",
   "metadata": {},
   "source": [
    "选择题  \n",
    "下面问题来了，根据上面的 ESPN 前 100 著名运动员的绘图，选出下面表述不正确的选项：  \n",
    "A. 德国名列第三。  \n",
    "B. 有五项运动超过五名以上的运动员。  \n",
    "C. 来自美国的足球运动员比任何其他国家/运动项目的运动员总和还要多。  \n",
    "D. 名单上的板球运动员比法国的运动员总数还要多。  \n",
    "E. 美国运动员涉及的运动项目的类型最多。  \n",
    "\n",
    "选项是C。\n",
    "⽤堆叠的条形图讲故事\n",
    "\n",
    "在回答这个题目的问题时：  \n",
    "✭ 选择一个适当的分类方式。  \n",
    "✭ 然后在 y 轴上查找感兴趣的国家/地区，运动项目或国家/体育组合。  \n",
    "✭ 然后从条形图的末端向下看，直到到达 x 轴以找到计数。  \n",
    "✭ 有些问题可能要查看多个分类方式的绘图。  \n",
    "\n",
    "【案例】我们一起来学习解读堆积图。  \n",
    "\n",
    "我们在视频中，接触到了英国在 2018 年做的健康大调查的数据集，《Health Survey for England in 2018》，\n",
    "并解读了儿童每天要吃多少水果和蔬菜的情况，我们在这里接着解读英国老年人每天需要协助的生活情况。  \n",
    "\n",
    "如果在解读数据的时候，更加在「乎百分比」而不是计数的时候，那么堆积图通常是不错的选择。  \n",
    "\n",
    "这个案例的数据集使用了英格兰健康调查的另一个问题的调查结果，\n",
    "调查问卷中的问题是：“65 岁或以上的成年人被问及有多少 “日常活动”（日常任务）需要协助”。\n",
    "\n",
    "运行下面 Jupyter 中的脚本，会显示一个可以交互的绘图，将鼠标悬停在柱形上可以查看该柱块的详细数据，\n",
    "包括类别、百分比等。  \n",
    "\n",
    "运行脚本，获得交互方式的绘图：    \n",
    "✭ 下面的绘图分为左右两个部分，左侧为男性、右侧为女性。    \n",
    "✭ x 轴为年龄分组，y 轴为人数的百分比。    \n",
    "✭ 不同的柱形颜色代表需要的协助次数。    "
   ]
  },
  {
   "cell_type": "code",
   "execution_count": 3,
   "metadata": {},
   "outputs": [
    {
     "ename": "ModuleNotFoundError",
     "evalue": "No module named 'dvfe_02_07'",
     "output_type": "error",
     "traceback": [
      "\u001b[1;31m---------------------------------------------------------------------------\u001b[0m",
      "\u001b[1;31mModuleNotFoundError\u001b[0m                       Traceback (most recent call last)",
      "\u001b[1;32m<ipython-input-3-34c71e00d9e3>\u001b[0m in \u001b[0;36m<module>\u001b[1;34m\u001b[0m\n\u001b[0;32m      2\u001b[0m \u001b[0msys\u001b[0m\u001b[1;33m.\u001b[0m\u001b[0mpath\u001b[0m\u001b[1;33m.\u001b[0m\u001b[0mappend\u001b[0m\u001b[1;33m(\u001b[0m\u001b[1;34m'/data/course_data/visualization'\u001b[0m\u001b[1;33m)\u001b[0m\u001b[1;33m\u001b[0m\u001b[1;33m\u001b[0m\u001b[0m\n\u001b[0;32m      3\u001b[0m \u001b[1;33m\u001b[0m\u001b[0m\n\u001b[1;32m----> 4\u001b[1;33m \u001b[1;32mfrom\u001b[0m \u001b[0mdvfe_02_07\u001b[0m \u001b[1;32mimport\u001b[0m \u001b[0minteract_social_care_app\u001b[0m\u001b[1;33m\u001b[0m\u001b[1;33m\u001b[0m\u001b[0m\n\u001b[0m\u001b[0;32m      5\u001b[0m \u001b[0minteract_social_care_app\u001b[0m\u001b[1;33m(\u001b[0m\u001b[1;33m)\u001b[0m\u001b[1;33m\u001b[0m\u001b[1;33m\u001b[0m\u001b[0m\n",
      "\u001b[1;31mModuleNotFoundError\u001b[0m: No module named 'dvfe_02_07'"
     ]
    }
   ],
   "source": [
    "import sys\n",
    "sys.path.append('/data/course_data/visualization')\n",
    "\n",
    "from dvfe_02_07 import interact_social_care_app\n",
    "interact_social_care_app()"
   ]
  },
  {
   "cell_type": "code",
   "execution_count": null,
   "metadata": {},
   "outputs": [],
   "source": [
    "选择题  \n",
    "下面问题来了，下面哪个描述是正确的？  \n",
    "A. 年龄在 80 岁以上的女性中，只有不到一半的人需要帮助来开展两项或以上的活动。  \n",
    "B. 在需要帮助来开展仅一项活动的数据中，人数最少的人群是 75-79 岁的男性。  \n",
    "C. 无需帮助的人中，比例最高的人群是 70-74 岁的男性。  \n",
    "D. 80 岁以上的男性中，超过一半的人至少需要帮助一项以上的活动。  \n",
    "\n",
    "恭喜您，回答正确，正确的选项是C。  \n",
    "\n",
    "运行脚本后可以看到一个可以交互的绘图，根据选项中的描述，  \n",
    "先在 x 轴上寻找对应的年龄分组，然后可以将鼠标移动到不同的柱块上查看精确的数值。  \n",
    "  \n",
    "恭喜，您又学完了一课，希望您在学习中心里留下您的思考和学习笔记。  \n",
    "\n"
   ]
  }
 ],
 "metadata": {
  "kernelspec": {
   "display_name": "Python 3",
   "language": "python",
   "name": "python3"
  },
  "language_info": {
   "codemirror_mode": {
    "name": "ipython",
    "version": 3
   },
   "file_extension": ".py",
   "mimetype": "text/x-python",
   "name": "python",
   "nbconvert_exporter": "python",
   "pygments_lexer": "ipython3",
   "version": "3.7.7"
  }
 },
 "nbformat": 4,
 "nbformat_minor": 4
}
