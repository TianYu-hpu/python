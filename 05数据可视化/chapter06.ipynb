{
 "cells": [
  {
   "cell_type": "markdown",
   "metadata": {},
   "source": [
    "# 折线图\n",
    "## ⽤折线图讲故事\n",
    "我们来一起画几个线形图吧，练习解读线形图中的含义~    \n",
    "复习一下线形图的使用场景，线形图实际上最早是在股票交易中绘制收盘价的一种图表形式，用来反应股票价格与时间之间的关系。    \n",
    "另外我们小时候学习平面几何的时候，画直线、抛物线、双曲线之类的也都是线形图。    \n",
    "线形图本质上是在反应两个连续型变量之间的关系，在数据可视化的线形图绘制过程中，我们要注意的是：    \n",
    "✭ 数据集的获取或观测是连续的，是通过某种方式连接起来的；    \n",
    "✭ 通常来讲，最常见的数据连接方式是时间或日期，但并非所有的情况；    \n",
    "✭ 距离、方向这些基本的物理变量都可以成为数据的连接方式。    \n",
    "如果我们在线形图上绘制多条线，那么可以方便的比较数值之间的关系。    \n",
    "【案例】下面我们来看这样一个数据集：    \n",
    "下图显示了从 1930 年到 1970 年采用四种技术（汽车，冰箱，炉灶和吸尘器）的美国家庭百分比。 \n",
    "![](./picture/6-1.png)\n",
    "数据源：Hannah Ritchie and Max Roser (2019) - Technology Adoption  \n",
    "图中的英文图例，这里简要解释一下他们的含义：    \n",
    "✭ Automobile：汽车  \n",
    "✭ Refrigerator：冰箱  \n",
    "✭ Stove：炉灶  \n",
    "✭ Vaccum：真空吸尘器  \n",
    "选择题  \n",
    "下面问题来了，下列的选项当中有陈述正确的和错误的，请选择出陈述正确的选项：  \n",
    "A. 1940 年之后，冰箱的普及率始终高于炉灶。  \n",
    "B. 在 1940 年， 炉灶的普及率超过了汽车的普及率。  \n",
    "C. 与采用真空吸尘器相比，冰箱从 50% 的采用率提高到 75% 的采用率需要更长的时间。  \n",
    "D. 1945 年，四项技术中有两项的采纳率低于 1940 年。  \n",
    "E. 1930 年，汽车普及率超过了 50%。  \n",
    "F. 1940 年之后，汽车的普及率始终高于真空吸尘器的普及率。  \n",
    "答案是A，D，E，   \n",
    "这个案例的目的，是希望大家能够练习解读线形图，一般解读线形图需要有三个步骤：  \n",
    "\n",
    "✭ 首先阅读图例，以便了解哪种颜色对应于哪些技术。  \n",
    "✭ 要回答有关特定日期发生了怎样的情况，需要在 x 轴上找到该日期，然后向上查找，直到找到更兴趣的线。  \n",
    "✭ 要回答有关在特定日期之后比较采用率的问题，跟随线的趋势向右看他们是否相交。  \n",
    "\n",
    "我们来了解一个当前用到的数据集，这里对数据集进行了读取并展示前五行数据：  \n",
    "\n"
   ]
  },
  {
   "cell_type": "code",
   "execution_count": 2,
   "metadata": {},
   "outputs": [
    {
     "data": {
      "text/html": [
       "<div>\n",
       "<style scoped>\n",
       "    .dataframe tbody tr th:only-of-type {\n",
       "        vertical-align: middle;\n",
       "    }\n",
       "\n",
       "    .dataframe tbody tr th {\n",
       "        vertical-align: top;\n",
       "    }\n",
       "\n",
       "    .dataframe thead th {\n",
       "        text-align: right;\n",
       "    }\n",
       "</style>\n",
       "<table border=\"1\" class=\"dataframe\">\n",
       "  <thead>\n",
       "    <tr style=\"text-align: right;\">\n",
       "      <th></th>\n",
       "      <th>Entity</th>\n",
       "      <th>Code</th>\n",
       "      <th>Year</th>\n",
       "      <th>Technology Diffusion (Comin and Hobijn (2004) and others) (%)</th>\n",
       "    </tr>\n",
       "  </thead>\n",
       "  <tbody>\n",
       "    <tr>\n",
       "      <th>0</th>\n",
       "      <td>Amazon Prime users</td>\n",
       "      <td></td>\n",
       "      <td>2014</td>\n",
       "      <td>11.13</td>\n",
       "    </tr>\n",
       "    <tr>\n",
       "      <th>1</th>\n",
       "      <td>Amazon Prime users</td>\n",
       "      <td></td>\n",
       "      <td>2015</td>\n",
       "      <td>17.09</td>\n",
       "    </tr>\n",
       "    <tr>\n",
       "      <th>2</th>\n",
       "      <td>Amazon Prime users</td>\n",
       "      <td></td>\n",
       "      <td>2016</td>\n",
       "      <td>24.58</td>\n",
       "    </tr>\n",
       "    <tr>\n",
       "      <th>3</th>\n",
       "      <td>Amazon Prime users</td>\n",
       "      <td></td>\n",
       "      <td>2017</td>\n",
       "      <td>32.51</td>\n",
       "    </tr>\n",
       "    <tr>\n",
       "      <th>4</th>\n",
       "      <td>Amazon Prime users</td>\n",
       "      <td></td>\n",
       "      <td>2018</td>\n",
       "      <td>36.58</td>\n",
       "    </tr>\n",
       "  </tbody>\n",
       "</table>\n",
       "</div>"
      ],
      "text/plain": [
       "               Entity  Code   Year  \\\n",
       "0  Amazon Prime users         2014   \n",
       "1  Amazon Prime users         2015   \n",
       "2  Amazon Prime users         2016   \n",
       "3  Amazon Prime users         2017   \n",
       "4  Amazon Prime users         2018   \n",
       "\n",
       "    Technology Diffusion (Comin and Hobijn (2004) and others) (%)  \n",
       "0                                              11.13               \n",
       "1                                              17.09               \n",
       "2                                              24.58               \n",
       "3                                              32.51               \n",
       "4                                              36.58               "
      ]
     },
     "execution_count": 2,
     "metadata": {},
     "output_type": "execute_result"
    }
   ],
   "source": [
    "import pandas as pd\n",
    "\n",
    "df_tech = pd.read_csv('./data/technology-adoption-by-households-in-the-united-states.csv')\n",
    "df_tech.head()"
   ]
  },
  {
   "cell_type": "markdown",
   "metadata": {},
   "source": [
    "当前数据集展示的是从 1860 年到 2019 年美国家庭采用不同技术的百分比，刚刚上面展示的，只是针对汽车，冰箱，炉灶和吸尘器四种技术进行对比，但其实数据集中还有很多种技术。  \n",
    "\n",
    "另外，根据上面显示的内容可知，当前数据集共有4列，下面对每一列进行说明：  \n",
    "\n",
    "✭ Entity 使用的技术  \n",
    "✭ Code 编号(该列目前无用)  \n",
    "✭ Year 年份  \n",
    "✭ Technology Diffusion (Comin and Hobijn (2004) and others) (%) 技术使用的百分比  \n",
    "\n",
    "接下来我们再看一下，在当前数据集中，除了上面提到的汽车，冰箱，炉灶和吸尘器四种技术外，还有哪些技术。  "
   ]
  },
  {
   "cell_type": "code",
   "execution_count": 4,
   "metadata": {},
   "outputs": [
    {
     "data": {
      "text/plain": [
       "array(['Amazon Prime users', 'Automatic transmission', 'Automobile',\n",
       "       'Cable TV', 'Cellular phone', 'Central heating', 'Colour TV',\n",
       "       'Computer', 'Dishwasher', 'Disk brakes', 'Dryer', 'Ebook reader',\n",
       "       'Electric Range', 'Electric power', 'Electricity access',\n",
       "       'Electronic ignition', 'Flush toilet', 'Freezer',\n",
       "       'Home air conditioning', 'Household refrigerator',\n",
       "       'Households with only mobile phones (no landlines)', 'Internet',\n",
       "       'Iron', 'Landline', 'Microcomputer', 'Microwave',\n",
       "       'Nox pollution controls (boilers)', 'Podcasting', 'Power steering',\n",
       "       'RTGS adoption', 'Radial tires', 'Radio', 'Refrigerator',\n",
       "       'Running water', 'Shipping container port infrastructure',\n",
       "       'Smartphone usage', 'Social media usage', 'Stove', 'Tablet',\n",
       "       'Television', 'Vacuum', 'Videocassette recorder', 'Washer',\n",
       "       'Washing machine', 'Water Heater'], dtype=object)"
      ]
     },
     "execution_count": 4,
     "metadata": {},
     "output_type": "execute_result"
    }
   ],
   "source": [
    "import pandas as pd\n",
    "\n",
    "df_tech = pd.read_csv('./data/technology-adoption-by-households-in-the-united-states.csv')\n",
    "# 数据集中包括的技术\n",
    "df_tech.Entity.unique()"
   ]
  },
  {
   "cell_type": "markdown",
   "metadata": {},
   "source": [
    "✭ 数据集中包含的技术不仅仅只有 'Automobile', 'Refrigerator', 'Stove', 'Vacuum' 四个，上面的输出结果中共有 45 种技术，我们可以看看每一个技术的采纳率的发展。  \n",
    "\n",
    "下面我们看一下当前数据集中最小的年份和最大的年份，也就是说要看一个整体数据集中的年份区间。  "
   ]
  },
  {
   "cell_type": "code",
   "execution_count": 6,
   "metadata": {},
   "outputs": [
    {
     "ename": "AttributeError",
     "evalue": "'DataFrame' object has no attribute 'Year'",
     "output_type": "error",
     "traceback": [
      "\u001b[1;31m---------------------------------------------------------------------------\u001b[0m",
      "\u001b[1;31mAttributeError\u001b[0m                            Traceback (most recent call last)",
      "\u001b[1;32m<ipython-input-6-77322769cd79>\u001b[0m in \u001b[0;36m<module>\u001b[1;34m\u001b[0m\n\u001b[0;32m      3\u001b[0m \u001b[0mdf_tech\u001b[0m \u001b[1;33m=\u001b[0m \u001b[0mpd\u001b[0m\u001b[1;33m.\u001b[0m\u001b[0mread_csv\u001b[0m\u001b[1;33m(\u001b[0m\u001b[1;34m'./data/technology-adoption-by-households-in-the-united-states.csv'\u001b[0m\u001b[1;33m)\u001b[0m\u001b[1;33m\u001b[0m\u001b[1;33m\u001b[0m\u001b[0m\n\u001b[0;32m      4\u001b[0m \u001b[1;31m# 数据集中的年度范围\u001b[0m\u001b[1;33m\u001b[0m\u001b[1;33m\u001b[0m\u001b[1;33m\u001b[0m\u001b[0m\n\u001b[1;32m----> 5\u001b[1;33m \u001b[0mdf_tech\u001b[0m\u001b[1;33m.\u001b[0m\u001b[0mYear\u001b[0m\u001b[1;33m.\u001b[0m\u001b[0mmin\u001b[0m\u001b[1;33m(\u001b[0m\u001b[1;33m)\u001b[0m\u001b[1;33m,\u001b[0m \u001b[0mdf_tech\u001b[0m\u001b[1;33m.\u001b[0m\u001b[0mYear\u001b[0m\u001b[1;33m.\u001b[0m\u001b[0mmax\u001b[0m\u001b[1;33m(\u001b[0m\u001b[1;33m)\u001b[0m\u001b[1;33m\u001b[0m\u001b[1;33m\u001b[0m\u001b[0m\n\u001b[0m",
      "\u001b[1;32md:\\program files\\python37\\lib\\site-packages\\pandas\\core\\generic.py\u001b[0m in \u001b[0;36m__getattr__\u001b[1;34m(self, name)\u001b[0m\n\u001b[0;32m   5272\u001b[0m             \u001b[1;32mif\u001b[0m \u001b[0mself\u001b[0m\u001b[1;33m.\u001b[0m\u001b[0m_info_axis\u001b[0m\u001b[1;33m.\u001b[0m\u001b[0m_can_hold_identifiers_and_holds_name\u001b[0m\u001b[1;33m(\u001b[0m\u001b[0mname\u001b[0m\u001b[1;33m)\u001b[0m\u001b[1;33m:\u001b[0m\u001b[1;33m\u001b[0m\u001b[1;33m\u001b[0m\u001b[0m\n\u001b[0;32m   5273\u001b[0m                 \u001b[1;32mreturn\u001b[0m \u001b[0mself\u001b[0m\u001b[1;33m[\u001b[0m\u001b[0mname\u001b[0m\u001b[1;33m]\u001b[0m\u001b[1;33m\u001b[0m\u001b[1;33m\u001b[0m\u001b[0m\n\u001b[1;32m-> 5274\u001b[1;33m             \u001b[1;32mreturn\u001b[0m \u001b[0mobject\u001b[0m\u001b[1;33m.\u001b[0m\u001b[0m__getattribute__\u001b[0m\u001b[1;33m(\u001b[0m\u001b[0mself\u001b[0m\u001b[1;33m,\u001b[0m \u001b[0mname\u001b[0m\u001b[1;33m)\u001b[0m\u001b[1;33m\u001b[0m\u001b[1;33m\u001b[0m\u001b[0m\n\u001b[0m\u001b[0;32m   5275\u001b[0m \u001b[1;33m\u001b[0m\u001b[0m\n\u001b[0;32m   5276\u001b[0m     \u001b[1;32mdef\u001b[0m \u001b[0m__setattr__\u001b[0m\u001b[1;33m(\u001b[0m\u001b[0mself\u001b[0m\u001b[1;33m,\u001b[0m \u001b[0mname\u001b[0m\u001b[1;33m:\u001b[0m \u001b[0mstr\u001b[0m\u001b[1;33m,\u001b[0m \u001b[0mvalue\u001b[0m\u001b[1;33m)\u001b[0m \u001b[1;33m->\u001b[0m \u001b[1;32mNone\u001b[0m\u001b[1;33m:\u001b[0m\u001b[1;33m\u001b[0m\u001b[1;33m\u001b[0m\u001b[0m\n",
      "\u001b[1;31mAttributeError\u001b[0m: 'DataFrame' object has no attribute 'Year'"
     ]
    }
   ],
   "source": [
    "import pandas as pd\n",
    "\n",
    "df_tech = pd.read_csv('./data/technology-adoption-by-households-in-the-united-states.csv')\n",
    "# 数据集中的年度范围\n",
    "df_tech.Year.min(), df_tech.Year.max()"
   ]
  },
  {
   "cell_type": "markdown",
   "metadata": {},
   "source": [
    "✭ 案例中我们只使用了 1930 ～ 1970 年之间的数据，但数据集中的数据的时间跨度会更大，上面的输出结果 (1860, 2019) 表明数据集中的时间跨度为 1860 ～ 2019 年。  \n",
    "理解对数坐标系在折线图中的应⽤  \n",
    "\n",
    "执行下面的脚本，同样还是展示1930 ～ 1970 年之间，'Automobile', 'Refrigerator', 'Stove', 'Vacuum'这四种技术在美国家庭应用的百分比。【鼠标在绘图上移动，可以进行交互】  "
   ]
  },
  {
   "cell_type": "code",
   "execution_count": null,
   "metadata": {},
   "outputs": [],
   "source": [
    "import sys\n",
    "sys.path.append('./data/')\n",
    "\n",
    "from dvfe_02_03 import display_technology_adoption\n",
    "display_technology_adoption()"
   ]
  },
  {
   "cell_type": "markdown",
   "metadata": {},
   "source": [
    "下面大家可以自己定制脚本，查看其他技术的普及程度：  \n",
    "\n",
    "脚本模版：  \n",
    "\n",
    "display_technology_adoption( techs=[''], year_range=(1800, 2020) )  \n",
    "\n",
    "✭ techs: 每次调用脚本最多可以写 5 个科技的名称，名称可以从下面的列表中进行选择：  \n",
    "\n",
    "Amazon Prime users', 'Automatic transmission', 'Automobile', 'Cable TV', 'Cellular phone', 'Central heating', 'Colour TV', 'Computer', 'Dishwasher', 'Disk brakes', 'Dryer', 'Ebook reader', 'Electric Range', 'Electric power', 'Electricity access', 'Electronic ignition', 'Flush toilet', 'Freezer', 'Home air conditioning', 'Household refrigerator', 'Households with only mobile phones (no landlines)', 'Internet', 'Iron', 'Landline', 'Microcomputer', 'Microwave', 'Nox pollution controls (boilers)', 'Podcasting', 'Power steering', 'RTGS adoption', 'Radial tires', 'Radio', 'Refrigerator', 'Running water', 'Shipping container port infrastructure', 'Smartphone usage', 'Social media usage', 'Stove', 'Tablet', 'Television', 'Vacuum', 'Videocassette recorder', 'Washer', 'Washing machine', 'Water Heater'  \n",
    "\n",
    "✭ year_range: 括号中的数字代表起始和截止年份。(start_year, end_year)  \n",
    "\n",
    "下面是一个应用的例子，你可以模仿这个例子，查看其它年份及技术的情况并绘制图表：  "
   ]
  },
  {
   "cell_type": "code",
   "execution_count": 8,
   "metadata": {},
   "outputs": [
    {
     "ename": "ModuleNotFoundError",
     "evalue": "No module named 'dvfe_02_03'",
     "output_type": "error",
     "traceback": [
      "\u001b[1;31m---------------------------------------------------------------------------\u001b[0m",
      "\u001b[1;31mModuleNotFoundError\u001b[0m                       Traceback (most recent call last)",
      "\u001b[1;32m<ipython-input-8-0b3c647570b5>\u001b[0m in \u001b[0;36m<module>\u001b[1;34m\u001b[0m\n\u001b[0;32m      1\u001b[0m \u001b[1;32mimport\u001b[0m \u001b[0msys\u001b[0m\u001b[1;33m\u001b[0m\u001b[1;33m\u001b[0m\u001b[0m\n\u001b[0;32m      2\u001b[0m \u001b[0msys\u001b[0m\u001b[1;33m.\u001b[0m\u001b[0mpath\u001b[0m\u001b[1;33m.\u001b[0m\u001b[0mappend\u001b[0m\u001b[1;33m(\u001b[0m\u001b[1;34m'/data/course_data/visualization'\u001b[0m\u001b[1;33m)\u001b[0m\u001b[1;33m\u001b[0m\u001b[1;33m\u001b[0m\u001b[0m\n\u001b[1;32m----> 3\u001b[1;33m \u001b[1;32mfrom\u001b[0m \u001b[0mdvfe_02_03\u001b[0m \u001b[1;32mimport\u001b[0m \u001b[0mdisplay_technology_adoption\u001b[0m\u001b[1;33m\u001b[0m\u001b[1;33m\u001b[0m\u001b[0m\n\u001b[0m\u001b[0;32m      4\u001b[0m \u001b[1;31m# 选择了三个技术\u001b[0m\u001b[1;33m\u001b[0m\u001b[1;33m\u001b[0m\u001b[1;33m\u001b[0m\u001b[0m\n\u001b[0;32m      5\u001b[0m \u001b[1;31m# 'Landline'          固定电话\u001b[0m\u001b[1;33m\u001b[0m\u001b[1;33m\u001b[0m\u001b[1;33m\u001b[0m\u001b[0m\n",
      "\u001b[1;31mModuleNotFoundError\u001b[0m: No module named 'dvfe_02_03'"
     ]
    }
   ],
   "source": [
    "import sys\n",
    "sys.path.append('./data/')\n",
    "from dvfe_02_03 import display_technology_adoption\n",
    "# 选择了三个技术\n",
    "# 'Landline'          固定电话\n",
    "# 'Microwave'         微波\n",
    "# 'Internet'          互联网\n",
    "# 'Smartphone usage'  智能电话的使用\n",
    "# 选择年限为 1900 ～ 2019\n",
    "display_technology_adoption(\n",
    "    techs=['Landline', 'Microwave', 'Internet', 'Smartphone usage'],\n",
    "    year_range=(1900, 2020)\n",
    ")\n",
    "\n",
    "# 我们可以思考一下，20 世纪 30 年代，美国的固定电话的普及率为什么会有明显的下降？"
   ]
  },
  {
   "cell_type": "markdown",
   "metadata": {},
   "source": [
    "从上面这个案例中，不知道大家会有哪些感悟呢？看下面这张图...\n",
    "![](./picture/6-2.png)\n",
    "从图中可以看到一个非常有意思的逻辑，任何一项技术，都是有生命周期，当它的普及率到达某个极限值的时候，就会催生新的技术创新来替代原有的。例如，固定电话的普及率达到接近 100% 的时候，微波技术开始广泛普及，微波技术的普及又带来了互联网，互联网又带来了智能手机。而且“技术的后浪”出现的越来越快，有一种后浪推着前浪发展的感觉。  \n",
    "\n",
    "战争对技术的普及也有着非常大的影响，在 1940 ～ 1945 年间，民用科技的普及率出现了负增长，尤其是「汽车」在美国家庭里的普及。  \n",
    "\n",
    "✭ 回顾一下二战：第二次世界大战，简称二战，是继一战之后发生的人类史上最大规模的战争。战火燃及欧洲、亚洲、非洲和大洋洲。战争分西、东两大战场，即欧洲北非战场和亚洲太平洋战场。1939年9月1日 至 1945年9月2日，以德国、意大利、日本法西斯等轴心国及保加利亚、匈牙利、罗马尼亚等仆从国为一方，以中国、美国、英国、苏联等反法西斯同盟和全世界反法西斯力量为同盟国进行的第二次全球规模战争。从欧洲到亚洲，从大西洋到太平洋，先后有61个国家和地区、20 亿以上的人口被卷入战争，作战区域面积 2200 万平方千米。据少数统计，战争中军民共伤亡 7000 余万人，4 万多亿美元付诸东流。第二次世界大战最后以美国、苏联、中国、英国、法国等反法西斯国家和世界人民战胜法西斯侵略者赢得世界和平而告终。  \n",
    "\n",
    "经济危机也会对技术的普及产生巨大的影响，引用一段教科书上的话：  \n",
    "\n",
    "✭ 一战结束后，1929年 至 1933年 之间发源于美国的经济危机，并后来波及整个资本主义世界，其中包括美国、英国、法国、德国和日本等资本主义国家的经济危机。这一危机持续时间长、范围广、破坏力强，其根源在于资本主义制度的基本矛盾，也就是生产社会化和资本主义生产资料私有制之间的矛盾。大萧条是现代社会持续时间最长的经济萧条，不仅导致了长期的大规模失业，也改变了社会关系，摧毁了执政政府，帮助纳粹党上台，最终导致了第二次世界大战的爆发。  \n",
    "\n",
    "【案例】我们来看另一个案例，关于新冠病毒 COVID-19 疫情的绘图。  \n",
    "\n",
    "线形图的刻度，有的时候会非常重要。因为，有的时候通过将线性坐标轴切换为对数坐标轴，会更加容易的发现洞察。  \n",
    "\n",
    "如果数据集的数值跨度有好几个数量级，那么使用对数刻度来查看数值会变得更加容易。  \n",
    "\n",
    "我们先来运行下面的脚本，再来回答问题。脚本运行后，大家会看到一个可以交互的绘图：    \n",
    "\n",
    "✭ 可以选择 y 轴的刻度制式，有「线性」和「对数」两个选项；    \n",
    "\n",
    "✭ 将鼠标移动到绘图的折线上，可以看到相应点的详细信息，包括「日期」、「累计病例数」和「国家」信息。  "
   ]
  },
  {
   "cell_type": "code",
   "execution_count": null,
   "metadata": {},
   "outputs": [],
   "source": [
    "import sys\n",
    "sys.path.append('./data/')\n",
    "\n",
    "from dvfe_02_04 import interact_coronavirus_plots\n",
    "interact_coronavirus_plots()"
   ]
  },
  {
   "cell_type": "markdown",
   "metadata": {},
   "source": [
    "如果大家成功的运行了上面的脚本，大家应该会看到这样两个绘图：\n",
    "\n",
    "y 坐标系 - 线性（Linear）坐标系：\n",
    "![](./picture/6-3.png)\n",
    "y 坐标系 - 对数（Log）坐标系：\n",
    "![](./picture/6-4.png)\n",
    "很明显，如果使用线性坐标系的话，在进入三月份之前，我们很难区分数值之间的区别，而对数坐标系则完全不同，我们用肉眼就可以比较轻松的识别数据的差异。  \n",
    "\n",
    "线形图中显示了 COVID-19 新冠状病毒数据的一个子集。我们在视频中提到过，2020 年初的大多数确诊病例都发生在中国大陆。当时，您可能就想知道世界其他地方疫情发展的情况是怎样的，那么交互式绘图中就呈现了中国大陆以外确诊病例最多的六个国家，法国、德国、伊朗、意大利、西班牙和美国。  \n",
    "\n",
    "选择题  \n",
    "请注意，在线性刻度上，每向上移动一条网格线会增加 50,000。在对数刻度尺上，每向上移动一条网格线确诊病例数会乘  以 10。下面问题来了，根据绘图上六个国家的疫情信息，下面哪些说法是正确的？\n",
    "A. 在 2月8日 的时候，除了中国以外，美国（US）的 COVID-19 累积确诊病例是最多的。  \n",
    "B. 在 2月15日，德国（Germany）的 COVID-19 累积确诊病例数比法国（France）要多。  \n",
    "C. 在 3月2日，伊朗（Iran）的 COVID-19 累积确诊病例数少于 1000。  \n",
    "D. 在 3月15日，美国（US）的 COVID-19 累积确诊病例数多于 4000。  \n",
    "E. 在 3月26日，美国（US）的 COVID-19 累积确诊病例数超过了其他五个国家。  \n",
    "答案是B，E\n",
    "前面的 4 个选项使用对数刻度更容易判断它们的正确与否，而第 5 个选项使用线性刻度更容易判断。  \n",
    "## 调整 x 轴的坐标发现数据中的多种关系\n",
    "\n",
    "【案例】在视频中我们留了一个疑问，不一定要在 x 轴上使用日期。我们来继续瑞士少年犯罪的案例。  \n",
    "\n",
    "尽管日期和时间是折线图中 x 轴最常见的变量类型，但其他类型的变量也会使用，而且有的时候会有很好的效果。  \n",
    "\n",
    "在课程视频中，您看到了瑞士少年犯的年龄数据，该数据在 x 轴上显示时间（年），每个年龄段显示一条直线。由于绘图的效果并不十分有利于获得洞察，我们重新尝试一下其他的方法。这次，年龄段在 x 轴上，每个年份绘制一条直线。在下面的短视频的演示，您可以看到两个单独的线簇（蓝色 和 橘黄色），以滑动条选择的年份进行划分，每条线代表罪犯的不同年龄特征。  \n",
    "\n",
    "我们还给大家提供了一个可以直接交互版本的案例，运行下面的脚本，然后发现数据的洞察。  \n",
    "\n",
    "数据来源：Senior Attorney of the Canton of Zurich"
   ]
  },
  {
   "cell_type": "code",
   "execution_count": null,
   "metadata": {},
   "outputs": [],
   "source": [
    "import sys\n",
    "sys.path.append('./data')\n",
    "from dvfe_02_05 import interact_lines_app\n",
    "interact_lines_app()"
   ]
  },
  {
   "cell_type": "code",
   "execution_count": 10,
   "metadata": {},
   "outputs": [
    {
     "data": {
      "text/html": [
       "<div>\n",
       "<style scoped>\n",
       "    .dataframe tbody tr th:only-of-type {\n",
       "        vertical-align: middle;\n",
       "    }\n",
       "\n",
       "    .dataframe tbody tr th {\n",
       "        vertical-align: top;\n",
       "    }\n",
       "\n",
       "    .dataframe thead th {\n",
       "        text-align: right;\n",
       "    }\n",
       "</style>\n",
       "<table border=\"1\" class=\"dataframe\">\n",
       "  <thead>\n",
       "    <tr style=\"text-align: right;\">\n",
       "      <th></th>\n",
       "      <th>Year</th>\n",
       "      <th>age_group</th>\n",
       "      <th>cases</th>\n",
       "    </tr>\n",
       "  </thead>\n",
       "  <tbody>\n",
       "    <tr>\n",
       "      <th>0</th>\n",
       "      <td>2007</td>\n",
       "      <td>10</td>\n",
       "      <td>39</td>\n",
       "    </tr>\n",
       "    <tr>\n",
       "      <th>1</th>\n",
       "      <td>2008</td>\n",
       "      <td>10</td>\n",
       "      <td>34</td>\n",
       "    </tr>\n",
       "    <tr>\n",
       "      <th>2</th>\n",
       "      <td>2009</td>\n",
       "      <td>10</td>\n",
       "      <td>36</td>\n",
       "    </tr>\n",
       "    <tr>\n",
       "      <th>3</th>\n",
       "      <td>2010</td>\n",
       "      <td>10</td>\n",
       "      <td>43</td>\n",
       "    </tr>\n",
       "    <tr>\n",
       "      <th>4</th>\n",
       "      <td>2011</td>\n",
       "      <td>10</td>\n",
       "      <td>30</td>\n",
       "    </tr>\n",
       "    <tr>\n",
       "      <th>...</th>\n",
       "      <td>...</td>\n",
       "      <td>...</td>\n",
       "      <td>...</td>\n",
       "    </tr>\n",
       "    <tr>\n",
       "      <th>112</th>\n",
       "      <td>2015</td>\n",
       "      <td>18+</td>\n",
       "      <td>245</td>\n",
       "    </tr>\n",
       "    <tr>\n",
       "      <th>113</th>\n",
       "      <td>2016</td>\n",
       "      <td>18+</td>\n",
       "      <td>293</td>\n",
       "    </tr>\n",
       "    <tr>\n",
       "      <th>114</th>\n",
       "      <td>2017</td>\n",
       "      <td>18+</td>\n",
       "      <td>251</td>\n",
       "    </tr>\n",
       "    <tr>\n",
       "      <th>115</th>\n",
       "      <td>2018</td>\n",
       "      <td>18+</td>\n",
       "      <td>340</td>\n",
       "    </tr>\n",
       "    <tr>\n",
       "      <th>116</th>\n",
       "      <td>2019</td>\n",
       "      <td>18+</td>\n",
       "      <td>321</td>\n",
       "    </tr>\n",
       "  </tbody>\n",
       "</table>\n",
       "<p>117 rows × 3 columns</p>\n",
       "</div>"
      ],
      "text/plain": [
       "     Year age_group  cases\n",
       "0    2007        10     39\n",
       "1    2008        10     34\n",
       "2    2009        10     36\n",
       "3    2010        10     43\n",
       "4    2011        10     30\n",
       "..    ...       ...    ...\n",
       "112  2015       18+    245\n",
       "113  2016       18+    293\n",
       "114  2017       18+    251\n",
       "115  2018       18+    340\n",
       "116  2019       18+    321\n",
       "\n",
       "[117 rows x 3 columns]"
      ]
     },
     "execution_count": 10,
     "metadata": {},
     "output_type": "execute_result"
    }
   ],
   "source": [
    "import pandas as pd\n",
    "df_cases = pd.read_csv('./data/KANTON-ZUERICH_jugendstrafrechtspflege_alter_strafuntersuchung.csv')\n",
    "df_cases = df_cases.melt(id_vars='Year', var_name='age_group', value_name='cases')\n",
    "df_cases"
   ]
  },
  {
   "cell_type": "markdown",
   "metadata": {},
   "source": [
    "选择题\n",
    "下面问题来了，如果思考少年犯罪在不同年龄分布的整体模式，在哪一年发生了明显的变化？\n",
    "A. 2019\n",
    "B. 2010\n",
    "C. 2011\n",
    "D. 2012\n",
    "\n",
    "不好意思，你答错了，答案是C，还需要加油哦！\n",
    "\n",
    "滑动滑块，查看哪一年会导致一种颜色的线簇可以和另一种颜色的线簇明显的区分开。\n",
    "\n",
    "恭喜，您又学完了一课，希望您在学习中心里留下您的思考和学习笔记。\n",
    "\n"
   ]
  }
 ],
 "metadata": {
  "kernelspec": {
   "display_name": "Python 3",
   "language": "python",
   "name": "python3"
  },
  "language_info": {
   "codemirror_mode": {
    "name": "ipython",
    "version": 3
   },
   "file_extension": ".py",
   "mimetype": "text/x-python",
   "name": "python",
   "nbconvert_exporter": "python",
   "pygments_lexer": "ipython3",
   "version": "3.7.7"
  }
 },
 "nbformat": 4,
 "nbformat_minor": 4
}
