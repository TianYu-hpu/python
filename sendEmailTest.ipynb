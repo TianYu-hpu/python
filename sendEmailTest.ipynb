{
 "cells": [
  {
   "cell_type": "code",
   "execution_count": null,
   "metadata": {},
   "outputs": [],
   "source": [
    "from email import encoders\n",
    "from email.header import Header\n",
    "from email.mime.text import MIMEText\n",
    "from email.utils import parseaddr, formataddr\n",
    "import smtplib\n",
    "\n",
    "def _format_addr(s):\n",
    "    name, addr = parseaddr(s)\n",
    "    return formataddr(( Header(name, 'utf-8').encode(), addr))\n",
    "# 输入Email地址和口令:\n",
    "from_addr = input('请输入发件人的邮箱号码From: ')\n",
    "password = input('请输入发件人的邮箱密码Password: ')\n",
    "# 输入SMTP服务器地址:\n",
    "smtp_server = input('请输入邮箱服务器地址SMTP server: ')\n",
    "# 输入收件人地址:\n",
    "to_addr = input('请输入收件人邮箱地址To: ')\n",
    "\n",
    "content = '''\n",
    "亲爱的学员朋友：\n",
    "    你好！\n",
    "    恭喜大家学习坚持到现在!\n",
    "    开课吧只为赋能人才，小课让学习更轻松！\n",
    "'''\n",
    "\n",
    "msg = MIMEText(content, 'plain', 'utf-8')\n",
    "msg['From'] = _format_addr(u'开课吧 <%s>' % from_addr)\n",
    "msg['To'] = _format_addr(u'管理员 <%s>' % to_addr)\n",
    "msg['Subject'] = Header(u'来自小K的问候……', 'utf-8').encode()\n",
    "\n",
    "server = smtplib.SMTP_SSL(smtp_server, 465)\n",
    "server.set_debuglevel(1)\n",
    "server.login(from_addr, password)\n",
    "server.sendmail(from_addr, [to_addr], msg.as_string())\n",
    "server.quit()"
   ]
  }
 ],
 "metadata": {
  "kernelspec": {
   "display_name": "Python 3",
   "language": "python",
   "name": "python3"
  },
  "language_info": {
   "codemirror_mode": {
    "name": "ipython",
    "version": 3
   },
   "file_extension": ".py",
   "mimetype": "text/x-python",
   "name": "python",
   "nbconvert_exporter": "python",
   "pygments_lexer": "ipython3",
   "version": "3.7.7"
  }
 },
 "nbformat": 4,
 "nbformat_minor": 4
}
