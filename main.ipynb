{
 "cells": [
  {
   "cell_type": "code",
   "execution_count": 5,
   "metadata": {},
   "outputs": [
    {
     "ename": "ModuleNotFoundError",
     "evalue": "No module named 'mytest'",
     "output_type": "error",
     "traceback": [
      "\u001b[1;31m---------------------------------------------------------------------------\u001b[0m",
      "\u001b[1;31mModuleNotFoundError\u001b[0m                       Traceback (most recent call last)",
      "\u001b[1;32m<ipython-input-5-008ebe30562c>\u001b[0m in \u001b[0;36m<module>\u001b[1;34m\u001b[0m\n\u001b[1;32m----> 1\u001b[1;33m \u001b[1;32mimport\u001b[0m \u001b[0mmytest\u001b[0m \u001b[1;31m#导入mytest模块\u001b[0m\u001b[1;33m\u001b[0m\u001b[1;33m\u001b[0m\u001b[0m\n\u001b[0m\u001b[0;32m      2\u001b[0m \u001b[1;33m\u001b[0m\u001b[0m\n\u001b[0;32m      3\u001b[0m '''\n\u001b[0;32m      4\u001b[0m \u001b[1;32mfrom\u001b[0m \u001b[0mmytest\u001b[0m \u001b[1;32mimport\u001b[0m \u001b[0mhello\u001b[0m\u001b[1;33m\u001b[0m\u001b[1;33m\u001b[0m\u001b[0m\n\u001b[0;32m      5\u001b[0m \u001b[1;32mfrom\u001b[0m \u001b[0mmytest\u001b[0m \u001b[1;32mimport\u001b[0m \u001b[0mstrtest\u001b[0m\u001b[1;33m\u001b[0m\u001b[1;33m\u001b[0m\u001b[0m\n",
      "\u001b[1;31mModuleNotFoundError\u001b[0m: No module named 'mytest'"
     ]
    }
   ],
   "source": [
    "import mytest #导入mytest模块\n",
    "\n",
    "'''\n",
    "from mytest import hello\n",
    "from mytest import strtest\n",
    "简写成:\n",
    "from mytest import hello,strtest\n",
    "\n",
    "在讲if __name__ == '__main__'语句之前，先给大家介绍一下”程序的入口”。\n",
    "\n",
    "Python与其他语言一样，程序都要有一个运行入口。当我们运行某个py文件时，\n",
    "就能启动整个程序。那么这个py文件就是程序的入口\n",
    "\n",
    "当然, 以后还会遇到更复杂的情况, 只有一个主模块,引入了其他多个模块。\n",
    "\n",
    "当把mytest.py导入到main.py文件中，在mian.py中加入if __name__ == '__main__': 执行main.py, 程序正常执行。\n",
    "'''\n",
    "\n",
    "print(\"我是a模块\")\n",
    "if __name__ == '__main__':\n",
    "    print(mytest.strtest)  # 打印mytest模块中变量strtest \n",
    "\n",
    "    mytest.hello()  # 运行mytest模块中函数hello()\n",
    "\n",
    "    shaonian = mytest.Test()  # mytest模块中Test类的实例化\n",
    "    print(shaonian.strClass)  # 打印实例属性\n",
    "    shaonian.go()  # 调用实例方法go方法"
   ]
  },
  {
   "cell_type": "code",
   "execution_count": null,
   "metadata": {},
   "outputs": [],
   "source": []
  }
 ],
 "metadata": {
  "kernelspec": {
   "display_name": "Python 3",
   "language": "python",
   "name": "python3"
  },
  "language_info": {
   "codemirror_mode": {
    "name": "ipython",
    "version": 3
   },
   "file_extension": ".py",
   "mimetype": "text/x-python",
   "name": "python",
   "nbconvert_exporter": "python",
   "pygments_lexer": "ipython3",
   "version": "3.7.7"
  }
 },
 "nbformat": 4,
 "nbformat_minor": 4
}
