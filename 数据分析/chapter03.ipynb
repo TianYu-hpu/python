{
 "cells": [
  {
   "cell_type": "code",
   "execution_count": 9,
   "metadata": {},
   "outputs": [
    {
     "name": "stdout",
     "output_type": "stream",
     "text": [
      "['亚瑟' '后裔' '小乔' '哪吒' '虞姬' '王昭君']\n",
      "['001', '002', '003', '004', '005', '006']\n",
      "[('001', '亚瑟'), ('002', '后裔'), ('003', '小乔'), ('004', '哪吒'), ('005', '虞姬'), ('006', '王昭君')]\n",
      "亚瑟\n",
      "索引下标 002    后裔\n",
      "004    哪吒\n",
      "dtype: object\n",
      "索引切片 001    亚瑟\n",
      "002    后裔\n",
      "003    小乔\n",
      "004    哪吒\n",
      "dtype: object\n",
      "亚瑟\n",
      "位置下标 002    后裔\n",
      "004    哪吒\n",
      "dtype: object\n",
      "位置切片 001    亚瑟\n",
      "002    后裔\n",
      "003    小乔\n",
      "dtype: object\n",
      "亚瑟\n",
      "后裔\n",
      "小乔\n",
      "哪吒\n",
      "虞姬\n",
      "王昭君\n",
      "001\n",
      "002\n",
      "003\n",
      "004\n",
      "005\n",
      "006\n",
      "('001', '亚瑟')\n",
      "('002', '后裔')\n",
      "('003', '小乔')\n",
      "('004', '哪吒')\n",
      "('005', '虞姬')\n",
      "('006', '王昭君')\n"
     ]
    }
   ],
   "source": [
    "from pandas import Series\n"
   ]
  }
 ],
 "metadata": {
  "kernelspec": {
   "display_name": "Python 3",
   "language": "python",
   "name": "python3"
  },
  "language_info": {
   "codemirror_mode": {
    "name": "ipython",
    "version": 3
   },
   "file_extension": ".py",
   "mimetype": "text/x-python",
   "name": "python",
   "nbconvert_exporter": "python",
   "pygments_lexer": "ipython3",
   "version": "3.7.7"
  }
 },
 "nbformat": 4,
 "nbformat_minor": 4
}
