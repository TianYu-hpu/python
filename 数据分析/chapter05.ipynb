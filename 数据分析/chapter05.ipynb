{
 "cells": [
  {
   "cell_type": "code",
   "execution_count": 7,
   "metadata": {},
   "outputs": [
    {
     "name": "stdout",
     "output_type": "stream",
     "text": [
      "Index(['Unnamed: 0', '姓名', '年龄', '薪资', '婚姻状况'], dtype='object')\n"
     ]
    }
   ],
   "source": [
    "from pandas import Series,DataFrame\n",
    "import pandas as pd\n",
    "\n",
    "# 使用字典创建\n",
    "index_list = ['001','002','003','004','005','006','007','008','009','010']\n",
    "name_list = ['李白','王昭君','诸葛亮','狄仁杰','孙尚香','妲己','周瑜','张飞','王昭君','大乔']\n",
    "age_list = [25,28,27,25,30,29,25,32,28,26]\n",
    "salary_list = ['10k','12.5k','20k','14k','12k','17k','18k','21k','22k','21.5k']\n",
    "marital_list = ['NO','NO','YES','YES','NO','NO','NO','YES','NO','YES']\n",
    "dic={\n",
    "    '姓名': Series(data=name_list,index=index_list),\n",
    "    '年龄': Series(data=age_list,index=index_list),\n",
    "    '薪资': Series(data=salary_list,index=index_list),\n",
    "    '婚姻状况': Series(data=marital_list,index=index_list)\n",
    "    }\n",
    "df=DataFrame(dic) \n",
    "\n",
    "# 写入csv，path_or_buf为写入文本文件\n",
    "# df.to_csv(path_or_buf='./People_Information.csv', encoding='utf_8_sig')\n",
    "# print('end')\n",
    "\n",
    "dfFromDisk = pd.read_csv(\"./People_Information.csv\")\n",
    "# print(dfFromDisk)\n",
    "# print(dfFromDisk.shape)\n",
    "print(dfFromDisk.columns)\n",
    "# print(dfFromDisk.head())"
   ]
  }
 ],
 "metadata": {
  "kernelspec": {
   "display_name": "Python 3",
   "language": "python",
   "name": "python3"
  },
  "language_info": {
   "codemirror_mode": {
    "name": "ipython",
    "version": 3
   },
   "file_extension": ".py",
   "mimetype": "text/x-python",
   "name": "python",
   "nbconvert_exporter": "python",
   "pygments_lexer": "ipython3",
   "version": "3.7.7"
  }
 },
 "nbformat": 4,
 "nbformat_minor": 4
}
