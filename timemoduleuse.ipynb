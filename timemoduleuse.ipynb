{
 "cells": [
  {
   "cell_type": "code",
   "execution_count": 1,
   "metadata": {},
   "outputs": [
    {
     "name": "stdout",
     "output_type": "stream",
     "text": [
      "当前时间戳为: 1589703755.7960534\n",
      "本地时间为 : time.struct_time(tm_year=2020, tm_mon=5, tm_mday=17, tm_hour=16, tm_min=22, tm_sec=35, tm_wday=6, tm_yday=138, tm_isdst=0)\n",
      "本地时间为 : Sun May 17 16:22:35 2020\n",
      "2020-05-17 16:22:35\n",
      "Sun May 17 16:22:35 2020\n",
      "1459175064.0\n"
     ]
    }
   ],
   "source": [
    "import time;  # 引入time模块\n",
    " \n",
    "ticks = time.time() #时间戳   每个时间戳都以自从1970年1月1日午夜（历元）经过了多长时间来表示。\n",
    "print (\"当前时间戳为:\", ticks)\n",
    "\n",
    "localtime = time.localtime(time.time()) #本地时间  从返回浮点数的时间戳方式向时间元组转换，只要将浮点数传递给如localtime之类的函数。\n",
    "print (\"本地时间为 :\", localtime)\n",
    "\n",
    "localtime = time.asctime( time.localtime(time.time()) ) #根据需求选取时间格式\n",
    "print (\"本地时间为 :\", localtime)\n",
    "\n",
    "print (time.strftime(\"%Y-%m-%d %H:%M:%S\", time.localtime()) )# 格式化成2016-03-20 11:45:39形式\n",
    " \n",
    "print (time.strftime(\"%a %b %d %H:%M:%S %Y\", time.localtime()) )# 格式化成Sat Mar 28 22:24:24 2016形式\n",
    "  \n",
    "a = \"Sat Mar 28 22:24:24 2016\"\n",
    "print (time.mktime(time.strptime(a,\"%a %b %d %H:%M:%S %Y\")))# 将格式字符串转换为时间戳"
   ]
  }
 ],
 "metadata": {
  "kernelspec": {
   "display_name": "Python 3",
   "language": "python",
   "name": "python3"
  },
  "language_info": {
   "codemirror_mode": {
    "name": "ipython",
    "version": 3
   },
   "file_extension": ".py",
   "mimetype": "text/x-python",
   "name": "python",
   "nbconvert_exporter": "python",
   "pygments_lexer": "ipython3",
   "version": "3.7.7"
  }
 },
 "nbformat": 4,
 "nbformat_minor": 4
}
