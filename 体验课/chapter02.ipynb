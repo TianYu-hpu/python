{
 "cells": [
  {
   "cell_type": "markdown",
   "metadata": {},
   "source": [
    "# 第一节课知识点小结\n",
    "![第一节课知识点小结](./picture/2-1.jpg)\n",
    "大家是否还记得《美国队长2》剧情中的“洞察计划”：通过一个人过去的行为，包括说过的话，看过的书，听过的音乐，看过的电影，参加的社团，发表、点赞、转发的微博，发送的电子邮件，每一通电话、每一条短信，活动圈子，职业属性，教育经历，医疗情况，血型星座等，来对这个人的未来进行预测。    \n",
    "这些电影中收集的信息、概念都可在Python江湖中对应。比如：电子邮件中的文字内容，点赞微博的数字量、血型星座中的表情符号在Python江湖中就是数据。    \n",
    "数据五花八门，各式各样，颜面都不一样。只有记清它们的颜面，了解它们的擅长专属， 才能一起探究美国队长的洞察计划    \n",
    "![python中的数据](./picture/2-2.jpg)\n",
    "今天要讲的主要内容就是美国队长洞察计划中的数据，完成与AI的对话。让小K带着大家一起探究美国队长的洞察计划。    \n",
    "# 美国队长的洞察计划\n",
    "## 数据类型\n",
    "在Python江湖里，常用的数据类型有三种，字符串，整数，浮点数    \n",
    "### 字符串\n",
    "首先， 我们来看一下“黄袍加身”的字符串， 字符串英文名string，简称str。 其实， 在上一关初入江湖的时候， 你已经用过它了，看面庞很熟悉。    \n",
    "代码片段    \n",
    "```\n",
    "name='哪吒'\n",
    "print(\"Let's go go go\")\n",
    "```\n",
    "是不是很熟悉? 你猜对了，穿上单引号、双引号、三引号黄袍的内容就是字符串，无论引号里面内容是中文、英文、法文、数字、符号、甚至是火星文。\n",
    "在上面代码里 '哪吒' ，\"Let's go go go\" 都属于字符串类型。    \n",
    "下面, 请观察一下左边代码, 然后点击运行按钮, 跟小K 一起体验字符串的应用。    \n",
    "\n"
   ]
  },
  {
   "cell_type": "code",
   "execution_count": 3,
   "metadata": {},
   "outputs": [
    {
     "name": "stdout",
     "output_type": "stream",
     "text": [
      "美国队长2\n",
      "The Winter Soldier\n",
      "7.14\n",
      "≡(▔﹏▔)≡\n"
     ]
    }
   ],
   "source": [
    "movie = '美国队长2'\n",
    "name = 'The Winter Soldier'\n",
    "price = \"7.14\"\n",
    "word = '''≡(▔﹏▔)≡'''\n",
    "print(movie)\n",
    "print(name)\n",
    "print(price)\n",
    "print(word)"
   ]
  },
  {
   "cell_type": "markdown",
   "metadata": {},
   "source": [
    "感觉怎么样? 字符串是不是很简单。    \n",
    "字符串, 江湖行话, 就是由一个个字符连接起来的组合, 你平时所见的字母、数字、汉字、符号都是字符。 字符串可以用来表示词、语句、甚至是数学公式。    \n",
    "下面，小K带你去探究美国队长洞察计划中字符串的用法。请你来试一试，输出下面代码框中的内容，具体文本可以直接复制。【江湖秘籍：记得用引号括住，创建字符串；将字符串赋值给变量；使用print（）函数打印。】    \n",
    "我们强者就该无所畏惧。    \n",
    "那你为什么要跑？    "
   ]
  },
  {
   "cell_type": "code",
   "execution_count": 5,
   "metadata": {},
   "outputs": [
    {
     "name": "stdout",
     "output_type": "stream",
     "text": [
      "\n",
      "我们强者就该无所畏惧。\n",
      "那你为什么要跑？\n",
      "\n"
     ]
    }
   ],
   "source": [
    "secret = '''\n",
    "我们强者就该无所畏惧。\n",
    "那你为什么要跑？\n",
    "'''\n",
    "print(secret)"
   ]
  },
  {
   "cell_type": "code",
   "execution_count": 7,
   "metadata": {},
   "outputs": [
    {
     "name": "stdout",
     "output_type": "stream",
     "text": [
      "我们强者就该无所畏惧。\n",
      "那你为什么要跑？\n"
     ]
    }
   ],
   "source": [
    "say = '我们强者就该无所畏惧。'\n",
    "print(say)\n",
    "say1 = '那你为什么要跑？'\n",
    "print(say1)"
   ]
  },
  {
   "cell_type": "markdown",
   "metadata": {},
   "source": [
    "江湖秘籍：字符串类型必须有引号。字符串没有引号，就会向你吐槽的。    \n",
    "下面，我们来总结一下字符串小结。  \n",
    "![字符串小结](./picture/2-3.png)\n",
    "### 整数\n",
    "是时候，脱去黄马甲了，某些数据脱去黄马甲， 也照样能打印出来。比如上一关的print(1314)    \n",
    "这就是我们常见的数据类型第二种：整数， 英文为integer， 简称int。 Python江湖的整数和我们现实数学中定义的一样：整数是正整数、零和负整数的统称。说白了，就是没有小数点的数字。    \n",
    "在下面代码中，所有变量的内容都是整数。    \n",
    "代码片段\n",
    "```\n",
    "age = 18 \n",
    "height = 192 \n",
    "\n",
    "weight = 80\n",
    "```\n",
    "选择题\n",
    "现在，我们趁热打铁，请问以下三个数据 “hello world” 36 “72” 的数据类型分别为：    \n",
    "A：字符串 整数 字符串    \n",
    "B：字符串 整数 整数    \n",
    "C：文字 数字 英文    \n",
    "恭喜你答对了，选A。 由引号括起来的“hello world” “72”是字符串，无引号的36才是整数。    \n",
    "整数就是一个不带小数点的数字，还不能穿黄马甲。直接用print()函数打印。 比如如下代码:    \n",
    "编程题    "
   ]
  },
  {
   "cell_type": "code",
   "execution_count": 9,
   "metadata": {},
   "outputs": [
    {
     "name": "stdout",
     "output_type": "stream",
     "text": [
      "521\n"
     ]
    }
   ],
   "source": [
    "# 打印整数\n",
    "print(521)"
   ]
  },
  {
   "cell_type": "markdown",
   "metadata": {},
   "source": [
    "整数和字符串不一样，它不能穿黄马甲，只能独自玩耍，一旦遇到其他文字、字母、符号立马会吐槽。    \n",
    "就像运行下面代码这样会报错：NameError: name '老铁666' is not defined    \n",
    "编程题"
   ]
  },
  {
   "cell_type": "code",
   "execution_count": 11,
   "metadata": {},
   "outputs": [
    {
     "name": "stdout",
     "output_type": "stream",
     "text": [
      "老铁666\n"
     ]
    }
   ],
   "source": [
    "num=\"老铁666\"\n",
    "print(num)"
   ]
  },
  {
   "cell_type": "markdown",
   "metadata": {},
   "source": [
    "![整数知识点](./picture/2-4.jpg)\n",
    "### 浮点数\n",
    "整数是不带小数点的纯数字，那么带小数点的纯数字怎么表示呢？Python江湖中，将带有小数点的纯数字定义为浮点数。 它是我们从常见的数据类型之一。    \n",
    "浮点数是显而易见的，它比整数多了一个小数点【.】，下列代码中的数字都是浮点数。    \n",
    "代码片段    \n",
    "```\n",
    "3.1415926\n",
    "95.27\n",
    "999.00\n",
    "```\n",
    "浮点数，英文称为float。只是浮点型没有简写形式。   \n",
    "浮点数虽说比整数多一个小数点，但是它存在一个bug。因为浮点数的特点，导致它在计算机内运算时，结果不是那么精确，会有四舍五入的差。这是什么意思呢？    \n",
    "下面，请你先口算一下【0.35+0.11】的结果？    \n",
    "然后我们使用Python程序运行一下， 请点击下面运行按钮，并阅读答案：    \n",
    "编程题    "
   ]
  },
  {
   "cell_type": "code",
   "execution_count": 14,
   "metadata": {},
   "outputs": [
    {
     "name": "stdout",
     "output_type": "stream",
     "text": [
      "0.45999999999999996\n"
     ]
    }
   ],
   "source": [
    "print(0.35+0.11)"
   ]
  },
  {
   "cell_type": "markdown",
   "metadata": {},
   "source": [
    "呀？ 怎么不是0.46呢，而是一个比0.46小的数字？ 这是因为Python计算浮点数时，会把0.35与0.11转换成二进制数 【江湖秘籍：二进制数由0和1表示，逢2进1】    \n",
    "### 二进制转换\n",
    "```\n",
    "0.35（十进制） = 0.010110011001100110011001100110011001100110011001100111（二进制）\n",
    "0.11（十进制）= 0.00011100001010001111010111000010100011110101110000101001（二进制）\n",
    "```\n",
    "在这个十进制转换二进制过程中，产生了误差，这样就造成了我们与结果的误差。    \n",
    "然后，这两个二进制数字相加后，在将得到的二进制结果转换成十进制小数。    \n",
    "不过对于浮点数， 你不要方，在前期我们很少会涉及浮点数运算。在后期的基础课，小K带你接触更多的相关知识，加深对浮点数的理解。    \n",
    "下面我们来回顾一下浮点数的主要内容。    \n",
    "![浮点数知识点](./picture/2-5.jpg)\n",
    "![数据类型](./picture/2-6.jpg)\n",
    "选择题    \n",
    "请问以下数据【88】、【-3】、【‘99’】的数据类型分别为：    \n",
    "A：整数、小数、字符串    \n",
    "B：整数、整数、字符串    \n",
    "C：整数、浮点数、整数    \n",
    "恭喜你答对了，选B。88是正整数属于整数，-3是负整数属于整数 '99'有引号属于字符串。    \n",
    "### 四则运算\n",
    "Python江湖中的整数、浮点数和数学上的整数、小数是一样的，它最重要的作用是结合运算符号进行数学计算。 接下来我们看一下Python如何利用整数、浮点数进行四则运算。    \n",
    "Python江湖中的四则运算，法则和数学上的一致，符号有点差别。    \n",
    "首先，我们看一看Python江湖的运算符    \n",
    "![Python算数运算符](./picture/2-7.jpg)\n",
    "还是加减乘除，但是乘与除的符号变了哦。    \n",
    "江湖秘籍：先把这张图存下来，放到储物袋里，等需要用到放大招的时候，再拿出来看看。    \n",
    "有了四则运算，再说一下Python江湖里的运算优先级。    \n",
    "啥叫优先级呢？    \n",
    "先算乘除，再算加减，有括号的先算括号里的，从左往右。这不和数学上的运算一样一样一样的嘛。    \n",
    "![简单运算优先级口诀](./picture/2-8.jpg)"
   ]
  },
  {
   "cell_type": "code",
   "execution_count": 16,
   "metadata": {},
   "outputs": [
    {
     "name": "stdout",
     "output_type": "stream",
     "text": [
      "50849.44\n",
      "7793\n"
     ]
    }
   ],
   "source": [
    "print(999.99*56-103*50)\n",
    "print((55+22)*99+(38-21)*10)"
   ]
  },
  {
   "cell_type": "markdown",
   "metadata": {},
   "source": [
    "我们看一下print((55+22)*99+(38-21)*10)的运算顺序：    \n",
    "第一步计算55+22 =77; 第二步计算77*99= 7623; 第三步计算38-21=17; 第四步计算17*10 =170 ; 第五步计算7623+170 = 7793 。   \n",
    "好复杂的运算啊，算的有点慢。算的有点慢，就把这个工作交给Python干呀。省下的时间就可以风花雪月了。    \n",
    "选择题    \n",
    "那么，按照这个运算法则，请问以下代码的计算顺序是什么？print（（55-22）*3 -99/9）    \n",
    "A： （55-22） 上一步结果*3 上一步结果-99上一步结果除9    \n",
    "B：（55-22） 上一步结果*3乘法结果-99/9除法结果    \n",
    "C：(55-22） 3-99 上一步结果/9 减法的结果*除法的结果    \n",
    "恭喜你答对了，选B。 按照运算法则，先算括号，再算乘除，最后加减，自左至右。    \n",
    "好了，我们已经在掌握了洞察计划中的四则运算了。下面，我们来探究一下，如何在Python江湖中将不同的词语内容组成一句话。   \n",
    "字符串的拼接    \n",
    "例如，小K这里有几个零碎的词语，也就是变量。然后组合成一句话，‘美国队长取材于漫威漫画‘，在Python江湖中，你要如何实现呢？    \n",
    "代码片段    \n",
    "```\n",
    "hero = '美国队长'\n",
    "title = '漫威漫画'\n",
    "action = '来自于' \n",
    "```\n",
    "#输出 美国队长来自于漫威漫画    \n",
    "这就涉及到了我们下一个知识点—字符串拼接。    \n",
    "字符串拼接的方法简单的很， 就是利用字符串拼接符号【+】，将需要拼接的变量连接在一起。    \n",
    "比如上面的例子，我可以如何写。    "
   ]
  },
  {
   "cell_type": "code",
   "execution_count": 18,
   "metadata": {},
   "outputs": [
    {
     "name": "stdout",
     "output_type": "stream",
     "text": [
      "美国队长取材于漫威漫画\n"
     ]
    }
   ],
   "source": [
    "hero = '美国队长'\n",
    "title = '漫威漫画'\n",
    "action = '取材于'\n",
    "print(hero+action+title)"
   ]
  },
  {
   "cell_type": "markdown",
   "metadata": {},
   "source": [
    "有了拼接符号, 我们就可以拼接我们想要的内容.’ 美国队长取材于漫威漫画’. 当然我们还可以调整拼接顺序, 输出不同内容.    \n",
    "下面我们就来试一下，如何打印出 '美国队长于漫威漫画编写'    "
   ]
  },
  {
   "cell_type": "code",
   "execution_count": 20,
   "metadata": {},
   "outputs": [
    {
     "name": "stdout",
     "output_type": "stream",
     "text": [
      "美国队长于漫威漫画编写\n"
     ]
    }
   ],
   "source": [
    "hero = '美国队长'\n",
    "title = '漫威漫画'\n",
    "action = '编写'\n",
    "place= '于'\n",
    "print(hero+place+title+action)"
   ]
  },
  {
   "cell_type": "markdown",
   "metadata": {},
   "source": [
    "学会了字符串拼接,就能让我们整合数据更加灵活, 组合出我们想要的任意内容。    \n",
    "这就是我们所学的字符串拼接。    \n",
    "![数据拼接](./picture/2-9.jpg)\n",
    "好了，现在你已经是探究洞察计划里面的大神了。 那么如何在Python江湖中玩的更6呢。 下面我们就要学会施展法术，输出 '美国队长2'。    \n"
   ]
  },
  {
   "cell_type": "code",
   "execution_count": 22,
   "metadata": {},
   "outputs": [
    {
     "name": "stdout",
     "output_type": "stream",
     "text": [
      "美国队长2\n"
     ]
    }
   ],
   "source": [
    "name = '美国队长'\n",
    "num = '2'\n",
    "print(name+num)"
   ]
  },
  {
   "cell_type": "markdown",
   "metadata": {},
   "source": [
    "理想很丰满，现实很骨感。 又向我们吐槽了。 江湖秘籍:只有字符串与字符串才能拼接。   \n",
    "到底是那里不对呢？你会发现num=2中的2没有引号，也就是说num不是字符串，而是一个整数。    \n",
    "就是它，出不来结果，就是num的锅。    \n",
    "那么问题来了，当我们探查洞察计划中更多的数据时怎么办？ 总不能通过肉眼一个一个去看呀。    \n",
    "这一点，Python已经给我写好了，它抛给我们一个月光宝盒。 能够帮助我们来查询不确定数据的类型。 这个月光宝盒是一个函数，叫做type()函数 。\n",
    "数据类型的查询—type()函数    \n",
    "这个type()函数应该如何使用呢？ So easy，只需要把查询的内容放进括号里就得了。    \n",
    "![type()函数](./picture/2-10.jpg)\n",
    "只要你把内容写在括号里，type()函数会自动查询它的类型。    "
   ]
  },
  {
   "cell_type": "code",
   "execution_count": 24,
   "metadata": {},
   "outputs": [
    {
     "name": "stdout",
     "output_type": "stream",
     "text": [
      "<class 'str'>\n",
      "<class 'int'>\n"
     ]
    }
   ],
   "source": [
    "name = '美国队长'\n",
    "num = 2\n",
    "print(type(name))\n",
    "print(type(num))"
   ]
  },
  {
   "cell_type": "markdown",
   "metadata": {},
   "source": [
    "name = '美国队长' 查询的结果是< class 'str'>, 属于字符串类型。    \n",
    "num = 2 查询的结果是< class 'int'>, 属于整数类型。    \n",
    "在月光宝盒type()函数的帮助下, 我们可以一一识别洞察计划中各类数据的类型。    \n",
    "貌似到现在, 我们的问题还没有解决啊, 我们还是没有将name = '美国队长'与num = 2拼成'美国队长2'啊.    \n",
    "为什么一个字符串类型的变量与一个数字类型的变量不能连接起来呢? 就是他俩不是一类人。    \n",
    "打个比方，美女配英雄。 总不能美女配野兽啊。 美女和野兽聊不起天啊。    \n",
    "但是, 你现在非得让美女配野兽, 怎么办? 怎么才能把两个不同类型的数据拼在一起?    \n",
    "这就涉及到了这堂课的最后一个知识点: 数据转换。    \n",
    "### 数据转换\n",
    "数据转换的方法有3个: str() ，int()，float()    \n",
    "下面我们先来看一下str()函数。    \n",
    "### Str()函数\n",
    "Str()函数可以帮助我们解决刚才问题，它可以将其他类型的数据变换成str类型。    \n",
    "![数据类型转换方法](./picture/2-11.jpg)\n",
    "Str()函数， 不管你之前属于啥类型。 只要到了我的地盘，就得听我的，我就把任何数据都转成字符串类型。    \n",
    "下面，运行一下左边代码，看如何完成字符串拼接。    "
   ]
  },
  {
   "cell_type": "code",
   "execution_count": 26,
   "metadata": {},
   "outputs": [
    {
     "name": "stdout",
     "output_type": "stream",
     "text": [
      "美国队长2\n"
     ]
    }
   ],
   "source": [
    "name = '美国队长'\n",
    "num = 2\n",
    "print(name+str(num))"
   ]
  },
  {
   "cell_type": "markdown",
   "metadata": {},
   "source": [
    "选择题    \n",
    "请问, 下面选项的代码, 运行后, 哪一句会报错？    \n",
    "A：print(9+6+5)    \n",
    "B：print('Python'+'江湖')    \n",
    "C：print('小女今年'+18)    \n",
    "恭喜你答对了，选C。18是int类型，与字符串类型拼接肯定报错。    \n",
    "下面, 我们总结一下str()函数    \n",
    "![数据类型转换方法](./picture/2-12.jpg)\n",
    "既然整数类型能够转换成字符串类型,那字符串类型能转换为整数吗?    \n",
    "那必须的啊。    \n",
    "### int()函数\n",
    "![int函数转换](./picture/2-13.jpg)\n",
    "int()函数可以将其他类型的数据转换成整数类型，像str()一样，你只需要将转换的数据放进int()中。    \n",
    "下面，我们来试验一下，请补全代码，计算num1与num2的和。    \n"
   ]
  },
  {
   "cell_type": "code",
   "execution_count": 27,
   "metadata": {},
   "outputs": [
    {
     "name": "stdout",
     "output_type": "stream",
     "text": [
      "3\n",
      "6\n"
     ]
    }
   ],
   "source": [
    "num1 = '3'\n",
    "num2 = '6'\n",
    "\n",
    "print(int(num1))\n",
    "print(int(num2))"
   ]
  },
  {
   "cell_type": "markdown",
   "metadata": {},
   "source": [
    "不过对于int()函数的使用，大家要注意一点: 只有字符串中的内容是纯数字时，才能够使用int()函数进行强制转换。    \n",
    "对于文字、英文、火星文都不能使用int（）进行转换。    \n",
    "浮点数形式的字符串也是不能使用int()强制转换的。    \n",
    "比如下方代码，如果点击运行就会报错。【ValueError: invalid literal for int() with base 10: '9.9'】    \n",
    "江湖秘籍: 浮点类型的字符串是无法使用int()进行数据转换的。    \n",
    "代码片段\n",
    "```\n",
    "print(int('9.9'))\n",
    "```\n",
    "运行后结果：ValueError：invalid literal for int() with base 10: '9.9'    \n",
    "这是不是就说浮点数不能转换成整数类型了?    \n",
    "不, 虽然浮点形式的字符串不能使用int()函数转换, 但是浮点数是可以使用int()函数来转换的。   \n",
    "选择题    \n",
    "请找出下列选项中, int()不能转换为整数的数据 。    \n",
    "A：‘2019’    \n",
    "B：99.99    \n",
    "C：’38.56’    \n",
    "恭喜你答对了，选C。 C项 '38.56'是字符串形式的浮点数，int()会报错的。    \n",
    "最后, 小结一下int()函数使用    \n",
    "![int()函数使用小结](./picture/2-14.jpg)\n",
    "可是, 如果我想把字符串形式的浮点数’38.56’转换成浮点数怎么办?    \n",
    "有法子, 这就涉及到我们最后一个知识点—float()函数 。    \n",
    "float()函数    \n",
    "![float()函数](./picture/2-15.jpg)\n",
    "float()函数的使用和str()、int()的方法一致。也是将需要转换的数据放在括号里。    \n",
    "float()函数可以将整数和字符串转换成浮点数类型，但前提是，这个字符串中的内容一定是数字形式。    \n",
    "经过str()与int()的探究, float()是不是更好懂一些?    \n",
    "下面, 让我们敲段代码来试试， 请补齐代码， 将下面所有变量转换为浮点类型,并打印。    "
   ]
  },
  {
   "cell_type": "code",
   "execution_count": 28,
   "metadata": {},
   "outputs": [
    {
     "name": "stdout",
     "output_type": "stream",
     "text": [
      "198.2\n",
      "97.0\n",
      "30.0\n"
     ]
    }
   ],
   "source": [
    "height = 198.2\n",
    "weight = 97\n",
    "age = '30'\n",
    "\n",
    "print(float(height))\n",
    "print(float(weight))\n",
    "print(float(age))"
   ]
  },
  {
   "cell_type": "markdown",
   "metadata": {},
   "source": [
    "![数据转换总结](./picture/2-16.jpg)\n",
    "怎么样? 掌握了数据类型、数据拼接、数据转换的你, 已经可以加入到美国队长的团队, 一起探究洞察计划中的数据了。    \n",
    "最后,让我们总结一下这关你都学到了什么   \n",
    "![总结](./picture/2-17.jpg)  \n",
    "## 练习\n",
    "题目要求    \n",
    "请运用所给变量，使用str()函数打印两句话。    \n",
    "第一句话：1囚犯：你有什么能力来带我们出去?    \n",
    "第二句话：2 CA：我揍了希特勒200多次。    \n",
    "其中，变量会在【书写代码】提供，请直接【复制粘贴】：    \n",
    "题目讲解    \n",
    "在Python的江湖中，最常用的数据类型有三种：字符串(str)、整数(int)和浮点数(float)。    \n",
    "在数据拼接中，为了将不同的信息进行整合，可以使用拼接符号。但是，如果数据非字符串类型，则无法进行拼接。    \n",
    "此时，我们可以使用数据转换函数str()，将数据转换为字符串类型后，再进行拼接。    \n",
    "书写代码    "
   ]
  },
  {
   "cell_type": "code",
   "execution_count": 30,
   "metadata": {},
   "outputs": [
    {
     "name": "stdout",
     "output_type": "stream",
     "text": [
      "1囚犯:你有什么能力来带我们出去?\n",
      "2CA:我揍了希特勒200多次。\n"
     ]
    }
   ],
   "source": [
    "num1  = 1\n",
    "num2  = 2\n",
    "name1 = \"囚犯\"\n",
    "name2 = \"CA\"\n",
    "word1 = \"你有什么能力来带我们出去?\"\n",
    "word2 = \"我揍了希特勒200多次。\"\n",
    "fuhao1 = \":\"\n",
    "\n",
    "print(str(num1) + name1 + fuhao1 + word1)\n",
    "print(str(num2) + name2 + fuhao1 + word2)"
   ]
  },
  {
   "cell_type": "markdown",
   "metadata": {},
   "source": [
    "### 题目要求\n",
    "请运用所给变量，使用数据转换str()、int()、float()及数据拼接符号+,    \n",
    "打印一句话：美国队长2该片于2014年4月4日在北美与中国同步上映。    \n",
    "其中，变量会在【书写代码】提供，请直接【复制粘贴】：    \n",
    "题目讲解    \n",
    "在数据拼接中，为了将不同的信息进行整合，可以使用拼接符号。但是，如果数据非字符串类型，则无法进行拼接。此时，我们可以使用数据转换函数str()，将数据转换为字符串类型后，再进行拼接。并且针对不同类型的数据，我们需要经历多次转换，最后才能转为字符串类型。（注意，题干给的数字是2.5哦，想想怎么把2.5转化成2））    \n"
   ]
  },
  {
   "cell_type": "code",
   "execution_count": 31,
   "metadata": {},
   "outputs": [
    {
     "name": "stdout",
     "output_type": "stream",
     "text": [
      "美国队长2该片于2014年4月4日在北美与中国同步上映。\n"
     ]
    }
   ],
   "source": [
    "name = \"美国队长\"\n",
    "num = 2\n",
    "word = \"该片于2014年4月4日在北美与中国同步上映。\"\n",
    "\n",
    "print(name + str(num) + word)"
   ]
  },
  {
   "cell_type": "code",
   "execution_count": 1,
   "metadata": {},
   "outputs": [
    {
     "name": "stdout",
     "output_type": "stream",
     "text": [
      "['李雷', '韩梅梅', '180', '3.5']\n",
      "<class 'list'>\n",
      "大黄蜂\n",
      "['擎天柱', '大黄蜂', '救护车', '巨无霸福特', '红蜘蛛']\n",
      "['救护车', '巨无霸福特', '红蜘蛛']\n",
      "['擎天柱', '大黄蜂']\n",
      "['大黄蜂', '救护车']\n",
      "['救护车', '巨无霸福特']\n",
      "lucy\n",
      "['lily', 'lucy']\n",
      "['擎天柱', '大黄蜂', '救护车', '巨无霸福特', '红蜘蛛', '萨克巨人']\n",
      "['擎天柱', '大黄蜂', '巨无霸福特', '红蜘蛛']\n",
      "5\n",
      "5\n",
      "<class 'list'>\n",
      "<class 'dict'>\n",
      "95\n",
      "{'擎天柱': 95, '大黄蜂': 90, '救护车': 86, '红蜘蛛': 80}\n",
      "{'擎天柱': 95, '大黄蜂': 90, '救护车': 86, '红蜘蛛': 80, '巨无霸福特': 50}\n"
     ]
    }
   ],
   "source": [
    "#列表\n",
    "transformers = ['李雷', '韩梅梅', '180', '3.5']\n",
    "print(transformers)\n",
    "print(type(transformers))\n",
    "\n",
    "transformers = ['擎天柱','大黄蜂','救护车']\n",
    "print(transformers[1])\n",
    "\n",
    "transformers = ['擎天柱','大黄蜂','救护车','巨无霸福特','红蜘蛛']\n",
    "\n",
    "#左闭右开区间\n",
    "print(transformers[:])\n",
    "\n",
    "print(transformers[2:])\n",
    "\n",
    "print(transformers[:2])\n",
    "\n",
    "print(transformers[1:3])\n",
    "\n",
    "print(transformers[2:4])\n",
    "\n",
    "names = ['李雷','lily','lucy','韩梅梅']\n",
    "print(names[2])\n",
    "print(names[1:3])\n",
    "\n",
    "transformers = ['擎天柱','大黄蜂','救护车','巨无霸福特','红蜘蛛']\n",
    "\n",
    "transformers.append('萨克巨人')\n",
    "\n",
    "print(transformers)\n",
    "\n",
    "transformers = ['擎天柱','大黄蜂','救护车','巨无霸福特','红蜘蛛']\n",
    "\n",
    "del transformers[2]\n",
    "\n",
    "print(transformers)\n",
    "\n",
    "transformers = ['擎天柱','大黄蜂','救护车','巨无霸福特','红蜘蛛']\n",
    "\n",
    "fc = { '擎天柱': 95 ,'大黄蜂':90 ,'救护车':86, '巨无霸福特':80,'红蜘蛛':80  }\n",
    "\n",
    "print(len(transformers))\n",
    "\n",
    "print(len(fc))\n",
    "\n",
    "print(type(transformers))\n",
    "\n",
    "print(type(fc))\n",
    "\n",
    "fc = { '擎天柱': 95 ,'大黄蜂':90 ,'救护车':86, '巨无霸福特':80,'红蜘蛛':80  }\n",
    "\n",
    "print(fc['擎天柱'])\n",
    "\n",
    "fc = { '擎天柱': 95 ,'大黄蜂':90 ,'救护车':86, '巨无霸福特':80,'红蜘蛛':80  }\n",
    "\n",
    "del fc['巨无霸福特']\n",
    "\n",
    "print(fc)\n",
    "\n",
    "fc['巨无霸福特'] = 50\n",
    "\n",
    "print(fc)"
   ]
  },
  {
   "cell_type": "code",
   "execution_count": 20,
   "metadata": {},
   "outputs": [
    {
     "name": "stdout",
     "output_type": "stream",
     "text": [
      "猛大帅睡了没？\n",
      "铁甲龙睡了没？\n",
      "六面兽睡了没？\n",
      "大力金刚睡了没？\n",
      "救护车睡了没？\n",
      "红色警戒睡了没？\n",
      "大无畏睡了没？\n",
      "飞天虎睡了没？\n",
      "闪电睡了没？\n",
      "冲云霄睡了没？\n",
      "计算王睡了没？\n",
      "求雨鬼睡了没？\n",
      "守护神睡了没？\n",
      "混天豹睡了没？\n",
      "擎天柱睡了没？\n",
      "威震天睡了没？\n",
      "惊破天睡了没？\n",
      "红蜘蛛睡了没？\n",
      "巨无霸福特睡了没？\n",
      "雷霆解救队睡了没？\n",
      "1取钱\n",
      "2取钱\n",
      "3取钱\n",
      "4取钱\n",
      "5取钱\n",
      "6取钱\n",
      "6\n",
      "北京\n",
      "上海\n",
      "广州\n",
      "黄\n",
      "晓\n",
      "明\n",
      "0\n",
      "1\n",
      "2\n",
      "3\n",
      "4\n"
     ]
    }
   ],
   "source": [
    "transformers = ['猛大帅' , '铁甲龙','六面兽', '大力金刚', '救护车','红色警戒', '大无畏', '飞天虎','闪电','冲云霄', '计算王','求雨鬼', '守护神','混天豹', '擎天柱', '威震天','惊破天', '红蜘蛛', '巨无霸福特', '雷霆解救队' ]\n",
    "for i in transformers:\n",
    "    print(i+'睡了没？')\n",
    "    \n",
    "for i in [1,2,3,4,5,6]:\n",
    "    print(str(i)+'取钱')\n",
    "print(i)\n",
    "\n",
    "city  = {'北京':'天安门','上海':'东方明珠','广州':'珠江'}\n",
    "\n",
    "for i in city:\n",
    "    print(i)\n",
    "    \n",
    "name = '黄晓明'\n",
    "for i in name:\n",
    "    print(i)\n",
    "    \n"
   ]
  },
  {
   "cell_type": "code",
   "execution_count": 33,
   "metadata": {},
   "outputs": [
    {
     "name": "stdout",
     "output_type": "stream",
     "text": [
      "0\n",
      "1\n",
      "2\n",
      "3\n",
      "4\n",
      "11\n",
      "12\n",
      "13\n",
      "14\n",
      "11\n",
      "13\n",
      "15\n",
      "17\n",
      "19\n",
      "21\n",
      "23\n",
      "25\n",
      "27\n",
      "29\n",
      "31\n",
      "33\n",
      "35\n",
      "37\n",
      "39\n",
      "41\n",
      "43\n",
      "45\n",
      "47\n",
      "49\n",
      "51\n",
      "53\n",
      "55\n",
      "57\n",
      "59\n",
      "61\n",
      "63\n",
      "65\n",
      "67\n",
      "69\n",
      "71\n",
      "73\n",
      "75\n",
      "77\n",
      "79\n",
      "81\n",
      "83\n",
      "85\n",
      "87\n",
      "89\n",
      "91\n",
      "93\n",
      "95\n",
      "97\n",
      "99\n",
      "天安门\n",
      "东方明珠\n",
      "珠江\n",
      "1\n",
      "2\n",
      "3\n",
      "4\n",
      "5\n",
      "6\n"
     ]
    }
   ],
   "source": [
    "# 请直接运行代码\n",
    "for i in range(5):\n",
    "    print(i)\n",
    "    \n",
    "# 请直接运行代码\n",
    "for i in range(11,15):\n",
    "    print(i)\n",
    "    \n",
    "# 请直接运行代码\n",
    "for i in range(11,100,2):\n",
    "    print(i)\n",
    "city  = {'北京':'天安门','上海':'东方明珠','广州':'珠江'}\n",
    "for i in city:\n",
    "    print(city[i])\n",
    "    \n",
    "    x = 0 \n",
    "while x < 6:\n",
    "    x = x+1\n",
    "    print(x)"
   ]
  },
  {
   "cell_type": "code",
   "execution_count": 39,
   "metadata": {},
   "outputs": [
    {
     "name": "stdout",
     "output_type": "stream",
     "text": [
      "4\n",
      "while循环内\n",
      "1\n",
      "while循环内\n",
      "2\n",
      "while循环内\n",
      "3\n",
      "while循环内\n",
      "4\n",
      "while循环外\n",
      "4\n",
      "1\n",
      "2\n",
      "3\n",
      "5\n",
      "6\n",
      "7\n",
      "8\n",
      "9\n",
      "10\n"
     ]
    }
   ],
   "source": [
    "# 注：这个''代表空字符串\n",
    "# pwd = ''  \n",
    "# while pwd != '520666':\n",
    "#     pwd = input('请输入银行卡密码：')\n",
    "# print('卡内还有999999999999元~')\n",
    "\n",
    "a=0\n",
    "while a<4:\n",
    "    a = a+1\n",
    "print(a)\n",
    "\n",
    "a = 0\n",
    "while a < 4:\n",
    "    a = a + 1\n",
    "    print(\"while循环内\")\n",
    "    print(a)\n",
    "print(\"while循环外\")\n",
    "print(a)\n",
    "\n",
    "for i in range(1,11):\n",
    "    if i!=4:\n",
    "        print(i)\n",
    "        \n",
    "#         height = 0   \n",
    "# while height<170:\n",
    "#     height = int(input('继续输入身高：'))\n",
    "# print('已经找到人去搬水了~')"
   ]
  },
  {
   "cell_type": "code",
   "execution_count": 50,
   "metadata": {},
   "outputs": [
    {
     "name": "stdout",
     "output_type": "stream",
     "text": [
      "True\n",
      "False\n",
      "True\n",
      "False\n",
      "以下数据判断结果都是【真】：\n",
      "True\n",
      "True\n",
      "True\n",
      "以下数据判断结果都是【假】：\n",
      "False\n",
      "False\n",
      "False\n",
      "False\n",
      "以下是and运算\n",
      "False\n",
      "以下是or运算\n",
      "True\n",
      "in 计算\n",
      "True\n",
      "False\n",
      "False\n",
      "1\n",
      "2\n",
      "3\n",
      "4\n",
      "5\n",
      "1\n",
      "2\n",
      "3\n",
      "4\n",
      "5\n",
      "1\n",
      "2\n",
      "3\n",
      "4\n",
      "6\n",
      "7\n",
      "8\n",
      "9\n",
      "10\n",
      "1\n",
      "2\n",
      "3\n",
      "4\n",
      "6\n",
      "7\n",
      "8\n",
      "9\n",
      "10\n"
     ]
    }
   ],
   "source": [
    "print(3<6)\n",
    "print(3>6)\n",
    "print('北京'=='北京')  \n",
    "print('北京'=='首都')\n",
    "\n",
    "import time\n",
    "# time.sleep(1)\n",
    "\n",
    "# 请阅读代码后再直接运行\n",
    "\n",
    "\n",
    "print('以下数据判断结果都是【真】：')\n",
    "print(bool(True))\n",
    "print(bool(10))\n",
    "print(bool('xyz'))\n",
    "\n",
    "print('以下数据判断结果都是【假】：')\n",
    "print(bool(False))\n",
    "print(bool(0))\n",
    "print(bool(''))\n",
    "print(bool(None))\n",
    "\n",
    "# 请先阅读代码，然后直接运行\n",
    "a = 5\n",
    "b = -5\n",
    "\n",
    "print('以下是and运算')\n",
    "if a==5 and b==5:    # 【b实际上是-5】\n",
    "    print('True')\n",
    "else:\n",
    "    print('False')\n",
    "\n",
    "print('以下是or运算')\n",
    "if a==5 or b==5:  # 【b实际上是-5】\n",
    "    print('True')\n",
    "else:\n",
    "    print('False')\n",
    "    \n",
    "    # 请先阅读代码，然后直接运行\n",
    "list = [1,2,3,4]\n",
    "\n",
    "a = 1\n",
    "b = 10\n",
    "c = 0\n",
    "print(\"in 计算\")\n",
    "print(bool(a in list))\n",
    "print(bool(b in list))\n",
    "print(bool(c in list))\n",
    "\n",
    "# 请先阅读代码，然后直接运行\n",
    "for i in range(1,10):\n",
    "    if(i>5):\n",
    "        break\n",
    "    print(i)\n",
    "\n",
    "x = 0\n",
    "while x<10:\n",
    "    if(x>4):\n",
    "        break\n",
    "    x=x+1\n",
    "    print(x)\n",
    "    \n",
    "    # 请先阅读代码，然后直接运行\n",
    "for i in range(1,11):\n",
    "    if i==5:\n",
    "        continue\n",
    "    print(i)\n",
    "\n",
    "x = 0\n",
    "while x<10:\n",
    "    x=x+1\n",
    "    if x==5:\n",
    "        continue\n",
    "    else:   \n",
    "        print(x)"
   ]
  },
  {
   "cell_type": "code",
   "execution_count": 52,
   "metadata": {},
   "outputs": [
    {
     "name": "stdout",
     "output_type": "stream",
     "text": [
      "请输入你的年龄:1\n",
      "你未成年，不得进入网吧\n"
     ]
    }
   ],
   "source": [
    "# 请先阅读代码，然后直接运行\n",
    "age = int(input('请输入你的年龄:'))\n",
    "if age >= 18:\n",
    "    pass\n",
    "else:\n",
    "    print('你未成年，不得进入网吧')"
   ]
  },
  {
   "cell_type": "code",
   "execution_count": 59,
   "metadata": {},
   "outputs": [
    {
     "name": "stdout",
     "output_type": "stream",
     "text": [
      "请输入0结束循环，你有3次机会:0\n",
      "你触发了break语句，导致else语句不会生效。\n",
      "请输入0结束循环，你有3次机会:0\n",
      "你触发了break语句，导致else语句不会生效。\n"
     ]
    }
   ],
   "source": [
    "#else语句不仅能够在if语句中使用，还能够和循环搭配使用\n",
    "for i in range(3):\n",
    "    num = int(input('请输入0结束循环，你有3次机会:'))\n",
    "    if num == 0:\n",
    "        print('你触发了break语句，导致else语句不会生效。')    \n",
    "        break\n",
    "else:\n",
    "    print('3次循环你都错过了，else语句生效了。')\n",
    "    \n",
    "    \n",
    "# 请先阅读代码，然后直接运行\n",
    "num=0\n",
    "while num<3:\n",
    "    n = int(input('请输入0结束循环，你有3次机会:'))\n",
    "    if n == 0:\n",
    "        print('你触发了break语句，导致else语句不会生效。')    \n",
    "        break\n",
    "    num+=1\n",
    "else:\n",
    "    print('3次循环你都错过了，else语句生效了。')"
   ]
  },
  {
   "cell_type": "code",
   "execution_count": 61,
   "metadata": {},
   "outputs": [
    {
     "name": "stdout",
     "output_type": "stream",
     "text": [
      "你们猜猜数字是多少:7\n",
      "正确！给你一个苹果\n"
     ]
    }
   ],
   "source": [
    "num = 7  #设定秘密数字\n",
    "while True:       \n",
    "    guess = int(input('你们猜猜数字是多少:'))   #输入猜测数字\n",
    "    if guess==num:  #数字对比\n",
    "        print('正确！给你一个苹果') \n",
    "        break\n",
    "    elif guess>num:\n",
    "        print('你猜的太大了，重新猜猜~')\n",
    "    else:\n",
    "        print('你猜的太小了，重新猜猜~')"
   ]
  },
  {
   "cell_type": "code",
   "execution_count": 62,
   "metadata": {},
   "outputs": [
    {
     "name": "stdout",
     "output_type": "stream",
     "text": [
      "1\n",
      "2\n",
      "4\n",
      "5\n",
      "7\n",
      "8\n",
      "10\n",
      "11\n",
      "13\n",
      "14\n",
      "16\n",
      "17\n",
      "19\n",
      "20\n"
     ]
    }
   ],
   "source": [
    "for i in range(1,21):\n",
    "    if i%3  == 0:\n",
    "        continue\n",
    "    else:\n",
    "        print(i)"
   ]
  }
 ],
 "metadata": {
  "kernelspec": {
   "display_name": "Python 3",
   "language": "python",
   "name": "python3"
  },
  "language_info": {
   "codemirror_mode": {
    "name": "ipython",
    "version": 3
   },
   "file_extension": ".py",
   "mimetype": "text/x-python",
   "name": "python",
   "nbconvert_exporter": "python",
   "pygments_lexer": "ipython3",
   "version": "3.7.7"
  }
 },
 "nbformat": 4,
 "nbformat_minor": 4
}
